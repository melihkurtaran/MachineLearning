{
  "nbformat": 4,
  "nbformat_minor": 0,
  "metadata": {
    "colab": {
      "provenance": [],
      "authorship_tag": "ABX9TyO1114/4NG6KD14PlhxLSFD",
      "include_colab_link": true
    },
    "kernelspec": {
      "name": "python3",
      "display_name": "Python 3"
    },
    "language_info": {
      "name": "python"
    }
  },
  "cells": [
    {
      "cell_type": "markdown",
      "metadata": {
        "id": "view-in-github",
        "colab_type": "text"
      },
      "source": [
        "<a href=\"https://colab.research.google.com/github/melihkurtaran/MachineLearning/blob/main/InstancebasedLearning/InstancebasedLearning.ipynb\" target=\"_parent\"><img src=\"https://colab.research.google.com/assets/colab-badge.svg\" alt=\"Open In Colab\"/></a>"
      ]
    },
    {
      "cell_type": "markdown",
      "source": [
        "**Instance-based Learning Project**"
      ],
      "metadata": {
        "id": "OQxo35L4d_9E"
      }
    },
    {
      "cell_type": "code",
      "source": [
        "!pip install cvxpy # download cvxpy"
      ],
      "metadata": {
        "colab": {
          "base_uri": "https://localhost:8080/"
        },
        "id": "I2pH4z4jezwj",
        "outputId": "eaa83a7a-2800-4f52-97f2-c85fa60a6aec"
      },
      "execution_count": 1,
      "outputs": [
        {
          "output_type": "stream",
          "name": "stdout",
          "text": [
            "Looking in indexes: https://pypi.org/simple, https://us-python.pkg.dev/colab-wheels/public/simple/\n",
            "Requirement already satisfied: cvxpy in /usr/local/lib/python3.8/dist-packages (1.2.2)\n",
            "Requirement already satisfied: ecos>=2 in /usr/local/lib/python3.8/dist-packages (from cvxpy) (2.0.10)\n",
            "Requirement already satisfied: numpy>=1.15 in /usr/local/lib/python3.8/dist-packages (from cvxpy) (1.21.6)\n",
            "Requirement already satisfied: scs>=1.1.6 in /usr/local/lib/python3.8/dist-packages (from cvxpy) (3.2.2)\n",
            "Requirement already satisfied: scipy>=1.1.0 in /usr/local/lib/python3.8/dist-packages (from cvxpy) (1.7.3)\n",
            "Requirement already satisfied: osqp>=0.4.1 in /usr/local/lib/python3.8/dist-packages (from cvxpy) (0.6.2.post0)\n",
            "Requirement already satisfied: qdldl in /usr/local/lib/python3.8/dist-packages (from osqp>=0.4.1->cvxpy) (0.1.5.post2)\n"
          ]
        }
      ]
    },
    {
      "cell_type": "code",
      "source": [
        "#Import Libraries\n",
        "import numpy as np\n",
        "import pandas as pd\n",
        "from sklearn.svm import SVC\n",
        "import cvxpy as cp"
      ],
      "metadata": {
        "id": "kL3TQO-hldtX"
      },
      "execution_count": 36,
      "outputs": []
    },
    {
      "cell_type": "code",
      "source": [
        "#Connect to GitHub for faster access\n",
        "!git clone https://github.com/melihkurtaran/MachineLearning.git"
      ],
      "metadata": {
        "colab": {
          "base_uri": "https://localhost:8080/"
        },
        "id": "Q3uy616df7q5",
        "outputId": "e56bfd85-a2da-44d1-d894-632c9cb82886"
      },
      "execution_count": 4,
      "outputs": [
        {
          "output_type": "stream",
          "name": "stdout",
          "text": [
            "Cloning into 'MachineLearning'...\n",
            "remote: Enumerating objects: 74, done.\u001b[K\n",
            "remote: Counting objects: 100% (74/74), done.\u001b[K\n",
            "remote: Compressing objects: 100% (58/58), done.\u001b[K\n",
            "remote: Total 74 (delta 35), reused 38 (delta 15), pack-reused 0\u001b[K\n",
            "Unpacking objects: 100% (74/74), done.\n"
          ]
        }
      ]
    },
    {
      "cell_type": "markdown",
      "source": [
        "My group number is 9"
      ],
      "metadata": {
        "id": "wBs5K2V1eF2T"
      }
    },
    {
      "cell_type": "code",
      "source": [
        "#Reading the files\n",
        "\n",
        "#for task 1\n",
        "ds1 = pd.read_csv('MachineLearning/InstanceBasedLearning/ds091.txt', sep=\" \", header=None, index_col=False, skiprows=1)\n",
        "\n",
        "#for task 2\n",
        "ds2 = pd.read_csv('MachineLearning/InstanceBasedLearning/ds092.txt', sep=\" \", header=None, index_col=False, skiprows=1)\n",
        "\n",
        "#for task 3\n",
        "ds3tr = pd.read_csv('MachineLearning/InstanceBasedLearning/ds093tr.txt', sep=\" \", header=None, index_col=False, skiprows=1)\n",
        "ds3te = pd.read_csv('MachineLearning/InstanceBasedLearning/ds093te.txt', sep=\" \", header=None, index_col=False, skiprows=1)"
      ],
      "metadata": {
        "id": "aYh8c01AeTiC"
      },
      "execution_count": 14,
      "outputs": []
    },
    {
      "cell_type": "markdown",
      "source": [
        "# **T1**"
      ],
      "metadata": {
        "id": "kHuX39kJhjht"
      }
    },
    {
      "cell_type": "markdown",
      "source": [
        "## **T1.a**"
      ],
      "metadata": {
        "id": "z5cu0HkLhn0t"
      }
    },
    {
      "cell_type": "code",
      "source": [
        "# Load the training data and labels\n",
        "X = ds1[[0,1]].values\n",
        "y = ds1[2].values"
      ],
      "metadata": {
        "id": "mbiKMrGEjpTU"
      },
      "execution_count": 54,
      "outputs": []
    },
    {
      "cell_type": "code",
      "source": [
        "X"
      ],
      "metadata": {
        "colab": {
          "base_uri": "https://localhost:8080/"
        },
        "id": "qso89qv2sUeV",
        "outputId": "7509eb4c-9dd2-4ef2-aa83-9c45082a4eb8"
      },
      "execution_count": 55,
      "outputs": [
        {
          "output_type": "execute_result",
          "data": {
            "text/plain": [
              "array([[-2.13173871,  0.6750482 ],\n",
              "       [-5.65621146, -0.08527528],\n",
              "       [ 1.35009641,  4.26347742],\n",
              "       [-3.56711039,  2.06778225],\n",
              "       [-0.7816423 ,  4.93852562],\n",
              "       [-4.93852562, -0.7816423 ],\n",
              "       [-2.15305753,  2.08910107],\n",
              "       [-3.54579157,  0.65372939],\n",
              "       [ 0.02131882, -1.41405287],\n",
              "       [ 1.41405287,  0.02131882],\n",
              "       [ 2.82810573,  0.04263764],\n",
              "       [ 4.93852562,  0.7816423 ],\n",
              "       [ 0.71768584, -0.69636702],\n",
              "       [ 2.13173871, -0.6750482 ],\n",
              "       [ 4.2421586 ,  0.06395646],\n",
              "       [ 4.22083978,  1.47800932]])"
            ]
          },
          "metadata": {},
          "execution_count": 55
        }
      ]
    },
    {
      "cell_type": "code",
      "source": [
        "C = 10000\n",
        "\n",
        "# Number of training samples\n",
        "n = X.shape[0]\n",
        "\n",
        "# Compute the Gram matrix\n",
        "K = np.dot(X, X.T)\n",
        "\n",
        "# Create the QP problem variables\n",
        "lambdas = cp.Variable(n)\n",
        "\n",
        "# Create the QP problem constraints\n",
        "constraints = [lambdas >= 0,\n",
        "               lambdas <= C,\n",
        "               y * lambdas == 0]\n",
        "\n",
        "# Create the QP problem objective\n",
        "objective = cp.Minimize(0.5 * cp.quad_form(lambdas, K) - cp.sum(lambdas))\n",
        "\n",
        "# Create the QP problem\n",
        "prob = cp.Problem(objective, constraints)\n",
        "\n",
        "# Solve the QP problem\n",
        "prob.solve()\n",
        "\n",
        "# Get the support vectors\n",
        "support_vectors = X[lambdas.value > 1e-6]\n",
        "\n",
        "# Get the decision function\n",
        "decision_function = np.dot(lambdas.value * y, K[:, lambdas.value > 1e-6])\n"
      ],
      "metadata": {
        "colab": {
          "base_uri": "https://localhost:8080/",
          "height": 1000
        },
        "id": "Erp4Jjl6hrej",
        "outputId": "8ad0bfce-a785-4b80-85d7-2d798eb065b5"
      },
      "execution_count": 57,
      "outputs": [
        {
          "output_type": "stream",
          "name": "stderr",
          "text": [
            "/usr/local/lib/python3.8/dist-packages/cvxpy/expressions/expression.py:593: UserWarning: \n",
            "This use of ``*`` has resulted in matrix multiplication.\n",
            "Using ``*`` for matrix multiplication has been deprecated since CVXPY 1.1.\n",
            "    Use ``*`` for matrix-scalar and vector-scalar multiplication.\n",
            "    Use ``@`` for matrix-matrix and matrix-vector multiplication.\n",
            "    Use ``multiply`` for elementwise multiplication.\n",
            "This code path has been hit 9 times so far.\n",
            "\n",
            "  warnings.warn(msg, UserWarning)\n"
          ]
        },
        {
          "output_type": "error",
          "ename": "DCPError",
          "evalue": "ignored",
          "traceback": [
            "\u001b[0;31m---------------------------------------------------------------------------\u001b[0m",
            "\u001b[0;31mDCPError\u001b[0m                                  Traceback (most recent call last)",
            "\u001b[0;32m<ipython-input-57-cce0c60120c4>\u001b[0m in \u001b[0;36m<module>\u001b[0;34m\u001b[0m\n\u001b[1;32m     22\u001b[0m \u001b[0;34m\u001b[0m\u001b[0m\n\u001b[1;32m     23\u001b[0m \u001b[0;31m# Solve the QP problem\u001b[0m\u001b[0;34m\u001b[0m\u001b[0;34m\u001b[0m\u001b[0;34m\u001b[0m\u001b[0m\n\u001b[0;32m---> 24\u001b[0;31m \u001b[0mprob\u001b[0m\u001b[0;34m.\u001b[0m\u001b[0msolve\u001b[0m\u001b[0;34m(\u001b[0m\u001b[0;34m)\u001b[0m\u001b[0;34m\u001b[0m\u001b[0;34m\u001b[0m\u001b[0m\n\u001b[0m\u001b[1;32m     25\u001b[0m \u001b[0;34m\u001b[0m\u001b[0m\n\u001b[1;32m     26\u001b[0m \u001b[0;31m# Get the support vectors\u001b[0m\u001b[0;34m\u001b[0m\u001b[0;34m\u001b[0m\u001b[0;34m\u001b[0m\u001b[0m\n",
            "\u001b[0;32m/usr/local/lib/python3.8/dist-packages/cvxpy/problems/problem.py\u001b[0m in \u001b[0;36msolve\u001b[0;34m(self, *args, **kwargs)\u001b[0m\n\u001b[1;32m    479\u001b[0m         \u001b[0;32melse\u001b[0m\u001b[0;34m:\u001b[0m\u001b[0;34m\u001b[0m\u001b[0;34m\u001b[0m\u001b[0m\n\u001b[1;32m    480\u001b[0m             \u001b[0msolve_func\u001b[0m \u001b[0;34m=\u001b[0m \u001b[0mProblem\u001b[0m\u001b[0;34m.\u001b[0m\u001b[0m_solve\u001b[0m\u001b[0;34m\u001b[0m\u001b[0;34m\u001b[0m\u001b[0m\n\u001b[0;32m--> 481\u001b[0;31m         \u001b[0;32mreturn\u001b[0m \u001b[0msolve_func\u001b[0m\u001b[0;34m(\u001b[0m\u001b[0mself\u001b[0m\u001b[0;34m,\u001b[0m \u001b[0;34m*\u001b[0m\u001b[0margs\u001b[0m\u001b[0;34m,\u001b[0m \u001b[0;34m**\u001b[0m\u001b[0mkwargs\u001b[0m\u001b[0;34m)\u001b[0m\u001b[0;34m\u001b[0m\u001b[0;34m\u001b[0m\u001b[0m\n\u001b[0m\u001b[1;32m    482\u001b[0m \u001b[0;34m\u001b[0m\u001b[0m\n\u001b[1;32m    483\u001b[0m     \u001b[0;34m@\u001b[0m\u001b[0mclassmethod\u001b[0m\u001b[0;34m\u001b[0m\u001b[0;34m\u001b[0m\u001b[0m\n",
            "\u001b[0;32m/usr/local/lib/python3.8/dist-packages/cvxpy/problems/problem.py\u001b[0m in \u001b[0;36m_solve\u001b[0;34m(self, solver, warm_start, verbose, gp, qcp, requires_grad, enforce_dpp, ignore_dpp, **kwargs)\u001b[0m\n\u001b[1;32m   1005\u001b[0m                 \u001b[0;32mreturn\u001b[0m \u001b[0mself\u001b[0m\u001b[0;34m.\u001b[0m\u001b[0mvalue\u001b[0m\u001b[0;34m\u001b[0m\u001b[0;34m\u001b[0m\u001b[0m\n\u001b[1;32m   1006\u001b[0m \u001b[0;34m\u001b[0m\u001b[0m\n\u001b[0;32m-> 1007\u001b[0;31m         data, solving_chain, inverse_data = self.get_problem_data(\n\u001b[0m\u001b[1;32m   1008\u001b[0m             solver, gp, enforce_dpp, ignore_dpp, verbose)\n\u001b[1;32m   1009\u001b[0m \u001b[0;34m\u001b[0m\u001b[0m\n",
            "\u001b[0;32m/usr/local/lib/python3.8/dist-packages/cvxpy/problems/problem.py\u001b[0m in \u001b[0;36mget_problem_data\u001b[0;34m(self, solver, gp, enforce_dpp, ignore_dpp, verbose)\u001b[0m\n\u001b[1;32m    605\u001b[0m         \u001b[0;32mif\u001b[0m \u001b[0mkey\u001b[0m \u001b[0;34m!=\u001b[0m \u001b[0mself\u001b[0m\u001b[0;34m.\u001b[0m\u001b[0m_cache\u001b[0m\u001b[0;34m.\u001b[0m\u001b[0mkey\u001b[0m\u001b[0;34m:\u001b[0m\u001b[0;34m\u001b[0m\u001b[0;34m\u001b[0m\u001b[0m\n\u001b[1;32m    606\u001b[0m             \u001b[0mself\u001b[0m\u001b[0;34m.\u001b[0m\u001b[0m_cache\u001b[0m\u001b[0;34m.\u001b[0m\u001b[0minvalidate\u001b[0m\u001b[0;34m(\u001b[0m\u001b[0;34m)\u001b[0m\u001b[0;34m\u001b[0m\u001b[0;34m\u001b[0m\u001b[0m\n\u001b[0;32m--> 607\u001b[0;31m             solving_chain = self._construct_chain(\n\u001b[0m\u001b[1;32m    608\u001b[0m                 \u001b[0msolver\u001b[0m\u001b[0;34m=\u001b[0m\u001b[0msolver\u001b[0m\u001b[0;34m,\u001b[0m \u001b[0mgp\u001b[0m\u001b[0;34m=\u001b[0m\u001b[0mgp\u001b[0m\u001b[0;34m,\u001b[0m\u001b[0;34m\u001b[0m\u001b[0;34m\u001b[0m\u001b[0m\n\u001b[1;32m    609\u001b[0m                 \u001b[0menforce_dpp\u001b[0m\u001b[0;34m=\u001b[0m\u001b[0menforce_dpp\u001b[0m\u001b[0;34m,\u001b[0m\u001b[0;34m\u001b[0m\u001b[0;34m\u001b[0m\u001b[0m\n",
            "\u001b[0;32m/usr/local/lib/python3.8/dist-packages/cvxpy/problems/problem.py\u001b[0m in \u001b[0;36m_construct_chain\u001b[0;34m(self, solver, gp, enforce_dpp, ignore_dpp)\u001b[0m\n\u001b[1;32m    843\u001b[0m         \u001b[0mcandidate_solvers\u001b[0m \u001b[0;34m=\u001b[0m \u001b[0mself\u001b[0m\u001b[0;34m.\u001b[0m\u001b[0m_find_candidate_solvers\u001b[0m\u001b[0;34m(\u001b[0m\u001b[0msolver\u001b[0m\u001b[0;34m=\u001b[0m\u001b[0msolver\u001b[0m\u001b[0;34m,\u001b[0m \u001b[0mgp\u001b[0m\u001b[0;34m=\u001b[0m\u001b[0mgp\u001b[0m\u001b[0;34m)\u001b[0m\u001b[0;34m\u001b[0m\u001b[0;34m\u001b[0m\u001b[0m\n\u001b[1;32m    844\u001b[0m         \u001b[0mself\u001b[0m\u001b[0;34m.\u001b[0m\u001b[0m_sort_candidate_solvers\u001b[0m\u001b[0;34m(\u001b[0m\u001b[0mcandidate_solvers\u001b[0m\u001b[0;34m)\u001b[0m\u001b[0;34m\u001b[0m\u001b[0;34m\u001b[0m\u001b[0m\n\u001b[0;32m--> 845\u001b[0;31m         return construct_solving_chain(self, candidate_solvers, gp=gp,\n\u001b[0m\u001b[1;32m    846\u001b[0m                                        \u001b[0menforce_dpp\u001b[0m\u001b[0;34m=\u001b[0m\u001b[0menforce_dpp\u001b[0m\u001b[0;34m,\u001b[0m\u001b[0;34m\u001b[0m\u001b[0;34m\u001b[0m\u001b[0m\n\u001b[1;32m    847\u001b[0m                                        ignore_dpp=ignore_dpp)\n",
            "\u001b[0;32m/usr/local/lib/python3.8/dist-packages/cvxpy/reductions/solvers/solving_chain.py\u001b[0m in \u001b[0;36mconstruct_solving_chain\u001b[0;34m(problem, candidates, gp, enforce_dpp, ignore_dpp)\u001b[0m\n\u001b[1;32m    160\u001b[0m     \u001b[0;32mif\u001b[0m \u001b[0mlen\u001b[0m\u001b[0;34m(\u001b[0m\u001b[0mproblem\u001b[0m\u001b[0;34m.\u001b[0m\u001b[0mvariables\u001b[0m\u001b[0;34m(\u001b[0m\u001b[0;34m)\u001b[0m\u001b[0;34m)\u001b[0m \u001b[0;34m==\u001b[0m \u001b[0;36m0\u001b[0m\u001b[0;34m:\u001b[0m\u001b[0;34m\u001b[0m\u001b[0;34m\u001b[0m\u001b[0m\n\u001b[1;32m    161\u001b[0m         \u001b[0;32mreturn\u001b[0m \u001b[0mSolvingChain\u001b[0m\u001b[0;34m(\u001b[0m\u001b[0mreductions\u001b[0m\u001b[0;34m=\u001b[0m\u001b[0;34m[\u001b[0m\u001b[0mConstantSolver\u001b[0m\u001b[0;34m(\u001b[0m\u001b[0;34m)\u001b[0m\u001b[0;34m]\u001b[0m\u001b[0;34m)\u001b[0m\u001b[0;34m\u001b[0m\u001b[0;34m\u001b[0m\u001b[0m\n\u001b[0;32m--> 162\u001b[0;31m     \u001b[0mreductions\u001b[0m \u001b[0;34m=\u001b[0m \u001b[0m_reductions_for_problem_class\u001b[0m\u001b[0;34m(\u001b[0m\u001b[0mproblem\u001b[0m\u001b[0;34m,\u001b[0m \u001b[0mcandidates\u001b[0m\u001b[0;34m,\u001b[0m \u001b[0mgp\u001b[0m\u001b[0;34m)\u001b[0m\u001b[0;34m\u001b[0m\u001b[0;34m\u001b[0m\u001b[0m\n\u001b[0m\u001b[1;32m    163\u001b[0m \u001b[0;34m\u001b[0m\u001b[0m\n\u001b[1;32m    164\u001b[0m     \u001b[0;31m# Process DPP status of the problem.\u001b[0m\u001b[0;34m\u001b[0m\u001b[0;34m\u001b[0m\u001b[0;34m\u001b[0m\u001b[0m\n",
            "\u001b[0;32m/usr/local/lib/python3.8/dist-packages/cvxpy/reductions/solvers/solving_chain.py\u001b[0m in \u001b[0;36m_reductions_for_problem_class\u001b[0;34m(problem, candidates, gp)\u001b[0m\n\u001b[1;32m     92\u001b[0m             append += (\"\\nHowever, the problem does follow DQCP rules. \"\n\u001b[1;32m     93\u001b[0m                        \"Consider calling solve() with `qcp=True`.\")\n\u001b[0;32m---> 94\u001b[0;31m         raise DCPError(\n\u001b[0m\u001b[1;32m     95\u001b[0m             \"Problem does not follow DCP rules. Specifically:\\n\" + append)\n\u001b[1;32m     96\u001b[0m     \u001b[0;32melif\u001b[0m \u001b[0mgp\u001b[0m \u001b[0;32mand\u001b[0m \u001b[0;32mnot\u001b[0m \u001b[0mproblem\u001b[0m\u001b[0;34m.\u001b[0m\u001b[0mis_dgp\u001b[0m\u001b[0;34m(\u001b[0m\u001b[0;34m)\u001b[0m\u001b[0;34m:\u001b[0m\u001b[0;34m\u001b[0m\u001b[0;34m\u001b[0m\u001b[0m\n",
            "\u001b[0;31mDCPError\u001b[0m: Problem does not follow DCP rules. Specifically:\nThe objective is not DCP. Its following subexpressions are not:\nQuadForm(var218, [[ 5.00000000e+00  1.20000000e+01 -7.69531157e-17  9.00000000e+00\n   5.00000000e+00  1.00000000e+01  6.00000000e+00  8.00000000e+00\n  -1.00000000e+00 -3.00000000e+00 -6.00000000e+00 -1.00000000e+01\n  -2.00000000e+00 -5.00000000e+00 -9.00000000e+00 -8.00000000e+00]\n [ 1.20000000e+01  3.20000000e+01 -8.00000000e+00  2.00000000e+01\n   4.00000000e+00  2.80000000e+01  1.20000000e+01  2.00000000e+01\n   1.89857349e-18 -8.00000000e+00 -1.60000000e+01 -2.80000000e+01\n  -4.00000000e+00 -1.20000000e+01 -2.40000000e+01 -2.40000000e+01]\n [-7.69531157e-17 -8.00000000e+00  2.00000000e+01  4.00000000e+00\n   2.00000000e+01 -1.00000000e+01  6.00000000e+00 -2.00000000e+00\n  -6.00000000e+00  2.00000000e+00  4.00000000e+00  1.00000000e+01\n  -2.00000000e+00  7.69531157e-17  6.00000000e+00  1.20000000e+01]\n [ 9.00000000e+00  2.00000000e+01  4.00000000e+00  1.70000000e+01\n   1.30000000e+01  1.60000000e+01  1.20000000e+01  1.40000000e+01\n  -3.00000000e+00 -5.00000000e+00 -1.00000000e+01 -1.60000000e+01\n  -4.00000000e+00 -9.00000000e+00 -1.50000000e+01 -1.20000000e+01]\n [ 5.00000000e+00  4.00000000e+00  2.00000000e+01  1.30000000e+01\n   2.50000000e+01  7.53625904e-17  1.20000000e+01  6.00000000e+00\n  -7.00000000e+00 -1.00000000e+00 -2.00000000e+00 -7.53625904e-17\n  -4.00000000e+00 -5.00000000e+00 -3.00000000e+00  4.00000000e+00]\n [ 1.00000000e+01  2.80000000e+01 -1.00000000e+01  1.60000000e+01\n   7.53625904e-17  2.50000000e+01  9.00000000e+00  1.70000000e+01\n   1.00000000e+00 -7.00000000e+00 -1.40000000e+01 -2.50000000e+01\n  -3.00000000e+00 -1.00000000e+01 -2.10000000e+01 -2.20000000e+01]\n [ 6.00000000e+00  1.20000000e+01  6.00000000e+00  1.20000000e+01\n   1.20000000e+01  9.00000000e+00  9.00000000e+00  9.00000000e+00\n  -3.00000000e+00 -3.00000000e+00 -6.00000000e+00 -9.00000000e+00\n  -3.00000000e+00 -6.00000000e+00 -9.00000000e+00 -6.00000000e+00]\n [ 8.00000000e+00  2.00000000e+01 -2.00000000e+00  1.40000000e+01\n   6.00000000e+00  1.70000000e+01  9.00000000e+00  1.30000000e+01\n  -1.00000000e+00 -5.00000000e+00 -1.00000000e+01 -1.70000000e+01\n  -3.00000000e+00 -8.00000000e+00 -1.50000000e+01 -1.40000000e+01]\n [-1.00000000e+00  1.89857349e-18 -6.00000000e+00 -3.00000000e+00\n  -7.00000000e+00  1.00000000e+00 -3.00000000e+00 -1.00000000e+00\n   2.00000000e+00 -4.74643372e-19 -2.05732124e-17 -1.00000000e+00\n   1.00000000e+00  1.00000000e+00 -4.73238301e-16 -2.00000000e+00]\n [-3.00000000e+00 -8.00000000e+00  2.00000000e+00 -5.00000000e+00\n  -1.00000000e+00 -7.00000000e+00 -3.00000000e+00 -5.00000000e+00\n  -4.74643372e-19  2.00000000e+00  4.00000000e+00  7.00000000e+00\n   1.00000000e+00  3.00000000e+00  6.00000000e+00  6.00000000e+00]\n [-6.00000000e+00 -1.60000000e+01  4.00000000e+00 -1.00000000e+01\n  -2.00000000e+00 -1.40000000e+01 -6.00000000e+00 -1.00000000e+01\n  -2.05732124e-17  4.00000000e+00  8.00000000e+00  1.40000000e+01\n   2.00000000e+00  6.00000000e+00  1.20000000e+01  1.20000000e+01]\n [-1.00000000e+01 -2.80000000e+01  1.00000000e+01 -1.60000000e+01\n  -7.53625904e-17 -2.50000000e+01 -9.00000000e+00 -1.70000000e+01\n  -1.00000000e+00  7.00000000e+00  1.40000000e+01  2.50000000e+01\n   3.00000000e+00  1.00000000e+01  2.10000000e+01  2.20000000e+01]\n [-2.00000000e+00 -4.00000000e+00 -2.00000000e+00 -4.00000000e+00\n  -4.00000000e+00 -3.00000000e+00 -3.00000000e+00 -3.00000000e+00\n   1.00000000e+00  1.00000000e+00  2.00000000e+00  3.00000000e+00\n   1.00000000e+00  2.00000000e+00  3.00000000e+00  2.00000000e+00]\n [-5.00000000e+00 -1.20000000e+01  7.69531157e-17 -9.00000000e+00\n  -5.00000000e+00 -1.00000000e+01 -6.00000000e+00 -8.00000000e+00\n   1.00000000e+00  3.00000000e+00  6.00000000e+00  1.00000000e+01\n   2.00000000e+00  5.00000000e+00  9.00000000e+00  8.00000000e+00]\n [-9.00000000e+00 -2.40000000e+01  6.00000000e+00 -1.50000000e+01\n  -3.00000000e+00 -2.10000000e+01 -9.00000000e+00 -1.50000000e+01\n  -4.73238301e-16  6.00000000e+00  1.20000000e+01  2.10000000e+01\n   3.00000000e+00  9.00000000e+00  1.80000000e+01  1.80000000e+01]\n [-8.00000000e+00 -2.40000000e+01  1.20000000e+01 -1.20000000e+01\n   4.00000000e+00 -2.20000000e+01 -6.00000000e+00 -1.40000000e+01\n  -2.00000000e+00  6.00000000e+00  1.20000000e+01  2.20000000e+01\n   2.00000000e+00  8.00000000e+00  1.80000000e+01  2.00000000e+01]])"
          ]
        }
      ]
    },
    {
      "cell_type": "code",
      "source": [
        "y"
      ],
      "metadata": {
        "colab": {
          "base_uri": "https://localhost:8080/"
        },
        "id": "hO4Tuv97s-gt",
        "outputId": "63ec08cf-f499-4944-d9f3-5271c6d13dba"
      },
      "execution_count": 58,
      "outputs": [
        {
          "output_type": "execute_result",
          "data": {
            "text/plain": [
              "array([0., 0., 0., 0., 0., 0., 0., 0., 1., 1., 1., 1., 1., 1., 1., 1.])"
            ]
          },
          "metadata": {},
          "execution_count": 58
        }
      ]
    }
  ]
}
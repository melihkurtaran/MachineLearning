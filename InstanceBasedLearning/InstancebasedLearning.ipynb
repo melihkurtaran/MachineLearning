{
  "nbformat": 4,
  "nbformat_minor": 0,
  "metadata": {
    "colab": {
      "provenance": [],
      "authorship_tag": "ABX9TyPh4lms7Pb3al8YuGs8GcNl",
      "include_colab_link": true
    },
    "kernelspec": {
      "name": "python3",
      "display_name": "Python 3"
    },
    "language_info": {
      "name": "python"
    }
  },
  "cells": [
    {
      "cell_type": "markdown",
      "metadata": {
        "id": "view-in-github",
        "colab_type": "text"
      },
      "source": [
        "<a href=\"https://colab.research.google.com/github/melihkurtaran/MachineLearning/blob/main/InstanceBasedLearning/InstancebasedLearning.ipynb\" target=\"_parent\"><img src=\"https://colab.research.google.com/assets/colab-badge.svg\" alt=\"Open In Colab\"/></a>"
      ]
    },
    {
      "cell_type": "markdown",
      "source": [
        "**Instance-based Learning Project**"
      ],
      "metadata": {
        "id": "OQxo35L4d_9E"
      }
    },
    {
      "cell_type": "code",
      "source": [
        "!pip install cvxpy # download cvxpy"
      ],
      "metadata": {
        "colab": {
          "base_uri": "https://localhost:8080/"
        },
        "id": "I2pH4z4jezwj",
        "outputId": "b087a04d-36fc-414c-dca6-d3923a50bb21"
      },
      "execution_count": 32,
      "outputs": [
        {
          "output_type": "stream",
          "name": "stdout",
          "text": [
            "Looking in indexes: https://pypi.org/simple, https://us-python.pkg.dev/colab-wheels/public/simple/\n",
            "Requirement already satisfied: cvxpy in /usr/local/lib/python3.8/dist-packages (1.2.3)\n",
            "Requirement already satisfied: scipy>=1.1.0 in /usr/local/lib/python3.8/dist-packages (from cvxpy) (1.7.3)\n",
            "Requirement already satisfied: scs>=1.1.6 in /usr/local/lib/python3.8/dist-packages (from cvxpy) (3.2.2)\n",
            "Requirement already satisfied: numpy>=1.15 in /usr/local/lib/python3.8/dist-packages (from cvxpy) (1.21.6)\n",
            "Requirement already satisfied: ecos>=2 in /usr/local/lib/python3.8/dist-packages (from cvxpy) (2.0.12)\n",
            "Requirement already satisfied: osqp>=0.4.1 in /usr/local/lib/python3.8/dist-packages (from cvxpy) (0.6.2.post0)\n",
            "Requirement already satisfied: setuptools<=64.0.2 in /usr/local/lib/python3.8/dist-packages (from cvxpy) (57.4.0)\n",
            "Requirement already satisfied: qdldl in /usr/local/lib/python3.8/dist-packages (from osqp>=0.4.1->cvxpy) (0.1.5.post2)\n"
          ]
        }
      ]
    },
    {
      "cell_type": "code",
      "source": [
        "#Import Libraries\n",
        "import numpy as np\n",
        "import pandas as pd\n",
        "from sklearn.svm import SVC\n",
        "import cvxpy as cp\n",
        "from matplotlib import pyplot as plt\n",
        "from sklearn.neighbors import KNeighborsClassifier\n",
        "from sklearn.metrics import classification_report\n",
        "from sklearn.metrics import roc_auc_score"
      ],
      "metadata": {
        "id": "kL3TQO-hldtX"
      },
      "execution_count": 70,
      "outputs": []
    },
    {
      "cell_type": "code",
      "source": [
        "#Connect to GitHub for faster access\n",
        "!git clone https://github.com/melihkurtaran/MachineLearning.git"
      ],
      "metadata": {
        "colab": {
          "base_uri": "https://localhost:8080/"
        },
        "id": "Q3uy616df7q5",
        "outputId": "447ec388-d8b3-46c1-fa0b-42d73c81765d"
      },
      "execution_count": 34,
      "outputs": [
        {
          "output_type": "stream",
          "name": "stdout",
          "text": [
            "fatal: destination path 'MachineLearning' already exists and is not an empty directory.\n"
          ]
        }
      ]
    },
    {
      "cell_type": "markdown",
      "source": [
        "My group number is 9"
      ],
      "metadata": {
        "id": "wBs5K2V1eF2T"
      }
    },
    {
      "cell_type": "code",
      "source": [
        "#Reading the files\n",
        "\n",
        "#for task 1\n",
        "ds1 = pd.read_csv('MachineLearning/InstanceBasedLearning/ds091.txt', sep=\" \", header=None, index_col=False, skiprows=1)\n",
        "\n",
        "#for task 2\n",
        "ds2 = pd.read_csv('MachineLearning/InstanceBasedLearning/ds092.txt', sep=\" \", header=None, index_col=False, skiprows=1)\n",
        "\n",
        "#for task 3\n",
        "ds3tr = pd.read_csv('MachineLearning/InstanceBasedLearning/ds093tr.txt', sep=\" \", header=None, index_col=False, skiprows=1)\n",
        "ds3te = pd.read_csv('MachineLearning/InstanceBasedLearning/ds093te.txt', sep=\" \", header=None, index_col=False, skiprows=1)"
      ],
      "metadata": {
        "id": "aYh8c01AeTiC"
      },
      "execution_count": 35,
      "outputs": []
    },
    {
      "cell_type": "markdown",
      "source": [
        "# **T1**"
      ],
      "metadata": {
        "id": "kHuX39kJhjht"
      }
    },
    {
      "cell_type": "code",
      "source": [
        "ds1.loc[ds1[2] == 0, 2] = -1"
      ],
      "metadata": {
        "id": "pzu5b6ieXxRC"
      },
      "execution_count": null,
      "outputs": []
    },
    {
      "cell_type": "code",
      "source": [
        "# Load the training data and labels\n",
        "X = ds1[[0,1]].values\n",
        "y = ds1[2].values"
      ],
      "metadata": {
        "id": "mbiKMrGEjpTU"
      },
      "execution_count": 45,
      "outputs": []
    },
    {
      "cell_type": "code",
      "source": [
        "# Class 0 are negatives and Class 1 are positives\n",
        "class_0 = ds1.loc[ds1[2] == -1]\n",
        "class_1 = ds1.loc[ds1[2] == 1]\n",
        "\n",
        "class_0"
      ],
      "metadata": {
        "colab": {
          "base_uri": "https://localhost:8080/",
          "height": 300
        },
        "id": "OpUt9KuXau5J",
        "outputId": "00566e1c-ae35-4a1a-c24e-91e87a0c2486"
      },
      "execution_count": 49,
      "outputs": [
        {
          "output_type": "execute_result",
          "data": {
            "text/plain": [
              "          0         1    2\n",
              "0 -2.131739  0.675048 -1.0\n",
              "1 -5.656211 -0.085275 -1.0\n",
              "2  1.350096  4.263477 -1.0\n",
              "3 -3.567110  2.067782 -1.0\n",
              "4 -0.781642  4.938526 -1.0\n",
              "5 -4.938526 -0.781642 -1.0\n",
              "6 -2.153058  2.089101 -1.0\n",
              "7 -3.545792  0.653729 -1.0"
            ],
            "text/html": [
              "\n",
              "  <div id=\"df-2035043b-8c9d-47de-abad-b8bd85e271de\">\n",
              "    <div class=\"colab-df-container\">\n",
              "      <div>\n",
              "<style scoped>\n",
              "    .dataframe tbody tr th:only-of-type {\n",
              "        vertical-align: middle;\n",
              "    }\n",
              "\n",
              "    .dataframe tbody tr th {\n",
              "        vertical-align: top;\n",
              "    }\n",
              "\n",
              "    .dataframe thead th {\n",
              "        text-align: right;\n",
              "    }\n",
              "</style>\n",
              "<table border=\"1\" class=\"dataframe\">\n",
              "  <thead>\n",
              "    <tr style=\"text-align: right;\">\n",
              "      <th></th>\n",
              "      <th>0</th>\n",
              "      <th>1</th>\n",
              "      <th>2</th>\n",
              "    </tr>\n",
              "  </thead>\n",
              "  <tbody>\n",
              "    <tr>\n",
              "      <th>0</th>\n",
              "      <td>-2.131739</td>\n",
              "      <td>0.675048</td>\n",
              "      <td>-1.0</td>\n",
              "    </tr>\n",
              "    <tr>\n",
              "      <th>1</th>\n",
              "      <td>-5.656211</td>\n",
              "      <td>-0.085275</td>\n",
              "      <td>-1.0</td>\n",
              "    </tr>\n",
              "    <tr>\n",
              "      <th>2</th>\n",
              "      <td>1.350096</td>\n",
              "      <td>4.263477</td>\n",
              "      <td>-1.0</td>\n",
              "    </tr>\n",
              "    <tr>\n",
              "      <th>3</th>\n",
              "      <td>-3.567110</td>\n",
              "      <td>2.067782</td>\n",
              "      <td>-1.0</td>\n",
              "    </tr>\n",
              "    <tr>\n",
              "      <th>4</th>\n",
              "      <td>-0.781642</td>\n",
              "      <td>4.938526</td>\n",
              "      <td>-1.0</td>\n",
              "    </tr>\n",
              "    <tr>\n",
              "      <th>5</th>\n",
              "      <td>-4.938526</td>\n",
              "      <td>-0.781642</td>\n",
              "      <td>-1.0</td>\n",
              "    </tr>\n",
              "    <tr>\n",
              "      <th>6</th>\n",
              "      <td>-2.153058</td>\n",
              "      <td>2.089101</td>\n",
              "      <td>-1.0</td>\n",
              "    </tr>\n",
              "    <tr>\n",
              "      <th>7</th>\n",
              "      <td>-3.545792</td>\n",
              "      <td>0.653729</td>\n",
              "      <td>-1.0</td>\n",
              "    </tr>\n",
              "  </tbody>\n",
              "</table>\n",
              "</div>\n",
              "      <button class=\"colab-df-convert\" onclick=\"convertToInteractive('df-2035043b-8c9d-47de-abad-b8bd85e271de')\"\n",
              "              title=\"Convert this dataframe to an interactive table.\"\n",
              "              style=\"display:none;\">\n",
              "        \n",
              "  <svg xmlns=\"http://www.w3.org/2000/svg\" height=\"24px\"viewBox=\"0 0 24 24\"\n",
              "       width=\"24px\">\n",
              "    <path d=\"M0 0h24v24H0V0z\" fill=\"none\"/>\n",
              "    <path d=\"M18.56 5.44l.94 2.06.94-2.06 2.06-.94-2.06-.94-.94-2.06-.94 2.06-2.06.94zm-11 1L8.5 8.5l.94-2.06 2.06-.94-2.06-.94L8.5 2.5l-.94 2.06-2.06.94zm10 10l.94 2.06.94-2.06 2.06-.94-2.06-.94-.94-2.06-.94 2.06-2.06.94z\"/><path d=\"M17.41 7.96l-1.37-1.37c-.4-.4-.92-.59-1.43-.59-.52 0-1.04.2-1.43.59L10.3 9.45l-7.72 7.72c-.78.78-.78 2.05 0 2.83L4 21.41c.39.39.9.59 1.41.59.51 0 1.02-.2 1.41-.59l7.78-7.78 2.81-2.81c.8-.78.8-2.07 0-2.86zM5.41 20L4 18.59l7.72-7.72 1.47 1.35L5.41 20z\"/>\n",
              "  </svg>\n",
              "      </button>\n",
              "      \n",
              "  <style>\n",
              "    .colab-df-container {\n",
              "      display:flex;\n",
              "      flex-wrap:wrap;\n",
              "      gap: 12px;\n",
              "    }\n",
              "\n",
              "    .colab-df-convert {\n",
              "      background-color: #E8F0FE;\n",
              "      border: none;\n",
              "      border-radius: 50%;\n",
              "      cursor: pointer;\n",
              "      display: none;\n",
              "      fill: #1967D2;\n",
              "      height: 32px;\n",
              "      padding: 0 0 0 0;\n",
              "      width: 32px;\n",
              "    }\n",
              "\n",
              "    .colab-df-convert:hover {\n",
              "      background-color: #E2EBFA;\n",
              "      box-shadow: 0px 1px 2px rgba(60, 64, 67, 0.3), 0px 1px 3px 1px rgba(60, 64, 67, 0.15);\n",
              "      fill: #174EA6;\n",
              "    }\n",
              "\n",
              "    [theme=dark] .colab-df-convert {\n",
              "      background-color: #3B4455;\n",
              "      fill: #D2E3FC;\n",
              "    }\n",
              "\n",
              "    [theme=dark] .colab-df-convert:hover {\n",
              "      background-color: #434B5C;\n",
              "      box-shadow: 0px 1px 3px 1px rgba(0, 0, 0, 0.15);\n",
              "      filter: drop-shadow(0px 1px 2px rgba(0, 0, 0, 0.3));\n",
              "      fill: #FFFFFF;\n",
              "    }\n",
              "  </style>\n",
              "\n",
              "      <script>\n",
              "        const buttonEl =\n",
              "          document.querySelector('#df-2035043b-8c9d-47de-abad-b8bd85e271de button.colab-df-convert');\n",
              "        buttonEl.style.display =\n",
              "          google.colab.kernel.accessAllowed ? 'block' : 'none';\n",
              "\n",
              "        async function convertToInteractive(key) {\n",
              "          const element = document.querySelector('#df-2035043b-8c9d-47de-abad-b8bd85e271de');\n",
              "          const dataTable =\n",
              "            await google.colab.kernel.invokeFunction('convertToInteractive',\n",
              "                                                     [key], {});\n",
              "          if (!dataTable) return;\n",
              "\n",
              "          const docLinkHtml = 'Like what you see? Visit the ' +\n",
              "            '<a target=\"_blank\" href=https://colab.research.google.com/notebooks/data_table.ipynb>data table notebook</a>'\n",
              "            + ' to learn more about interactive tables.';\n",
              "          element.innerHTML = '';\n",
              "          dataTable['output_type'] = 'display_data';\n",
              "          await google.colab.output.renderOutput(dataTable, element);\n",
              "          const docLink = document.createElement('div');\n",
              "          docLink.innerHTML = docLinkHtml;\n",
              "          element.appendChild(docLink);\n",
              "        }\n",
              "      </script>\n",
              "    </div>\n",
              "  </div>\n",
              "  "
            ]
          },
          "metadata": {},
          "execution_count": 49
        }
      ]
    },
    {
      "cell_type": "code",
      "source": [
        "class_0 = class_0.to_numpy()\n",
        "class_1 = class_1.to_numpy()"
      ],
      "metadata": {
        "id": "TvOXpykZcSvU"
      },
      "execution_count": 50,
      "outputs": []
    },
    {
      "cell_type": "code",
      "source": [
        "# Plot\n",
        "fig = plt.figure(figsize=(12, 12))\n",
        "\n",
        "# Scatter plot for class 0\n",
        "plt.scatter(class_0[:, 0], class_0[:, 1], \n",
        "            marker='o', color='green', \n",
        "            label='Class 0')\n",
        "\n",
        "# Scatter plot for class 1\n",
        "plt.scatter(class_1[:, 0], class_1[:, 1], \n",
        "            marker='x', color='blue', \n",
        "            label='Class 1')\n",
        "\n",
        "# Set plot limits\n",
        "plt.xlim(-8, 8)\n",
        "plt.ylim(-5, 8)\n",
        "\n",
        "# Set axis ticks\n",
        "plt.xticks(np.arange(-8, 8, step=1))\n",
        "plt.yticks(np.arange(-5, 8, step=1))\n",
        "\n",
        "# Set axis labels\n",
        "plt.xlabel('X-axis')\n",
        "plt.ylabel('Y-axis')\n",
        "\n",
        "# Add labels\n",
        "plt.xlabel('x1')\n",
        "plt.ylabel('x2')\n",
        "\n",
        "# Add legend\n",
        "plt.legend(loc='lower right')\n",
        "\n",
        "# Show plot\n",
        "plt.show()\n"
      ],
      "metadata": {
        "colab": {
          "base_uri": "https://localhost:8080/",
          "height": 714
        },
        "id": "z4KPwOptcNjL",
        "outputId": "293c6186-fbfc-4fef-d3a7-d325c74b70cf"
      },
      "execution_count": 51,
      "outputs": [
        {
          "output_type": "display_data",
          "data": {
            "text/plain": [
              "<Figure size 864x864 with 1 Axes>"
            ],
            "image/png": "[encoded data removed]"
          },
          "metadata": {
            "needs_background": "light"
          }
        }
      ]
    },
    {
      "cell_type": "code",
      "source": [
        "# N is the number of rows in the data matrix X\n",
        "N = X.shape[0]\n",
        "\n",
        "# Reshape y to match the shape of X\n",
        "y = y.reshape((N,1))\n",
        "\n",
        "# Create variables for the weights and bias\n",
        "w = cp.Variable((2,1))\n",
        "w0 = cp.Variable()\n",
        "\n",
        "# Define the loss function as the L2 norm of w squared, which is equivalent to the L2 regularization\n",
        "loss = cp.Minimize(0.5 * cp.square(cp.norm(w)))\n",
        "\n",
        "# Create an empty list to store the constraints\n",
        "constr = []\n",
        "\n",
        "# Iterate through each data point and add a constraint for it\n",
        "for i in range(N):\n",
        "  xi, yi = X[i,:], y[i]\n",
        "  constr += [yi @ (xi @ w + w0) >= 1]\n",
        "\n",
        "# Create the optimization problem with the loss and constraints\n",
        "prob = cp.Problem(loss, constr)\n",
        "\n",
        "# Solve the problem\n",
        "prob.solve()\n",
        "\n",
        "# Print the values of the optimized variables\n",
        "print(w.value, w0.value) # w = [1.0, -1.0], w0 = -1.0"
      ],
      "metadata": {
        "id": "s-XuLC8vYu3r",
        "outputId": "5404be37-7cd7-4e25-c7db-49d5c8b3975f",
        "colab": {
          "base_uri": "https://localhost:8080/"
        }
      },
      "execution_count": 56,
      "outputs": [
        {
          "output_type": "stream",
          "name": "stdout",
          "text": [
            "[[ 0.47845723]\n",
            " [-0.46424468]] 0.33333333339392063\n"
          ]
        }
      ]
    },
    {
      "cell_type": "code",
      "source": [
        "# Plot\n",
        "fig = plt.figure(figsize=(12, 12))\n",
        "\n",
        "# Scatter plot for class 0\n",
        "plt.scatter(class_0[:, 0], class_0[:, 1], \n",
        "            marker='o', color='green', \n",
        "            label='Class 0')\n",
        "\n",
        "# Scatter plot for class 1\n",
        "plt.scatter(class_1[:, 0], class_1[:, 1], \n",
        "            marker='x', color='blue', \n",
        "            label='Class 1')\n",
        "\n",
        "# Plot the decision boundary and the margins using the optimized values of w and w0\n",
        "plt.plot(X, (-w0.value - (w[0].value*X))/w[1].value , 'r', alpha=0.6)\n",
        "\n",
        "# Plot the positive margin\n",
        "plt.plot(X, (-w0.value - (w[0].value*X)+1)/w[1].value ,'b', alpha=0.4)\n",
        "\n",
        "# Plot the negative margin\n",
        "plt.plot(X, (-w0.value - (w[0].value*X)-1)/w[1].value , 'g', alpha=0.4)\n",
        "\n",
        "# Set plot limits\n",
        "plt.xlim(-8, 8)\n",
        "plt.ylim(-5, 8)\n",
        "\n",
        "# Set axis ticks\n",
        "plt.xticks(np.arange(-8, 8, step=1))\n",
        "plt.yticks(np.arange(-5, 8, step=1))\n",
        "\n",
        "# Set axis labels\n",
        "plt.xlabel('X-axis')\n",
        "plt.ylabel('Y-axis')\n",
        "\n",
        "# Add labels\n",
        "plt.xlabel('x1')\n",
        "plt.ylabel('x2')\n",
        "\n",
        "# Add legend\n",
        "plt.legend(loc='lower right')\n",
        "\n",
        "# Show plot\n",
        "plt.show()\n"
      ],
      "metadata": {
        "id": "KGx7RPMcZuFH",
        "outputId": "32796a84-d3f0-42ac-a967-401b9b2d4748",
        "colab": {
          "base_uri": "https://localhost:8080/",
          "height": 714
        }
      },
      "execution_count": 67,
      "outputs": [
        {
          "output_type": "display_data",
          "data": {
            "text/plain": [
              "<Figure size 864x864 with 1 Axes>"
            ],
            "image/png": "[encoded data removed]"
          },
          "metadata": {
            "needs_background": "light"
          }
        }
      ]
    },
    {
      "cell_type": "markdown",
      "source": [
        "# **T2**"
      ],
      "metadata": {
        "id": "BXRmESpUam3_"
      }
    },
    {
      "cell_type": "code",
      "source": [],
      "metadata": {
        "id": "_e7Brp8NaqkT"
      },
      "execution_count": null,
      "outputs": []
    },
    {
      "cell_type": "markdown",
      "source": [
        "# **T3**"
      ],
      "metadata": {
        "id": "i2rwLdylarOr"
      }
    },
    {
      "cell_type": "code",
      "source": [
        "#Train and test\n",
        "x_train = ds3tr.drop(columns=[2])\n",
        "y_train = ds3tr[2]\n",
        "\n",
        "x_test = ds3te.drop(columns=[2])\n",
        "y_test = ds3te[2]"
      ],
      "metadata": {
        "id": "uxE3rPbocDHb"
      },
      "execution_count": null,
      "outputs": []
    },
    {
      "cell_type": "code",
      "source": [
        "#Create KNN classifier\n",
        "knn = KNeighborsClassifier()\n",
        "\n",
        "#Training the model\n",
        "knn.fit(x_train, y_train)\n",
        "\n",
        "#Predict test data set\n",
        "y_pred = knn.predict(x_test)\n",
        "\n",
        "#Checking performance our model with classification report\n",
        "print(classification_report(y_test, y_pred))\n",
        "\n",
        "#Checking performance our model with ROC Score\n",
        "roc_auc_score(y_test, y_pred)"
      ],
      "metadata": {
        "id": "AqUV70xQatsb",
        "outputId": "d8a455ea-11ca-4cbb-f265-0518b50abecc",
        "colab": {
          "base_uri": "https://localhost:8080/"
        }
      },
      "execution_count": 71,
      "outputs": [
        {
          "output_type": "stream",
          "name": "stdout",
          "text": [
            "              precision    recall  f1-score   support\n",
            "\n",
            "         0.0       1.00      0.94      0.97        32\n",
            "         1.0       0.93      1.00      0.97        28\n",
            "\n",
            "    accuracy                           0.97        60\n",
            "   macro avg       0.97      0.97      0.97        60\n",
            "weighted avg       0.97      0.97      0.97        60\n",
            "\n"
          ]
        },
        {
          "output_type": "execute_result",
          "data": {
            "text/plain": [
              "0.96875"
            ]
          },
          "metadata": {},
          "execution_count": 71
        }
      ]
    }
  ]
}
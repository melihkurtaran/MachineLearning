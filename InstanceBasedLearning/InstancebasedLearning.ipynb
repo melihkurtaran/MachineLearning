{
  "nbformat": 4,
  "nbformat_minor": 0,
  "metadata": {
    "colab": {
      "provenance": [],
      "toc_visible": true,
      "authorship_tag": "ABX9TyM2zNVIIdmazQwKhmpM6Jr7",
      "include_colab_link": true
    },
    "kernelspec": {
      "name": "python3",
      "display_name": "Python 3"
    },
    "language_info": {
      "name": "python"
    }
  },
  "cells": [
    {
      "cell_type": "markdown",
      "metadata": {
        "id": "view-in-github",
        "colab_type": "text"
      },
      "source": [
        "<a href=\"https://colab.research.google.com/github/melihkurtaran/MachineLearning/blob/main/InstanceBasedLearning/InstancebasedLearning.ipynb\" target=\"_parent\"><img src=\"https://colab.research.google.com/assets/colab-badge.svg\" alt=\"Open In Colab\"/></a>"
      ]
    },
    {
      "cell_type": "markdown",
      "source": [
        "**Instance-based Learning Project**"
      ],
      "metadata": {
        "id": "OQxo35L4d_9E"
      }
    },
    {
      "cell_type": "code",
      "source": [
        "!pip install cvxpy # download cvxpy"
      ],
      "metadata": {
        "colab": {
          "base_uri": "https://localhost:8080/"
        },
        "id": "I2pH4z4jezwj",
        "outputId": "950e9047-dc24-4a8e-e79e-eedcf846ba32"
      },
      "execution_count": 1,
      "outputs": [
        {
          "output_type": "stream",
          "name": "stdout",
          "text": [
            "Looking in indexes: https://pypi.org/simple, https://us-python.pkg.dev/colab-wheels/public/simple/\n",
            "Requirement already satisfied: cvxpy in /usr/local/lib/python3.8/dist-packages (1.2.3)\n",
            "Requirement already satisfied: ecos>=2 in /usr/local/lib/python3.8/dist-packages (from cvxpy) (2.0.12)\n",
            "Requirement already satisfied: numpy>=1.15 in /usr/local/lib/python3.8/dist-packages (from cvxpy) (1.21.6)\n",
            "Requirement already satisfied: scipy>=1.1.0 in /usr/local/lib/python3.8/dist-packages (from cvxpy) (1.7.3)\n",
            "Requirement already satisfied: scs>=1.1.6 in /usr/local/lib/python3.8/dist-packages (from cvxpy) (3.2.2)\n",
            "Requirement already satisfied: setuptools<=64.0.2 in /usr/local/lib/python3.8/dist-packages (from cvxpy) (57.4.0)\n",
            "Requirement already satisfied: osqp>=0.4.1 in /usr/local/lib/python3.8/dist-packages (from cvxpy) (0.6.2.post0)\n",
            "Requirement already satisfied: qdldl in /usr/local/lib/python3.8/dist-packages (from osqp>=0.4.1->cvxpy) (0.1.5.post2)\n"
          ]
        }
      ]
    },
    {
      "cell_type": "code",
      "source": [
        "#Import Libraries\n",
        "import numpy as np\n",
        "import pandas as pd\n",
        "from sklearn import svm\n",
        "import cvxpy as cp\n",
        "from cvxopt import matrix, solvers\n",
        "from matplotlib import pyplot as plt\n",
        "from sklearn.neighbors import KNeighborsClassifier\n",
        "from sklearn.metrics import classification_report\n",
        "from sklearn.metrics import roc_auc_score\n",
        "from sklearn.model_selection import GridSearchCV\n",
        "from sklearn.model_selection import RepeatedKFold\n",
        "from sklearn.model_selection import cross_val_score\n",
        "from sklearn.metrics import accuracy_score, precision_score, recall_score, f1_score\n",
        "import seaborn as sns\n",
        "from matplotlib.colors import ListedColormap\n",
        "from sklearn import neighbors, datasets\n",
        "from sklearn.model_selection import RepeatedStratifiedKFold, cross_validate\n",
        "from sklearn.metrics import make_scorer"
      ],
      "metadata": {
        "id": "kL3TQO-hldtX"
      },
      "execution_count": 2,
      "outputs": []
    },
    {
      "cell_type": "code",
      "source": [
        "#Connect to GitHub for faster access\n",
        "!git clone https://github.com/melihkurtaran/MachineLearning.git"
      ],
      "metadata": {
        "colab": {
          "base_uri": "https://localhost:8080/"
        },
        "id": "Q3uy616df7q5",
        "outputId": "d4eeb989-c696-49b0-a4c3-f2cbdd1f69f0"
      },
      "execution_count": 3,
      "outputs": [
        {
          "output_type": "stream",
          "name": "stdout",
          "text": [
            "fatal: destination path 'MachineLearning' already exists and is not an empty directory.\n"
          ]
        }
      ]
    },
    {
      "cell_type": "markdown",
      "source": [
        "My group number is 9"
      ],
      "metadata": {
        "id": "wBs5K2V1eF2T"
      }
    },
    {
      "cell_type": "code",
      "source": [
        "#Reading the files\n",
        "\n",
        "#for task 1\n",
        "ds1 = pd.read_csv('MachineLearning/InstanceBasedLearning/ds091.txt', sep=\" \", header=None, index_col=False, skiprows=1)\n",
        "\n",
        "#for task 2\n",
        "ds2 = pd.read_csv('MachineLearning/InstanceBasedLearning/ds092.txt', sep=\" \", header=None, index_col=False, skiprows=1)\n",
        "\n",
        "#for task 3\n",
        "ds3tr = pd.read_csv('MachineLearning/InstanceBasedLearning/ds093tr.txt', sep=\" \", header=None, index_col=False, skiprows=1)\n",
        "ds3te = pd.read_csv('MachineLearning/InstanceBasedLearning/ds093te.txt', sep=\" \", header=None, index_col=False, skiprows=1)"
      ],
      "metadata": {
        "id": "aYh8c01AeTiC"
      },
      "execution_count": 4,
      "outputs": []
    },
    {
      "cell_type": "markdown",
      "source": [
        "# **T1**"
      ],
      "metadata": {
        "id": "kHuX39kJhjht"
      }
    },
    {
      "cell_type": "code",
      "source": [
        "ds1.loc[ds1[2] == 0, 2] = -1"
      ],
      "metadata": {
        "id": "pzu5b6ieXxRC"
      },
      "execution_count": 5,
      "outputs": []
    },
    {
      "cell_type": "code",
      "source": [
        "# Load the data and labels\n",
        "X = ds1[[0,1]].values\n",
        "y = ds1[2].values"
      ],
      "metadata": {
        "id": "mbiKMrGEjpTU"
      },
      "execution_count": 6,
      "outputs": []
    },
    {
      "cell_type": "code",
      "source": [
        "# Class 0 are negatives and Class 1 are positives\n",
        "class_0 = ds1.loc[ds1[2] == -1]\n",
        "class_1 = ds1.loc[ds1[2] == 1]\n",
        "\n",
        "class_0"
      ],
      "metadata": {
        "colab": {
          "base_uri": "https://localhost:8080/",
          "height": 300
        },
        "id": "OpUt9KuXau5J",
        "outputId": "6d7eed77-da7b-43db-a405-a6d80241a342"
      },
      "execution_count": 7,
      "outputs": [
        {
          "output_type": "execute_result",
          "data": {
            "text/plain": [
              "          0         1    2\n",
              "0 -2.131739  0.675048 -1.0\n",
              "1 -5.656211 -0.085275 -1.0\n",
              "2  1.350096  4.263477 -1.0\n",
              "3 -3.567110  2.067782 -1.0\n",
              "4 -0.781642  4.938526 -1.0\n",
              "5 -4.938526 -0.781642 -1.0\n",
              "6 -2.153058  2.089101 -1.0\n",
              "7 -3.545792  0.653729 -1.0"
            ],
            "text/html": [
              "\n",
              "  <div id=\"df-93166558-4eda-4fe5-9a09-deda5e47340e\">\n",
              "    <div class=\"colab-df-container\">\n",
              "      <div>\n",
              "<style scoped>\n",
              "    .dataframe tbody tr th:only-of-type {\n",
              "        vertical-align: middle;\n",
              "    }\n",
              "\n",
              "    .dataframe tbody tr th {\n",
              "        vertical-align: top;\n",
              "    }\n",
              "\n",
              "    .dataframe thead th {\n",
              "        text-align: right;\n",
              "    }\n",
              "</style>\n",
              "<table border=\"1\" class=\"dataframe\">\n",
              "  <thead>\n",
              "    <tr style=\"text-align: right;\">\n",
              "      <th></th>\n",
              "      <th>0</th>\n",
              "      <th>1</th>\n",
              "      <th>2</th>\n",
              "    </tr>\n",
              "  </thead>\n",
              "  <tbody>\n",
              "    <tr>\n",
              "      <th>0</th>\n",
              "      <td>-2.131739</td>\n",
              "      <td>0.675048</td>\n",
              "      <td>-1.0</td>\n",
              "    </tr>\n",
              "    <tr>\n",
              "      <th>1</th>\n",
              "      <td>-5.656211</td>\n",
              "      <td>-0.085275</td>\n",
              "      <td>-1.0</td>\n",
              "    </tr>\n",
              "    <tr>\n",
              "      <th>2</th>\n",
              "      <td>1.350096</td>\n",
              "      <td>4.263477</td>\n",
              "      <td>-1.0</td>\n",
              "    </tr>\n",
              "    <tr>\n",
              "      <th>3</th>\n",
              "      <td>-3.567110</td>\n",
              "      <td>2.067782</td>\n",
              "      <td>-1.0</td>\n",
              "    </tr>\n",
              "    <tr>\n",
              "      <th>4</th>\n",
              "      <td>-0.781642</td>\n",
              "      <td>4.938526</td>\n",
              "      <td>-1.0</td>\n",
              "    </tr>\n",
              "    <tr>\n",
              "      <th>5</th>\n",
              "      <td>-4.938526</td>\n",
              "      <td>-0.781642</td>\n",
              "      <td>-1.0</td>\n",
              "    </tr>\n",
              "    <tr>\n",
              "      <th>6</th>\n",
              "      <td>-2.153058</td>\n",
              "      <td>2.089101</td>\n",
              "      <td>-1.0</td>\n",
              "    </tr>\n",
              "    <tr>\n",
              "      <th>7</th>\n",
              "      <td>-3.545792</td>\n",
              "      <td>0.653729</td>\n",
              "      <td>-1.0</td>\n",
              "    </tr>\n",
              "  </tbody>\n",
              "</table>\n",
              "</div>\n",
              "      <button class=\"colab-df-convert\" onclick=\"convertToInteractive('df-93166558-4eda-4fe5-9a09-deda5e47340e')\"\n",
              "              title=\"Convert this dataframe to an interactive table.\"\n",
              "              style=\"display:none;\">\n",
              "        \n",
              "  <svg xmlns=\"http://www.w3.org/2000/svg\" height=\"24px\"viewBox=\"0 0 24 24\"\n",
              "       width=\"24px\">\n",
              "    <path d=\"M0 0h24v24H0V0z\" fill=\"none\"/>\n",
              "    <path d=\"M18.56 5.44l.94 2.06.94-2.06 2.06-.94-2.06-.94-.94-2.06-.94 2.06-2.06.94zm-11 1L8.5 8.5l.94-2.06 2.06-.94-2.06-.94L8.5 2.5l-.94 2.06-2.06.94zm10 10l.94 2.06.94-2.06 2.06-.94-2.06-.94-.94-2.06-.94 2.06-2.06.94z\"/><path d=\"M17.41 7.96l-1.37-1.37c-.4-.4-.92-.59-1.43-.59-.52 0-1.04.2-1.43.59L10.3 9.45l-7.72 7.72c-.78.78-.78 2.05 0 2.83L4 21.41c.39.39.9.59 1.41.59.51 0 1.02-.2 1.41-.59l7.78-7.78 2.81-2.81c.8-.78.8-2.07 0-2.86zM5.41 20L4 18.59l7.72-7.72 1.47 1.35L5.41 20z\"/>\n",
              "  </svg>\n",
              "      </button>\n",
              "      \n",
              "  <style>\n",
              "    .colab-df-container {\n",
              "      display:flex;\n",
              "      flex-wrap:wrap;\n",
              "      gap: 12px;\n",
              "    }\n",
              "\n",
              "    .colab-df-convert {\n",
              "      background-color: #E8F0FE;\n",
              "      border: none;\n",
              "      border-radius: 50%;\n",
              "      cursor: pointer;\n",
              "      display: none;\n",
              "      fill: #1967D2;\n",
              "      height: 32px;\n",
              "      padding: 0 0 0 0;\n",
              "      width: 32px;\n",
              "    }\n",
              "\n",
              "    .colab-df-convert:hover {\n",
              "      background-color: #E2EBFA;\n",
              "      box-shadow: 0px 1px 2px rgba(60, 64, 67, 0.3), 0px 1px 3px 1px rgba(60, 64, 67, 0.15);\n",
              "      fill: #174EA6;\n",
              "    }\n",
              "\n",
              "    [theme=dark] .colab-df-convert {\n",
              "      background-color: #3B4455;\n",
              "      fill: #D2E3FC;\n",
              "    }\n",
              "\n",
              "    [theme=dark] .colab-df-convert:hover {\n",
              "      background-color: #434B5C;\n",
              "      box-shadow: 0px 1px 3px 1px rgba(0, 0, 0, 0.15);\n",
              "      filter: drop-shadow(0px 1px 2px rgba(0, 0, 0, 0.3));\n",
              "      fill: #FFFFFF;\n",
              "    }\n",
              "  </style>\n",
              "\n",
              "      <script>\n",
              "        const buttonEl =\n",
              "          document.querySelector('#df-93166558-4eda-4fe5-9a09-deda5e47340e button.colab-df-convert');\n",
              "        buttonEl.style.display =\n",
              "          google.colab.kernel.accessAllowed ? 'block' : 'none';\n",
              "\n",
              "        async function convertToInteractive(key) {\n",
              "          const element = document.querySelector('#df-93166558-4eda-4fe5-9a09-deda5e47340e');\n",
              "          const dataTable =\n",
              "            await google.colab.kernel.invokeFunction('convertToInteractive',\n",
              "                                                     [key], {});\n",
              "          if (!dataTable) return;\n",
              "\n",
              "          const docLinkHtml = 'Like what you see? Visit the ' +\n",
              "            '<a target=\"_blank\" href=https://colab.research.google.com/notebooks/data_table.ipynb>data table notebook</a>'\n",
              "            + ' to learn more about interactive tables.';\n",
              "          element.innerHTML = '';\n",
              "          dataTable['output_type'] = 'display_data';\n",
              "          await google.colab.output.renderOutput(dataTable, element);\n",
              "          const docLink = document.createElement('div');\n",
              "          docLink.innerHTML = docLinkHtml;\n",
              "          element.appendChild(docLink);\n",
              "        }\n",
              "      </script>\n",
              "    </div>\n",
              "  </div>\n",
              "  "
            ]
          },
          "metadata": {},
          "execution_count": 7
        }
      ]
    },
    {
      "cell_type": "code",
      "source": [
        "class_0 = class_0.to_numpy()\n",
        "class_1 = class_1.to_numpy()"
      ],
      "metadata": {
        "id": "TvOXpykZcSvU"
      },
      "execution_count": 8,
      "outputs": []
    },
    {
      "cell_type": "markdown",
      "source": [
        "Plot the samples"
      ],
      "metadata": {
        "id": "9vWB_ix9Tj10"
      }
    },
    {
      "cell_type": "code",
      "source": [
        "# Plot\n",
        "fig = plt.figure(figsize=(12, 12))\n",
        "\n",
        "# Scatter plot for class 0\n",
        "plt.scatter(class_0[:, 0], class_0[:, 1], \n",
        "            marker='o', color='green', \n",
        "            label='Class 0')\n",
        "\n",
        "# Scatter plot for class 1\n",
        "plt.scatter(class_1[:, 0], class_1[:, 1], \n",
        "            marker='x', color='blue', \n",
        "            label='Class 1')\n",
        "\n",
        "# Set plot limits\n",
        "plt.xlim(-8, 8)\n",
        "plt.ylim(-5, 8)\n",
        "\n",
        "# Set axis ticks\n",
        "plt.xticks(np.arange(-8, 8, step=1))\n",
        "plt.yticks(np.arange(-5, 8, step=1))\n",
        "\n",
        "# Set axis labels\n",
        "plt.xlabel('X-axis')\n",
        "plt.ylabel('Y-axis')\n",
        "\n",
        "# Add labels\n",
        "plt.xlabel('x1')\n",
        "plt.ylabel('x2')\n",
        "\n",
        "# Add legend\n",
        "plt.legend(loc='lower right')\n",
        "\n",
        "# Show plot\n",
        "plt.show()\n"
      ],
      "metadata": {
        "colab": {
          "base_uri": "https://localhost:8080/",
          "height": 714
        },
        "id": "z4KPwOptcNjL",
        "outputId": "efa7665a-e1d2-42a8-bcd7-422b5266b712"
      },
      "execution_count": 9,
      "outputs": [
        {
          "output_type": "display_data",
          "data": {
            "text/plain": [
              "<Figure size 864x864 with 1 Axes>"
            ],
            "image/png": "[encoded data removed]"
          },
          "metadata": {
            "needs_background": "light"
          }
        }
      ]
    },
    {
      "cell_type": "markdown",
      "source": [
        "## **a) Solve for the SVM with quadratic programming solver**"
      ],
      "metadata": {
        "id": "P9m5hARPbdTM"
      }
    },
    {
      "cell_type": "code",
      "source": [
        "# N is the number of rows in the data matrix X\n",
        "N = X.shape[0]\n",
        "\n",
        "# Reshape y to match the shape of X\n",
        "y = y.reshape((N,1))\n",
        "\n",
        "# Create variables for the weights and bias\n",
        "w = cp.Variable((2,1))\n",
        "w0 = cp.Variable()\n",
        "\n",
        "# Define the loss function as the L2 norm of w squared, which is equivalent to the L2 regularization\n",
        "loss = cp.Minimize(0.5 * cp.square(cp.norm(w)))\n",
        "\n",
        "# Create an empty list to store the constraints\n",
        "constr = []\n",
        "\n",
        "# Iterate through each data point and add a constraint for it\n",
        "for i in range(N):\n",
        "  xi, yi = X[i,:], y[i]\n",
        "  constr += [yi @ (xi @ w + w0) >= 1]\n",
        "\n",
        "# Create the optimization problem with the loss and constraints\n",
        "prob = cp.Problem(loss, constr)\n",
        "\n",
        "# Solve the problem\n",
        "prob.solve()\n",
        "\n",
        "# Print the values of the optimized variables\n",
        "print(w.value, w0.value) # w = [1.0, -1.0], w0 = -1.0"
      ],
      "metadata": {
        "colab": {
          "base_uri": "https://localhost:8080/"
        },
        "id": "s-XuLC8vYu3r",
        "outputId": "3504b449-553e-4fe7-dc69-3a91db64ec1d"
      },
      "execution_count": 10,
      "outputs": [
        {
          "output_type": "stream",
          "name": "stdout",
          "text": [
            "[[ 0.47845723]\n",
            " [-0.46424468]] 0.33333333339392063\n"
          ]
        }
      ]
    },
    {
      "cell_type": "markdown",
      "source": [
        "Wolfe dual representation of the decision function"
      ],
      "metadata": {
        "id": "L1WvNSVXvVjk"
      }
    },
    {
      "cell_type": "markdown",
      "source": [
        "Decision Funtion:\n",
        "$$\n",
        "  g(x) = 0.4784x_{1} - 0.4642x_{2} + 0.3333\n",
        "$$ "
      ],
      "metadata": {
        "id": "tb7ccO2TviqN"
      }
    },
    {
      "cell_type": "markdown",
      "source": [
        "Support Vectors"
      ],
      "metadata": {
        "id": "U-z1qnWgxRgX"
      }
    },
    {
      "cell_type": "code",
      "source": [
        "def find_support_vectors(X, w0, w):\n",
        "    x1 = X[:,0]\n",
        "    x2 = X[:,1]\n",
        "    support_vectors_class1 = []\n",
        "    support_vectors_class2 = []\n",
        "    for i in range(X.shape[0]):\n",
        "        class1_y = (-w0 - (w[0]*x1[i])+1)/w[1]\n",
        "        class2_y = (-w0 - (w[0]*x1[i])-1)/w[1] \n",
        "        if(np.round(x2[i], 2) == np.round(class1_y,2)):\n",
        "            support_vectors_class1.append([x1[i], x2[i]])\n",
        "        elif(np.round(x2[i], 2) == np.round(class2_y,2)):\n",
        "            support_vectors_class2.append([x1[i], x2[i]])\n",
        "    return support_vectors_class1, support_vectors_class2\n",
        "\n",
        "support_vectors_class1, support_vectors_class2 = find_support_vectors(X, w0.value, w.value)\n",
        "print(\"Found support vectors for class 1: \", support_vectors_class1)\n",
        "print(\"Found support vectors for class 2: \", support_vectors_class2)\n"
      ],
      "metadata": {
        "id": "uNkdscQMxTMH",
        "outputId": "c81c89da-5114-47e2-8dba-53c3bd3cc2b5",
        "colab": {
          "base_uri": "https://localhost:8080/"
        }
      },
      "execution_count": 11,
      "outputs": [
        {
          "output_type": "stream",
          "name": "stdout",
          "text": [
            "Found support vectors for class 1:  [[0.021318818948875214, -1.41405286604095], [1.41405286604095, 0.021318818948875214], [0.7176858424949126, -0.6963670235460374]]\n",
            "Found support vectors for class 2:  [[-2.131738708535863, 0.6750482045971622], [1.3500964091943244, 4.263477417071726]]\n"
          ]
        }
      ]
    },
    {
      "cell_type": "code",
      "source": [
        "def classify(w, w0, X):\n",
        "    n = len(X)\n",
        "    predictions = np.zeros(n)\n",
        "    for i in range(n):\n",
        "        x1, x2 = X[i, 0], X[i, 1]\n",
        "        class_found = (-w0.value - (w[0].value*x1))/w[1].value\n",
        "        if(round(x2, 2) >= np.round(class_found, 2)):\n",
        "            predictions[i] = 1\n",
        "        else:\n",
        "            predictions[i] = 0\n",
        "    return predictions\n"
      ],
      "metadata": {
        "id": "2TyqvRNOUQLE"
      },
      "execution_count": 12,
      "outputs": []
    },
    {
      "cell_type": "markdown",
      "source": [
        "##**b) Generating Plots**"
      ],
      "metadata": {
        "id": "vsfOD0xLRtWf"
      }
    },
    {
      "cell_type": "markdown",
      "source": [
        "The plot with the training samples, highlighting the support vectors and plotting the 2D decision curve"
      ],
      "metadata": {
        "id": "zkivl349SaAr"
      }
    },
    {
      "cell_type": "code",
      "source": [
        "# Plot\n",
        "fig = plt.figure(figsize=(12, 12))\n",
        "\n",
        "# Scatter plot for class 0\n",
        "plt.scatter(class_0[:, 0], class_0[:, 1], \n",
        "            marker='o', color='green', \n",
        "            label='Class 0')\n",
        "\n",
        "# Scatter plot for class 1\n",
        "plt.scatter(class_1[:, 0], class_1[:, 1], \n",
        "            marker='s', color='blue', \n",
        "            label='Class 1',)\n",
        "\n",
        "# Plot the decision boundary and the margins using the optimized values of w and w0\n",
        "plt.plot(X, (-w0.value - (w[0].value*X))/w[1].value , 'r', alpha=0.6)\n",
        "\n",
        "# Plot the positive margin\n",
        "plt.plot(X, (-w0.value - (w[0].value*X)+1)/w[1].value ,'b', alpha=0.4)\n",
        "\n",
        "# Plot the negative margin\n",
        "plt.plot(X, (-w0.value - (w[0].value*X)-1)/w[1].value , 'g', alpha=0.4)\n",
        "\n",
        "# Set plot limits\n",
        "plt.xlim(-8, 8)\n",
        "plt.ylim(-4, 6)\n",
        "\n",
        "# Set axis ticks\n",
        "plt.xticks(np.arange(-8, 8, step=1))\n",
        "plt.yticks(np.arange(-4, 6, step=1))\n",
        "\n",
        "# Set axis labels\n",
        "plt.xlabel('X-axis')\n",
        "plt.ylabel('Y-axis')\n",
        "\n",
        "# Add labels\n",
        "plt.xlabel('x1')\n",
        "plt.ylabel('x2')\n",
        "\n",
        "# Add legend\n",
        "plt.legend(loc='lower right')\n",
        "\n",
        "# Add title\n",
        "plt.title(\"The plot with the training samples, highlighting the support vectors and plotting the 2D decision curve\")\n",
        "\n",
        "# Show plot\n",
        "plt.show()\n"
      ],
      "metadata": {
        "colab": {
          "base_uri": "https://localhost:8080/",
          "height": 730
        },
        "id": "KGx7RPMcZuFH",
        "outputId": "411aaee3-b014-4752-d3e4-f96a385e2a5e"
      },
      "execution_count": 13,
      "outputs": [
        {
          "output_type": "display_data",
          "data": {
            "text/plain": [
              "<Figure size 864x864 with 1 Axes>"
            ],
            "image/png": "[encoded data removed]"
          },
          "metadata": {
            "needs_background": "light"
          }
        }
      ]
    },
    {
      "cell_type": "markdown",
      "source": [
        "Classification Map"
      ],
      "metadata": {
        "id": "3OAXVOvJYsTe"
      }
    },
    {
      "cell_type": "code",
      "source": [
        "# Define step size for the mesh\n",
        "h = 0.1\n",
        "\n",
        "fig = plt.figure(figsize=(12, 12))\n",
        "\n",
        "# Create a mesh to plot in\n",
        "xx, yy = np.meshgrid(np.arange(-8, 8, h), np.arange(-4, 6, h))\n",
        "\n",
        "# Plot the decision boundary using the classifier function\n",
        "Z = classify(w, w0, np.c_[xx.ravel(), yy.ravel()])\n",
        "Z = Z.reshape(xx.shape)\n",
        "custom_map = ListedColormap(['#00DD', '#00DD00'])\n",
        "plt.contourf(xx, yy, Z, cmap=custom_map, alpha=0.6)\n",
        "\n",
        "\n",
        "# Scatter plot for class 0\n",
        "plt.scatter(class_0[:, 0], class_0[:, 1], \n",
        "            marker='o', color='green', \n",
        "            label='Class 0')\n",
        "\n",
        "# Scatter plot for class 1\n",
        "plt.scatter(class_1[:, 0], class_1[:, 1], \n",
        "            marker='s', color='blue', \n",
        "            label='Class 1',)\n",
        "\n",
        "# Set plot limits\n",
        "plt.xlim(-8, 8)\n",
        "plt.ylim(-4, 6)\n",
        "\n",
        "# Set axis ticks\n",
        "plt.xticks(np.arange(-8, 8, step=1))\n",
        "plt.yticks(np.arange(-4, 6, step=1))\n",
        "\n",
        "# Set axis labels\n",
        "plt.xlabel('X-axis')\n",
        "plt.ylabel('Y-axis')\n",
        "\n",
        "# Add labels\n",
        "plt.xlabel('x1')\n",
        "plt.ylabel('x2')\n",
        "\n",
        "# Add title\n",
        "plt.title(\"Classification Map\")\n",
        "\n",
        "# Add legend\n",
        "plt.legend(loc='lower right')\n",
        "\n",
        "\n",
        "plt.show()"
      ],
      "metadata": {
        "id": "D_owUopWTeBz",
        "outputId": "4627c967-544c-4a99-aaea-56de049b1a34",
        "colab": {
          "base_uri": "https://localhost:8080/",
          "height": 730
        }
      },
      "execution_count": 14,
      "outputs": [
        {
          "output_type": "display_data",
          "data": {
            "text/plain": [
              "<Figure size 864x864 with 1 Axes>"
            ],
            "image/png": "[encoded data removed]"
          },
          "metadata": {
            "needs_background": "light"
          }
        }
      ]
    },
    {
      "cell_type": "markdown",
      "source": [
        "## **c) Comparing the results with SVC**"
      ],
      "metadata": {
        "id": "sYbslsQoR87h"
      }
    },
    {
      "cell_type": "code",
      "source": [
        "N = X.shape[0]\n",
        "svc = svm.SVC(C = 1e16, kernel = 'linear')\n",
        "svc.fit(X, y)\n",
        "sv = svc.support_vectors_\n",
        "w_svm = svc.coef_.flatten()\n",
        "w0_svm = svc.intercept_\n",
        "print(w_svm)\n",
        "print(w0_svm) "
      ],
      "metadata": {
        "id": "VVQWW8JLV0cD",
        "outputId": "56655635-9b8c-4a2f-929f-d5f369d182ec",
        "colab": {
          "base_uri": "https://localhost:8080/"
        }
      },
      "execution_count": 15,
      "outputs": [
        {
          "output_type": "stream",
          "name": "stdout",
          "text": [
            "[ 0.47843938 -0.46434148]\n",
            "[0.33342206]\n"
          ]
        },
        {
          "output_type": "stream",
          "name": "stderr",
          "text": [
            "/usr/local/lib/python3.8/dist-packages/sklearn/utils/validation.py:993: DataConversionWarning: A column-vector y was passed when a 1d array was expected. Please change the shape of y to (n_samples, ), for example using ravel().\n",
            "  y = column_or_1d(y, warn=True)\n"
          ]
        }
      ]
    },
    {
      "cell_type": "code",
      "source": [
        "# Get the support vectors\n",
        "support_vectors = svc.support_vectors_\n",
        "\n",
        "# Get the decision function\n",
        "decision_function = svc.decision_function(support_vectors)\n",
        "\n",
        "print(\"Support vectors: \\n\", support_vectors)\n",
        "print(\"Decision function: \\n\", decision_function)"
      ],
      "metadata": {
        "id": "i4JaiyftyHsf",
        "outputId": "e7ba15b9-662a-4814-f99e-bb8655f86c4e",
        "colab": {
          "base_uri": "https://localhost:8080/"
        }
      },
      "execution_count": 16,
      "outputs": [
        {
          "output_type": "stream",
          "name": "stdout",
          "text": [
            "Support vectors: \n",
            " [[-2.13173871  0.6750482 ]\n",
            " [ 1.35009641  4.26347742]\n",
            " [ 0.02131882 -1.41405287]\n",
            " [ 1.41405287  0.02131882]]\n",
            "Decision function: \n",
            " [-0.99993858 -1.00034807  1.00022522  1.00006142]\n"
          ]
        }
      ]
    },
    {
      "cell_type": "markdown",
      "source": [
        "It is seen that support vectors returned by SVC are the same that we have calculated before:\n",
        "* Found support vectors for class 2:  [[-2.131738708535863, 0.6750482045971622], [1.3500964091943244, 4.263477417071726]]\n",
        "* Found support vectors for class 1:  [[0.021318818948875214, -1.41405286604095], [1.41405286604095, 0.021318818948875214]}\n",
        "\n",
        "\n",
        "\n"
      ],
      "metadata": {
        "id": "KVAWtQasza8G"
      }
    },
    {
      "cell_type": "code",
      "source": [
        "# Plot\n",
        "fig = plt.figure(figsize=(12, 12))\n",
        "\n",
        "# Scatter plot for class 0\n",
        "plt.scatter(class_0[:, 0], class_0[:, 1], \n",
        "            marker='o', color='green', \n",
        "            label='Class 0')\n",
        "\n",
        "# Scatter plot for class 1\n",
        "plt.scatter(class_1[:, 0], class_1[:, 1], \n",
        "            marker='x', color='blue', \n",
        "            label='Class 1')\n",
        "\n",
        "# Plot the decision boundary and the margins using the optimized values of w and w0\n",
        "plt.plot(X, (-w0.value - (w[0].value*X))/w[1].value , 'r', alpha=0.5)\n",
        "plt.plot(X, (-w0_svm - (w_svm[0]*X))/w_svm[1] , 'y', alpha=0.5)\n",
        "\n",
        "# Set plot limits\n",
        "plt.xlim(-8, 8)\n",
        "plt.ylim(-4, 6)\n",
        "\n",
        "# Set axis ticks\n",
        "plt.xticks(np.arange(-8, 8, step=1))\n",
        "plt.yticks(np.arange(-4, 6, step=1))\n",
        "\n",
        "# Set axis labels\n",
        "plt.xlabel('X-axis')\n",
        "plt.ylabel('Y-axis')\n",
        "\n",
        "# Add labels\n",
        "plt.xlabel('x1')\n",
        "plt.ylabel('x2')\n",
        "\n",
        "# Add legend\n",
        "plt.legend(loc='lower right')\n",
        "\n",
        "# Show plot\n",
        "plt.show()\n"
      ],
      "metadata": {
        "id": "4Efil8ovW6Ff",
        "outputId": "55432f81-21a1-404e-d3ad-553149ca9e2c",
        "colab": {
          "base_uri": "https://localhost:8080/",
          "height": 714
        }
      },
      "execution_count": 17,
      "outputs": [
        {
          "output_type": "display_data",
          "data": {
            "text/plain": [
              "<Figure size 864x864 with 1 Axes>"
            ],
            "image/png": "[encoded data removed]"
          },
          "metadata": {
            "needs_background": "light"
          }
        }
      ]
    },
    {
      "cell_type": "markdown",
      "source": [
        "It is seen that both support vectors returned by SVC and the corresponding decision function are almost identical."
      ],
      "metadata": {
        "id": "NQkMFk-ZXdwD"
      }
    },
    {
      "cell_type": "markdown",
      "source": [
        "# **T2**"
      ],
      "metadata": {
        "id": "BXRmESpUam3_"
      }
    },
    {
      "cell_type": "code",
      "source": [
        "ds2.loc[ds2[2] == 0, 2] = -1"
      ],
      "metadata": {
        "id": "WuRRBfEmUWbd"
      },
      "execution_count": 18,
      "outputs": []
    },
    {
      "cell_type": "code",
      "source": [
        "# Load the data and labels\n",
        "X = ds2[[0,1]].values\n",
        "y = ds2[2].values"
      ],
      "metadata": {
        "id": "vQv60PyaaY3P"
      },
      "execution_count": 19,
      "outputs": []
    },
    {
      "cell_type": "code",
      "source": [
        "# Class 0 are negatives and Class 1 are positives\n",
        "class_0 = ds2.loc[ds2[2] == -1]\n",
        "class_1 = ds2.loc[ds2[2] == 1]"
      ],
      "metadata": {
        "id": "_e7Brp8NaqkT"
      },
      "execution_count": 20,
      "outputs": []
    },
    {
      "cell_type": "code",
      "source": [
        "X_neg = class_0[[0,1]].values\n",
        "X_pos = class_1[[0,1]].values\n",
        "\n",
        "y_pos = class_0[2].values\n",
        "y_neg = class_1[2].values"
      ],
      "metadata": {
        "id": "ctZoPD8GKJzy"
      },
      "execution_count": 21,
      "outputs": []
    },
    {
      "cell_type": "code",
      "source": [
        "#Change classes to numpy\n",
        "class_0 = class_0.to_numpy()\n",
        "class_1 = class_1.to_numpy()"
      ],
      "metadata": {
        "id": "8R9FRvWBUnbz"
      },
      "execution_count": 22,
      "outputs": []
    },
    {
      "cell_type": "code",
      "source": [
        "# Plot\n",
        "fig = plt.figure(figsize=(12, 12))\n",
        "\n",
        "# Scatter plot for class 0\n",
        "plt.scatter(class_0[:, 0], class_0[:, 1], \n",
        "            marker='o', color='green', \n",
        "            label='Class 0')\n",
        "\n",
        "# Scatter plot for class 1\n",
        "plt.scatter(class_1[:, 0], class_1[:, 1], \n",
        "            marker='x', color='blue', \n",
        "            label='Class 1')\n",
        "\n",
        "# Set plot limits\n",
        "plt.xlim(-1.5, 1.5)\n",
        "plt.ylim(-1.5, 1.5)\n",
        "\n",
        "# Set axis ticks\n",
        "plt.xticks(np.arange(-1.5, 1.5, step=0.3))\n",
        "plt.yticks(np.arange(-1.5, 1.5, step=0.3))\n",
        "\n",
        "# Set axis labels\n",
        "plt.xlabel('X-axis')\n",
        "plt.ylabel('Y-axis')\n",
        "\n",
        "# Add labels\n",
        "plt.xlabel('x1')\n",
        "plt.ylabel('x2')\n",
        "\n",
        "# Add title\n",
        "plt.title(\"Training Samples in Original Space\")\n",
        "\n",
        "# Add legend\n",
        "plt.legend(loc='lower right')\n",
        "\n",
        "# Show plot\n",
        "plt.show()\n"
      ],
      "metadata": {
        "id": "j19cGeGlUG3h",
        "outputId": "8015bff8-fb96-433e-effa-709ac5825cbd",
        "colab": {
          "base_uri": "https://localhost:8080/",
          "height": 730
        }
      },
      "execution_count": 23,
      "outputs": [
        {
          "output_type": "display_data",
          "data": {
            "text/plain": [
              "<Figure size 864x864 with 1 Axes>"
            ],
            "image/png": "[encoded data removed]"
          },
          "metadata": {
            "needs_background": "light"
          }
        }
      ]
    },
    {
      "cell_type": "markdown",
      "source": [
        "Mapping the training samples to an alternative 2-dimensional space Φ(x)"
      ],
      "metadata": {
        "id": "anL2A-0ZY6CE"
      }
    },
    {
      "cell_type": "markdown",
      "source": [
        "Transformed Space:\n",
        "$$\n",
        "  Φ(x) = (x_{1}x_{2},x_{1}^2 + x_{2}^2)\n",
        "$$ "
      ],
      "metadata": {
        "id": "Hw8rCAMIY9Qb"
      }
    },
    {
      "cell_type": "code",
      "source": [
        "#positives\n",
        "X1 = X_pos[:, 0].reshape((-1, 1))\n",
        "X2 = X_pos[:, 1].reshape((-1, 1))\n",
        "x1x2 = X1 * X2\n",
        "x1x2sq = X1**2 + X2**2\n",
        "X_pos_transformed = np.hstack((x1x2, x1x2sq))\n",
        "\n",
        "#negatives\n",
        "X1 = X_neg[:, 0].reshape((-1, 1))\n",
        "X2 = X_neg[:, 1].reshape((-1, 1))\n",
        "x1x2 = X1 * X2\n",
        "x1x2sq = X1**2 + X2**2\n",
        "X_neg_transformed = np.hstack((x1x2, x1x2sq))"
      ],
      "metadata": {
        "id": "4iUhqzfIY1ou"
      },
      "execution_count": 24,
      "outputs": []
    },
    {
      "cell_type": "markdown",
      "source": [
        "Plotting the samples in the transformed space"
      ],
      "metadata": {
        "id": "8N3jmcS0Yjq2"
      }
    },
    {
      "cell_type": "code",
      "source": [
        "# Plot\n",
        "fig = plt.figure(figsize=(12, 12))\n",
        "\n",
        "# Scatter plot for class 0\n",
        "plt.scatter(X_neg_transformed[:, 0], X_neg_transformed[:, 1], \n",
        "            marker='o', color='green', \n",
        "            label='Class 0')\n",
        "\n",
        "# Scatter plot for class 1\n",
        "plt.scatter(X_pos_transformed[:, 0], X_pos_transformed[:, 1], \n",
        "            marker='x', color='blue', \n",
        "            label='Class 1')\n",
        "\n",
        "# Set plot limits\n",
        "plt.xlim(-2, 2)\n",
        "plt.ylim(-2, 2)\n",
        "\n",
        "# Set axis ticks\n",
        "plt.xticks(np.arange(-2, 2, step=0.5))\n",
        "plt.yticks(np.arange(-2, 2, step=0.5))\n",
        "\n",
        "# Set axis labels\n",
        "plt.xlabel('X-axis')\n",
        "plt.ylabel('Y-axis')\n",
        "\n",
        "# Add labels\n",
        "plt.xlabel('x1')\n",
        "plt.ylabel('x2')\n",
        "\n",
        "# Add title\n",
        "plt.title(\"Training Samples in Transformed Space\")\n",
        "\n",
        "# Add legend\n",
        "plt.legend(loc='lower right')\n",
        "\n",
        "# Show plot\n",
        "plt.show()\n"
      ],
      "metadata": {
        "id": "xzOfsXWAYdMY",
        "outputId": "5d34150c-80ce-4e05-b280-9fc2221cc504",
        "colab": {
          "base_uri": "https://localhost:8080/",
          "height": 730
        }
      },
      "execution_count": 25,
      "outputs": [
        {
          "output_type": "display_data",
          "data": {
            "text/plain": [
              "<Figure size 864x864 with 1 Axes>"
            ],
            "image/png": "[encoded data removed]"
          },
          "metadata": {
            "needs_background": "light"
          }
        }
      ]
    },
    {
      "cell_type": "markdown",
      "source": [
        "## **a) Solve for the SVM with quadratic programming solver**"
      ],
      "metadata": {
        "id": "ivUjQyMrLcRV"
      }
    },
    {
      "cell_type": "code",
      "source": [
        "def kernel(x, y):\n",
        "  return (1 + np.dot(x, y.T)) ** 3\n",
        "     \n",
        "N = X.shape[0]\n",
        "\n",
        "P = np.empty((N,  N))\n",
        "\n",
        "for i in range(N):\n",
        "\t\tfor j in range(N):\n",
        "\t\t\tP[i, j] = y[i]*y[j]*kernel(X[i], X[j])\n",
        "   \n",
        "q = -np.ones((N,1))\n",
        "G = -np.eye(N)\n",
        "h = np.zeros((N, 1))\n",
        "A = y.reshape((1, N))\n",
        "b = np.zeros((1, 1))\n",
        "\n",
        "# Convert to CVXOPT matrix format\n",
        "P = matrix(P)\n",
        "q = matrix(q)\n",
        "G = matrix(G)\n",
        "h = matrix(h)\n",
        "A = matrix(A.astype('double'))\n",
        "b = matrix(b)\n",
        "\n",
        "# Solve Optimization Problem\n",
        "sol = solvers.qp(P, q, G, h, A, b)\n",
        "lambdas = np.array(sol['x']).reshape(N)\n"
      ],
      "metadata": {
        "id": "Zw4JSM0kKgi9",
        "outputId": "0dc7f9b3-17b6-4bdf-bf9b-c476330f179b",
        "colab": {
          "base_uri": "https://localhost:8080/"
        }
      },
      "execution_count": 26,
      "outputs": [
        {
          "output_type": "stream",
          "name": "stdout",
          "text": [
            "     pcost       dcost       gap    pres   dres\n",
            " 0: -2.5704e+00 -7.5354e+00  5e+01  6e+00  1e+00\n",
            " 1: -1.0516e+00 -7.3379e+00  6e+00  1e-15  7e-16\n",
            " 2: -2.5155e+00 -3.3408e+00  8e-01  4e-16  5e-16\n",
            " 3: -2.8999e+00 -3.1904e+00  3e-01  3e-16  5e-16\n",
            " 4: -3.0264e+00 -3.0623e+00  4e-02  6e-16  7e-16\n",
            " 5: -3.0460e+00 -3.0471e+00  1e-03  4e-16  8e-16\n",
            " 6: -3.0467e+00 -3.0468e+00  4e-05  3e-16  6e-16\n",
            " 7: -3.0468e+00 -3.0468e+00  4e-07  5e-16  6e-16\n",
            "Optimal solution found.\n"
          ]
        }
      ]
    },
    {
      "cell_type": "code",
      "source": [
        "lambdas"
      ],
      "metadata": {
        "id": "Al0oYkjIjX0Z",
        "outputId": "362b0aff-8414-4a16-b54e-88bf2f895320",
        "colab": {
          "base_uri": "https://localhost:8080/"
        }
      },
      "execution_count": 27,
      "outputs": [
        {
          "output_type": "execute_result",
          "data": {
            "text/plain": [
              "array([5.70971723e-08, 1.80531919e-01, 1.66883889e-05, 2.04322048e-08,\n",
              "       3.12441699e-08, 1.45180691e-08, 1.84746747e-08, 2.57313535e-08,\n",
              "       7.48888174e-01, 1.94165148e-08, 6.29678150e-09, 1.24970092e+00,\n",
              "       1.99041307e-08, 6.15667018e-01, 3.15257331e-08, 2.56155495e-08,\n",
              "       1.91988995e-08, 3.29624488e-08, 1.58371335e-08, 1.18138387e+00,\n",
              "       5.75180670e-01, 7.93981166e-09, 2.01513715e-08, 7.95648431e-08,\n",
              "       5.95848775e-09, 2.58293512e-07, 5.49817681e-01, 1.53400570e-01,\n",
              "       3.94075701e-08, 5.28927581e-08, 2.20836551e-08, 8.38916139e-01])"
            ]
          },
          "metadata": {},
          "execution_count": 27
        }
      ]
    },
    {
      "cell_type": "code",
      "source": [
        "SV = np.where(lambdas > 1e-4)[0][0]\n",
        "w_org = np.array([0, 0])\n",
        "for lm, y_i, x_i in zip(lambdas, y, X):\n",
        "           cur_i = lm * y_i * x_i\n",
        "           w_org = np.add(w_org, cur_i)\n",
        "w0_org = y[SV] - sum(lambdas * y * kernel(X, X[SV]))\n",
        "# Print the values of the optimized variables\n",
        "print(w_org, w0_org) "
      ],
      "metadata": {
        "id": "PF_KCL_mPwEm",
        "outputId": "25f698ff-fbb5-4566-8bb0-06d6b567a6fc",
        "colab": {
          "base_uri": "https://localhost:8080/"
        }
      },
      "execution_count": 28,
      "outputs": [
        {
          "output_type": "stream",
          "name": "stdout",
          "text": [
            "[-0.03706209  0.05087745] 1.8857837012704088\n"
          ]
        }
      ]
    },
    {
      "cell_type": "markdown",
      "source": [
        "### **a.1) Report the support vectors in the original space**"
      ],
      "metadata": {
        "id": "WTGzXdHiLt3V"
      }
    },
    {
      "cell_type": "code",
      "source": [
        "support_vectors_indices = np.where(lambdas > 1e-4)[0]\n",
        "support_vectors = []\n",
        "for i in range(N):\n",
        "  if i in support_vectors_indices:\n",
        "    support_vectors.append(X[i])\n",
        "support_vectors = np.array(support_vectors)\n",
        "\n",
        "print(\"Support vectors indices: \", support_vectors_indices)\n",
        "print(\"Support vectors in the original space:\")\n",
        "print(support_vectors)"
      ],
      "metadata": {
        "id": "aP4qqdITFXJs",
        "outputId": "1311d665-653a-4b45-e34a-7f0c1e1f96a0",
        "colab": {
          "base_uri": "https://localhost:8080/"
        }
      },
      "execution_count": 29,
      "outputs": [
        {
          "output_type": "stream",
          "name": "stdout",
          "text": [
            "Support vectors indices:  [ 1  8 11 13 19 20 26 27 31]\n",
            "Support vectors in the original space:\n",
            "[[ 0.93177858  0.39247832]\n",
            " [-0.65965904  0.69641677]\n",
            " [ 0.20615067  0.53764932]\n",
            " [ 0.02155068 -0.52469778]\n",
            " [-0.53995339 -0.15720944]\n",
            " [ 0.48751958  0.92202874]\n",
            " [ 0.72494518 -0.62098264]\n",
            " [-0.91519216 -0.39227158]\n",
            " [-0.64694443 -0.72577596]]\n"
          ]
        }
      ]
    },
    {
      "cell_type": "markdown",
      "source": [
        "### **a.2) calculate and report the resulting decision functions**"
      ],
      "metadata": {
        "id": "a2dVQxgzL9oK"
      }
    },
    {
      "cell_type": "markdown",
      "source": [
        "Mapping the training samples to an alternative 2-dimensional space Φ(x)"
      ],
      "metadata": {
        "id": "GiTShgOsMffp"
      }
    },
    {
      "cell_type": "markdown",
      "source": [
        "Transformed Space:\n",
        "$$\n",
        "  Φ(x) = (x_{1}x_{2},x_{1}^2 + x_{2}^2)\n",
        "$$ "
      ],
      "metadata": {
        "id": "TDYzZMuUNHw_"
      }
    },
    {
      "cell_type": "code",
      "source": [
        "X1 = X[:, 0].reshape((-1, 1))\n",
        "X2 = X[:, 1].reshape((-1, 1))\n",
        "x1x2 = X1 * X2\n",
        "x1x2sq = X1**2 + X2**2\n",
        "X_transformed = np.hstack((x1x2, x1x2sq))"
      ],
      "metadata": {
        "id": "EtoCFQtBMIxG"
      },
      "execution_count": 30,
      "outputs": []
    },
    {
      "cell_type": "code",
      "source": [
        "# N is the number of rows in the data matrix X\n",
        "N = X_transformed.shape[0]\n",
        "\n",
        "# Reshape y to match the shape of X\n",
        "y = y.reshape((N,1))\n",
        "\n",
        "# Create variables for the weights and bias\n",
        "w = cp.Variable((2,1))\n",
        "w0 = cp.Variable()\n",
        "\n",
        "# Define the loss function as the L2 norm of w squared, which is equivalent to the L2 regularization\n",
        "loss = cp.Minimize(0.5 * cp.square(cp.norm(w)))\n",
        "\n",
        "# Create an empty list to store the constraints\n",
        "constr = []\n",
        "\n",
        "# Iterate through each data point and add a constraint for it\n",
        "for i in range(N):\n",
        "  xi, yi = X_transformed[i,:], y[i]\n",
        "  constr += [yi @ (xi @ w + w0) >= 1]\n",
        "\n",
        "# Create the optimization problem with the loss and constraints\n",
        "prob = cp.Problem(loss, constr)\n",
        "\n",
        "# Solve the problem\n",
        "prob.solve()\n",
        "\n",
        "# Print the values of the optimized variables\n",
        "print(w.value, w0.value) # w = [1.0, -1.0], w0 = -1.0"
      ],
      "metadata": {
        "id": "8fNSQMaoMG_R",
        "outputId": "73e189c7-f368-48d9-f8ff-dacf81b24d88",
        "colab": {
          "base_uri": "https://localhost:8080/"
        }
      },
      "execution_count": 31,
      "outputs": [
        {
          "output_type": "stream",
          "name": "stdout",
          "text": [
            "[[ 0.12358649]\n",
            " [-3.33103156]] 2.090755204584221\n"
          ]
        }
      ]
    },
    {
      "cell_type": "markdown",
      "source": [
        "Decision Funtion in the transformed space:\n",
        "$$\n",
        "  g(x') = 0.1235x'_{1} - 3.331x'_{2} + 2.0907\n",
        "$$ "
      ],
      "metadata": {
        "id": "dqL_WX7wOfXU"
      }
    },
    {
      "cell_type": "code",
      "source": [
        "print(w_org, w0_org) "
      ],
      "metadata": {
        "id": "rbeAyACDSF3F",
        "outputId": "415339c1-9ef1-4089-fc7a-64e29a541f44",
        "colab": {
          "base_uri": "https://localhost:8080/"
        }
      },
      "execution_count": 32,
      "outputs": [
        {
          "output_type": "stream",
          "name": "stdout",
          "text": [
            "[-0.03706209  0.05087745] 1.8857837012704088\n"
          ]
        }
      ]
    },
    {
      "cell_type": "markdown",
      "source": [
        "Decision Funtion in the original space:\n",
        "$$\n",
        "  g_2(x') = -0.037Φ(x'_{1}) + 0.0508Φ(x'_{2}) + 1.8857\n",
        "$$ "
      ],
      "metadata": {
        "id": "VYZGWD2uPfvi"
      }
    },
    {
      "cell_type": "markdown",
      "source": [
        "## **b) Generate the plots**"
      ],
      "metadata": {
        "id": "cSSbMehzOgZj"
      }
    },
    {
      "cell_type": "markdown",
      "source": [
        "The plot with the training samples, highlighting the support vectors in ***transformed space***"
      ],
      "metadata": {
        "id": "T-pzooYgZegj"
      }
    },
    {
      "cell_type": "code",
      "source": [
        "# Plot\n",
        "fig = plt.figure(figsize=(12, 12))\n",
        "\n",
        "# Scatter plot for class 0\n",
        "plt.scatter(X_neg_transformed[:, 0], X_neg_transformed[:, 1], \n",
        "            marker='o', color='green', \n",
        "            label='Class 0')\n",
        "\n",
        "# Scatter plot for class 1\n",
        "plt.scatter(X_pos_transformed[:, 0], X_pos_transformed[:, 1], \n",
        "            marker='x', color='blue', \n",
        "            label='Class 1')\n",
        "\n",
        "# Plot the decision boundary and the margins using the optimized values of w and w0\n",
        "plt.plot(X, (-w0.value - (w[0].value*X))/w[1].value , 'r', alpha=0.6)\n",
        "\n",
        "# Plot the positive margin\n",
        "plt.plot(X, (-w0.value - (w[0].value*X)+1)/w[1].value ,'b', alpha=0.4)\n",
        "\n",
        "# Plot the negative margin\n",
        "plt.plot(X, (-w0.value - (w[0].value*X)-1)/w[1].value , 'g', alpha=0.4)\n",
        "\n",
        "# Set plot limits\n",
        "plt.xlim(-2, 2)\n",
        "plt.ylim(-2, 2)\n",
        "\n",
        "# Set axis ticks\n",
        "plt.xticks(np.arange(-2, 2, step=0.5))\n",
        "plt.yticks(np.arange(-2, 2, step=0.5))\n",
        "\n",
        "# Set axis labels\n",
        "plt.xlabel('X-axis')\n",
        "plt.ylabel('Y-axis')\n",
        "\n",
        "# Add labels\n",
        "plt.xlabel('x1')\n",
        "plt.ylabel('x2')\n",
        "\n",
        "# Add title\n",
        "plt.title(\"The plot with the training samples, highlighting the support vectors in *transformed space*\")\n",
        "\n",
        "# Add legend\n",
        "plt.legend(loc='lower right')\n",
        "\n",
        "# Show plot\n",
        "plt.show()\n"
      ],
      "metadata": {
        "id": "DVcQ5tsUNKfy",
        "outputId": "1260ac0b-b206-4a14-f313-c95d4b5e8b4c",
        "colab": {
          "base_uri": "https://localhost:8080/",
          "height": 730
        }
      },
      "execution_count": 33,
      "outputs": [
        {
          "output_type": "display_data",
          "data": {
            "text/plain": [
              "<Figure size 864x864 with 1 Axes>"
            ],
            "image/png": "[encoded data removed]"
          },
          "metadata": {
            "needs_background": "light"
          }
        }
      ]
    },
    {
      "cell_type": "markdown",
      "source": [
        "The plot with the training samples, highlighting the decision curve in ***original space***"
      ],
      "metadata": {
        "id": "so2rqK9CZlI4"
      }
    },
    {
      "cell_type": "code",
      "source": [
        "# Plot\n",
        "fig = plt.figure(figsize=(12, 12))\n",
        "\n",
        "# Scatter plot for class 0\n",
        "plt.scatter(class_0[:, 0], class_0[:, 1], \n",
        "            marker='o', color='green', \n",
        "            label='Class 0')\n",
        "\n",
        "# Scatter plot for class 1\n",
        "plt.scatter(class_1[:, 0], class_1[:, 1], \n",
        "            marker='x', color='blue', \n",
        "            label='Class 1')\n",
        "\n",
        "h = 0.1\n",
        "# Create a mesh to plot in\n",
        "xx, yy = np.meshgrid(np.arange(-3, 3, h), np.arange(-3, 3, h))\n",
        "\n",
        "# Concatenate the xx and yy values\n",
        "d = np.concatenate((xx.ravel().reshape(-1, 1), yy.ravel().reshape(-1, 1)), axis=1)\n",
        "\n",
        "# Compute the Z values for the contour plot\n",
        "Z = b + np.sum(lambdas.reshape((N, 1)) * y. reshape((N, 1)) * kernel(X, d), axis=0)\n",
        "Z = Z.reshape(xx.shape)\n",
        "\n",
        "# Plot the decision boundar\n",
        "plt.contour(xx, yy, Z, levels=[-2])\n",
        "\n",
        "# Set plot limits\n",
        "plt.xlim(-1.5, 1.5)\n",
        "plt.ylim(-1.5, 1.5)\n",
        "\n",
        "# Set axis ticks\n",
        "plt.xticks(np.arange(-1.5, 1.5, step=0.3))\n",
        "plt.yticks(np.arange(-1.5, 1.5, step=0.3))\n",
        "\n",
        "# Set axis labels\n",
        "plt.xlabel('X-axis')\n",
        "plt.ylabel('Y-axis')\n",
        "\n",
        "# Add labels\n",
        "plt.xlabel('x1')\n",
        "plt.ylabel('x2')\n",
        "\n",
        "# Add title\n",
        "plt.title(\"The plot with the training samples, highlighting the decision curve in *original space*\")\n",
        "\n",
        "# Add legend\n",
        "plt.legend(loc='lower right')\n",
        "\n",
        "# Show plot\n",
        "plt.show()\n"
      ],
      "metadata": {
        "id": "A6LvrF1Ha8xR",
        "outputId": "ad1943b9-b7a8-4bcd-90c1-7f617edb8bc9",
        "colab": {
          "base_uri": "https://localhost:8080/",
          "height": 730
        }
      },
      "execution_count": 34,
      "outputs": [
        {
          "output_type": "display_data",
          "data": {
            "text/plain": [
              "<Figure size 864x864 with 1 Axes>"
            ],
            "image/png": "[encoded data removed]"
          },
          "metadata": {
            "needs_background": "light"
          }
        }
      ]
    },
    {
      "cell_type": "markdown",
      "source": [
        "the classification map in the original space"
      ],
      "metadata": {
        "id": "ESKeVimGnxde"
      }
    },
    {
      "cell_type": "code",
      "source": [
        "# Define step size for the mesh\n",
        "h = 0.1\n",
        "\n",
        "fig = plt.figure(figsize=(12, 12))\n",
        "\n",
        "# Create a mesh to plot in\n",
        "xx, yy = np.meshgrid(np.arange(-3, 3, h), np.arange(-3, 3, h))\n",
        "\n",
        "# Plot the decision boundary using the classifier function\n",
        "custom_map = ListedColormap(['#00DD00', '#00DD'])\n",
        "plt.contourf(xx, yy, Z, cmap=custom_map, alpha=0.5)\n",
        "\n",
        "\n",
        "# Scatter plot for class 0\n",
        "plt.scatter(class_0[:, 0], class_0[:, 1], \n",
        "            marker='o', color='green', \n",
        "            label='Class 0')\n",
        "\n",
        "# Scatter plot for class 1\n",
        "plt.scatter(class_1[:, 0], class_1[:, 1], \n",
        "            marker='s', color='blue', \n",
        "            label='Class 1',)\n",
        "\n",
        "# Set plot limits\n",
        "plt.xlim(-1.5, 1.5)\n",
        "plt.ylim(-1.5, 1.5)\n",
        "\n",
        "# Set axis ticks\n",
        "plt.xticks(np.arange(-1.5, 1.5, step=0.3))\n",
        "plt.yticks(np.arange(-1.5, 1.5, step=0.3))\n",
        "\n",
        "# Set axis labels\n",
        "plt.xlabel('X-axis')\n",
        "plt.ylabel('Y-axis')\n",
        "\n",
        "# Add labels\n",
        "plt.xlabel('x1')\n",
        "plt.ylabel('x2')\n",
        "\n",
        "# Add title\n",
        "plt.title(\"Classification Map\")\n",
        "\n",
        "# Add legend\n",
        "plt.legend(loc='lower right')\n",
        "\n",
        "\n",
        "plt.show()"
      ],
      "metadata": {
        "colab": {
          "base_uri": "https://localhost:8080/",
          "height": 730
        },
        "id": "NWmb7UkCop3n",
        "outputId": "021901bb-2841-42ec-f163-cbfab05045ab"
      },
      "execution_count": 35,
      "outputs": [
        {
          "output_type": "display_data",
          "data": {
            "text/plain": [
              "<Figure size 864x864 with 1 Axes>"
            ],
            "image/png": "[encoded data removed]"
          },
          "metadata": {
            "needs_background": "light"
          }
        }
      ]
    },
    {
      "cell_type": "markdown",
      "source": [
        "## **c) Comparing the results with SVC**"
      ],
      "metadata": {
        "id": "0aOh_2IQq9V2"
      }
    },
    {
      "cell_type": "code",
      "source": [
        "from sklearn.svm import SVC\n",
        "# get gram matrix \n",
        "n_samples = X.shape[0]\n",
        "gram_matrix = np.empty((n_samples, n_samples))\n",
        "\n",
        "# fill the gram matrix with kernel values \n",
        "for i in range(n_samples):\n",
        "    for j in range(n_samples):\n",
        "        gram_matrix[i, j] = kernel(X[i], X[j])\n",
        "\n",
        "\n",
        "# convert y values to -1 and 1 \n",
        "for idx in range(len(y)):\n",
        "    if y[idx][0] == 0: \n",
        "        y[idx] = [-1]\n",
        "\n",
        "# create an array of 1's and 0's corresponding to y values \n",
        "hue_y = []\n",
        "for idx in range(len(y)):\n",
        "    if y[idx] == -1: \n",
        "        hue_y.append(0)\n",
        "    else: \n",
        "        hue_y.append(1)\n",
        "\n",
        "# to force a perfect classification of the training set\n",
        "c_val = 1e12\n",
        "\n",
        "# create SVC classifier with precomputed kernel and regularization parameter \n",
        "clf = SVC(kernel='precomputed', C=c_val)\n",
        "clf.fit(gram_matrix, y.ravel())\n",
        "\n",
        "# get support vectors and decision function \n",
        "support_vectors = clf.support_\n",
        "w0 = clf.intercept_\n",
        "decision_function = clf.decision_function(gram_matrix)\n",
        "\n",
        "# get dual coefficients \n",
        "lmi_yi = clf.dual_coef_\n",
        "\n",
        "# calculate lambda * yi for corresponding support vectors \n",
        "lm_arr = np.zeros(n_samples)\n",
        "for cur_sv, cur_lmi_yi in zip(support_vectors, lmi_yi.ravel()):\n",
        "    lmi = cur_lmi_yi * y.ravel()[cur_sv]\n",
        "    lm_arr[cur_sv] = lmi\n",
        "\n",
        "# reshape lambda array \n",
        "lm_arr = lm_arr.reshape(-1, 1)\n",
        "\n",
        "# calculate w \n",
        "w = sum(lm_arr * y * X)\n",
        "\n",
        "# printing the support vectors \n",
        "print(\"Support vectors  from the scikit-learn SVC :\")\n",
        "print(X[support_vectors])\n",
        "\n",
        "# print w and w0 values \n",
        "print(\"The values of w from the scikit-learn SVC:\", w)\n",
        "print(\"The value of w0 from the scikit-learn SVC \", w0[0])\n"
      ],
      "metadata": {
        "colab": {
          "base_uri": "https://localhost:8080/"
        },
        "id": "_BGxwKUWtRUy",
        "outputId": "9f6256a5-b048-4ddb-fe3f-954c620dbfdb"
      },
      "execution_count": 38,
      "outputs": [
        {
          "output_type": "stream",
          "name": "stdout",
          "text": [
            "Support vectors  from the scikit-learn SVC :\n",
            "[[ 0.93177858  0.39247832]\n",
            " [-0.65965904  0.69641677]\n",
            " [ 0.48751958  0.92202874]\n",
            " [ 0.72494518 -0.62098264]\n",
            " [-0.91519216 -0.39227158]\n",
            " [-0.64694443 -0.72577596]\n",
            " [ 0.20615067  0.53764932]\n",
            " [ 0.02155068 -0.52469778]\n",
            " [-0.53995339 -0.15720944]]\n",
            "The values of w from the scikit-learn SVC: [-0.03640866  0.05079516]\n",
            "The value of w0 from the scikit-learn SVC  1.8863233063548297\n"
          ]
        }
      ]
    },
    {
      "cell_type": "markdown",
      "source": [
        "Comparing previous values"
      ],
      "metadata": {
        "id": "3SVWUq2ZAelH"
      }
    },
    {
      "cell_type": "code",
      "source": [
        "print(w_org, w0_org) "
      ],
      "metadata": {
        "colab": {
          "base_uri": "https://localhost:8080/"
        },
        "id": "yjCBjZ6kARC3",
        "outputId": "1df42fba-089b-4159-ed17-5bec52468cec"
      },
      "execution_count": 117,
      "outputs": [
        {
          "output_type": "stream",
          "name": "stdout",
          "text": [
            "[-0.03706209  0.05087745] 1.8857837012704088\n"
          ]
        }
      ]
    },
    {
      "cell_type": "markdown",
      "source": [
        "Decision Funtion:\n",
        "$$\n",
        "  g_2(x') = -0.0364Φ(x'_{1}) + 0.05079Φ(x'_{2}) + 1.8863\n",
        "$$ "
      ],
      "metadata": {
        "id": "jqRDOkzhAbXN"
      }
    },
    {
      "cell_type": "markdown",
      "source": [
        "They are almost the same!"
      ],
      "metadata": {
        "id": "s_8f8QssBHI7"
      }
    },
    {
      "cell_type": "markdown",
      "source": [
        "## **d) Comparing the results with SVC for 'rbf' kernal**"
      ],
      "metadata": {
        "id": "yfVAMAg1EeXv"
      }
    },
    {
      "cell_type": "code",
      "source": [
        "from sklearn.svm import SVC\n",
        "# get gram matrix \n",
        "n_samples = X.shape[0]\n",
        "gram_matrix = np.empty((n_samples, n_samples))\n",
        "\n",
        "# fill the gram matrix with kernel values \n",
        "for i in range(n_samples):\n",
        "    for j in range(n_samples):\n",
        "        gram_matrix[i, j] = kernel(X[i], X[j])\n",
        "\n",
        "\n",
        "# convert y values to -1 and 1 \n",
        "for idx in range(len(y)):\n",
        "    if y[idx][0] == 0: \n",
        "        y[idx] = [-1]\n",
        "\n",
        "# create an array of 1's and 0's corresponding to y values \n",
        "hue_y = []\n",
        "for idx in range(len(y)):\n",
        "    if y[idx] == -1: \n",
        "        hue_y.append(0)\n",
        "    else: \n",
        "        hue_y.append(1)\n",
        "\n",
        "# to force a perfect classification of the training set\n",
        "c_val = 1e12\n",
        "\n",
        "# create SVC classifier with precomputed kernel and regularization parameter \n",
        "clf = SVC(kernel='rbf', C=c_val, gamma=1)\n",
        "clf.fit(gram_matrix, y.ravel())\n",
        "\n",
        "# get support vectors and decision function \n",
        "support_vectors = clf.support_\n",
        "w0 = clf.intercept_\n",
        "decision_function = clf.decision_function(gram_matrix)\n",
        "\n",
        "# get dual coefficients \n",
        "lmi_yi = clf.dual_coef_\n",
        "\n",
        "# calculate lambda * yi for corresponding support vectors \n",
        "lm_arr = np.zeros(n_samples)\n",
        "for cur_sv, cur_lmi_yi in zip(support_vectors, lmi_yi.ravel()):\n",
        "    lmi = cur_lmi_yi * y.ravel()[cur_sv]\n",
        "    lm_arr[cur_sv] = lmi\n",
        "\n",
        "# reshape lambda array \n",
        "lm_arr = lm_arr.reshape(-1, 1)\n",
        "\n",
        "# calculate w \n",
        "w = sum(lm_arr * y * X)\n",
        "\n",
        "# printing the support vectors \n",
        "print(\"Support vectors  from the scikit-learn SVC :\")\n",
        "print(X[support_vectors])\n",
        "\n",
        "# print w and w0 values \n",
        "print(\"The values of w from the scikit-learn SVC:\", w)\n",
        "print(\"The value of w0 from the scikit-learn SVC \", w0[0])\n"
      ],
      "metadata": {
        "colab": {
          "base_uri": "https://localhost:8080/"
        },
        "id": "T7B9YhXDFS7a",
        "outputId": "6a5194b1-ef4b-4c21-d2b1-e92e40a36a0c"
      },
      "execution_count": 40,
      "outputs": [
        {
          "output_type": "stream",
          "name": "stdout",
          "text": [
            "Support vectors  from the scikit-learn SVC :\n",
            "[[ 0.93177858  0.39247832]\n",
            " [-1.01283459  0.01326375]\n",
            " [-0.34062917 -0.95604755]\n",
            " [ 0.98776486  0.05650065]\n",
            " [-0.65965904  0.69641677]\n",
            " [-0.47999076  0.94241591]\n",
            " [-0.96836378  0.37747135]\n",
            " [ 0.397968   -0.98043212]\n",
            " [ 0.48751958  0.92202874]\n",
            " [ 0.02136256  1.06287645]\n",
            " [ 0.99945165 -0.35971565]\n",
            " [ 0.72828234  0.77402887]\n",
            " [ 0.72494518 -0.62098264]\n",
            " [-0.91519216 -0.39227158]\n",
            " [-0.04255727 -1.03348659]\n",
            " [-0.64694443 -0.72577596]\n",
            " [ 0.50225699 -0.0040131 ]\n",
            " [ 0.21613659 -0.41421755]\n",
            " [-0.0116211   0.44752944]\n",
            " [ 0.34658016  0.35554526]\n",
            " [ 0.43872323  0.200325  ]\n",
            " [ 0.20615067  0.53764932]\n",
            " [-0.1195835   0.45827011]\n",
            " [ 0.02155068 -0.52469778]\n",
            " [-0.53001393  0.04941238]\n",
            " [ 0.40192782 -0.20891975]\n",
            " [-0.31753332 -0.32292457]\n",
            " [-0.53995339 -0.15720944]\n",
            " [-0.36191934  0.31487637]\n",
            " [-0.21505056 -0.46066945]\n",
            " [ 0.31598159 -0.35227077]\n",
            " [-0.47733448  0.25234365]]\n",
            "The values of w from the scikit-learn SVC: [-0.34078459 -0.06121092]\n",
            "The value of w0 from the scikit-learn SVC  -0.03256044061439501\n"
          ]
        }
      ]
    },
    {
      "cell_type": "markdown",
      "source": [
        "When using rbf, there are more support vectors"
      ],
      "metadata": {
        "id": "0-Q94BfsF9iJ"
      }
    },
    {
      "cell_type": "markdown",
      "source": [
        "# **T3**"
      ],
      "metadata": {
        "id": "i2rwLdylarOr"
      }
    },
    {
      "cell_type": "code",
      "source": [
        "ds3tr.loc[ds3tr[2] == 0, 2] = -1\n",
        "ds3te.loc[ds3te[2] == 0, 2] = -1"
      ],
      "metadata": {
        "id": "1GHGes81g0Nm"
      },
      "execution_count": null,
      "outputs": []
    },
    {
      "cell_type": "code",
      "source": [
        "#Train and test\n",
        "X_train = ds3tr.drop(columns=[2])\n",
        "y_train = ds3tr[2]\n",
        "\n",
        "X_test = ds3te.drop(columns=[2])\n",
        "y_test = ds3te[2]"
      ],
      "metadata": {
        "id": "aM4uKosQqkfo"
      },
      "execution_count": null,
      "outputs": []
    },
    {
      "cell_type": "code",
      "source": [
        "# Class 0 are negatives and Class 1 are positives\n",
        "class_0 = ds3tr.loc[ds3tr[2] == -1]\n",
        "class_1 = ds3tr.loc[ds3tr[2] == 1]\n",
        "\n",
        "class_0 = class_0.to_numpy()\n",
        "class_1 = class_1.to_numpy()"
      ],
      "metadata": {
        "id": "XStS9d_CgmZd"
      },
      "execution_count": null,
      "outputs": []
    },
    {
      "cell_type": "markdown",
      "source": [
        "plotting the samples"
      ],
      "metadata": {
        "id": "_Noroj33gbzD"
      }
    },
    {
      "cell_type": "code",
      "source": [
        "# Plot\n",
        "fig = plt.figure(figsize=(12, 12))\n",
        "\n",
        "# Scatter plot for class 0\n",
        "plt.scatter(class_0[:, 0], class_0[:, 1], \n",
        "            marker='o', color='green', \n",
        "            label='Class 0')\n",
        "\n",
        "# Scatter plot for class 1\n",
        "plt.scatter(class_1[:, 0], class_1[:, 1], \n",
        "            marker='x', color='blue', \n",
        "            label='Class 1')\n",
        "\n",
        "# Set plot limits\n",
        "plt.xlim(-15, 15)\n",
        "plt.ylim(-10, 10)\n",
        "\n",
        "# Set axis ticks\n",
        "plt.xticks(np.arange(-15, 15, step=1))\n",
        "plt.yticks(np.arange(-10, 10, step=1))\n",
        "\n",
        "# Set axis labels\n",
        "plt.xlabel('X-axis')\n",
        "plt.ylabel('Y-axis')\n",
        "\n",
        "# Add labels\n",
        "plt.xlabel('x1')\n",
        "plt.ylabel('x2')\n",
        "\n",
        "# Add legend\n",
        "plt.legend(loc='lower right')\n",
        "\n",
        "# Show plot\n",
        "plt.show()\n"
      ],
      "metadata": {
        "id": "m-ZF84mEgeHK",
        "outputId": "1718d920-4a72-42a1-c744-c40057214add",
        "colab": {
          "base_uri": "https://localhost:8080/",
          "height": 714
        }
      },
      "execution_count": null,
      "outputs": [
        {
          "output_type": "display_data",
          "data": {
            "text/plain": [
              "<Figure size 864x864 with 1 Axes>"
            ],
            "image/png": "[encoded data removed]"
          },
          "metadata": {
            "needs_background": "light"
          }
        }
      ]
    },
    {
      "cell_type": "markdown",
      "source": [
        "## **a, b) hyper-parameters tuning and the best performing classifier**"
      ],
      "metadata": {
        "id": "2taLqgLOo2yq"
      }
    },
    {
      "cell_type": "markdown",
      "source": [
        "5 cross-validation using accuracy as a metric"
      ],
      "metadata": {
        "id": "kUygPgcLkhyj"
      }
    },
    {
      "cell_type": "code",
      "source": [
        "knn = KNeighborsClassifier()\n",
        "params = [{'n_neighbors': [3,5,7,9],'metric': ['euclidean', 'manhattan','cityblock','minkowski']}]\n",
        "\n",
        "gs_knn = GridSearchCV(knn,\n",
        "                      param_grid=params,\n",
        "                      scoring='accuracy',\n",
        "                      cv=5) # 5 cross-validation\n",
        "gs_knn.fit(X_train, y_train)\n",
        "gs_knn.best_params_"
      ],
      "metadata": {
        "id": "fNCVAmjUl_M3",
        "outputId": "86ecbb70-6db1-4695-d023-693fe0f5ce19",
        "colab": {
          "base_uri": "https://localhost:8080/"
        }
      },
      "execution_count": null,
      "outputs": [
        {
          "output_type": "execute_result",
          "data": {
            "text/plain": [
              "{'metric': 'manhattan', 'n_neighbors': 7}"
            ]
          },
          "metadata": {},
          "execution_count": 39
        }
      ]
    },
    {
      "cell_type": "markdown",
      "source": [
        "Best distance metric is manhattan and the best value for number og neighbors is 7"
      ],
      "metadata": {
        "id": "2ayf2j_zn9x-"
      }
    },
    {
      "cell_type": "code",
      "source": [
        "gs_knn"
      ],
      "metadata": {
        "id": "NYp9EeaIk94z",
        "outputId": "3734046f-ee14-427f-e710-b9d57f65fd68",
        "colab": {
          "base_uri": "https://localhost:8080/"
        }
      },
      "execution_count": null,
      "outputs": [
        {
          "output_type": "execute_result",
          "data": {
            "text/plain": [
              "GridSearchCV(cv=5, estimator=KNeighborsClassifier(),\n",
              "             param_grid=[{'metric': ['euclidean', 'manhattan', 'cityblock',\n",
              "                                     'minkowski'],\n",
              "                          'n_neighbors': [3, 5, 7, 9]}],\n",
              "             scoring='accuracy')"
            ]
          },
          "metadata": {},
          "execution_count": 40
        }
      ]
    },
    {
      "cell_type": "markdown",
      "source": [
        "The best accuracy score is shown "
      ],
      "metadata": {
        "id": "LL-bn41lkXAp"
      }
    },
    {
      "cell_type": "code",
      "source": [
        "# Printing top performing accuracy score\n",
        "print(\"The best accuracy score: \", gs_knn.best_score_)"
      ],
      "metadata": {
        "id": "k9gKMKjsie02",
        "outputId": "697ef4b5-da82-4258-fe1a-0744452f3e37",
        "colab": {
          "base_uri": "https://localhost:8080/"
        }
      },
      "execution_count": null,
      "outputs": [
        {
          "output_type": "stream",
          "name": "stdout",
          "text": [
            "The best accuracy score:  0.9583333333333334\n"
          ]
        }
      ]
    },
    {
      "cell_type": "markdown",
      "source": [
        "Training knn with best params"
      ],
      "metadata": {
        "id": "fPsKwabFlML_"
      }
    },
    {
      "cell_type": "code",
      "source": [
        "knn = KNeighborsClassifier(metric='manhattan',n_neighbors=7)\n",
        "\n",
        "knn.fit(X_train, y_train)"
      ],
      "metadata": {
        "id": "bnSsNSE2lLlF",
        "outputId": "96107ead-21b3-4942-d28d-43621c734e85",
        "colab": {
          "base_uri": "https://localhost:8080/"
        }
      },
      "execution_count": null,
      "outputs": [
        {
          "output_type": "execute_result",
          "data": {
            "text/plain": [
              "KNeighborsClassifier(metric='manhattan', n_neighbors=7)"
            ]
          },
          "metadata": {},
          "execution_count": 42
        }
      ]
    },
    {
      "cell_type": "markdown",
      "source": [
        "## **c) Plot the training samples on classification map**"
      ],
      "metadata": {
        "id": "K8VagsyslV_W"
      }
    },
    {
      "cell_type": "code",
      "source": [
        "# Define step size for the mesh\n",
        "h = 0.1\n",
        "\n",
        "fig = plt.figure(figsize=(12, 12))\n",
        "\n",
        "# Create a mesh to plot in\n",
        "xx, yy = np.meshgrid(np.arange(-15, 15, h), np.arange(-10, 10, h))\n",
        "\n",
        "# Plot the decision boundary using the classifier function\n",
        "Z = knn.predict(np.c_[xx.ravel(), yy.ravel()])\n",
        "Z = Z.reshape(xx.shape)\n",
        "custom_map = ListedColormap(['#00DD00', '#00DD'])\n",
        "plt.contourf(xx, yy, Z, cmap=custom_map, alpha=0.6)\n",
        "\n",
        "\n",
        "# Scatter plot for class 0\n",
        "plt.scatter(class_0[:, 0], class_0[:, 1], \n",
        "            marker='o', color='green', \n",
        "            label='Class 0')\n",
        "\n",
        "# Scatter plot for class 1\n",
        "plt.scatter(class_1[:, 0], class_1[:, 1], \n",
        "            marker='s', color='blue', \n",
        "            label='Class 1',)\n",
        "\n",
        "# Set plot limits\n",
        "plt.xlim(-15, 15)\n",
        "plt.ylim(-10, 10)\n",
        "\n",
        "# Set axis ticks\n",
        "plt.xticks(np.arange(-15, 15, step=1))\n",
        "plt.yticks(np.arange(-10, 10, step=1))\n",
        "\n",
        "# Set axis labels\n",
        "plt.xlabel('X-axis')\n",
        "plt.ylabel('Y-axis')\n",
        "\n",
        "# Add labels\n",
        "plt.xlabel('x1')\n",
        "plt.ylabel('x2')\n",
        "\n",
        "# Add title\n",
        "plt.title(\"Classification Map and train samples\")\n",
        "\n",
        "# Add legend\n",
        "plt.legend(loc='lower right')\n",
        "\n",
        "\n",
        "plt.show()"
      ],
      "metadata": {
        "id": "JnCBwH87lhRW",
        "outputId": "3f0871e1-98b7-4768-e87e-2044328d113d",
        "colab": {
          "base_uri": "https://localhost:8080/",
          "height": 730
        }
      },
      "execution_count": null,
      "outputs": [
        {
          "output_type": "display_data",
          "data": {
            "text/plain": [
              "<Figure size 864x864 with 1 Axes>"
            ],
            "image/png": "[encoded data removed]"
          },
          "metadata": {
            "needs_background": "light"
          }
        }
      ]
    },
    {
      "cell_type": "markdown",
      "source": [
        "## **d) Reporting on the classifier performance using the test dataset**"
      ],
      "metadata": {
        "id": "3UjIe3LFo3Cw"
      }
    },
    {
      "cell_type": "code",
      "source": [
        "# use the trained model to make predictions on the test data set\n",
        "y_pred = knn.predict(X_test) "
      ],
      "metadata": {
        "id": "voqjxmafrtlZ"
      },
      "execution_count": null,
      "outputs": []
    },
    {
      "cell_type": "code",
      "source": [
        "test_accuracy = accuracy_score(y_test, y_pred)\n",
        "test_precision = precision_score(y_test, y_pred)\n",
        "test_recall = recall_score(y_test, y_pred)\n",
        "test_f1 = f1_score(y_test, y_pred)\n",
        "\n",
        "print(\"Test accuracy: \", test_accuracy)\n",
        "print(\"Test precision: \", test_precision)\n",
        "print(\"Test recall: \", test_recall)\n",
        "print(\"Test f1-score: \", test_f1)"
      ],
      "metadata": {
        "id": "d5p9rptwr2qj",
        "outputId": "b25c6282-ef26-4d8f-f1ec-612c48feb52c",
        "colab": {
          "base_uri": "https://localhost:8080/"
        }
      },
      "execution_count": null,
      "outputs": [
        {
          "output_type": "stream",
          "name": "stdout",
          "text": [
            "Test accuracy:  0.9666666666666667\n",
            "Test precision:  0.9333333333333333\n",
            "Test recall:  1.0\n",
            "Test f1-score:  0.9655172413793104\n"
          ]
        }
      ]
    },
    {
      "cell_type": "code",
      "source": [
        "print(classification_report(y_test, y_pred)) # evaluate the model's performance using a classification report\n",
        "\n",
        "print(\"ROC AUC score: \",roc_auc_score(y_test, y_pred)) # check the performance of the model using ROC score."
      ],
      "metadata": {
        "id": "Swl8Ifkko1zR",
        "outputId": "35855b01-e528-4fba-9baf-e618e48fc816",
        "colab": {
          "base_uri": "https://localhost:8080/"
        }
      },
      "execution_count": null,
      "outputs": [
        {
          "output_type": "stream",
          "name": "stdout",
          "text": [
            "              precision    recall  f1-score   support\n",
            "\n",
            "        -1.0       1.00      0.94      0.97        32\n",
            "         1.0       0.93      1.00      0.97        28\n",
            "\n",
            "    accuracy                           0.97        60\n",
            "   macro avg       0.97      0.97      0.97        60\n",
            "weighted avg       0.97      0.97      0.97        60\n",
            "\n",
            "ROC AUC score:  0.96875\n"
          ]
        }
      ]
    },
    {
      "cell_type": "code",
      "source": [
        "# Class 0 are negatives and Class 1 are positives\n",
        "class_0 = ds3te.loc[ds3te[2] == -1]\n",
        "class_1 = ds3te.loc[ds3te[2] == 1]\n",
        "\n",
        "class_0 = class_0.to_numpy()\n",
        "class_1 = class_1.to_numpy()"
      ],
      "metadata": {
        "id": "hdyRv4kXsPZC"
      },
      "execution_count": null,
      "outputs": []
    },
    {
      "cell_type": "markdown",
      "source": [
        "Plotting the test samples over the already calculated classification map"
      ],
      "metadata": {
        "id": "2RR2GxPOsD26"
      }
    },
    {
      "cell_type": "code",
      "source": [
        "# Define step size for the mesh\n",
        "h = 0.1\n",
        "\n",
        "fig = plt.figure(figsize=(12, 12))\n",
        "\n",
        "# Create a mesh to plot in\n",
        "xx, yy = np.meshgrid(np.arange(-15, 15, h), np.arange(-10, 10, h))\n",
        "\n",
        "# Plot the decision boundary using the classifier function\n",
        "Z = knn.predict(np.c_[xx.ravel(), yy.ravel()])\n",
        "Z = Z.reshape(xx.shape)\n",
        "custom_map = ListedColormap(['#00DD00', '#00DD'])\n",
        "plt.contourf(xx, yy, Z, cmap=custom_map, alpha=0.6)\n",
        "\n",
        "\n",
        "# Scatter plot for class 0\n",
        "plt.scatter(class_0[:, 0], class_0[:, 1], \n",
        "            marker='o', color='green', \n",
        "            label='Class 0')\n",
        "\n",
        "# Scatter plot for class 1\n",
        "plt.scatter(class_1[:, 0], class_1[:, 1], \n",
        "            marker='s', color='blue', \n",
        "            label='Class 1',)\n",
        "\n",
        "# Set plot limits\n",
        "plt.xlim(-15, 15)\n",
        "plt.ylim(-10, 10)\n",
        "\n",
        "# Set axis ticks\n",
        "plt.xticks(np.arange(-15, 15, step=1))\n",
        "plt.yticks(np.arange(-10, 10, step=1))\n",
        "\n",
        "# Set axis labels\n",
        "plt.xlabel('X-axis')\n",
        "plt.ylabel('Y-axis')\n",
        "\n",
        "# Add labels\n",
        "plt.xlabel('x1')\n",
        "plt.ylabel('x2')\n",
        "\n",
        "# Add title\n",
        "plt.title(\"Classification Map and test samples\")\n",
        "\n",
        "# Add legend\n",
        "plt.legend(loc='lower right')\n",
        "\n",
        "plt.show()"
      ],
      "metadata": {
        "id": "Dy2R4e5GsBGQ",
        "outputId": "a5ebf890-24d3-4fee-e456-cc217d6497ee",
        "colab": {
          "base_uri": "https://localhost:8080/",
          "height": 730
        }
      },
      "execution_count": null,
      "outputs": [
        {
          "output_type": "display_data",
          "data": {
            "text/plain": [
              "<Figure size 864x864 with 1 Axes>"
            ],
            "image/png": "[encoded data removed]"
          },
          "metadata": {
            "needs_background": "light"
          }
        }
      ]
    },
    {
      "cell_type": "markdown",
      "source": [
        "## **e) Obtain an improved estimation**"
      ],
      "metadata": {
        "id": "GCFXur3hs5e0"
      }
    },
    {
      "cell_type": "code",
      "source": [
        "# specifying the evaluation metrics\n",
        "scoring = {'Accuracy': 'accuracy',\n",
        "           'Precision': make_scorer(precision_score, average='binary'),\n",
        "           'Recall': make_scorer(recall_score, average='binary'),\n",
        "           'F1': make_scorer(f1_score, average='binary')}\n",
        "\n",
        "# creating the cross-validation using 3-repetition, 5-fold \n",
        "cv = RepeatedStratifiedKFold(n_splits=5, n_repeats=3, random_state=14659232)\n",
        "\n",
        "X = np.concatenate((X_train, X_test), axis=0)\n",
        "y = np.concatenate((y_train, y_test), axis=0)\n",
        "\n",
        "scores = cross_validate(knn, X, y, scoring=scoring, cv=cv, n_jobs=-1)\n",
        "\n",
        "for metric in scoring:\n",
        "  mean = np.mean(scores['test_' + metric])\n",
        "  std = np.std(scores['test_' + metric])\n",
        "  print(f'{metric}: {mean:.4f} (+/- {std * 2:.4f})')\n",
        "print()"
      ],
      "metadata": {
        "id": "MjvIonA7s7ry",
        "outputId": "0c304e1a-afa0-4241-9860-05cf5cbe4e6b",
        "colab": {
          "base_uri": "https://localhost:8080/"
        }
      },
      "execution_count": null,
      "outputs": [
        {
          "output_type": "stream",
          "name": "stdout",
          "text": [
            "Accuracy: 0.9511 (+/- 0.0463)\n",
            "Precision: 0.9422 (+/- 0.0656)\n",
            "Recall: 0.9622 (+/- 0.0479)\n",
            "F1: 0.9518 (+/- 0.0454)\n",
            "\n"
          ]
        }
      ]
    }
  ]
}
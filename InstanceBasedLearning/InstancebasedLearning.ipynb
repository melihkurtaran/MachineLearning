{
  "nbformat": 4,
  "nbformat_minor": 0,
  "metadata": {
    "colab": {
      "provenance": [],
      "authorship_tag": "ABX9TyN1JmnUO7arDnud++V3U6bc",
      "include_colab_link": true
    },
    "kernelspec": {
      "name": "python3",
      "display_name": "Python 3"
    },
    "language_info": {
      "name": "python"
    }
  },
  "cells": [
    {
      "cell_type": "markdown",
      "metadata": {
        "id": "view-in-github",
        "colab_type": "text"
      },
      "source": [
        "<a href=\"https://colab.research.google.com/github/melihkurtaran/MachineLearning/blob/main/InstanceBasedLearning/InstancebasedLearning.ipynb\" target=\"_parent\"><img src=\"https://colab.research.google.com/assets/colab-badge.svg\" alt=\"Open In Colab\"/></a>"
      ]
    },
    {
      "cell_type": "markdown",
      "source": [
        "**Instance-based Learning Project**"
      ],
      "metadata": {
        "id": "OQxo35L4d_9E"
      }
    },
    {
      "cell_type": "code",
      "source": [
        "!pip install cvxpy # download cvxpy"
      ],
      "metadata": {
        "colab": {
          "base_uri": "https://localhost:8080/"
        },
        "id": "I2pH4z4jezwj",
        "outputId": "5469c597-5027-4938-d6f8-59b618b6408d"
      },
      "execution_count": 1,
      "outputs": [
        {
          "output_type": "stream",
          "name": "stdout",
          "text": [
            "Looking in indexes: https://pypi.org/simple, https://us-python.pkg.dev/colab-wheels/public/simple/\n",
            "Requirement already satisfied: cvxpy in /usr/local/lib/python3.8/dist-packages (1.2.3)\n",
            "Requirement already satisfied: numpy>=1.15 in /usr/local/lib/python3.8/dist-packages (from cvxpy) (1.21.6)\n",
            "Requirement already satisfied: scipy>=1.1.0 in /usr/local/lib/python3.8/dist-packages (from cvxpy) (1.7.3)\n",
            "Requirement already satisfied: osqp>=0.4.1 in /usr/local/lib/python3.8/dist-packages (from cvxpy) (0.6.2.post0)\n",
            "Requirement already satisfied: setuptools<=64.0.2 in /usr/local/lib/python3.8/dist-packages (from cvxpy) (57.4.0)\n",
            "Requirement already satisfied: scs>=1.1.6 in /usr/local/lib/python3.8/dist-packages (from cvxpy) (3.2.2)\n",
            "Requirement already satisfied: ecos>=2 in /usr/local/lib/python3.8/dist-packages (from cvxpy) (2.0.12)\n",
            "Requirement already satisfied: qdldl in /usr/local/lib/python3.8/dist-packages (from osqp>=0.4.1->cvxpy) (0.1.5.post2)\n"
          ]
        }
      ]
    },
    {
      "cell_type": "code",
      "source": [
        "#Import Libraries\n",
        "import numpy as np\n",
        "import pandas as pd\n",
        "from sklearn import svm\n",
        "import cvxpy as cp\n",
        "from cvxopt import matrix, solvers\n",
        "from matplotlib import pyplot as plt\n",
        "from sklearn.neighbors import KNeighborsClassifier\n",
        "from sklearn.metrics import classification_report\n",
        "from sklearn.metrics import roc_auc_score\n",
        "from sklearn.model_selection import GridSearchCV\n",
        "from sklearn.model_selection import RepeatedKFold\n",
        "from sklearn.model_selection import cross_val_score\n",
        "import seaborn as sns\n",
        "from matplotlib.colors import ListedColormap\n",
        "from sklearn import neighbors, datasets"
      ],
      "metadata": {
        "id": "kL3TQO-hldtX"
      },
      "execution_count": 60,
      "outputs": []
    },
    {
      "cell_type": "code",
      "source": [
        "#Connect to GitHub for faster access\n",
        "!git clone https://github.com/melihkurtaran/MachineLearning.git"
      ],
      "metadata": {
        "colab": {
          "base_uri": "https://localhost:8080/"
        },
        "id": "Q3uy616df7q5",
        "outputId": "99a31cfc-1a01-4ed3-c5a7-c2262a3121d7"
      },
      "execution_count": 3,
      "outputs": [
        {
          "output_type": "stream",
          "name": "stdout",
          "text": [
            "Cloning into 'MachineLearning'...\n",
            "remote: Enumerating objects: 100, done.\u001b[K\n",
            "remote: Counting objects: 100% (100/100), done.\u001b[K\n",
            "remote: Compressing objects: 100% (82/82), done.\u001b[K\n",
            "remote: Total 100 (delta 51), reused 43 (delta 17), pack-reused 0\u001b[K\n",
            "Receiving objects: 100% (100/100), 4.04 MiB | 15.43 MiB/s, done.\n",
            "Resolving deltas: 100% (51/51), done.\n"
          ]
        }
      ]
    },
    {
      "cell_type": "markdown",
      "source": [
        "My group number is 9"
      ],
      "metadata": {
        "id": "wBs5K2V1eF2T"
      }
    },
    {
      "cell_type": "code",
      "source": [
        "#Reading the files\n",
        "\n",
        "#for task 1\n",
        "ds1 = pd.read_csv('MachineLearning/InstanceBasedLearning/ds091.txt', sep=\" \", header=None, index_col=False, skiprows=1)\n",
        "\n",
        "#for task 2\n",
        "ds2 = pd.read_csv('MachineLearning/InstanceBasedLearning/ds092.txt', sep=\" \", header=None, index_col=False, skiprows=1)\n",
        "\n",
        "#for task 3\n",
        "ds3tr = pd.read_csv('MachineLearning/InstanceBasedLearning/ds093tr.txt', sep=\" \", header=None, index_col=False, skiprows=1)\n",
        "ds3te = pd.read_csv('MachineLearning/InstanceBasedLearning/ds093te.txt', sep=\" \", header=None, index_col=False, skiprows=1)"
      ],
      "metadata": {
        "id": "aYh8c01AeTiC"
      },
      "execution_count": 4,
      "outputs": []
    },
    {
      "cell_type": "markdown",
      "source": [
        "# **T1**"
      ],
      "metadata": {
        "id": "kHuX39kJhjht"
      }
    },
    {
      "cell_type": "code",
      "source": [
        "ds1.loc[ds1[2] == 0, 2] = -1"
      ],
      "metadata": {
        "id": "pzu5b6ieXxRC"
      },
      "execution_count": 5,
      "outputs": []
    },
    {
      "cell_type": "code",
      "source": [
        "# Load the data and labels\n",
        "X = ds1[[0,1]].values\n",
        "y = ds1[2].values"
      ],
      "metadata": {
        "id": "mbiKMrGEjpTU"
      },
      "execution_count": 6,
      "outputs": []
    },
    {
      "cell_type": "code",
      "source": [
        "# Class 0 are negatives and Class 1 are positives\n",
        "class_0 = ds1.loc[ds1[2] == -1]\n",
        "class_1 = ds1.loc[ds1[2] == 1]\n",
        "\n",
        "class_0"
      ],
      "metadata": {
        "colab": {
          "base_uri": "https://localhost:8080/",
          "height": 300
        },
        "id": "OpUt9KuXau5J",
        "outputId": "a2f2a4b5-d7e4-49d0-a3bb-21c2d1837b41"
      },
      "execution_count": 7,
      "outputs": [
        {
          "output_type": "execute_result",
          "data": {
            "text/plain": [
              "          0         1    2\n",
              "0 -2.131739  0.675048 -1.0\n",
              "1 -5.656211 -0.085275 -1.0\n",
              "2  1.350096  4.263477 -1.0\n",
              "3 -3.567110  2.067782 -1.0\n",
              "4 -0.781642  4.938526 -1.0\n",
              "5 -4.938526 -0.781642 -1.0\n",
              "6 -2.153058  2.089101 -1.0\n",
              "7 -3.545792  0.653729 -1.0"
            ],
            "text/html": [
              "\n",
              "  <div id=\"df-92744613-fe5b-4fc0-9494-872ca7678e23\">\n",
              "    <div class=\"colab-df-container\">\n",
              "      <div>\n",
              "<style scoped>\n",
              "    .dataframe tbody tr th:only-of-type {\n",
              "        vertical-align: middle;\n",
              "    }\n",
              "\n",
              "    .dataframe tbody tr th {\n",
              "        vertical-align: top;\n",
              "    }\n",
              "\n",
              "    .dataframe thead th {\n",
              "        text-align: right;\n",
              "    }\n",
              "</style>\n",
              "<table border=\"1\" class=\"dataframe\">\n",
              "  <thead>\n",
              "    <tr style=\"text-align: right;\">\n",
              "      <th></th>\n",
              "      <th>0</th>\n",
              "      <th>1</th>\n",
              "      <th>2</th>\n",
              "    </tr>\n",
              "  </thead>\n",
              "  <tbody>\n",
              "    <tr>\n",
              "      <th>0</th>\n",
              "      <td>-2.131739</td>\n",
              "      <td>0.675048</td>\n",
              "      <td>-1.0</td>\n",
              "    </tr>\n",
              "    <tr>\n",
              "      <th>1</th>\n",
              "      <td>-5.656211</td>\n",
              "      <td>-0.085275</td>\n",
              "      <td>-1.0</td>\n",
              "    </tr>\n",
              "    <tr>\n",
              "      <th>2</th>\n",
              "      <td>1.350096</td>\n",
              "      <td>4.263477</td>\n",
              "      <td>-1.0</td>\n",
              "    </tr>\n",
              "    <tr>\n",
              "      <th>3</th>\n",
              "      <td>-3.567110</td>\n",
              "      <td>2.067782</td>\n",
              "      <td>-1.0</td>\n",
              "    </tr>\n",
              "    <tr>\n",
              "      <th>4</th>\n",
              "      <td>-0.781642</td>\n",
              "      <td>4.938526</td>\n",
              "      <td>-1.0</td>\n",
              "    </tr>\n",
              "    <tr>\n",
              "      <th>5</th>\n",
              "      <td>-4.938526</td>\n",
              "      <td>-0.781642</td>\n",
              "      <td>-1.0</td>\n",
              "    </tr>\n",
              "    <tr>\n",
              "      <th>6</th>\n",
              "      <td>-2.153058</td>\n",
              "      <td>2.089101</td>\n",
              "      <td>-1.0</td>\n",
              "    </tr>\n",
              "    <tr>\n",
              "      <th>7</th>\n",
              "      <td>-3.545792</td>\n",
              "      <td>0.653729</td>\n",
              "      <td>-1.0</td>\n",
              "    </tr>\n",
              "  </tbody>\n",
              "</table>\n",
              "</div>\n",
              "      <button class=\"colab-df-convert\" onclick=\"convertToInteractive('df-92744613-fe5b-4fc0-9494-872ca7678e23')\"\n",
              "              title=\"Convert this dataframe to an interactive table.\"\n",
              "              style=\"display:none;\">\n",
              "        \n",
              "  <svg xmlns=\"http://www.w3.org/2000/svg\" height=\"24px\"viewBox=\"0 0 24 24\"\n",
              "       width=\"24px\">\n",
              "    <path d=\"M0 0h24v24H0V0z\" fill=\"none\"/>\n",
              "    <path d=\"M18.56 5.44l.94 2.06.94-2.06 2.06-.94-2.06-.94-.94-2.06-.94 2.06-2.06.94zm-11 1L8.5 8.5l.94-2.06 2.06-.94-2.06-.94L8.5 2.5l-.94 2.06-2.06.94zm10 10l.94 2.06.94-2.06 2.06-.94-2.06-.94-.94-2.06-.94 2.06-2.06.94z\"/><path d=\"M17.41 7.96l-1.37-1.37c-.4-.4-.92-.59-1.43-.59-.52 0-1.04.2-1.43.59L10.3 9.45l-7.72 7.72c-.78.78-.78 2.05 0 2.83L4 21.41c.39.39.9.59 1.41.59.51 0 1.02-.2 1.41-.59l7.78-7.78 2.81-2.81c.8-.78.8-2.07 0-2.86zM5.41 20L4 18.59l7.72-7.72 1.47 1.35L5.41 20z\"/>\n",
              "  </svg>\n",
              "      </button>\n",
              "      \n",
              "  <style>\n",
              "    .colab-df-container {\n",
              "      display:flex;\n",
              "      flex-wrap:wrap;\n",
              "      gap: 12px;\n",
              "    }\n",
              "\n",
              "    .colab-df-convert {\n",
              "      background-color: #E8F0FE;\n",
              "      border: none;\n",
              "      border-radius: 50%;\n",
              "      cursor: pointer;\n",
              "      display: none;\n",
              "      fill: #1967D2;\n",
              "      height: 32px;\n",
              "      padding: 0 0 0 0;\n",
              "      width: 32px;\n",
              "    }\n",
              "\n",
              "    .colab-df-convert:hover {\n",
              "      background-color: #E2EBFA;\n",
              "      box-shadow: 0px 1px 2px rgba(60, 64, 67, 0.3), 0px 1px 3px 1px rgba(60, 64, 67, 0.15);\n",
              "      fill: #174EA6;\n",
              "    }\n",
              "\n",
              "    [theme=dark] .colab-df-convert {\n",
              "      background-color: #3B4455;\n",
              "      fill: #D2E3FC;\n",
              "    }\n",
              "\n",
              "    [theme=dark] .colab-df-convert:hover {\n",
              "      background-color: #434B5C;\n",
              "      box-shadow: 0px 1px 3px 1px rgba(0, 0, 0, 0.15);\n",
              "      filter: drop-shadow(0px 1px 2px rgba(0, 0, 0, 0.3));\n",
              "      fill: #FFFFFF;\n",
              "    }\n",
              "  </style>\n",
              "\n",
              "      <script>\n",
              "        const buttonEl =\n",
              "          document.querySelector('#df-92744613-fe5b-4fc0-9494-872ca7678e23 button.colab-df-convert');\n",
              "        buttonEl.style.display =\n",
              "          google.colab.kernel.accessAllowed ? 'block' : 'none';\n",
              "\n",
              "        async function convertToInteractive(key) {\n",
              "          const element = document.querySelector('#df-92744613-fe5b-4fc0-9494-872ca7678e23');\n",
              "          const dataTable =\n",
              "            await google.colab.kernel.invokeFunction('convertToInteractive',\n",
              "                                                     [key], {});\n",
              "          if (!dataTable) return;\n",
              "\n",
              "          const docLinkHtml = 'Like what you see? Visit the ' +\n",
              "            '<a target=\"_blank\" href=https://colab.research.google.com/notebooks/data_table.ipynb>data table notebook</a>'\n",
              "            + ' to learn more about interactive tables.';\n",
              "          element.innerHTML = '';\n",
              "          dataTable['output_type'] = 'display_data';\n",
              "          await google.colab.output.renderOutput(dataTable, element);\n",
              "          const docLink = document.createElement('div');\n",
              "          docLink.innerHTML = docLinkHtml;\n",
              "          element.appendChild(docLink);\n",
              "        }\n",
              "      </script>\n",
              "    </div>\n",
              "  </div>\n",
              "  "
            ]
          },
          "metadata": {},
          "execution_count": 7
        }
      ]
    },
    {
      "cell_type": "code",
      "source": [
        "class_0 = class_0.to_numpy()\n",
        "class_1 = class_1.to_numpy()"
      ],
      "metadata": {
        "id": "TvOXpykZcSvU"
      },
      "execution_count": 8,
      "outputs": []
    },
    {
      "cell_type": "markdown",
      "source": [
        "Plot the samples"
      ],
      "metadata": {
        "id": "9vWB_ix9Tj10"
      }
    },
    {
      "cell_type": "code",
      "source": [
        "# Plot\n",
        "fig = plt.figure(figsize=(12, 12))\n",
        "\n",
        "# Scatter plot for class 0\n",
        "plt.scatter(class_0[:, 0], class_0[:, 1], \n",
        "            marker='o', color='green', \n",
        "            label='Class 0')\n",
        "\n",
        "# Scatter plot for class 1\n",
        "plt.scatter(class_1[:, 0], class_1[:, 1], \n",
        "            marker='x', color='blue', \n",
        "            label='Class 1')\n",
        "\n",
        "# Set plot limits\n",
        "plt.xlim(-8, 8)\n",
        "plt.ylim(-5, 8)\n",
        "\n",
        "# Set axis ticks\n",
        "plt.xticks(np.arange(-8, 8, step=1))\n",
        "plt.yticks(np.arange(-5, 8, step=1))\n",
        "\n",
        "# Set axis labels\n",
        "plt.xlabel('X-axis')\n",
        "plt.ylabel('Y-axis')\n",
        "\n",
        "# Add labels\n",
        "plt.xlabel('x1')\n",
        "plt.ylabel('x2')\n",
        "\n",
        "# Add legend\n",
        "plt.legend(loc='lower right')\n",
        "\n",
        "# Show plot\n",
        "plt.show()\n"
      ],
      "metadata": {
        "colab": {
          "base_uri": "https://localhost:8080/",
          "height": 714
        },
        "id": "z4KPwOptcNjL",
        "outputId": "70ca9120-ec84-413b-d1af-b16c6c842a47"
      },
      "execution_count": 9,
      "outputs": [
        {
          "output_type": "display_data",
          "data": {
            "text/plain": [
              "<Figure size 864x864 with 1 Axes>"
            ],
            "image/png": "[encoded data removed]"
          },
          "metadata": {
            "needs_background": "light"
          }
        }
      ]
    },
    {
      "cell_type": "markdown",
      "source": [
        "## **a) Solve for the SVM with quadratic programming solver**"
      ],
      "metadata": {
        "id": "P9m5hARPbdTM"
      }
    },
    {
      "cell_type": "code",
      "source": [
        "# N is the number of rows in the data matrix X\n",
        "N = X.shape[0]\n",
        "\n",
        "# Reshape y to match the shape of X\n",
        "y = y.reshape((N,1))\n",
        "\n",
        "# Create variables for the weights and bias\n",
        "w = cp.Variable((2,1))\n",
        "w0 = cp.Variable()\n",
        "\n",
        "# Define the loss function as the L2 norm of w squared, which is equivalent to the L2 regularization\n",
        "loss = cp.Minimize(0.5 * cp.square(cp.norm(w)))\n",
        "\n",
        "# Create an empty list to store the constraints\n",
        "constr = []\n",
        "\n",
        "# Iterate through each data point and add a constraint for it\n",
        "for i in range(N):\n",
        "  xi, yi = X[i,:], y[i]\n",
        "  constr += [yi @ (xi @ w + w0) >= 1]\n",
        "\n",
        "# Create the optimization problem with the loss and constraints\n",
        "prob = cp.Problem(loss, constr)\n",
        "\n",
        "# Solve the problem\n",
        "prob.solve()\n",
        "\n",
        "# Print the values of the optimized variables\n",
        "print(w.value, w0.value) # w = [1.0, -1.0], w0 = -1.0"
      ],
      "metadata": {
        "colab": {
          "base_uri": "https://localhost:8080/"
        },
        "id": "s-XuLC8vYu3r",
        "outputId": "9354fd67-b8ff-43fa-b802-0fd5c9734c6e"
      },
      "execution_count": 10,
      "outputs": [
        {
          "output_type": "stream",
          "name": "stdout",
          "text": [
            "[[ 0.47845723]\n",
            " [-0.46424468]] 0.33333333339392063\n"
          ]
        }
      ]
    },
    {
      "cell_type": "code",
      "source": [
        "def classify(w, w0, X):\n",
        "    n = len(X)\n",
        "    predictions = np.zeros(n)\n",
        "    for i in range(n):\n",
        "        x1, x2 = X[i, 0], X[i, 1]\n",
        "        class_found = (-w0.value - (w[0].value*x1))/w[1].value\n",
        "        if(round(x2, 2) >= np.round(class_found, 2)):\n",
        "            predictions[i] = 1\n",
        "        else:\n",
        "            predictions[i] = 0\n",
        "    return predictions\n"
      ],
      "metadata": {
        "id": "2TyqvRNOUQLE"
      },
      "execution_count": 17,
      "outputs": []
    },
    {
      "cell_type": "markdown",
      "source": [
        "##**b) Generating Plots**"
      ],
      "metadata": {
        "id": "vsfOD0xLRtWf"
      }
    },
    {
      "cell_type": "markdown",
      "source": [
        "The plot with the training samples, highlighting the support vectors and plotting the 2D decision curve"
      ],
      "metadata": {
        "id": "zkivl349SaAr"
      }
    },
    {
      "cell_type": "code",
      "source": [
        "# Plot\n",
        "fig = plt.figure(figsize=(12, 12))\n",
        "\n",
        "# Scatter plot for class 0\n",
        "plt.scatter(class_0[:, 0], class_0[:, 1], \n",
        "            marker='o', color='green', \n",
        "            label='Class 0')\n",
        "\n",
        "# Scatter plot for class 1\n",
        "plt.scatter(class_1[:, 0], class_1[:, 1], \n",
        "            marker='s', color='blue', \n",
        "            label='Class 1',)\n",
        "\n",
        "# Plot the decision boundary and the margins using the optimized values of w and w0\n",
        "plt.plot(X, (-w0.value - (w[0].value*X))/w[1].value , 'r', alpha=0.6)\n",
        "\n",
        "# Plot the positive margin\n",
        "plt.plot(X, (-w0.value - (w[0].value*X)+1)/w[1].value ,'b', alpha=0.4)\n",
        "\n",
        "# Plot the negative margin\n",
        "plt.plot(X, (-w0.value - (w[0].value*X)-1)/w[1].value , 'g', alpha=0.4)\n",
        "\n",
        "# Set plot limits\n",
        "plt.xlim(-8, 8)\n",
        "plt.ylim(-4, 6)\n",
        "\n",
        "# Set axis ticks\n",
        "plt.xticks(np.arange(-8, 8, step=1))\n",
        "plt.yticks(np.arange(-4, 6, step=1))\n",
        "\n",
        "# Set axis labels\n",
        "plt.xlabel('X-axis')\n",
        "plt.ylabel('Y-axis')\n",
        "\n",
        "# Add labels\n",
        "plt.xlabel('x1')\n",
        "plt.ylabel('x2')\n",
        "\n",
        "# Add legend\n",
        "plt.legend(loc='lower right')\n",
        "\n",
        "# Add title\n",
        "plt.title(\"The plot with the training samples, highlighting the support vectors and plotting the 2D decision curve\")\n",
        "\n",
        "# Show plot\n",
        "plt.show()\n"
      ],
      "metadata": {
        "colab": {
          "base_uri": "https://localhost:8080/",
          "height": 730
        },
        "id": "KGx7RPMcZuFH",
        "outputId": "ba136364-5cb2-4f0d-f438-f643cbe35fc8"
      },
      "execution_count": 37,
      "outputs": [
        {
          "output_type": "display_data",
          "data": {
            "text/plain": [
              "<Figure size 864x864 with 1 Axes>"
            ],
            "image/png": "[encoded data removed]"
          },
          "metadata": {
            "needs_background": "light"
          }
        }
      ]
    },
    {
      "cell_type": "markdown",
      "source": [
        "Classification Map"
      ],
      "metadata": {
        "id": "3OAXVOvJYsTe"
      }
    },
    {
      "cell_type": "code",
      "source": [
        "# Define step size for the mesh\n",
        "h = 0.1\n",
        "\n",
        "fig = plt.figure(figsize=(12, 12))\n",
        "\n",
        "# Create a mesh to plot in\n",
        "xx, yy = np.meshgrid(np.arange(-8, 8, h), np.arange(-4, 6, h))\n",
        "\n",
        "# Plot the decision boundary using the classifier function\n",
        "Z = classify(w, w0, np.c_[xx.ravel(), yy.ravel()])\n",
        "Z = Z.reshape(xx.shape)\n",
        "custom_map = ListedColormap(['#00DD', '#00DD00'])\n",
        "plt.contourf(xx, yy, Z, cmap=custom_map, alpha=0.6)\n",
        "\n",
        "\n",
        "# Scatter plot for class 0\n",
        "plt.scatter(class_0[:, 0], class_0[:, 1], \n",
        "            marker='o', color='green', \n",
        "            label='Class 0')\n",
        "\n",
        "# Scatter plot for class 1\n",
        "plt.scatter(class_1[:, 0], class_1[:, 1], \n",
        "            marker='s', color='blue', \n",
        "            label='Class 1',)\n",
        "\n",
        "# Set plot limits\n",
        "plt.xlim(-8, 8)\n",
        "plt.ylim(-4, 6)\n",
        "\n",
        "# Set axis ticks\n",
        "plt.xticks(np.arange(-8, 8, step=1))\n",
        "plt.yticks(np.arange(-4, 6, step=1))\n",
        "\n",
        "# Set axis labels\n",
        "plt.xlabel('X-axis')\n",
        "plt.ylabel('Y-axis')\n",
        "\n",
        "# Add labels\n",
        "plt.xlabel('x1')\n",
        "plt.ylabel('x2')\n",
        "\n",
        "# Add title\n",
        "plt.title(\"Classification Map\")\n",
        "\n",
        "# Add legend\n",
        "plt.legend(loc='lower right')\n",
        "\n",
        "\n",
        "plt.show()"
      ],
      "metadata": {
        "id": "D_owUopWTeBz",
        "outputId": "e8b258c5-4ea8-40a2-bf4d-380bff89fb08",
        "colab": {
          "base_uri": "https://localhost:8080/",
          "height": 714
        }
      },
      "execution_count": 40,
      "outputs": [
        {
          "output_type": "display_data",
          "data": {
            "text/plain": [
              "<Figure size 864x864 with 1 Axes>"
            ],
            "image/png": "[encoded data removed]"
          },
          "metadata": {
            "needs_background": "light"
          }
        }
      ]
    },
    {
      "cell_type": "markdown",
      "source": [
        "## **c) Comparing the results with SVC**"
      ],
      "metadata": {
        "id": "sYbslsQoR87h"
      }
    },
    {
      "cell_type": "code",
      "source": [
        "from sklearn import svm\n",
        "N = X.shape[0]\n",
        "clf = svm.SVC(C = 1e16, kernel = 'linear')\n",
        "clf.fit(X, y)\n",
        "sv = clf.support_vectors_\n",
        "w_svm = clf.coef_.flatten()\n",
        "w0_svm = clf.intercept_\n",
        "print(w_svm)\n",
        "print(w0_svm) "
      ],
      "metadata": {
        "id": "VVQWW8JLV0cD",
        "outputId": "c9c6c75c-4cc5-4136-f60a-6179b218b82b",
        "colab": {
          "base_uri": "https://localhost:8080/"
        }
      },
      "execution_count": 12,
      "outputs": [
        {
          "output_type": "stream",
          "name": "stdout",
          "text": [
            "[ 0.47843938 -0.46434148]\n",
            "[0.33342206]\n"
          ]
        },
        {
          "output_type": "stream",
          "name": "stderr",
          "text": [
            "/usr/local/lib/python3.8/dist-packages/sklearn/utils/validation.py:993: DataConversionWarning: A column-vector y was passed when a 1d array was expected. Please change the shape of y to (n_samples, ), for example using ravel().\n",
            "  y = column_or_1d(y, warn=True)\n"
          ]
        }
      ]
    },
    {
      "cell_type": "code",
      "source": [
        "# Plot\n",
        "fig = plt.figure(figsize=(12, 12))\n",
        "\n",
        "# Scatter plot for class 0\n",
        "plt.scatter(class_0[:, 0], class_0[:, 1], \n",
        "            marker='o', color='green', \n",
        "            label='Class 0')\n",
        "\n",
        "# Scatter plot for class 1\n",
        "plt.scatter(class_1[:, 0], class_1[:, 1], \n",
        "            marker='x', color='blue', \n",
        "            label='Class 1')\n",
        "\n",
        "# Plot the decision boundary and the margins using the optimized values of w and w0\n",
        "plt.plot(X, (-w0.value - (w[0].value*X))/w[1].value , 'r', alpha=0.5)\n",
        "plt.plot(X, (-w0_svm - (w_svm[0]*X))/w_svm[1] , 'y', alpha=0.5)\n",
        "\n",
        "# Set plot limits\n",
        "plt.xlim(-8, 8)\n",
        "plt.ylim(-4, 6)\n",
        "\n",
        "# Set axis ticks\n",
        "plt.xticks(np.arange(-8, 8, step=1))\n",
        "plt.yticks(np.arange(-4, 6, step=1))\n",
        "\n",
        "# Set axis labels\n",
        "plt.xlabel('X-axis')\n",
        "plt.ylabel('Y-axis')\n",
        "\n",
        "# Add labels\n",
        "plt.xlabel('x1')\n",
        "plt.ylabel('x2')\n",
        "\n",
        "# Add legend\n",
        "plt.legend(loc='lower right')\n",
        "\n",
        "# Show plot\n",
        "plt.show()\n"
      ],
      "metadata": {
        "id": "4Efil8ovW6Ff",
        "outputId": "40f84179-13bb-478f-8107-c2d3484f0006",
        "colab": {
          "base_uri": "https://localhost:8080/",
          "height": 714
        }
      },
      "execution_count": 42,
      "outputs": [
        {
          "output_type": "display_data",
          "data": {
            "text/plain": [
              "<Figure size 864x864 with 1 Axes>"
            ],
            "image/png": "[encoded data removed]"
          },
          "metadata": {
            "needs_background": "light"
          }
        }
      ]
    },
    {
      "cell_type": "markdown",
      "source": [
        "It is seen that both support vectors returned by SVC and the corresponding decision function are almost identical."
      ],
      "metadata": {
        "id": "NQkMFk-ZXdwD"
      }
    },
    {
      "cell_type": "markdown",
      "source": [
        "# **T2**"
      ],
      "metadata": {
        "id": "BXRmESpUam3_"
      }
    },
    {
      "cell_type": "code",
      "source": [
        "ds2.loc[ds2[2] == 0, 2] = -1"
      ],
      "metadata": {
        "id": "WuRRBfEmUWbd"
      },
      "execution_count": 44,
      "outputs": []
    },
    {
      "cell_type": "code",
      "source": [
        "# Load the data and labels\n",
        "X = ds2[[0,1]].values\n",
        "y = ds2[2].values"
      ],
      "metadata": {
        "id": "vQv60PyaaY3P"
      },
      "execution_count": 45,
      "outputs": []
    },
    {
      "cell_type": "code",
      "source": [
        "# Class 0 are negatives and Class 1 are positives\n",
        "class_0 = ds2.loc[ds2[2] == -1]\n",
        "class_1 = ds2.loc[ds2[2] == 1]"
      ],
      "metadata": {
        "id": "_e7Brp8NaqkT"
      },
      "execution_count": null,
      "outputs": []
    },
    {
      "cell_type": "code",
      "source": [
        "X_neg = class_0[[0,1]].values\n",
        "X_pos = class_1[[0,1]].values\n",
        "\n",
        "y_pos = class_0[2].values\n",
        "y_neg = class_1[2].values"
      ],
      "metadata": {
        "id": "ctZoPD8GKJzy"
      },
      "execution_count": null,
      "outputs": []
    },
    {
      "cell_type": "code",
      "source": [
        "#Change classes to numpy\n",
        "class_0 = class_0.to_numpy()\n",
        "class_1 = class_1.to_numpy()"
      ],
      "metadata": {
        "id": "8R9FRvWBUnbz"
      },
      "execution_count": null,
      "outputs": []
    },
    {
      "cell_type": "code",
      "source": [
        "# Plot\n",
        "fig = plt.figure(figsize=(12, 12))\n",
        "\n",
        "# Scatter plot for class 0\n",
        "plt.scatter(class_0[:, 0], class_0[:, 1], \n",
        "            marker='o', color='green', \n",
        "            label='Class 0')\n",
        "\n",
        "# Scatter plot for class 1\n",
        "plt.scatter(class_1[:, 0], class_1[:, 1], \n",
        "            marker='x', color='blue', \n",
        "            label='Class 1')\n",
        "\n",
        "# Set plot limits\n",
        "plt.xlim(-3, 3)\n",
        "plt.ylim(-3, 3)\n",
        "\n",
        "# Set axis ticks\n",
        "plt.xticks(np.arange(-3, 3, step=0.5))\n",
        "plt.yticks(np.arange(-3, 3, step=0.5))\n",
        "\n",
        "# Set axis labels\n",
        "plt.xlabel('X-axis')\n",
        "plt.ylabel('Y-axis')\n",
        "\n",
        "# Add labels\n",
        "plt.xlabel('x1')\n",
        "plt.ylabel('x2')\n",
        "\n",
        "# Add legend\n",
        "plt.legend(loc='lower right')\n",
        "\n",
        "# Show plot\n",
        "plt.show()\n"
      ],
      "metadata": {
        "id": "j19cGeGlUG3h",
        "outputId": "063b14ab-4e7f-41ae-e079-56a18045099c",
        "colab": {
          "base_uri": "https://localhost:8080/",
          "height": 714
        }
      },
      "execution_count": null,
      "outputs": [
        {
          "output_type": "display_data",
          "data": {
            "text/plain": [
              "<Figure size 864x864 with 1 Axes>"
            ],
            "image/png": "[encoded data removed]"
          },
          "metadata": {
            "needs_background": "light"
          }
        }
      ]
    },
    {
      "cell_type": "code",
      "source": [
        "N = X.shape[0]\n",
        "\n",
        "# Reshape y to match the shape of X\n",
        "y = y.reshape((N,1))\n",
        "\n",
        "# Create variables for the weights and bias\n",
        "w = cp.Variable((2,1))\n",
        "w0 = cp.Variable()\n",
        "\n",
        "# Define the loss function as the L2 norm of w squared, which is equivalent to the L2 regularization\n",
        "loss = cp.Minimize(0.5 * cp.square(cp.norm(w)))\n",
        "\n",
        "# Create an empty list to store the constraints\n",
        "constr = []\n",
        "\n",
        "# Iterate through each data point and add a constraint for it\n",
        "for i in range(N):\n",
        "  xi, yi = X[i,:], y[i]\n",
        "  constr += [yi @ (xi @ w + w0) >= 1]\n",
        "\n",
        "# Create the optimization problem with the loss and constraints\n",
        "prob = cp.Problem(loss, constr)\n",
        "\n",
        "# Solve the problem\n",
        "prob.solve()\n",
        "\n",
        "# Print the values of the optimized variables\n",
        "print(w.value, w0.value) # w = [1.0, -1.0], w0 = -1.0\n"
      ],
      "metadata": {
        "id": "EckYqyPyb3jR",
        "outputId": "d4393fbd-e7d7-4f13-8fa3-44ea8fb9949e",
        "colab": {
          "base_uri": "https://localhost:8080/"
        }
      },
      "execution_count": 51,
      "outputs": [
        {
          "output_type": "stream",
          "name": "stdout",
          "text": [
            "None None\n"
          ]
        }
      ]
    },
    {
      "cell_type": "code",
      "source": [
        "def kernel(x, y):\n",
        "  return (1 + np.dot(x, y.T)) ** 3"
      ],
      "metadata": {
        "id": "T76habmbeO_L"
      },
      "execution_count": 52,
      "outputs": []
    },
    {
      "cell_type": "code",
      "source": [
        "N = X.shape[0]\n",
        "\n",
        "P = np.empty((N,  N))\n",
        "\n",
        "for i in range(N):\n",
        "\t\tfor j in range(N):\n",
        "\t\t\tP[i, j] = y[i]*y[j]*kernel(X[i], X[j])\n",
        "   \n",
        "q = -np.ones((N,1))\n",
        "G = -np.eye(N)\n",
        "h = np.zeros((N, 1))\n",
        "A = y.reshape((1, N))\n",
        "b = np.zeros((1, 1))\n",
        "\n",
        "# Convert to CVXOPT matrix format\n",
        "P = matrix(P)\n",
        "q = matrix(q)\n",
        "G = matrix(G)\n",
        "h = matrix(h)\n",
        "A = matrix(A.astype('double'))\n",
        "b = matrix(b)\n",
        "\n",
        "# Solve Optimization Problem\n",
        "sol = solvers.qp(P, q, G, h, A, b)\n",
        "lambdas = np.array(sol['x']).reshape(N)\n"
      ],
      "metadata": {
        "id": "UjpAlPzRdb9U",
        "outputId": "21675e6d-7a9e-42ef-824a-1327b09917a2",
        "colab": {
          "base_uri": "https://localhost:8080/"
        }
      },
      "execution_count": 107,
      "outputs": [
        {
          "output_type": "stream",
          "name": "stdout",
          "text": [
            "     pcost       dcost       gap    pres   dres\n",
            " 0: -2.5704e+00 -7.5354e+00  5e+01  6e+00  1e+00\n",
            " 1: -1.0516e+00 -7.3379e+00  6e+00  1e-15  7e-16\n",
            " 2: -2.5155e+00 -3.3408e+00  8e-01  4e-16  5e-16\n",
            " 3: -2.8999e+00 -3.1904e+00  3e-01  3e-16  5e-16\n",
            " 4: -3.0264e+00 -3.0623e+00  4e-02  6e-16  7e-16\n",
            " 5: -3.0460e+00 -3.0471e+00  1e-03  4e-16  8e-16\n",
            " 6: -3.0467e+00 -3.0468e+00  4e-05  3e-16  6e-16\n",
            " 7: -3.0468e+00 -3.0468e+00  4e-07  5e-16  6e-16\n",
            "Optimal solution found.\n"
          ]
        }
      ]
    },
    {
      "cell_type": "code",
      "source": [
        "lambdas"
      ],
      "metadata": {
        "id": "Al0oYkjIjX0Z",
        "outputId": "ccb1f441-4cd0-45d7-ba41-b78fd49bed01",
        "colab": {
          "base_uri": "https://localhost:8080/"
        }
      },
      "execution_count": 108,
      "outputs": [
        {
          "output_type": "execute_result",
          "data": {
            "text/plain": [
              "array([5.70971723e-08, 1.80531919e-01, 1.66883889e-05, 2.04322048e-08,\n",
              "       3.12441699e-08, 1.45180691e-08, 1.84746747e-08, 2.57313535e-08,\n",
              "       7.48888174e-01, 1.94165148e-08, 6.29678150e-09, 1.24970092e+00,\n",
              "       1.99041307e-08, 6.15667018e-01, 3.15257331e-08, 2.56155495e-08,\n",
              "       1.91988995e-08, 3.29624488e-08, 1.58371335e-08, 1.18138387e+00,\n",
              "       5.75180670e-01, 7.93981166e-09, 2.01513715e-08, 7.95648431e-08,\n",
              "       5.95848775e-09, 2.58293512e-07, 5.49817681e-01, 1.53400570e-01,\n",
              "       3.94075701e-08, 5.28927581e-08, 2.20836551e-08, 8.38916139e-01])"
            ]
          },
          "metadata": {},
          "execution_count": 108
        }
      ]
    },
    {
      "cell_type": "code",
      "source": [
        "# Calculate b\n",
        "SV = np.where(lambdas > 1e-8)[0][0]\n",
        "b = y[SV] - sum(lambdas * y)\n",
        "b"
      ],
      "metadata": {
        "id": "WS575-YQioOs",
        "outputId": "bca3e512-2f38-4944-d8bf-c1fcda19b19c",
        "colab": {
          "base_uri": "https://localhost:8080/"
        }
      },
      "execution_count": 114,
      "outputs": [
        {
          "output_type": "execute_result",
          "data": {
            "text/plain": [
              "array([1., 1., 1., 1., 1., 1., 1., 1., 1., 1., 1., 1., 1., 1., 1., 1., 1.,\n",
              "       1., 1., 1., 1., 1., 1., 1., 1., 1., 1., 1., 1., 1., 1., 1.])"
            ]
          },
          "metadata": {},
          "execution_count": 114
        }
      ]
    },
    {
      "cell_type": "code",
      "source": [
        "x_min = min(X[:, 0]) - 0.5\n",
        "x_max = max(X[:, 0]) + 0.5\n",
        "y_min = min(X[:, 1]) - 0.5\n",
        "y_max = max(X[:, 1]) + 0.5\n",
        "step = 0.1\n",
        "xx, yy = np.meshgrid(np.arange(x_min, x_max, step), np.arange(y_min, y_max, step))\n",
        "d = np.concatenate((xx.ravel().reshape(-1, 1), yy.ravel().reshape(-1, 1)), axis=1)\n",
        "\n",
        "Z = b + np.sum(\n",
        "    lambdas.reshape((N, 1)) * y.reshape((N, 1)) * kernel(X, d),\n",
        "    axis=0)\n",
        "Z = Z.reshape(xx.shape)\n",
        "\n",
        "fig, ax = plt.subplots()\n",
        "sns.scatterplot(x=X[:, 0], y=X[:, 1], hue=y, ax=ax, palette='winter')\n",
        "ax.contour(xx, yy, Z, levels=[-1, 0, 1])\n",
        "fig.show()"
      ],
      "metadata": {
        "id": "dC_58wizf5-v"
      },
      "execution_count": null,
      "outputs": []
    },
    {
      "cell_type": "code",
      "source": [
        "X1 = X_pos[:, 0].reshape((-1, 1))\n",
        "X2 = X_pos[:, 1].reshape((-1, 1))\n",
        "x1x2 = X1 * X2\n",
        "x1x2sq = X1**2 + X2**2\n",
        "X_pos = np.hstack((x1x2, x1x2sq))"
      ],
      "metadata": {
        "id": "TnB7ATOoI_Sd"
      },
      "execution_count": null,
      "outputs": []
    },
    {
      "cell_type": "code",
      "source": [
        "X1 = X_neg[:, 0].reshape((-1, 1))\n",
        "X2 = X_neg[:, 1].reshape((-1, 1))\n",
        "x1x2 = X1 * X2\n",
        "x1x2sq = X1**2 + X2**2\n",
        "X_neg = np.hstack((x1x2, x1x2sq))"
      ],
      "metadata": {
        "id": "yJOpHktOLEq7"
      },
      "execution_count": null,
      "outputs": []
    },
    {
      "cell_type": "code",
      "source": [
        "# Plot\n",
        "fig = plt.figure(figsize=(12, 12))\n",
        "\n",
        "# Scatter plot for class 0\n",
        "plt.scatter(X_neg[:, 0], X_neg[:, 1], \n",
        "            marker='o', color='green', \n",
        "            label='Class 0')\n",
        "\n",
        "# Scatter plot for class 1\n",
        "plt.scatter(X_pos[:, 0], X_pos[:, 1], \n",
        "            marker='x', color='blue', \n",
        "            label='Class 1')\n",
        "\n",
        "# Set plot limits\n",
        "plt.xlim(-3, 3)\n",
        "plt.ylim(-3, 3)\n",
        "\n",
        "# Set axis ticks\n",
        "plt.xticks(np.arange(-3, 3, step=0.5))\n",
        "plt.yticks(np.arange(-3, 3, step=0.5))\n",
        "\n",
        "# Set axis labels\n",
        "plt.xlabel('X-axis')\n",
        "plt.ylabel('Y-axis')\n",
        "\n",
        "# Add labels\n",
        "plt.xlabel('x1')\n",
        "plt.ylabel('x2')\n",
        "\n",
        "# Add legend\n",
        "plt.legend(loc='lower right')\n",
        "\n",
        "# Show plot\n",
        "plt.show()\n"
      ],
      "metadata": {
        "id": "CscxiwFGJpzN",
        "outputId": "c2031e8d-81ae-461b-c01f-a9c3d7ad0c2a",
        "colab": {
          "base_uri": "https://localhost:8080/",
          "height": 714
        }
      },
      "execution_count": null,
      "outputs": [
        {
          "output_type": "display_data",
          "data": {
            "text/plain": [
              "<Figure size 864x864 with 1 Axes>"
            ],
            "image/png": "[encoded data removed]"
          },
          "metadata": {
            "needs_background": "light"
          }
        }
      ]
    },
    {
      "cell_type": "code",
      "source": [
        "X1 = X[:, 0].reshape((-1, 1))\n",
        "X2 = X[:, 1].reshape((-1, 1))\n",
        "x1x2 = X1 * X2\n",
        "x1x2sq = X1**2 + X2**2\n",
        "X = np.hstack((x1x2, x1x2sq))"
      ],
      "metadata": {
        "id": "EtoCFQtBMIxG"
      },
      "execution_count": null,
      "outputs": []
    },
    {
      "cell_type": "code",
      "source": [
        "# N is the number of rows in the data matrix X\n",
        "N = X.shape[0]\n",
        "\n",
        "# Reshape y to match the shape of X\n",
        "y = y.reshape((N,1))\n",
        "\n",
        "# Create variables for the weights and bias\n",
        "w = cp.Variable((2,1))\n",
        "w0 = cp.Variable()\n",
        "\n",
        "# Define the loss function as the L2 norm of w squared, which is equivalent to the L2 regularization\n",
        "loss = cp.Minimize(0.5 * cp.square(cp.norm(w)))\n",
        "\n",
        "# Create an empty list to store the constraints\n",
        "constr = []\n",
        "\n",
        "# Iterate through each data point and add a constraint for it\n",
        "for i in range(N):\n",
        "  xi, yi = X[i,:], y[i]\n",
        "  constr += [yi @ (xi @ w + w0) >= 1]\n",
        "\n",
        "# Create the optimization problem with the loss and constraints\n",
        "prob = cp.Problem(loss, constr)\n",
        "\n",
        "# Solve the problem\n",
        "prob.solve()\n",
        "\n",
        "# Print the values of the optimized variables\n",
        "print(w.value, w0.value) # w = [1.0, -1.0], w0 = -1.0"
      ],
      "metadata": {
        "id": "8fNSQMaoMG_R",
        "outputId": "59f67cf8-c2ae-4c06-925c-766c78d14738",
        "colab": {
          "base_uri": "https://localhost:8080/"
        }
      },
      "execution_count": null,
      "outputs": [
        {
          "output_type": "stream",
          "name": "stdout",
          "text": [
            "[[ 0.12358649]\n",
            " [-3.33103156]] 2.090755204584221\n"
          ]
        }
      ]
    },
    {
      "cell_type": "code",
      "source": [
        "# Plot\n",
        "fig = plt.figure(figsize=(12, 12))\n",
        "\n",
        "# Scatter plot for class 0\n",
        "plt.scatter(X_neg[:, 0], X_neg[:, 1], \n",
        "            marker='o', color='green', \n",
        "            label='Class 0')\n",
        "\n",
        "# Scatter plot for class 1\n",
        "plt.scatter(X_pos[:, 0], X_pos[:, 1], \n",
        "            marker='x', color='blue', \n",
        "            label='Class 1')\n",
        "\n",
        "# Plot the decision boundary and the margins using the optimized values of w and w0\n",
        "plt.plot(X, (-w0.value - (w[0].value*X))/w[1].value , 'r', alpha=0.6)\n",
        "\n",
        "# Plot the positive margin\n",
        "plt.plot(X, (-w0.value - (w[0].value*X)+1)/w[1].value ,'b', alpha=0.4)\n",
        "\n",
        "# Plot the negative margin\n",
        "plt.plot(X, (-w0.value - (w[0].value*X)-1)/w[1].value , 'g', alpha=0.4)\n",
        "\n",
        "# Set plot limits\n",
        "plt.xlim(-3, 3)\n",
        "plt.ylim(-3, 3)\n",
        "\n",
        "# Set axis ticks\n",
        "plt.xticks(np.arange(-3, 3, step=0.5))\n",
        "plt.yticks(np.arange(-3, 3, step=0.5))\n",
        "\n",
        "# Set axis labels\n",
        "plt.xlabel('X-axis')\n",
        "plt.ylabel('Y-axis')\n",
        "\n",
        "# Add labels\n",
        "plt.xlabel('x1')\n",
        "plt.ylabel('x2')\n",
        "\n",
        "# Add legend\n",
        "plt.legend(loc='lower right')\n",
        "\n",
        "# Show plot\n",
        "plt.show()\n"
      ],
      "metadata": {
        "id": "DVcQ5tsUNKfy",
        "outputId": "3cc1abbd-c89f-469e-e931-693aa8ff64ad",
        "colab": {
          "base_uri": "https://localhost:8080/",
          "height": 714
        }
      },
      "execution_count": null,
      "outputs": [
        {
          "output_type": "display_data",
          "data": {
            "text/plain": [
              "<Figure size 864x864 with 1 Axes>"
            ],
            "image/png": "[encoded data removed]"
          },
          "metadata": {
            "needs_background": "light"
          }
        }
      ]
    },
    {
      "cell_type": "markdown",
      "source": [
        "# **T3**"
      ],
      "metadata": {
        "id": "i2rwLdylarOr"
      }
    },
    {
      "cell_type": "code",
      "source": [
        "#Train and test\n",
        "X_train = ds3tr.drop(columns=[2])\n",
        "y_train = ds3tr[2]\n",
        "\n",
        "X_test = ds3te.drop(columns=[2])\n",
        "y_test = ds3te[2]"
      ],
      "metadata": {
        "id": "uxE3rPbocDHb"
      },
      "execution_count": null,
      "outputs": []
    },
    {
      "cell_type": "markdown",
      "source": [
        " hyper-parameters tuning"
      ],
      "metadata": {
        "id": "2taLqgLOo2yq"
      }
    },
    {
      "cell_type": "code",
      "source": [
        "knn = KNeighborsClassifier()\n",
        "params = [{'n_neighbors': [3,5,7,9],'metric': ['euclidean', 'manhattan','cityblock','minkowski']}]\n",
        "\n",
        "gs_knn = GridSearchCV(knn,\n",
        "                      param_grid=params,\n",
        "                      scoring='f1_weighted',\n",
        "                      cv=5)\n",
        "gs_knn.fit(X_train, y_train)\n",
        "gs_knn.best_params_"
      ],
      "metadata": {
        "id": "fNCVAmjUl_M3",
        "outputId": "45aae49b-60c2-4a79-ecef-20a3f8ceeee4",
        "colab": {
          "base_uri": "https://localhost:8080/"
        }
      },
      "execution_count": null,
      "outputs": [
        {
          "output_type": "execute_result",
          "data": {
            "text/plain": [
              "{'metric': 'manhattan', 'n_neighbors': 7}"
            ]
          },
          "metadata": {},
          "execution_count": 155
        }
      ]
    },
    {
      "cell_type": "markdown",
      "source": [
        "Best distance metric is manhattan and the best value for number og neighbors is 7"
      ],
      "metadata": {
        "id": "2ayf2j_zn9x-"
      }
    },
    {
      "cell_type": "code",
      "source": [
        "knn = KNeighborsClassifier(metric='manhattan',n_neighbors=7)"
      ],
      "metadata": {
        "id": "KQtdQdKUo67b"
      },
      "execution_count": null,
      "outputs": []
    },
    {
      "cell_type": "code",
      "source": [
        "#Training the model\n",
        "knn.fit(X_train, y_train)\n",
        "\n",
        "#Predict test data set\n",
        "y_pred = knn.predict(X_test)\n",
        "\n",
        "#Checking performance our model with classification report\n",
        "print(classification_report(y_test, y_pred))\n",
        "\n",
        "#Checking performance our model with ROC Score\n",
        "roc_auc_score(y_test, y_pred)"
      ],
      "metadata": {
        "colab": {
          "base_uri": "https://localhost:8080/"
        },
        "id": "AqUV70xQatsb",
        "outputId": "2a92af0c-27d2-4733-9c76-61e9ce6019e1"
      },
      "execution_count": null,
      "outputs": [
        {
          "output_type": "stream",
          "name": "stdout",
          "text": [
            "              precision    recall  f1-score   support\n",
            "\n",
            "         0.0       1.00      0.94      0.97        32\n",
            "         1.0       0.93      1.00      0.97        28\n",
            "\n",
            "    accuracy                           0.97        60\n",
            "   macro avg       0.97      0.97      0.97        60\n",
            "weighted avg       0.97      0.97      0.97        60\n",
            "\n"
          ]
        },
        {
          "output_type": "execute_result",
          "data": {
            "text/plain": [
              "0.96875"
            ]
          },
          "metadata": {},
          "execution_count": 157
        }
      ]
    }
  ]
}
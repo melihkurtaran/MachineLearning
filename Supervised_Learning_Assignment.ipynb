{
  "nbformat": 4,
  "nbformat_minor": 0,
  "metadata": {
    "colab": {
      "provenance": [],
      "toc_visible": true,
      "authorship_tag": "ABX9TyPxROEKXRjZ4xYQVFrNWs1o",
      "include_colab_link": true
    },
    "kernelspec": {
      "name": "python3",
      "display_name": "Python 3"
    },
    "language_info": {
      "name": "python"
    }
  },
  "cells": [
    {
      "cell_type": "markdown",
      "metadata": {
        "id": "view-in-github",
        "colab_type": "text"
      },
      "source": [
        "<a href=\"https://colab.research.google.com/github/melihkurtaran/MachineLearning/blob/main/Supervised_Learning_Assignment.ipynb\" target=\"_parent\"><img src=\"https://colab.research.google.com/assets/colab-badge.svg\" alt=\"Open In Colab\"/></a>"
      ]
    },
    {
      "cell_type": "markdown",
      "source": [
        "**Supervised Learning Project**"
      ],
      "metadata": {
        "id": "GppCzyeuamf8"
      }
    },
    {
      "cell_type": "markdown",
      "source": [
        "In this project, a dataset which has been collected using readings of a multi-spectral imaging sensor installed in a drone intended\n",
        "to map a specific geographical area will be used for developing supervised machine learning models"
      ],
      "metadata": {
        "id": "eLv0t3rJa0j6"
      }
    },
    {
      "cell_type": "code",
      "source": [
        "#Load libraries\n",
        "import pandas as pd\n",
        "import numpy as np\n",
        "from scipy import stats\n",
        "from sklearn.decomposition import PCA\n",
        "import matplotlib.pyplot as plt\n",
        "from sklearn.svm import SVC\n",
        "from sklearn.feature_selection import SequentialFeatureSelector\n",
        "from sklearn.preprocessing import StandardScaler\n",
        "from sklearn.model_selection import GridSearchCV\n",
        "from sklearn.model_selection import RepeatedKFold\n",
        "from sklearn.model_selection import cross_val_score\n",
        "from numpy import mean, std\n",
        "from scipy.stats import sem\n",
        "from matplotlib import pyplot\n",
        "from sklearn.metrics import accuracy_score\n",
        "from sklearn.metrics import precision_score\n",
        "from sklearn.metrics import f1_score\n",
        "from sklearn.metrics import recall_score\n",
        "import random\n",
        "from sklearn.model_selection import KFold\n",
        "from sklearn import preprocessing\n",
        "from sklearn.metrics import make_scorer\n",
        "from sklearn.model_selection import RepeatedStratifiedKFold, cross_validate\n",
        "from sklearn.preprocessing import PolynomialFeatures\n",
        "from sklearn.linear_model import LinearRegression"
      ],
      "metadata": {
        "id": "pa6HnPefayPF"
      },
      "execution_count": 170,
      "outputs": []
    },
    {
      "cell_type": "code",
      "source": [
        "#Connect to GitHub for faster access\n",
        "!git clone https://github.com/melihkurtaran/MachineLearning.git"
      ],
      "metadata": {
        "colab": {
          "base_uri": "https://localhost:8080/"
        },
        "id": "l4ajC2Qv9gmN",
        "outputId": "eee70668-9451-44c2-b57e-1ae76eb918f6"
      },
      "execution_count": 171,
      "outputs": [
        {
          "output_type": "stream",
          "name": "stdout",
          "text": [
            "fatal: destination path 'MachineLearning' already exists and is not an empty directory.\n"
          ]
        }
      ]
    },
    {
      "cell_type": "code",
      "source": [
        "# CSV to DataFrame \n",
        "ds_09 = pd.read_csv(\"MachineLearning/SupervisedLearning/ds_09.csv\")\n",
        "ds_09.head()"
      ],
      "metadata": {
        "colab": {
          "base_uri": "https://localhost:8080/",
          "height": 235
        },
        "id": "JamCD5_z9kff",
        "outputId": "c4f74212-3122-40e3-9b5c-82ac00b8f820"
      },
      "execution_count": 172,
      "outputs": [
        {
          "output_type": "execute_result",
          "data": {
            "text/plain": [
              "     V01    V02    V03    V04    V05    V06    V07    V08   V09    V10  ...  \\\n",
              "0  14.65    NaN  46.46  15.74  49.84  17.95  21.59  60.14  2.85   8.99  ...   \n",
              "1  13.97    NaN  19.38   5.99  21.44  31.61  45.76  26.47  2.52  26.66  ...   \n",
              "2  12.14  53.27  62.25  11.42  28.51  33.03  42.41  52.27  4.68  25.59  ...   \n",
              "3   8.29  16.06  15.41   6.97  14.81  16.53  29.76  36.73  3.14  20.58  ...   \n",
              "4  10.02  47.28  45.67  10.43  13.07    NaN  35.22  19.96  3.34  35.50  ...   \n",
              "\n",
              "     V29    V30    V31    V32   V33    V34    V35    V36  class  target  \n",
              "0  59.10  13.22   0.00  11.56  3.70  17.89  13.76  15.75      4  0.5272  \n",
              "1  32.93  12.02  14.30  17.82  3.15  11.77  14.46  16.38      1  0.4937  \n",
              "2  25.71  12.50  23.18  14.60  4.08   5.87   6.52  14.25      2  0.5796  \n",
              "3  31.74   9.67   8.43  21.87  6.03  10.20  12.54   7.82      5  0.4098  \n",
              "4    NaN  12.20  18.88  23.72  3.16  15.35   8.81  14.93      1  0.5465  \n",
              "\n",
              "[5 rows x 38 columns]"
            ],
            "text/html": [
              "\n",
              "  <div id=\"df-f31c7931-c026-4a08-887f-7bcd5276079e\">\n",
              "    <div class=\"colab-df-container\">\n",
              "      <div>\n",
              "<style scoped>\n",
              "    .dataframe tbody tr th:only-of-type {\n",
              "        vertical-align: middle;\n",
              "    }\n",
              "\n",
              "    .dataframe tbody tr th {\n",
              "        vertical-align: top;\n",
              "    }\n",
              "\n",
              "    .dataframe thead th {\n",
              "        text-align: right;\n",
              "    }\n",
              "</style>\n",
              "<table border=\"1\" class=\"dataframe\">\n",
              "  <thead>\n",
              "    <tr style=\"text-align: right;\">\n",
              "      <th></th>\n",
              "      <th>V01</th>\n",
              "      <th>V02</th>\n",
              "      <th>V03</th>\n",
              "      <th>V04</th>\n",
              "      <th>V05</th>\n",
              "      <th>V06</th>\n",
              "      <th>V07</th>\n",
              "      <th>V08</th>\n",
              "      <th>V09</th>\n",
              "      <th>V10</th>\n",
              "      <th>...</th>\n",
              "      <th>V29</th>\n",
              "      <th>V30</th>\n",
              "      <th>V31</th>\n",
              "      <th>V32</th>\n",
              "      <th>V33</th>\n",
              "      <th>V34</th>\n",
              "      <th>V35</th>\n",
              "      <th>V36</th>\n",
              "      <th>class</th>\n",
              "      <th>target</th>\n",
              "    </tr>\n",
              "  </thead>\n",
              "  <tbody>\n",
              "    <tr>\n",
              "      <th>0</th>\n",
              "      <td>14.65</td>\n",
              "      <td>NaN</td>\n",
              "      <td>46.46</td>\n",
              "      <td>15.74</td>\n",
              "      <td>49.84</td>\n",
              "      <td>17.95</td>\n",
              "      <td>21.59</td>\n",
              "      <td>60.14</td>\n",
              "      <td>2.85</td>\n",
              "      <td>8.99</td>\n",
              "      <td>...</td>\n",
              "      <td>59.10</td>\n",
              "      <td>13.22</td>\n",
              "      <td>0.00</td>\n",
              "      <td>11.56</td>\n",
              "      <td>3.70</td>\n",
              "      <td>17.89</td>\n",
              "      <td>13.76</td>\n",
              "      <td>15.75</td>\n",
              "      <td>4</td>\n",
              "      <td>0.5272</td>\n",
              "    </tr>\n",
              "    <tr>\n",
              "      <th>1</th>\n",
              "      <td>13.97</td>\n",
              "      <td>NaN</td>\n",
              "      <td>19.38</td>\n",
              "      <td>5.99</td>\n",
              "      <td>21.44</td>\n",
              "      <td>31.61</td>\n",
              "      <td>45.76</td>\n",
              "      <td>26.47</td>\n",
              "      <td>2.52</td>\n",
              "      <td>26.66</td>\n",
              "      <td>...</td>\n",
              "      <td>32.93</td>\n",
              "      <td>12.02</td>\n",
              "      <td>14.30</td>\n",
              "      <td>17.82</td>\n",
              "      <td>3.15</td>\n",
              "      <td>11.77</td>\n",
              "      <td>14.46</td>\n",
              "      <td>16.38</td>\n",
              "      <td>1</td>\n",
              "      <td>0.4937</td>\n",
              "    </tr>\n",
              "    <tr>\n",
              "      <th>2</th>\n",
              "      <td>12.14</td>\n",
              "      <td>53.27</td>\n",
              "      <td>62.25</td>\n",
              "      <td>11.42</td>\n",
              "      <td>28.51</td>\n",
              "      <td>33.03</td>\n",
              "      <td>42.41</td>\n",
              "      <td>52.27</td>\n",
              "      <td>4.68</td>\n",
              "      <td>25.59</td>\n",
              "      <td>...</td>\n",
              "      <td>25.71</td>\n",
              "      <td>12.50</td>\n",
              "      <td>23.18</td>\n",
              "      <td>14.60</td>\n",
              "      <td>4.08</td>\n",
              "      <td>5.87</td>\n",
              "      <td>6.52</td>\n",
              "      <td>14.25</td>\n",
              "      <td>2</td>\n",
              "      <td>0.5796</td>\n",
              "    </tr>\n",
              "    <tr>\n",
              "      <th>3</th>\n",
              "      <td>8.29</td>\n",
              "      <td>16.06</td>\n",
              "      <td>15.41</td>\n",
              "      <td>6.97</td>\n",
              "      <td>14.81</td>\n",
              "      <td>16.53</td>\n",
              "      <td>29.76</td>\n",
              "      <td>36.73</td>\n",
              "      <td>3.14</td>\n",
              "      <td>20.58</td>\n",
              "      <td>...</td>\n",
              "      <td>31.74</td>\n",
              "      <td>9.67</td>\n",
              "      <td>8.43</td>\n",
              "      <td>21.87</td>\n",
              "      <td>6.03</td>\n",
              "      <td>10.20</td>\n",
              "      <td>12.54</td>\n",
              "      <td>7.82</td>\n",
              "      <td>5</td>\n",
              "      <td>0.4098</td>\n",
              "    </tr>\n",
              "    <tr>\n",
              "      <th>4</th>\n",
              "      <td>10.02</td>\n",
              "      <td>47.28</td>\n",
              "      <td>45.67</td>\n",
              "      <td>10.43</td>\n",
              "      <td>13.07</td>\n",
              "      <td>NaN</td>\n",
              "      <td>35.22</td>\n",
              "      <td>19.96</td>\n",
              "      <td>3.34</td>\n",
              "      <td>35.50</td>\n",
              "      <td>...</td>\n",
              "      <td>NaN</td>\n",
              "      <td>12.20</td>\n",
              "      <td>18.88</td>\n",
              "      <td>23.72</td>\n",
              "      <td>3.16</td>\n",
              "      <td>15.35</td>\n",
              "      <td>8.81</td>\n",
              "      <td>14.93</td>\n",
              "      <td>1</td>\n",
              "      <td>0.5465</td>\n",
              "    </tr>\n",
              "  </tbody>\n",
              "</table>\n",
              "<p>5 rows × 38 columns</p>\n",
              "</div>\n",
              "      <button class=\"colab-df-convert\" onclick=\"convertToInteractive('df-f31c7931-c026-4a08-887f-7bcd5276079e')\"\n",
              "              title=\"Convert this dataframe to an interactive table.\"\n",
              "              style=\"display:none;\">\n",
              "        \n",
              "  <svg xmlns=\"http://www.w3.org/2000/svg\" height=\"24px\"viewBox=\"0 0 24 24\"\n",
              "       width=\"24px\">\n",
              "    <path d=\"M0 0h24v24H0V0z\" fill=\"none\"/>\n",
              "    <path d=\"M18.56 5.44l.94 2.06.94-2.06 2.06-.94-2.06-.94-.94-2.06-.94 2.06-2.06.94zm-11 1L8.5 8.5l.94-2.06 2.06-.94-2.06-.94L8.5 2.5l-.94 2.06-2.06.94zm10 10l.94 2.06.94-2.06 2.06-.94-2.06-.94-.94-2.06-.94 2.06-2.06.94z\"/><path d=\"M17.41 7.96l-1.37-1.37c-.4-.4-.92-.59-1.43-.59-.52 0-1.04.2-1.43.59L10.3 9.45l-7.72 7.72c-.78.78-.78 2.05 0 2.83L4 21.41c.39.39.9.59 1.41.59.51 0 1.02-.2 1.41-.59l7.78-7.78 2.81-2.81c.8-.78.8-2.07 0-2.86zM5.41 20L4 18.59l7.72-7.72 1.47 1.35L5.41 20z\"/>\n",
              "  </svg>\n",
              "      </button>\n",
              "      \n",
              "  <style>\n",
              "    .colab-df-container {\n",
              "      display:flex;\n",
              "      flex-wrap:wrap;\n",
              "      gap: 12px;\n",
              "    }\n",
              "\n",
              "    .colab-df-convert {\n",
              "      background-color: #E8F0FE;\n",
              "      border: none;\n",
              "      border-radius: 50%;\n",
              "      cursor: pointer;\n",
              "      display: none;\n",
              "      fill: #1967D2;\n",
              "      height: 32px;\n",
              "      padding: 0 0 0 0;\n",
              "      width: 32px;\n",
              "    }\n",
              "\n",
              "    .colab-df-convert:hover {\n",
              "      background-color: #E2EBFA;\n",
              "      box-shadow: 0px 1px 2px rgba(60, 64, 67, 0.3), 0px 1px 3px 1px rgba(60, 64, 67, 0.15);\n",
              "      fill: #174EA6;\n",
              "    }\n",
              "\n",
              "    [theme=dark] .colab-df-convert {\n",
              "      background-color: #3B4455;\n",
              "      fill: #D2E3FC;\n",
              "    }\n",
              "\n",
              "    [theme=dark] .colab-df-convert:hover {\n",
              "      background-color: #434B5C;\n",
              "      box-shadow: 0px 1px 3px 1px rgba(0, 0, 0, 0.15);\n",
              "      filter: drop-shadow(0px 1px 2px rgba(0, 0, 0, 0.3));\n",
              "      fill: #FFFFFF;\n",
              "    }\n",
              "  </style>\n",
              "\n",
              "      <script>\n",
              "        const buttonEl =\n",
              "          document.querySelector('#df-f31c7931-c026-4a08-887f-7bcd5276079e button.colab-df-convert');\n",
              "        buttonEl.style.display =\n",
              "          google.colab.kernel.accessAllowed ? 'block' : 'none';\n",
              "\n",
              "        async function convertToInteractive(key) {\n",
              "          const element = document.querySelector('#df-f31c7931-c026-4a08-887f-7bcd5276079e');\n",
              "          const dataTable =\n",
              "            await google.colab.kernel.invokeFunction('convertToInteractive',\n",
              "                                                     [key], {});\n",
              "          if (!dataTable) return;\n",
              "\n",
              "          const docLinkHtml = 'Like what you see? Visit the ' +\n",
              "            '<a target=\"_blank\" href=https://colab.research.google.com/notebooks/data_table.ipynb>data table notebook</a>'\n",
              "            + ' to learn more about interactive tables.';\n",
              "          element.innerHTML = '';\n",
              "          dataTable['output_type'] = 'display_data';\n",
              "          await google.colab.output.renderOutput(dataTable, element);\n",
              "          const docLink = document.createElement('div');\n",
              "          docLink.innerHTML = docLinkHtml;\n",
              "          element.appendChild(docLink);\n",
              "        }\n",
              "      </script>\n",
              "    </div>\n",
              "  </div>\n",
              "  "
            ]
          },
          "metadata": {},
          "execution_count": 172
        }
      ]
    },
    {
      "cell_type": "markdown",
      "source": [
        "There are 36 features and 2 values to be used in classification and regression tasks"
      ],
      "metadata": {
        "id": "RTZl1u5wbOAd"
      }
    },
    {
      "cell_type": "markdown",
      "source": [
        "# **T1 - Dataset preparation**"
      ],
      "metadata": {
        "id": "NYLONs-0vO2R"
      }
    },
    {
      "cell_type": "markdown",
      "source": [
        "The dataset needs to be preprocessed before using in models"
      ],
      "metadata": {
        "id": "YLU70i1IbxtU"
      }
    },
    {
      "cell_type": "markdown",
      "source": [
        "##**(a) removing missing values and outliers**"
      ],
      "metadata": {
        "id": "dimRzv9cblgX"
      }
    },
    {
      "cell_type": "markdown",
      "source": [
        "Samples have 38 rows, class and target row are never missing so thresh needs to setas 34 to drop samples with more than 4 missing feature values."
      ],
      "metadata": {
        "id": "uCwFgl6_fT6m"
      }
    },
    {
      "cell_type": "code",
      "source": [
        "# samples with more than 4 missing feature values are dropped\n",
        "print(\"Size before dropping: \" + str(len(ds_09)))\n",
        "ds_09 = ds_09.dropna(axis=0, thresh=34) # thresh: Require that many non-NA values\n",
        "print(\"Size after dropping: \" + str(len(ds_09)))"
      ],
      "metadata": {
        "colab": {
          "base_uri": "https://localhost:8080/"
        },
        "id": "ZQdbxJkjfb7Y",
        "outputId": "1ebb7dcc-0a26-4a1d-dbdf-a4760058ed91"
      },
      "execution_count": 173,
      "outputs": [
        {
          "output_type": "stream",
          "name": "stdout",
          "text": [
            "Size before dropping: 1000\n",
            "Size after dropping: 967\n"
          ]
        }
      ]
    },
    {
      "cell_type": "markdown",
      "source": [
        "Filling remaining null values with the mean"
      ],
      "metadata": {
        "id": "1aQSe8wUiM_v"
      }
    },
    {
      "cell_type": "code",
      "source": [
        "# the remaining missing values are filled using the average value\n",
        "\n",
        "for i in ds_09.columns[ds_09.isnull().any(axis=0)]:  #Applying only on variables with NaN valuesfor bettter performance\n",
        "    ds_09[i].fillna(ds_09[i].mean(),inplace=True)"
      ],
      "metadata": {
        "id": "PGfcI4XygjBV"
      },
      "execution_count": 174,
      "outputs": []
    },
    {
      "cell_type": "code",
      "source": [
        "# We can see that we do not have any missing values anymore\n",
        "ds_09.isnull().values.any()"
      ],
      "metadata": {
        "colab": {
          "base_uri": "https://localhost:8080/"
        },
        "id": "bXtth4kuhXyS",
        "outputId": "bec4d699-33c6-44e9-a979-af3696abe0d8"
      },
      "execution_count": 175,
      "outputs": [
        {
          "output_type": "execute_result",
          "data": {
            "text/plain": [
              "False"
            ]
          },
          "metadata": {},
          "execution_count": 175
        }
      ]
    },
    {
      "cell_type": "markdown",
      "source": [
        "Removing outliers"
      ],
      "metadata": {
        "id": "Q55W-_y6iDQx"
      }
    },
    {
      "cell_type": "code",
      "source": [
        "# samples with at least one feature value with a z-score higher than 3 (i.e. an outlier) are discarded\n",
        "print(\"Size before removing outlier samples: \" + str(len(ds_09)))\n",
        "# code below for each column, first calculates Z-score of each value in the column, and remove all rows that have outliers in at least one column\n",
        "ds_09 = ds_09[(np.abs(stats.zscore(ds_09)) < 3).all(axis=1)] # axis=1 ensures that for each row, all column satisfy the constraint.\n",
        "print(\"Size after removing outlier samples: \" + str(len(ds_09)))"
      ],
      "metadata": {
        "colab": {
          "base_uri": "https://localhost:8080/"
        },
        "id": "eIUDdCuniGPS",
        "outputId": "fe16dff8-e21e-4425-db24-825f6a53f3e6"
      },
      "execution_count": 176,
      "outputs": [
        {
          "output_type": "stream",
          "name": "stdout",
          "text": [
            "Size before removing outlier samples: 967\n",
            "Size after removing outlier samples: 869\n"
          ]
        }
      ]
    },
    {
      "cell_type": "markdown",
      "source": [
        "##**(b) Dimensionality Reduction**"
      ],
      "metadata": {
        "id": "DE9QCf3pk8ho"
      }
    },
    {
      "cell_type": "markdown",
      "source": [
        "Creating X and y from the dataset"
      ],
      "metadata": {
        "id": "2Y3LKhgiX1vF"
      }
    },
    {
      "cell_type": "code",
      "source": [
        "X = ds_09.copy()\n",
        "X.drop(['class', 'target'], axis=1, inplace=True)\n",
        "y = ds_09['class']"
      ],
      "metadata": {
        "id": "177qDhhrX8mf"
      },
      "execution_count": 177,
      "outputs": []
    },
    {
      "cell_type": "markdown",
      "source": [
        "Keep only features that account for up to 95% of the variance of the data"
      ],
      "metadata": {
        "id": "Ui2HA9_pleek"
      }
    },
    {
      "cell_type": "code",
      "source": [
        "def find_optimal_num_components(df, threshold):\n",
        "    \"\"\"\n",
        "    Find the minimum number of components needed to achieve a given explained variance ratio in a PCA of the given dataframe.\n",
        "    \n",
        "    Parameters:\n",
        "        df (pandas.DataFrame): The data to perform PCA on.\n",
        "        threshold (float): The minimum explained variance ratio to achieve.\n",
        "        \n",
        "    Returns:\n",
        "        int: The minimum number of components needed to achieve the given explained variance ratio.\n",
        "    \"\"\"\n",
        "    for i in range(1, len(df.columns) + 1):\n",
        "        pca = PCA(n_components=i)\n",
        "        principal_components = pca.fit_transform(df)\n",
        "        variance = sum(pca.explained_variance_ratio_)\n",
        "        if variance >= threshold:\n",
        "            return i\n",
        "    print(\"Unable to perform for the given variance.\")\n",
        "    return 0\n",
        "\n",
        "# Find the minimum number of components needed to achieve 95% explained variance\n",
        "num_components = find_optimal_num_components(X, 0.95)\n",
        "print(f\"Number of components needed for 95% explained variance: {num_components}\")\n",
        "\n",
        "# Perform PCA with the optimal number of components\n",
        "pca = PCA(n_components=num_components)\n",
        "principal_components = pca.fit_transform(X)\n",
        "\n",
        "# Print the explained variance ratio and the transformed data\n",
        "print(f\"Explained variance ratio: {sum(pca.explained_variance_ratio_)}\")\n",
        "X = pd.DataFrame(data=principal_components, columns=[f\"pc {i+1}\" for i in range(num_components)])\n",
        "X.head(5)"
      ],
      "metadata": {
        "id": "vmcK1PUDcwie",
        "outputId": "b3fa248b-ab30-471c-dc81-38ccd68c2810",
        "colab": {
          "base_uri": "https://localhost:8080/",
          "height": 241
        }
      },
      "execution_count": 178,
      "outputs": [
        {
          "output_type": "stream",
          "name": "stdout",
          "text": [
            "Number of components needed for 95% explained variance: 15\n",
            "Explained variance ratio: 0.956763511803161\n"
          ]
        },
        {
          "output_type": "execute_result",
          "data": {
            "text/plain": [
              "        pc 1       pc 2       pc 3       pc 4       pc 5       pc 6  \\\n",
              "0  46.321789   1.886644 -11.322145  -7.311741  20.715475  -4.950527   \n",
              "1 -12.328915  -6.429494  11.169730   8.098719 -10.904679  -4.729757   \n",
              "2   3.240360  37.055949 -11.372926   0.959288  11.682581  16.377551   \n",
              "3  16.327169 -13.971399  31.503065   7.189114 -21.133782   2.890430   \n",
              "4 -11.439719  15.433202  19.498964 -21.176775  -2.428384  -3.020236   \n",
              "\n",
              "        pc 7      pc 8      pc 9     pc 10     pc 11     pc 12     pc 13  \\\n",
              "0   0.706348  6.953263  3.537896  9.784509  4.255154 -1.070620 -1.631250   \n",
              "1  -3.827942  8.946575  4.939291  9.259624 -3.532238  2.507388 -1.524123   \n",
              "2   4.037161  4.419555 -3.821658 -0.497681 -1.348594  1.273021 -3.062495   \n",
              "3 -15.936597  5.844499 -2.188744 -0.984919 -0.761698  5.412601 -0.948862   \n",
              "4  14.807770 -6.290018 -1.741527 -4.843549  0.703960 -0.292470  0.254826   \n",
              "\n",
              "      pc 14     pc 15  \n",
              "0  1.950286 -3.063188  \n",
              "1 -0.303090  1.223362  \n",
              "2 -3.680926  3.856682  \n",
              "3  2.652526  0.164544  \n",
              "4 -2.395998  0.760159  "
            ],
            "text/html": [
              "\n",
              "  <div id=\"df-3353f69e-a613-44bb-b894-287f45ea6d0e\">\n",
              "    <div class=\"colab-df-container\">\n",
              "      <div>\n",
              "<style scoped>\n",
              "    .dataframe tbody tr th:only-of-type {\n",
              "        vertical-align: middle;\n",
              "    }\n",
              "\n",
              "    .dataframe tbody tr th {\n",
              "        vertical-align: top;\n",
              "    }\n",
              "\n",
              "    .dataframe thead th {\n",
              "        text-align: right;\n",
              "    }\n",
              "</style>\n",
              "<table border=\"1\" class=\"dataframe\">\n",
              "  <thead>\n",
              "    <tr style=\"text-align: right;\">\n",
              "      <th></th>\n",
              "      <th>pc 1</th>\n",
              "      <th>pc 2</th>\n",
              "      <th>pc 3</th>\n",
              "      <th>pc 4</th>\n",
              "      <th>pc 5</th>\n",
              "      <th>pc 6</th>\n",
              "      <th>pc 7</th>\n",
              "      <th>pc 8</th>\n",
              "      <th>pc 9</th>\n",
              "      <th>pc 10</th>\n",
              "      <th>pc 11</th>\n",
              "      <th>pc 12</th>\n",
              "      <th>pc 13</th>\n",
              "      <th>pc 14</th>\n",
              "      <th>pc 15</th>\n",
              "    </tr>\n",
              "  </thead>\n",
              "  <tbody>\n",
              "    <tr>\n",
              "      <th>0</th>\n",
              "      <td>46.321789</td>\n",
              "      <td>1.886644</td>\n",
              "      <td>-11.322145</td>\n",
              "      <td>-7.311741</td>\n",
              "      <td>20.715475</td>\n",
              "      <td>-4.950527</td>\n",
              "      <td>0.706348</td>\n",
              "      <td>6.953263</td>\n",
              "      <td>3.537896</td>\n",
              "      <td>9.784509</td>\n",
              "      <td>4.255154</td>\n",
              "      <td>-1.070620</td>\n",
              "      <td>-1.631250</td>\n",
              "      <td>1.950286</td>\n",
              "      <td>-3.063188</td>\n",
              "    </tr>\n",
              "    <tr>\n",
              "      <th>1</th>\n",
              "      <td>-12.328915</td>\n",
              "      <td>-6.429494</td>\n",
              "      <td>11.169730</td>\n",
              "      <td>8.098719</td>\n",
              "      <td>-10.904679</td>\n",
              "      <td>-4.729757</td>\n",
              "      <td>-3.827942</td>\n",
              "      <td>8.946575</td>\n",
              "      <td>4.939291</td>\n",
              "      <td>9.259624</td>\n",
              "      <td>-3.532238</td>\n",
              "      <td>2.507388</td>\n",
              "      <td>-1.524123</td>\n",
              "      <td>-0.303090</td>\n",
              "      <td>1.223362</td>\n",
              "    </tr>\n",
              "    <tr>\n",
              "      <th>2</th>\n",
              "      <td>3.240360</td>\n",
              "      <td>37.055949</td>\n",
              "      <td>-11.372926</td>\n",
              "      <td>0.959288</td>\n",
              "      <td>11.682581</td>\n",
              "      <td>16.377551</td>\n",
              "      <td>4.037161</td>\n",
              "      <td>4.419555</td>\n",
              "      <td>-3.821658</td>\n",
              "      <td>-0.497681</td>\n",
              "      <td>-1.348594</td>\n",
              "      <td>1.273021</td>\n",
              "      <td>-3.062495</td>\n",
              "      <td>-3.680926</td>\n",
              "      <td>3.856682</td>\n",
              "    </tr>\n",
              "    <tr>\n",
              "      <th>3</th>\n",
              "      <td>16.327169</td>\n",
              "      <td>-13.971399</td>\n",
              "      <td>31.503065</td>\n",
              "      <td>7.189114</td>\n",
              "      <td>-21.133782</td>\n",
              "      <td>2.890430</td>\n",
              "      <td>-15.936597</td>\n",
              "      <td>5.844499</td>\n",
              "      <td>-2.188744</td>\n",
              "      <td>-0.984919</td>\n",
              "      <td>-0.761698</td>\n",
              "      <td>5.412601</td>\n",
              "      <td>-0.948862</td>\n",
              "      <td>2.652526</td>\n",
              "      <td>0.164544</td>\n",
              "    </tr>\n",
              "    <tr>\n",
              "      <th>4</th>\n",
              "      <td>-11.439719</td>\n",
              "      <td>15.433202</td>\n",
              "      <td>19.498964</td>\n",
              "      <td>-21.176775</td>\n",
              "      <td>-2.428384</td>\n",
              "      <td>-3.020236</td>\n",
              "      <td>14.807770</td>\n",
              "      <td>-6.290018</td>\n",
              "      <td>-1.741527</td>\n",
              "      <td>-4.843549</td>\n",
              "      <td>0.703960</td>\n",
              "      <td>-0.292470</td>\n",
              "      <td>0.254826</td>\n",
              "      <td>-2.395998</td>\n",
              "      <td>0.760159</td>\n",
              "    </tr>\n",
              "  </tbody>\n",
              "</table>\n",
              "</div>\n",
              "      <button class=\"colab-df-convert\" onclick=\"convertToInteractive('df-3353f69e-a613-44bb-b894-287f45ea6d0e')\"\n",
              "              title=\"Convert this dataframe to an interactive table.\"\n",
              "              style=\"display:none;\">\n",
              "        \n",
              "  <svg xmlns=\"http://www.w3.org/2000/svg\" height=\"24px\"viewBox=\"0 0 24 24\"\n",
              "       width=\"24px\">\n",
              "    <path d=\"M0 0h24v24H0V0z\" fill=\"none\"/>\n",
              "    <path d=\"M18.56 5.44l.94 2.06.94-2.06 2.06-.94-2.06-.94-.94-2.06-.94 2.06-2.06.94zm-11 1L8.5 8.5l.94-2.06 2.06-.94-2.06-.94L8.5 2.5l-.94 2.06-2.06.94zm10 10l.94 2.06.94-2.06 2.06-.94-2.06-.94-.94-2.06-.94 2.06-2.06.94z\"/><path d=\"M17.41 7.96l-1.37-1.37c-.4-.4-.92-.59-1.43-.59-.52 0-1.04.2-1.43.59L10.3 9.45l-7.72 7.72c-.78.78-.78 2.05 0 2.83L4 21.41c.39.39.9.59 1.41.59.51 0 1.02-.2 1.41-.59l7.78-7.78 2.81-2.81c.8-.78.8-2.07 0-2.86zM5.41 20L4 18.59l7.72-7.72 1.47 1.35L5.41 20z\"/>\n",
              "  </svg>\n",
              "      </button>\n",
              "      \n",
              "  <style>\n",
              "    .colab-df-container {\n",
              "      display:flex;\n",
              "      flex-wrap:wrap;\n",
              "      gap: 12px;\n",
              "    }\n",
              "\n",
              "    .colab-df-convert {\n",
              "      background-color: #E8F0FE;\n",
              "      border: none;\n",
              "      border-radius: 50%;\n",
              "      cursor: pointer;\n",
              "      display: none;\n",
              "      fill: #1967D2;\n",
              "      height: 32px;\n",
              "      padding: 0 0 0 0;\n",
              "      width: 32px;\n",
              "    }\n",
              "\n",
              "    .colab-df-convert:hover {\n",
              "      background-color: #E2EBFA;\n",
              "      box-shadow: 0px 1px 2px rgba(60, 64, 67, 0.3), 0px 1px 3px 1px rgba(60, 64, 67, 0.15);\n",
              "      fill: #174EA6;\n",
              "    }\n",
              "\n",
              "    [theme=dark] .colab-df-convert {\n",
              "      background-color: #3B4455;\n",
              "      fill: #D2E3FC;\n",
              "    }\n",
              "\n",
              "    [theme=dark] .colab-df-convert:hover {\n",
              "      background-color: #434B5C;\n",
              "      box-shadow: 0px 1px 3px 1px rgba(0, 0, 0, 0.15);\n",
              "      filter: drop-shadow(0px 1px 2px rgba(0, 0, 0, 0.3));\n",
              "      fill: #FFFFFF;\n",
              "    }\n",
              "  </style>\n",
              "\n",
              "      <script>\n",
              "        const buttonEl =\n",
              "          document.querySelector('#df-3353f69e-a613-44bb-b894-287f45ea6d0e button.colab-df-convert');\n",
              "        buttonEl.style.display =\n",
              "          google.colab.kernel.accessAllowed ? 'block' : 'none';\n",
              "\n",
              "        async function convertToInteractive(key) {\n",
              "          const element = document.querySelector('#df-3353f69e-a613-44bb-b894-287f45ea6d0e');\n",
              "          const dataTable =\n",
              "            await google.colab.kernel.invokeFunction('convertToInteractive',\n",
              "                                                     [key], {});\n",
              "          if (!dataTable) return;\n",
              "\n",
              "          const docLinkHtml = 'Like what you see? Visit the ' +\n",
              "            '<a target=\"_blank\" href=https://colab.research.google.com/notebooks/data_table.ipynb>data table notebook</a>'\n",
              "            + ' to learn more about interactive tables.';\n",
              "          element.innerHTML = '';\n",
              "          dataTable['output_type'] = 'display_data';\n",
              "          await google.colab.output.renderOutput(dataTable, element);\n",
              "          const docLink = document.createElement('div');\n",
              "          docLink.innerHTML = docLinkHtml;\n",
              "          element.appendChild(docLink);\n",
              "        }\n",
              "      </script>\n",
              "    </div>\n",
              "  </div>\n",
              "  "
            ]
          },
          "metadata": {},
          "execution_count": 178
        }
      ]
    },
    {
      "cell_type": "markdown",
      "source": [
        "##**(c) Standardization**"
      ],
      "metadata": {
        "id": "oPXJTuH1wlJO"
      }
    },
    {
      "cell_type": "markdown",
      "source": [
        "mu-sigma standardization is used to normalize the features"
      ],
      "metadata": {
        "id": "gi5LQ2bSx_wC"
      }
    },
    {
      "cell_type": "code",
      "source": [
        "# define mu-sigma standardizer scaler\n",
        "ss = StandardScaler()\n",
        "  \n",
        "# transform data\n",
        "X = pd.DataFrame(ss.fit_transform(X),columns = X.columns)\n",
        "X.head()"
      ],
      "metadata": {
        "colab": {
          "base_uri": "https://localhost:8080/",
          "height": 206
        },
        "id": "RzN13zNVtmGv",
        "outputId": "9f3c7f44-8e4c-456c-d328-bcb5b8005652"
      },
      "execution_count": 179,
      "outputs": [
        {
          "output_type": "execute_result",
          "data": {
            "text/plain": [
              "       pc 1      pc 2      pc 3      pc 4      pc 5      pc 6      pc 7  \\\n",
              "0  2.284703  0.133656 -0.906135 -0.626408  2.207494 -0.577474  0.094652   \n",
              "1 -0.608092 -0.455487  0.893937  0.693830 -1.162031 -0.551721 -0.512949   \n",
              "2  0.159822  2.625165 -0.910199  0.082184  1.244926  1.910424  0.540985   \n",
              "3  0.805296 -0.989780  2.521257  0.615902 -2.252070  0.337166 -2.135525   \n",
              "4 -0.564235  1.093339  1.560543 -1.814247 -0.258775 -0.352307  1.984261   \n",
              "\n",
              "       pc 8      pc 9     pc 10     pc 11     pc 12     pc 13     pc 14  \\\n",
              "0  1.137382  0.699207  1.991890  0.961922 -0.253387 -0.435656  0.528549   \n",
              "1  1.463438  0.976170  1.885036 -0.798499  0.593433 -0.407046 -0.082141   \n",
              "2  0.722930 -0.755288 -0.101316 -0.304864  0.301290 -0.817897 -0.997572   \n",
              "3  0.956016 -0.432570 -0.200506 -0.172190  1.281020 -0.253411  0.718864   \n",
              "4 -1.028891 -0.344184 -0.986030  0.159137 -0.069220  0.068056 -0.649342   \n",
              "\n",
              "      pc 15  \n",
              "0 -0.959567  \n",
              "1  0.383227  \n",
              "2  1.208135  \n",
              "3  0.051545  \n",
              "4  0.238125  "
            ],
            "text/html": [
              "\n",
              "  <div id=\"df-5d1dcf28-3836-41fa-951f-5632897b86ef\">\n",
              "    <div class=\"colab-df-container\">\n",
              "      <div>\n",
              "<style scoped>\n",
              "    .dataframe tbody tr th:only-of-type {\n",
              "        vertical-align: middle;\n",
              "    }\n",
              "\n",
              "    .dataframe tbody tr th {\n",
              "        vertical-align: top;\n",
              "    }\n",
              "\n",
              "    .dataframe thead th {\n",
              "        text-align: right;\n",
              "    }\n",
              "</style>\n",
              "<table border=\"1\" class=\"dataframe\">\n",
              "  <thead>\n",
              "    <tr style=\"text-align: right;\">\n",
              "      <th></th>\n",
              "      <th>pc 1</th>\n",
              "      <th>pc 2</th>\n",
              "      <th>pc 3</th>\n",
              "      <th>pc 4</th>\n",
              "      <th>pc 5</th>\n",
              "      <th>pc 6</th>\n",
              "      <th>pc 7</th>\n",
              "      <th>pc 8</th>\n",
              "      <th>pc 9</th>\n",
              "      <th>pc 10</th>\n",
              "      <th>pc 11</th>\n",
              "      <th>pc 12</th>\n",
              "      <th>pc 13</th>\n",
              "      <th>pc 14</th>\n",
              "      <th>pc 15</th>\n",
              "    </tr>\n",
              "  </thead>\n",
              "  <tbody>\n",
              "    <tr>\n",
              "      <th>0</th>\n",
              "      <td>2.284703</td>\n",
              "      <td>0.133656</td>\n",
              "      <td>-0.906135</td>\n",
              "      <td>-0.626408</td>\n",
              "      <td>2.207494</td>\n",
              "      <td>-0.577474</td>\n",
              "      <td>0.094652</td>\n",
              "      <td>1.137382</td>\n",
              "      <td>0.699207</td>\n",
              "      <td>1.991890</td>\n",
              "      <td>0.961922</td>\n",
              "      <td>-0.253387</td>\n",
              "      <td>-0.435656</td>\n",
              "      <td>0.528549</td>\n",
              "      <td>-0.959567</td>\n",
              "    </tr>\n",
              "    <tr>\n",
              "      <th>1</th>\n",
              "      <td>-0.608092</td>\n",
              "      <td>-0.455487</td>\n",
              "      <td>0.893937</td>\n",
              "      <td>0.693830</td>\n",
              "      <td>-1.162031</td>\n",
              "      <td>-0.551721</td>\n",
              "      <td>-0.512949</td>\n",
              "      <td>1.463438</td>\n",
              "      <td>0.976170</td>\n",
              "      <td>1.885036</td>\n",
              "      <td>-0.798499</td>\n",
              "      <td>0.593433</td>\n",
              "      <td>-0.407046</td>\n",
              "      <td>-0.082141</td>\n",
              "      <td>0.383227</td>\n",
              "    </tr>\n",
              "    <tr>\n",
              "      <th>2</th>\n",
              "      <td>0.159822</td>\n",
              "      <td>2.625165</td>\n",
              "      <td>-0.910199</td>\n",
              "      <td>0.082184</td>\n",
              "      <td>1.244926</td>\n",
              "      <td>1.910424</td>\n",
              "      <td>0.540985</td>\n",
              "      <td>0.722930</td>\n",
              "      <td>-0.755288</td>\n",
              "      <td>-0.101316</td>\n",
              "      <td>-0.304864</td>\n",
              "      <td>0.301290</td>\n",
              "      <td>-0.817897</td>\n",
              "      <td>-0.997572</td>\n",
              "      <td>1.208135</td>\n",
              "    </tr>\n",
              "    <tr>\n",
              "      <th>3</th>\n",
              "      <td>0.805296</td>\n",
              "      <td>-0.989780</td>\n",
              "      <td>2.521257</td>\n",
              "      <td>0.615902</td>\n",
              "      <td>-2.252070</td>\n",
              "      <td>0.337166</td>\n",
              "      <td>-2.135525</td>\n",
              "      <td>0.956016</td>\n",
              "      <td>-0.432570</td>\n",
              "      <td>-0.200506</td>\n",
              "      <td>-0.172190</td>\n",
              "      <td>1.281020</td>\n",
              "      <td>-0.253411</td>\n",
              "      <td>0.718864</td>\n",
              "      <td>0.051545</td>\n",
              "    </tr>\n",
              "    <tr>\n",
              "      <th>4</th>\n",
              "      <td>-0.564235</td>\n",
              "      <td>1.093339</td>\n",
              "      <td>1.560543</td>\n",
              "      <td>-1.814247</td>\n",
              "      <td>-0.258775</td>\n",
              "      <td>-0.352307</td>\n",
              "      <td>1.984261</td>\n",
              "      <td>-1.028891</td>\n",
              "      <td>-0.344184</td>\n",
              "      <td>-0.986030</td>\n",
              "      <td>0.159137</td>\n",
              "      <td>-0.069220</td>\n",
              "      <td>0.068056</td>\n",
              "      <td>-0.649342</td>\n",
              "      <td>0.238125</td>\n",
              "    </tr>\n",
              "  </tbody>\n",
              "</table>\n",
              "</div>\n",
              "      <button class=\"colab-df-convert\" onclick=\"convertToInteractive('df-5d1dcf28-3836-41fa-951f-5632897b86ef')\"\n",
              "              title=\"Convert this dataframe to an interactive table.\"\n",
              "              style=\"display:none;\">\n",
              "        \n",
              "  <svg xmlns=\"http://www.w3.org/2000/svg\" height=\"24px\"viewBox=\"0 0 24 24\"\n",
              "       width=\"24px\">\n",
              "    <path d=\"M0 0h24v24H0V0z\" fill=\"none\"/>\n",
              "    <path d=\"M18.56 5.44l.94 2.06.94-2.06 2.06-.94-2.06-.94-.94-2.06-.94 2.06-2.06.94zm-11 1L8.5 8.5l.94-2.06 2.06-.94-2.06-.94L8.5 2.5l-.94 2.06-2.06.94zm10 10l.94 2.06.94-2.06 2.06-.94-2.06-.94-.94-2.06-.94 2.06-2.06.94z\"/><path d=\"M17.41 7.96l-1.37-1.37c-.4-.4-.92-.59-1.43-.59-.52 0-1.04.2-1.43.59L10.3 9.45l-7.72 7.72c-.78.78-.78 2.05 0 2.83L4 21.41c.39.39.9.59 1.41.59.51 0 1.02-.2 1.41-.59l7.78-7.78 2.81-2.81c.8-.78.8-2.07 0-2.86zM5.41 20L4 18.59l7.72-7.72 1.47 1.35L5.41 20z\"/>\n",
              "  </svg>\n",
              "      </button>\n",
              "      \n",
              "  <style>\n",
              "    .colab-df-container {\n",
              "      display:flex;\n",
              "      flex-wrap:wrap;\n",
              "      gap: 12px;\n",
              "    }\n",
              "\n",
              "    .colab-df-convert {\n",
              "      background-color: #E8F0FE;\n",
              "      border: none;\n",
              "      border-radius: 50%;\n",
              "      cursor: pointer;\n",
              "      display: none;\n",
              "      fill: #1967D2;\n",
              "      height: 32px;\n",
              "      padding: 0 0 0 0;\n",
              "      width: 32px;\n",
              "    }\n",
              "\n",
              "    .colab-df-convert:hover {\n",
              "      background-color: #E2EBFA;\n",
              "      box-shadow: 0px 1px 2px rgba(60, 64, 67, 0.3), 0px 1px 3px 1px rgba(60, 64, 67, 0.15);\n",
              "      fill: #174EA6;\n",
              "    }\n",
              "\n",
              "    [theme=dark] .colab-df-convert {\n",
              "      background-color: #3B4455;\n",
              "      fill: #D2E3FC;\n",
              "    }\n",
              "\n",
              "    [theme=dark] .colab-df-convert:hover {\n",
              "      background-color: #434B5C;\n",
              "      box-shadow: 0px 1px 3px 1px rgba(0, 0, 0, 0.15);\n",
              "      filter: drop-shadow(0px 1px 2px rgba(0, 0, 0, 0.3));\n",
              "      fill: #FFFFFF;\n",
              "    }\n",
              "  </style>\n",
              "\n",
              "      <script>\n",
              "        const buttonEl =\n",
              "          document.querySelector('#df-5d1dcf28-3836-41fa-951f-5632897b86ef button.colab-df-convert');\n",
              "        buttonEl.style.display =\n",
              "          google.colab.kernel.accessAllowed ? 'block' : 'none';\n",
              "\n",
              "        async function convertToInteractive(key) {\n",
              "          const element = document.querySelector('#df-5d1dcf28-3836-41fa-951f-5632897b86ef');\n",
              "          const dataTable =\n",
              "            await google.colab.kernel.invokeFunction('convertToInteractive',\n",
              "                                                     [key], {});\n",
              "          if (!dataTable) return;\n",
              "\n",
              "          const docLinkHtml = 'Like what you see? Visit the ' +\n",
              "            '<a target=\"_blank\" href=https://colab.research.google.com/notebooks/data_table.ipynb>data table notebook</a>'\n",
              "            + ' to learn more about interactive tables.';\n",
              "          element.innerHTML = '';\n",
              "          dataTable['output_type'] = 'display_data';\n",
              "          await google.colab.output.renderOutput(dataTable, element);\n",
              "          const docLink = document.createElement('div');\n",
              "          docLink.innerHTML = docLinkHtml;\n",
              "          element.appendChild(docLink);\n",
              "        }\n",
              "      </script>\n",
              "    </div>\n",
              "  </div>\n",
              "  "
            ]
          },
          "metadata": {},
          "execution_count": 179
        }
      ]
    },
    {
      "cell_type": "markdown",
      "source": [
        "##**(d) Calculate IR**"
      ],
      "metadata": {
        "id": "TCw8fesFyNh7"
      }
    },
    {
      "cell_type": "markdown",
      "source": [
        "The Imbalance Ratio (IR) is the ratio between the number of samples from the majority class and the number of samples from the minority class"
      ],
      "metadata": {
        "id": "PXy4jvylyWGS"
      }
    },
    {
      "cell_type": "code",
      "source": [
        "ds_09['class'].value_counts() #Observe majority and minority class"
      ],
      "metadata": {
        "colab": {
          "base_uri": "https://localhost:8080/"
        },
        "id": "DftdYElnyoSQ",
        "outputId": "2f1e9481-ce32-4c7f-a928-b2b1fcab3072"
      },
      "execution_count": 180,
      "outputs": [
        {
          "output_type": "execute_result",
          "data": {
            "text/plain": [
              "1    230\n",
              "4    224\n",
              "5    148\n",
              "0    132\n",
              "3     68\n",
              "2     67\n",
              "Name: class, dtype: int64"
            ]
          },
          "metadata": {},
          "execution_count": 180
        }
      ]
    },
    {
      "cell_type": "code",
      "source": [
        "IR = ds_09['class'].value_counts().max() / ds_09['class'].value_counts().min()\n",
        "print('Imbalance Ratio: ' + str(IR))"
      ],
      "metadata": {
        "colab": {
          "base_uri": "https://localhost:8080/"
        },
        "id": "y1XKxgpXzoXT",
        "outputId": "11881e3b-d868-48c9-9adb-5ed484c53c71"
      },
      "execution_count": 181,
      "outputs": [
        {
          "output_type": "stream",
          "name": "stdout",
          "text": [
            "Imbalance Ratio: 3.4328358208955225\n"
          ]
        }
      ]
    },
    {
      "cell_type": "markdown",
      "source": [
        "# **T2 - Classifier design (I)**"
      ],
      "metadata": {
        "id": "T2NdIWQpvUEj"
      }
    },
    {
      "cell_type": "markdown",
      "source": [
        "4 different classifiers are defined in this task"
      ],
      "metadata": {
        "id": "w9phrv4faK-v"
      }
    },
    {
      "cell_type": "markdown",
      "source": [
        "## **(a) Find the best configuration for each model**"
      ],
      "metadata": {
        "id": "R0UU-TMohWf4"
      }
    },
    {
      "cell_type": "markdown",
      "source": [
        "Best parameters found by GridSearchCV"
      ],
      "metadata": {
        "id": "sBVHV-cfhssC"
      }
    },
    {
      "cell_type": "markdown",
      "source": [
        "Since the data imbalanced, it is better to use F1 score not the accuracy so all optimization is done based on weighted F1 score"
      ],
      "metadata": {
        "id": "4Y7wUCa1hwG6"
      }
    },
    {
      "cell_type": "markdown",
      "source": [
        "### **1) Gaussian Naive Bayes (GNB)**"
      ],
      "metadata": {
        "id": "wLOCN1UPaP7q"
      }
    },
    {
      "cell_type": "code",
      "source": [
        "from sklearn.naive_bayes import GaussianNB\n",
        "model_gnb = GaussianNB()"
      ],
      "metadata": {
        "id": "IMr9gFvWbEno"
      },
      "execution_count": 182,
      "outputs": []
    },
    {
      "cell_type": "markdown",
      "source": [
        "### **2) Logistic Regression (LR)**"
      ],
      "metadata": {
        "id": "sNtEeFtqa-8E"
      }
    },
    {
      "cell_type": "code",
      "source": [
        "from sklearn.linear_model import LogisticRegression\n",
        "model_lr = LogisticRegression(solver='saga', max_iter=5000, tol=0.001)\n",
        "param_lr = [{'penalty': ['l1','l2','none'],'C': [0.1, 1, 10]}]\n",
        "\n",
        "gs_lr = GridSearchCV(model_lr,\n",
        "                      param_grid=param_lr,\n",
        "                      scoring='f1_weighted',\n",
        "                      cv=5)\n",
        "gs_lr.fit(X, y)\n",
        "gs_lr.best_params_"
      ],
      "metadata": {
        "id": "Y8mS2RV7vUj2",
        "colab": {
          "base_uri": "https://localhost:8080/"
        },
        "outputId": "78a6bd1a-2aa4-478d-b5d9-14f805e6c276"
      },
      "execution_count": 183,
      "outputs": [
        {
          "output_type": "stream",
          "name": "stderr",
          "text": [
            "/usr/local/lib/python3.8/dist-packages/sklearn/linear_model/_logistic.py:1483: UserWarning: Setting penalty='none' will ignore the C and l1_ratio parameters\n",
            "  warnings.warn(\n",
            "/usr/local/lib/python3.8/dist-packages/sklearn/linear_model/_logistic.py:1483: UserWarning: Setting penalty='none' will ignore the C and l1_ratio parameters\n",
            "  warnings.warn(\n",
            "/usr/local/lib/python3.8/dist-packages/sklearn/linear_model/_logistic.py:1483: UserWarning: Setting penalty='none' will ignore the C and l1_ratio parameters\n",
            "  warnings.warn(\n",
            "/usr/local/lib/python3.8/dist-packages/sklearn/linear_model/_logistic.py:1483: UserWarning: Setting penalty='none' will ignore the C and l1_ratio parameters\n",
            "  warnings.warn(\n",
            "/usr/local/lib/python3.8/dist-packages/sklearn/linear_model/_logistic.py:1483: UserWarning: Setting penalty='none' will ignore the C and l1_ratio parameters\n",
            "  warnings.warn(\n",
            "/usr/local/lib/python3.8/dist-packages/sklearn/linear_model/_logistic.py:1483: UserWarning: Setting penalty='none' will ignore the C and l1_ratio parameters\n",
            "  warnings.warn(\n",
            "/usr/local/lib/python3.8/dist-packages/sklearn/linear_model/_logistic.py:1483: UserWarning: Setting penalty='none' will ignore the C and l1_ratio parameters\n",
            "  warnings.warn(\n",
            "/usr/local/lib/python3.8/dist-packages/sklearn/linear_model/_logistic.py:1483: UserWarning: Setting penalty='none' will ignore the C and l1_ratio parameters\n",
            "  warnings.warn(\n",
            "/usr/local/lib/python3.8/dist-packages/sklearn/linear_model/_logistic.py:1483: UserWarning: Setting penalty='none' will ignore the C and l1_ratio parameters\n",
            "  warnings.warn(\n",
            "/usr/local/lib/python3.8/dist-packages/sklearn/linear_model/_logistic.py:1483: UserWarning: Setting penalty='none' will ignore the C and l1_ratio parameters\n",
            "  warnings.warn(\n"
          ]
        },
        {
          "output_type": "execute_result",
          "data": {
            "text/plain": [
              "{'C': 0.1, 'penalty': 'l2'}"
            ]
          },
          "metadata": {},
          "execution_count": 183
        }
      ]
    },
    {
      "cell_type": "markdown",
      "source": [
        "Best C value is 0.1 and best penalty value is l2."
      ],
      "metadata": {
        "id": "7Wo2oJXgh82b"
      }
    },
    {
      "cell_type": "code",
      "source": [
        "model_lr = LogisticRegression(solver='saga', max_iter=5000, tol=0.001, C=0.1, penalty='l2')"
      ],
      "metadata": {
        "id": "5AXSdMYMiCjs"
      },
      "execution_count": 184,
      "outputs": []
    },
    {
      "cell_type": "markdown",
      "source": [
        "### **3) Decision Tree (DT)**"
      ],
      "metadata": {
        "id": "NgXk1-pjbFgW"
      }
    },
    {
      "cell_type": "code",
      "source": [
        "from sklearn import tree\n",
        "model_dt = tree.DecisionTreeClassifier()\n",
        "param_dt = [{'criterion': ['gini','entropy'],'max_depth': [3, 5, None],'min_samples_leaf': [1, 5, 10]}]\n",
        "\n",
        "gs_dt = GridSearchCV(model_dt,\n",
        "                      param_grid=param_dt,\n",
        "                      scoring='f1_weighted',\n",
        "                      cv=5)\n",
        "gs_dt.fit(X, y)\n",
        "gs_dt.best_params_"
      ],
      "metadata": {
        "colab": {
          "base_uri": "https://localhost:8080/"
        },
        "id": "XOyXAxTpbF1U",
        "outputId": "eaaaba4e-6779-44c4-f78f-b5c62bed2317"
      },
      "execution_count": 185,
      "outputs": [
        {
          "output_type": "execute_result",
          "data": {
            "text/plain": [
              "{'criterion': 'entropy', 'max_depth': None, 'min_samples_leaf': 5}"
            ]
          },
          "metadata": {},
          "execution_count": 185
        }
      ]
    },
    {
      "cell_type": "markdown",
      "source": [
        "Best criterion value is entropy, better to set max_dept default which is None and best min. sample leaf is 1."
      ],
      "metadata": {
        "id": "9Hncv5p1ioSc"
      }
    },
    {
      "cell_type": "code",
      "source": [
        "model_dt = tree.DecisionTreeClassifier(criterion='entropy', max_depth=None, min_samples_leaf=1)"
      ],
      "metadata": {
        "id": "7rznciV0i00J"
      },
      "execution_count": 186,
      "outputs": []
    },
    {
      "cell_type": "markdown",
      "source": [
        "### **4) Support Vector Machine (SVM)**"
      ],
      "metadata": {
        "id": "-EnYYrfubGQk"
      }
    },
    {
      "cell_type": "code",
      "source": [
        "from sklearn import svm\n",
        "model_svm = svm.SVC(gamma='scale', probability=True, max_iter=5000, tol=0.05)\n",
        "param_svm = [{'kernel': ['linear','poly','rbf'],'C': [0.1, 1, 10]}]\n",
        "\n",
        "gs_svm = GridSearchCV(model_svm,\n",
        "                      param_grid=param_svm,\n",
        "                      scoring='f1_weighted',\n",
        "                      cv=5)\n",
        "gs_svm.fit(X, y)\n",
        "gs_svm.best_params_"
      ],
      "metadata": {
        "colab": {
          "base_uri": "https://localhost:8080/"
        },
        "id": "rUwiMWqCbGh8",
        "outputId": "a35c517f-ef0e-4ed2-e2a2-b14dcfd1caa3"
      },
      "execution_count": 187,
      "outputs": [
        {
          "output_type": "stream",
          "name": "stderr",
          "text": [
            "/usr/local/lib/python3.8/dist-packages/sklearn/svm/_base.py:284: ConvergenceWarning: Solver terminated early (max_iter=5000).  Consider pre-processing your data with StandardScaler or MinMaxScaler.\n",
            "  warnings.warn(\n",
            "/usr/local/lib/python3.8/dist-packages/sklearn/svm/_base.py:284: ConvergenceWarning: Solver terminated early (max_iter=5000).  Consider pre-processing your data with StandardScaler or MinMaxScaler.\n",
            "  warnings.warn(\n",
            "/usr/local/lib/python3.8/dist-packages/sklearn/svm/_base.py:284: ConvergenceWarning: Solver terminated early (max_iter=5000).  Consider pre-processing your data with StandardScaler or MinMaxScaler.\n",
            "  warnings.warn(\n",
            "/usr/local/lib/python3.8/dist-packages/sklearn/svm/_base.py:284: ConvergenceWarning: Solver terminated early (max_iter=5000).  Consider pre-processing your data with StandardScaler or MinMaxScaler.\n",
            "  warnings.warn(\n",
            "/usr/local/lib/python3.8/dist-packages/sklearn/svm/_base.py:284: ConvergenceWarning: Solver terminated early (max_iter=5000).  Consider pre-processing your data with StandardScaler or MinMaxScaler.\n",
            "  warnings.warn(\n"
          ]
        },
        {
          "output_type": "execute_result",
          "data": {
            "text/plain": [
              "{'C': 10, 'kernel': 'rbf'}"
            ]
          },
          "metadata": {},
          "execution_count": 187
        }
      ]
    },
    {
      "cell_type": "markdown",
      "source": [
        "Best C value is 10 and the best kernel value is rbf"
      ],
      "metadata": {
        "id": "o5jPjkfWjyO6"
      }
    },
    {
      "cell_type": "code",
      "source": [
        "model_svm = svm.SVC(gamma='scale', probability=True, max_iter=5000, tol=0.05, C=10, kernel='rbf')"
      ],
      "metadata": {
        "id": "jBRPExd6j9Vr"
      },
      "execution_count": 188,
      "outputs": []
    },
    {
      "cell_type": "markdown",
      "source": [
        "## **b) Estimate the accuracy, precision, recall and F1 scores**"
      ],
      "metadata": {
        "id": "GwzizNRbkKyJ"
      }
    },
    {
      "cell_type": "code",
      "source": [
        "# specifying the evaluation metrics\n",
        "scoring = {'acc': 'accuracy',\n",
        "           'pre': make_scorer(precision_score, average='weighted'),\n",
        "           'rec': make_scorer(recall_score, average='weighted'),\n",
        "           'f1': make_scorer(f1_score, average='weighted')}\n",
        "\n",
        "# creating the cross-validation using 3-repetition, 5-fold \n",
        "cv = RepeatedStratifiedKFold(n_splits=5, n_repeats=3)\n",
        "\n",
        "# creating a dictionary to store the mean scores for each model\n",
        "scores_mean = {}\n",
        "\n",
        "models = [model_gnb,model_lr,model_dt,model_svm]\n",
        "\n",
        "for m in models: # for each classifiers\n",
        "  # evaluate the classifier using 3-repetition, 5-fold cross-validation\n",
        "  scores = cross_validate(m, X, y, scoring=scoring, cv=cv, n_jobs=-1)\n",
        "\n",
        "  print('MODEL:' + str(m)) #printing what the model is\n",
        "\n",
        "  # store the mean scores for each evaluation metric in the scores_mean dictionary\n",
        "  scores_mean[str(m)] = {}\n",
        "  for metric in scoring:\n",
        "    mean = np.mean(scores['test_' + metric])\n",
        "    scores_mean[str(m)][metric] = mean\n",
        "    std = np.std(scores['test_' + metric])\n",
        "    print(f'{metric}: {mean:.4f} (+/- {std * 2:.4f})')\n",
        "  print()\n",
        " \n"
      ],
      "metadata": {
        "colab": {
          "base_uri": "https://localhost:8080/"
        },
        "id": "2LLs6uh-Hfvc",
        "outputId": "ca4377f7-df74-4fba-9e88-e4fc41c6235e"
      },
      "execution_count": 189,
      "outputs": [
        {
          "output_type": "stream",
          "name": "stdout",
          "text": [
            "MODEL:GaussianNB()\n",
            "acc: 0.5880 (+/- 0.0565)\n",
            "pre: 0.6123 (+/- 0.0513)\n",
            "rec: 0.5880 (+/- 0.0565)\n",
            "f1: 0.5879 (+/- 0.0573)\n",
            "\n",
            "MODEL:LogisticRegression(C=0.1, max_iter=5000, solver='saga', tol=0.001)\n",
            "acc: 0.5659 (+/- 0.0763)\n",
            "pre: 0.5877 (+/- 0.0787)\n",
            "rec: 0.5659 (+/- 0.0763)\n",
            "f1: 0.5627 (+/- 0.0759)\n",
            "\n",
            "MODEL:DecisionTreeClassifier(criterion='entropy')\n",
            "acc: 0.5324 (+/- 0.0870)\n",
            "pre: 0.5414 (+/- 0.0801)\n",
            "rec: 0.5324 (+/- 0.0870)\n",
            "f1: 0.5324 (+/- 0.0825)\n",
            "\n",
            "MODEL:SVC(C=10, max_iter=5000, probability=True, tol=0.05)\n",
            "acc: 0.7308 (+/- 0.0643)\n",
            "pre: 0.7391 (+/- 0.0627)\n",
            "rec: 0.7308 (+/- 0.0643)\n",
            "f1: 0.7304 (+/- 0.0647)\n",
            "\n"
          ]
        }
      ]
    },
    {
      "cell_type": "markdown",
      "source": [
        "## **c) Rank the models**"
      ],
      "metadata": {
        "id": "_JTzel5gLWaL"
      }
    },
    {
      "cell_type": "markdown",
      "source": [
        "In imbalanced datasets, where the minority class is under-represented, it is important to choose an appropriate evaluation metric. The F1 score is a commonly used metric in imbalanced datasets, as it is a balanced measure of precision and recall and takes into account both the true positive and false positive rates. Therefore, four models ranked based on F1 Scores"
      ],
      "metadata": {
        "id": "cchj3EGQLdRq"
      }
    },
    {
      "cell_type": "markdown",
      "source": [
        "Ranking\n",
        "\n",
        "1.   Suppport Vector Machine with F1 score around **0.74**\n",
        "2.   Gaussian Naive Bayes with F1 score around **0.59**\n",
        "2.   Logistic Regression with F1 score around **0.56**\n",
        "3.   Decision Tree with F1 score around **0.54**\n",
        "\n",
        "\n",
        "\n"
      ],
      "metadata": {
        "id": "bXjpvxYyLzIs"
      }
    },
    {
      "cell_type": "markdown",
      "source": [
        "Here, also the comparative barchart for each score metrics"
      ],
      "metadata": {
        "id": "x2akrCiyq2t-"
      }
    },
    {
      "cell_type": "code",
      "source": [
        "# create a bar plot of the mean scores for each model\n",
        "fig, ax = plt.subplots()\n",
        "index = np.arange(len(scoring))\n",
        "bar_width = 0.2\n",
        "opacity = 0.9\n",
        "\n",
        "for i, model in enumerate(scores_mean.keys()):\n",
        "  ax.bar(index + i * bar_width, scores_mean[model].values(), bar_width, alpha=opacity, label=model)\n",
        "\n",
        "ax.set_xlabel('Evaluation Metric')\n",
        "ax.set_ylabel('Score')\n",
        "ax.set_title('Mean Scores for Each Model')\n",
        "ax.set_xticks(index + bar_width / 2)\n",
        "ax.set_xticklabels(scoring.keys())\n",
        "modelNames = ['GNB','LR','DT','SVM']\n",
        "\n",
        "# move the legend to the bottom of the plot\n",
        "ax.legend(modelNames,bbox_to_anchor=(0,0.2), prop={'size': 10}, loc='upper left', ncol=2)\n",
        "plt.show()\n"
      ],
      "metadata": {
        "id": "8tmdIJ3smDJn",
        "outputId": "e00410be-8307-40aa-e652-ecd6c12b362b",
        "colab": {
          "base_uri": "https://localhost:8080/",
          "height": 295
        }
      },
      "execution_count": 190,
      "outputs": [
        {
          "output_type": "display_data",
          "data": {
            "text/plain": [
              "<Figure size 432x288 with 1 Axes>"
            ],
            "image/png": "[encoded data removed]"
          },
          "metadata": {
            "needs_background": "light"
          }
        }
      ]
    },
    {
      "cell_type": "markdown",
      "source": [
        "It is clearly seen that SVM performs much better than all of the other models"
      ],
      "metadata": {
        "id": "RLcINKLZrDJY"
      }
    },
    {
      "cell_type": "markdown",
      "source": [
        "# **T3 - Classifier design (II)**"
      ],
      "metadata": {
        "id": "0z7FZVI9vUu1"
      }
    },
    {
      "cell_type": "code",
      "source": [],
      "metadata": {
        "id": "mB30YY1wvVCu"
      },
      "execution_count": 190,
      "outputs": []
    },
    {
      "cell_type": "markdown",
      "source": [
        "# **T4 - Regression**"
      ],
      "metadata": {
        "id": "Ga4cIf1vvVLF"
      }
    },
    {
      "cell_type": "markdown",
      "source": [
        "Create X and y"
      ],
      "metadata": {
        "id": "PW7a7syguZl-"
      }
    },
    {
      "cell_type": "code",
      "source": [
        "X = ds_09.drop(columns=['class', 'target'])\n",
        "y = ds_09['target']"
      ],
      "metadata": {
        "id": "kjORE8NVvViV"
      },
      "execution_count": 191,
      "outputs": []
    },
    {
      "cell_type": "markdown",
      "source": [
        "standardize the data"
      ],
      "metadata": {
        "id": "Yge3ZdEsuYFo"
      }
    },
    {
      "cell_type": "code",
      "source": [
        "# define mu-sigma standardizer scaler\n",
        "ss = StandardScaler()\n",
        "  \n",
        "# transform data\n",
        "X = pd.DataFrame(ss.fit_transform(X),columns = X.columns)\n",
        "X.head()"
      ],
      "metadata": {
        "id": "Ud-S-UETub-y",
        "outputId": "371fc451-91cc-4a48-e67a-4dfcedd535d5",
        "colab": {
          "base_uri": "https://localhost:8080/",
          "height": 299
        }
      },
      "execution_count": 192,
      "outputs": [
        {
          "output_type": "execute_result",
          "data": {
            "text/plain": [
              "        V01       V02       V03       V04       V05       V06       V07  \\\n",
              "0  1.214996 -0.054054  1.152872  2.357207  2.216477 -1.496285 -1.158382   \n",
              "1  0.986969 -0.054054 -1.939001 -1.175792 -0.726378 -0.047792  1.256262   \n",
              "2  0.373306  0.726206  2.955703  0.791817  0.006227  0.102783  0.921588   \n",
              "3 -0.917733 -2.285514 -2.392278 -0.820680 -1.413390 -1.646860 -0.342179   \n",
              "4 -0.337604  0.241384  1.062673  0.433082 -1.593692 -0.044691  0.203289   \n",
              "\n",
              "        V08       V09       V10  ...       V27       V28       V29       V30  \\\n",
              "0  2.376606 -0.895622 -2.346782  ... -0.316122 -1.539320  2.279143  0.406997   \n",
              "1 -0.882371 -1.204081 -0.161146  ... -1.312862  0.261232 -0.129392  0.010242   \n",
              "2  1.614855  0.814919 -0.293497  ...  1.431467 -1.003106 -0.793879  0.168944   \n",
              "3  0.110712 -0.624553 -0.913193  ... -1.802451 -0.385048 -0.238912 -0.766735   \n",
              "4 -1.512486 -0.437608  0.932290  ...  1.481963 -0.760398  0.015906  0.069755   \n",
              "\n",
              "        V31       V32       V33       V34       V35       V36  \n",
              "0 -3.207810 -0.729132  0.408947  0.383839  1.212194 -0.099109  \n",
              "1 -0.254762  0.577851 -0.075171 -0.882510  1.432997  0.053858  \n",
              "2  1.579018 -0.094431  0.743429 -2.103338 -1.071547 -0.463317  \n",
              "3 -1.466957  1.423423  2.459851 -1.207375  0.827364 -2.024555  \n",
              "4  0.691039  1.809672 -0.066369 -0.141737 -0.349203 -0.298209  \n",
              "\n",
              "[5 rows x 36 columns]"
            ],
            "text/html": [
              "\n",
              "  <div id=\"df-e9de7871-a392-484d-870f-04dc9ef720e0\">\n",
              "    <div class=\"colab-df-container\">\n",
              "      <div>\n",
              "<style scoped>\n",
              "    .dataframe tbody tr th:only-of-type {\n",
              "        vertical-align: middle;\n",
              "    }\n",
              "\n",
              "    .dataframe tbody tr th {\n",
              "        vertical-align: top;\n",
              "    }\n",
              "\n",
              "    .dataframe thead th {\n",
              "        text-align: right;\n",
              "    }\n",
              "</style>\n",
              "<table border=\"1\" class=\"dataframe\">\n",
              "  <thead>\n",
              "    <tr style=\"text-align: right;\">\n",
              "      <th></th>\n",
              "      <th>V01</th>\n",
              "      <th>V02</th>\n",
              "      <th>V03</th>\n",
              "      <th>V04</th>\n",
              "      <th>V05</th>\n",
              "      <th>V06</th>\n",
              "      <th>V07</th>\n",
              "      <th>V08</th>\n",
              "      <th>V09</th>\n",
              "      <th>V10</th>\n",
              "      <th>...</th>\n",
              "      <th>V27</th>\n",
              "      <th>V28</th>\n",
              "      <th>V29</th>\n",
              "      <th>V30</th>\n",
              "      <th>V31</th>\n",
              "      <th>V32</th>\n",
              "      <th>V33</th>\n",
              "      <th>V34</th>\n",
              "      <th>V35</th>\n",
              "      <th>V36</th>\n",
              "    </tr>\n",
              "  </thead>\n",
              "  <tbody>\n",
              "    <tr>\n",
              "      <th>0</th>\n",
              "      <td>1.214996</td>\n",
              "      <td>-0.054054</td>\n",
              "      <td>1.152872</td>\n",
              "      <td>2.357207</td>\n",
              "      <td>2.216477</td>\n",
              "      <td>-1.496285</td>\n",
              "      <td>-1.158382</td>\n",
              "      <td>2.376606</td>\n",
              "      <td>-0.895622</td>\n",
              "      <td>-2.346782</td>\n",
              "      <td>...</td>\n",
              "      <td>-0.316122</td>\n",
              "      <td>-1.539320</td>\n",
              "      <td>2.279143</td>\n",
              "      <td>0.406997</td>\n",
              "      <td>-3.207810</td>\n",
              "      <td>-0.729132</td>\n",
              "      <td>0.408947</td>\n",
              "      <td>0.383839</td>\n",
              "      <td>1.212194</td>\n",
              "      <td>-0.099109</td>\n",
              "    </tr>\n",
              "    <tr>\n",
              "      <th>1</th>\n",
              "      <td>0.986969</td>\n",
              "      <td>-0.054054</td>\n",
              "      <td>-1.939001</td>\n",
              "      <td>-1.175792</td>\n",
              "      <td>-0.726378</td>\n",
              "      <td>-0.047792</td>\n",
              "      <td>1.256262</td>\n",
              "      <td>-0.882371</td>\n",
              "      <td>-1.204081</td>\n",
              "      <td>-0.161146</td>\n",
              "      <td>...</td>\n",
              "      <td>-1.312862</td>\n",
              "      <td>0.261232</td>\n",
              "      <td>-0.129392</td>\n",
              "      <td>0.010242</td>\n",
              "      <td>-0.254762</td>\n",
              "      <td>0.577851</td>\n",
              "      <td>-0.075171</td>\n",
              "      <td>-0.882510</td>\n",
              "      <td>1.432997</td>\n",
              "      <td>0.053858</td>\n",
              "    </tr>\n",
              "    <tr>\n",
              "      <th>2</th>\n",
              "      <td>0.373306</td>\n",
              "      <td>0.726206</td>\n",
              "      <td>2.955703</td>\n",
              "      <td>0.791817</td>\n",
              "      <td>0.006227</td>\n",
              "      <td>0.102783</td>\n",
              "      <td>0.921588</td>\n",
              "      <td>1.614855</td>\n",
              "      <td>0.814919</td>\n",
              "      <td>-0.293497</td>\n",
              "      <td>...</td>\n",
              "      <td>1.431467</td>\n",
              "      <td>-1.003106</td>\n",
              "      <td>-0.793879</td>\n",
              "      <td>0.168944</td>\n",
              "      <td>1.579018</td>\n",
              "      <td>-0.094431</td>\n",
              "      <td>0.743429</td>\n",
              "      <td>-2.103338</td>\n",
              "      <td>-1.071547</td>\n",
              "      <td>-0.463317</td>\n",
              "    </tr>\n",
              "    <tr>\n",
              "      <th>3</th>\n",
              "      <td>-0.917733</td>\n",
              "      <td>-2.285514</td>\n",
              "      <td>-2.392278</td>\n",
              "      <td>-0.820680</td>\n",
              "      <td>-1.413390</td>\n",
              "      <td>-1.646860</td>\n",
              "      <td>-0.342179</td>\n",
              "      <td>0.110712</td>\n",
              "      <td>-0.624553</td>\n",
              "      <td>-0.913193</td>\n",
              "      <td>...</td>\n",
              "      <td>-1.802451</td>\n",
              "      <td>-0.385048</td>\n",
              "      <td>-0.238912</td>\n",
              "      <td>-0.766735</td>\n",
              "      <td>-1.466957</td>\n",
              "      <td>1.423423</td>\n",
              "      <td>2.459851</td>\n",
              "      <td>-1.207375</td>\n",
              "      <td>0.827364</td>\n",
              "      <td>-2.024555</td>\n",
              "    </tr>\n",
              "    <tr>\n",
              "      <th>4</th>\n",
              "      <td>-0.337604</td>\n",
              "      <td>0.241384</td>\n",
              "      <td>1.062673</td>\n",
              "      <td>0.433082</td>\n",
              "      <td>-1.593692</td>\n",
              "      <td>-0.044691</td>\n",
              "      <td>0.203289</td>\n",
              "      <td>-1.512486</td>\n",
              "      <td>-0.437608</td>\n",
              "      <td>0.932290</td>\n",
              "      <td>...</td>\n",
              "      <td>1.481963</td>\n",
              "      <td>-0.760398</td>\n",
              "      <td>0.015906</td>\n",
              "      <td>0.069755</td>\n",
              "      <td>0.691039</td>\n",
              "      <td>1.809672</td>\n",
              "      <td>-0.066369</td>\n",
              "      <td>-0.141737</td>\n",
              "      <td>-0.349203</td>\n",
              "      <td>-0.298209</td>\n",
              "    </tr>\n",
              "  </tbody>\n",
              "</table>\n",
              "<p>5 rows × 36 columns</p>\n",
              "</div>\n",
              "      <button class=\"colab-df-convert\" onclick=\"convertToInteractive('df-e9de7871-a392-484d-870f-04dc9ef720e0')\"\n",
              "              title=\"Convert this dataframe to an interactive table.\"\n",
              "              style=\"display:none;\">\n",
              "        \n",
              "  <svg xmlns=\"http://www.w3.org/2000/svg\" height=\"24px\"viewBox=\"0 0 24 24\"\n",
              "       width=\"24px\">\n",
              "    <path d=\"M0 0h24v24H0V0z\" fill=\"none\"/>\n",
              "    <path d=\"M18.56 5.44l.94 2.06.94-2.06 2.06-.94-2.06-.94-.94-2.06-.94 2.06-2.06.94zm-11 1L8.5 8.5l.94-2.06 2.06-.94-2.06-.94L8.5 2.5l-.94 2.06-2.06.94zm10 10l.94 2.06.94-2.06 2.06-.94-2.06-.94-.94-2.06-.94 2.06-2.06.94z\"/><path d=\"M17.41 7.96l-1.37-1.37c-.4-.4-.92-.59-1.43-.59-.52 0-1.04.2-1.43.59L10.3 9.45l-7.72 7.72c-.78.78-.78 2.05 0 2.83L4 21.41c.39.39.9.59 1.41.59.51 0 1.02-.2 1.41-.59l7.78-7.78 2.81-2.81c.8-.78.8-2.07 0-2.86zM5.41 20L4 18.59l7.72-7.72 1.47 1.35L5.41 20z\"/>\n",
              "  </svg>\n",
              "      </button>\n",
              "      \n",
              "  <style>\n",
              "    .colab-df-container {\n",
              "      display:flex;\n",
              "      flex-wrap:wrap;\n",
              "      gap: 12px;\n",
              "    }\n",
              "\n",
              "    .colab-df-convert {\n",
              "      background-color: #E8F0FE;\n",
              "      border: none;\n",
              "      border-radius: 50%;\n",
              "      cursor: pointer;\n",
              "      display: none;\n",
              "      fill: #1967D2;\n",
              "      height: 32px;\n",
              "      padding: 0 0 0 0;\n",
              "      width: 32px;\n",
              "    }\n",
              "\n",
              "    .colab-df-convert:hover {\n",
              "      background-color: #E2EBFA;\n",
              "      box-shadow: 0px 1px 2px rgba(60, 64, 67, 0.3), 0px 1px 3px 1px rgba(60, 64, 67, 0.15);\n",
              "      fill: #174EA6;\n",
              "    }\n",
              "\n",
              "    [theme=dark] .colab-df-convert {\n",
              "      background-color: #3B4455;\n",
              "      fill: #D2E3FC;\n",
              "    }\n",
              "\n",
              "    [theme=dark] .colab-df-convert:hover {\n",
              "      background-color: #434B5C;\n",
              "      box-shadow: 0px 1px 3px 1px rgba(0, 0, 0, 0.15);\n",
              "      filter: drop-shadow(0px 1px 2px rgba(0, 0, 0, 0.3));\n",
              "      fill: #FFFFFF;\n",
              "    }\n",
              "  </style>\n",
              "\n",
              "      <script>\n",
              "        const buttonEl =\n",
              "          document.querySelector('#df-e9de7871-a392-484d-870f-04dc9ef720e0 button.colab-df-convert');\n",
              "        buttonEl.style.display =\n",
              "          google.colab.kernel.accessAllowed ? 'block' : 'none';\n",
              "\n",
              "        async function convertToInteractive(key) {\n",
              "          const element = document.querySelector('#df-e9de7871-a392-484d-870f-04dc9ef720e0');\n",
              "          const dataTable =\n",
              "            await google.colab.kernel.invokeFunction('convertToInteractive',\n",
              "                                                     [key], {});\n",
              "          if (!dataTable) return;\n",
              "\n",
              "          const docLinkHtml = 'Like what you see? Visit the ' +\n",
              "            '<a target=\"_blank\" href=https://colab.research.google.com/notebooks/data_table.ipynb>data table notebook</a>'\n",
              "            + ' to learn more about interactive tables.';\n",
              "          element.innerHTML = '';\n",
              "          dataTable['output_type'] = 'display_data';\n",
              "          await google.colab.output.renderOutput(dataTable, element);\n",
              "          const docLink = document.createElement('div');\n",
              "          docLink.innerHTML = docLinkHtml;\n",
              "          element.appendChild(docLink);\n",
              "        }\n",
              "      </script>\n",
              "    </div>\n",
              "  </div>\n",
              "  "
            ]
          },
          "metadata": {},
          "execution_count": 192
        }
      ]
    },
    {
      "cell_type": "markdown",
      "source": [
        "##**(a) Fit a multivariate linear regression model**"
      ],
      "metadata": {
        "id": "83bNl23Pu7tm"
      }
    },
    {
      "cell_type": "markdown",
      "source": [
        "exclusively a first degree multivariate polynomial model is used"
      ],
      "metadata": {
        "id": "LUxA7iZ5w9q9"
      }
    },
    {
      "cell_type": "code",
      "source": [
        "# Transform the features to include polynomial terms\n",
        "poly = PolynomialFeatures(degree=1)\n",
        "X_poly = poly.fit_transform(X)\n",
        "\n",
        "# create the model\n",
        "model_r = LinearRegression()\n",
        "# fit\n",
        "model_r.fit(X_poly, y)"
      ],
      "metadata": {
        "id": "Vi0Ln32pu-gj",
        "outputId": "414c0c0c-64f1-4abf-b8d6-025a9517b884",
        "colab": {
          "base_uri": "https://localhost:8080/"
        }
      },
      "execution_count": 207,
      "outputs": [
        {
          "output_type": "execute_result",
          "data": {
            "text/plain": [
              "LinearRegression()"
            ]
          },
          "metadata": {},
          "execution_count": 207
        }
      ]
    },
    {
      "cell_type": "markdown",
      "source": [
        "##**(b) Estimate and report on the R2 measure and the root mean squared error**"
      ],
      "metadata": {
        "id": "1ZUY2E-mxGwC"
      }
    },
    {
      "cell_type": "code",
      "source": [
        "# creating the cross-validation using 3-repetition, 5-fold \n",
        "cv = RepeatedKFold(n_splits=5, n_repeats=3, random_state=3964)\n",
        "\n",
        "# Evaluate the model using R2 measure\n",
        "R2 = cross_val_score(model_r, X_poly, y, scoring='r2', cv=cv, n_jobs=-1)\n",
        "\n",
        "# Evaluate the model using root mean squared error\n",
        "RMSE = cross_val_score(model_r, X_poly, y, scoring='neg_root_mean_squared_error', cv=cv, n_jobs=-1)\n",
        "RMSE = abs(RMSE)\n",
        "\n",
        "# Print the mean and standard deviation of the scores\n",
        "print(f'R2 measure: {np.mean(R2):.4f} (+/- {np.std(R2) * 2:.4f})')\n",
        "print(f'Root mean squared error: {np.mean(RMSE):.4f} (+/- {np.std(RMSE) * 2:.4f})')"
      ],
      "metadata": {
        "id": "2siLWsq8xQ3O",
        "outputId": "4527c27c-d6ec-498a-d6e2-a6948a9fe384",
        "colab": {
          "base_uri": "https://localhost:8080/"
        }
      },
      "execution_count": 216,
      "outputs": [
        {
          "output_type": "stream",
          "name": "stdout",
          "text": [
            "R2 measure: 0.9699 (+/- 0.0087)\n",
            "Root mean squared error: 0.0059 (+/- 0.0009)\n"
          ]
        }
      ]
    },
    {
      "cell_type": "markdown",
      "source": [
        "R-squared (R2) is a common evaluation metric for regression models. It measures the proportion of the variance in the target variable that is explained by the model. An R2 value of 1 indicates that the model explains all the variance in the target variable, while an R2 value of 0 indicates that the model explains none of the variance. Since the mean R2 value is very close to 1, we can state the model is performing well.\n",
        "\n"
      ],
      "metadata": {
        "id": "o6Nc8sf63Xax"
      }
    },
    {
      "cell_type": "markdown",
      "source": [
        " RMSE is more sensitive to the individual errors in the prediction. RMSE is a measure of the absolute error, while R2 is a measure of the squared error. Since the mean RMSE value is very low, the model has a good performance."
      ],
      "metadata": {
        "id": "z55zF5jS3o75"
      }
    },
    {
      "cell_type": "markdown",
      "source": [
        "# **T5 - Model exploitation**"
      ],
      "metadata": {
        "id": "OECpAc0vvVtk"
      }
    },
    {
      "cell_type": "code",
      "source": [
        "df_t5 = pd.read_csv('MachineLearning/SupervisedLearning/im_x_09.txt', sep=\" \", header=None, index_col=False)\n",
        "df_t5_y = pd.read_csv('MachineLearning/SupervisedLearning/im_y_09.txt', sep=\" \", header=None, index_col=False)\n",
        "df_t5_t = pd.read_csv('MachineLearning/SupervisedLearning/im_t_09.txt', sep=\" \", header=None, index_col=False)\n",
        "df_t5['class'] = df_t5_y\n",
        "df_t5['target'] = df_t5_t\n",
        "\n",
        "df_t5.head()"
      ],
      "metadata": {
        "id": "8gkDIaBbveSQ"
      },
      "execution_count": null,
      "outputs": []
    }
  ]
}
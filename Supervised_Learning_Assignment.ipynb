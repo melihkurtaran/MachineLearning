{
  "nbformat": 4,
  "nbformat_minor": 0,
  "metadata": {
    "colab": {
      "provenance": [],
      "toc_visible": true,
      "authorship_tag": "ABX9TyPb9vGdTKpaUvEkGGujEYLp",
      "include_colab_link": true
    },
    "kernelspec": {
      "name": "python3",
      "display_name": "Python 3"
    },
    "language_info": {
      "name": "python"
    }
  },
  "cells": [
    {
      "cell_type": "markdown",
      "metadata": {
        "id": "view-in-github",
        "colab_type": "text"
      },
      "source": [
        "<a href=\"https://colab.research.google.com/github/melihkurtaran/MachineLearning/blob/main/Supervised_Learning_Assignment.ipynb\" target=\"_parent\"><img src=\"https://colab.research.google.com/assets/colab-badge.svg\" alt=\"Open In Colab\"/></a>"
      ]
    },
    {
      "cell_type": "markdown",
      "source": [
        "**Supervised Learning Project**"
      ],
      "metadata": {
        "id": "GppCzyeuamf8"
      }
    },
    {
      "cell_type": "markdown",
      "source": [
        "In this project, a dataset which has been collected using readings of a multi-spectral imaging sensor installed in a drone intended\n",
        "to map a specific geographical area will be used for developing supervised machine learning models"
      ],
      "metadata": {
        "id": "eLv0t3rJa0j6"
      }
    },
    {
      "cell_type": "code",
      "source": [
        "#Load libraries\n",
        "import pandas as pd\n",
        "import numpy as np\n",
        "from scipy import stats\n",
        "from sklearn.decomposition import PCA\n",
        "import matplotlib.pyplot as plt\n",
        "from sklearn.svm import SVC\n",
        "from sklearn.feature_selection import SequentialFeatureSelector\n",
        "from sklearn.preprocessing import StandardScaler\n",
        "from sklearn.model_selection import GridSearchCV\n",
        "from sklearn.model_selection import RepeatedKFold\n",
        "from sklearn.model_selection import cross_val_score\n",
        "from numpy import mean, std\n",
        "from scipy.stats import sem\n",
        "from matplotlib import pyplot\n",
        "from sklearn.metrics import accuracy_score\n",
        "from sklearn.metrics import precision_score\n",
        "from sklearn.metrics import f1_score\n",
        "from sklearn.metrics import recall_score\n",
        "import random\n",
        "from sklearn.model_selection import KFold\n",
        "from sklearn import preprocessing\n",
        "from sklearn.metrics import make_scorer\n",
        "from sklearn.model_selection import RepeatedStratifiedKFold, cross_validate"
      ],
      "metadata": {
        "id": "pa6HnPefayPF"
      },
      "execution_count": 107,
      "outputs": []
    },
    {
      "cell_type": "code",
      "source": [
        "#Connect to GitHub for faster access\n",
        "!git clone https://github.com/melihkurtaran/MachineLearning.git"
      ],
      "metadata": {
        "colab": {
          "base_uri": "https://localhost:8080/"
        },
        "id": "l4ajC2Qv9gmN",
        "outputId": "5797e6e4-0824-4c5b-d9c4-02d2bcb6958b"
      },
      "execution_count": 108,
      "outputs": [
        {
          "output_type": "stream",
          "name": "stdout",
          "text": [
            "fatal: destination path 'MachineLearning' already exists and is not an empty directory.\n"
          ]
        }
      ]
    },
    {
      "cell_type": "code",
      "source": [
        "# CSV to DataFrame \n",
        "ds_09 = pd.read_csv(\"MachineLearning/SupervisedLearning/ds_09.csv\")\n",
        "ds_09.head()"
      ],
      "metadata": {
        "colab": {
          "base_uri": "https://localhost:8080/",
          "height": 235
        },
        "id": "JamCD5_z9kff",
        "outputId": "ca942a7a-dddb-43a0-8e77-50c31af31055"
      },
      "execution_count": 109,
      "outputs": [
        {
          "output_type": "execute_result",
          "data": {
            "text/plain": [
              "     V01    V02    V03    V04    V05    V06    V07    V08   V09    V10  ...  \\\n",
              "0  14.65    NaN  46.46  15.74  49.84  17.95  21.59  60.14  2.85   8.99  ...   \n",
              "1  13.97    NaN  19.38   5.99  21.44  31.61  45.76  26.47  2.52  26.66  ...   \n",
              "2  12.14  53.27  62.25  11.42  28.51  33.03  42.41  52.27  4.68  25.59  ...   \n",
              "3   8.29  16.06  15.41   6.97  14.81  16.53  29.76  36.73  3.14  20.58  ...   \n",
              "4  10.02  47.28  45.67  10.43  13.07    NaN  35.22  19.96  3.34  35.50  ...   \n",
              "\n",
              "     V29    V30    V31    V32   V33    V34    V35    V36  class  target  \n",
              "0  59.10  13.22   0.00  11.56  3.70  17.89  13.76  15.75      4  0.5272  \n",
              "1  32.93  12.02  14.30  17.82  3.15  11.77  14.46  16.38      1  0.4937  \n",
              "2  25.71  12.50  23.18  14.60  4.08   5.87   6.52  14.25      2  0.5796  \n",
              "3  31.74   9.67   8.43  21.87  6.03  10.20  12.54   7.82      5  0.4098  \n",
              "4    NaN  12.20  18.88  23.72  3.16  15.35   8.81  14.93      1  0.5465  \n",
              "\n",
              "[5 rows x 38 columns]"
            ],
            "text/html": [
              "\n",
              "  <div id=\"df-416aa9ac-8170-4b8a-87f4-9d43e131df30\">\n",
              "    <div class=\"colab-df-container\">\n",
              "      <div>\n",
              "<style scoped>\n",
              "    .dataframe tbody tr th:only-of-type {\n",
              "        vertical-align: middle;\n",
              "    }\n",
              "\n",
              "    .dataframe tbody tr th {\n",
              "        vertical-align: top;\n",
              "    }\n",
              "\n",
              "    .dataframe thead th {\n",
              "        text-align: right;\n",
              "    }\n",
              "</style>\n",
              "<table border=\"1\" class=\"dataframe\">\n",
              "  <thead>\n",
              "    <tr style=\"text-align: right;\">\n",
              "      <th></th>\n",
              "      <th>V01</th>\n",
              "      <th>V02</th>\n",
              "      <th>V03</th>\n",
              "      <th>V04</th>\n",
              "      <th>V05</th>\n",
              "      <th>V06</th>\n",
              "      <th>V07</th>\n",
              "      <th>V08</th>\n",
              "      <th>V09</th>\n",
              "      <th>V10</th>\n",
              "      <th>...</th>\n",
              "      <th>V29</th>\n",
              "      <th>V30</th>\n",
              "      <th>V31</th>\n",
              "      <th>V32</th>\n",
              "      <th>V33</th>\n",
              "      <th>V34</th>\n",
              "      <th>V35</th>\n",
              "      <th>V36</th>\n",
              "      <th>class</th>\n",
              "      <th>target</th>\n",
              "    </tr>\n",
              "  </thead>\n",
              "  <tbody>\n",
              "    <tr>\n",
              "      <th>0</th>\n",
              "      <td>14.65</td>\n",
              "      <td>NaN</td>\n",
              "      <td>46.46</td>\n",
              "      <td>15.74</td>\n",
              "      <td>49.84</td>\n",
              "      <td>17.95</td>\n",
              "      <td>21.59</td>\n",
              "      <td>60.14</td>\n",
              "      <td>2.85</td>\n",
              "      <td>8.99</td>\n",
              "      <td>...</td>\n",
              "      <td>59.10</td>\n",
              "      <td>13.22</td>\n",
              "      <td>0.00</td>\n",
              "      <td>11.56</td>\n",
              "      <td>3.70</td>\n",
              "      <td>17.89</td>\n",
              "      <td>13.76</td>\n",
              "      <td>15.75</td>\n",
              "      <td>4</td>\n",
              "      <td>0.5272</td>\n",
              "    </tr>\n",
              "    <tr>\n",
              "      <th>1</th>\n",
              "      <td>13.97</td>\n",
              "      <td>NaN</td>\n",
              "      <td>19.38</td>\n",
              "      <td>5.99</td>\n",
              "      <td>21.44</td>\n",
              "      <td>31.61</td>\n",
              "      <td>45.76</td>\n",
              "      <td>26.47</td>\n",
              "      <td>2.52</td>\n",
              "      <td>26.66</td>\n",
              "      <td>...</td>\n",
              "      <td>32.93</td>\n",
              "      <td>12.02</td>\n",
              "      <td>14.30</td>\n",
              "      <td>17.82</td>\n",
              "      <td>3.15</td>\n",
              "      <td>11.77</td>\n",
              "      <td>14.46</td>\n",
              "      <td>16.38</td>\n",
              "      <td>1</td>\n",
              "      <td>0.4937</td>\n",
              "    </tr>\n",
              "    <tr>\n",
              "      <th>2</th>\n",
              "      <td>12.14</td>\n",
              "      <td>53.27</td>\n",
              "      <td>62.25</td>\n",
              "      <td>11.42</td>\n",
              "      <td>28.51</td>\n",
              "      <td>33.03</td>\n",
              "      <td>42.41</td>\n",
              "      <td>52.27</td>\n",
              "      <td>4.68</td>\n",
              "      <td>25.59</td>\n",
              "      <td>...</td>\n",
              "      <td>25.71</td>\n",
              "      <td>12.50</td>\n",
              "      <td>23.18</td>\n",
              "      <td>14.60</td>\n",
              "      <td>4.08</td>\n",
              "      <td>5.87</td>\n",
              "      <td>6.52</td>\n",
              "      <td>14.25</td>\n",
              "      <td>2</td>\n",
              "      <td>0.5796</td>\n",
              "    </tr>\n",
              "    <tr>\n",
              "      <th>3</th>\n",
              "      <td>8.29</td>\n",
              "      <td>16.06</td>\n",
              "      <td>15.41</td>\n",
              "      <td>6.97</td>\n",
              "      <td>14.81</td>\n",
              "      <td>16.53</td>\n",
              "      <td>29.76</td>\n",
              "      <td>36.73</td>\n",
              "      <td>3.14</td>\n",
              "      <td>20.58</td>\n",
              "      <td>...</td>\n",
              "      <td>31.74</td>\n",
              "      <td>9.67</td>\n",
              "      <td>8.43</td>\n",
              "      <td>21.87</td>\n",
              "      <td>6.03</td>\n",
              "      <td>10.20</td>\n",
              "      <td>12.54</td>\n",
              "      <td>7.82</td>\n",
              "      <td>5</td>\n",
              "      <td>0.4098</td>\n",
              "    </tr>\n",
              "    <tr>\n",
              "      <th>4</th>\n",
              "      <td>10.02</td>\n",
              "      <td>47.28</td>\n",
              "      <td>45.67</td>\n",
              "      <td>10.43</td>\n",
              "      <td>13.07</td>\n",
              "      <td>NaN</td>\n",
              "      <td>35.22</td>\n",
              "      <td>19.96</td>\n",
              "      <td>3.34</td>\n",
              "      <td>35.50</td>\n",
              "      <td>...</td>\n",
              "      <td>NaN</td>\n",
              "      <td>12.20</td>\n",
              "      <td>18.88</td>\n",
              "      <td>23.72</td>\n",
              "      <td>3.16</td>\n",
              "      <td>15.35</td>\n",
              "      <td>8.81</td>\n",
              "      <td>14.93</td>\n",
              "      <td>1</td>\n",
              "      <td>0.5465</td>\n",
              "    </tr>\n",
              "  </tbody>\n",
              "</table>\n",
              "<p>5 rows × 38 columns</p>\n",
              "</div>\n",
              "      <button class=\"colab-df-convert\" onclick=\"convertToInteractive('df-416aa9ac-8170-4b8a-87f4-9d43e131df30')\"\n",
              "              title=\"Convert this dataframe to an interactive table.\"\n",
              "              style=\"display:none;\">\n",
              "        \n",
              "  <svg xmlns=\"http://www.w3.org/2000/svg\" height=\"24px\"viewBox=\"0 0 24 24\"\n",
              "       width=\"24px\">\n",
              "    <path d=\"M0 0h24v24H0V0z\" fill=\"none\"/>\n",
              "    <path d=\"M18.56 5.44l.94 2.06.94-2.06 2.06-.94-2.06-.94-.94-2.06-.94 2.06-2.06.94zm-11 1L8.5 8.5l.94-2.06 2.06-.94-2.06-.94L8.5 2.5l-.94 2.06-2.06.94zm10 10l.94 2.06.94-2.06 2.06-.94-2.06-.94-.94-2.06-.94 2.06-2.06.94z\"/><path d=\"M17.41 7.96l-1.37-1.37c-.4-.4-.92-.59-1.43-.59-.52 0-1.04.2-1.43.59L10.3 9.45l-7.72 7.72c-.78.78-.78 2.05 0 2.83L4 21.41c.39.39.9.59 1.41.59.51 0 1.02-.2 1.41-.59l7.78-7.78 2.81-2.81c.8-.78.8-2.07 0-2.86zM5.41 20L4 18.59l7.72-7.72 1.47 1.35L5.41 20z\"/>\n",
              "  </svg>\n",
              "      </button>\n",
              "      \n",
              "  <style>\n",
              "    .colab-df-container {\n",
              "      display:flex;\n",
              "      flex-wrap:wrap;\n",
              "      gap: 12px;\n",
              "    }\n",
              "\n",
              "    .colab-df-convert {\n",
              "      background-color: #E8F0FE;\n",
              "      border: none;\n",
              "      border-radius: 50%;\n",
              "      cursor: pointer;\n",
              "      display: none;\n",
              "      fill: #1967D2;\n",
              "      height: 32px;\n",
              "      padding: 0 0 0 0;\n",
              "      width: 32px;\n",
              "    }\n",
              "\n",
              "    .colab-df-convert:hover {\n",
              "      background-color: #E2EBFA;\n",
              "      box-shadow: 0px 1px 2px rgba(60, 64, 67, 0.3), 0px 1px 3px 1px rgba(60, 64, 67, 0.15);\n",
              "      fill: #174EA6;\n",
              "    }\n",
              "\n",
              "    [theme=dark] .colab-df-convert {\n",
              "      background-color: #3B4455;\n",
              "      fill: #D2E3FC;\n",
              "    }\n",
              "\n",
              "    [theme=dark] .colab-df-convert:hover {\n",
              "      background-color: #434B5C;\n",
              "      box-shadow: 0px 1px 3px 1px rgba(0, 0, 0, 0.15);\n",
              "      filter: drop-shadow(0px 1px 2px rgba(0, 0, 0, 0.3));\n",
              "      fill: #FFFFFF;\n",
              "    }\n",
              "  </style>\n",
              "\n",
              "      <script>\n",
              "        const buttonEl =\n",
              "          document.querySelector('#df-416aa9ac-8170-4b8a-87f4-9d43e131df30 button.colab-df-convert');\n",
              "        buttonEl.style.display =\n",
              "          google.colab.kernel.accessAllowed ? 'block' : 'none';\n",
              "\n",
              "        async function convertToInteractive(key) {\n",
              "          const element = document.querySelector('#df-416aa9ac-8170-4b8a-87f4-9d43e131df30');\n",
              "          const dataTable =\n",
              "            await google.colab.kernel.invokeFunction('convertToInteractive',\n",
              "                                                     [key], {});\n",
              "          if (!dataTable) return;\n",
              "\n",
              "          const docLinkHtml = 'Like what you see? Visit the ' +\n",
              "            '<a target=\"_blank\" href=https://colab.research.google.com/notebooks/data_table.ipynb>data table notebook</a>'\n",
              "            + ' to learn more about interactive tables.';\n",
              "          element.innerHTML = '';\n",
              "          dataTable['output_type'] = 'display_data';\n",
              "          await google.colab.output.renderOutput(dataTable, element);\n",
              "          const docLink = document.createElement('div');\n",
              "          docLink.innerHTML = docLinkHtml;\n",
              "          element.appendChild(docLink);\n",
              "        }\n",
              "      </script>\n",
              "    </div>\n",
              "  </div>\n",
              "  "
            ]
          },
          "metadata": {},
          "execution_count": 109
        }
      ]
    },
    {
      "cell_type": "markdown",
      "source": [
        "There are 36 features and 2 values to be used in classification and regression tasks"
      ],
      "metadata": {
        "id": "RTZl1u5wbOAd"
      }
    },
    {
      "cell_type": "markdown",
      "source": [
        "# **T1 - Dataset preparation**"
      ],
      "metadata": {
        "id": "NYLONs-0vO2R"
      }
    },
    {
      "cell_type": "markdown",
      "source": [
        "The dataset needs to be preprocessed before using in models"
      ],
      "metadata": {
        "id": "YLU70i1IbxtU"
      }
    },
    {
      "cell_type": "markdown",
      "source": [
        "##**(a) removing missing values and outliers**"
      ],
      "metadata": {
        "id": "dimRzv9cblgX"
      }
    },
    {
      "cell_type": "markdown",
      "source": [
        "Samples have 38 rows, class and target row are never missing so thresh needs to setas 34 to drop samples with more than 4 missing feature values."
      ],
      "metadata": {
        "id": "uCwFgl6_fT6m"
      }
    },
    {
      "cell_type": "code",
      "source": [
        "# samples with more than 4 missing feature values are dropped\n",
        "print(\"Size before dropping: \" + str(len(ds_09)))\n",
        "ds_09 = ds_09.dropna(axis=0, thresh=34) # thresh: Require that many non-NA values\n",
        "print(\"Size after dropping: \" + str(len(ds_09)))"
      ],
      "metadata": {
        "colab": {
          "base_uri": "https://localhost:8080/"
        },
        "id": "ZQdbxJkjfb7Y",
        "outputId": "2384e322-fabd-4721-f3ae-e5437b601561"
      },
      "execution_count": 110,
      "outputs": [
        {
          "output_type": "stream",
          "name": "stdout",
          "text": [
            "Size before dropping: 1000\n",
            "Size after dropping: 967\n"
          ]
        }
      ]
    },
    {
      "cell_type": "markdown",
      "source": [
        "Filling remaining null values with the mean"
      ],
      "metadata": {
        "id": "1aQSe8wUiM_v"
      }
    },
    {
      "cell_type": "code",
      "source": [
        "# the remaining missing values are filled using the average value\n",
        "\n",
        "for i in ds_09.columns[ds_09.isnull().any(axis=0)]:  #Applying only on variables with NaN valuesfor bettter performance\n",
        "    ds_09[i].fillna(ds_09[i].mean(),inplace=True)"
      ],
      "metadata": {
        "id": "PGfcI4XygjBV"
      },
      "execution_count": 111,
      "outputs": []
    },
    {
      "cell_type": "code",
      "source": [
        "# We can see that we do not have any missing values anymore\n",
        "ds_09.isnull().values.any()"
      ],
      "metadata": {
        "colab": {
          "base_uri": "https://localhost:8080/"
        },
        "id": "bXtth4kuhXyS",
        "outputId": "8319e843-b8de-48b2-e562-efb2b3a10d43"
      },
      "execution_count": 112,
      "outputs": [
        {
          "output_type": "execute_result",
          "data": {
            "text/plain": [
              "False"
            ]
          },
          "metadata": {},
          "execution_count": 112
        }
      ]
    },
    {
      "cell_type": "markdown",
      "source": [
        "Removing outliers"
      ],
      "metadata": {
        "id": "Q55W-_y6iDQx"
      }
    },
    {
      "cell_type": "code",
      "source": [
        "# samples with at least one feature value with a z-score higher than 3 (i.e. an outlier) are discarded\n",
        "print(\"Size before removing outlier samples: \" + str(len(ds_09)))\n",
        "# code below for each column, first calculates Z-score of each value in the column, and remove all rows that have outliers in at least one column\n",
        "ds_09 = ds_09[(np.abs(stats.zscore(ds_09)) < 3).all(axis=1)] # axis=1 ensures that for each row, all column satisfy the constraint.\n",
        "print(\"Size after removing outlier samples: \" + str(len(ds_09)))"
      ],
      "metadata": {
        "colab": {
          "base_uri": "https://localhost:8080/"
        },
        "id": "eIUDdCuniGPS",
        "outputId": "12ec34ca-f538-46df-b03a-e368bb20acfb"
      },
      "execution_count": 113,
      "outputs": [
        {
          "output_type": "stream",
          "name": "stdout",
          "text": [
            "Size before removing outlier samples: 967\n",
            "Size after removing outlier samples: 869\n"
          ]
        }
      ]
    },
    {
      "cell_type": "markdown",
      "source": [
        "##**(b) Dimensionality Reduction**"
      ],
      "metadata": {
        "id": "DE9QCf3pk8ho"
      }
    },
    {
      "cell_type": "markdown",
      "source": [
        "Creating X and y from the dataset"
      ],
      "metadata": {
        "id": "2Y3LKhgiX1vF"
      }
    },
    {
      "cell_type": "code",
      "source": [
        "X = ds_09.copy()\n",
        "X.drop(['class', 'target'], axis=1, inplace=True)\n",
        "y = ds_09['class']"
      ],
      "metadata": {
        "id": "177qDhhrX8mf"
      },
      "execution_count": 114,
      "outputs": []
    },
    {
      "cell_type": "markdown",
      "source": [
        "Keep only features that account for up to 95% of the variance of the data"
      ],
      "metadata": {
        "id": "Ui2HA9_pleek"
      }
    },
    {
      "cell_type": "code",
      "source": [
        "def find_optimal_num_components(df, threshold):\n",
        "    \"\"\"\n",
        "    Find the minimum number of components needed to achieve a given explained variance ratio in a PCA of the given dataframe.\n",
        "    \n",
        "    Parameters:\n",
        "        df (pandas.DataFrame): The data to perform PCA on.\n",
        "        threshold (float): The minimum explained variance ratio to achieve.\n",
        "        \n",
        "    Returns:\n",
        "        int: The minimum number of components needed to achieve the given explained variance ratio.\n",
        "    \"\"\"\n",
        "    for i in range(1, len(df.columns) + 1):\n",
        "        pca = PCA(n_components=i)\n",
        "        principal_components = pca.fit_transform(df)\n",
        "        variance = sum(pca.explained_variance_ratio_)\n",
        "        if variance >= threshold:\n",
        "            return i\n",
        "    print(\"Unable to perform for the given variance.\")\n",
        "    return 0\n",
        "\n",
        "# Find the minimum number of components needed to achieve 95% explained variance\n",
        "num_components = find_optimal_num_components(X, 0.95)\n",
        "print(f\"Number of components needed for 95% explained variance: {num_components}\")\n",
        "\n",
        "# Perform PCA with the optimal number of components\n",
        "pca = PCA(n_components=num_components)\n",
        "principal_components = pca.fit_transform(X)\n",
        "\n",
        "# Print the explained variance ratio and the transformed data\n",
        "print(f\"Explained variance ratio: {sum(pca.explained_variance_ratio_)}\")\n",
        "X = pd.DataFrame(data=principal_components, columns=[f\"pc {i+1}\" for i in range(num_components)])\n",
        "X.head(5)"
      ],
      "metadata": {
        "id": "vmcK1PUDcwie",
        "outputId": "8cdf7221-2584-41a9-ba37-57d201053bcc",
        "colab": {
          "base_uri": "https://localhost:8080/",
          "height": 241
        }
      },
      "execution_count": 115,
      "outputs": [
        {
          "output_type": "stream",
          "name": "stdout",
          "text": [
            "Number of components needed for 95% explained variance: 15\n",
            "Explained variance ratio: 0.956763511934916\n"
          ]
        },
        {
          "output_type": "execute_result",
          "data": {
            "text/plain": [
              "        pc 1       pc 2       pc 3       pc 4       pc 5       pc 6  \\\n",
              "0  46.321789   1.886644 -11.322145  -7.311741  20.715475  -4.950527   \n",
              "1 -12.328915  -6.429494  11.169730   8.098719 -10.904679  -4.729757   \n",
              "2   3.240360  37.055949 -11.372926   0.959288  11.682581  16.377550   \n",
              "3  16.327169 -13.971399  31.503065   7.189114 -21.133782   2.890429   \n",
              "4 -11.439719  15.433202  19.498964 -21.176775  -2.428384  -3.020236   \n",
              "\n",
              "        pc 7      pc 8      pc 9     pc 10     pc 11     pc 12     pc 13  \\\n",
              "0   0.706346  6.953272  3.537851  9.784531  4.255067 -1.070753 -1.631676   \n",
              "1  -3.827942  8.946574  4.939294  9.259618 -3.532222  2.507369 -1.524130   \n",
              "2   4.037161  4.419554 -3.821684 -0.497680 -1.348683  1.272974 -3.062630   \n",
              "3 -15.936597  5.844499 -2.188765 -0.984934 -0.761689  5.412551 -0.948935   \n",
              "4  14.807770 -6.290021 -1.741541 -4.843524  0.703884 -0.292499  0.254958   \n",
              "\n",
              "      pc 14     pc 15  \n",
              "0  1.949972 -3.064956  \n",
              "1 -0.303126  1.223083  \n",
              "2 -3.680913  3.855793  \n",
              "3  2.652641  0.164894  \n",
              "4 -2.396049  0.759510  "
            ],
            "text/html": [
              "\n",
              "  <div id=\"df-cc32bcc4-2204-4bea-868b-60538678fa11\">\n",
              "    <div class=\"colab-df-container\">\n",
              "      <div>\n",
              "<style scoped>\n",
              "    .dataframe tbody tr th:only-of-type {\n",
              "        vertical-align: middle;\n",
              "    }\n",
              "\n",
              "    .dataframe tbody tr th {\n",
              "        vertical-align: top;\n",
              "    }\n",
              "\n",
              "    .dataframe thead th {\n",
              "        text-align: right;\n",
              "    }\n",
              "</style>\n",
              "<table border=\"1\" class=\"dataframe\">\n",
              "  <thead>\n",
              "    <tr style=\"text-align: right;\">\n",
              "      <th></th>\n",
              "      <th>pc 1</th>\n",
              "      <th>pc 2</th>\n",
              "      <th>pc 3</th>\n",
              "      <th>pc 4</th>\n",
              "      <th>pc 5</th>\n",
              "      <th>pc 6</th>\n",
              "      <th>pc 7</th>\n",
              "      <th>pc 8</th>\n",
              "      <th>pc 9</th>\n",
              "      <th>pc 10</th>\n",
              "      <th>pc 11</th>\n",
              "      <th>pc 12</th>\n",
              "      <th>pc 13</th>\n",
              "      <th>pc 14</th>\n",
              "      <th>pc 15</th>\n",
              "    </tr>\n",
              "  </thead>\n",
              "  <tbody>\n",
              "    <tr>\n",
              "      <th>0</th>\n",
              "      <td>46.321789</td>\n",
              "      <td>1.886644</td>\n",
              "      <td>-11.322145</td>\n",
              "      <td>-7.311741</td>\n",
              "      <td>20.715475</td>\n",
              "      <td>-4.950527</td>\n",
              "      <td>0.706346</td>\n",
              "      <td>6.953272</td>\n",
              "      <td>3.537851</td>\n",
              "      <td>9.784531</td>\n",
              "      <td>4.255067</td>\n",
              "      <td>-1.070753</td>\n",
              "      <td>-1.631676</td>\n",
              "      <td>1.949972</td>\n",
              "      <td>-3.064956</td>\n",
              "    </tr>\n",
              "    <tr>\n",
              "      <th>1</th>\n",
              "      <td>-12.328915</td>\n",
              "      <td>-6.429494</td>\n",
              "      <td>11.169730</td>\n",
              "      <td>8.098719</td>\n",
              "      <td>-10.904679</td>\n",
              "      <td>-4.729757</td>\n",
              "      <td>-3.827942</td>\n",
              "      <td>8.946574</td>\n",
              "      <td>4.939294</td>\n",
              "      <td>9.259618</td>\n",
              "      <td>-3.532222</td>\n",
              "      <td>2.507369</td>\n",
              "      <td>-1.524130</td>\n",
              "      <td>-0.303126</td>\n",
              "      <td>1.223083</td>\n",
              "    </tr>\n",
              "    <tr>\n",
              "      <th>2</th>\n",
              "      <td>3.240360</td>\n",
              "      <td>37.055949</td>\n",
              "      <td>-11.372926</td>\n",
              "      <td>0.959288</td>\n",
              "      <td>11.682581</td>\n",
              "      <td>16.377550</td>\n",
              "      <td>4.037161</td>\n",
              "      <td>4.419554</td>\n",
              "      <td>-3.821684</td>\n",
              "      <td>-0.497680</td>\n",
              "      <td>-1.348683</td>\n",
              "      <td>1.272974</td>\n",
              "      <td>-3.062630</td>\n",
              "      <td>-3.680913</td>\n",
              "      <td>3.855793</td>\n",
              "    </tr>\n",
              "    <tr>\n",
              "      <th>3</th>\n",
              "      <td>16.327169</td>\n",
              "      <td>-13.971399</td>\n",
              "      <td>31.503065</td>\n",
              "      <td>7.189114</td>\n",
              "      <td>-21.133782</td>\n",
              "      <td>2.890429</td>\n",
              "      <td>-15.936597</td>\n",
              "      <td>5.844499</td>\n",
              "      <td>-2.188765</td>\n",
              "      <td>-0.984934</td>\n",
              "      <td>-0.761689</td>\n",
              "      <td>5.412551</td>\n",
              "      <td>-0.948935</td>\n",
              "      <td>2.652641</td>\n",
              "      <td>0.164894</td>\n",
              "    </tr>\n",
              "    <tr>\n",
              "      <th>4</th>\n",
              "      <td>-11.439719</td>\n",
              "      <td>15.433202</td>\n",
              "      <td>19.498964</td>\n",
              "      <td>-21.176775</td>\n",
              "      <td>-2.428384</td>\n",
              "      <td>-3.020236</td>\n",
              "      <td>14.807770</td>\n",
              "      <td>-6.290021</td>\n",
              "      <td>-1.741541</td>\n",
              "      <td>-4.843524</td>\n",
              "      <td>0.703884</td>\n",
              "      <td>-0.292499</td>\n",
              "      <td>0.254958</td>\n",
              "      <td>-2.396049</td>\n",
              "      <td>0.759510</td>\n",
              "    </tr>\n",
              "  </tbody>\n",
              "</table>\n",
              "</div>\n",
              "      <button class=\"colab-df-convert\" onclick=\"convertToInteractive('df-cc32bcc4-2204-4bea-868b-60538678fa11')\"\n",
              "              title=\"Convert this dataframe to an interactive table.\"\n",
              "              style=\"display:none;\">\n",
              "        \n",
              "  <svg xmlns=\"http://www.w3.org/2000/svg\" height=\"24px\"viewBox=\"0 0 24 24\"\n",
              "       width=\"24px\">\n",
              "    <path d=\"M0 0h24v24H0V0z\" fill=\"none\"/>\n",
              "    <path d=\"M18.56 5.44l.94 2.06.94-2.06 2.06-.94-2.06-.94-.94-2.06-.94 2.06-2.06.94zm-11 1L8.5 8.5l.94-2.06 2.06-.94-2.06-.94L8.5 2.5l-.94 2.06-2.06.94zm10 10l.94 2.06.94-2.06 2.06-.94-2.06-.94-.94-2.06-.94 2.06-2.06.94z\"/><path d=\"M17.41 7.96l-1.37-1.37c-.4-.4-.92-.59-1.43-.59-.52 0-1.04.2-1.43.59L10.3 9.45l-7.72 7.72c-.78.78-.78 2.05 0 2.83L4 21.41c.39.39.9.59 1.41.59.51 0 1.02-.2 1.41-.59l7.78-7.78 2.81-2.81c.8-.78.8-2.07 0-2.86zM5.41 20L4 18.59l7.72-7.72 1.47 1.35L5.41 20z\"/>\n",
              "  </svg>\n",
              "      </button>\n",
              "      \n",
              "  <style>\n",
              "    .colab-df-container {\n",
              "      display:flex;\n",
              "      flex-wrap:wrap;\n",
              "      gap: 12px;\n",
              "    }\n",
              "\n",
              "    .colab-df-convert {\n",
              "      background-color: #E8F0FE;\n",
              "      border: none;\n",
              "      border-radius: 50%;\n",
              "      cursor: pointer;\n",
              "      display: none;\n",
              "      fill: #1967D2;\n",
              "      height: 32px;\n",
              "      padding: 0 0 0 0;\n",
              "      width: 32px;\n",
              "    }\n",
              "\n",
              "    .colab-df-convert:hover {\n",
              "      background-color: #E2EBFA;\n",
              "      box-shadow: 0px 1px 2px rgba(60, 64, 67, 0.3), 0px 1px 3px 1px rgba(60, 64, 67, 0.15);\n",
              "      fill: #174EA6;\n",
              "    }\n",
              "\n",
              "    [theme=dark] .colab-df-convert {\n",
              "      background-color: #3B4455;\n",
              "      fill: #D2E3FC;\n",
              "    }\n",
              "\n",
              "    [theme=dark] .colab-df-convert:hover {\n",
              "      background-color: #434B5C;\n",
              "      box-shadow: 0px 1px 3px 1px rgba(0, 0, 0, 0.15);\n",
              "      filter: drop-shadow(0px 1px 2px rgba(0, 0, 0, 0.3));\n",
              "      fill: #FFFFFF;\n",
              "    }\n",
              "  </style>\n",
              "\n",
              "      <script>\n",
              "        const buttonEl =\n",
              "          document.querySelector('#df-cc32bcc4-2204-4bea-868b-60538678fa11 button.colab-df-convert');\n",
              "        buttonEl.style.display =\n",
              "          google.colab.kernel.accessAllowed ? 'block' : 'none';\n",
              "\n",
              "        async function convertToInteractive(key) {\n",
              "          const element = document.querySelector('#df-cc32bcc4-2204-4bea-868b-60538678fa11');\n",
              "          const dataTable =\n",
              "            await google.colab.kernel.invokeFunction('convertToInteractive',\n",
              "                                                     [key], {});\n",
              "          if (!dataTable) return;\n",
              "\n",
              "          const docLinkHtml = 'Like what you see? Visit the ' +\n",
              "            '<a target=\"_blank\" href=https://colab.research.google.com/notebooks/data_table.ipynb>data table notebook</a>'\n",
              "            + ' to learn more about interactive tables.';\n",
              "          element.innerHTML = '';\n",
              "          dataTable['output_type'] = 'display_data';\n",
              "          await google.colab.output.renderOutput(dataTable, element);\n",
              "          const docLink = document.createElement('div');\n",
              "          docLink.innerHTML = docLinkHtml;\n",
              "          element.appendChild(docLink);\n",
              "        }\n",
              "      </script>\n",
              "    </div>\n",
              "  </div>\n",
              "  "
            ]
          },
          "metadata": {},
          "execution_count": 115
        }
      ]
    },
    {
      "cell_type": "markdown",
      "source": [
        "##**(c) Standardization**"
      ],
      "metadata": {
        "id": "oPXJTuH1wlJO"
      }
    },
    {
      "cell_type": "markdown",
      "source": [
        "mu-sigma standardization is used to normalize the features"
      ],
      "metadata": {
        "id": "gi5LQ2bSx_wC"
      }
    },
    {
      "cell_type": "code",
      "source": [
        "# define mu-sigma standardizer scaler\n",
        "ss = StandardScaler()\n",
        "  \n",
        "# transform data\n",
        "X = pd.DataFrame(ss.fit_transform(X),columns = X.columns)\n",
        "X.head()"
      ],
      "metadata": {
        "colab": {
          "base_uri": "https://localhost:8080/",
          "height": 206
        },
        "id": "RzN13zNVtmGv",
        "outputId": "f2135d97-34fb-4743-df24-127bdaddae95"
      },
      "execution_count": 116,
      "outputs": [
        {
          "output_type": "execute_result",
          "data": {
            "text/plain": [
              "       pc 1      pc 2      pc 3      pc 4      pc 5      pc 6      pc 7  \\\n",
              "0  2.284703  0.133656 -0.906135 -0.626408  2.207494 -0.577474  0.094651   \n",
              "1 -0.608092 -0.455487  0.893937  0.693830 -1.162031 -0.551721 -0.512949   \n",
              "2  0.159822  2.625165 -0.910199  0.082184  1.244926  1.910424  0.540985   \n",
              "3  0.805296 -0.989780  2.521257  0.615902 -2.252070  0.337166 -2.135525   \n",
              "4 -0.564235  1.093339  1.560543 -1.814247 -0.258775 -0.352307  1.984261   \n",
              "\n",
              "       pc 8      pc 9     pc 10     pc 11     pc 12     pc 13     pc 14  \\\n",
              "0  1.137383  0.699199  1.991895  0.961902 -0.253419 -0.435770  0.528464   \n",
              "1  1.463438  0.976171  1.885035 -0.798495  0.593428 -0.407047 -0.082151   \n",
              "2  0.722930 -0.755294 -0.101316 -0.304884  0.301279 -0.817933 -0.997568   \n",
              "3  0.956015 -0.432574 -0.200509 -0.172188  1.281008 -0.253431  0.718895   \n",
              "4 -1.028892 -0.344187 -0.986025  0.159120 -0.069227  0.068091 -0.649356   \n",
              "\n",
              "      pc 15  \n",
              "0 -0.960121  \n",
              "1  0.383140  \n",
              "2  1.207856  \n",
              "3  0.051654  \n",
              "4  0.237922  "
            ],
            "text/html": [
              "\n",
              "  <div id=\"df-e95c9047-b46d-4b2c-b4f3-c242de69e022\">\n",
              "    <div class=\"colab-df-container\">\n",
              "      <div>\n",
              "<style scoped>\n",
              "    .dataframe tbody tr th:only-of-type {\n",
              "        vertical-align: middle;\n",
              "    }\n",
              "\n",
              "    .dataframe tbody tr th {\n",
              "        vertical-align: top;\n",
              "    }\n",
              "\n",
              "    .dataframe thead th {\n",
              "        text-align: right;\n",
              "    }\n",
              "</style>\n",
              "<table border=\"1\" class=\"dataframe\">\n",
              "  <thead>\n",
              "    <tr style=\"text-align: right;\">\n",
              "      <th></th>\n",
              "      <th>pc 1</th>\n",
              "      <th>pc 2</th>\n",
              "      <th>pc 3</th>\n",
              "      <th>pc 4</th>\n",
              "      <th>pc 5</th>\n",
              "      <th>pc 6</th>\n",
              "      <th>pc 7</th>\n",
              "      <th>pc 8</th>\n",
              "      <th>pc 9</th>\n",
              "      <th>pc 10</th>\n",
              "      <th>pc 11</th>\n",
              "      <th>pc 12</th>\n",
              "      <th>pc 13</th>\n",
              "      <th>pc 14</th>\n",
              "      <th>pc 15</th>\n",
              "    </tr>\n",
              "  </thead>\n",
              "  <tbody>\n",
              "    <tr>\n",
              "      <th>0</th>\n",
              "      <td>2.284703</td>\n",
              "      <td>0.133656</td>\n",
              "      <td>-0.906135</td>\n",
              "      <td>-0.626408</td>\n",
              "      <td>2.207494</td>\n",
              "      <td>-0.577474</td>\n",
              "      <td>0.094651</td>\n",
              "      <td>1.137383</td>\n",
              "      <td>0.699199</td>\n",
              "      <td>1.991895</td>\n",
              "      <td>0.961902</td>\n",
              "      <td>-0.253419</td>\n",
              "      <td>-0.435770</td>\n",
              "      <td>0.528464</td>\n",
              "      <td>-0.960121</td>\n",
              "    </tr>\n",
              "    <tr>\n",
              "      <th>1</th>\n",
              "      <td>-0.608092</td>\n",
              "      <td>-0.455487</td>\n",
              "      <td>0.893937</td>\n",
              "      <td>0.693830</td>\n",
              "      <td>-1.162031</td>\n",
              "      <td>-0.551721</td>\n",
              "      <td>-0.512949</td>\n",
              "      <td>1.463438</td>\n",
              "      <td>0.976171</td>\n",
              "      <td>1.885035</td>\n",
              "      <td>-0.798495</td>\n",
              "      <td>0.593428</td>\n",
              "      <td>-0.407047</td>\n",
              "      <td>-0.082151</td>\n",
              "      <td>0.383140</td>\n",
              "    </tr>\n",
              "    <tr>\n",
              "      <th>2</th>\n",
              "      <td>0.159822</td>\n",
              "      <td>2.625165</td>\n",
              "      <td>-0.910199</td>\n",
              "      <td>0.082184</td>\n",
              "      <td>1.244926</td>\n",
              "      <td>1.910424</td>\n",
              "      <td>0.540985</td>\n",
              "      <td>0.722930</td>\n",
              "      <td>-0.755294</td>\n",
              "      <td>-0.101316</td>\n",
              "      <td>-0.304884</td>\n",
              "      <td>0.301279</td>\n",
              "      <td>-0.817933</td>\n",
              "      <td>-0.997568</td>\n",
              "      <td>1.207856</td>\n",
              "    </tr>\n",
              "    <tr>\n",
              "      <th>3</th>\n",
              "      <td>0.805296</td>\n",
              "      <td>-0.989780</td>\n",
              "      <td>2.521257</td>\n",
              "      <td>0.615902</td>\n",
              "      <td>-2.252070</td>\n",
              "      <td>0.337166</td>\n",
              "      <td>-2.135525</td>\n",
              "      <td>0.956015</td>\n",
              "      <td>-0.432574</td>\n",
              "      <td>-0.200509</td>\n",
              "      <td>-0.172188</td>\n",
              "      <td>1.281008</td>\n",
              "      <td>-0.253431</td>\n",
              "      <td>0.718895</td>\n",
              "      <td>0.051654</td>\n",
              "    </tr>\n",
              "    <tr>\n",
              "      <th>4</th>\n",
              "      <td>-0.564235</td>\n",
              "      <td>1.093339</td>\n",
              "      <td>1.560543</td>\n",
              "      <td>-1.814247</td>\n",
              "      <td>-0.258775</td>\n",
              "      <td>-0.352307</td>\n",
              "      <td>1.984261</td>\n",
              "      <td>-1.028892</td>\n",
              "      <td>-0.344187</td>\n",
              "      <td>-0.986025</td>\n",
              "      <td>0.159120</td>\n",
              "      <td>-0.069227</td>\n",
              "      <td>0.068091</td>\n",
              "      <td>-0.649356</td>\n",
              "      <td>0.237922</td>\n",
              "    </tr>\n",
              "  </tbody>\n",
              "</table>\n",
              "</div>\n",
              "      <button class=\"colab-df-convert\" onclick=\"convertToInteractive('df-e95c9047-b46d-4b2c-b4f3-c242de69e022')\"\n",
              "              title=\"Convert this dataframe to an interactive table.\"\n",
              "              style=\"display:none;\">\n",
              "        \n",
              "  <svg xmlns=\"http://www.w3.org/2000/svg\" height=\"24px\"viewBox=\"0 0 24 24\"\n",
              "       width=\"24px\">\n",
              "    <path d=\"M0 0h24v24H0V0z\" fill=\"none\"/>\n",
              "    <path d=\"M18.56 5.44l.94 2.06.94-2.06 2.06-.94-2.06-.94-.94-2.06-.94 2.06-2.06.94zm-11 1L8.5 8.5l.94-2.06 2.06-.94-2.06-.94L8.5 2.5l-.94 2.06-2.06.94zm10 10l.94 2.06.94-2.06 2.06-.94-2.06-.94-.94-2.06-.94 2.06-2.06.94z\"/><path d=\"M17.41 7.96l-1.37-1.37c-.4-.4-.92-.59-1.43-.59-.52 0-1.04.2-1.43.59L10.3 9.45l-7.72 7.72c-.78.78-.78 2.05 0 2.83L4 21.41c.39.39.9.59 1.41.59.51 0 1.02-.2 1.41-.59l7.78-7.78 2.81-2.81c.8-.78.8-2.07 0-2.86zM5.41 20L4 18.59l7.72-7.72 1.47 1.35L5.41 20z\"/>\n",
              "  </svg>\n",
              "      </button>\n",
              "      \n",
              "  <style>\n",
              "    .colab-df-container {\n",
              "      display:flex;\n",
              "      flex-wrap:wrap;\n",
              "      gap: 12px;\n",
              "    }\n",
              "\n",
              "    .colab-df-convert {\n",
              "      background-color: #E8F0FE;\n",
              "      border: none;\n",
              "      border-radius: 50%;\n",
              "      cursor: pointer;\n",
              "      display: none;\n",
              "      fill: #1967D2;\n",
              "      height: 32px;\n",
              "      padding: 0 0 0 0;\n",
              "      width: 32px;\n",
              "    }\n",
              "\n",
              "    .colab-df-convert:hover {\n",
              "      background-color: #E2EBFA;\n",
              "      box-shadow: 0px 1px 2px rgba(60, 64, 67, 0.3), 0px 1px 3px 1px rgba(60, 64, 67, 0.15);\n",
              "      fill: #174EA6;\n",
              "    }\n",
              "\n",
              "    [theme=dark] .colab-df-convert {\n",
              "      background-color: #3B4455;\n",
              "      fill: #D2E3FC;\n",
              "    }\n",
              "\n",
              "    [theme=dark] .colab-df-convert:hover {\n",
              "      background-color: #434B5C;\n",
              "      box-shadow: 0px 1px 3px 1px rgba(0, 0, 0, 0.15);\n",
              "      filter: drop-shadow(0px 1px 2px rgba(0, 0, 0, 0.3));\n",
              "      fill: #FFFFFF;\n",
              "    }\n",
              "  </style>\n",
              "\n",
              "      <script>\n",
              "        const buttonEl =\n",
              "          document.querySelector('#df-e95c9047-b46d-4b2c-b4f3-c242de69e022 button.colab-df-convert');\n",
              "        buttonEl.style.display =\n",
              "          google.colab.kernel.accessAllowed ? 'block' : 'none';\n",
              "\n",
              "        async function convertToInteractive(key) {\n",
              "          const element = document.querySelector('#df-e95c9047-b46d-4b2c-b4f3-c242de69e022');\n",
              "          const dataTable =\n",
              "            await google.colab.kernel.invokeFunction('convertToInteractive',\n",
              "                                                     [key], {});\n",
              "          if (!dataTable) return;\n",
              "\n",
              "          const docLinkHtml = 'Like what you see? Visit the ' +\n",
              "            '<a target=\"_blank\" href=https://colab.research.google.com/notebooks/data_table.ipynb>data table notebook</a>'\n",
              "            + ' to learn more about interactive tables.';\n",
              "          element.innerHTML = '';\n",
              "          dataTable['output_type'] = 'display_data';\n",
              "          await google.colab.output.renderOutput(dataTable, element);\n",
              "          const docLink = document.createElement('div');\n",
              "          docLink.innerHTML = docLinkHtml;\n",
              "          element.appendChild(docLink);\n",
              "        }\n",
              "      </script>\n",
              "    </div>\n",
              "  </div>\n",
              "  "
            ]
          },
          "metadata": {},
          "execution_count": 116
        }
      ]
    },
    {
      "cell_type": "markdown",
      "source": [
        "##**(d) Calculate IR**"
      ],
      "metadata": {
        "id": "TCw8fesFyNh7"
      }
    },
    {
      "cell_type": "markdown",
      "source": [
        "The Imbalance Ratio (IR) is the ratio between the number of samples from the majority class and the number of samples from the minority class"
      ],
      "metadata": {
        "id": "PXy4jvylyWGS"
      }
    },
    {
      "cell_type": "code",
      "source": [
        "ds_09['class'].value_counts() #Observe majority and minority class"
      ],
      "metadata": {
        "colab": {
          "base_uri": "https://localhost:8080/"
        },
        "id": "DftdYElnyoSQ",
        "outputId": "932a8ae6-e7c7-4640-c77d-dc1cae24671c"
      },
      "execution_count": 117,
      "outputs": [
        {
          "output_type": "execute_result",
          "data": {
            "text/plain": [
              "1    230\n",
              "4    224\n",
              "5    148\n",
              "0    132\n",
              "3     68\n",
              "2     67\n",
              "Name: class, dtype: int64"
            ]
          },
          "metadata": {},
          "execution_count": 117
        }
      ]
    },
    {
      "cell_type": "code",
      "source": [
        "IR = ds_09['class'].value_counts().max() / ds_09['class'].value_counts().min()\n",
        "print('Imbalance Ratio: ' + str(IR))"
      ],
      "metadata": {
        "colab": {
          "base_uri": "https://localhost:8080/"
        },
        "id": "y1XKxgpXzoXT",
        "outputId": "acce4997-7ee0-4541-f398-0687ef44c891"
      },
      "execution_count": 118,
      "outputs": [
        {
          "output_type": "stream",
          "name": "stdout",
          "text": [
            "Imbalance Ratio: 3.4328358208955225\n"
          ]
        }
      ]
    },
    {
      "cell_type": "markdown",
      "source": [
        "# **T2 - Classifier design (I)**"
      ],
      "metadata": {
        "id": "T2NdIWQpvUEj"
      }
    },
    {
      "cell_type": "markdown",
      "source": [
        "4 different classifiers are defined in this task"
      ],
      "metadata": {
        "id": "w9phrv4faK-v"
      }
    },
    {
      "cell_type": "markdown",
      "source": [
        "## **(a) Find the best configuration for each model**"
      ],
      "metadata": {
        "id": "R0UU-TMohWf4"
      }
    },
    {
      "cell_type": "markdown",
      "source": [
        "Best parameters found by GridSearchCV"
      ],
      "metadata": {
        "id": "sBVHV-cfhssC"
      }
    },
    {
      "cell_type": "markdown",
      "source": [
        "Since the data imbalanced, it is better to use F1 score not the accuracy so all optimization is done based on weighted F1 score"
      ],
      "metadata": {
        "id": "4Y7wUCa1hwG6"
      }
    },
    {
      "cell_type": "markdown",
      "source": [
        "### **1) Gaussian Naive Bayes (GNB)**"
      ],
      "metadata": {
        "id": "wLOCN1UPaP7q"
      }
    },
    {
      "cell_type": "code",
      "source": [
        "from sklearn.naive_bayes import GaussianNB\n",
        "model_gnb = GaussianNB()"
      ],
      "metadata": {
        "id": "IMr9gFvWbEno"
      },
      "execution_count": 119,
      "outputs": []
    },
    {
      "cell_type": "markdown",
      "source": [
        "### **2) Logistic Regression (LR)**"
      ],
      "metadata": {
        "id": "sNtEeFtqa-8E"
      }
    },
    {
      "cell_type": "code",
      "source": [
        "from sklearn.linear_model import LogisticRegression\n",
        "model_lr = LogisticRegression(solver='saga', max_iter=5000, tol=0.001)\n",
        "param_lr = [{'penalty': ['l1','l2','none'],'C': [0.1, 1, 10]}]\n",
        "\n",
        "gs_lr = GridSearchCV(model_lr,\n",
        "                      param_grid=param_lr,\n",
        "                      scoring='f1_weighted',\n",
        "                      cv=5)\n",
        "gs_lr.fit(X, y)\n",
        "gs_lr.best_params_"
      ],
      "metadata": {
        "id": "Y8mS2RV7vUj2",
        "colab": {
          "base_uri": "https://localhost:8080/"
        },
        "outputId": "abfc9efa-c58a-4a40-ad62-2bb822b816b1"
      },
      "execution_count": 120,
      "outputs": [
        {
          "output_type": "stream",
          "name": "stderr",
          "text": [
            "/usr/local/lib/python3.8/dist-packages/sklearn/linear_model/_logistic.py:1483: UserWarning: Setting penalty='none' will ignore the C and l1_ratio parameters\n",
            "  warnings.warn(\n",
            "/usr/local/lib/python3.8/dist-packages/sklearn/linear_model/_logistic.py:1483: UserWarning: Setting penalty='none' will ignore the C and l1_ratio parameters\n",
            "  warnings.warn(\n",
            "/usr/local/lib/python3.8/dist-packages/sklearn/linear_model/_logistic.py:1483: UserWarning: Setting penalty='none' will ignore the C and l1_ratio parameters\n",
            "  warnings.warn(\n",
            "/usr/local/lib/python3.8/dist-packages/sklearn/linear_model/_logistic.py:1483: UserWarning: Setting penalty='none' will ignore the C and l1_ratio parameters\n",
            "  warnings.warn(\n",
            "/usr/local/lib/python3.8/dist-packages/sklearn/linear_model/_logistic.py:1483: UserWarning: Setting penalty='none' will ignore the C and l1_ratio parameters\n",
            "  warnings.warn(\n",
            "/usr/local/lib/python3.8/dist-packages/sklearn/linear_model/_logistic.py:1483: UserWarning: Setting penalty='none' will ignore the C and l1_ratio parameters\n",
            "  warnings.warn(\n",
            "/usr/local/lib/python3.8/dist-packages/sklearn/linear_model/_logistic.py:1483: UserWarning: Setting penalty='none' will ignore the C and l1_ratio parameters\n",
            "  warnings.warn(\n",
            "/usr/local/lib/python3.8/dist-packages/sklearn/linear_model/_logistic.py:1483: UserWarning: Setting penalty='none' will ignore the C and l1_ratio parameters\n",
            "  warnings.warn(\n",
            "/usr/local/lib/python3.8/dist-packages/sklearn/linear_model/_logistic.py:1483: UserWarning: Setting penalty='none' will ignore the C and l1_ratio parameters\n",
            "  warnings.warn(\n",
            "/usr/local/lib/python3.8/dist-packages/sklearn/linear_model/_logistic.py:1483: UserWarning: Setting penalty='none' will ignore the C and l1_ratio parameters\n",
            "  warnings.warn(\n"
          ]
        },
        {
          "output_type": "execute_result",
          "data": {
            "text/plain": [
              "{'C': 0.1, 'penalty': 'l2'}"
            ]
          },
          "metadata": {},
          "execution_count": 120
        }
      ]
    },
    {
      "cell_type": "markdown",
      "source": [
        "Best C value is 0.1 and best penalty value is l2."
      ],
      "metadata": {
        "id": "7Wo2oJXgh82b"
      }
    },
    {
      "cell_type": "code",
      "source": [
        "model_lr = LogisticRegression(solver='saga', max_iter=5000, tol=0.001, C=0.1, penalty='l2')"
      ],
      "metadata": {
        "id": "5AXSdMYMiCjs"
      },
      "execution_count": 121,
      "outputs": []
    },
    {
      "cell_type": "markdown",
      "source": [
        "### **3) Decision Tree (DT)**"
      ],
      "metadata": {
        "id": "NgXk1-pjbFgW"
      }
    },
    {
      "cell_type": "code",
      "source": [
        "from sklearn import tree\n",
        "model_dt = tree.DecisionTreeClassifier()\n",
        "param_dt = [{'criterion': ['gini','entropy'],'max_depth': [3, 5, None],'min_samples_leaf': [1, 5, 10]}]\n",
        "\n",
        "gs_dt = GridSearchCV(model_dt,\n",
        "                      param_grid=param_dt,\n",
        "                      scoring='f1_weighted',\n",
        "                      cv=5)\n",
        "gs_dt.fit(X, y)\n",
        "gs_dt.best_params_"
      ],
      "metadata": {
        "colab": {
          "base_uri": "https://localhost:8080/"
        },
        "id": "XOyXAxTpbF1U",
        "outputId": "3ce71d5f-bd81-44a7-9c5a-d0d2a22ad0ab"
      },
      "execution_count": 122,
      "outputs": [
        {
          "output_type": "execute_result",
          "data": {
            "text/plain": [
              "{'criterion': 'gini', 'max_depth': None, 'min_samples_leaf': 1}"
            ]
          },
          "metadata": {},
          "execution_count": 122
        }
      ]
    },
    {
      "cell_type": "markdown",
      "source": [
        "Best criterion value is entropy, better to set max_dept default which is None and best min. sample leaf is 1."
      ],
      "metadata": {
        "id": "9Hncv5p1ioSc"
      }
    },
    {
      "cell_type": "code",
      "source": [
        "model_dt = tree.DecisionTreeClassifier(criterion='entropy', max_depth=None, min_samples_leaf=1)"
      ],
      "metadata": {
        "id": "7rznciV0i00J"
      },
      "execution_count": 123,
      "outputs": []
    },
    {
      "cell_type": "markdown",
      "source": [
        "### **4) Support Vector Machine (SVM)**"
      ],
      "metadata": {
        "id": "-EnYYrfubGQk"
      }
    },
    {
      "cell_type": "code",
      "source": [
        "from sklearn import svm\n",
        "model_svm = svm.SVC(gamma='scale', probability=True, max_iter=5000, tol=0.05)\n",
        "param_svm = [{'kernel': ['linear','poly','rbf'],'C': [0.1, 1, 10]}]\n",
        "\n",
        "gs_svm = GridSearchCV(model_svm,\n",
        "                      param_grid=param_svm,\n",
        "                      scoring='f1_weighted',\n",
        "                      cv=5)\n",
        "gs_svm.fit(X, y)\n",
        "gs_svm.best_params_"
      ],
      "metadata": {
        "colab": {
          "base_uri": "https://localhost:8080/"
        },
        "id": "rUwiMWqCbGh8",
        "outputId": "1acf03d5-2a2a-4e74-f54c-3467d9824113"
      },
      "execution_count": 124,
      "outputs": [
        {
          "output_type": "stream",
          "name": "stderr",
          "text": [
            "/usr/local/lib/python3.8/dist-packages/sklearn/svm/_base.py:284: ConvergenceWarning: Solver terminated early (max_iter=5000).  Consider pre-processing your data with StandardScaler or MinMaxScaler.\n",
            "  warnings.warn(\n",
            "/usr/local/lib/python3.8/dist-packages/sklearn/svm/_base.py:284: ConvergenceWarning: Solver terminated early (max_iter=5000).  Consider pre-processing your data with StandardScaler or MinMaxScaler.\n",
            "  warnings.warn(\n",
            "/usr/local/lib/python3.8/dist-packages/sklearn/svm/_base.py:284: ConvergenceWarning: Solver terminated early (max_iter=5000).  Consider pre-processing your data with StandardScaler or MinMaxScaler.\n",
            "  warnings.warn(\n",
            "/usr/local/lib/python3.8/dist-packages/sklearn/svm/_base.py:284: ConvergenceWarning: Solver terminated early (max_iter=5000).  Consider pre-processing your data with StandardScaler or MinMaxScaler.\n",
            "  warnings.warn(\n",
            "/usr/local/lib/python3.8/dist-packages/sklearn/svm/_base.py:284: ConvergenceWarning: Solver terminated early (max_iter=5000).  Consider pre-processing your data with StandardScaler or MinMaxScaler.\n",
            "  warnings.warn(\n"
          ]
        },
        {
          "output_type": "execute_result",
          "data": {
            "text/plain": [
              "{'C': 10, 'kernel': 'rbf'}"
            ]
          },
          "metadata": {},
          "execution_count": 124
        }
      ]
    },
    {
      "cell_type": "markdown",
      "source": [
        "Best C value is 10 and the best kernel value is rbf"
      ],
      "metadata": {
        "id": "o5jPjkfWjyO6"
      }
    },
    {
      "cell_type": "code",
      "source": [
        "model_svm = svm.SVC(gamma='scale', probability=True, max_iter=5000, tol=0.05, C=10, kernel='rbf')"
      ],
      "metadata": {
        "id": "jBRPExd6j9Vr"
      },
      "execution_count": 125,
      "outputs": []
    },
    {
      "cell_type": "markdown",
      "source": [
        "## **b) Estimate the accuracy, precision, recall and F1 scores**"
      ],
      "metadata": {
        "id": "GwzizNRbkKyJ"
      }
    },
    {
      "cell_type": "code",
      "source": [
        "# specifying the evaluation metrics\n",
        "scoring = {'acc': 'accuracy',\n",
        "           'pre': make_scorer(precision_score, average='weighted'),\n",
        "           'rec': make_scorer(recall_score, average='weighted'),\n",
        "           'f1': make_scorer(f1_score, average='weighted')}\n",
        "\n",
        "# creating the cross-validation using 3-repetition, 5-fold \n",
        "cv = RepeatedStratifiedKFold(n_splits=5, n_repeats=3)\n",
        "\n",
        "# creating a dictionary to store the mean scores for each model\n",
        "scores_mean = {}\n",
        "\n",
        "models = [model_gnb,model_lr,model_dt,model_svm]\n",
        "\n",
        "for m in models: # for each classifiers\n",
        "  # evaluate the classifier using 3-repetition, 5-fold cross-validation\n",
        "  scores = cross_validate(m, X, y, scoring=scoring, cv=cv, n_jobs=-1)\n",
        "\n",
        "  print('MODEL:' + str(m)) #printing what the model is\n",
        "\n",
        "  # store the mean scores for each evaluation metric in the scores_mean dictionary\n",
        "  scores_mean[str(m)] = {}\n",
        "  for metric in scoring:\n",
        "    mean = np.mean(scores['test_' + metric])\n",
        "    scores_mean[str(m)][metric] = mean\n",
        "    std = np.std(scores['test_' + metric])\n",
        "    print(f'{metric}: {mean:.4f} (+/- {std * 2:.4f})')\n",
        "  print()\n",
        " \n"
      ],
      "metadata": {
        "colab": {
          "base_uri": "https://localhost:8080/"
        },
        "id": "2LLs6uh-Hfvc",
        "outputId": "94cbdc56-b1d5-44a0-9e10-9775ea62ec72"
      },
      "execution_count": 126,
      "outputs": [
        {
          "output_type": "stream",
          "name": "stdout",
          "text": [
            "MODEL:GaussianNB()\n",
            "acc: 0.5949 (+/- 0.0875)\n",
            "pre: 0.6262 (+/- 0.0922)\n",
            "rec: 0.5949 (+/- 0.0875)\n",
            "f1: 0.5968 (+/- 0.0878)\n",
            "\n",
            "MODEL:LogisticRegression(C=0.1, max_iter=5000, solver='saga', tol=0.001)\n",
            "acc: 0.5643 (+/- 0.0561)\n",
            "pre: 0.5846 (+/- 0.0577)\n",
            "rec: 0.5643 (+/- 0.0561)\n",
            "f1: 0.5608 (+/- 0.0579)\n",
            "\n",
            "MODEL:DecisionTreeClassifier(criterion='entropy')\n",
            "acc: 0.5385 (+/- 0.0669)\n",
            "pre: 0.5439 (+/- 0.0675)\n",
            "rec: 0.5385 (+/- 0.0669)\n",
            "f1: 0.5378 (+/- 0.0669)\n",
            "\n",
            "MODEL:SVC(C=10, max_iter=5000, probability=True, tol=0.05)\n",
            "acc: 0.7280 (+/- 0.0602)\n",
            "pre: 0.7355 (+/- 0.0610)\n",
            "rec: 0.7280 (+/- 0.0602)\n",
            "f1: 0.7277 (+/- 0.0592)\n",
            "\n"
          ]
        }
      ]
    },
    {
      "cell_type": "markdown",
      "source": [
        "## **c) Rank the models**"
      ],
      "metadata": {
        "id": "_JTzel5gLWaL"
      }
    },
    {
      "cell_type": "markdown",
      "source": [
        "In imbalanced datasets, where the minority class is under-represented, it is important to choose an appropriate evaluation metric. The F1 score is a commonly used metric in imbalanced datasets, as it is a balanced measure of precision and recall and takes into account both the true positive and false positive rates. Therefore, four models ranked based on F1 Scores"
      ],
      "metadata": {
        "id": "cchj3EGQLdRq"
      }
    },
    {
      "cell_type": "markdown",
      "source": [
        "Ranking\n",
        "\n",
        "1.   Suppport Vector Machine with F1 score around **0.74**\n",
        "2.   Gaussian Naive Bayes with F1 score around **0.59**\n",
        "2.   Logistic Regression with F1 score around **0.56**\n",
        "3.   Decision Tree with F1 score around **0.54**\n",
        "\n",
        "\n",
        "\n"
      ],
      "metadata": {
        "id": "bXjpvxYyLzIs"
      }
    },
    {
      "cell_type": "markdown",
      "source": [
        "Here, also the comparative barchart for each score metrics"
      ],
      "metadata": {
        "id": "x2akrCiyq2t-"
      }
    },
    {
      "cell_type": "code",
      "source": [
        "# create a bar plot of the mean scores for each model\n",
        "fig, ax = plt.subplots()\n",
        "index = np.arange(len(scoring))\n",
        "bar_width = 0.2\n",
        "opacity = 0.9\n",
        "\n",
        "for i, model in enumerate(scores_mean.keys()):\n",
        "  ax.bar(index + i * bar_width, scores_mean[model].values(), bar_width, alpha=opacity, label=model)\n",
        "\n",
        "ax.set_xlabel('Evaluation Metric')\n",
        "ax.set_ylabel('Score')\n",
        "ax.set_title('Mean Scores for Each Model')\n",
        "ax.set_xticks(index + bar_width / 2)\n",
        "ax.set_xticklabels(scoring.keys())\n",
        "modelNames = ['GNB','LR','DT','SVM']\n",
        "\n",
        "# move the legend to the bottom of the plot\n",
        "ax.legend(modelNames,bbox_to_anchor=(0,0.2), prop={'size': 10}, loc='upper left', ncol=2)\n",
        "plt.show()\n"
      ],
      "metadata": {
        "id": "8tmdIJ3smDJn",
        "outputId": "7481bf1b-2814-4b7e-c7be-401a9aa55e37",
        "colab": {
          "base_uri": "https://localhost:8080/",
          "height": 295
        }
      },
      "execution_count": 131,
      "outputs": [
        {
          "output_type": "display_data",
          "data": {
            "text/plain": [
              "<Figure size 432x288 with 1 Axes>"
            ],
            "image/png": "[encoded data removed]"
          },
          "metadata": {
            "needs_background": "light"
          }
        }
      ]
    },
    {
      "cell_type": "markdown",
      "source": [
        "It is clearly seen that SVM performs much better than all of the other models"
      ],
      "metadata": {
        "id": "RLcINKLZrDJY"
      }
    },
    {
      "cell_type": "markdown",
      "source": [
        "# **T3 - Classifier design (II)**"
      ],
      "metadata": {
        "id": "0z7FZVI9vUu1"
      }
    },
    {
      "cell_type": "code",
      "source": [],
      "metadata": {
        "id": "mB30YY1wvVCu"
      },
      "execution_count": 126,
      "outputs": []
    },
    {
      "cell_type": "markdown",
      "source": [
        "# **T4 - Regression**"
      ],
      "metadata": {
        "id": "Ga4cIf1vvVLF"
      }
    },
    {
      "cell_type": "code",
      "source": [],
      "metadata": {
        "id": "kjORE8NVvViV"
      },
      "execution_count": 126,
      "outputs": []
    },
    {
      "cell_type": "markdown",
      "source": [
        "# **T5 - Model exploitation**"
      ],
      "metadata": {
        "id": "OECpAc0vvVtk"
      }
    },
    {
      "cell_type": "code",
      "source": [
        "df_t5 = pd.read_csv('MachineLearning/SupervisedLearning/im_x_09.txt', sep=\" \", header=None, index_col=False)\n",
        "df_t5_y = pd.read_csv('MachineLearning/SupervisedLearning/im_y_09.txt', sep=\" \", header=None, index_col=False)\n",
        "df_t5_t = pd.read_csv('MachineLearning/SupervisedLearning/im_t_09.txt', sep=\" \", header=None, index_col=False)\n",
        "df_t5['class'] = df_t5_y\n",
        "df_t5['target'] = df_t5_t\n",
        "\n",
        "df_t5.head()"
      ],
      "metadata": {
        "colab": {
          "base_uri": "https://localhost:8080/",
          "height": 235
        },
        "id": "8gkDIaBbveSQ",
        "outputId": "7453b24a-2f8f-40c0-fa8c-b3a6d7eb507c"
      },
      "execution_count": 127,
      "outputs": [
        {
          "output_type": "execute_result",
          "data": {
            "text/plain": [
              "       0      1      2      3      4      5      6      7     8      9  ...  \\\n",
              "0  10.56  53.90  28.49   9.56  35.65  38.17  45.36  22.96  3.43  27.41  ...   \n",
              "1  11.94  34.57  45.58  15.47  39.31  31.83  32.69  49.95  2.83  39.21  ...   \n",
              "2   6.29  45.65  31.93  11.38  39.51  36.15  29.35  37.18  5.32  20.21  ...   \n",
              "3  10.34  52.78  26.24  12.49  29.88  39.67  38.91  36.10  2.06  35.34  ...   \n",
              "4   8.25  53.67  30.91   3.57  18.04  27.73  28.09  19.02  3.41  31.42  ...   \n",
              "\n",
              "      28     29     30     31    32     33     34     35  class    target  \n",
              "0  27.15  15.54  18.56  19.07  2.82  14.04  14.95  19.99      0  0.557017  \n",
              "1  48.16  13.69   7.20  17.95  3.33   6.18  10.37  13.16      0  0.594420  \n",
              "2  32.70  16.90  16.10  12.59  2.09  11.36  14.21  17.10      0  0.519508  \n",
              "3  26.78  13.29  13.92  15.35  2.51  15.46  10.57  16.88      0  0.536709  \n",
              "4  34.27  12.07  15.83  23.11  2.11  18.25   6.78   9.40      0  0.510596  \n",
              "\n",
              "[5 rows x 38 columns]"
            ],
            "text/html": [
              "\n",
              "  <div id=\"df-9fcfe0b3-a727-4b57-98d7-9d8b6df7ba3a\">\n",
              "    <div class=\"colab-df-container\">\n",
              "      <div>\n",
              "<style scoped>\n",
              "    .dataframe tbody tr th:only-of-type {\n",
              "        vertical-align: middle;\n",
              "    }\n",
              "\n",
              "    .dataframe tbody tr th {\n",
              "        vertical-align: top;\n",
              "    }\n",
              "\n",
              "    .dataframe thead th {\n",
              "        text-align: right;\n",
              "    }\n",
              "</style>\n",
              "<table border=\"1\" class=\"dataframe\">\n",
              "  <thead>\n",
              "    <tr style=\"text-align: right;\">\n",
              "      <th></th>\n",
              "      <th>0</th>\n",
              "      <th>1</th>\n",
              "      <th>2</th>\n",
              "      <th>3</th>\n",
              "      <th>4</th>\n",
              "      <th>5</th>\n",
              "      <th>6</th>\n",
              "      <th>7</th>\n",
              "      <th>8</th>\n",
              "      <th>9</th>\n",
              "      <th>...</th>\n",
              "      <th>28</th>\n",
              "      <th>29</th>\n",
              "      <th>30</th>\n",
              "      <th>31</th>\n",
              "      <th>32</th>\n",
              "      <th>33</th>\n",
              "      <th>34</th>\n",
              "      <th>35</th>\n",
              "      <th>class</th>\n",
              "      <th>target</th>\n",
              "    </tr>\n",
              "  </thead>\n",
              "  <tbody>\n",
              "    <tr>\n",
              "      <th>0</th>\n",
              "      <td>10.56</td>\n",
              "      <td>53.90</td>\n",
              "      <td>28.49</td>\n",
              "      <td>9.56</td>\n",
              "      <td>35.65</td>\n",
              "      <td>38.17</td>\n",
              "      <td>45.36</td>\n",
              "      <td>22.96</td>\n",
              "      <td>3.43</td>\n",
              "      <td>27.41</td>\n",
              "      <td>...</td>\n",
              "      <td>27.15</td>\n",
              "      <td>15.54</td>\n",
              "      <td>18.56</td>\n",
              "      <td>19.07</td>\n",
              "      <td>2.82</td>\n",
              "      <td>14.04</td>\n",
              "      <td>14.95</td>\n",
              "      <td>19.99</td>\n",
              "      <td>0</td>\n",
              "      <td>0.557017</td>\n",
              "    </tr>\n",
              "    <tr>\n",
              "      <th>1</th>\n",
              "      <td>11.94</td>\n",
              "      <td>34.57</td>\n",
              "      <td>45.58</td>\n",
              "      <td>15.47</td>\n",
              "      <td>39.31</td>\n",
              "      <td>31.83</td>\n",
              "      <td>32.69</td>\n",
              "      <td>49.95</td>\n",
              "      <td>2.83</td>\n",
              "      <td>39.21</td>\n",
              "      <td>...</td>\n",
              "      <td>48.16</td>\n",
              "      <td>13.69</td>\n",
              "      <td>7.20</td>\n",
              "      <td>17.95</td>\n",
              "      <td>3.33</td>\n",
              "      <td>6.18</td>\n",
              "      <td>10.37</td>\n",
              "      <td>13.16</td>\n",
              "      <td>0</td>\n",
              "      <td>0.594420</td>\n",
              "    </tr>\n",
              "    <tr>\n",
              "      <th>2</th>\n",
              "      <td>6.29</td>\n",
              "      <td>45.65</td>\n",
              "      <td>31.93</td>\n",
              "      <td>11.38</td>\n",
              "      <td>39.51</td>\n",
              "      <td>36.15</td>\n",
              "      <td>29.35</td>\n",
              "      <td>37.18</td>\n",
              "      <td>5.32</td>\n",
              "      <td>20.21</td>\n",
              "      <td>...</td>\n",
              "      <td>32.70</td>\n",
              "      <td>16.90</td>\n",
              "      <td>16.10</td>\n",
              "      <td>12.59</td>\n",
              "      <td>2.09</td>\n",
              "      <td>11.36</td>\n",
              "      <td>14.21</td>\n",
              "      <td>17.10</td>\n",
              "      <td>0</td>\n",
              "      <td>0.519508</td>\n",
              "    </tr>\n",
              "    <tr>\n",
              "      <th>3</th>\n",
              "      <td>10.34</td>\n",
              "      <td>52.78</td>\n",
              "      <td>26.24</td>\n",
              "      <td>12.49</td>\n",
              "      <td>29.88</td>\n",
              "      <td>39.67</td>\n",
              "      <td>38.91</td>\n",
              "      <td>36.10</td>\n",
              "      <td>2.06</td>\n",
              "      <td>35.34</td>\n",
              "      <td>...</td>\n",
              "      <td>26.78</td>\n",
              "      <td>13.29</td>\n",
              "      <td>13.92</td>\n",
              "      <td>15.35</td>\n",
              "      <td>2.51</td>\n",
              "      <td>15.46</td>\n",
              "      <td>10.57</td>\n",
              "      <td>16.88</td>\n",
              "      <td>0</td>\n",
              "      <td>0.536709</td>\n",
              "    </tr>\n",
              "    <tr>\n",
              "      <th>4</th>\n",
              "      <td>8.25</td>\n",
              "      <td>53.67</td>\n",
              "      <td>30.91</td>\n",
              "      <td>3.57</td>\n",
              "      <td>18.04</td>\n",
              "      <td>27.73</td>\n",
              "      <td>28.09</td>\n",
              "      <td>19.02</td>\n",
              "      <td>3.41</td>\n",
              "      <td>31.42</td>\n",
              "      <td>...</td>\n",
              "      <td>34.27</td>\n",
              "      <td>12.07</td>\n",
              "      <td>15.83</td>\n",
              "      <td>23.11</td>\n",
              "      <td>2.11</td>\n",
              "      <td>18.25</td>\n",
              "      <td>6.78</td>\n",
              "      <td>9.40</td>\n",
              "      <td>0</td>\n",
              "      <td>0.510596</td>\n",
              "    </tr>\n",
              "  </tbody>\n",
              "</table>\n",
              "<p>5 rows × 38 columns</p>\n",
              "</div>\n",
              "      <button class=\"colab-df-convert\" onclick=\"convertToInteractive('df-9fcfe0b3-a727-4b57-98d7-9d8b6df7ba3a')\"\n",
              "              title=\"Convert this dataframe to an interactive table.\"\n",
              "              style=\"display:none;\">\n",
              "        \n",
              "  <svg xmlns=\"http://www.w3.org/2000/svg\" height=\"24px\"viewBox=\"0 0 24 24\"\n",
              "       width=\"24px\">\n",
              "    <path d=\"M0 0h24v24H0V0z\" fill=\"none\"/>\n",
              "    <path d=\"M18.56 5.44l.94 2.06.94-2.06 2.06-.94-2.06-.94-.94-2.06-.94 2.06-2.06.94zm-11 1L8.5 8.5l.94-2.06 2.06-.94-2.06-.94L8.5 2.5l-.94 2.06-2.06.94zm10 10l.94 2.06.94-2.06 2.06-.94-2.06-.94-.94-2.06-.94 2.06-2.06.94z\"/><path d=\"M17.41 7.96l-1.37-1.37c-.4-.4-.92-.59-1.43-.59-.52 0-1.04.2-1.43.59L10.3 9.45l-7.72 7.72c-.78.78-.78 2.05 0 2.83L4 21.41c.39.39.9.59 1.41.59.51 0 1.02-.2 1.41-.59l7.78-7.78 2.81-2.81c.8-.78.8-2.07 0-2.86zM5.41 20L4 18.59l7.72-7.72 1.47 1.35L5.41 20z\"/>\n",
              "  </svg>\n",
              "      </button>\n",
              "      \n",
              "  <style>\n",
              "    .colab-df-container {\n",
              "      display:flex;\n",
              "      flex-wrap:wrap;\n",
              "      gap: 12px;\n",
              "    }\n",
              "\n",
              "    .colab-df-convert {\n",
              "      background-color: #E8F0FE;\n",
              "      border: none;\n",
              "      border-radius: 50%;\n",
              "      cursor: pointer;\n",
              "      display: none;\n",
              "      fill: #1967D2;\n",
              "      height: 32px;\n",
              "      padding: 0 0 0 0;\n",
              "      width: 32px;\n",
              "    }\n",
              "\n",
              "    .colab-df-convert:hover {\n",
              "      background-color: #E2EBFA;\n",
              "      box-shadow: 0px 1px 2px rgba(60, 64, 67, 0.3), 0px 1px 3px 1px rgba(60, 64, 67, 0.15);\n",
              "      fill: #174EA6;\n",
              "    }\n",
              "\n",
              "    [theme=dark] .colab-df-convert {\n",
              "      background-color: #3B4455;\n",
              "      fill: #D2E3FC;\n",
              "    }\n",
              "\n",
              "    [theme=dark] .colab-df-convert:hover {\n",
              "      background-color: #434B5C;\n",
              "      box-shadow: 0px 1px 3px 1px rgba(0, 0, 0, 0.15);\n",
              "      filter: drop-shadow(0px 1px 2px rgba(0, 0, 0, 0.3));\n",
              "      fill: #FFFFFF;\n",
              "    }\n",
              "  </style>\n",
              "\n",
              "      <script>\n",
              "        const buttonEl =\n",
              "          document.querySelector('#df-9fcfe0b3-a727-4b57-98d7-9d8b6df7ba3a button.colab-df-convert');\n",
              "        buttonEl.style.display =\n",
              "          google.colab.kernel.accessAllowed ? 'block' : 'none';\n",
              "\n",
              "        async function convertToInteractive(key) {\n",
              "          const element = document.querySelector('#df-9fcfe0b3-a727-4b57-98d7-9d8b6df7ba3a');\n",
              "          const dataTable =\n",
              "            await google.colab.kernel.invokeFunction('convertToInteractive',\n",
              "                                                     [key], {});\n",
              "          if (!dataTable) return;\n",
              "\n",
              "          const docLinkHtml = 'Like what you see? Visit the ' +\n",
              "            '<a target=\"_blank\" href=https://colab.research.google.com/notebooks/data_table.ipynb>data table notebook</a>'\n",
              "            + ' to learn more about interactive tables.';\n",
              "          element.innerHTML = '';\n",
              "          dataTable['output_type'] = 'display_data';\n",
              "          await google.colab.output.renderOutput(dataTable, element);\n",
              "          const docLink = document.createElement('div');\n",
              "          docLink.innerHTML = docLinkHtml;\n",
              "          element.appendChild(docLink);\n",
              "        }\n",
              "      </script>\n",
              "    </div>\n",
              "  </div>\n",
              "  "
            ]
          },
          "metadata": {},
          "execution_count": 127
        }
      ]
    }
  ]
}
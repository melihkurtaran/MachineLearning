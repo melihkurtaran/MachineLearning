{
  "nbformat": 4,
  "nbformat_minor": 0,
  "metadata": {
    "colab": {
      "provenance": [],
      "authorship_tag": "ABX9TyMIVKww4s2htJhPpC53G8jw",
      "include_colab_link": true
    },
    "kernelspec": {
      "name": "python3",
      "display_name": "Python 3"
    },
    "language_info": {
      "name": "python"
    }
  },
  "cells": [
    {
      "cell_type": "markdown",
      "metadata": {
        "id": "view-in-github",
        "colab_type": "text"
      },
      "source": [
        "<a href=\"https://colab.research.google.com/github/melihkurtaran/MachineLearning/blob/main/SupervisedLearning/Supervised_Learning_Assignment.ipynb\" target=\"_parent\"><img src=\"https://colab.research.google.com/assets/colab-badge.svg\" alt=\"Open In Colab\"/></a>"
      ]
    },
    {
      "cell_type": "markdown",
      "source": [
        "**Supervised Learning Project**"
      ],
      "metadata": {
        "id": "GppCzyeuamf8"
      }
    },
    {
      "cell_type": "markdown",
      "source": [
        "In this project, a dataset which has been collected using readings of a multi-spectral imaging sensor installed in a drone intended\n",
        "to map a specific geographical area will be used for developing supervised machine learning models"
      ],
      "metadata": {
        "id": "eLv0t3rJa0j6"
      }
    },
    {
      "cell_type": "code",
      "source": [
        "#Load libraries\n",
        "import pandas as pd\n",
        "import numpy as np\n",
        "from scipy import stats\n",
        "from sklearn.decomposition import PCA\n",
        "from sklearn.svm import SVC\n",
        "from sklearn.feature_selection import SequentialFeatureSelector\n",
        "from sklearn.preprocessing import StandardScaler"
      ],
      "metadata": {
        "id": "pa6HnPefayPF"
      },
      "execution_count": 38,
      "outputs": []
    },
    {
      "cell_type": "code",
      "source": [
        "#Connect to GitHub for faster access\n",
        "!git clone https://github.com/melihkurtaran/MachineLearning.git"
      ],
      "metadata": {
        "colab": {
          "base_uri": "https://localhost:8080/"
        },
        "id": "l4ajC2Qv9gmN",
        "outputId": "2e0deb95-9637-4a2a-9aec-e7d2a2c89b9d"
      },
      "execution_count": 39,
      "outputs": [
        {
          "output_type": "stream",
          "name": "stdout",
          "text": [
            "fatal: destination path 'MachineLearning' already exists and is not an empty directory.\n"
          ]
        }
      ]
    },
    {
      "cell_type": "code",
      "source": [
        "# CSV to DataFrame \n",
        "ds_09 = pd.read_csv(\"MachineLearning/SupervisedLearning/ds_09.csv\")\n",
        "ds_09.head()"
      ],
      "metadata": {
        "colab": {
          "base_uri": "https://localhost:8080/",
          "height": 235
        },
        "id": "JamCD5_z9kff",
        "outputId": "706841ea-6e9f-4e44-dcd3-b75a5a317598"
      },
      "execution_count": 40,
      "outputs": [
        {
          "output_type": "execute_result",
          "data": {
            "text/plain": [
              "     V01    V02    V03    V04    V05    V06    V07    V08   V09    V10  ...  \\\n",
              "0  14.65    NaN  46.46  15.74  49.84  17.95  21.59  60.14  2.85   8.99  ...   \n",
              "1  13.97    NaN  19.38   5.99  21.44  31.61  45.76  26.47  2.52  26.66  ...   \n",
              "2  12.14  53.27  62.25  11.42  28.51  33.03  42.41  52.27  4.68  25.59  ...   \n",
              "3   8.29  16.06  15.41   6.97  14.81  16.53  29.76  36.73  3.14  20.58  ...   \n",
              "4  10.02  47.28  45.67  10.43  13.07    NaN  35.22  19.96  3.34  35.50  ...   \n",
              "\n",
              "     V29    V30    V31    V32   V33    V34    V35    V36  class  target  \n",
              "0  59.10  13.22   0.00  11.56  3.70  17.89  13.76  15.75      4  0.5272  \n",
              "1  32.93  12.02  14.30  17.82  3.15  11.77  14.46  16.38      1  0.4937  \n",
              "2  25.71  12.50  23.18  14.60  4.08   5.87   6.52  14.25      2  0.5796  \n",
              "3  31.74   9.67   8.43  21.87  6.03  10.20  12.54   7.82      5  0.4098  \n",
              "4    NaN  12.20  18.88  23.72  3.16  15.35   8.81  14.93      1  0.5465  \n",
              "\n",
              "[5 rows x 38 columns]"
            ],
            "text/html": [
              "\n",
              "  <div id=\"df-24babab2-b635-47f2-b953-32a859a23c25\">\n",
              "    <div class=\"colab-df-container\">\n",
              "      <div>\n",
              "<style scoped>\n",
              "    .dataframe tbody tr th:only-of-type {\n",
              "        vertical-align: middle;\n",
              "    }\n",
              "\n",
              "    .dataframe tbody tr th {\n",
              "        vertical-align: top;\n",
              "    }\n",
              "\n",
              "    .dataframe thead th {\n",
              "        text-align: right;\n",
              "    }\n",
              "</style>\n",
              "<table border=\"1\" class=\"dataframe\">\n",
              "  <thead>\n",
              "    <tr style=\"text-align: right;\">\n",
              "      <th></th>\n",
              "      <th>V01</th>\n",
              "      <th>V02</th>\n",
              "      <th>V03</th>\n",
              "      <th>V04</th>\n",
              "      <th>V05</th>\n",
              "      <th>V06</th>\n",
              "      <th>V07</th>\n",
              "      <th>V08</th>\n",
              "      <th>V09</th>\n",
              "      <th>V10</th>\n",
              "      <th>...</th>\n",
              "      <th>V29</th>\n",
              "      <th>V30</th>\n",
              "      <th>V31</th>\n",
              "      <th>V32</th>\n",
              "      <th>V33</th>\n",
              "      <th>V34</th>\n",
              "      <th>V35</th>\n",
              "      <th>V36</th>\n",
              "      <th>class</th>\n",
              "      <th>target</th>\n",
              "    </tr>\n",
              "  </thead>\n",
              "  <tbody>\n",
              "    <tr>\n",
              "      <th>0</th>\n",
              "      <td>14.65</td>\n",
              "      <td>NaN</td>\n",
              "      <td>46.46</td>\n",
              "      <td>15.74</td>\n",
              "      <td>49.84</td>\n",
              "      <td>17.95</td>\n",
              "      <td>21.59</td>\n",
              "      <td>60.14</td>\n",
              "      <td>2.85</td>\n",
              "      <td>8.99</td>\n",
              "      <td>...</td>\n",
              "      <td>59.10</td>\n",
              "      <td>13.22</td>\n",
              "      <td>0.00</td>\n",
              "      <td>11.56</td>\n",
              "      <td>3.70</td>\n",
              "      <td>17.89</td>\n",
              "      <td>13.76</td>\n",
              "      <td>15.75</td>\n",
              "      <td>4</td>\n",
              "      <td>0.5272</td>\n",
              "    </tr>\n",
              "    <tr>\n",
              "      <th>1</th>\n",
              "      <td>13.97</td>\n",
              "      <td>NaN</td>\n",
              "      <td>19.38</td>\n",
              "      <td>5.99</td>\n",
              "      <td>21.44</td>\n",
              "      <td>31.61</td>\n",
              "      <td>45.76</td>\n",
              "      <td>26.47</td>\n",
              "      <td>2.52</td>\n",
              "      <td>26.66</td>\n",
              "      <td>...</td>\n",
              "      <td>32.93</td>\n",
              "      <td>12.02</td>\n",
              "      <td>14.30</td>\n",
              "      <td>17.82</td>\n",
              "      <td>3.15</td>\n",
              "      <td>11.77</td>\n",
              "      <td>14.46</td>\n",
              "      <td>16.38</td>\n",
              "      <td>1</td>\n",
              "      <td>0.4937</td>\n",
              "    </tr>\n",
              "    <tr>\n",
              "      <th>2</th>\n",
              "      <td>12.14</td>\n",
              "      <td>53.27</td>\n",
              "      <td>62.25</td>\n",
              "      <td>11.42</td>\n",
              "      <td>28.51</td>\n",
              "      <td>33.03</td>\n",
              "      <td>42.41</td>\n",
              "      <td>52.27</td>\n",
              "      <td>4.68</td>\n",
              "      <td>25.59</td>\n",
              "      <td>...</td>\n",
              "      <td>25.71</td>\n",
              "      <td>12.50</td>\n",
              "      <td>23.18</td>\n",
              "      <td>14.60</td>\n",
              "      <td>4.08</td>\n",
              "      <td>5.87</td>\n",
              "      <td>6.52</td>\n",
              "      <td>14.25</td>\n",
              "      <td>2</td>\n",
              "      <td>0.5796</td>\n",
              "    </tr>\n",
              "    <tr>\n",
              "      <th>3</th>\n",
              "      <td>8.29</td>\n",
              "      <td>16.06</td>\n",
              "      <td>15.41</td>\n",
              "      <td>6.97</td>\n",
              "      <td>14.81</td>\n",
              "      <td>16.53</td>\n",
              "      <td>29.76</td>\n",
              "      <td>36.73</td>\n",
              "      <td>3.14</td>\n",
              "      <td>20.58</td>\n",
              "      <td>...</td>\n",
              "      <td>31.74</td>\n",
              "      <td>9.67</td>\n",
              "      <td>8.43</td>\n",
              "      <td>21.87</td>\n",
              "      <td>6.03</td>\n",
              "      <td>10.20</td>\n",
              "      <td>12.54</td>\n",
              "      <td>7.82</td>\n",
              "      <td>5</td>\n",
              "      <td>0.4098</td>\n",
              "    </tr>\n",
              "    <tr>\n",
              "      <th>4</th>\n",
              "      <td>10.02</td>\n",
              "      <td>47.28</td>\n",
              "      <td>45.67</td>\n",
              "      <td>10.43</td>\n",
              "      <td>13.07</td>\n",
              "      <td>NaN</td>\n",
              "      <td>35.22</td>\n",
              "      <td>19.96</td>\n",
              "      <td>3.34</td>\n",
              "      <td>35.50</td>\n",
              "      <td>...</td>\n",
              "      <td>NaN</td>\n",
              "      <td>12.20</td>\n",
              "      <td>18.88</td>\n",
              "      <td>23.72</td>\n",
              "      <td>3.16</td>\n",
              "      <td>15.35</td>\n",
              "      <td>8.81</td>\n",
              "      <td>14.93</td>\n",
              "      <td>1</td>\n",
              "      <td>0.5465</td>\n",
              "    </tr>\n",
              "  </tbody>\n",
              "</table>\n",
              "<p>5 rows × 38 columns</p>\n",
              "</div>\n",
              "      <button class=\"colab-df-convert\" onclick=\"convertToInteractive('df-24babab2-b635-47f2-b953-32a859a23c25')\"\n",
              "              title=\"Convert this dataframe to an interactive table.\"\n",
              "              style=\"display:none;\">\n",
              "        \n",
              "  <svg xmlns=\"http://www.w3.org/2000/svg\" height=\"24px\"viewBox=\"0 0 24 24\"\n",
              "       width=\"24px\">\n",
              "    <path d=\"M0 0h24v24H0V0z\" fill=\"none\"/>\n",
              "    <path d=\"M18.56 5.44l.94 2.06.94-2.06 2.06-.94-2.06-.94-.94-2.06-.94 2.06-2.06.94zm-11 1L8.5 8.5l.94-2.06 2.06-.94-2.06-.94L8.5 2.5l-.94 2.06-2.06.94zm10 10l.94 2.06.94-2.06 2.06-.94-2.06-.94-.94-2.06-.94 2.06-2.06.94z\"/><path d=\"M17.41 7.96l-1.37-1.37c-.4-.4-.92-.59-1.43-.59-.52 0-1.04.2-1.43.59L10.3 9.45l-7.72 7.72c-.78.78-.78 2.05 0 2.83L4 21.41c.39.39.9.59 1.41.59.51 0 1.02-.2 1.41-.59l7.78-7.78 2.81-2.81c.8-.78.8-2.07 0-2.86zM5.41 20L4 18.59l7.72-7.72 1.47 1.35L5.41 20z\"/>\n",
              "  </svg>\n",
              "      </button>\n",
              "      \n",
              "  <style>\n",
              "    .colab-df-container {\n",
              "      display:flex;\n",
              "      flex-wrap:wrap;\n",
              "      gap: 12px;\n",
              "    }\n",
              "\n",
              "    .colab-df-convert {\n",
              "      background-color: #E8F0FE;\n",
              "      border: none;\n",
              "      border-radius: 50%;\n",
              "      cursor: pointer;\n",
              "      display: none;\n",
              "      fill: #1967D2;\n",
              "      height: 32px;\n",
              "      padding: 0 0 0 0;\n",
              "      width: 32px;\n",
              "    }\n",
              "\n",
              "    .colab-df-convert:hover {\n",
              "      background-color: #E2EBFA;\n",
              "      box-shadow: 0px 1px 2px rgba(60, 64, 67, 0.3), 0px 1px 3px 1px rgba(60, 64, 67, 0.15);\n",
              "      fill: #174EA6;\n",
              "    }\n",
              "\n",
              "    [theme=dark] .colab-df-convert {\n",
              "      background-color: #3B4455;\n",
              "      fill: #D2E3FC;\n",
              "    }\n",
              "\n",
              "    [theme=dark] .colab-df-convert:hover {\n",
              "      background-color: #434B5C;\n",
              "      box-shadow: 0px 1px 3px 1px rgba(0, 0, 0, 0.15);\n",
              "      filter: drop-shadow(0px 1px 2px rgba(0, 0, 0, 0.3));\n",
              "      fill: #FFFFFF;\n",
              "    }\n",
              "  </style>\n",
              "\n",
              "      <script>\n",
              "        const buttonEl =\n",
              "          document.querySelector('#df-24babab2-b635-47f2-b953-32a859a23c25 button.colab-df-convert');\n",
              "        buttonEl.style.display =\n",
              "          google.colab.kernel.accessAllowed ? 'block' : 'none';\n",
              "\n",
              "        async function convertToInteractive(key) {\n",
              "          const element = document.querySelector('#df-24babab2-b635-47f2-b953-32a859a23c25');\n",
              "          const dataTable =\n",
              "            await google.colab.kernel.invokeFunction('convertToInteractive',\n",
              "                                                     [key], {});\n",
              "          if (!dataTable) return;\n",
              "\n",
              "          const docLinkHtml = 'Like what you see? Visit the ' +\n",
              "            '<a target=\"_blank\" href=https://colab.research.google.com/notebooks/data_table.ipynb>data table notebook</a>'\n",
              "            + ' to learn more about interactive tables.';\n",
              "          element.innerHTML = '';\n",
              "          dataTable['output_type'] = 'display_data';\n",
              "          await google.colab.output.renderOutput(dataTable, element);\n",
              "          const docLink = document.createElement('div');\n",
              "          docLink.innerHTML = docLinkHtml;\n",
              "          element.appendChild(docLink);\n",
              "        }\n",
              "      </script>\n",
              "    </div>\n",
              "  </div>\n",
              "  "
            ]
          },
          "metadata": {},
          "execution_count": 40
        }
      ]
    },
    {
      "cell_type": "markdown",
      "source": [
        "There are 36 features and 2 values to be used in classification and regression tasks"
      ],
      "metadata": {
        "id": "RTZl1u5wbOAd"
      }
    },
    {
      "cell_type": "markdown",
      "source": [
        "# **T1 - Dataset preparation**"
      ],
      "metadata": {
        "id": "NYLONs-0vO2R"
      }
    },
    {
      "cell_type": "markdown",
      "source": [
        "The dataset needs to be preprocessed before using in models"
      ],
      "metadata": {
        "id": "YLU70i1IbxtU"
      }
    },
    {
      "cell_type": "markdown",
      "source": [
        "##**(a) removing missing values and outliers**"
      ],
      "metadata": {
        "id": "dimRzv9cblgX"
      }
    },
    {
      "cell_type": "markdown",
      "source": [
        "Samples have 38 rows, class and target row are never missing so thresh needs to setas 34 to drop samples with more than 4 missing feature values."
      ],
      "metadata": {
        "id": "uCwFgl6_fT6m"
      }
    },
    {
      "cell_type": "code",
      "source": [
        "# samples with more than 4 missing feature values are dropped\n",
        "print(\"Size before dropping: \" + str(len(ds_09)))\n",
        "ds_09 = ds_09.dropna(axis=0, thresh=34) # thresh: Require that many non-NA values\n",
        "print(\"Size after dropping: \" + str(len(ds_09)))"
      ],
      "metadata": {
        "colab": {
          "base_uri": "https://localhost:8080/"
        },
        "id": "ZQdbxJkjfb7Y",
        "outputId": "7dad44eb-aacc-40a3-8a16-dbb995e08810"
      },
      "execution_count": 41,
      "outputs": [
        {
          "output_type": "stream",
          "name": "stdout",
          "text": [
            "Size before dropping: 1000\n",
            "Size after dropping: 967\n"
          ]
        }
      ]
    },
    {
      "cell_type": "markdown",
      "source": [
        "Filling remaining null values with the mean"
      ],
      "metadata": {
        "id": "1aQSe8wUiM_v"
      }
    },
    {
      "cell_type": "code",
      "source": [
        "# the remaining missing values are filled using the average value\n",
        "\n",
        "for i in ds_09.columns[ds_09.isnull().any(axis=0)]:  #Applying only on variables with NaN valuesfor bettter performance\n",
        "    ds_09[i].fillna(ds_09[i].mean(),inplace=True)"
      ],
      "metadata": {
        "id": "PGfcI4XygjBV"
      },
      "execution_count": 42,
      "outputs": []
    },
    {
      "cell_type": "code",
      "source": [
        "# We can see that we do not have any missing values anymore\n",
        "ds_09.isnull().values.any()"
      ],
      "metadata": {
        "colab": {
          "base_uri": "https://localhost:8080/"
        },
        "id": "bXtth4kuhXyS",
        "outputId": "cfdfe193-7ae5-422f-9dfa-242deaf4c953"
      },
      "execution_count": 43,
      "outputs": [
        {
          "output_type": "execute_result",
          "data": {
            "text/plain": [
              "False"
            ]
          },
          "metadata": {},
          "execution_count": 43
        }
      ]
    },
    {
      "cell_type": "markdown",
      "source": [
        "Removing outliers"
      ],
      "metadata": {
        "id": "Q55W-_y6iDQx"
      }
    },
    {
      "cell_type": "code",
      "source": [
        "# samples with at least one feature value with a z-score higher than 3 (i.e. an outlier) are discarded\n",
        "print(\"Size before removing outlier samples: \" + str(len(ds_09)))\n",
        "# code below for each column, first calculates Z-score of each value in the column, and remove all rows that have outliers in at least one column\n",
        "ds_09 = ds_09[(np.abs(stats.zscore(ds_09)) < 3).all(axis=1)] # axis=1 ensures that for each row, all column satisfy the constraint.\n",
        "print(\"Size after removing outlier samples: \" + str(len(ds_09)))"
      ],
      "metadata": {
        "colab": {
          "base_uri": "https://localhost:8080/"
        },
        "id": "eIUDdCuniGPS",
        "outputId": "f3f2f241-435b-4888-9694-820d401b86b4"
      },
      "execution_count": 44,
      "outputs": [
        {
          "output_type": "stream",
          "name": "stdout",
          "text": [
            "Size before removing outlier samples: 967\n",
            "Size after removing outlier samples: 869\n"
          ]
        }
      ]
    },
    {
      "cell_type": "markdown",
      "source": [
        "##**(b) Dimensionality Reduction**"
      ],
      "metadata": {
        "id": "DE9QCf3pk8ho"
      }
    },
    {
      "cell_type": "markdown",
      "source": [
        "Keep only features that account for up to 95% of the variance of the data"
      ],
      "metadata": {
        "id": "Ui2HA9_pleek"
      }
    },
    {
      "cell_type": "code",
      "source": [],
      "metadata": {
        "id": "eRH-IsGMnam6"
      },
      "execution_count": 44,
      "outputs": []
    },
    {
      "cell_type": "markdown",
      "source": [
        "##**(c) Standardization**"
      ],
      "metadata": {
        "id": "oPXJTuH1wlJO"
      }
    },
    {
      "cell_type": "markdown",
      "source": [
        "mu-sigma standardization is used to normalize the features"
      ],
      "metadata": {
        "id": "gi5LQ2bSx_wC"
      }
    },
    {
      "cell_type": "code",
      "source": [
        "X = ds_09.copy()\n",
        "X.drop(['class', 'target'], axis=1, inplace=True)"
      ],
      "metadata": {
        "id": "gVWAVdtFwuR8"
      },
      "execution_count": 48,
      "outputs": []
    },
    {
      "cell_type": "code",
      "source": [
        "# define mu-sigma standardizer scaler\n",
        "ss = StandardScaler()\n",
        "  \n",
        "# transform data\n",
        "X = pd.DataFrame(ss.fit_transform(X),columns = X.columns)\n",
        "X.head()"
      ],
      "metadata": {
        "colab": {
          "base_uri": "https://localhost:8080/",
          "height": 235
        },
        "id": "RzN13zNVtmGv",
        "outputId": "04fe4944-830c-409a-e12d-314a2fa393ee"
      },
      "execution_count": 49,
      "outputs": [
        {
          "output_type": "execute_result",
          "data": {
            "text/plain": [
              "        V01       V02       V03       V04       V05       V06       V07  \\\n",
              "0  1.214996 -0.054054  1.152872  2.357207  2.216477 -1.496285 -1.158382   \n",
              "1  0.986969 -0.054054 -1.939001 -1.175792 -0.726378 -0.047792  1.256262   \n",
              "2  0.373306  0.726206  2.955703  0.791817  0.006227  0.102783  0.921588   \n",
              "3 -0.917733 -2.285514 -2.392278 -0.820680 -1.413390 -1.646860 -0.342179   \n",
              "4 -0.337604  0.241384  1.062673  0.433082 -1.593692 -0.044691  0.203289   \n",
              "\n",
              "        V08       V09       V10  ...       V27       V28       V29       V30  \\\n",
              "0  2.376606 -0.895622 -2.346782  ... -0.316122 -1.539320  2.279143  0.406997   \n",
              "1 -0.882371 -1.204081 -0.161146  ... -1.312862  0.261232 -0.129392  0.010242   \n",
              "2  1.614855  0.814919 -0.293497  ...  1.431467 -1.003106 -0.793879  0.168944   \n",
              "3  0.110712 -0.624553 -0.913193  ... -1.802451 -0.385048 -0.238912 -0.766735   \n",
              "4 -1.512486 -0.437608  0.932290  ...  1.481963 -0.760398  0.015906  0.069755   \n",
              "\n",
              "        V31       V32       V33       V34       V35       V36  \n",
              "0 -3.207810 -0.729132  0.408947  0.383839  1.212194 -0.099109  \n",
              "1 -0.254762  0.577851 -0.075171 -0.882510  1.432997  0.053858  \n",
              "2  1.579018 -0.094431  0.743429 -2.103338 -1.071547 -0.463317  \n",
              "3 -1.466957  1.423423  2.459851 -1.207375  0.827364 -2.024555  \n",
              "4  0.691039  1.809672 -0.066369 -0.141737 -0.349203 -0.298209  \n",
              "\n",
              "[5 rows x 36 columns]"
            ],
            "text/html": [
              "\n",
              "  <div id=\"df-399e2843-9fdb-44af-9f08-9ec1e51fdb7c\">\n",
              "    <div class=\"colab-df-container\">\n",
              "      <div>\n",
              "<style scoped>\n",
              "    .dataframe tbody tr th:only-of-type {\n",
              "        vertical-align: middle;\n",
              "    }\n",
              "\n",
              "    .dataframe tbody tr th {\n",
              "        vertical-align: top;\n",
              "    }\n",
              "\n",
              "    .dataframe thead th {\n",
              "        text-align: right;\n",
              "    }\n",
              "</style>\n",
              "<table border=\"1\" class=\"dataframe\">\n",
              "  <thead>\n",
              "    <tr style=\"text-align: right;\">\n",
              "      <th></th>\n",
              "      <th>V01</th>\n",
              "      <th>V02</th>\n",
              "      <th>V03</th>\n",
              "      <th>V04</th>\n",
              "      <th>V05</th>\n",
              "      <th>V06</th>\n",
              "      <th>V07</th>\n",
              "      <th>V08</th>\n",
              "      <th>V09</th>\n",
              "      <th>V10</th>\n",
              "      <th>...</th>\n",
              "      <th>V27</th>\n",
              "      <th>V28</th>\n",
              "      <th>V29</th>\n",
              "      <th>V30</th>\n",
              "      <th>V31</th>\n",
              "      <th>V32</th>\n",
              "      <th>V33</th>\n",
              "      <th>V34</th>\n",
              "      <th>V35</th>\n",
              "      <th>V36</th>\n",
              "    </tr>\n",
              "  </thead>\n",
              "  <tbody>\n",
              "    <tr>\n",
              "      <th>0</th>\n",
              "      <td>1.214996</td>\n",
              "      <td>-0.054054</td>\n",
              "      <td>1.152872</td>\n",
              "      <td>2.357207</td>\n",
              "      <td>2.216477</td>\n",
              "      <td>-1.496285</td>\n",
              "      <td>-1.158382</td>\n",
              "      <td>2.376606</td>\n",
              "      <td>-0.895622</td>\n",
              "      <td>-2.346782</td>\n",
              "      <td>...</td>\n",
              "      <td>-0.316122</td>\n",
              "      <td>-1.539320</td>\n",
              "      <td>2.279143</td>\n",
              "      <td>0.406997</td>\n",
              "      <td>-3.207810</td>\n",
              "      <td>-0.729132</td>\n",
              "      <td>0.408947</td>\n",
              "      <td>0.383839</td>\n",
              "      <td>1.212194</td>\n",
              "      <td>-0.099109</td>\n",
              "    </tr>\n",
              "    <tr>\n",
              "      <th>1</th>\n",
              "      <td>0.986969</td>\n",
              "      <td>-0.054054</td>\n",
              "      <td>-1.939001</td>\n",
              "      <td>-1.175792</td>\n",
              "      <td>-0.726378</td>\n",
              "      <td>-0.047792</td>\n",
              "      <td>1.256262</td>\n",
              "      <td>-0.882371</td>\n",
              "      <td>-1.204081</td>\n",
              "      <td>-0.161146</td>\n",
              "      <td>...</td>\n",
              "      <td>-1.312862</td>\n",
              "      <td>0.261232</td>\n",
              "      <td>-0.129392</td>\n",
              "      <td>0.010242</td>\n",
              "      <td>-0.254762</td>\n",
              "      <td>0.577851</td>\n",
              "      <td>-0.075171</td>\n",
              "      <td>-0.882510</td>\n",
              "      <td>1.432997</td>\n",
              "      <td>0.053858</td>\n",
              "    </tr>\n",
              "    <tr>\n",
              "      <th>2</th>\n",
              "      <td>0.373306</td>\n",
              "      <td>0.726206</td>\n",
              "      <td>2.955703</td>\n",
              "      <td>0.791817</td>\n",
              "      <td>0.006227</td>\n",
              "      <td>0.102783</td>\n",
              "      <td>0.921588</td>\n",
              "      <td>1.614855</td>\n",
              "      <td>0.814919</td>\n",
              "      <td>-0.293497</td>\n",
              "      <td>...</td>\n",
              "      <td>1.431467</td>\n",
              "      <td>-1.003106</td>\n",
              "      <td>-0.793879</td>\n",
              "      <td>0.168944</td>\n",
              "      <td>1.579018</td>\n",
              "      <td>-0.094431</td>\n",
              "      <td>0.743429</td>\n",
              "      <td>-2.103338</td>\n",
              "      <td>-1.071547</td>\n",
              "      <td>-0.463317</td>\n",
              "    </tr>\n",
              "    <tr>\n",
              "      <th>3</th>\n",
              "      <td>-0.917733</td>\n",
              "      <td>-2.285514</td>\n",
              "      <td>-2.392278</td>\n",
              "      <td>-0.820680</td>\n",
              "      <td>-1.413390</td>\n",
              "      <td>-1.646860</td>\n",
              "      <td>-0.342179</td>\n",
              "      <td>0.110712</td>\n",
              "      <td>-0.624553</td>\n",
              "      <td>-0.913193</td>\n",
              "      <td>...</td>\n",
              "      <td>-1.802451</td>\n",
              "      <td>-0.385048</td>\n",
              "      <td>-0.238912</td>\n",
              "      <td>-0.766735</td>\n",
              "      <td>-1.466957</td>\n",
              "      <td>1.423423</td>\n",
              "      <td>2.459851</td>\n",
              "      <td>-1.207375</td>\n",
              "      <td>0.827364</td>\n",
              "      <td>-2.024555</td>\n",
              "    </tr>\n",
              "    <tr>\n",
              "      <th>4</th>\n",
              "      <td>-0.337604</td>\n",
              "      <td>0.241384</td>\n",
              "      <td>1.062673</td>\n",
              "      <td>0.433082</td>\n",
              "      <td>-1.593692</td>\n",
              "      <td>-0.044691</td>\n",
              "      <td>0.203289</td>\n",
              "      <td>-1.512486</td>\n",
              "      <td>-0.437608</td>\n",
              "      <td>0.932290</td>\n",
              "      <td>...</td>\n",
              "      <td>1.481963</td>\n",
              "      <td>-0.760398</td>\n",
              "      <td>0.015906</td>\n",
              "      <td>0.069755</td>\n",
              "      <td>0.691039</td>\n",
              "      <td>1.809672</td>\n",
              "      <td>-0.066369</td>\n",
              "      <td>-0.141737</td>\n",
              "      <td>-0.349203</td>\n",
              "      <td>-0.298209</td>\n",
              "    </tr>\n",
              "  </tbody>\n",
              "</table>\n",
              "<p>5 rows × 36 columns</p>\n",
              "</div>\n",
              "      <button class=\"colab-df-convert\" onclick=\"convertToInteractive('df-399e2843-9fdb-44af-9f08-9ec1e51fdb7c')\"\n",
              "              title=\"Convert this dataframe to an interactive table.\"\n",
              "              style=\"display:none;\">\n",
              "        \n",
              "  <svg xmlns=\"http://www.w3.org/2000/svg\" height=\"24px\"viewBox=\"0 0 24 24\"\n",
              "       width=\"24px\">\n",
              "    <path d=\"M0 0h24v24H0V0z\" fill=\"none\"/>\n",
              "    <path d=\"M18.56 5.44l.94 2.06.94-2.06 2.06-.94-2.06-.94-.94-2.06-.94 2.06-2.06.94zm-11 1L8.5 8.5l.94-2.06 2.06-.94-2.06-.94L8.5 2.5l-.94 2.06-2.06.94zm10 10l.94 2.06.94-2.06 2.06-.94-2.06-.94-.94-2.06-.94 2.06-2.06.94z\"/><path d=\"M17.41 7.96l-1.37-1.37c-.4-.4-.92-.59-1.43-.59-.52 0-1.04.2-1.43.59L10.3 9.45l-7.72 7.72c-.78.78-.78 2.05 0 2.83L4 21.41c.39.39.9.59 1.41.59.51 0 1.02-.2 1.41-.59l7.78-7.78 2.81-2.81c.8-.78.8-2.07 0-2.86zM5.41 20L4 18.59l7.72-7.72 1.47 1.35L5.41 20z\"/>\n",
              "  </svg>\n",
              "      </button>\n",
              "      \n",
              "  <style>\n",
              "    .colab-df-container {\n",
              "      display:flex;\n",
              "      flex-wrap:wrap;\n",
              "      gap: 12px;\n",
              "    }\n",
              "\n",
              "    .colab-df-convert {\n",
              "      background-color: #E8F0FE;\n",
              "      border: none;\n",
              "      border-radius: 50%;\n",
              "      cursor: pointer;\n",
              "      display: none;\n",
              "      fill: #1967D2;\n",
              "      height: 32px;\n",
              "      padding: 0 0 0 0;\n",
              "      width: 32px;\n",
              "    }\n",
              "\n",
              "    .colab-df-convert:hover {\n",
              "      background-color: #E2EBFA;\n",
              "      box-shadow: 0px 1px 2px rgba(60, 64, 67, 0.3), 0px 1px 3px 1px rgba(60, 64, 67, 0.15);\n",
              "      fill: #174EA6;\n",
              "    }\n",
              "\n",
              "    [theme=dark] .colab-df-convert {\n",
              "      background-color: #3B4455;\n",
              "      fill: #D2E3FC;\n",
              "    }\n",
              "\n",
              "    [theme=dark] .colab-df-convert:hover {\n",
              "      background-color: #434B5C;\n",
              "      box-shadow: 0px 1px 3px 1px rgba(0, 0, 0, 0.15);\n",
              "      filter: drop-shadow(0px 1px 2px rgba(0, 0, 0, 0.3));\n",
              "      fill: #FFFFFF;\n",
              "    }\n",
              "  </style>\n",
              "\n",
              "      <script>\n",
              "        const buttonEl =\n",
              "          document.querySelector('#df-399e2843-9fdb-44af-9f08-9ec1e51fdb7c button.colab-df-convert');\n",
              "        buttonEl.style.display =\n",
              "          google.colab.kernel.accessAllowed ? 'block' : 'none';\n",
              "\n",
              "        async function convertToInteractive(key) {\n",
              "          const element = document.querySelector('#df-399e2843-9fdb-44af-9f08-9ec1e51fdb7c');\n",
              "          const dataTable =\n",
              "            await google.colab.kernel.invokeFunction('convertToInteractive',\n",
              "                                                     [key], {});\n",
              "          if (!dataTable) return;\n",
              "\n",
              "          const docLinkHtml = 'Like what you see? Visit the ' +\n",
              "            '<a target=\"_blank\" href=https://colab.research.google.com/notebooks/data_table.ipynb>data table notebook</a>'\n",
              "            + ' to learn more about interactive tables.';\n",
              "          element.innerHTML = '';\n",
              "          dataTable['output_type'] = 'display_data';\n",
              "          await google.colab.output.renderOutput(dataTable, element);\n",
              "          const docLink = document.createElement('div');\n",
              "          docLink.innerHTML = docLinkHtml;\n",
              "          element.appendChild(docLink);\n",
              "        }\n",
              "      </script>\n",
              "    </div>\n",
              "  </div>\n",
              "  "
            ]
          },
          "metadata": {},
          "execution_count": 49
        }
      ]
    },
    {
      "cell_type": "markdown",
      "source": [
        "##**(d) Calculate IR**"
      ],
      "metadata": {
        "id": "TCw8fesFyNh7"
      }
    },
    {
      "cell_type": "markdown",
      "source": [
        "The Imbalance Ratio (IR) is the ratio between the number of samples from the majority class and the number of samples from the minority class"
      ],
      "metadata": {
        "id": "PXy4jvylyWGS"
      }
    },
    {
      "cell_type": "code",
      "source": [
        "ds_09['class'].value_counts() #Observe majority and minority class"
      ],
      "metadata": {
        "colab": {
          "base_uri": "https://localhost:8080/"
        },
        "id": "DftdYElnyoSQ",
        "outputId": "9d994c5b-dd28-45c8-c51b-7cfdc3c0a3c0"
      },
      "execution_count": 53,
      "outputs": [
        {
          "output_type": "execute_result",
          "data": {
            "text/plain": [
              "1    230\n",
              "4    224\n",
              "5    148\n",
              "0    132\n",
              "3     68\n",
              "2     67\n",
              "Name: class, dtype: int64"
            ]
          },
          "metadata": {},
          "execution_count": 53
        }
      ]
    },
    {
      "cell_type": "code",
      "source": [
        "IR = ds_09['class'].value_counts().max() / ds_09['class'].value_counts().min()\n",
        "print('Imbalance Ratio: ' + str(IR))"
      ],
      "metadata": {
        "colab": {
          "base_uri": "https://localhost:8080/"
        },
        "id": "y1XKxgpXzoXT",
        "outputId": "22f364e6-5f32-4c98-f0dd-fb70a6f931ba"
      },
      "execution_count": 56,
      "outputs": [
        {
          "output_type": "stream",
          "name": "stdout",
          "text": [
            "Imbalance Ratio: 3.4328358208955225\n"
          ]
        }
      ]
    },
    {
      "cell_type": "markdown",
      "source": [
        "# **T2 - Classifier design (I)**"
      ],
      "metadata": {
        "id": "T2NdIWQpvUEj"
      }
    },
    {
      "cell_type": "code",
      "source": [],
      "metadata": {
        "id": "Y8mS2RV7vUj2"
      },
      "execution_count": 46,
      "outputs": []
    },
    {
      "cell_type": "markdown",
      "source": [
        "# **T3 - Classifier design (II)**"
      ],
      "metadata": {
        "id": "0z7FZVI9vUu1"
      }
    },
    {
      "cell_type": "code",
      "source": [],
      "metadata": {
        "id": "mB30YY1wvVCu"
      },
      "execution_count": 46,
      "outputs": []
    },
    {
      "cell_type": "markdown",
      "source": [
        "# **T4 - Regression**"
      ],
      "metadata": {
        "id": "Ga4cIf1vvVLF"
      }
    },
    {
      "cell_type": "code",
      "source": [],
      "metadata": {
        "id": "kjORE8NVvViV"
      },
      "execution_count": 46,
      "outputs": []
    },
    {
      "cell_type": "markdown",
      "source": [
        "# **T5 - Model exploitation**"
      ],
      "metadata": {
        "id": "OECpAc0vvVtk"
      }
    },
    {
      "cell_type": "code",
      "source": [
        "df_t5 = pd.read_csv('MachineLearning/SupervisedLearning/im_x_09.txt', sep=\" \", header=None, index_col=False)\n",
        "df_t5_y = pd.read_csv('MachineLearning/SupervisedLearning/im_y_09.txt', sep=\" \", header=None, index_col=False)\n",
        "df_t5_t = pd.read_csv('MachineLearning/SupervisedLearning/im_t_09.txt', sep=\" \", header=None, index_col=False)\n",
        "df_t5['class'] = df_t5_y\n",
        "df_t5['target'] = df_t5_t\n",
        "\n",
        "df_t5.head()"
      ],
      "metadata": {
        "colab": {
          "base_uri": "https://localhost:8080/",
          "height": 235
        },
        "id": "8gkDIaBbveSQ",
        "outputId": "ed389aa6-6eaf-4f1e-f2cb-50c6405221ed"
      },
      "execution_count": 47,
      "outputs": [
        {
          "output_type": "execute_result",
          "data": {
            "text/plain": [
              "       0      1      2      3      4      5      6      7     8      9  ...  \\\n",
              "0  10.56  53.90  28.49   9.56  35.65  38.17  45.36  22.96  3.43  27.41  ...   \n",
              "1  11.94  34.57  45.58  15.47  39.31  31.83  32.69  49.95  2.83  39.21  ...   \n",
              "2   6.29  45.65  31.93  11.38  39.51  36.15  29.35  37.18  5.32  20.21  ...   \n",
              "3  10.34  52.78  26.24  12.49  29.88  39.67  38.91  36.10  2.06  35.34  ...   \n",
              "4   8.25  53.67  30.91   3.57  18.04  27.73  28.09  19.02  3.41  31.42  ...   \n",
              "\n",
              "      28     29     30     31    32     33     34     35  class    target  \n",
              "0  27.15  15.54  18.56  19.07  2.82  14.04  14.95  19.99      0  0.557017  \n",
              "1  48.16  13.69   7.20  17.95  3.33   6.18  10.37  13.16      0  0.594420  \n",
              "2  32.70  16.90  16.10  12.59  2.09  11.36  14.21  17.10      0  0.519508  \n",
              "3  26.78  13.29  13.92  15.35  2.51  15.46  10.57  16.88      0  0.536709  \n",
              "4  34.27  12.07  15.83  23.11  2.11  18.25   6.78   9.40      0  0.510596  \n",
              "\n",
              "[5 rows x 38 columns]"
            ],
            "text/html": [
              "\n",
              "  <div id=\"df-e883cd4e-b9d6-4f5f-9ae8-d6c295fa24c9\">\n",
              "    <div class=\"colab-df-container\">\n",
              "      <div>\n",
              "<style scoped>\n",
              "    .dataframe tbody tr th:only-of-type {\n",
              "        vertical-align: middle;\n",
              "    }\n",
              "\n",
              "    .dataframe tbody tr th {\n",
              "        vertical-align: top;\n",
              "    }\n",
              "\n",
              "    .dataframe thead th {\n",
              "        text-align: right;\n",
              "    }\n",
              "</style>\n",
              "<table border=\"1\" class=\"dataframe\">\n",
              "  <thead>\n",
              "    <tr style=\"text-align: right;\">\n",
              "      <th></th>\n",
              "      <th>0</th>\n",
              "      <th>1</th>\n",
              "      <th>2</th>\n",
              "      <th>3</th>\n",
              "      <th>4</th>\n",
              "      <th>5</th>\n",
              "      <th>6</th>\n",
              "      <th>7</th>\n",
              "      <th>8</th>\n",
              "      <th>9</th>\n",
              "      <th>...</th>\n",
              "      <th>28</th>\n",
              "      <th>29</th>\n",
              "      <th>30</th>\n",
              "      <th>31</th>\n",
              "      <th>32</th>\n",
              "      <th>33</th>\n",
              "      <th>34</th>\n",
              "      <th>35</th>\n",
              "      <th>class</th>\n",
              "      <th>target</th>\n",
              "    </tr>\n",
              "  </thead>\n",
              "  <tbody>\n",
              "    <tr>\n",
              "      <th>0</th>\n",
              "      <td>10.56</td>\n",
              "      <td>53.90</td>\n",
              "      <td>28.49</td>\n",
              "      <td>9.56</td>\n",
              "      <td>35.65</td>\n",
              "      <td>38.17</td>\n",
              "      <td>45.36</td>\n",
              "      <td>22.96</td>\n",
              "      <td>3.43</td>\n",
              "      <td>27.41</td>\n",
              "      <td>...</td>\n",
              "      <td>27.15</td>\n",
              "      <td>15.54</td>\n",
              "      <td>18.56</td>\n",
              "      <td>19.07</td>\n",
              "      <td>2.82</td>\n",
              "      <td>14.04</td>\n",
              "      <td>14.95</td>\n",
              "      <td>19.99</td>\n",
              "      <td>0</td>\n",
              "      <td>0.557017</td>\n",
              "    </tr>\n",
              "    <tr>\n",
              "      <th>1</th>\n",
              "      <td>11.94</td>\n",
              "      <td>34.57</td>\n",
              "      <td>45.58</td>\n",
              "      <td>15.47</td>\n",
              "      <td>39.31</td>\n",
              "      <td>31.83</td>\n",
              "      <td>32.69</td>\n",
              "      <td>49.95</td>\n",
              "      <td>2.83</td>\n",
              "      <td>39.21</td>\n",
              "      <td>...</td>\n",
              "      <td>48.16</td>\n",
              "      <td>13.69</td>\n",
              "      <td>7.20</td>\n",
              "      <td>17.95</td>\n",
              "      <td>3.33</td>\n",
              "      <td>6.18</td>\n",
              "      <td>10.37</td>\n",
              "      <td>13.16</td>\n",
              "      <td>0</td>\n",
              "      <td>0.594420</td>\n",
              "    </tr>\n",
              "    <tr>\n",
              "      <th>2</th>\n",
              "      <td>6.29</td>\n",
              "      <td>45.65</td>\n",
              "      <td>31.93</td>\n",
              "      <td>11.38</td>\n",
              "      <td>39.51</td>\n",
              "      <td>36.15</td>\n",
              "      <td>29.35</td>\n",
              "      <td>37.18</td>\n",
              "      <td>5.32</td>\n",
              "      <td>20.21</td>\n",
              "      <td>...</td>\n",
              "      <td>32.70</td>\n",
              "      <td>16.90</td>\n",
              "      <td>16.10</td>\n",
              "      <td>12.59</td>\n",
              "      <td>2.09</td>\n",
              "      <td>11.36</td>\n",
              "      <td>14.21</td>\n",
              "      <td>17.10</td>\n",
              "      <td>0</td>\n",
              "      <td>0.519508</td>\n",
              "    </tr>\n",
              "    <tr>\n",
              "      <th>3</th>\n",
              "      <td>10.34</td>\n",
              "      <td>52.78</td>\n",
              "      <td>26.24</td>\n",
              "      <td>12.49</td>\n",
              "      <td>29.88</td>\n",
              "      <td>39.67</td>\n",
              "      <td>38.91</td>\n",
              "      <td>36.10</td>\n",
              "      <td>2.06</td>\n",
              "      <td>35.34</td>\n",
              "      <td>...</td>\n",
              "      <td>26.78</td>\n",
              "      <td>13.29</td>\n",
              "      <td>13.92</td>\n",
              "      <td>15.35</td>\n",
              "      <td>2.51</td>\n",
              "      <td>15.46</td>\n",
              "      <td>10.57</td>\n",
              "      <td>16.88</td>\n",
              "      <td>0</td>\n",
              "      <td>0.536709</td>\n",
              "    </tr>\n",
              "    <tr>\n",
              "      <th>4</th>\n",
              "      <td>8.25</td>\n",
              "      <td>53.67</td>\n",
              "      <td>30.91</td>\n",
              "      <td>3.57</td>\n",
              "      <td>18.04</td>\n",
              "      <td>27.73</td>\n",
              "      <td>28.09</td>\n",
              "      <td>19.02</td>\n",
              "      <td>3.41</td>\n",
              "      <td>31.42</td>\n",
              "      <td>...</td>\n",
              "      <td>34.27</td>\n",
              "      <td>12.07</td>\n",
              "      <td>15.83</td>\n",
              "      <td>23.11</td>\n",
              "      <td>2.11</td>\n",
              "      <td>18.25</td>\n",
              "      <td>6.78</td>\n",
              "      <td>9.40</td>\n",
              "      <td>0</td>\n",
              "      <td>0.510596</td>\n",
              "    </tr>\n",
              "  </tbody>\n",
              "</table>\n",
              "<p>5 rows × 38 columns</p>\n",
              "</div>\n",
              "      <button class=\"colab-df-convert\" onclick=\"convertToInteractive('df-e883cd4e-b9d6-4f5f-9ae8-d6c295fa24c9')\"\n",
              "              title=\"Convert this dataframe to an interactive table.\"\n",
              "              style=\"display:none;\">\n",
              "        \n",
              "  <svg xmlns=\"http://www.w3.org/2000/svg\" height=\"24px\"viewBox=\"0 0 24 24\"\n",
              "       width=\"24px\">\n",
              "    <path d=\"M0 0h24v24H0V0z\" fill=\"none\"/>\n",
              "    <path d=\"M18.56 5.44l.94 2.06.94-2.06 2.06-.94-2.06-.94-.94-2.06-.94 2.06-2.06.94zm-11 1L8.5 8.5l.94-2.06 2.06-.94-2.06-.94L8.5 2.5l-.94 2.06-2.06.94zm10 10l.94 2.06.94-2.06 2.06-.94-2.06-.94-.94-2.06-.94 2.06-2.06.94z\"/><path d=\"M17.41 7.96l-1.37-1.37c-.4-.4-.92-.59-1.43-.59-.52 0-1.04.2-1.43.59L10.3 9.45l-7.72 7.72c-.78.78-.78 2.05 0 2.83L4 21.41c.39.39.9.59 1.41.59.51 0 1.02-.2 1.41-.59l7.78-7.78 2.81-2.81c.8-.78.8-2.07 0-2.86zM5.41 20L4 18.59l7.72-7.72 1.47 1.35L5.41 20z\"/>\n",
              "  </svg>\n",
              "      </button>\n",
              "      \n",
              "  <style>\n",
              "    .colab-df-container {\n",
              "      display:flex;\n",
              "      flex-wrap:wrap;\n",
              "      gap: 12px;\n",
              "    }\n",
              "\n",
              "    .colab-df-convert {\n",
              "      background-color: #E8F0FE;\n",
              "      border: none;\n",
              "      border-radius: 50%;\n",
              "      cursor: pointer;\n",
              "      display: none;\n",
              "      fill: #1967D2;\n",
              "      height: 32px;\n",
              "      padding: 0 0 0 0;\n",
              "      width: 32px;\n",
              "    }\n",
              "\n",
              "    .colab-df-convert:hover {\n",
              "      background-color: #E2EBFA;\n",
              "      box-shadow: 0px 1px 2px rgba(60, 64, 67, 0.3), 0px 1px 3px 1px rgba(60, 64, 67, 0.15);\n",
              "      fill: #174EA6;\n",
              "    }\n",
              "\n",
              "    [theme=dark] .colab-df-convert {\n",
              "      background-color: #3B4455;\n",
              "      fill: #D2E3FC;\n",
              "    }\n",
              "\n",
              "    [theme=dark] .colab-df-convert:hover {\n",
              "      background-color: #434B5C;\n",
              "      box-shadow: 0px 1px 3px 1px rgba(0, 0, 0, 0.15);\n",
              "      filter: drop-shadow(0px 1px 2px rgba(0, 0, 0, 0.3));\n",
              "      fill: #FFFFFF;\n",
              "    }\n",
              "  </style>\n",
              "\n",
              "      <script>\n",
              "        const buttonEl =\n",
              "          document.querySelector('#df-e883cd4e-b9d6-4f5f-9ae8-d6c295fa24c9 button.colab-df-convert');\n",
              "        buttonEl.style.display =\n",
              "          google.colab.kernel.accessAllowed ? 'block' : 'none';\n",
              "\n",
              "        async function convertToInteractive(key) {\n",
              "          const element = document.querySelector('#df-e883cd4e-b9d6-4f5f-9ae8-d6c295fa24c9');\n",
              "          const dataTable =\n",
              "            await google.colab.kernel.invokeFunction('convertToInteractive',\n",
              "                                                     [key], {});\n",
              "          if (!dataTable) return;\n",
              "\n",
              "          const docLinkHtml = 'Like what you see? Visit the ' +\n",
              "            '<a target=\"_blank\" href=https://colab.research.google.com/notebooks/data_table.ipynb>data table notebook</a>'\n",
              "            + ' to learn more about interactive tables.';\n",
              "          element.innerHTML = '';\n",
              "          dataTable['output_type'] = 'display_data';\n",
              "          await google.colab.output.renderOutput(dataTable, element);\n",
              "          const docLink = document.createElement('div');\n",
              "          docLink.innerHTML = docLinkHtml;\n",
              "          element.appendChild(docLink);\n",
              "        }\n",
              "      </script>\n",
              "    </div>\n",
              "  </div>\n",
              "  "
            ]
          },
          "metadata": {},
          "execution_count": 47
        }
      ]
    }
  ]
}
{
  "nbformat": 4,
  "nbformat_minor": 0,
  "metadata": {
    "colab": {
      "provenance": [],
      "toc_visible": true,
      "authorship_tag": "ABX9TyMl7V4bT2zpzu/u5GNR1X+P",
      "include_colab_link": true
    },
    "kernelspec": {
      "name": "python3",
      "display_name": "Python 3"
    },
    "language_info": {
      "name": "python"
    }
  },
  "cells": [
    {
      "cell_type": "markdown",
      "metadata": {
        "id": "view-in-github",
        "colab_type": "text"
      },
      "source": [
        "<a href=\"https://colab.research.google.com/github/melihkurtaran/MachineLearning/blob/main/Supervised_Learning_Assignment.ipynb\" target=\"_parent\"><img src=\"https://colab.research.google.com/assets/colab-badge.svg\" alt=\"Open In Colab\"/></a>"
      ]
    },
    {
      "cell_type": "markdown",
      "source": [
        "**Supervised Learning Project**"
      ],
      "metadata": {
        "id": "GppCzyeuamf8"
      }
    },
    {
      "cell_type": "markdown",
      "source": [
        "My Case is E (I have completed all the tasks)"
      ],
      "metadata": {
        "id": "BL1PSmsD4SXX"
      }
    },
    {
      "cell_type": "markdown",
      "source": [
        "In this project, a dataset which has been collected using readings of a multi-spectral imaging sensor installed in a drone intended\n",
        "to map a specific geographical area will be used for developing supervised machine learning models"
      ],
      "metadata": {
        "id": "eLv0t3rJa0j6"
      }
    },
    {
      "cell_type": "code",
      "source": [
        "#Load libraries\n",
        "import pandas as pd\n",
        "import numpy as np\n",
        "from scipy import stats\n",
        "from sklearn.decomposition import PCA\n",
        "import matplotlib.pyplot as plt\n",
        "from sklearn.svm import SVC\n",
        "from sklearn import tree\n",
        "from sklearn.feature_selection import SequentialFeatureSelector\n",
        "from sklearn.preprocessing import StandardScaler\n",
        "from sklearn.model_selection import GridSearchCV\n",
        "from sklearn.model_selection import RepeatedKFold\n",
        "from sklearn.model_selection import cross_val_score\n",
        "from numpy import mean, std\n",
        "from scipy.stats import sem\n",
        "from matplotlib import pyplot\n",
        "from sklearn.metrics import accuracy_score\n",
        "from sklearn.metrics import precision_score\n",
        "from sklearn.metrics import f1_score\n",
        "from sklearn.metrics import recall_score\n",
        "from sklearn.metrics import confusion_matrix\n",
        "import random\n",
        "from sklearn.model_selection import KFold\n",
        "from sklearn import preprocessing\n",
        "from sklearn.metrics import make_scorer\n",
        "from sklearn.model_selection import RepeatedStratifiedKFold, cross_validate\n",
        "from sklearn.preprocessing import PolynomialFeatures\n",
        "from sklearn.linear_model import LinearRegression\n",
        "from sklearn.ensemble import VotingClassifier\n",
        "from sklearn.ensemble import StackingClassifier\n",
        "from sklearn.ensemble import RandomForestClassifier\n",
        "from sklearn.metrics import classification_report\n",
        "from sklearn.metrics import mean_squared_error, r2_score"
      ],
      "metadata": {
        "id": "pa6HnPefayPF"
      },
      "execution_count": 220,
      "outputs": []
    },
    {
      "cell_type": "code",
      "source": [
        "#Connect to GitHub for faster access\n",
        "!git clone https://github.com/melihkurtaran/MachineLearning.git"
      ],
      "metadata": {
        "colab": {
          "base_uri": "https://localhost:8080/",
          "height": 0
        },
        "id": "l4ajC2Qv9gmN",
        "outputId": "784c4269-ed7b-456a-9af7-86f746942c4b"
      },
      "execution_count": 221,
      "outputs": [
        {
          "output_type": "stream",
          "name": "stdout",
          "text": [
            "fatal: destination path 'MachineLearning' already exists and is not an empty directory.\n"
          ]
        }
      ]
    },
    {
      "cell_type": "code",
      "source": [
        "# CSV to DataFrame \n",
        "ds_09 = pd.read_csv(\"MachineLearning/SupervisedLearning/ds_09.csv\")\n",
        "ds_09.head()"
      ],
      "metadata": {
        "colab": {
          "base_uri": "https://localhost:8080/",
          "height": 235
        },
        "id": "JamCD5_z9kff",
        "outputId": "7b339ab3-8509-4f3b-bfb9-8b17cf950bd4"
      },
      "execution_count": 222,
      "outputs": [
        {
          "output_type": "execute_result",
          "data": {
            "text/plain": [
              "     V01    V02    V03    V04    V05    V06    V07    V08   V09    V10  ...  \\\n",
              "0  14.65    NaN  46.46  15.74  49.84  17.95  21.59  60.14  2.85   8.99  ...   \n",
              "1  13.97    NaN  19.38   5.99  21.44  31.61  45.76  26.47  2.52  26.66  ...   \n",
              "2  12.14  53.27  62.25  11.42  28.51  33.03  42.41  52.27  4.68  25.59  ...   \n",
              "3   8.29  16.06  15.41   6.97  14.81  16.53  29.76  36.73  3.14  20.58  ...   \n",
              "4  10.02  47.28  45.67  10.43  13.07    NaN  35.22  19.96  3.34  35.50  ...   \n",
              "\n",
              "     V29    V30    V31    V32   V33    V34    V35    V36  class  target  \n",
              "0  59.10  13.22   0.00  11.56  3.70  17.89  13.76  15.75      4  0.5272  \n",
              "1  32.93  12.02  14.30  17.82  3.15  11.77  14.46  16.38      1  0.4937  \n",
              "2  25.71  12.50  23.18  14.60  4.08   5.87   6.52  14.25      2  0.5796  \n",
              "3  31.74   9.67   8.43  21.87  6.03  10.20  12.54   7.82      5  0.4098  \n",
              "4    NaN  12.20  18.88  23.72  3.16  15.35   8.81  14.93      1  0.5465  \n",
              "\n",
              "[5 rows x 38 columns]"
            ],
            "text/html": [
              "\n",
              "  <div id=\"df-b2887e7c-a077-4b18-a1a0-74ef12e0d8d9\">\n",
              "    <div class=\"colab-df-container\">\n",
              "      <div>\n",
              "<style scoped>\n",
              "    .dataframe tbody tr th:only-of-type {\n",
              "        vertical-align: middle;\n",
              "    }\n",
              "\n",
              "    .dataframe tbody tr th {\n",
              "        vertical-align: top;\n",
              "    }\n",
              "\n",
              "    .dataframe thead th {\n",
              "        text-align: right;\n",
              "    }\n",
              "</style>\n",
              "<table border=\"1\" class=\"dataframe\">\n",
              "  <thead>\n",
              "    <tr style=\"text-align: right;\">\n",
              "      <th></th>\n",
              "      <th>V01</th>\n",
              "      <th>V02</th>\n",
              "      <th>V03</th>\n",
              "      <th>V04</th>\n",
              "      <th>V05</th>\n",
              "      <th>V06</th>\n",
              "      <th>V07</th>\n",
              "      <th>V08</th>\n",
              "      <th>V09</th>\n",
              "      <th>V10</th>\n",
              "      <th>...</th>\n",
              "      <th>V29</th>\n",
              "      <th>V30</th>\n",
              "      <th>V31</th>\n",
              "      <th>V32</th>\n",
              "      <th>V33</th>\n",
              "      <th>V34</th>\n",
              "      <th>V35</th>\n",
              "      <th>V36</th>\n",
              "      <th>class</th>\n",
              "      <th>target</th>\n",
              "    </tr>\n",
              "  </thead>\n",
              "  <tbody>\n",
              "    <tr>\n",
              "      <th>0</th>\n",
              "      <td>14.65</td>\n",
              "      <td>NaN</td>\n",
              "      <td>46.46</td>\n",
              "      <td>15.74</td>\n",
              "      <td>49.84</td>\n",
              "      <td>17.95</td>\n",
              "      <td>21.59</td>\n",
              "      <td>60.14</td>\n",
              "      <td>2.85</td>\n",
              "      <td>8.99</td>\n",
              "      <td>...</td>\n",
              "      <td>59.10</td>\n",
              "      <td>13.22</td>\n",
              "      <td>0.00</td>\n",
              "      <td>11.56</td>\n",
              "      <td>3.70</td>\n",
              "      <td>17.89</td>\n",
              "      <td>13.76</td>\n",
              "      <td>15.75</td>\n",
              "      <td>4</td>\n",
              "      <td>0.5272</td>\n",
              "    </tr>\n",
              "    <tr>\n",
              "      <th>1</th>\n",
              "      <td>13.97</td>\n",
              "      <td>NaN</td>\n",
              "      <td>19.38</td>\n",
              "      <td>5.99</td>\n",
              "      <td>21.44</td>\n",
              "      <td>31.61</td>\n",
              "      <td>45.76</td>\n",
              "      <td>26.47</td>\n",
              "      <td>2.52</td>\n",
              "      <td>26.66</td>\n",
              "      <td>...</td>\n",
              "      <td>32.93</td>\n",
              "      <td>12.02</td>\n",
              "      <td>14.30</td>\n",
              "      <td>17.82</td>\n",
              "      <td>3.15</td>\n",
              "      <td>11.77</td>\n",
              "      <td>14.46</td>\n",
              "      <td>16.38</td>\n",
              "      <td>1</td>\n",
              "      <td>0.4937</td>\n",
              "    </tr>\n",
              "    <tr>\n",
              "      <th>2</th>\n",
              "      <td>12.14</td>\n",
              "      <td>53.27</td>\n",
              "      <td>62.25</td>\n",
              "      <td>11.42</td>\n",
              "      <td>28.51</td>\n",
              "      <td>33.03</td>\n",
              "      <td>42.41</td>\n",
              "      <td>52.27</td>\n",
              "      <td>4.68</td>\n",
              "      <td>25.59</td>\n",
              "      <td>...</td>\n",
              "      <td>25.71</td>\n",
              "      <td>12.50</td>\n",
              "      <td>23.18</td>\n",
              "      <td>14.60</td>\n",
              "      <td>4.08</td>\n",
              "      <td>5.87</td>\n",
              "      <td>6.52</td>\n",
              "      <td>14.25</td>\n",
              "      <td>2</td>\n",
              "      <td>0.5796</td>\n",
              "    </tr>\n",
              "    <tr>\n",
              "      <th>3</th>\n",
              "      <td>8.29</td>\n",
              "      <td>16.06</td>\n",
              "      <td>15.41</td>\n",
              "      <td>6.97</td>\n",
              "      <td>14.81</td>\n",
              "      <td>16.53</td>\n",
              "      <td>29.76</td>\n",
              "      <td>36.73</td>\n",
              "      <td>3.14</td>\n",
              "      <td>20.58</td>\n",
              "      <td>...</td>\n",
              "      <td>31.74</td>\n",
              "      <td>9.67</td>\n",
              "      <td>8.43</td>\n",
              "      <td>21.87</td>\n",
              "      <td>6.03</td>\n",
              "      <td>10.20</td>\n",
              "      <td>12.54</td>\n",
              "      <td>7.82</td>\n",
              "      <td>5</td>\n",
              "      <td>0.4098</td>\n",
              "    </tr>\n",
              "    <tr>\n",
              "      <th>4</th>\n",
              "      <td>10.02</td>\n",
              "      <td>47.28</td>\n",
              "      <td>45.67</td>\n",
              "      <td>10.43</td>\n",
              "      <td>13.07</td>\n",
              "      <td>NaN</td>\n",
              "      <td>35.22</td>\n",
              "      <td>19.96</td>\n",
              "      <td>3.34</td>\n",
              "      <td>35.50</td>\n",
              "      <td>...</td>\n",
              "      <td>NaN</td>\n",
              "      <td>12.20</td>\n",
              "      <td>18.88</td>\n",
              "      <td>23.72</td>\n",
              "      <td>3.16</td>\n",
              "      <td>15.35</td>\n",
              "      <td>8.81</td>\n",
              "      <td>14.93</td>\n",
              "      <td>1</td>\n",
              "      <td>0.5465</td>\n",
              "    </tr>\n",
              "  </tbody>\n",
              "</table>\n",
              "<p>5 rows × 38 columns</p>\n",
              "</div>\n",
              "      <button class=\"colab-df-convert\" onclick=\"convertToInteractive('df-b2887e7c-a077-4b18-a1a0-74ef12e0d8d9')\"\n",
              "              title=\"Convert this dataframe to an interactive table.\"\n",
              "              style=\"display:none;\">\n",
              "        \n",
              "  <svg xmlns=\"http://www.w3.org/2000/svg\" height=\"24px\"viewBox=\"0 0 24 24\"\n",
              "       width=\"24px\">\n",
              "    <path d=\"M0 0h24v24H0V0z\" fill=\"none\"/>\n",
              "    <path d=\"M18.56 5.44l.94 2.06.94-2.06 2.06-.94-2.06-.94-.94-2.06-.94 2.06-2.06.94zm-11 1L8.5 8.5l.94-2.06 2.06-.94-2.06-.94L8.5 2.5l-.94 2.06-2.06.94zm10 10l.94 2.06.94-2.06 2.06-.94-2.06-.94-.94-2.06-.94 2.06-2.06.94z\"/><path d=\"M17.41 7.96l-1.37-1.37c-.4-.4-.92-.59-1.43-.59-.52 0-1.04.2-1.43.59L10.3 9.45l-7.72 7.72c-.78.78-.78 2.05 0 2.83L4 21.41c.39.39.9.59 1.41.59.51 0 1.02-.2 1.41-.59l7.78-7.78 2.81-2.81c.8-.78.8-2.07 0-2.86zM5.41 20L4 18.59l7.72-7.72 1.47 1.35L5.41 20z\"/>\n",
              "  </svg>\n",
              "      </button>\n",
              "      \n",
              "  <style>\n",
              "    .colab-df-container {\n",
              "      display:flex;\n",
              "      flex-wrap:wrap;\n",
              "      gap: 12px;\n",
              "    }\n",
              "\n",
              "    .colab-df-convert {\n",
              "      background-color: #E8F0FE;\n",
              "      border: none;\n",
              "      border-radius: 50%;\n",
              "      cursor: pointer;\n",
              "      display: none;\n",
              "      fill: #1967D2;\n",
              "      height: 32px;\n",
              "      padding: 0 0 0 0;\n",
              "      width: 32px;\n",
              "    }\n",
              "\n",
              "    .colab-df-convert:hover {\n",
              "      background-color: #E2EBFA;\n",
              "      box-shadow: 0px 1px 2px rgba(60, 64, 67, 0.3), 0px 1px 3px 1px rgba(60, 64, 67, 0.15);\n",
              "      fill: #174EA6;\n",
              "    }\n",
              "\n",
              "    [theme=dark] .colab-df-convert {\n",
              "      background-color: #3B4455;\n",
              "      fill: #D2E3FC;\n",
              "    }\n",
              "\n",
              "    [theme=dark] .colab-df-convert:hover {\n",
              "      background-color: #434B5C;\n",
              "      box-shadow: 0px 1px 3px 1px rgba(0, 0, 0, 0.15);\n",
              "      filter: drop-shadow(0px 1px 2px rgba(0, 0, 0, 0.3));\n",
              "      fill: #FFFFFF;\n",
              "    }\n",
              "  </style>\n",
              "\n",
              "      <script>\n",
              "        const buttonEl =\n",
              "          document.querySelector('#df-b2887e7c-a077-4b18-a1a0-74ef12e0d8d9 button.colab-df-convert');\n",
              "        buttonEl.style.display =\n",
              "          google.colab.kernel.accessAllowed ? 'block' : 'none';\n",
              "\n",
              "        async function convertToInteractive(key) {\n",
              "          const element = document.querySelector('#df-b2887e7c-a077-4b18-a1a0-74ef12e0d8d9');\n",
              "          const dataTable =\n",
              "            await google.colab.kernel.invokeFunction('convertToInteractive',\n",
              "                                                     [key], {});\n",
              "          if (!dataTable) return;\n",
              "\n",
              "          const docLinkHtml = 'Like what you see? Visit the ' +\n",
              "            '<a target=\"_blank\" href=https://colab.research.google.com/notebooks/data_table.ipynb>data table notebook</a>'\n",
              "            + ' to learn more about interactive tables.';\n",
              "          element.innerHTML = '';\n",
              "          dataTable['output_type'] = 'display_data';\n",
              "          await google.colab.output.renderOutput(dataTable, element);\n",
              "          const docLink = document.createElement('div');\n",
              "          docLink.innerHTML = docLinkHtml;\n",
              "          element.appendChild(docLink);\n",
              "        }\n",
              "      </script>\n",
              "    </div>\n",
              "  </div>\n",
              "  "
            ]
          },
          "metadata": {},
          "execution_count": 222
        }
      ]
    },
    {
      "cell_type": "markdown",
      "source": [
        "There are 36 features and 2 values to be used in classification and regression tasks"
      ],
      "metadata": {
        "id": "RTZl1u5wbOAd"
      }
    },
    {
      "cell_type": "markdown",
      "source": [
        "# **T1 - Dataset preparation**"
      ],
      "metadata": {
        "id": "NYLONs-0vO2R"
      }
    },
    {
      "cell_type": "markdown",
      "source": [
        "The dataset needs to be preprocessed before using in models"
      ],
      "metadata": {
        "id": "YLU70i1IbxtU"
      }
    },
    {
      "cell_type": "markdown",
      "source": [
        "##**(a) removing missing values and outliers**"
      ],
      "metadata": {
        "id": "dimRzv9cblgX"
      }
    },
    {
      "cell_type": "markdown",
      "source": [
        "Samples have 38 rows, class and target row are never missing so thresh needs to setas 34 to drop samples with more than 4 missing feature values."
      ],
      "metadata": {
        "id": "uCwFgl6_fT6m"
      }
    },
    {
      "cell_type": "code",
      "source": [
        "# samples with more than 4 missing feature values are dropped\n",
        "print(\"Size before dropping: \" + str(len(ds_09)))\n",
        "ds_09 = ds_09.dropna(axis=0, thresh=34) # thresh: Require that many non-NA values\n",
        "print(\"Size after dropping: \" + str(len(ds_09)))"
      ],
      "metadata": {
        "colab": {
          "base_uri": "https://localhost:8080/",
          "height": 0
        },
        "id": "ZQdbxJkjfb7Y",
        "outputId": "1efe1236-d9d9-4c4b-f0f4-a1afe6f71de6"
      },
      "execution_count": 223,
      "outputs": [
        {
          "output_type": "stream",
          "name": "stdout",
          "text": [
            "Size before dropping: 1000\n",
            "Size after dropping: 967\n"
          ]
        }
      ]
    },
    {
      "cell_type": "markdown",
      "source": [
        "Filling remaining null values with the mean"
      ],
      "metadata": {
        "id": "1aQSe8wUiM_v"
      }
    },
    {
      "cell_type": "code",
      "source": [
        "# the remaining missing values are filled using the average value\n",
        "\n",
        "for i in ds_09.columns[ds_09.isnull().any(axis=0)]:  #Applying only on variables with NaN valuesfor bettter performance\n",
        "    ds_09[i].fillna(ds_09[i].mean(),inplace=True)"
      ],
      "metadata": {
        "id": "PGfcI4XygjBV"
      },
      "execution_count": 224,
      "outputs": []
    },
    {
      "cell_type": "code",
      "source": [
        "# We can see that we do not have any missing values anymore\n",
        "ds_09.isnull().values.any()"
      ],
      "metadata": {
        "colab": {
          "base_uri": "https://localhost:8080/",
          "height": 0
        },
        "id": "bXtth4kuhXyS",
        "outputId": "c7d89215-e716-481d-ea7f-2d9c4faa0984"
      },
      "execution_count": 225,
      "outputs": [
        {
          "output_type": "execute_result",
          "data": {
            "text/plain": [
              "False"
            ]
          },
          "metadata": {},
          "execution_count": 225
        }
      ]
    },
    {
      "cell_type": "markdown",
      "source": [
        "Removing outliers"
      ],
      "metadata": {
        "id": "Q55W-_y6iDQx"
      }
    },
    {
      "cell_type": "code",
      "source": [
        "# samples with at least one feature value with a z-score higher than 3 (i.e. an outlier) are discarded\n",
        "print(\"Size before removing outlier samples: \" + str(len(ds_09)))\n",
        "# code below for each column, first calculates Z-score of each value in the column, and remove all rows that have outliers in at least one column\n",
        "ds_09 = ds_09[(np.abs(stats.zscore(ds_09)) < 3).all(axis=1)] # axis=1 ensures that for each row, all column satisfy the constraint.\n",
        "print(\"Size after removing outlier samples: \" + str(len(ds_09)))"
      ],
      "metadata": {
        "colab": {
          "base_uri": "https://localhost:8080/",
          "height": 0
        },
        "id": "eIUDdCuniGPS",
        "outputId": "f8e6f583-3529-48f5-b722-ecf81532b30f"
      },
      "execution_count": 226,
      "outputs": [
        {
          "output_type": "stream",
          "name": "stdout",
          "text": [
            "Size before removing outlier samples: 967\n",
            "Size after removing outlier samples: 869\n"
          ]
        }
      ]
    },
    {
      "cell_type": "markdown",
      "source": [
        "##**(b) Dimensionality Reduction**"
      ],
      "metadata": {
        "id": "DE9QCf3pk8ho"
      }
    },
    {
      "cell_type": "markdown",
      "source": [
        "Creating X and y from the dataset"
      ],
      "metadata": {
        "id": "2Y3LKhgiX1vF"
      }
    },
    {
      "cell_type": "code",
      "source": [
        "X = ds_09.copy()\n",
        "X.drop(['class', 'target'], axis=1, inplace=True)\n",
        "y = ds_09['class']"
      ],
      "metadata": {
        "id": "177qDhhrX8mf"
      },
      "execution_count": 227,
      "outputs": []
    },
    {
      "cell_type": "markdown",
      "source": [
        "Keep only features that account for up to 95% of the variance of the data"
      ],
      "metadata": {
        "id": "Ui2HA9_pleek"
      }
    },
    {
      "cell_type": "code",
      "source": [
        "def find_optimal_num_components(df, threshold):\n",
        "    \"\"\"\n",
        "    Find the minimum number of components needed to achieve a given explained variance ratio in a PCA of the given dataframe.\n",
        "    \n",
        "    Parameters:\n",
        "        df (pandas.DataFrame): The data to perform PCA on.\n",
        "        threshold (float): The minimum explained variance ratio to achieve.\n",
        "        \n",
        "    Returns:\n",
        "        int: The minimum number of components needed to achieve the given explained variance ratio.\n",
        "    \"\"\"\n",
        "    for i in range(1, len(df.columns) + 1):\n",
        "        pca = PCA(n_components=i)\n",
        "        principal_components = pca.fit_transform(df)\n",
        "        variance = sum(pca.explained_variance_ratio_)\n",
        "        if variance >= threshold:\n",
        "            return i\n",
        "    print(\"Unable to perform for the given variance.\")\n",
        "    return 0\n",
        "\n",
        "# Find the minimum number of components needed to achieve 95% explained variance\n",
        "num_components = find_optimal_num_components(X, 0.95)\n",
        "print(f\"Number of components needed for 95% explained variance: {num_components}\")\n",
        "\n",
        "# Perform PCA with the optimal number of components\n",
        "pca = PCA(n_components=num_components)\n",
        "principal_components = pca.fit_transform(X)\n",
        "\n",
        "# Print the explained variance ratio and the transformed data\n",
        "print(f\"Explained variance ratio: {sum(pca.explained_variance_ratio_)}\")\n",
        "X = pd.DataFrame(data=principal_components, columns=[f\"pc {i+1}\" for i in range(num_components)])\n",
        "X.head(5)"
      ],
      "metadata": {
        "id": "vmcK1PUDcwie",
        "outputId": "d37a01a0-d7f5-4322-d48f-c3883eed605d",
        "colab": {
          "base_uri": "https://localhost:8080/",
          "height": 241
        }
      },
      "execution_count": 228,
      "outputs": [
        {
          "output_type": "stream",
          "name": "stdout",
          "text": [
            "Number of components needed for 95% explained variance: 15\n",
            "Explained variance ratio: 0.9567635117802035\n"
          ]
        },
        {
          "output_type": "execute_result",
          "data": {
            "text/plain": [
              "        pc 1       pc 2       pc 3       pc 4       pc 5       pc 6  \\\n",
              "0  46.321789   1.886644 -11.322145  -7.311741  20.715475  -4.950527   \n",
              "1 -12.328915  -6.429494  11.169730   8.098719 -10.904679  -4.729757   \n",
              "2   3.240360  37.055949 -11.372926   0.959288  11.682581  16.377551   \n",
              "3  16.327169 -13.971399  31.503065   7.189114 -21.133782   2.890429   \n",
              "4 -11.439719  15.433202  19.498964 -21.176775  -2.428384  -3.020236   \n",
              "\n",
              "        pc 7      pc 8      pc 9     pc 10     pc 11     pc 12     pc 13  \\\n",
              "0   0.706346  6.953267  3.537840  9.784506  4.255089 -1.070923 -1.632111   \n",
              "1  -3.827942  8.946575  4.939293  9.259626 -3.532233  2.507357 -1.524125   \n",
              "2   4.037160  4.419556 -3.821681 -0.497652 -1.348712  1.273029 -3.062338   \n",
              "3 -15.936597  5.844498 -2.188759 -0.984916 -0.761827  5.412638 -0.948662   \n",
              "4  14.807770 -6.290017 -1.741523 -4.843511  0.703888 -0.292440  0.255032   \n",
              "\n",
              "      pc 14     pc 15  \n",
              "0  1.950329 -3.063740  \n",
              "1 -0.303085  1.223547  \n",
              "2 -3.680973  3.855502  \n",
              "3  2.652619  0.163914  \n",
              "4 -2.396215  0.759542  "
            ],
            "text/html": [
              "\n",
              "  <div id=\"df-4a3e8800-7b82-4667-b36e-9a5760dddb02\">\n",
              "    <div class=\"colab-df-container\">\n",
              "      <div>\n",
              "<style scoped>\n",
              "    .dataframe tbody tr th:only-of-type {\n",
              "        vertical-align: middle;\n",
              "    }\n",
              "\n",
              "    .dataframe tbody tr th {\n",
              "        vertical-align: top;\n",
              "    }\n",
              "\n",
              "    .dataframe thead th {\n",
              "        text-align: right;\n",
              "    }\n",
              "</style>\n",
              "<table border=\"1\" class=\"dataframe\">\n",
              "  <thead>\n",
              "    <tr style=\"text-align: right;\">\n",
              "      <th></th>\n",
              "      <th>pc 1</th>\n",
              "      <th>pc 2</th>\n",
              "      <th>pc 3</th>\n",
              "      <th>pc 4</th>\n",
              "      <th>pc 5</th>\n",
              "      <th>pc 6</th>\n",
              "      <th>pc 7</th>\n",
              "      <th>pc 8</th>\n",
              "      <th>pc 9</th>\n",
              "      <th>pc 10</th>\n",
              "      <th>pc 11</th>\n",
              "      <th>pc 12</th>\n",
              "      <th>pc 13</th>\n",
              "      <th>pc 14</th>\n",
              "      <th>pc 15</th>\n",
              "    </tr>\n",
              "  </thead>\n",
              "  <tbody>\n",
              "    <tr>\n",
              "      <th>0</th>\n",
              "      <td>46.321789</td>\n",
              "      <td>1.886644</td>\n",
              "      <td>-11.322145</td>\n",
              "      <td>-7.311741</td>\n",
              "      <td>20.715475</td>\n",
              "      <td>-4.950527</td>\n",
              "      <td>0.706346</td>\n",
              "      <td>6.953267</td>\n",
              "      <td>3.537840</td>\n",
              "      <td>9.784506</td>\n",
              "      <td>4.255089</td>\n",
              "      <td>-1.070923</td>\n",
              "      <td>-1.632111</td>\n",
              "      <td>1.950329</td>\n",
              "      <td>-3.063740</td>\n",
              "    </tr>\n",
              "    <tr>\n",
              "      <th>1</th>\n",
              "      <td>-12.328915</td>\n",
              "      <td>-6.429494</td>\n",
              "      <td>11.169730</td>\n",
              "      <td>8.098719</td>\n",
              "      <td>-10.904679</td>\n",
              "      <td>-4.729757</td>\n",
              "      <td>-3.827942</td>\n",
              "      <td>8.946575</td>\n",
              "      <td>4.939293</td>\n",
              "      <td>9.259626</td>\n",
              "      <td>-3.532233</td>\n",
              "      <td>2.507357</td>\n",
              "      <td>-1.524125</td>\n",
              "      <td>-0.303085</td>\n",
              "      <td>1.223547</td>\n",
              "    </tr>\n",
              "    <tr>\n",
              "      <th>2</th>\n",
              "      <td>3.240360</td>\n",
              "      <td>37.055949</td>\n",
              "      <td>-11.372926</td>\n",
              "      <td>0.959288</td>\n",
              "      <td>11.682581</td>\n",
              "      <td>16.377551</td>\n",
              "      <td>4.037160</td>\n",
              "      <td>4.419556</td>\n",
              "      <td>-3.821681</td>\n",
              "      <td>-0.497652</td>\n",
              "      <td>-1.348712</td>\n",
              "      <td>1.273029</td>\n",
              "      <td>-3.062338</td>\n",
              "      <td>-3.680973</td>\n",
              "      <td>3.855502</td>\n",
              "    </tr>\n",
              "    <tr>\n",
              "      <th>3</th>\n",
              "      <td>16.327169</td>\n",
              "      <td>-13.971399</td>\n",
              "      <td>31.503065</td>\n",
              "      <td>7.189114</td>\n",
              "      <td>-21.133782</td>\n",
              "      <td>2.890429</td>\n",
              "      <td>-15.936597</td>\n",
              "      <td>5.844498</td>\n",
              "      <td>-2.188759</td>\n",
              "      <td>-0.984916</td>\n",
              "      <td>-0.761827</td>\n",
              "      <td>5.412638</td>\n",
              "      <td>-0.948662</td>\n",
              "      <td>2.652619</td>\n",
              "      <td>0.163914</td>\n",
              "    </tr>\n",
              "    <tr>\n",
              "      <th>4</th>\n",
              "      <td>-11.439719</td>\n",
              "      <td>15.433202</td>\n",
              "      <td>19.498964</td>\n",
              "      <td>-21.176775</td>\n",
              "      <td>-2.428384</td>\n",
              "      <td>-3.020236</td>\n",
              "      <td>14.807770</td>\n",
              "      <td>-6.290017</td>\n",
              "      <td>-1.741523</td>\n",
              "      <td>-4.843511</td>\n",
              "      <td>0.703888</td>\n",
              "      <td>-0.292440</td>\n",
              "      <td>0.255032</td>\n",
              "      <td>-2.396215</td>\n",
              "      <td>0.759542</td>\n",
              "    </tr>\n",
              "  </tbody>\n",
              "</table>\n",
              "</div>\n",
              "      <button class=\"colab-df-convert\" onclick=\"convertToInteractive('df-4a3e8800-7b82-4667-b36e-9a5760dddb02')\"\n",
              "              title=\"Convert this dataframe to an interactive table.\"\n",
              "              style=\"display:none;\">\n",
              "        \n",
              "  <svg xmlns=\"http://www.w3.org/2000/svg\" height=\"24px\"viewBox=\"0 0 24 24\"\n",
              "       width=\"24px\">\n",
              "    <path d=\"M0 0h24v24H0V0z\" fill=\"none\"/>\n",
              "    <path d=\"M18.56 5.44l.94 2.06.94-2.06 2.06-.94-2.06-.94-.94-2.06-.94 2.06-2.06.94zm-11 1L8.5 8.5l.94-2.06 2.06-.94-2.06-.94L8.5 2.5l-.94 2.06-2.06.94zm10 10l.94 2.06.94-2.06 2.06-.94-2.06-.94-.94-2.06-.94 2.06-2.06.94z\"/><path d=\"M17.41 7.96l-1.37-1.37c-.4-.4-.92-.59-1.43-.59-.52 0-1.04.2-1.43.59L10.3 9.45l-7.72 7.72c-.78.78-.78 2.05 0 2.83L4 21.41c.39.39.9.59 1.41.59.51 0 1.02-.2 1.41-.59l7.78-7.78 2.81-2.81c.8-.78.8-2.07 0-2.86zM5.41 20L4 18.59l7.72-7.72 1.47 1.35L5.41 20z\"/>\n",
              "  </svg>\n",
              "      </button>\n",
              "      \n",
              "  <style>\n",
              "    .colab-df-container {\n",
              "      display:flex;\n",
              "      flex-wrap:wrap;\n",
              "      gap: 12px;\n",
              "    }\n",
              "\n",
              "    .colab-df-convert {\n",
              "      background-color: #E8F0FE;\n",
              "      border: none;\n",
              "      border-radius: 50%;\n",
              "      cursor: pointer;\n",
              "      display: none;\n",
              "      fill: #1967D2;\n",
              "      height: 32px;\n",
              "      padding: 0 0 0 0;\n",
              "      width: 32px;\n",
              "    }\n",
              "\n",
              "    .colab-df-convert:hover {\n",
              "      background-color: #E2EBFA;\n",
              "      box-shadow: 0px 1px 2px rgba(60, 64, 67, 0.3), 0px 1px 3px 1px rgba(60, 64, 67, 0.15);\n",
              "      fill: #174EA6;\n",
              "    }\n",
              "\n",
              "    [theme=dark] .colab-df-convert {\n",
              "      background-color: #3B4455;\n",
              "      fill: #D2E3FC;\n",
              "    }\n",
              "\n",
              "    [theme=dark] .colab-df-convert:hover {\n",
              "      background-color: #434B5C;\n",
              "      box-shadow: 0px 1px 3px 1px rgba(0, 0, 0, 0.15);\n",
              "      filter: drop-shadow(0px 1px 2px rgba(0, 0, 0, 0.3));\n",
              "      fill: #FFFFFF;\n",
              "    }\n",
              "  </style>\n",
              "\n",
              "      <script>\n",
              "        const buttonEl =\n",
              "          document.querySelector('#df-4a3e8800-7b82-4667-b36e-9a5760dddb02 button.colab-df-convert');\n",
              "        buttonEl.style.display =\n",
              "          google.colab.kernel.accessAllowed ? 'block' : 'none';\n",
              "\n",
              "        async function convertToInteractive(key) {\n",
              "          const element = document.querySelector('#df-4a3e8800-7b82-4667-b36e-9a5760dddb02');\n",
              "          const dataTable =\n",
              "            await google.colab.kernel.invokeFunction('convertToInteractive',\n",
              "                                                     [key], {});\n",
              "          if (!dataTable) return;\n",
              "\n",
              "          const docLinkHtml = 'Like what you see? Visit the ' +\n",
              "            '<a target=\"_blank\" href=https://colab.research.google.com/notebooks/data_table.ipynb>data table notebook</a>'\n",
              "            + ' to learn more about interactive tables.';\n",
              "          element.innerHTML = '';\n",
              "          dataTable['output_type'] = 'display_data';\n",
              "          await google.colab.output.renderOutput(dataTable, element);\n",
              "          const docLink = document.createElement('div');\n",
              "          docLink.innerHTML = docLinkHtml;\n",
              "          element.appendChild(docLink);\n",
              "        }\n",
              "      </script>\n",
              "    </div>\n",
              "  </div>\n",
              "  "
            ]
          },
          "metadata": {},
          "execution_count": 228
        }
      ]
    },
    {
      "cell_type": "markdown",
      "source": [
        "##**(c) Standardization**"
      ],
      "metadata": {
        "id": "oPXJTuH1wlJO"
      }
    },
    {
      "cell_type": "markdown",
      "source": [
        "mu-sigma standardization is used to normalize the features"
      ],
      "metadata": {
        "id": "gi5LQ2bSx_wC"
      }
    },
    {
      "cell_type": "code",
      "source": [
        "# define mu-sigma standardizer scaler\n",
        "ss = StandardScaler()\n",
        "  \n",
        "# transform data\n",
        "X = pd.DataFrame(ss.fit_transform(X),columns = X.columns)\n",
        "X.head()"
      ],
      "metadata": {
        "colab": {
          "base_uri": "https://localhost:8080/",
          "height": 206
        },
        "id": "RzN13zNVtmGv",
        "outputId": "b4673ee3-ab71-47f6-a6bf-4c4c742ffe1a"
      },
      "execution_count": 229,
      "outputs": [
        {
          "output_type": "execute_result",
          "data": {
            "text/plain": [
              "       pc 1      pc 2      pc 3      pc 4      pc 5      pc 6      pc 7  \\\n",
              "0  2.284703  0.133656 -0.906135 -0.626408  2.207494 -0.577474  0.094651   \n",
              "1 -0.608092 -0.455487  0.893937  0.693830 -1.162031 -0.551721 -0.512949   \n",
              "2  0.159822  2.625165 -0.910199  0.082184  1.244926  1.910424  0.540985   \n",
              "3  0.805296 -0.989780  2.521257  0.615902 -2.252070  0.337166 -2.135525   \n",
              "4 -0.564235  1.093339  1.560543 -1.814247 -0.258775 -0.352307  1.984261   \n",
              "\n",
              "       pc 8      pc 9     pc 10     pc 11     pc 12     pc 13     pc 14  \\\n",
              "0  1.137382  0.699196  1.991889  0.961907 -0.253459 -0.435886  0.528561   \n",
              "1  1.463438  0.976171  1.885036 -0.798498  0.593425 -0.407046 -0.082139   \n",
              "2  0.722930 -0.755293 -0.101310 -0.304890  0.301292 -0.817855 -0.997584   \n",
              "3  0.956015 -0.432572 -0.200505 -0.172219  1.281028 -0.253358  0.718889   \n",
              "4 -1.028891 -0.344184 -0.986022  0.159121 -0.069213  0.068111 -0.649401   \n",
              "\n",
              "      pc 15  \n",
              "0 -0.959740  \n",
              "1  0.383285  \n",
              "2  1.207765  \n",
              "3  0.051347  \n",
              "4  0.237932  "
            ],
            "text/html": [
              "\n",
              "  <div id=\"df-5ea087ab-11b0-4565-b375-b272b95e6566\">\n",
              "    <div class=\"colab-df-container\">\n",
              "      <div>\n",
              "<style scoped>\n",
              "    .dataframe tbody tr th:only-of-type {\n",
              "        vertical-align: middle;\n",
              "    }\n",
              "\n",
              "    .dataframe tbody tr th {\n",
              "        vertical-align: top;\n",
              "    }\n",
              "\n",
              "    .dataframe thead th {\n",
              "        text-align: right;\n",
              "    }\n",
              "</style>\n",
              "<table border=\"1\" class=\"dataframe\">\n",
              "  <thead>\n",
              "    <tr style=\"text-align: right;\">\n",
              "      <th></th>\n",
              "      <th>pc 1</th>\n",
              "      <th>pc 2</th>\n",
              "      <th>pc 3</th>\n",
              "      <th>pc 4</th>\n",
              "      <th>pc 5</th>\n",
              "      <th>pc 6</th>\n",
              "      <th>pc 7</th>\n",
              "      <th>pc 8</th>\n",
              "      <th>pc 9</th>\n",
              "      <th>pc 10</th>\n",
              "      <th>pc 11</th>\n",
              "      <th>pc 12</th>\n",
              "      <th>pc 13</th>\n",
              "      <th>pc 14</th>\n",
              "      <th>pc 15</th>\n",
              "    </tr>\n",
              "  </thead>\n",
              "  <tbody>\n",
              "    <tr>\n",
              "      <th>0</th>\n",
              "      <td>2.284703</td>\n",
              "      <td>0.133656</td>\n",
              "      <td>-0.906135</td>\n",
              "      <td>-0.626408</td>\n",
              "      <td>2.207494</td>\n",
              "      <td>-0.577474</td>\n",
              "      <td>0.094651</td>\n",
              "      <td>1.137382</td>\n",
              "      <td>0.699196</td>\n",
              "      <td>1.991889</td>\n",
              "      <td>0.961907</td>\n",
              "      <td>-0.253459</td>\n",
              "      <td>-0.435886</td>\n",
              "      <td>0.528561</td>\n",
              "      <td>-0.959740</td>\n",
              "    </tr>\n",
              "    <tr>\n",
              "      <th>1</th>\n",
              "      <td>-0.608092</td>\n",
              "      <td>-0.455487</td>\n",
              "      <td>0.893937</td>\n",
              "      <td>0.693830</td>\n",
              "      <td>-1.162031</td>\n",
              "      <td>-0.551721</td>\n",
              "      <td>-0.512949</td>\n",
              "      <td>1.463438</td>\n",
              "      <td>0.976171</td>\n",
              "      <td>1.885036</td>\n",
              "      <td>-0.798498</td>\n",
              "      <td>0.593425</td>\n",
              "      <td>-0.407046</td>\n",
              "      <td>-0.082139</td>\n",
              "      <td>0.383285</td>\n",
              "    </tr>\n",
              "    <tr>\n",
              "      <th>2</th>\n",
              "      <td>0.159822</td>\n",
              "      <td>2.625165</td>\n",
              "      <td>-0.910199</td>\n",
              "      <td>0.082184</td>\n",
              "      <td>1.244926</td>\n",
              "      <td>1.910424</td>\n",
              "      <td>0.540985</td>\n",
              "      <td>0.722930</td>\n",
              "      <td>-0.755293</td>\n",
              "      <td>-0.101310</td>\n",
              "      <td>-0.304890</td>\n",
              "      <td>0.301292</td>\n",
              "      <td>-0.817855</td>\n",
              "      <td>-0.997584</td>\n",
              "      <td>1.207765</td>\n",
              "    </tr>\n",
              "    <tr>\n",
              "      <th>3</th>\n",
              "      <td>0.805296</td>\n",
              "      <td>-0.989780</td>\n",
              "      <td>2.521257</td>\n",
              "      <td>0.615902</td>\n",
              "      <td>-2.252070</td>\n",
              "      <td>0.337166</td>\n",
              "      <td>-2.135525</td>\n",
              "      <td>0.956015</td>\n",
              "      <td>-0.432572</td>\n",
              "      <td>-0.200505</td>\n",
              "      <td>-0.172219</td>\n",
              "      <td>1.281028</td>\n",
              "      <td>-0.253358</td>\n",
              "      <td>0.718889</td>\n",
              "      <td>0.051347</td>\n",
              "    </tr>\n",
              "    <tr>\n",
              "      <th>4</th>\n",
              "      <td>-0.564235</td>\n",
              "      <td>1.093339</td>\n",
              "      <td>1.560543</td>\n",
              "      <td>-1.814247</td>\n",
              "      <td>-0.258775</td>\n",
              "      <td>-0.352307</td>\n",
              "      <td>1.984261</td>\n",
              "      <td>-1.028891</td>\n",
              "      <td>-0.344184</td>\n",
              "      <td>-0.986022</td>\n",
              "      <td>0.159121</td>\n",
              "      <td>-0.069213</td>\n",
              "      <td>0.068111</td>\n",
              "      <td>-0.649401</td>\n",
              "      <td>0.237932</td>\n",
              "    </tr>\n",
              "  </tbody>\n",
              "</table>\n",
              "</div>\n",
              "      <button class=\"colab-df-convert\" onclick=\"convertToInteractive('df-5ea087ab-11b0-4565-b375-b272b95e6566')\"\n",
              "              title=\"Convert this dataframe to an interactive table.\"\n",
              "              style=\"display:none;\">\n",
              "        \n",
              "  <svg xmlns=\"http://www.w3.org/2000/svg\" height=\"24px\"viewBox=\"0 0 24 24\"\n",
              "       width=\"24px\">\n",
              "    <path d=\"M0 0h24v24H0V0z\" fill=\"none\"/>\n",
              "    <path d=\"M18.56 5.44l.94 2.06.94-2.06 2.06-.94-2.06-.94-.94-2.06-.94 2.06-2.06.94zm-11 1L8.5 8.5l.94-2.06 2.06-.94-2.06-.94L8.5 2.5l-.94 2.06-2.06.94zm10 10l.94 2.06.94-2.06 2.06-.94-2.06-.94-.94-2.06-.94 2.06-2.06.94z\"/><path d=\"M17.41 7.96l-1.37-1.37c-.4-.4-.92-.59-1.43-.59-.52 0-1.04.2-1.43.59L10.3 9.45l-7.72 7.72c-.78.78-.78 2.05 0 2.83L4 21.41c.39.39.9.59 1.41.59.51 0 1.02-.2 1.41-.59l7.78-7.78 2.81-2.81c.8-.78.8-2.07 0-2.86zM5.41 20L4 18.59l7.72-7.72 1.47 1.35L5.41 20z\"/>\n",
              "  </svg>\n",
              "      </button>\n",
              "      \n",
              "  <style>\n",
              "    .colab-df-container {\n",
              "      display:flex;\n",
              "      flex-wrap:wrap;\n",
              "      gap: 12px;\n",
              "    }\n",
              "\n",
              "    .colab-df-convert {\n",
              "      background-color: #E8F0FE;\n",
              "      border: none;\n",
              "      border-radius: 50%;\n",
              "      cursor: pointer;\n",
              "      display: none;\n",
              "      fill: #1967D2;\n",
              "      height: 32px;\n",
              "      padding: 0 0 0 0;\n",
              "      width: 32px;\n",
              "    }\n",
              "\n",
              "    .colab-df-convert:hover {\n",
              "      background-color: #E2EBFA;\n",
              "      box-shadow: 0px 1px 2px rgba(60, 64, 67, 0.3), 0px 1px 3px 1px rgba(60, 64, 67, 0.15);\n",
              "      fill: #174EA6;\n",
              "    }\n",
              "\n",
              "    [theme=dark] .colab-df-convert {\n",
              "      background-color: #3B4455;\n",
              "      fill: #D2E3FC;\n",
              "    }\n",
              "\n",
              "    [theme=dark] .colab-df-convert:hover {\n",
              "      background-color: #434B5C;\n",
              "      box-shadow: 0px 1px 3px 1px rgba(0, 0, 0, 0.15);\n",
              "      filter: drop-shadow(0px 1px 2px rgba(0, 0, 0, 0.3));\n",
              "      fill: #FFFFFF;\n",
              "    }\n",
              "  </style>\n",
              "\n",
              "      <script>\n",
              "        const buttonEl =\n",
              "          document.querySelector('#df-5ea087ab-11b0-4565-b375-b272b95e6566 button.colab-df-convert');\n",
              "        buttonEl.style.display =\n",
              "          google.colab.kernel.accessAllowed ? 'block' : 'none';\n",
              "\n",
              "        async function convertToInteractive(key) {\n",
              "          const element = document.querySelector('#df-5ea087ab-11b0-4565-b375-b272b95e6566');\n",
              "          const dataTable =\n",
              "            await google.colab.kernel.invokeFunction('convertToInteractive',\n",
              "                                                     [key], {});\n",
              "          if (!dataTable) return;\n",
              "\n",
              "          const docLinkHtml = 'Like what you see? Visit the ' +\n",
              "            '<a target=\"_blank\" href=https://colab.research.google.com/notebooks/data_table.ipynb>data table notebook</a>'\n",
              "            + ' to learn more about interactive tables.';\n",
              "          element.innerHTML = '';\n",
              "          dataTable['output_type'] = 'display_data';\n",
              "          await google.colab.output.renderOutput(dataTable, element);\n",
              "          const docLink = document.createElement('div');\n",
              "          docLink.innerHTML = docLinkHtml;\n",
              "          element.appendChild(docLink);\n",
              "        }\n",
              "      </script>\n",
              "    </div>\n",
              "  </div>\n",
              "  "
            ]
          },
          "metadata": {},
          "execution_count": 229
        }
      ]
    },
    {
      "cell_type": "markdown",
      "source": [
        "##**(d) Calculate IR**"
      ],
      "metadata": {
        "id": "TCw8fesFyNh7"
      }
    },
    {
      "cell_type": "markdown",
      "source": [
        "The Imbalance Ratio (IR) is the ratio between the number of samples from the majority class and the number of samples from the minority class"
      ],
      "metadata": {
        "id": "PXy4jvylyWGS"
      }
    },
    {
      "cell_type": "code",
      "source": [
        "ds_09['class'].value_counts() #Observe majority and minority class"
      ],
      "metadata": {
        "colab": {
          "base_uri": "https://localhost:8080/",
          "height": 0
        },
        "id": "DftdYElnyoSQ",
        "outputId": "3af6d74a-387e-4afa-9d24-44feb5baaade"
      },
      "execution_count": 230,
      "outputs": [
        {
          "output_type": "execute_result",
          "data": {
            "text/plain": [
              "1    230\n",
              "4    224\n",
              "5    148\n",
              "0    132\n",
              "3     68\n",
              "2     67\n",
              "Name: class, dtype: int64"
            ]
          },
          "metadata": {},
          "execution_count": 230
        }
      ]
    },
    {
      "cell_type": "code",
      "source": [
        "IR = ds_09['class'].value_counts().max() / ds_09['class'].value_counts().min()\n",
        "print('Imbalance Ratio: ' + str(IR))"
      ],
      "metadata": {
        "colab": {
          "base_uri": "https://localhost:8080/",
          "height": 0
        },
        "id": "y1XKxgpXzoXT",
        "outputId": "67f51f79-36fc-4239-dfc8-8df18f42b24b"
      },
      "execution_count": 231,
      "outputs": [
        {
          "output_type": "stream",
          "name": "stdout",
          "text": [
            "Imbalance Ratio: 3.4328358208955225\n"
          ]
        }
      ]
    },
    {
      "cell_type": "markdown",
      "source": [
        "# **T2 - Classifier design (I)**"
      ],
      "metadata": {
        "id": "T2NdIWQpvUEj"
      }
    },
    {
      "cell_type": "markdown",
      "source": [
        "4 different classifiers are defined in this task"
      ],
      "metadata": {
        "id": "w9phrv4faK-v"
      }
    },
    {
      "cell_type": "markdown",
      "source": [
        "## **(a) Find the best configuration for each model**"
      ],
      "metadata": {
        "id": "R0UU-TMohWf4"
      }
    },
    {
      "cell_type": "markdown",
      "source": [
        "Best parameters found by GridSearchCV"
      ],
      "metadata": {
        "id": "sBVHV-cfhssC"
      }
    },
    {
      "cell_type": "markdown",
      "source": [
        "Since the data imbalanced, it is better to use F1 score not the accuracy so all optimization is done based on weighted F1 score"
      ],
      "metadata": {
        "id": "4Y7wUCa1hwG6"
      }
    },
    {
      "cell_type": "markdown",
      "source": [
        "### **1) Gaussian Naive Bayes (GNB)**"
      ],
      "metadata": {
        "id": "wLOCN1UPaP7q"
      }
    },
    {
      "cell_type": "code",
      "source": [
        "from sklearn.naive_bayes import GaussianNB\n",
        "model_gnb = GaussianNB()"
      ],
      "metadata": {
        "id": "IMr9gFvWbEno"
      },
      "execution_count": 232,
      "outputs": []
    },
    {
      "cell_type": "markdown",
      "source": [
        "### **2) Logistic Regression (LR)**"
      ],
      "metadata": {
        "id": "sNtEeFtqa-8E"
      }
    },
    {
      "cell_type": "code",
      "source": [
        "from sklearn.linear_model import LogisticRegression\n",
        "model_lr = LogisticRegression(solver='saga', max_iter=5000, tol=0.001)\n",
        "param_lr = [{'penalty': ['l1','l2','none'],'C': [0.1, 1, 10]}]\n",
        "\n",
        "gs_lr = GridSearchCV(model_lr,\n",
        "                      param_grid=param_lr,\n",
        "                      scoring='f1_weighted',\n",
        "                      cv=5)\n",
        "gs_lr.fit(X, y)\n",
        "gs_lr.best_params_"
      ],
      "metadata": {
        "id": "Y8mS2RV7vUj2",
        "colab": {
          "base_uri": "https://localhost:8080/",
          "height": 0
        },
        "outputId": "15523305-ddba-4205-8bd3-1082e64cef80"
      },
      "execution_count": 233,
      "outputs": [
        {
          "output_type": "stream",
          "name": "stderr",
          "text": [
            "/usr/local/lib/python3.8/dist-packages/sklearn/linear_model/_logistic.py:1483: UserWarning: Setting penalty='none' will ignore the C and l1_ratio parameters\n",
            "  warnings.warn(\n",
            "/usr/local/lib/python3.8/dist-packages/sklearn/linear_model/_logistic.py:1483: UserWarning: Setting penalty='none' will ignore the C and l1_ratio parameters\n",
            "  warnings.warn(\n",
            "/usr/local/lib/python3.8/dist-packages/sklearn/linear_model/_logistic.py:1483: UserWarning: Setting penalty='none' will ignore the C and l1_ratio parameters\n",
            "  warnings.warn(\n",
            "/usr/local/lib/python3.8/dist-packages/sklearn/linear_model/_logistic.py:1483: UserWarning: Setting penalty='none' will ignore the C and l1_ratio parameters\n",
            "  warnings.warn(\n",
            "/usr/local/lib/python3.8/dist-packages/sklearn/linear_model/_logistic.py:1483: UserWarning: Setting penalty='none' will ignore the C and l1_ratio parameters\n",
            "  warnings.warn(\n",
            "/usr/local/lib/python3.8/dist-packages/sklearn/linear_model/_logistic.py:1483: UserWarning: Setting penalty='none' will ignore the C and l1_ratio parameters\n",
            "  warnings.warn(\n",
            "/usr/local/lib/python3.8/dist-packages/sklearn/linear_model/_logistic.py:1483: UserWarning: Setting penalty='none' will ignore the C and l1_ratio parameters\n",
            "  warnings.warn(\n",
            "/usr/local/lib/python3.8/dist-packages/sklearn/linear_model/_logistic.py:1483: UserWarning: Setting penalty='none' will ignore the C and l1_ratio parameters\n",
            "  warnings.warn(\n",
            "/usr/local/lib/python3.8/dist-packages/sklearn/linear_model/_logistic.py:1483: UserWarning: Setting penalty='none' will ignore the C and l1_ratio parameters\n",
            "  warnings.warn(\n",
            "/usr/local/lib/python3.8/dist-packages/sklearn/linear_model/_logistic.py:1483: UserWarning: Setting penalty='none' will ignore the C and l1_ratio parameters\n",
            "  warnings.warn(\n"
          ]
        },
        {
          "output_type": "execute_result",
          "data": {
            "text/plain": [
              "{'C': 0.1, 'penalty': 'l2'}"
            ]
          },
          "metadata": {},
          "execution_count": 233
        }
      ]
    },
    {
      "cell_type": "markdown",
      "source": [
        "Best C value is 0.1 and best penalty value is l2."
      ],
      "metadata": {
        "id": "7Wo2oJXgh82b"
      }
    },
    {
      "cell_type": "code",
      "source": [
        "model_lr = LogisticRegression(solver='saga', max_iter=5000, tol=0.001, C=0.1, penalty='l2')"
      ],
      "metadata": {
        "id": "5AXSdMYMiCjs"
      },
      "execution_count": 234,
      "outputs": []
    },
    {
      "cell_type": "markdown",
      "source": [
        "### **3) Decision Tree (DT)**"
      ],
      "metadata": {
        "id": "NgXk1-pjbFgW"
      }
    },
    {
      "cell_type": "code",
      "source": [
        "model_dt = tree.DecisionTreeClassifier()\n",
        "param_dt = [{'criterion': ['gini','entropy'],'max_depth': [3, 5, None],'min_samples_leaf': [1, 5, 10]}]\n",
        "\n",
        "gs_dt = GridSearchCV(model_dt,\n",
        "                      param_grid=param_dt,\n",
        "                      scoring='f1_weighted',\n",
        "                      cv=5)\n",
        "gs_dt.fit(X, y)\n",
        "gs_dt.best_params_"
      ],
      "metadata": {
        "colab": {
          "base_uri": "https://localhost:8080/",
          "height": 0
        },
        "id": "XOyXAxTpbF1U",
        "outputId": "fbdb5566-8bb9-4249-8065-2175e3cc23f2"
      },
      "execution_count": 235,
      "outputs": [
        {
          "output_type": "execute_result",
          "data": {
            "text/plain": [
              "{'criterion': 'gini', 'max_depth': None, 'min_samples_leaf': 1}"
            ]
          },
          "metadata": {},
          "execution_count": 235
        }
      ]
    },
    {
      "cell_type": "markdown",
      "source": [
        "Best criterion value is entropy, better to set max_dept default which is None and best min. sample leaf is 1."
      ],
      "metadata": {
        "id": "9Hncv5p1ioSc"
      }
    },
    {
      "cell_type": "code",
      "source": [
        "model_dt = tree.DecisionTreeClassifier(criterion='entropy', max_depth=None, min_samples_leaf=1)"
      ],
      "metadata": {
        "id": "7rznciV0i00J"
      },
      "execution_count": 236,
      "outputs": []
    },
    {
      "cell_type": "markdown",
      "source": [
        "### **4) Support Vector Machine (SVM)**"
      ],
      "metadata": {
        "id": "-EnYYrfubGQk"
      }
    },
    {
      "cell_type": "code",
      "source": [
        "from sklearn import svm\n",
        "model_svm = svm.SVC(gamma='scale', probability=True, max_iter=5000, tol=0.05)\n",
        "param_svm = [{'kernel': ['linear','poly','rbf'],'C': [0.1, 1, 10]}]\n",
        "\n",
        "gs_svm = GridSearchCV(model_svm,\n",
        "                      param_grid=param_svm,\n",
        "                      scoring='f1_weighted',\n",
        "                      cv=5)\n",
        "gs_svm.fit(X, y)\n",
        "gs_svm.best_params_"
      ],
      "metadata": {
        "colab": {
          "base_uri": "https://localhost:8080/",
          "height": 0
        },
        "id": "rUwiMWqCbGh8",
        "outputId": "638e99b9-e53a-4145-d184-3c43203c5170"
      },
      "execution_count": 237,
      "outputs": [
        {
          "output_type": "stream",
          "name": "stderr",
          "text": [
            "/usr/local/lib/python3.8/dist-packages/sklearn/svm/_base.py:284: ConvergenceWarning: Solver terminated early (max_iter=5000).  Consider pre-processing your data with StandardScaler or MinMaxScaler.\n",
            "  warnings.warn(\n",
            "/usr/local/lib/python3.8/dist-packages/sklearn/svm/_base.py:284: ConvergenceWarning: Solver terminated early (max_iter=5000).  Consider pre-processing your data with StandardScaler or MinMaxScaler.\n",
            "  warnings.warn(\n",
            "/usr/local/lib/python3.8/dist-packages/sklearn/svm/_base.py:284: ConvergenceWarning: Solver terminated early (max_iter=5000).  Consider pre-processing your data with StandardScaler or MinMaxScaler.\n",
            "  warnings.warn(\n",
            "/usr/local/lib/python3.8/dist-packages/sklearn/svm/_base.py:284: ConvergenceWarning: Solver terminated early (max_iter=5000).  Consider pre-processing your data with StandardScaler or MinMaxScaler.\n",
            "  warnings.warn(\n",
            "/usr/local/lib/python3.8/dist-packages/sklearn/svm/_base.py:284: ConvergenceWarning: Solver terminated early (max_iter=5000).  Consider pre-processing your data with StandardScaler or MinMaxScaler.\n",
            "  warnings.warn(\n"
          ]
        },
        {
          "output_type": "execute_result",
          "data": {
            "text/plain": [
              "{'C': 10, 'kernel': 'rbf'}"
            ]
          },
          "metadata": {},
          "execution_count": 237
        }
      ]
    },
    {
      "cell_type": "markdown",
      "source": [
        "Best C value is 10 and the best kernel value is rbf"
      ],
      "metadata": {
        "id": "o5jPjkfWjyO6"
      }
    },
    {
      "cell_type": "code",
      "source": [
        "model_svm = svm.SVC(gamma='scale', probability=True, max_iter=5000, tol=0.05, C=10, kernel='rbf')"
      ],
      "metadata": {
        "id": "jBRPExd6j9Vr"
      },
      "execution_count": 238,
      "outputs": []
    },
    {
      "cell_type": "markdown",
      "source": [
        "## **b) Estimate the accuracy, precision, recall and F1 scores**"
      ],
      "metadata": {
        "id": "GwzizNRbkKyJ"
      }
    },
    {
      "cell_type": "code",
      "source": [
        "# specifying the evaluation metrics\n",
        "scoring = {'acc': 'accuracy',\n",
        "           'pre': make_scorer(precision_score, average='weighted'),\n",
        "           'rec': make_scorer(recall_score, average='weighted'),\n",
        "           'f1': make_scorer(f1_score, average='weighted')}\n",
        "\n",
        "# creating the cross-validation using 3-repetition, 5-fold \n",
        "cv = RepeatedStratifiedKFold(n_splits=5, n_repeats=3)\n",
        "\n",
        "# creating a dictionary to store the mean scores for each model\n",
        "scores_mean = {}\n",
        "\n",
        "models = [model_gnb,model_lr,model_dt,model_svm]\n",
        "modelNames = ['GNB','LR','DT','SVM']\n",
        "i = 0\n",
        "\n",
        "for m in models: # for each classifiers\n",
        "  # evaluate the classifier using 3-repetition, 5-fold cross-validation\n",
        "  scores = cross_validate(m, X, y, scoring=scoring, cv=cv, n_jobs=-1)\n",
        "\n",
        "  print('MODEL: ' + modelNames[i]) #printing what the model is\n",
        "  i += 1\n",
        "  # store the mean scores for each evaluation metric in the scores_mean dictionary\n",
        "  scores_mean[str(m)] = {}\n",
        "  for metric in scoring:\n",
        "    mean = np.mean(scores['test_' + metric])\n",
        "    scores_mean[str(m)][metric] = mean\n",
        "    std = np.std(scores['test_' + metric])\n",
        "    print(f'{metric}: {mean:.4f} (+/- {std * 2:.4f})')\n",
        "  print()\n",
        " \n"
      ],
      "metadata": {
        "colab": {
          "base_uri": "https://localhost:8080/",
          "height": 0
        },
        "id": "2LLs6uh-Hfvc",
        "outputId": "4aefadc7-6941-42a7-e980-33fe99449539"
      },
      "execution_count": 239,
      "outputs": [
        {
          "output_type": "stream",
          "name": "stdout",
          "text": [
            "MODEL: GNB\n",
            "acc: 0.5884 (+/- 0.0384)\n",
            "pre: 0.6132 (+/- 0.0613)\n",
            "rec: 0.5884 (+/- 0.0384)\n",
            "f1: 0.5879 (+/- 0.0444)\n",
            "\n",
            "MODEL: LR\n",
            "acc: 0.5631 (+/- 0.0584)\n",
            "pre: 0.5867 (+/- 0.0515)\n",
            "rec: 0.5631 (+/- 0.0584)\n",
            "f1: 0.5601 (+/- 0.0580)\n",
            "\n",
            "MODEL: DT\n",
            "acc: 0.5443 (+/- 0.0560)\n",
            "pre: 0.5483 (+/- 0.0527)\n",
            "rec: 0.5443 (+/- 0.0560)\n",
            "f1: 0.5431 (+/- 0.0541)\n",
            "\n",
            "MODEL: SVM\n",
            "acc: 0.7292 (+/- 0.0816)\n",
            "pre: 0.7375 (+/- 0.0779)\n",
            "rec: 0.7292 (+/- 0.0816)\n",
            "f1: 0.7293 (+/- 0.0812)\n",
            "\n"
          ]
        }
      ]
    },
    {
      "cell_type": "markdown",
      "source": [
        "## **c) Rank the models**"
      ],
      "metadata": {
        "id": "_JTzel5gLWaL"
      }
    },
    {
      "cell_type": "markdown",
      "source": [
        "In imbalanced datasets, where the minority class is under-represented, it is important to choose an appropriate evaluation metric. The F1 score is a commonly used metric in imbalanced datasets, as it is a balanced measure of precision and recall and takes into account both the true positive and false positive rates. Therefore, four models ranked based on F1 Scores"
      ],
      "metadata": {
        "id": "cchj3EGQLdRq"
      }
    },
    {
      "cell_type": "markdown",
      "source": [
        "Ranking\n",
        "\n",
        "1.   Suppport Vector Machine with F1 score around **0.73**\n",
        "2.   Gaussian Naive Bayes with F1 score around **0.59**\n",
        "3.   Logistic Regression with F1 score around **0.56**\n",
        "4.   Decision Tree with F1 score around **0.54**\n",
        "\n",
        "\n",
        "\n"
      ],
      "metadata": {
        "id": "bXjpvxYyLzIs"
      }
    },
    {
      "cell_type": "markdown",
      "source": [
        "Here, also the comparative barchart for each score metrics"
      ],
      "metadata": {
        "id": "x2akrCiyq2t-"
      }
    },
    {
      "cell_type": "code",
      "source": [
        "# create a bar plot of the mean scores for each model\n",
        "fig, ax = plt.subplots(figsize=(14,7))\n",
        "index = np.arange(len(scoring))\n",
        "bar_width = 0.2\n",
        "opacity = 0.9\n",
        "\n",
        "for i, model in enumerate(scores_mean.keys()):\n",
        "  ax.bar(index + i * bar_width, scores_mean[model].values(), bar_width, alpha=opacity, label=model)\n",
        "\n",
        "ax.set_xlabel('Evaluation Metric')\n",
        "ax.set_ylabel('Score')\n",
        "ax.set_title('Mean Scores for Each Model')\n",
        "ax.set_xticks(index + bar_width / 2)\n",
        "ax.set_xticklabels(scoring.keys())\n",
        "modelNames = ['GNB','LR','DT','SVM']\n",
        "\n",
        "# move the legend to the bottom of the plot\n",
        "ax.legend(modelNames,bbox_to_anchor=(0,0.2), prop={'size': 10}, loc='upper left', ncol=2)\n",
        "plt.show()\n"
      ],
      "metadata": {
        "id": "8tmdIJ3smDJn",
        "outputId": "1c8c0671-e338-4252-cc00-b9b78691df26",
        "colab": {
          "base_uri": "https://localhost:8080/",
          "height": 458
        }
      },
      "execution_count": 240,
      "outputs": [
        {
          "output_type": "display_data",
          "data": {
            "text/plain": [
              "<Figure size 1008x504 with 1 Axes>"
            ],
            "image/png": "[encoded data removed]"
          },
          "metadata": {
            "needs_background": "light"
          }
        }
      ]
    },
    {
      "cell_type": "markdown",
      "source": [
        "Observing only F1 values"
      ],
      "metadata": {
        "id": "ula4SgrpZlkp"
      }
    },
    {
      "cell_type": "code",
      "source": [
        "fig, ax = plt.subplots(figsize=(6,5))\n",
        "index = np.arange(1) #since only f1 used\n",
        "\n",
        "for i, model in enumerate(scores_mean.keys()):\n",
        "  ax.bar(index + i * bar_width, scores_mean[model]['f1'], bar_width, alpha=opacity, label=model)\n",
        "\n",
        "ax.set_xlabel('Evaluation Metric', fontsize=12)\n",
        "ax.set_ylabel('Score', fontsize=12)\n",
        "ax.set_title('F1 Scores for Each Model', fontsize=14)\n",
        "ax.set_xticks(index + bar_width / 2)\n",
        "ax.set_xticklabels(scoring.keys(), fontsize=12)\n",
        "modelNames = ['GNB','LR','DT','SVM']\n",
        "\n",
        "# move the legend to the bottom of the plot\n",
        "ax.legend(modelNames,bbox_to_anchor=(0,0.2), prop={'size': 12}, loc='upper left', ncol=2)\n",
        "plt.show()\n"
      ],
      "metadata": {
        "colab": {
          "base_uri": "https://localhost:8080/",
          "height": 357
        },
        "id": "SprRQXROZkWX",
        "outputId": "8109db2a-d50f-468d-d3a5-2fc6d5cef6c2"
      },
      "execution_count": 241,
      "outputs": [
        {
          "output_type": "display_data",
          "data": {
            "text/plain": [
              "<Figure size 432x360 with 1 Axes>"
            ],
            "image/png": "[encoded data removed]"
          },
          "metadata": {
            "needs_background": "light"
          }
        }
      ]
    },
    {
      "cell_type": "markdown",
      "source": [
        "It is clearly seen that SVM performs much better than all of the other models"
      ],
      "metadata": {
        "id": "RLcINKLZrDJY"
      }
    },
    {
      "cell_type": "markdown",
      "source": [
        "# **T3 - Classifier design (II)**"
      ],
      "metadata": {
        "id": "0z7FZVI9vUu1"
      }
    },
    {
      "cell_type": "markdown",
      "source": [
        "## **(a) Ensemble Learning**"
      ],
      "metadata": {
        "id": "sHp2yYc7NaTy"
      }
    },
    {
      "cell_type": "markdown",
      "source": [
        "4 Ensemble Learning approaches developed: hard and soft voting, stacking and random forest."
      ],
      "metadata": {
        "id": "skZjoQzlNpK8"
      }
    },
    {
      "cell_type": "markdown",
      "source": [
        "### **1, 2) hard and soft voting**"
      ],
      "metadata": {
        "id": "Xcy9esZeNy2m"
      }
    },
    {
      "cell_type": "code",
      "source": [
        "# Hard voting:\n",
        "model_hard = VotingClassifier(estimators=[('gnb', model_gnb), ('lr', model_lr), ('dt', model_dt), ('svm', model_svm)], voting='hard')\n",
        "\n",
        "# Soft voting:\n",
        "model_soft = VotingClassifier(estimators=[('gnb', model_gnb), ('lr', model_lr), ('dt', model_dt), ('svm', model_svm)], voting='soft')"
      ],
      "metadata": {
        "id": "mB30YY1wvVCu"
      },
      "execution_count": 242,
      "outputs": []
    },
    {
      "cell_type": "markdown",
      "source": [
        "### **3) Stacking**"
      ],
      "metadata": {
        "id": "Sno2n9G2PHr_"
      }
    },
    {
      "cell_type": "code",
      "source": [
        "# Creating the stacking classifier\n",
        "model_stacking = StackingClassifier(estimators=[('gnb', model_gnb), ('lr', model_lr), ('dt', model_dt)], final_estimator=model_svm)"
      ],
      "metadata": {
        "id": "Klv4p4VkPPr0"
      },
      "execution_count": 243,
      "outputs": []
    },
    {
      "cell_type": "markdown",
      "source": [
        "### **4) Random Forest (RF)**"
      ],
      "metadata": {
        "id": "paZDQx2lPQDs"
      }
    },
    {
      "cell_type": "code",
      "source": [
        "model_rf = RandomForestClassifier()\n",
        "param_rf = [{'n_estimators': [100, 200, 500],'min_samples_leaf': [5, 10],'criterion': ['gini','entropy']}]\n",
        "\n",
        "gs_rf = GridSearchCV(model_rf,\n",
        "                      param_grid=param_rf,\n",
        "                      scoring='f1_weighted',\n",
        "                      cv=5)\n",
        "gs_rf.fit(X, y)\n",
        "gs_rf.best_params_"
      ],
      "metadata": {
        "colab": {
          "base_uri": "https://localhost:8080/",
          "height": 0
        },
        "id": "8-BRN2SkPa5H",
        "outputId": "0d886fff-6903-4ddc-9bac-c58c4778d3a4"
      },
      "execution_count": 244,
      "outputs": [
        {
          "output_type": "execute_result",
          "data": {
            "text/plain": [
              "{'criterion': 'entropy', 'min_samples_leaf': 5, 'n_estimators': 500}"
            ]
          },
          "metadata": {},
          "execution_count": 244
        }
      ]
    },
    {
      "cell_type": "markdown",
      "source": [
        "Best criterion value is entropy, better to set min_samples_leaf to 5 and the best value for the number of tree is 200."
      ],
      "metadata": {
        "id": "wVVFD8FiSUQq"
      }
    },
    {
      "cell_type": "code",
      "source": [
        "model_rf = RandomForestClassifier(criterion='entropy', min_samples_leaf=5, n_estimators=200)"
      ],
      "metadata": {
        "id": "E8Jh6fEASliy"
      },
      "execution_count": 245,
      "outputs": []
    },
    {
      "cell_type": "markdown",
      "source": [
        "## **b) Estimate the accuracy, precision, recall and F1 scores**"
      ],
      "metadata": {
        "id": "2iHp3PD9TMJR"
      }
    },
    {
      "cell_type": "code",
      "source": [
        "# specifying the evaluation metrics\n",
        "scoring = {'acc': 'accuracy',\n",
        "           'pre': make_scorer(precision_score, average='weighted'),\n",
        "           'rec': make_scorer(recall_score, average='weighted'),\n",
        "           'f1': make_scorer(f1_score, average='weighted')}\n",
        "\n",
        "# creating the cross-validation using 3-repetition, 5-fold \n",
        "cv = RepeatedStratifiedKFold(n_splits=5, n_repeats=3)\n",
        "\n",
        "# creating a dictionary to store the mean scores for each model\n",
        "scores_mean_ensemble = {}\n",
        "\n",
        "models = [model_hard,model_soft,model_stacking,model_rf]\n",
        "modelNames = ['Hard Voting','Soft Voting','Stacking','Random Forest']\n",
        "i = 0\n",
        "\n",
        "for m in models: # for each classifiers\n",
        "  # evaluate the classifier using 3-repetition, 5-fold cross-validation\n",
        "  scores = cross_validate(m, X, y, scoring=scoring, cv=cv, n_jobs=-1)\n",
        "\n",
        "  print('MODEL: ' + modelNames[i]) #printing what the model is\n",
        "  i += 1\n",
        "\n",
        "  # store the mean scores for each evaluation metric in the scores_mean_ensemble dictionary\n",
        "  scores_mean_ensemble[str(m)] = {}\n",
        "  for metric in scoring:\n",
        "    mean = np.mean(scores['test_' + metric])\n",
        "    scores_mean_ensemble[str(m)][metric] = mean\n",
        "    std = np.std(scores['test_' + metric])\n",
        "    print(f'{metric}: {mean:.4f} (+/- {std * 2:.4f})')\n",
        "  print()\n",
        " \n"
      ],
      "metadata": {
        "colab": {
          "base_uri": "https://localhost:8080/",
          "height": 0
        },
        "id": "vwzSXBzyTavF",
        "outputId": "6694ff23-ab02-4883-ae24-e1986f7e5b79"
      },
      "execution_count": 246,
      "outputs": [
        {
          "output_type": "stream",
          "name": "stdout",
          "text": [
            "MODEL: Hard Voting\n",
            "acc: 0.6559 (+/- 0.0642)\n",
            "pre: 0.6835 (+/- 0.0593)\n",
            "rec: 0.6559 (+/- 0.0642)\n",
            "f1: 0.6565 (+/- 0.0631)\n",
            "\n",
            "MODEL: Soft Voting\n",
            "acc: 0.6698 (+/- 0.0564)\n",
            "pre: 0.6822 (+/- 0.0510)\n",
            "rec: 0.6698 (+/- 0.0564)\n",
            "f1: 0.6678 (+/- 0.0563)\n",
            "\n",
            "MODEL: Stacking\n",
            "acc: 0.6206 (+/- 0.0867)\n",
            "pre: 0.6349 (+/- 0.1018)\n",
            "rec: 0.6206 (+/- 0.0867)\n",
            "f1: 0.6169 (+/- 0.0922)\n",
            "\n",
            "MODEL: Random Forest\n",
            "acc: 0.6885 (+/- 0.0500)\n",
            "pre: 0.7296 (+/- 0.0474)\n",
            "rec: 0.6885 (+/- 0.0500)\n",
            "f1: 0.6819 (+/- 0.0503)\n",
            "\n"
          ]
        }
      ]
    },
    {
      "cell_type": "markdown",
      "source": [
        "## **c) Rank the eight models**"
      ],
      "metadata": {
        "id": "1daOyYZST5d9"
      }
    },
    {
      "cell_type": "markdown",
      "source": [
        "In imbalanced datasets, where the minority class is under-represented, it is important to choose an appropriate evaluation metric. The F1 score is a commonly used metric in imbalanced datasets, as it is a balanced measure of precision and recall and takes into account both the true positive and false positive rates. Therefore, all eight models ranked based on F1 Scores"
      ],
      "metadata": {
        "id": "jiY9G7v1Z6Nz"
      }
    },
    {
      "cell_type": "markdown",
      "source": [
        "Ranking\n",
        "\n",
        "1.   Suppport Vector Machine with F1 score around **0.73**\n",
        "2.   Random Forest with F1 score around **0.68**\n",
        "3.   Soft Voting with F1 score around **0.66**\n",
        "4.   Hard Voting with F1 score around **0.65**\n",
        "5.   Stacking with F1 score around **0.61**\n",
        "6.   Gaussian Naive Bayes with F1 score around **0.59**\n",
        "7.   Logistic Regression with F1 score around **0.56**\n",
        "8.   Decision Tree with F1 score around **0.54**\n",
        "\n",
        "\n",
        "\n",
        "\n"
      ],
      "metadata": {
        "id": "IcMpQyx1aKpy"
      }
    },
    {
      "cell_type": "code",
      "source": [
        "# adding to score values of ensemble methods results\n",
        "scores_mean.update(scores_mean_ensemble)\n",
        "\n",
        "# create a bar plot of the mean scores for each model\n",
        "fig, ax = plt.subplots(figsize=(14,7))\n",
        "index = np.arange(len(scoring))\n",
        "bar_width = 0.1\n",
        "opacity = 0.9\n",
        "\n",
        "for i, model in enumerate(scores_mean.keys()):\n",
        "  ax.bar(index + i * bar_width, scores_mean[model].values(), bar_width, alpha=opacity, label=model)\n",
        "\n",
        "ax.set_xlabel('Evaluation Metric', fontsize=12)\n",
        "ax.set_ylabel('Score', fontsize=12)\n",
        "ax.set_title('Mean Scores for Each Model', fontsize=14)\n",
        "ax.set_xticks(index + bar_width / 2)\n",
        "ax.set_xticklabels(scoring.keys(), fontsize=12)\n",
        "model_names = ['GNB','LR','DT','SVM','Hard Voting','Soft Voting','Stacking','RF']\n",
        "\n",
        "# move the legend to the bottom of the plot\n",
        "ax.legend(model_names,bbox_to_anchor=(0,0.25), prop={'size': 12}, loc='upper left', ncol=2)\n",
        "plt.show()"
      ],
      "metadata": {
        "colab": {
          "base_uri": "https://localhost:8080/",
          "height": 465
        },
        "id": "0iyji99pT7j3",
        "outputId": "2ad734b6-b109-4e49-b187-cd147062c0a4"
      },
      "execution_count": 247,
      "outputs": [
        {
          "output_type": "display_data",
          "data": {
            "text/plain": [
              "<Figure size 1008x504 with 1 Axes>"
            ],
            "image/png": "[encoded data removed]"
          },
          "metadata": {
            "needs_background": "light"
          }
        }
      ]
    },
    {
      "cell_type": "code",
      "source": [
        "fig, ax = plt.subplots(figsize=(6,5))\n",
        "index = np.arange(1) #since only f1 used\n",
        "for i, model in enumerate(scores_mean.keys()):\n",
        "  ax.bar(index + i * bar_width, scores_mean[model]['f1'], bar_width, alpha=opacity, label=model)\n",
        "ax.set_xlabel('Evaluation Metric', fontsize=12)\n",
        "ax.set_ylabel('Score', fontsize=12)\n",
        "ax.set_title('F1 Scores for Each Model', fontsize=14)\n",
        "ax.set_xticks(index + bar_width / 2)\n",
        "ax.set_xticklabels(scoring.keys(), fontsize=12)\n",
        "model_names = ['GNB','LR','DT','SVM','Hard Voting','Soft Voting','Stacking','RF']\n",
        "# move the legend to the bottom of the plot\n",
        "ax.legend(model_names,bbox_to_anchor=(0,0.35), prop={'size': 12}, loc='upper left', ncol=2)\n",
        "plt.show()"
      ],
      "metadata": {
        "colab": {
          "base_uri": "https://localhost:8080/",
          "height": 357
        },
        "id": "-A4aG6P9YIhL",
        "outputId": "d487614c-981a-4687-8976-c67e9b80afbd"
      },
      "execution_count": 261,
      "outputs": [
        {
          "output_type": "display_data",
          "data": {
            "text/plain": [
              "<Figure size 432x360 with 1 Axes>"
            ],
            "image/png": "[encoded data removed]"
          },
          "metadata": {
            "needs_background": "light"
          }
        }
      ]
    },
    {
      "cell_type": "markdown",
      "source": [
        "Observing only F1 values"
      ],
      "metadata": {
        "id": "sSLwGuTC6XhT"
      }
    },
    {
      "cell_type": "markdown",
      "source": [
        "# **T4 - Regression**"
      ],
      "metadata": {
        "id": "Ga4cIf1vvVLF"
      }
    },
    {
      "cell_type": "markdown",
      "source": [
        "Create X and y"
      ],
      "metadata": {
        "id": "PW7a7syguZl-"
      }
    },
    {
      "cell_type": "code",
      "source": [
        "X_reg = ds_09.drop(columns=['class', 'target'])\n",
        "y_reg = ds_09['target']"
      ],
      "metadata": {
        "id": "kjORE8NVvViV"
      },
      "execution_count": 249,
      "outputs": []
    },
    {
      "cell_type": "markdown",
      "source": [
        "standardize the data"
      ],
      "metadata": {
        "id": "Yge3ZdEsuYFo"
      }
    },
    {
      "cell_type": "code",
      "source": [
        "# define mu-sigma standardizer scaler\n",
        "ss = StandardScaler()\n",
        "  \n",
        "# transform data\n",
        "X_reg = pd.DataFrame(ss.fit_transform(X_reg),columns = X_reg.columns)\n",
        "X_reg.head()"
      ],
      "metadata": {
        "id": "Ud-S-UETub-y",
        "outputId": "5391f42b-76f7-4742-d937-a587b33647ff",
        "colab": {
          "base_uri": "https://localhost:8080/",
          "height": 299
        }
      },
      "execution_count": 250,
      "outputs": [
        {
          "output_type": "execute_result",
          "data": {
            "text/plain": [
              "        V01       V02       V03       V04       V05       V06       V07  \\\n",
              "0  1.214996 -0.054054  1.152872  2.357207  2.216477 -1.496285 -1.158382   \n",
              "1  0.986969 -0.054054 -1.939001 -1.175792 -0.726378 -0.047792  1.256262   \n",
              "2  0.373306  0.726206  2.955703  0.791817  0.006227  0.102783  0.921588   \n",
              "3 -0.917733 -2.285514 -2.392278 -0.820680 -1.413390 -1.646860 -0.342179   \n",
              "4 -0.337604  0.241384  1.062673  0.433082 -1.593692 -0.044691  0.203289   \n",
              "\n",
              "        V08       V09       V10  ...       V27       V28       V29       V30  \\\n",
              "0  2.376606 -0.895622 -2.346782  ... -0.316122 -1.539320  2.279143  0.406997   \n",
              "1 -0.882371 -1.204081 -0.161146  ... -1.312862  0.261232 -0.129392  0.010242   \n",
              "2  1.614855  0.814919 -0.293497  ...  1.431467 -1.003106 -0.793879  0.168944   \n",
              "3  0.110712 -0.624553 -0.913193  ... -1.802451 -0.385048 -0.238912 -0.766735   \n",
              "4 -1.512486 -0.437608  0.932290  ...  1.481963 -0.760398  0.015906  0.069755   \n",
              "\n",
              "        V31       V32       V33       V34       V35       V36  \n",
              "0 -3.207810 -0.729132  0.408947  0.383839  1.212194 -0.099109  \n",
              "1 -0.254762  0.577851 -0.075171 -0.882510  1.432997  0.053858  \n",
              "2  1.579018 -0.094431  0.743429 -2.103338 -1.071547 -0.463317  \n",
              "3 -1.466957  1.423423  2.459851 -1.207375  0.827364 -2.024555  \n",
              "4  0.691039  1.809672 -0.066369 -0.141737 -0.349203 -0.298209  \n",
              "\n",
              "[5 rows x 36 columns]"
            ],
            "text/html": [
              "\n",
              "  <div id=\"df-d086c251-e2da-4989-a738-f7ebda274e22\">\n",
              "    <div class=\"colab-df-container\">\n",
              "      <div>\n",
              "<style scoped>\n",
              "    .dataframe tbody tr th:only-of-type {\n",
              "        vertical-align: middle;\n",
              "    }\n",
              "\n",
              "    .dataframe tbody tr th {\n",
              "        vertical-align: top;\n",
              "    }\n",
              "\n",
              "    .dataframe thead th {\n",
              "        text-align: right;\n",
              "    }\n",
              "</style>\n",
              "<table border=\"1\" class=\"dataframe\">\n",
              "  <thead>\n",
              "    <tr style=\"text-align: right;\">\n",
              "      <th></th>\n",
              "      <th>V01</th>\n",
              "      <th>V02</th>\n",
              "      <th>V03</th>\n",
              "      <th>V04</th>\n",
              "      <th>V05</th>\n",
              "      <th>V06</th>\n",
              "      <th>V07</th>\n",
              "      <th>V08</th>\n",
              "      <th>V09</th>\n",
              "      <th>V10</th>\n",
              "      <th>...</th>\n",
              "      <th>V27</th>\n",
              "      <th>V28</th>\n",
              "      <th>V29</th>\n",
              "      <th>V30</th>\n",
              "      <th>V31</th>\n",
              "      <th>V32</th>\n",
              "      <th>V33</th>\n",
              "      <th>V34</th>\n",
              "      <th>V35</th>\n",
              "      <th>V36</th>\n",
              "    </tr>\n",
              "  </thead>\n",
              "  <tbody>\n",
              "    <tr>\n",
              "      <th>0</th>\n",
              "      <td>1.214996</td>\n",
              "      <td>-0.054054</td>\n",
              "      <td>1.152872</td>\n",
              "      <td>2.357207</td>\n",
              "      <td>2.216477</td>\n",
              "      <td>-1.496285</td>\n",
              "      <td>-1.158382</td>\n",
              "      <td>2.376606</td>\n",
              "      <td>-0.895622</td>\n",
              "      <td>-2.346782</td>\n",
              "      <td>...</td>\n",
              "      <td>-0.316122</td>\n",
              "      <td>-1.539320</td>\n",
              "      <td>2.279143</td>\n",
              "      <td>0.406997</td>\n",
              "      <td>-3.207810</td>\n",
              "      <td>-0.729132</td>\n",
              "      <td>0.408947</td>\n",
              "      <td>0.383839</td>\n",
              "      <td>1.212194</td>\n",
              "      <td>-0.099109</td>\n",
              "    </tr>\n",
              "    <tr>\n",
              "      <th>1</th>\n",
              "      <td>0.986969</td>\n",
              "      <td>-0.054054</td>\n",
              "      <td>-1.939001</td>\n",
              "      <td>-1.175792</td>\n",
              "      <td>-0.726378</td>\n",
              "      <td>-0.047792</td>\n",
              "      <td>1.256262</td>\n",
              "      <td>-0.882371</td>\n",
              "      <td>-1.204081</td>\n",
              "      <td>-0.161146</td>\n",
              "      <td>...</td>\n",
              "      <td>-1.312862</td>\n",
              "      <td>0.261232</td>\n",
              "      <td>-0.129392</td>\n",
              "      <td>0.010242</td>\n",
              "      <td>-0.254762</td>\n",
              "      <td>0.577851</td>\n",
              "      <td>-0.075171</td>\n",
              "      <td>-0.882510</td>\n",
              "      <td>1.432997</td>\n",
              "      <td>0.053858</td>\n",
              "    </tr>\n",
              "    <tr>\n",
              "      <th>2</th>\n",
              "      <td>0.373306</td>\n",
              "      <td>0.726206</td>\n",
              "      <td>2.955703</td>\n",
              "      <td>0.791817</td>\n",
              "      <td>0.006227</td>\n",
              "      <td>0.102783</td>\n",
              "      <td>0.921588</td>\n",
              "      <td>1.614855</td>\n",
              "      <td>0.814919</td>\n",
              "      <td>-0.293497</td>\n",
              "      <td>...</td>\n",
              "      <td>1.431467</td>\n",
              "      <td>-1.003106</td>\n",
              "      <td>-0.793879</td>\n",
              "      <td>0.168944</td>\n",
              "      <td>1.579018</td>\n",
              "      <td>-0.094431</td>\n",
              "      <td>0.743429</td>\n",
              "      <td>-2.103338</td>\n",
              "      <td>-1.071547</td>\n",
              "      <td>-0.463317</td>\n",
              "    </tr>\n",
              "    <tr>\n",
              "      <th>3</th>\n",
              "      <td>-0.917733</td>\n",
              "      <td>-2.285514</td>\n",
              "      <td>-2.392278</td>\n",
              "      <td>-0.820680</td>\n",
              "      <td>-1.413390</td>\n",
              "      <td>-1.646860</td>\n",
              "      <td>-0.342179</td>\n",
              "      <td>0.110712</td>\n",
              "      <td>-0.624553</td>\n",
              "      <td>-0.913193</td>\n",
              "      <td>...</td>\n",
              "      <td>-1.802451</td>\n",
              "      <td>-0.385048</td>\n",
              "      <td>-0.238912</td>\n",
              "      <td>-0.766735</td>\n",
              "      <td>-1.466957</td>\n",
              "      <td>1.423423</td>\n",
              "      <td>2.459851</td>\n",
              "      <td>-1.207375</td>\n",
              "      <td>0.827364</td>\n",
              "      <td>-2.024555</td>\n",
              "    </tr>\n",
              "    <tr>\n",
              "      <th>4</th>\n",
              "      <td>-0.337604</td>\n",
              "      <td>0.241384</td>\n",
              "      <td>1.062673</td>\n",
              "      <td>0.433082</td>\n",
              "      <td>-1.593692</td>\n",
              "      <td>-0.044691</td>\n",
              "      <td>0.203289</td>\n",
              "      <td>-1.512486</td>\n",
              "      <td>-0.437608</td>\n",
              "      <td>0.932290</td>\n",
              "      <td>...</td>\n",
              "      <td>1.481963</td>\n",
              "      <td>-0.760398</td>\n",
              "      <td>0.015906</td>\n",
              "      <td>0.069755</td>\n",
              "      <td>0.691039</td>\n",
              "      <td>1.809672</td>\n",
              "      <td>-0.066369</td>\n",
              "      <td>-0.141737</td>\n",
              "      <td>-0.349203</td>\n",
              "      <td>-0.298209</td>\n",
              "    </tr>\n",
              "  </tbody>\n",
              "</table>\n",
              "<p>5 rows × 36 columns</p>\n",
              "</div>\n",
              "      <button class=\"colab-df-convert\" onclick=\"convertToInteractive('df-d086c251-e2da-4989-a738-f7ebda274e22')\"\n",
              "              title=\"Convert this dataframe to an interactive table.\"\n",
              "              style=\"display:none;\">\n",
              "        \n",
              "  <svg xmlns=\"http://www.w3.org/2000/svg\" height=\"24px\"viewBox=\"0 0 24 24\"\n",
              "       width=\"24px\">\n",
              "    <path d=\"M0 0h24v24H0V0z\" fill=\"none\"/>\n",
              "    <path d=\"M18.56 5.44l.94 2.06.94-2.06 2.06-.94-2.06-.94-.94-2.06-.94 2.06-2.06.94zm-11 1L8.5 8.5l.94-2.06 2.06-.94-2.06-.94L8.5 2.5l-.94 2.06-2.06.94zm10 10l.94 2.06.94-2.06 2.06-.94-2.06-.94-.94-2.06-.94 2.06-2.06.94z\"/><path d=\"M17.41 7.96l-1.37-1.37c-.4-.4-.92-.59-1.43-.59-.52 0-1.04.2-1.43.59L10.3 9.45l-7.72 7.72c-.78.78-.78 2.05 0 2.83L4 21.41c.39.39.9.59 1.41.59.51 0 1.02-.2 1.41-.59l7.78-7.78 2.81-2.81c.8-.78.8-2.07 0-2.86zM5.41 20L4 18.59l7.72-7.72 1.47 1.35L5.41 20z\"/>\n",
              "  </svg>\n",
              "      </button>\n",
              "      \n",
              "  <style>\n",
              "    .colab-df-container {\n",
              "      display:flex;\n",
              "      flex-wrap:wrap;\n",
              "      gap: 12px;\n",
              "    }\n",
              "\n",
              "    .colab-df-convert {\n",
              "      background-color: #E8F0FE;\n",
              "      border: none;\n",
              "      border-radius: 50%;\n",
              "      cursor: pointer;\n",
              "      display: none;\n",
              "      fill: #1967D2;\n",
              "      height: 32px;\n",
              "      padding: 0 0 0 0;\n",
              "      width: 32px;\n",
              "    }\n",
              "\n",
              "    .colab-df-convert:hover {\n",
              "      background-color: #E2EBFA;\n",
              "      box-shadow: 0px 1px 2px rgba(60, 64, 67, 0.3), 0px 1px 3px 1px rgba(60, 64, 67, 0.15);\n",
              "      fill: #174EA6;\n",
              "    }\n",
              "\n",
              "    [theme=dark] .colab-df-convert {\n",
              "      background-color: #3B4455;\n",
              "      fill: #D2E3FC;\n",
              "    }\n",
              "\n",
              "    [theme=dark] .colab-df-convert:hover {\n",
              "      background-color: #434B5C;\n",
              "      box-shadow: 0px 1px 3px 1px rgba(0, 0, 0, 0.15);\n",
              "      filter: drop-shadow(0px 1px 2px rgba(0, 0, 0, 0.3));\n",
              "      fill: #FFFFFF;\n",
              "    }\n",
              "  </style>\n",
              "\n",
              "      <script>\n",
              "        const buttonEl =\n",
              "          document.querySelector('#df-d086c251-e2da-4989-a738-f7ebda274e22 button.colab-df-convert');\n",
              "        buttonEl.style.display =\n",
              "          google.colab.kernel.accessAllowed ? 'block' : 'none';\n",
              "\n",
              "        async function convertToInteractive(key) {\n",
              "          const element = document.querySelector('#df-d086c251-e2da-4989-a738-f7ebda274e22');\n",
              "          const dataTable =\n",
              "            await google.colab.kernel.invokeFunction('convertToInteractive',\n",
              "                                                     [key], {});\n",
              "          if (!dataTable) return;\n",
              "\n",
              "          const docLinkHtml = 'Like what you see? Visit the ' +\n",
              "            '<a target=\"_blank\" href=https://colab.research.google.com/notebooks/data_table.ipynb>data table notebook</a>'\n",
              "            + ' to learn more about interactive tables.';\n",
              "          element.innerHTML = '';\n",
              "          dataTable['output_type'] = 'display_data';\n",
              "          await google.colab.output.renderOutput(dataTable, element);\n",
              "          const docLink = document.createElement('div');\n",
              "          docLink.innerHTML = docLinkHtml;\n",
              "          element.appendChild(docLink);\n",
              "        }\n",
              "      </script>\n",
              "    </div>\n",
              "  </div>\n",
              "  "
            ]
          },
          "metadata": {},
          "execution_count": 250
        }
      ]
    },
    {
      "cell_type": "markdown",
      "source": [
        "##**(a) Fit a multivariate linear regression model**"
      ],
      "metadata": {
        "id": "83bNl23Pu7tm"
      }
    },
    {
      "cell_type": "markdown",
      "source": [
        "exclusively a first degree multivariate polynomial model is used"
      ],
      "metadata": {
        "id": "LUxA7iZ5w9q9"
      }
    },
    {
      "cell_type": "code",
      "source": [
        "# Transform the features to include polynomial terms\n",
        "poly = PolynomialFeatures(degree=1)\n",
        "X_poly = poly.fit_transform(X_reg)\n",
        "\n",
        "# create the model\n",
        "model_r = LinearRegression()\n",
        "# fit\n",
        "model_r.fit(X_poly, y_reg)"
      ],
      "metadata": {
        "id": "Vi0Ln32pu-gj",
        "outputId": "5cf42b61-e0fc-489a-c8d8-54e0ffa6afd6",
        "colab": {
          "base_uri": "https://localhost:8080/",
          "height": 0
        }
      },
      "execution_count": 251,
      "outputs": [
        {
          "output_type": "execute_result",
          "data": {
            "text/plain": [
              "LinearRegression()"
            ]
          },
          "metadata": {},
          "execution_count": 251
        }
      ]
    },
    {
      "cell_type": "markdown",
      "source": [
        "##**(b) Estimate and report on the R2 measure and the root mean squared error**"
      ],
      "metadata": {
        "id": "1ZUY2E-mxGwC"
      }
    },
    {
      "cell_type": "code",
      "source": [
        "# creating the cross-validation using 3-repetition, 5-fold \n",
        "cv = RepeatedKFold(n_splits=5, n_repeats=3, random_state=3964)\n",
        "\n",
        "# Evaluate the model using R2 measure\n",
        "R2 = cross_val_score(model_r, X_poly, y_reg, scoring='r2', cv=cv, n_jobs=-1)\n",
        "\n",
        "# Evaluate the model using root mean squared error\n",
        "RMSE = cross_val_score(model_r, X_poly, y_reg, scoring='neg_root_mean_squared_error', cv=cv, n_jobs=-1)\n",
        "RMSE = abs(RMSE)\n",
        "\n",
        "# Print the mean and standard deviation of the scores\n",
        "print(f'R2 measure: {np.mean(R2):.4f} (+/- {np.std(R2) * 2:.4f})')\n",
        "print(f'Root mean squared error: {np.mean(RMSE):.4f} (+/- {np.std(RMSE) * 2:.4f})')"
      ],
      "metadata": {
        "id": "2siLWsq8xQ3O",
        "outputId": "6ff51a19-279e-4f90-b49a-212295dd9c7c",
        "colab": {
          "base_uri": "https://localhost:8080/",
          "height": 0
        }
      },
      "execution_count": 252,
      "outputs": [
        {
          "output_type": "stream",
          "name": "stdout",
          "text": [
            "R2 measure: 0.9699 (+/- 0.0087)\n",
            "Root mean squared error: 0.0059 (+/- 0.0009)\n"
          ]
        }
      ]
    },
    {
      "cell_type": "markdown",
      "source": [
        "R-squared (R2) is a common evaluation metric for regression models. It measures the proportion of the variance in the target variable that is explained by the model. An R2 value of 1 indicates that the model explains all the variance in the target variable, while an R2 value of 0 indicates that the model explains none of the variance. Since the mean R2 value is very close to 1, we can state the model is performing well.\n",
        "\n"
      ],
      "metadata": {
        "id": "o6Nc8sf63Xax"
      }
    },
    {
      "cell_type": "markdown",
      "source": [
        " RMSE is more sensitive to the individual errors in the prediction. RMSE is a measure of the absolute error, while R2 is a measure of the squared error. Since the mean RMSE value is very low, the model has a good performance."
      ],
      "metadata": {
        "id": "z55zF5jS3o75"
      }
    },
    {
      "cell_type": "markdown",
      "source": [
        "# **T5 - Model exploitation**"
      ],
      "metadata": {
        "id": "OECpAc0vvVtk"
      }
    },
    {
      "cell_type": "code",
      "source": [
        "df_t5 = pd.read_csv('MachineLearning/SupervisedLearning/im_x_09.txt', sep=\" \", header=None, index_col=False)\n",
        "df_t5_y = pd.read_csv('MachineLearning/SupervisedLearning/im_y_09.txt', sep=\" \", header=None, index_col=False)\n",
        "df_t5_t = pd.read_csv('MachineLearning/SupervisedLearning/im_t_09.txt', sep=\" \", header=None, index_col=False)\n",
        "df_t5['class'] = df_t5_y\n",
        "df_t5['target'] = df_t5_t\n",
        "\n",
        "df_t5.head()"
      ],
      "metadata": {
        "id": "8gkDIaBbveSQ",
        "colab": {
          "base_uri": "https://localhost:8080/",
          "height": 235
        },
        "outputId": "18fa4c41-a497-4178-c6ff-6caeb9323951"
      },
      "execution_count": 253,
      "outputs": [
        {
          "output_type": "execute_result",
          "data": {
            "text/plain": [
              "       0      1      2      3      4      5      6      7     8      9  ...  \\\n",
              "0  10.56  53.90  28.49   9.56  35.65  38.17  45.36  22.96  3.43  27.41  ...   \n",
              "1  11.94  34.57  45.58  15.47  39.31  31.83  32.69  49.95  2.83  39.21  ...   \n",
              "2   6.29  45.65  31.93  11.38  39.51  36.15  29.35  37.18  5.32  20.21  ...   \n",
              "3  10.34  52.78  26.24  12.49  29.88  39.67  38.91  36.10  2.06  35.34  ...   \n",
              "4   8.25  53.67  30.91   3.57  18.04  27.73  28.09  19.02  3.41  31.42  ...   \n",
              "\n",
              "      28     29     30     31    32     33     34     35  class    target  \n",
              "0  27.15  15.54  18.56  19.07  2.82  14.04  14.95  19.99      0  0.557017  \n",
              "1  48.16  13.69   7.20  17.95  3.33   6.18  10.37  13.16      0  0.594420  \n",
              "2  32.70  16.90  16.10  12.59  2.09  11.36  14.21  17.10      0  0.519508  \n",
              "3  26.78  13.29  13.92  15.35  2.51  15.46  10.57  16.88      0  0.536709  \n",
              "4  34.27  12.07  15.83  23.11  2.11  18.25   6.78   9.40      0  0.510596  \n",
              "\n",
              "[5 rows x 38 columns]"
            ],
            "text/html": [
              "\n",
              "  <div id=\"df-a6dfe5b8-492a-4b75-b7f6-1808b24fff4f\">\n",
              "    <div class=\"colab-df-container\">\n",
              "      <div>\n",
              "<style scoped>\n",
              "    .dataframe tbody tr th:only-of-type {\n",
              "        vertical-align: middle;\n",
              "    }\n",
              "\n",
              "    .dataframe tbody tr th {\n",
              "        vertical-align: top;\n",
              "    }\n",
              "\n",
              "    .dataframe thead th {\n",
              "        text-align: right;\n",
              "    }\n",
              "</style>\n",
              "<table border=\"1\" class=\"dataframe\">\n",
              "  <thead>\n",
              "    <tr style=\"text-align: right;\">\n",
              "      <th></th>\n",
              "      <th>0</th>\n",
              "      <th>1</th>\n",
              "      <th>2</th>\n",
              "      <th>3</th>\n",
              "      <th>4</th>\n",
              "      <th>5</th>\n",
              "      <th>6</th>\n",
              "      <th>7</th>\n",
              "      <th>8</th>\n",
              "      <th>9</th>\n",
              "      <th>...</th>\n",
              "      <th>28</th>\n",
              "      <th>29</th>\n",
              "      <th>30</th>\n",
              "      <th>31</th>\n",
              "      <th>32</th>\n",
              "      <th>33</th>\n",
              "      <th>34</th>\n",
              "      <th>35</th>\n",
              "      <th>class</th>\n",
              "      <th>target</th>\n",
              "    </tr>\n",
              "  </thead>\n",
              "  <tbody>\n",
              "    <tr>\n",
              "      <th>0</th>\n",
              "      <td>10.56</td>\n",
              "      <td>53.90</td>\n",
              "      <td>28.49</td>\n",
              "      <td>9.56</td>\n",
              "      <td>35.65</td>\n",
              "      <td>38.17</td>\n",
              "      <td>45.36</td>\n",
              "      <td>22.96</td>\n",
              "      <td>3.43</td>\n",
              "      <td>27.41</td>\n",
              "      <td>...</td>\n",
              "      <td>27.15</td>\n",
              "      <td>15.54</td>\n",
              "      <td>18.56</td>\n",
              "      <td>19.07</td>\n",
              "      <td>2.82</td>\n",
              "      <td>14.04</td>\n",
              "      <td>14.95</td>\n",
              "      <td>19.99</td>\n",
              "      <td>0</td>\n",
              "      <td>0.557017</td>\n",
              "    </tr>\n",
              "    <tr>\n",
              "      <th>1</th>\n",
              "      <td>11.94</td>\n",
              "      <td>34.57</td>\n",
              "      <td>45.58</td>\n",
              "      <td>15.47</td>\n",
              "      <td>39.31</td>\n",
              "      <td>31.83</td>\n",
              "      <td>32.69</td>\n",
              "      <td>49.95</td>\n",
              "      <td>2.83</td>\n",
              "      <td>39.21</td>\n",
              "      <td>...</td>\n",
              "      <td>48.16</td>\n",
              "      <td>13.69</td>\n",
              "      <td>7.20</td>\n",
              "      <td>17.95</td>\n",
              "      <td>3.33</td>\n",
              "      <td>6.18</td>\n",
              "      <td>10.37</td>\n",
              "      <td>13.16</td>\n",
              "      <td>0</td>\n",
              "      <td>0.594420</td>\n",
              "    </tr>\n",
              "    <tr>\n",
              "      <th>2</th>\n",
              "      <td>6.29</td>\n",
              "      <td>45.65</td>\n",
              "      <td>31.93</td>\n",
              "      <td>11.38</td>\n",
              "      <td>39.51</td>\n",
              "      <td>36.15</td>\n",
              "      <td>29.35</td>\n",
              "      <td>37.18</td>\n",
              "      <td>5.32</td>\n",
              "      <td>20.21</td>\n",
              "      <td>...</td>\n",
              "      <td>32.70</td>\n",
              "      <td>16.90</td>\n",
              "      <td>16.10</td>\n",
              "      <td>12.59</td>\n",
              "      <td>2.09</td>\n",
              "      <td>11.36</td>\n",
              "      <td>14.21</td>\n",
              "      <td>17.10</td>\n",
              "      <td>0</td>\n",
              "      <td>0.519508</td>\n",
              "    </tr>\n",
              "    <tr>\n",
              "      <th>3</th>\n",
              "      <td>10.34</td>\n",
              "      <td>52.78</td>\n",
              "      <td>26.24</td>\n",
              "      <td>12.49</td>\n",
              "      <td>29.88</td>\n",
              "      <td>39.67</td>\n",
              "      <td>38.91</td>\n",
              "      <td>36.10</td>\n",
              "      <td>2.06</td>\n",
              "      <td>35.34</td>\n",
              "      <td>...</td>\n",
              "      <td>26.78</td>\n",
              "      <td>13.29</td>\n",
              "      <td>13.92</td>\n",
              "      <td>15.35</td>\n",
              "      <td>2.51</td>\n",
              "      <td>15.46</td>\n",
              "      <td>10.57</td>\n",
              "      <td>16.88</td>\n",
              "      <td>0</td>\n",
              "      <td>0.536709</td>\n",
              "    </tr>\n",
              "    <tr>\n",
              "      <th>4</th>\n",
              "      <td>8.25</td>\n",
              "      <td>53.67</td>\n",
              "      <td>30.91</td>\n",
              "      <td>3.57</td>\n",
              "      <td>18.04</td>\n",
              "      <td>27.73</td>\n",
              "      <td>28.09</td>\n",
              "      <td>19.02</td>\n",
              "      <td>3.41</td>\n",
              "      <td>31.42</td>\n",
              "      <td>...</td>\n",
              "      <td>34.27</td>\n",
              "      <td>12.07</td>\n",
              "      <td>15.83</td>\n",
              "      <td>23.11</td>\n",
              "      <td>2.11</td>\n",
              "      <td>18.25</td>\n",
              "      <td>6.78</td>\n",
              "      <td>9.40</td>\n",
              "      <td>0</td>\n",
              "      <td>0.510596</td>\n",
              "    </tr>\n",
              "  </tbody>\n",
              "</table>\n",
              "<p>5 rows × 38 columns</p>\n",
              "</div>\n",
              "      <button class=\"colab-df-convert\" onclick=\"convertToInteractive('df-a6dfe5b8-492a-4b75-b7f6-1808b24fff4f')\"\n",
              "              title=\"Convert this dataframe to an interactive table.\"\n",
              "              style=\"display:none;\">\n",
              "        \n",
              "  <svg xmlns=\"http://www.w3.org/2000/svg\" height=\"24px\"viewBox=\"0 0 24 24\"\n",
              "       width=\"24px\">\n",
              "    <path d=\"M0 0h24v24H0V0z\" fill=\"none\"/>\n",
              "    <path d=\"M18.56 5.44l.94 2.06.94-2.06 2.06-.94-2.06-.94-.94-2.06-.94 2.06-2.06.94zm-11 1L8.5 8.5l.94-2.06 2.06-.94-2.06-.94L8.5 2.5l-.94 2.06-2.06.94zm10 10l.94 2.06.94-2.06 2.06-.94-2.06-.94-.94-2.06-.94 2.06-2.06.94z\"/><path d=\"M17.41 7.96l-1.37-1.37c-.4-.4-.92-.59-1.43-.59-.52 0-1.04.2-1.43.59L10.3 9.45l-7.72 7.72c-.78.78-.78 2.05 0 2.83L4 21.41c.39.39.9.59 1.41.59.51 0 1.02-.2 1.41-.59l7.78-7.78 2.81-2.81c.8-.78.8-2.07 0-2.86zM5.41 20L4 18.59l7.72-7.72 1.47 1.35L5.41 20z\"/>\n",
              "  </svg>\n",
              "      </button>\n",
              "      \n",
              "  <style>\n",
              "    .colab-df-container {\n",
              "      display:flex;\n",
              "      flex-wrap:wrap;\n",
              "      gap: 12px;\n",
              "    }\n",
              "\n",
              "    .colab-df-convert {\n",
              "      background-color: #E8F0FE;\n",
              "      border: none;\n",
              "      border-radius: 50%;\n",
              "      cursor: pointer;\n",
              "      display: none;\n",
              "      fill: #1967D2;\n",
              "      height: 32px;\n",
              "      padding: 0 0 0 0;\n",
              "      width: 32px;\n",
              "    }\n",
              "\n",
              "    .colab-df-convert:hover {\n",
              "      background-color: #E2EBFA;\n",
              "      box-shadow: 0px 1px 2px rgba(60, 64, 67, 0.3), 0px 1px 3px 1px rgba(60, 64, 67, 0.15);\n",
              "      fill: #174EA6;\n",
              "    }\n",
              "\n",
              "    [theme=dark] .colab-df-convert {\n",
              "      background-color: #3B4455;\n",
              "      fill: #D2E3FC;\n",
              "    }\n",
              "\n",
              "    [theme=dark] .colab-df-convert:hover {\n",
              "      background-color: #434B5C;\n",
              "      box-shadow: 0px 1px 3px 1px rgba(0, 0, 0, 0.15);\n",
              "      filter: drop-shadow(0px 1px 2px rgba(0, 0, 0, 0.3));\n",
              "      fill: #FFFFFF;\n",
              "    }\n",
              "  </style>\n",
              "\n",
              "      <script>\n",
              "        const buttonEl =\n",
              "          document.querySelector('#df-a6dfe5b8-492a-4b75-b7f6-1808b24fff4f button.colab-df-convert');\n",
              "        buttonEl.style.display =\n",
              "          google.colab.kernel.accessAllowed ? 'block' : 'none';\n",
              "\n",
              "        async function convertToInteractive(key) {\n",
              "          const element = document.querySelector('#df-a6dfe5b8-492a-4b75-b7f6-1808b24fff4f');\n",
              "          const dataTable =\n",
              "            await google.colab.kernel.invokeFunction('convertToInteractive',\n",
              "                                                     [key], {});\n",
              "          if (!dataTable) return;\n",
              "\n",
              "          const docLinkHtml = 'Like what you see? Visit the ' +\n",
              "            '<a target=\"_blank\" href=https://colab.research.google.com/notebooks/data_table.ipynb>data table notebook</a>'\n",
              "            + ' to learn more about interactive tables.';\n",
              "          element.innerHTML = '';\n",
              "          dataTable['output_type'] = 'display_data';\n",
              "          await google.colab.output.renderOutput(dataTable, element);\n",
              "          const docLink = document.createElement('div');\n",
              "          docLink.innerHTML = docLinkHtml;\n",
              "          element.appendChild(docLink);\n",
              "        }\n",
              "      </script>\n",
              "    </div>\n",
              "  </div>\n",
              "  "
            ]
          },
          "metadata": {},
          "execution_count": 253
        }
      ]
    },
    {
      "cell_type": "markdown",
      "source": [
        "Creating X_exp and y_exp"
      ],
      "metadata": {
        "id": "uR-YciMEdNup"
      }
    },
    {
      "cell_type": "code",
      "source": [
        "X_exp = df_t5.copy()\n",
        "X_exp.drop(['class', 'target'], axis=1, inplace=True)\n",
        "y_exp = df_t5['class']"
      ],
      "metadata": {
        "id": "LvLdgA-ZcQ2N"
      },
      "execution_count": 254,
      "outputs": []
    },
    {
      "cell_type": "markdown",
      "source": [
        "Dimensionality Reduction since training data have 15 features, the test data must have the same number of features"
      ],
      "metadata": {
        "id": "yNPqKNMedof-"
      }
    },
    {
      "cell_type": "code",
      "source": [
        "# Perform PCA with 15 number of components\n",
        "pca = PCA(n_components=15)\n",
        "principal_components = pca.fit_transform(X_exp)\n",
        "\n",
        "# Print the explained variance ratio and the transformed data\n",
        "print(f\"Explained variance ratio: {sum(pca.explained_variance_ratio_)}\")\n",
        "X_exp = pd.DataFrame(data=principal_components, columns=[f\"pc {i+1}\" for i in range(num_components)])\n",
        "X_exp.head(5)"
      ],
      "metadata": {
        "colab": {
          "base_uri": "https://localhost:8080/",
          "height": 223
        },
        "id": "zB4qGf4HdoDO",
        "outputId": "d03ad4fd-1d8c-4a17-b399-a009568a99b9"
      },
      "execution_count": 255,
      "outputs": [
        {
          "output_type": "stream",
          "name": "stdout",
          "text": [
            "Explained variance ratio: 0.9712502430993828\n"
          ]
        },
        {
          "output_type": "execute_result",
          "data": {
            "text/plain": [
              "        pc 1       pc 2      pc 3       pc 4      pc 5       pc 6       pc 7  \\\n",
              "0 -20.629681  -7.948357  5.998480  -1.763332  8.867658  -8.939672  -1.282620   \n",
              "1  38.142077  -2.862445 -5.146221  -4.469362  1.590061 -17.813532   6.020525   \n",
              "2 -11.256948  11.370637 -7.059366   7.005518  7.720206  -2.143176  -8.036164   \n",
              "3 -14.712804  -9.614372 -5.910638   5.141970 -3.227029  -6.987868 -10.094717   \n",
              "4  -4.250027  -2.627471  9.164720 -25.199098 -6.477350  -4.514182  -0.223468   \n",
              "\n",
              "       pc 8      pc 9      pc 10     pc 11     pc 12     pc 13     pc 14  \\\n",
              "0  9.275053 -0.642283   1.985149  0.393067  1.279420 -5.594255  4.800435   \n",
              "1  3.210381 -1.404566  -9.676070  0.152972  6.247040 -3.001085  2.736768   \n",
              "2  5.891335  0.315110  -3.903400 -3.676967  0.907786 -8.090470  2.092000   \n",
              "3  0.972015  0.634060  -5.178892  2.264189  2.612988 -1.837532 -3.909555   \n",
              "4 -4.081908  8.324834  11.630335 -1.339323 -1.771577 -5.990326  2.175292   \n",
              "\n",
              "      pc 15  \n",
              "0 -2.597315  \n",
              "1  1.084261  \n",
              "2 -2.979229  \n",
              "3 -0.995834  \n",
              "4  2.745929  "
            ],
            "text/html": [
              "\n",
              "  <div id=\"df-35415a8a-e971-4b3d-aacd-a3201b0d90f2\">\n",
              "    <div class=\"colab-df-container\">\n",
              "      <div>\n",
              "<style scoped>\n",
              "    .dataframe tbody tr th:only-of-type {\n",
              "        vertical-align: middle;\n",
              "    }\n",
              "\n",
              "    .dataframe tbody tr th {\n",
              "        vertical-align: top;\n",
              "    }\n",
              "\n",
              "    .dataframe thead th {\n",
              "        text-align: right;\n",
              "    }\n",
              "</style>\n",
              "<table border=\"1\" class=\"dataframe\">\n",
              "  <thead>\n",
              "    <tr style=\"text-align: right;\">\n",
              "      <th></th>\n",
              "      <th>pc 1</th>\n",
              "      <th>pc 2</th>\n",
              "      <th>pc 3</th>\n",
              "      <th>pc 4</th>\n",
              "      <th>pc 5</th>\n",
              "      <th>pc 6</th>\n",
              "      <th>pc 7</th>\n",
              "      <th>pc 8</th>\n",
              "      <th>pc 9</th>\n",
              "      <th>pc 10</th>\n",
              "      <th>pc 11</th>\n",
              "      <th>pc 12</th>\n",
              "      <th>pc 13</th>\n",
              "      <th>pc 14</th>\n",
              "      <th>pc 15</th>\n",
              "    </tr>\n",
              "  </thead>\n",
              "  <tbody>\n",
              "    <tr>\n",
              "      <th>0</th>\n",
              "      <td>-20.629681</td>\n",
              "      <td>-7.948357</td>\n",
              "      <td>5.998480</td>\n",
              "      <td>-1.763332</td>\n",
              "      <td>8.867658</td>\n",
              "      <td>-8.939672</td>\n",
              "      <td>-1.282620</td>\n",
              "      <td>9.275053</td>\n",
              "      <td>-0.642283</td>\n",
              "      <td>1.985149</td>\n",
              "      <td>0.393067</td>\n",
              "      <td>1.279420</td>\n",
              "      <td>-5.594255</td>\n",
              "      <td>4.800435</td>\n",
              "      <td>-2.597315</td>\n",
              "    </tr>\n",
              "    <tr>\n",
              "      <th>1</th>\n",
              "      <td>38.142077</td>\n",
              "      <td>-2.862445</td>\n",
              "      <td>-5.146221</td>\n",
              "      <td>-4.469362</td>\n",
              "      <td>1.590061</td>\n",
              "      <td>-17.813532</td>\n",
              "      <td>6.020525</td>\n",
              "      <td>3.210381</td>\n",
              "      <td>-1.404566</td>\n",
              "      <td>-9.676070</td>\n",
              "      <td>0.152972</td>\n",
              "      <td>6.247040</td>\n",
              "      <td>-3.001085</td>\n",
              "      <td>2.736768</td>\n",
              "      <td>1.084261</td>\n",
              "    </tr>\n",
              "    <tr>\n",
              "      <th>2</th>\n",
              "      <td>-11.256948</td>\n",
              "      <td>11.370637</td>\n",
              "      <td>-7.059366</td>\n",
              "      <td>7.005518</td>\n",
              "      <td>7.720206</td>\n",
              "      <td>-2.143176</td>\n",
              "      <td>-8.036164</td>\n",
              "      <td>5.891335</td>\n",
              "      <td>0.315110</td>\n",
              "      <td>-3.903400</td>\n",
              "      <td>-3.676967</td>\n",
              "      <td>0.907786</td>\n",
              "      <td>-8.090470</td>\n",
              "      <td>2.092000</td>\n",
              "      <td>-2.979229</td>\n",
              "    </tr>\n",
              "    <tr>\n",
              "      <th>3</th>\n",
              "      <td>-14.712804</td>\n",
              "      <td>-9.614372</td>\n",
              "      <td>-5.910638</td>\n",
              "      <td>5.141970</td>\n",
              "      <td>-3.227029</td>\n",
              "      <td>-6.987868</td>\n",
              "      <td>-10.094717</td>\n",
              "      <td>0.972015</td>\n",
              "      <td>0.634060</td>\n",
              "      <td>-5.178892</td>\n",
              "      <td>2.264189</td>\n",
              "      <td>2.612988</td>\n",
              "      <td>-1.837532</td>\n",
              "      <td>-3.909555</td>\n",
              "      <td>-0.995834</td>\n",
              "    </tr>\n",
              "    <tr>\n",
              "      <th>4</th>\n",
              "      <td>-4.250027</td>\n",
              "      <td>-2.627471</td>\n",
              "      <td>9.164720</td>\n",
              "      <td>-25.199098</td>\n",
              "      <td>-6.477350</td>\n",
              "      <td>-4.514182</td>\n",
              "      <td>-0.223468</td>\n",
              "      <td>-4.081908</td>\n",
              "      <td>8.324834</td>\n",
              "      <td>11.630335</td>\n",
              "      <td>-1.339323</td>\n",
              "      <td>-1.771577</td>\n",
              "      <td>-5.990326</td>\n",
              "      <td>2.175292</td>\n",
              "      <td>2.745929</td>\n",
              "    </tr>\n",
              "  </tbody>\n",
              "</table>\n",
              "</div>\n",
              "      <button class=\"colab-df-convert\" onclick=\"convertToInteractive('df-35415a8a-e971-4b3d-aacd-a3201b0d90f2')\"\n",
              "              title=\"Convert this dataframe to an interactive table.\"\n",
              "              style=\"display:none;\">\n",
              "        \n",
              "  <svg xmlns=\"http://www.w3.org/2000/svg\" height=\"24px\"viewBox=\"0 0 24 24\"\n",
              "       width=\"24px\">\n",
              "    <path d=\"M0 0h24v24H0V0z\" fill=\"none\"/>\n",
              "    <path d=\"M18.56 5.44l.94 2.06.94-2.06 2.06-.94-2.06-.94-.94-2.06-.94 2.06-2.06.94zm-11 1L8.5 8.5l.94-2.06 2.06-.94-2.06-.94L8.5 2.5l-.94 2.06-2.06.94zm10 10l.94 2.06.94-2.06 2.06-.94-2.06-.94-.94-2.06-.94 2.06-2.06.94z\"/><path d=\"M17.41 7.96l-1.37-1.37c-.4-.4-.92-.59-1.43-.59-.52 0-1.04.2-1.43.59L10.3 9.45l-7.72 7.72c-.78.78-.78 2.05 0 2.83L4 21.41c.39.39.9.59 1.41.59.51 0 1.02-.2 1.41-.59l7.78-7.78 2.81-2.81c.8-.78.8-2.07 0-2.86zM5.41 20L4 18.59l7.72-7.72 1.47 1.35L5.41 20z\"/>\n",
              "  </svg>\n",
              "      </button>\n",
              "      \n",
              "  <style>\n",
              "    .colab-df-container {\n",
              "      display:flex;\n",
              "      flex-wrap:wrap;\n",
              "      gap: 12px;\n",
              "    }\n",
              "\n",
              "    .colab-df-convert {\n",
              "      background-color: #E8F0FE;\n",
              "      border: none;\n",
              "      border-radius: 50%;\n",
              "      cursor: pointer;\n",
              "      display: none;\n",
              "      fill: #1967D2;\n",
              "      height: 32px;\n",
              "      padding: 0 0 0 0;\n",
              "      width: 32px;\n",
              "    }\n",
              "\n",
              "    .colab-df-convert:hover {\n",
              "      background-color: #E2EBFA;\n",
              "      box-shadow: 0px 1px 2px rgba(60, 64, 67, 0.3), 0px 1px 3px 1px rgba(60, 64, 67, 0.15);\n",
              "      fill: #174EA6;\n",
              "    }\n",
              "\n",
              "    [theme=dark] .colab-df-convert {\n",
              "      background-color: #3B4455;\n",
              "      fill: #D2E3FC;\n",
              "    }\n",
              "\n",
              "    [theme=dark] .colab-df-convert:hover {\n",
              "      background-color: #434B5C;\n",
              "      box-shadow: 0px 1px 3px 1px rgba(0, 0, 0, 0.15);\n",
              "      filter: drop-shadow(0px 1px 2px rgba(0, 0, 0, 0.3));\n",
              "      fill: #FFFFFF;\n",
              "    }\n",
              "  </style>\n",
              "\n",
              "      <script>\n",
              "        const buttonEl =\n",
              "          document.querySelector('#df-35415a8a-e971-4b3d-aacd-a3201b0d90f2 button.colab-df-convert');\n",
              "        buttonEl.style.display =\n",
              "          google.colab.kernel.accessAllowed ? 'block' : 'none';\n",
              "\n",
              "        async function convertToInteractive(key) {\n",
              "          const element = document.querySelector('#df-35415a8a-e971-4b3d-aacd-a3201b0d90f2');\n",
              "          const dataTable =\n",
              "            await google.colab.kernel.invokeFunction('convertToInteractive',\n",
              "                                                     [key], {});\n",
              "          if (!dataTable) return;\n",
              "\n",
              "          const docLinkHtml = 'Like what you see? Visit the ' +\n",
              "            '<a target=\"_blank\" href=https://colab.research.google.com/notebooks/data_table.ipynb>data table notebook</a>'\n",
              "            + ' to learn more about interactive tables.';\n",
              "          element.innerHTML = '';\n",
              "          dataTable['output_type'] = 'display_data';\n",
              "          await google.colab.output.renderOutput(dataTable, element);\n",
              "          const docLink = document.createElement('div');\n",
              "          docLink.innerHTML = docLinkHtml;\n",
              "          element.appendChild(docLink);\n",
              "        }\n",
              "      </script>\n",
              "    </div>\n",
              "  </div>\n",
              "  "
            ]
          },
          "metadata": {},
          "execution_count": 255
        }
      ]
    },
    {
      "cell_type": "markdown",
      "source": [
        "Standardization"
      ],
      "metadata": {
        "id": "VNY_LPrLeHVE"
      }
    },
    {
      "cell_type": "code",
      "source": [
        "# define mu-sigma standardizer scaler\n",
        "ss = StandardScaler()\n",
        "  \n",
        "# transform data\n",
        "X_exp = pd.DataFrame(ss.fit_transform(X_exp),columns = X_exp.columns)\n",
        "X_exp.head()"
      ],
      "metadata": {
        "colab": {
          "base_uri": "https://localhost:8080/",
          "height": 206
        },
        "id": "BD0Z3Sm9eIAq",
        "outputId": "93fe4c61-dc76-4550-fa19-9db629aec8ee"
      },
      "execution_count": 256,
      "outputs": [
        {
          "output_type": "execute_result",
          "data": {
            "text/plain": [
              "       pc 1      pc 2      pc 3      pc 4      pc 5      pc 6      pc 7  \\\n",
              "0 -0.850604 -0.474005  0.458412 -0.146639  0.927264 -1.045457 -0.167159   \n",
              "1  1.572676 -0.170704 -0.393281 -0.371672  0.166268 -2.083218  0.784632   \n",
              "2 -0.464147  0.678095 -0.539486  0.582579  0.807278 -0.250635 -1.047323   \n",
              "3 -0.606639 -0.573359 -0.451699  0.427606 -0.337441 -0.817202 -1.315606   \n",
              "4 -0.175237 -0.156691  0.700380 -2.095558 -0.677317 -0.527915 -0.029124   \n",
              "\n",
              "       pc 8      pc 9     pc 10     pc 11     pc 12     pc 13     pc 14  \\\n",
              "0  1.605605 -0.122937  0.413111  0.082953  0.294278 -1.382623  1.244474   \n",
              "1  0.555749 -0.268843 -2.013597  0.032283  1.436874 -0.741720  0.709485   \n",
              "2  1.019849  0.060314 -0.812300 -0.775985  0.208799 -1.999564  0.542334   \n",
              "3  0.168266  0.121363 -1.077731  0.477833  0.601010 -0.454147 -1.013521   \n",
              "4 -0.706619  1.593428  2.420281 -0.282650 -0.407478 -1.480512  0.563927   \n",
              "\n",
              "      pc 15  \n",
              "0 -0.809797  \n",
              "1  0.338053  \n",
              "2 -0.928871  \n",
              "3 -0.310483  \n",
              "4  0.856132  "
            ],
            "text/html": [
              "\n",
              "  <div id=\"df-eccdafb5-2eab-44ab-bc34-8760befd5e9f\">\n",
              "    <div class=\"colab-df-container\">\n",
              "      <div>\n",
              "<style scoped>\n",
              "    .dataframe tbody tr th:only-of-type {\n",
              "        vertical-align: middle;\n",
              "    }\n",
              "\n",
              "    .dataframe tbody tr th {\n",
              "        vertical-align: top;\n",
              "    }\n",
              "\n",
              "    .dataframe thead th {\n",
              "        text-align: right;\n",
              "    }\n",
              "</style>\n",
              "<table border=\"1\" class=\"dataframe\">\n",
              "  <thead>\n",
              "    <tr style=\"text-align: right;\">\n",
              "      <th></th>\n",
              "      <th>pc 1</th>\n",
              "      <th>pc 2</th>\n",
              "      <th>pc 3</th>\n",
              "      <th>pc 4</th>\n",
              "      <th>pc 5</th>\n",
              "      <th>pc 6</th>\n",
              "      <th>pc 7</th>\n",
              "      <th>pc 8</th>\n",
              "      <th>pc 9</th>\n",
              "      <th>pc 10</th>\n",
              "      <th>pc 11</th>\n",
              "      <th>pc 12</th>\n",
              "      <th>pc 13</th>\n",
              "      <th>pc 14</th>\n",
              "      <th>pc 15</th>\n",
              "    </tr>\n",
              "  </thead>\n",
              "  <tbody>\n",
              "    <tr>\n",
              "      <th>0</th>\n",
              "      <td>-0.850604</td>\n",
              "      <td>-0.474005</td>\n",
              "      <td>0.458412</td>\n",
              "      <td>-0.146639</td>\n",
              "      <td>0.927264</td>\n",
              "      <td>-1.045457</td>\n",
              "      <td>-0.167159</td>\n",
              "      <td>1.605605</td>\n",
              "      <td>-0.122937</td>\n",
              "      <td>0.413111</td>\n",
              "      <td>0.082953</td>\n",
              "      <td>0.294278</td>\n",
              "      <td>-1.382623</td>\n",
              "      <td>1.244474</td>\n",
              "      <td>-0.809797</td>\n",
              "    </tr>\n",
              "    <tr>\n",
              "      <th>1</th>\n",
              "      <td>1.572676</td>\n",
              "      <td>-0.170704</td>\n",
              "      <td>-0.393281</td>\n",
              "      <td>-0.371672</td>\n",
              "      <td>0.166268</td>\n",
              "      <td>-2.083218</td>\n",
              "      <td>0.784632</td>\n",
              "      <td>0.555749</td>\n",
              "      <td>-0.268843</td>\n",
              "      <td>-2.013597</td>\n",
              "      <td>0.032283</td>\n",
              "      <td>1.436874</td>\n",
              "      <td>-0.741720</td>\n",
              "      <td>0.709485</td>\n",
              "      <td>0.338053</td>\n",
              "    </tr>\n",
              "    <tr>\n",
              "      <th>2</th>\n",
              "      <td>-0.464147</td>\n",
              "      <td>0.678095</td>\n",
              "      <td>-0.539486</td>\n",
              "      <td>0.582579</td>\n",
              "      <td>0.807278</td>\n",
              "      <td>-0.250635</td>\n",
              "      <td>-1.047323</td>\n",
              "      <td>1.019849</td>\n",
              "      <td>0.060314</td>\n",
              "      <td>-0.812300</td>\n",
              "      <td>-0.775985</td>\n",
              "      <td>0.208799</td>\n",
              "      <td>-1.999564</td>\n",
              "      <td>0.542334</td>\n",
              "      <td>-0.928871</td>\n",
              "    </tr>\n",
              "    <tr>\n",
              "      <th>3</th>\n",
              "      <td>-0.606639</td>\n",
              "      <td>-0.573359</td>\n",
              "      <td>-0.451699</td>\n",
              "      <td>0.427606</td>\n",
              "      <td>-0.337441</td>\n",
              "      <td>-0.817202</td>\n",
              "      <td>-1.315606</td>\n",
              "      <td>0.168266</td>\n",
              "      <td>0.121363</td>\n",
              "      <td>-1.077731</td>\n",
              "      <td>0.477833</td>\n",
              "      <td>0.601010</td>\n",
              "      <td>-0.454147</td>\n",
              "      <td>-1.013521</td>\n",
              "      <td>-0.310483</td>\n",
              "    </tr>\n",
              "    <tr>\n",
              "      <th>4</th>\n",
              "      <td>-0.175237</td>\n",
              "      <td>-0.156691</td>\n",
              "      <td>0.700380</td>\n",
              "      <td>-2.095558</td>\n",
              "      <td>-0.677317</td>\n",
              "      <td>-0.527915</td>\n",
              "      <td>-0.029124</td>\n",
              "      <td>-0.706619</td>\n",
              "      <td>1.593428</td>\n",
              "      <td>2.420281</td>\n",
              "      <td>-0.282650</td>\n",
              "      <td>-0.407478</td>\n",
              "      <td>-1.480512</td>\n",
              "      <td>0.563927</td>\n",
              "      <td>0.856132</td>\n",
              "    </tr>\n",
              "  </tbody>\n",
              "</table>\n",
              "</div>\n",
              "      <button class=\"colab-df-convert\" onclick=\"convertToInteractive('df-eccdafb5-2eab-44ab-bc34-8760befd5e9f')\"\n",
              "              title=\"Convert this dataframe to an interactive table.\"\n",
              "              style=\"display:none;\">\n",
              "        \n",
              "  <svg xmlns=\"http://www.w3.org/2000/svg\" height=\"24px\"viewBox=\"0 0 24 24\"\n",
              "       width=\"24px\">\n",
              "    <path d=\"M0 0h24v24H0V0z\" fill=\"none\"/>\n",
              "    <path d=\"M18.56 5.44l.94 2.06.94-2.06 2.06-.94-2.06-.94-.94-2.06-.94 2.06-2.06.94zm-11 1L8.5 8.5l.94-2.06 2.06-.94-2.06-.94L8.5 2.5l-.94 2.06-2.06.94zm10 10l.94 2.06.94-2.06 2.06-.94-2.06-.94-.94-2.06-.94 2.06-2.06.94z\"/><path d=\"M17.41 7.96l-1.37-1.37c-.4-.4-.92-.59-1.43-.59-.52 0-1.04.2-1.43.59L10.3 9.45l-7.72 7.72c-.78.78-.78 2.05 0 2.83L4 21.41c.39.39.9.59 1.41.59.51 0 1.02-.2 1.41-.59l7.78-7.78 2.81-2.81c.8-.78.8-2.07 0-2.86zM5.41 20L4 18.59l7.72-7.72 1.47 1.35L5.41 20z\"/>\n",
              "  </svg>\n",
              "      </button>\n",
              "      \n",
              "  <style>\n",
              "    .colab-df-container {\n",
              "      display:flex;\n",
              "      flex-wrap:wrap;\n",
              "      gap: 12px;\n",
              "    }\n",
              "\n",
              "    .colab-df-convert {\n",
              "      background-color: #E8F0FE;\n",
              "      border: none;\n",
              "      border-radius: 50%;\n",
              "      cursor: pointer;\n",
              "      display: none;\n",
              "      fill: #1967D2;\n",
              "      height: 32px;\n",
              "      padding: 0 0 0 0;\n",
              "      width: 32px;\n",
              "    }\n",
              "\n",
              "    .colab-df-convert:hover {\n",
              "      background-color: #E2EBFA;\n",
              "      box-shadow: 0px 1px 2px rgba(60, 64, 67, 0.3), 0px 1px 3px 1px rgba(60, 64, 67, 0.15);\n",
              "      fill: #174EA6;\n",
              "    }\n",
              "\n",
              "    [theme=dark] .colab-df-convert {\n",
              "      background-color: #3B4455;\n",
              "      fill: #D2E3FC;\n",
              "    }\n",
              "\n",
              "    [theme=dark] .colab-df-convert:hover {\n",
              "      background-color: #434B5C;\n",
              "      box-shadow: 0px 1px 3px 1px rgba(0, 0, 0, 0.15);\n",
              "      filter: drop-shadow(0px 1px 2px rgba(0, 0, 0, 0.3));\n",
              "      fill: #FFFFFF;\n",
              "    }\n",
              "  </style>\n",
              "\n",
              "      <script>\n",
              "        const buttonEl =\n",
              "          document.querySelector('#df-eccdafb5-2eab-44ab-bc34-8760befd5e9f button.colab-df-convert');\n",
              "        buttonEl.style.display =\n",
              "          google.colab.kernel.accessAllowed ? 'block' : 'none';\n",
              "\n",
              "        async function convertToInteractive(key) {\n",
              "          const element = document.querySelector('#df-eccdafb5-2eab-44ab-bc34-8760befd5e9f');\n",
              "          const dataTable =\n",
              "            await google.colab.kernel.invokeFunction('convertToInteractive',\n",
              "                                                     [key], {});\n",
              "          if (!dataTable) return;\n",
              "\n",
              "          const docLinkHtml = 'Like what you see? Visit the ' +\n",
              "            '<a target=\"_blank\" href=https://colab.research.google.com/notebooks/data_table.ipynb>data table notebook</a>'\n",
              "            + ' to learn more about interactive tables.';\n",
              "          element.innerHTML = '';\n",
              "          dataTable['output_type'] = 'display_data';\n",
              "          await google.colab.output.renderOutput(dataTable, element);\n",
              "          const docLink = document.createElement('div');\n",
              "          docLink.innerHTML = docLinkHtml;\n",
              "          element.appendChild(docLink);\n",
              "        }\n",
              "      </script>\n",
              "    </div>\n",
              "  </div>\n",
              "  "
            ]
          },
          "metadata": {},
          "execution_count": 256
        }
      ]
    },
    {
      "cell_type": "markdown",
      "source": [
        "## **(a) Using the best classifier, classify each pixel**"
      ],
      "metadata": {
        "id": "XVpgq5mOgdMC"
      }
    },
    {
      "cell_type": "markdown",
      "source": [
        "The best model among all 8 classifiers is SVM so we test with SVM"
      ],
      "metadata": {
        "id": "Jube9M1Jea7M"
      }
    },
    {
      "cell_type": "code",
      "source": [
        "#fitting the training data\n",
        "model_svm.fit(X,y)\n",
        "\n",
        "#predict\n",
        "predictions = model_svm.predict(X_exp)\n",
        "\n",
        "# Calculate the confusion matrix\n",
        "confusion_mat = confusion_matrix(y_exp, predictions)\n",
        "print(\"Confusion matrix:\")\n",
        "print(confusion_mat)\n",
        "print()\n",
        "# Generate the classification report\n",
        "report = classification_report(y_exp, predictions)\n",
        "print(report)"
      ],
      "metadata": {
        "colab": {
          "base_uri": "https://localhost:8080/",
          "height": 0
        },
        "id": "zkMVfDlTeYet",
        "outputId": "eff39c89-c786-45b5-d0af-15a64fe35143"
      },
      "execution_count": 257,
      "outputs": [
        {
          "output_type": "stream",
          "name": "stdout",
          "text": [
            "Confusion matrix:\n",
            "[[ 878 1014  160  258 1285  405]\n",
            " [ 238  815   70   53  189  135]\n",
            " [  58  301   34   82  295  130]\n",
            " [ 129  511   31  349  299  181]\n",
            " [  76  159  174   47  363   81]\n",
            " [ 120  364  178   70  116  352]]\n",
            "\n",
            "              precision    recall  f1-score   support\n",
            "\n",
            "           0       0.59      0.22      0.32      4000\n",
            "           1       0.26      0.54      0.35      1500\n",
            "           2       0.05      0.04      0.04       900\n",
            "           3       0.41      0.23      0.30      1500\n",
            "           4       0.14      0.40      0.21       900\n",
            "           5       0.27      0.29      0.28      1200\n",
            "\n",
            "    accuracy                           0.28     10000\n",
            "   macro avg       0.29      0.29      0.25     10000\n",
            "weighted avg       0.38      0.28      0.28     10000\n",
            "\n"
          ]
        }
      ]
    },
    {
      "cell_type": "markdown",
      "source": [
        "The scores are not actually bad since we train the model with only 1,000 samples but we try to predict 10,000 samples."
      ],
      "metadata": {
        "id": "kVoZtRv3kkHU"
      }
    },
    {
      "cell_type": "markdown",
      "source": [
        "F-score value of class-2 is pretty low, the reason can be explained by the training data. We only had 67 samples belong to class 2 which is the minimum number and we try to predict 900 values. The best result is belong to class-1 with 0.35 F-score and we had 230 samples (the max amount) for the training dataset for that class. For this reason, it seem that prediction of class-1 is more successful."
      ],
      "metadata": {
        "id": "mQsdTAhVkwPj"
      }
    },
    {
      "cell_type": "code",
      "source": [
        "y.value_counts()"
      ],
      "metadata": {
        "colab": {
          "base_uri": "https://localhost:8080/",
          "height": 0
        },
        "id": "QCpQx96CkCpo",
        "outputId": "9f263ddc-fe02-48bd-a028-cb1a6c078c57"
      },
      "execution_count": 258,
      "outputs": [
        {
          "output_type": "execute_result",
          "data": {
            "text/plain": [
              "1    230\n",
              "4    224\n",
              "5    148\n",
              "0    132\n",
              "3     68\n",
              "2     67\n",
              "Name: class, dtype: int64"
            ]
          },
          "metadata": {},
          "execution_count": 258
        }
      ]
    },
    {
      "cell_type": "markdown",
      "source": [
        "## **(b) Using the regressor, predict the target values**"
      ],
      "metadata": {
        "id": "jkmUBZBJla-P"
      }
    },
    {
      "cell_type": "code",
      "source": [
        "X_exp = df_t5.copy()\n",
        "X_exp.drop(['class', 'target'], axis=1, inplace=True)\n",
        "y_exp = df_t5['target']\n",
        "\n",
        "# define mu-sigma standardizer scaler\n",
        "ss = StandardScaler()\n",
        "  \n",
        "# transform data\n",
        "X_exp = pd.DataFrame(ss.fit_transform(X_exp),columns = X_exp.columns)\n",
        "\n",
        "poly = PolynomialFeatures(degree=1)\n",
        "X_exp_poly = poly.fit_transform(X_exp)\n",
        "\n",
        "# Make predictions on the test data\n",
        "predictions = model_r.predict(X_exp_poly)\n",
        "\n",
        "# Calculate the root mean squared error\n",
        "rmse = np.sqrt(mean_squared_error(y_exp, predictions))\n",
        "\n",
        "# Calculate the R2 score\n",
        "r2 = r2_score(y_exp, predictions)\n",
        "\n",
        "print(\"Root mean squared error:\", rmse)\n",
        "print(\"R2 score:\", r2)"
      ],
      "metadata": {
        "colab": {
          "base_uri": "https://localhost:8080/",
          "height": 0
        },
        "id": "pDcGJzxDlgA8",
        "outputId": "7af126c4-1935-4afd-d505-80caa8b12275"
      },
      "execution_count": 259,
      "outputs": [
        {
          "output_type": "stream",
          "name": "stdout",
          "text": [
            "Root mean squared error: 0.00713076055408048\n",
            "R2 score: 0.9597576073277467\n"
          ]
        }
      ]
    },
    {
      "cell_type": "markdown",
      "source": [
        "Since the mean R2 value is very close to 1 and RMSE value is quite low, we can state the regressor model is performing very well."
      ],
      "metadata": {
        "id": "aJQXl09ns-_g"
      }
    }
  ]
}
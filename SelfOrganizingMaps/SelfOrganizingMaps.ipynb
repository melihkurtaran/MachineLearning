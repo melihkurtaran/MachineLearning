{
  "nbformat": 4,
  "nbformat_minor": 0,
  "metadata": {
    "colab": {
      "provenance": [],
      "toc_visible": true,
      "authorship_tag": "ABX9TyNA9ov7CMbVvWEjx035IfgI",
      "include_colab_link": true
    },
    "kernelspec": {
      "name": "python3",
      "display_name": "Python 3"
    },
    "language_info": {
      "name": "python"
    }
  },
  "cells": [
    {
      "cell_type": "markdown",
      "metadata": {
        "id": "view-in-github",
        "colab_type": "text"
      },
      "source": [
        "<a href=\"https://colab.research.google.com/github/melihkurtaran/MachineLearning/blob/main/SelfOrganizingMaps/SelfOrganizingMaps.ipynb\" target=\"_parent\"><img src=\"https://colab.research.google.com/assets/colab-badge.svg\" alt=\"Open In Colab\"/></a>"
      ]
    },
    {
      "cell_type": "markdown",
      "source": [
        "**Self-Organizing Maps (SOM) Project**"
      ],
      "metadata": {
        "id": "-sV1O4lfnNUr"
      }
    },
    {
      "cell_type": "markdown",
      "source": [
        "Author: Melih Kurtaran"
      ],
      "metadata": {
        "id": "E4Bouobspfa9"
      }
    },
    {
      "cell_type": "markdown",
      "source": [
        "This project use the libraries minisom (https://github.com/JustGlowing/minisom), scikit-learn (https://scikit-learn.org) and matplotlib (https://matplotlib.org/)."
      ],
      "metadata": {
        "id": "JiAkmm3qpDS0"
      }
    },
    {
      "cell_type": "markdown",
      "source": [
        "Installation of minisom"
      ],
      "metadata": {
        "id": "J7LtL-W3sAhX"
      }
    },
    {
      "cell_type": "code",
      "source": [
        "!pip install minisom"
      ],
      "metadata": {
        "id": "T_2Ska0Lr_Ur",
        "outputId": "8cce7105-849d-40d5-951e-bdd347338c57",
        "colab": {
          "base_uri": "https://localhost:8080/"
        }
      },
      "execution_count": 1,
      "outputs": [
        {
          "output_type": "stream",
          "name": "stdout",
          "text": [
            "Looking in indexes: https://pypi.org/simple, https://us-python.pkg.dev/colab-wheels/public/simple/\n",
            "Collecting minisom\n",
            "  Downloading MiniSom-2.3.0.tar.gz (8.8 kB)\n",
            "  Preparing metadata (setup.py) ... \u001b[?25l\u001b[?25hdone\n",
            "Building wheels for collected packages: minisom\n",
            "  Building wheel for minisom (setup.py) ... \u001b[?25l\u001b[?25hdone\n",
            "  Created wheel for minisom: filename=MiniSom-2.3.0-py3-none-any.whl size=9016 sha256=b13af6d8fd1efb3063975078d9a74f3552f0808c2a27fd68495a3cf68653b6c3\n",
            "  Stored in directory: /root/.cache/pip/wheels/6d/4e/9e/a95c14a232a196c22d9c04b221ff5d25461a1a4c55339c61db\n",
            "Successfully built minisom\n",
            "Installing collected packages: minisom\n",
            "Successfully installed minisom-2.3.0\n"
          ]
        }
      ]
    },
    {
      "cell_type": "markdown",
      "source": [
        "Importing libraries"
      ],
      "metadata": {
        "id": "0gjFcfaBpVma"
      }
    },
    {
      "cell_type": "code",
      "source": [
        "#Load libraries\n",
        "import pandas as pd\n",
        "import numpy as np\n",
        "from sklearn.datasets import load_digits\n",
        "import matplotlib.pyplot as plt\n",
        "from minisom import MiniSom\n",
        "from sklearn.model_selection import train_test_split\n",
        "import seaborn as sns\n",
        "from sklearn.metrics import confusion_matrix\n",
        "from sklearn.metrics import accuracy_score"
      ],
      "metadata": {
        "id": "eoquBSI6nxzx"
      },
      "execution_count": 27,
      "outputs": []
    },
    {
      "cell_type": "markdown",
      "source": [
        "My group number is 11 so the classes I use 2, 5 and 7."
      ],
      "metadata": {
        "id": "uymjgKKHp2BO"
      }
    },
    {
      "cell_type": "code",
      "source": [
        "# Load the digits dataset\n",
        "digits = load_digits()\n",
        "\n",
        "# Create a boolean mask for the samples that correspond to class 2, 5, 7\n",
        "mask = (digits.target == 2) | (digits.target == 5) | (digits.target == 7)\n",
        "\n",
        "# Apply the mask to the data and target arrays\n",
        "X = digits.data[mask]\n",
        "y = digits.target[mask]"
      ],
      "metadata": {
        "id": "ZDJqMjLmp2kD"
      },
      "execution_count": 3,
      "outputs": []
    },
    {
      "cell_type": "markdown",
      "source": [
        "Plotting examples from each class"
      ],
      "metadata": {
        "id": "I0Zf0E9wqt1C"
      }
    },
    {
      "cell_type": "code",
      "source": [
        "#Select some examples of each class\n",
        "examples_2 = X[y == 2][:5]\n",
        "examples_5 = X[y == 5][:5]\n",
        "examples_7 = X[y == 7][:5]\n",
        "\n",
        "# Plot the examples\n",
        "fig, axes = plt.subplots(3, 5, figsize=(8, 5),\n",
        "                         subplot_kw={'xticks':[], 'yticks':[]})\n",
        "fig.suptitle(\"Examples of 2,5,7 classes\")\n",
        "for ax, example in zip(axes[0], examples_2):\n",
        "    ax.imshow(example.reshape(8, 8), cmap='gray')\n",
        "    ax.set_title(\"2\")\n",
        "for ax, example in zip(axes[1], examples_5):\n",
        "    ax.imshow(example.reshape(8, 8), cmap='gray')\n",
        "    ax.set_title(\"5\")\n",
        "for ax, example in zip(axes[2], examples_7):\n",
        "    ax.imshow(example.reshape(8, 8), cmap='gray')\n",
        "    ax.set_title(\"7\")\n",
        "\n",
        "plt.show()"
      ],
      "metadata": {
        "id": "jSkSZPFZqYqp",
        "outputId": "46078f0a-42f7-4755-bbc0-5bef0ab10e13",
        "colab": {
          "base_uri": "https://localhost:8080/",
          "height": 341
        }
      },
      "execution_count": 4,
      "outputs": [
        {
          "output_type": "display_data",
          "data": {
            "text/plain": [
              "<Figure size 576x360 with 15 Axes>"
            ],
            "image/png": "[encoded data removed]"
          },
          "metadata": {}
        }
      ]
    },
    {
      "cell_type": "markdown",
      "source": [
        "# **T1 - Define and train a rectangular SOM**"
      ],
      "metadata": {
        "id": "KfFMqy4TrnLq"
      }
    },
    {
      "cell_type": "markdown",
      "source": [
        "## **a) Split the dataset into train and test**"
      ],
      "metadata": {
        "id": "_0X_p0AWZrzV"
      }
    },
    {
      "cell_type": "markdown",
      "source": [
        "80% of the data is set as training and 20% is set for testing."
      ],
      "metadata": {
        "id": "txDTKLnFZ0I9"
      }
    },
    {
      "cell_type": "code",
      "source": [
        "# Split the dataset into train and test sets\n",
        "X_train, X_test, y_train, y_test = train_test_split(X, y, test_size=0.2, random_state=642)"
      ],
      "metadata": {
        "id": "9BUnrb96ZyFB"
      },
      "execution_count": null,
      "outputs": []
    },
    {
      "cell_type": "markdown",
      "source": [
        "## **b) Define the size of the rectangular SOM according to the recommendations**"
      ],
      "metadata": {
        "id": "x85B472AaQmO"
      }
    },
    {
      "cell_type": "markdown",
      "source": [
        "The recommended size for the SOM is to have the number of neurons in the grid be between the square root of the number of training samples and twice that value. So the size of the grid should be roughly proportional to the square root of the number of samples in the training dataset. This can help ensure that the SOM is able to capture the underlying structure in the data while also avoiding overfitting."
      ],
      "metadata": {
        "id": "D_fcZrXyaWlA"
      }
    },
    {
      "cell_type": "code",
      "source": [
        "len(X_train)"
      ],
      "metadata": {
        "id": "eEVEUgtFaSaR",
        "outputId": "e8e5204e-ea05-4c13-df12-2f47951a93a7",
        "colab": {
          "base_uri": "https://localhost:8080/"
        }
      },
      "execution_count": 11,
      "outputs": [
        {
          "output_type": "execute_result",
          "data": {
            "text/plain": [
              "403"
            ]
          },
          "metadata": {},
          "execution_count": 11
        }
      ]
    },
    {
      "cell_type": "markdown",
      "source": [
        "Based on the MiniSOM library recommendations and the fact that we have 403 training samples, the size of your SOM grid can be determined as follows:"
      ],
      "metadata": {
        "id": "uQU-humQbCTo"
      }
    },
    {
      "cell_type": "markdown",
      "source": [
        "The recommended number of neurons in the grid is between the square root of the number of training samples and twice that value. In this case, the square root of 403 is approximately 20.\n",
        "\n",
        "So, a grid size of 20x20 or 25x16 would be a good starting point. We will start with 20x20."
      ],
      "metadata": {
        "id": "9dS0QrVjbJ0k"
      }
    },
    {
      "cell_type": "markdown",
      "source": [
        "## **c) Train the SOM using the on-line version**"
      ],
      "metadata": {
        "id": "ayUPAs19bwhM"
      }
    },
    {
      "cell_type": "code",
      "source": [
        "# Initialize the SOM\n",
        "som = MiniSom(20, 20, X_train.shape[1], sigma=1.0, learning_rate=0.5)\n",
        "\n",
        "# Train the SOM for 3 attempts and keep track of the errors\n",
        "best_online_som = None\n",
        "best_qe = None\n",
        "best_te = None\n",
        "\n",
        "for i in range(3):\n",
        "    som.train_random(X_train, 100)\n",
        "    qe = som.quantization_error(X)\n",
        "    te = som.topographic_error(X)\n",
        "    if (best_qe is None or qe < best_qe) or (best_te is None or te < best_te):\n",
        "        best_online_som = som\n",
        "        best_qe = qe\n",
        "        best_te = te\n",
        "        \n",
        "    print(f\"Attempt {i+1} - Quantization error: {qe:.4f} - Topographic error: {te:.4f}\")\n",
        "\n",
        "print(f\"Best Online SOM - Quantization error: {best_qe:.4f} - Topographic error: {best_te:.4f}\")"
      ],
      "metadata": {
        "id": "sH_VYqX0tq9c",
        "outputId": "6b7e3963-b4a5-468a-d3f0-c46321634e47",
        "colab": {
          "base_uri": "https://localhost:8080/"
        }
      },
      "execution_count": 24,
      "outputs": [
        {
          "output_type": "stream",
          "name": "stdout",
          "text": [
            "Attempt 1 - Quantization error: 23.9330 - Topographic error: 0.1357\n",
            "Attempt 2 - Quantization error: 22.8657 - Topographic error: 0.1004\n",
            "Attempt 3 - Quantization error: 22.5063 - Topographic error: 0.0967\n",
            "Best Online SOM - Quantization error: 22.5063 - Topographic error: 0.0967\n"
          ]
        }
      ]
    },
    {
      "cell_type": "markdown",
      "source": [
        "## **d) Train the SOM using the batch algorithm**"
      ],
      "metadata": {
        "id": "PNZI8NlSdFe7"
      }
    },
    {
      "cell_type": "code",
      "source": [
        "# Initialize the batch-SOM\n",
        "batch_som = MiniSom(20, 20, X_train.shape[1], sigma=1.0, learning_rate=0.5)\n",
        "\n",
        "# Train the SOM using the batch algorithm\n",
        "batch_som.train_batch(X_train, 100)\n",
        "\n",
        "# Report on the quantization and topographic errors\n",
        "qe = batch_som.quantization_error(X)\n",
        "te = batch_som.topographic_error(X)\n",
        "print(f\"Batch SOM - Quantization error: {qe:.4f} - Topographic error: {te:.4f}\")"
      ],
      "metadata": {
        "id": "bWQL10fWc5Eb",
        "outputId": "6e351c67-fd0c-44b8-ea32-9b2a7bc01aa6",
        "colab": {
          "base_uri": "https://localhost:8080/"
        }
      },
      "execution_count": 22,
      "outputs": [
        {
          "output_type": "stream",
          "name": "stdout",
          "text": [
            "Batch SOM - Quantization error: 23.2034 - Topographic error: 0.2528\n"
          ]
        }
      ]
    },
    {
      "cell_type": "markdown",
      "source": [
        "## **e) Provide the additional performance information**"
      ],
      "metadata": {
        "id": "KZAdvyZWetdJ"
      }
    },
    {
      "cell_type": "markdown",
      "source": [
        "A U-matrix is a visualization of the distances between neighboring neurons in a SOM, where the darker the color, the larger the distance between neurons. The class representation map shows the activation of the neurons in the SOM for a given dataset, where each color corresponds to a different class."
      ],
      "metadata": {
        "id": "eNewte1cfAYE"
      }
    },
    {
      "cell_type": "markdown",
      "source": [
        "i) The U-matrix and the class representation map"
      ],
      "metadata": {
        "id": "Z8l8jS1muYVe"
      }
    },
    {
      "cell_type": "code",
      "source": [
        "# Plot the U-matrix and class representation map of the winning on-line SOM\n",
        "plt.figure(figsize=(10, 8))\n",
        "plt.suptitle(\"Self-organizing Maps Visualization\")\n",
        "\n",
        "plt.subplot(2, 2, 1)\n",
        "plt.title(\"U-matrix of the winning on-line SOM\")\n",
        "sns.heatmap(best_online_som.distance_map().T, cmap=\"Blues\")\n",
        "\n",
        "plt.subplot(2, 2, 2)\n",
        "plt.title(\"Class representation map of the winning on-line SOM\")\n",
        "sns.heatmap(best_online_som.activation_response(X_train), cmap=\"rainbow\", alpha=0.5)\n",
        "\n",
        "# Plot the U-matrix and class representation map of the batch SOM\n",
        "plt.subplot(2, 2, 3)\n",
        "plt.title(\"U-matrix of the batch SOM\")\n",
        "sns.heatmap(batch_som.distance_map().T, cmap=\"Blues\")\n",
        "\n",
        "plt.subplot(2, 2, 4)\n",
        "plt.title(\"Class representation map of the batch SOM\")\n",
        "sns.heatmap(batch_som.activation_response(X_train), cmap=\"rainbow\", alpha=0.5)\n",
        "\n",
        "plt.show()"
      ],
      "metadata": {
        "id": "jBLV4k5atk9-",
        "outputId": "6a7d74e4-385f-4e28-8b8e-fbf7930c1d6a",
        "colab": {
          "base_uri": "https://localhost:8080/",
          "height": 540
        }
      },
      "execution_count": 26,
      "outputs": [
        {
          "output_type": "display_data",
          "data": {
            "text/plain": [
              "<Figure size 720x576 with 8 Axes>"
            ],
            "image/png": "[encoded data removed]"
          },
          "metadata": {
            "needs_background": "light"
          }
        }
      ]
    },
    {
      "cell_type": "markdown",
      "source": [
        "ii) The confusion matrix and the classification accuracy for the test set using the SOM as a classifier"
      ],
      "metadata": {
        "id": "9HMB5tETuaJ6"
      }
    },
    {
      "cell_type": "code",
      "source": [],
      "metadata": {
        "id": "pS5VGS4oie5C"
      },
      "execution_count": null,
      "outputs": []
    },
    {
      "cell_type": "markdown",
      "source": [
        "# **T2 - Define and train a square SOM**"
      ],
      "metadata": {
        "id": "TH_fvuyUifQO"
      }
    },
    {
      "cell_type": "markdown",
      "source": [
        "(a) Using the same train and test sets defined in T1.a)"
      ],
      "metadata": {
        "id": "66a7G-wvip4N"
      }
    },
    {
      "cell_type": "markdown",
      "source": [
        "## **b) Define the size of the square SOM according to the recommendations**"
      ],
      "metadata": {
        "id": "Y1p6gKwZi6Nh"
      }
    },
    {
      "cell_type": "markdown",
      "source": [
        " it is recommended to start with a smaller SOM, such as a 5x5 or 10x10 map, and adjust the size as necessary based on the results obtained. The exact size of the SOM will depend on the complexity of the data and the specific problem you are trying to solve.\n",
        "\n",
        "If the data has a simple structure, a smaller map may be sufficient to represent the structure of the data. If the data has a more complex structure, a larger map may be required to accurately capture the underlying relationships between the samples."
      ],
      "metadata": {
        "id": "WjH3d5NLjmrG"
      }
    },
    {
      "cell_type": "markdown",
      "source": [
        "The size is set as 10x10"
      ],
      "metadata": {
        "id": "jNHQUWA9jnuz"
      }
    },
    {
      "cell_type": "markdown",
      "source": [
        "## **c) Train the SOM using the batch algorithm**"
      ],
      "metadata": {
        "id": "neSJ0HfqkTxd"
      }
    },
    {
      "cell_type": "code",
      "source": [],
      "metadata": {
        "id": "9pqVEgJmio64"
      },
      "execution_count": null,
      "outputs": []
    }
  ]
}
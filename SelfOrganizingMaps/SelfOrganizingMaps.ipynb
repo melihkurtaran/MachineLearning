{
  "nbformat": 4,
  "nbformat_minor": 0,
  "metadata": {
    "colab": {
      "provenance": [],
      "toc_visible": true,
      "authorship_tag": "ABX9TyMLBhtC2PjHGClU4RebGMoD",
      "include_colab_link": true
    },
    "kernelspec": {
      "name": "python3",
      "display_name": "Python 3"
    },
    "language_info": {
      "name": "python"
    }
  },
  "cells": [
    {
      "cell_type": "markdown",
      "metadata": {
        "id": "view-in-github",
        "colab_type": "text"
      },
      "source": [
        "<a href=\"https://colab.research.google.com/github/melihkurtaran/MachineLearning/blob/main/SelfOrganizingMaps/SelfOrganizingMaps.ipynb\" target=\"_parent\"><img src=\"https://colab.research.google.com/assets/colab-badge.svg\" alt=\"Open In Colab\"/></a>"
      ]
    },
    {
      "cell_type": "markdown",
      "source": [
        "**Self-Organizing Maps (SOM) Project**"
      ],
      "metadata": {
        "id": "-sV1O4lfnNUr"
      }
    },
    {
      "cell_type": "markdown",
      "source": [
        "Author: Melih Kurtaran"
      ],
      "metadata": {
        "id": "E4Bouobspfa9"
      }
    },
    {
      "cell_type": "markdown",
      "source": [
        "This project use the libraries minisom (https://github.com/JustGlowing/minisom), scikit-learn (https://scikit-learn.org) and matplotlib (https://matplotlib.org/)."
      ],
      "metadata": {
        "id": "JiAkmm3qpDS0"
      }
    },
    {
      "cell_type": "markdown",
      "source": [
        "Installation of minisom"
      ],
      "metadata": {
        "id": "J7LtL-W3sAhX"
      }
    },
    {
      "cell_type": "code",
      "source": [
        "!pip install minisom"
      ],
      "metadata": {
        "id": "T_2Ska0Lr_Ur",
        "outputId": "142eba6a-8b7e-4596-8671-a9e1ad989c11",
        "colab": {
          "base_uri": "https://localhost:8080/"
        }
      },
      "execution_count": 46,
      "outputs": [
        {
          "output_type": "stream",
          "name": "stdout",
          "text": [
            "Looking in indexes: https://pypi.org/simple, https://us-python.pkg.dev/colab-wheels/public/simple/\n",
            "Requirement already satisfied: minisom in /usr/local/lib/python3.8/dist-packages (2.3.0)\n"
          ]
        }
      ]
    },
    {
      "cell_type": "markdown",
      "source": [
        "Importing libraries"
      ],
      "metadata": {
        "id": "0gjFcfaBpVma"
      }
    },
    {
      "cell_type": "code",
      "source": [
        "#Load libraries\n",
        "import pandas as pd\n",
        "import numpy as np\n",
        "from sklearn.datasets import load_digits\n",
        "import matplotlib.pyplot as plt\n",
        "from minisom import MiniSom\n",
        "from sklearn.model_selection import train_test_split\n",
        "import seaborn as sns\n",
        "from sklearn.metrics import confusion_matrix\n",
        "from sklearn.metrics import accuracy_score\n",
        "from sklearn.metrics import classification_report"
      ],
      "metadata": {
        "id": "eoquBSI6nxzx"
      },
      "execution_count": 47,
      "outputs": []
    },
    {
      "cell_type": "markdown",
      "source": [
        "My group number is 11 so the classes I use 2, 5 and 7."
      ],
      "metadata": {
        "id": "uymjgKKHp2BO"
      }
    },
    {
      "cell_type": "code",
      "source": [
        "# Load the digits dataset\n",
        "digits = load_digits()\n",
        "\n",
        "# Create a boolean mask for the samples that correspond to class 2, 5, 7\n",
        "mask = (digits.target == 2) | (digits.target == 5) | (digits.target == 7)\n",
        "\n",
        "# Apply the mask to the data and target arrays\n",
        "X = digits.data[mask]\n",
        "y = digits.target[mask]"
      ],
      "metadata": {
        "id": "ZDJqMjLmp2kD"
      },
      "execution_count": 48,
      "outputs": []
    },
    {
      "cell_type": "markdown",
      "source": [
        "Plotting examples from each class"
      ],
      "metadata": {
        "id": "I0Zf0E9wqt1C"
      }
    },
    {
      "cell_type": "code",
      "source": [
        "#Select some examples of each class\n",
        "examples_2 = X[y == 2][:5]\n",
        "examples_5 = X[y == 5][:5]\n",
        "examples_7 = X[y == 7][:5]\n",
        "\n",
        "# Plot the examples\n",
        "fig, axes = plt.subplots(3, 5, figsize=(8, 5),\n",
        "                         subplot_kw={'xticks':[], 'yticks':[]})\n",
        "fig.suptitle(\"Examples of 2,5,7 classes\")\n",
        "for ax, example in zip(axes[0], examples_2):\n",
        "    ax.imshow(example.reshape(8, 8), cmap='gray')\n",
        "    ax.set_title(\"2\")\n",
        "for ax, example in zip(axes[1], examples_5):\n",
        "    ax.imshow(example.reshape(8, 8), cmap='gray')\n",
        "    ax.set_title(\"5\")\n",
        "for ax, example in zip(axes[2], examples_7):\n",
        "    ax.imshow(example.reshape(8, 8), cmap='gray')\n",
        "    ax.set_title(\"7\")\n",
        "\n",
        "plt.show()"
      ],
      "metadata": {
        "id": "jSkSZPFZqYqp",
        "outputId": "e5baef74-9470-469d-d931-91148bf16794",
        "colab": {
          "base_uri": "https://localhost:8080/",
          "height": 341
        }
      },
      "execution_count": 49,
      "outputs": [
        {
          "output_type": "display_data",
          "data": {
            "text/plain": [
              "<Figure size 576x360 with 15 Axes>"
            ],
            "image/png": "[encoded data removed]"
          },
          "metadata": {}
        }
      ]
    },
    {
      "cell_type": "markdown",
      "source": [
        "# **T1 - Define and train a rectangular SOM**"
      ],
      "metadata": {
        "id": "KfFMqy4TrnLq"
      }
    },
    {
      "cell_type": "markdown",
      "source": [
        "## **a) Split the dataset into train and test**"
      ],
      "metadata": {
        "id": "_0X_p0AWZrzV"
      }
    },
    {
      "cell_type": "markdown",
      "source": [
        "80% of the data is set as training and 20% is set for testing."
      ],
      "metadata": {
        "id": "txDTKLnFZ0I9"
      }
    },
    {
      "cell_type": "code",
      "source": [
        "# Split the dataset into train and test sets\n",
        "X_train, X_test, y_train, y_test = train_test_split(X, y, test_size=0.2, random_state=642)"
      ],
      "metadata": {
        "id": "9BUnrb96ZyFB"
      },
      "execution_count": 50,
      "outputs": []
    },
    {
      "cell_type": "markdown",
      "source": [
        "## **b) Define the size of the rectangular SOM according to the recommendations**"
      ],
      "metadata": {
        "id": "x85B472AaQmO"
      }
    },
    {
      "cell_type": "markdown",
      "source": [
        "The recommended size for the SOM is to have the number of neurons in the grid be between the square root of the number of training samples and twice that value. So the size of the grid should be roughly proportional to the square root of the number of samples in the training dataset. This can help ensure that the SOM is able to capture the underlying structure in the data while also avoiding overfitting."
      ],
      "metadata": {
        "id": "D_fcZrXyaWlA"
      }
    },
    {
      "cell_type": "code",
      "source": [
        "len(X_train)"
      ],
      "metadata": {
        "id": "eEVEUgtFaSaR",
        "outputId": "6c06182b-199d-40ac-bf54-c48fe9267943",
        "colab": {
          "base_uri": "https://localhost:8080/"
        }
      },
      "execution_count": 51,
      "outputs": [
        {
          "output_type": "execute_result",
          "data": {
            "text/plain": [
              "430"
            ]
          },
          "metadata": {},
          "execution_count": 51
        }
      ]
    },
    {
      "cell_type": "markdown",
      "source": [
        "Based on the MiniSOM library recommendations and the fact that we have 403 training samples, the size of your SOM grid can be determined as follows:"
      ],
      "metadata": {
        "id": "uQU-humQbCTo"
      }
    },
    {
      "cell_type": "markdown",
      "source": [
        "The recommended number of neurons in the grid is between the square root of the number of training samples and twice that value. In this case, the square root of 403 is approximately 20.\n",
        "\n",
        "So, a grid size of 20x20 or 25x16 would be a good starting point. Since we need to implement a rectangular SOM for T1, we use grid size of 25x16."
      ],
      "metadata": {
        "id": "9dS0QrVjbJ0k"
      }
    },
    {
      "cell_type": "markdown",
      "source": [
        "## **c) Train the SOM using the on-line version**"
      ],
      "metadata": {
        "id": "ayUPAs19bwhM"
      }
    },
    {
      "cell_type": "code",
      "source": [
        "# Initialize the SOM\n",
        "som = MiniSom(25, 16, X_train.shape[1], sigma=1.0, learning_rate=0.5)\n",
        "\n",
        "# Train the SOM for 3 attempts and keep track of the errors\n",
        "best_online_som = None\n",
        "best_qe = None\n",
        "best_te = None\n",
        "\n",
        "for i in range(3):\n",
        "    som.train_random(X_train, 100)\n",
        "    qe = som.quantization_error(X)\n",
        "    te = som.topographic_error(X)\n",
        "    if (best_qe is None or qe < best_qe) or (best_te is None or te < best_te):\n",
        "        best_online_som = som\n",
        "        best_qe = qe\n",
        "        best_te = te\n",
        "        \n",
        "    print(f\"Attempt {i+1} - Quantization error: {qe:.4f} - Topographic error: {te:.4f}\")\n",
        "\n",
        "print(f\"Best Online SOM - Quantization error: {best_qe:.4f} - Topographic error: {best_te:.4f}\")"
      ],
      "metadata": {
        "id": "sH_VYqX0tq9c",
        "outputId": "bfa5737e-9fea-4c4c-e4d0-83122d6c07b7",
        "colab": {
          "base_uri": "https://localhost:8080/"
        }
      },
      "execution_count": 59,
      "outputs": [
        {
          "output_type": "stream",
          "name": "stdout",
          "text": [
            "Attempt 1 - Quantization error: 23.7746 - Topographic error: 0.1059\n",
            "Attempt 2 - Quantization error: 22.3983 - Topographic error: 0.0428\n",
            "Attempt 3 - Quantization error: 21.4397 - Topographic error: 0.0558\n",
            "Best Online SOM - Quantization error: 21.4397 - Topographic error: 0.0558\n"
          ]
        }
      ]
    },
    {
      "cell_type": "markdown",
      "source": [
        "## **d) Train the SOM using the batch algorithm**"
      ],
      "metadata": {
        "id": "PNZI8NlSdFe7"
      }
    },
    {
      "cell_type": "code",
      "source": [
        "# Initialize the batch-SOM\n",
        "batch_som = MiniSom(25, 16, X_train.shape[1], sigma=1.0, learning_rate=0.5)\n",
        "\n",
        "# Train the SOM using the batch algorithm\n",
        "batch_som.train_batch(X_train, 100)\n",
        "\n",
        "# Report on the quantization and topographic errors\n",
        "qe = batch_som.quantization_error(X)\n",
        "te = batch_som.topographic_error(X)\n",
        "print(f\"Batch SOM - Quantization error: {qe:.4f} - Topographic error: {te:.4f}\")"
      ],
      "metadata": {
        "id": "bWQL10fWc5Eb",
        "outputId": "3970eebe-f5e2-49e6-cc23-735d598ebe08",
        "colab": {
          "base_uri": "https://localhost:8080/"
        }
      },
      "execution_count": 60,
      "outputs": [
        {
          "output_type": "stream",
          "name": "stdout",
          "text": [
            "Batch SOM - Quantization error: 23.3025 - Topographic error: 0.1747\n"
          ]
        }
      ]
    },
    {
      "cell_type": "markdown",
      "source": [
        "## **e) Provide the additional performance information**"
      ],
      "metadata": {
        "id": "KZAdvyZWetdJ"
      }
    },
    {
      "cell_type": "markdown",
      "source": [
        "A U-matrix is a visualization of the distances between neighboring neurons in a SOM, where the darker the color, the larger the distance between neurons. The class representation map shows the activation of the neurons in the SOM for a given dataset, where each color corresponds to a different class."
      ],
      "metadata": {
        "id": "eNewte1cfAYE"
      }
    },
    {
      "cell_type": "markdown",
      "source": [
        "i) The U-matrix and the class representation map"
      ],
      "metadata": {
        "id": "Z8l8jS1muYVe"
      }
    },
    {
      "cell_type": "code",
      "source": [
        "# Plot the U-matrix and class representation map of the winning on-line SOM\n",
        "plt.figure(figsize=(10, 8))\n",
        "plt.suptitle(\"Self-organizing Maps Visualization\")\n",
        "\n",
        "plt.subplot(2, 2, 1)\n",
        "plt.title(\"U-matrix of the winning on-line SOM\")\n",
        "sns.heatmap(best_online_som.distance_map().T, cmap=\"Blues\")\n",
        "\n",
        "plt.subplot(2, 2, 2)\n",
        "plt.title(\"Class representation map of the winning on-line SOM\")\n",
        "sns.heatmap(best_online_som.activation_response(X_train), cmap=\"rainbow\", alpha=0.5)\n",
        "\n",
        "# Plot the U-matrix and class representation map of the batch SOM\n",
        "plt.subplot(2, 2, 3)\n",
        "plt.title(\"U-matrix of the batch SOM\")\n",
        "sns.heatmap(batch_som.distance_map().T, cmap=\"Blues\")\n",
        "\n",
        "plt.subplot(2, 2, 4)\n",
        "plt.title(\"Class representation map of the batch SOM\")\n",
        "sns.heatmap(batch_som.activation_response(X_train), cmap=\"rainbow\", alpha=0.5)\n",
        "\n",
        "plt.show()"
      ],
      "metadata": {
        "id": "jBLV4k5atk9-",
        "outputId": "afc88d48-493d-429b-acb5-30e03e35f8c1",
        "colab": {
          "base_uri": "https://localhost:8080/",
          "height": 543
        }
      },
      "execution_count": 61,
      "outputs": [
        {
          "output_type": "display_data",
          "data": {
            "text/plain": [
              "<Figure size 720x576 with 8 Axes>"
            ],
            "image/png": "[encoded data removed]"
          },
          "metadata": {
            "needs_background": "light"
          }
        }
      ]
    },
    {
      "cell_type": "markdown",
      "source": [
        "ii) The confusion matrix and the classification accuracy for the test set using the SOM as a classifier"
      ],
      "metadata": {
        "id": "9HMB5tETuaJ6"
      }
    },
    {
      "cell_type": "markdown",
      "source": [
        "Classify function is defined"
      ],
      "metadata": {
        "id": "9nMTY96d58KF"
      }
    },
    {
      "cell_type": "code",
      "source": [
        "def classify(som, data):\n",
        "    \"\"\"\n",
        "    Classifies each sample in the input data based \n",
        "    on the class labels assigned using the labels_map method.\n",
        "\n",
        "    Parameters:\n",
        "    som (object): The Self-Organizing Map (SOM) object.\n",
        "    data (array-like): The input data to be classified.\n",
        "\n",
        "    Returns:\n",
        "    list: A list of class labels assigned to each sample in the input data.\n",
        "     The length of the list is the same as the length of the input data.\n",
        "    \"\"\"\n",
        "    # Obtain the class labels map using the labels_map method\n",
        "    winmap = som.labels_map(X_train, y_train)\n",
        "    \n",
        "    # Identify the default class label in case the winner node is not in the winmap\n",
        "    default_class = np.sum(list(winmap.values())).most_common()[0][0]\n",
        "    \n",
        "    # Initialize an empty list to store the class labels assigned to each sample in the input data\n",
        "    result = []\n",
        "    \n",
        "    # Loop through each sample in the input data\n",
        "    for d in data:\n",
        "        # Obtain the winner node for the current sample\n",
        "        win_position = som.winner(d)\n",
        "        \n",
        "        # Check if the winner node is in the winmap\n",
        "        if win_position in winmap:\n",
        "            # If the winner node is in the winmap, assign the class label that is most commonly associated with it\n",
        "            result.append(winmap[win_position].most_common()[0][0])\n",
        "        else:\n",
        "            # If the winner node is not in the winmap, assign the default class label\n",
        "            result.append(default_class)\n",
        "    \n",
        "    return result"
      ],
      "metadata": {
        "id": "orgQ5lBZ5xc0"
      },
      "execution_count": 62,
      "outputs": []
    },
    {
      "cell_type": "markdown",
      "source": [
        "Confusion Matrix Comparison"
      ],
      "metadata": {
        "id": "nhpnwZi86FCd"
      }
    },
    {
      "cell_type": "markdown",
      "source": [
        "The following code calculates and visualizes the confusion matrices for two self-organizing map (SOM) classifiers, \"best_online_som\" and \"batch_som\". The confusion matrices are calculated using the classify function and confusion_matrix from scikit-learn."
      ],
      "metadata": {
        "id": "2UwX2FPc8BTk"
      }
    },
    {
      "cell_type": "code",
      "source": [
        "# calculate confusion matrices\n",
        "y_pred = classify(best_online_som, X_test)\n",
        "cm_best_online_som = confusion_matrix(y_test, y_pred)\n",
        "\n",
        "y_pred = classify(batch_som, X_test)\n",
        "cm_batch_som = confusion_matrix(y_test, y_pred)\n",
        "\n",
        "class_names = np.unique(y_train)\n",
        "\n",
        "# create dataframes for confusion matrices\n",
        "df1 = pd.DataFrame(cm_best_online_som, index = class_names, columns = class_names)\n",
        "df2 = pd.DataFrame(cm_batch_som, index = class_names, columns = class_names)\n",
        "\n",
        "# plot confusion matrices using seaborn\n",
        "fig, ax = plt.subplots(nrows=1, ncols=2, figsize=(10, 5))\n",
        "sns.heatmap(df1, annot=True, cmap='Reds', fmt='d', ax=ax[0])\n",
        "sns.heatmap(df2, annot=True, cmap='Greens', fmt='d', ax=ax[1])\n",
        "\n",
        "# set title and labels\n",
        "ax[0].set_title('Confusion Matrix for Best Online SOM')\n",
        "ax[1].set_title('Confusion Matrix for Batch SOM')\n",
        "ax[0].set_xlabel('Predicted Label')\n",
        "ax[0].set_ylabel('True Label')\n",
        "ax[1].set_xlabel('Predicted Label')\n",
        "ax[1].set_ylabel('True Label')\n",
        "\n",
        "plt.tight_layout()\n",
        "plt.show()"
      ],
      "metadata": {
        "id": "cOxrm1xC6H1X",
        "outputId": "7b369811-3550-4402-86ca-7fe1fb865212",
        "colab": {
          "base_uri": "https://localhost:8080/",
          "height": 369
        }
      },
      "execution_count": 63,
      "outputs": [
        {
          "output_type": "display_data",
          "data": {
            "text/plain": [
              "<Figure size 720x360 with 4 Axes>"
            ],
            "image/png": "[encoded data removed]"
          },
          "metadata": {
            "needs_background": "light"
          }
        }
      ]
    },
    {
      "cell_type": "markdown",
      "source": [
        "The classification accuracies"
      ],
      "metadata": {
        "id": "belRr-pm85hE"
      }
    },
    {
      "cell_type": "code",
      "source": [
        "accuracy_best_online_som = np.trace(cm_best_online_som) / np.sum(cm_best_online_som)\n",
        "accuracy_batch_som = np.trace(cm_batch_som) / np.sum(cm_batch_som)\n",
        "\n",
        "print(\"Accuracy of Best Online SOM: \", accuracy_best_online_som)\n",
        "print(\"Accuracy of Batch SOM: \", accuracy_batch_som)"
      ],
      "metadata": {
        "id": "IcB-1U6c8e6T",
        "outputId": "310318f8-b08c-4e5c-9e82-0096def4dde1",
        "colab": {
          "base_uri": "https://localhost:8080/"
        }
      },
      "execution_count": 64,
      "outputs": [
        {
          "output_type": "stream",
          "name": "stdout",
          "text": [
            "Accuracy of Best Online SOM:  1.0\n",
            "Accuracy of Batch SOM:  0.9907407407407407\n"
          ]
        }
      ]
    },
    {
      "cell_type": "markdown",
      "source": [
        "# **T2 - Define and train a square SOM**"
      ],
      "metadata": {
        "id": "TH_fvuyUifQO"
      }
    },
    {
      "cell_type": "markdown",
      "source": [
        "(a) Using the same train and test sets defined in T1.a)"
      ],
      "metadata": {
        "id": "66a7G-wvip4N"
      }
    },
    {
      "cell_type": "markdown",
      "source": [
        "## **b) Define the size of the square SOM according to the recommendations**"
      ],
      "metadata": {
        "id": "Y1p6gKwZi6Nh"
      }
    },
    {
      "cell_type": "markdown",
      "source": [
        " it is recommended to start with a smaller SOM, such as a 5x5 or 10x10 map, and adjust the size as necessary based on the results obtained. The exact size of the SOM will depend on the complexity of the data and the specific problem you are trying to solve.\n",
        "\n",
        "If the data has a simple structure, a smaller map may be sufficient to represent the structure of the data. If the data has a more complex structure, a larger map may be required to accurately capture the underlying relationships between the samples."
      ],
      "metadata": {
        "id": "WjH3d5NLjmrG"
      }
    },
    {
      "cell_type": "markdown",
      "source": [
        "The size is set as 10x10"
      ],
      "metadata": {
        "id": "jNHQUWA9jnuz"
      }
    },
    {
      "cell_type": "markdown",
      "source": [
        "## **c) Train the SOM using the batch algorithm**"
      ],
      "metadata": {
        "id": "neSJ0HfqkTxd"
      }
    },
    {
      "cell_type": "markdown",
      "source": [
        "A square SOM refers to a self-organizing map (SOM) with a square grid structure. The shape of the grid structure can be specified when creating the SOM using a library such as MiniSom."
      ],
      "metadata": {
        "id": "VqBPuqJT_TeP"
      }
    },
    {
      "cell_type": "markdown",
      "source": [
        "By setting x and y to the same value which is 10, we will create a square SOM"
      ],
      "metadata": {
        "id": "1nAILyuB_qp9"
      }
    },
    {
      "cell_type": "code",
      "source": [
        "# initialize SOM\n",
        "square_som = MiniSom(10, 10, len(X_train[0]), sigma=1.0, learning_rate=0.5, neighborhood_function='gaussian', random_seed=10)\n",
        "\n",
        "# train SOM using batch algorithm\n",
        "square_som.train_batch(X_train, num_iteration=100)\n",
        "\n",
        "# quantization error\n",
        "q_error = square_som.quantization_error(X_train)\n",
        "\n",
        "# topographic error\n",
        "t_error = square_som.topographic_error(X_train)\n",
        "\n",
        "print(\"Quantization Error:\", q_error)\n",
        "print(\"Topographic Error:\", t_error)"
      ],
      "metadata": {
        "id": "9pqVEgJmio64",
        "outputId": "5789d8bc-a44f-49c6-b0ed-9e4b7260cf1b",
        "colab": {
          "base_uri": "https://localhost:8080/"
        }
      },
      "execution_count": 65,
      "outputs": [
        {
          "output_type": "stream",
          "name": "stdout",
          "text": [
            "Quantization Error: 23.3649531365225\n",
            "Topographic Error: 0.07674418604651163\n"
          ]
        }
      ]
    },
    {
      "cell_type": "markdown",
      "source": [
        "## **d) Provide the additional performance information**"
      ],
      "metadata": {
        "id": "i7wR5XfzATNc"
      }
    },
    {
      "cell_type": "markdown",
      "source": [
        "i) The U-matrix and the class representation map"
      ],
      "metadata": {
        "id": "UocCQJPmAXoE"
      }
    },
    {
      "cell_type": "code",
      "source": [
        "plt.figure(figsize=(10, 8))\n",
        "plt.suptitle(\"Self-organizing Maps Visualization\")\n",
        "\n",
        "plt.subplot(1, 1, 1)\n",
        "plt.title(\"U-matrix of the winning on-line SOM\")\n",
        "sns.heatmap(square_som.distance_map().T, cmap=\"Blues\")\n",
        "\n",
        "plt.show()"
      ],
      "metadata": {
        "id": "GDhdZvxNAmHe",
        "outputId": "5fda9908-0b14-454f-93cd-088a2e28459e",
        "colab": {
          "base_uri": "https://localhost:8080/",
          "height": 540
        }
      },
      "execution_count": 66,
      "outputs": [
        {
          "output_type": "display_data",
          "data": {
            "text/plain": [
              "<Figure size 720x576 with 2 Axes>"
            ],
            "image/png": "[encoded data removed]"
          },
          "metadata": {
            "needs_background": "light"
          }
        }
      ]
    },
    {
      "cell_type": "markdown",
      "source": [
        "ii) The confusion matrix and the classification accuracy for the test set using the SOM as a classifier"
      ],
      "metadata": {
        "id": "91CN9hYGBetQ"
      }
    },
    {
      "cell_type": "code",
      "source": [
        "# calculate confusion matrices\n",
        "y_pred = classify(square_som, X_test)\n",
        "cm_square_som = confusion_matrix(y_test, y_pred)\n",
        "\n",
        "class_names = np.unique(y_train)\n",
        "\n",
        "# create dataframe for confusion matrix\n",
        "df = pd.DataFrame(cm_square_som, index = class_names, columns = class_names)\n",
        "\n",
        "# plot confusion matrix using seaborn\n",
        "fig, ax = plt.subplots(nrows=1, ncols=1, figsize=(5, 5))\n",
        "sns.heatmap(df, annot=True, cmap='Blues', fmt='d', ax=ax)\n",
        "\n",
        "# set title and labels\n",
        "ax.set_title('Confusion Matrix for Square SOM')\n",
        "ax.set_xlabel('Predicted Label')\n",
        "ax.set_ylabel('True Label')\n",
        "\n",
        "plt.tight_layout()\n",
        "plt.show()"
      ],
      "metadata": {
        "id": "32UlW-hlBfk9",
        "outputId": "06b3d028-559d-4b11-b366-594641563558",
        "colab": {
          "base_uri": "https://localhost:8080/",
          "height": 369
        }
      },
      "execution_count": 69,
      "outputs": [
        {
          "output_type": "display_data",
          "data": {
            "text/plain": [
              "<Figure size 360x360 with 2 Axes>"
            ],
            "image/png": "[encoded data removed]"
          },
          "metadata": {
            "needs_background": "light"
          }
        }
      ]
    },
    {
      "cell_type": "markdown",
      "source": [
        "The classification accuracy"
      ],
      "metadata": {
        "id": "dNMjArn-CFyX"
      }
    },
    {
      "cell_type": "code",
      "source": [
        "accuracy_square_som = np.trace(cm_square_som) / np.sum(cm_square_som)\n",
        "print(\"Accuracy of Square SOM: \", accuracy_square_som)"
      ],
      "metadata": {
        "id": "Rn7l0GeTCFYx",
        "outputId": "55baa350-673b-4c03-8a65-a52f68c7aa59",
        "colab": {
          "base_uri": "https://localhost:8080/"
        }
      },
      "execution_count": 70,
      "outputs": [
        {
          "output_type": "stream",
          "name": "stdout",
          "text": [
            "Accuracy of Square SOM:  1.0\n"
          ]
        }
      ]
    }
  ]
}
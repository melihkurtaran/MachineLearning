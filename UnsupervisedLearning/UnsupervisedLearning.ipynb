{
  "nbformat": 4,
  "nbformat_minor": 0,
  "metadata": {
    "colab": {
      "provenance": [],
      "toc_visible": true,
      "authorship_tag": "ABX9TyMy6CVRcJlxDAqHf0sIBoRo",
      "include_colab_link": true
    },
    "kernelspec": {
      "name": "python3",
      "display_name": "Python 3"
    },
    "language_info": {
      "name": "python"
    }
  },
  "cells": [
    {
      "cell_type": "markdown",
      "metadata": {
        "id": "view-in-github",
        "colab_type": "text"
      },
      "source": [
        "<a href=\"https://colab.research.google.com/github/melihkurtaran/MachineLearning/blob/main/UnsupervisedLearning/UnsupervisedLearning.ipynb\" target=\"_parent\"><img src=\"https://colab.research.google.com/assets/colab-badge.svg\" alt=\"Open In Colab\"/></a>"
      ]
    },
    {
      "cell_type": "markdown",
      "source": [
        "**Unsupervised Learning Project**"
      ],
      "metadata": {
        "id": "zNdIqAUEmn5t"
      }
    },
    {
      "cell_type": "markdown",
      "source": [
        "Author: Melih Kurtaran"
      ],
      "metadata": {
        "id": "iSdwzrK9UoRs"
      }
    },
    {
      "cell_type": "code",
      "source": [
        "#Import Libraries\n",
        "import numpy as np\n",
        "import pandas as pd\n",
        "from sklearn.datasets import load_digits\n",
        "import matplotlib.pyplot as plt\n",
        "from sklearn.cluster import KMeans, AgglomerativeClustering\n",
        "from sklearn.metrics import v_measure_score\n",
        "from sklearn.metrics import confusion_matrix\n",
        "from sklearn.metrics import homogeneity_score, completeness_score\n",
        "from sklearn.decomposition import PCA"
      ],
      "metadata": {
        "id": "FAK1I5zPmw5e"
      },
      "execution_count": 48,
      "outputs": []
    },
    {
      "cell_type": "markdown",
      "source": [
        "My group number is 9 so the classes I use 0, 4 and 8."
      ],
      "metadata": {
        "id": "aYF9ZG5ZUwfs"
      }
    },
    {
      "cell_type": "code",
      "source": [
        "# Load the digits dataset\n",
        "digits = load_digits()\n",
        "\n",
        "# Create a boolean mask for the samples that correspond to class 0, 4, 8\n",
        "mask = (digits.target == 0) | (digits.target == 4) | (digits.target == 8)\n",
        "\n",
        "# Apply the mask to the data and target arrays\n",
        "X = digits.data[mask]\n",
        "y = digits.target[mask]"
      ],
      "metadata": {
        "id": "uUig222RUsuq"
      },
      "execution_count": 15,
      "outputs": []
    },
    {
      "cell_type": "markdown",
      "source": [
        "Plotting examples from each class"
      ],
      "metadata": {
        "id": "ORhIqQn9VBCf"
      }
    },
    {
      "cell_type": "code",
      "source": [
        "#Select some examples of each class\n",
        "examples_0 = X[y == 0][:5]\n",
        "examples_4 = X[y == 4][:5]\n",
        "examples_8 = X[y == 8][:5]\n",
        "\n",
        "# Plot the examples\n",
        "fig, axes = plt.subplots(3, 5, figsize=(8, 5),\n",
        "                         subplot_kw={'xticks':[], 'yticks':[]})\n",
        "fig.suptitle(\"Examples of 0,4,8 classes\")\n",
        "for ax, example in zip(axes[0], examples_0):\n",
        "    ax.imshow(example.reshape(8, 8), cmap='gray')\n",
        "    ax.set_title(\"0\")\n",
        "for ax, example in zip(axes[1], examples_4):\n",
        "    ax.imshow(example.reshape(8, 8), cmap='gray')\n",
        "    ax.set_title(\"4\")\n",
        "for ax, example in zip(axes[2], examples_8):\n",
        "    ax.imshow(example.reshape(8, 8), cmap='gray')\n",
        "    ax.set_title(\"8\")\n",
        "\n",
        "plt.show()"
      ],
      "metadata": {
        "id": "YBP4xx5ZVChR",
        "outputId": "2e875c81-e825-403e-9024-d740675e980f",
        "colab": {
          "base_uri": "https://localhost:8080/",
          "height": 341
        }
      },
      "execution_count": 16,
      "outputs": [
        {
          "output_type": "display_data",
          "data": {
            "text/plain": [
              "<Figure size 576x360 with 15 Axes>"
            ],
            "image/png": "[encoded data removed]"
          },
          "metadata": {}
        }
      ]
    },
    {
      "cell_type": "markdown",
      "source": [
        "# **T1**"
      ],
      "metadata": {
        "id": "xuTEu8YCVkMI"
      }
    },
    {
      "cell_type": "markdown",
      "source": [
        "## **a) Cluster the dataset**"
      ],
      "metadata": {
        "id": "MipINPiOWN5s"
      }
    },
    {
      "cell_type": "markdown",
      "source": [
        "Clustering the dataset for m = 3 clusters, the Euclidean distance and the complete linkage, the average\n",
        "linkage and the ward algorithms. Reporting on the performance attained by each clustering method using the\n",
        "v-measure."
      ],
      "metadata": {
        "id": "aYSkBoioXJgh"
      }
    },
    {
      "cell_type": "code",
      "source": [
        "# function for training different models\n",
        "def cluster_and_evaluate(X, y, model, linkage=None):\n",
        "    \"\"\"\n",
        "    Cluster the data using the specified model and linkage, and evaluate the performance using v-measure.\n",
        "    :param X: The input data.\n",
        "    :param y: The true labels.\n",
        "    :param model: The clustering model to use.\n",
        "    :param linkage: The linkage method to use for agglomerative clustering.\n",
        "    :return: The v-measure score.\n",
        "    \"\"\"\n",
        "    if model == \"kmeans\":\n",
        "        clusterer = KMeans(n_clusters=3)\n",
        "    elif model == \"agg\":\n",
        "        clusterer = AgglomerativeClustering(n_clusters=3, linkage=linkage)\n",
        "    else:\n",
        "        raise ValueError(\"Invalid model\")\n",
        "    \n",
        "    # Fit the model to the data\n",
        "    clusterer.fit(X)\n",
        "    \n",
        "    # Get the cluster labels\n",
        "    labels = clusterer.labels_\n",
        "    \n",
        "    # Compute the v-measure score\n",
        "    v_measure = v_measure_score(y, labels)\n",
        "    \n",
        "    return v_measure"
      ],
      "metadata": {
        "id": "KPr2WJ7KXZy2"
      },
      "execution_count": 17,
      "outputs": []
    },
    {
      "cell_type": "code",
      "source": [
        "# Cluster and evaluate KMeans with the Euclidean distance\n",
        "kmeans_v_measure = cluster_and_evaluate(X, y, \"kmeans\")\n",
        "print(\"KMeans v-measure with the Euclidean distance:\", kmeans_v_measure)\n",
        "\n",
        "# Cluster and evaluate Agglomerative Clustering with linkage 'complete'\n",
        "agg_complete_v_measure = cluster_and_evaluate(X, y, \"agg\", linkage='complete')\n",
        "print(\"AgglomerativeClustering with linkage 'complete' v-measure:\", agg_complete_v_measure)\n",
        "\n",
        "# Cluster and evaluate Agglomerative Clustering with linkage 'average'\n",
        "agg_average_v_measure = cluster_and_evaluate(X, y, \"agg\", linkage='average')\n",
        "print(\"AgglomerativeClustering with linkage 'average' v-measure:\", agg_average_v_measure)\n",
        "\n",
        "# Cluster and evaluate Agglomerative Clustering with linkage 'ward'\n",
        "agg_ward_v_measure = cluster_and_evaluate(X, y, \"agg\", linkage='ward')\n",
        "print(\"AgglomerativeClustering with linkage 'ward' v-measure:\", agg_ward_v_measure)"
      ],
      "metadata": {
        "id": "cvwj85euXj27",
        "outputId": "28dfa7a6-d823-47e6-af55-62e233ebc45b",
        "colab": {
          "base_uri": "https://localhost:8080/"
        }
      },
      "execution_count": 18,
      "outputs": [
        {
          "output_type": "stream",
          "name": "stdout",
          "text": [
            "KMeans v-measure with the Euclidean distance: 0.9340007391665218\n",
            "AgglomerativeClustering with linkage 'complete' v-measure: 0.6532613395268002\n",
            "AgglomerativeClustering with linkage 'average' v-measure: 0.9447217560421027\n",
            "AgglomerativeClustering with linkage 'ward' v-measure: 0.9739706119388045\n"
          ]
        }
      ]
    },
    {
      "cell_type": "markdown",
      "source": [
        "It is seen that best performing one is The AgglomerativeClustering algorithm with linkage 'ward'"
      ],
      "metadata": {
        "id": "LbTKsRz8YGxx"
      }
    },
    {
      "cell_type": "code",
      "source": [
        "# choose the best performing algorithm\n",
        "best_algorithm = max(kmeans_v_measure,agg_complete_v_measure,agg_average_v_measure,agg_ward_v_measure)\n",
        "\n",
        "s = \" is the best performing method with a v-measure score of {:.4f}\"\n",
        "\n",
        "if best_algorithm == kmeans_v_measure:\n",
        "    print(\"The KMeans algorithm\" + s.format(kmeans_v_measure))\n",
        "elif best_algorithm == agg_complete_v_measure:\n",
        "    print(\"The AgglomerativeClustering algorithm with linkage 'complete'\" \n",
        "          + s.format(agg_complete_v_measure))\n",
        "elif best_algorithm == agg_average_v_measure:\n",
        "    print(\"The AgglomerativeClustering algorithm with linkage 'average'\" \n",
        "          + s.format(agg_average_v_measure))\n",
        "else:\n",
        "    print(\"The AgglomerativeClustering algorithm with linkage 'ward'\" \n",
        "          + s.format(agg_ward_v_measure))\n"
      ],
      "metadata": {
        "id": "S8GWv4bSWy3-",
        "outputId": "c714cb98-8f35-477f-cbc8-1f0dae2e9f56",
        "colab": {
          "base_uri": "https://localhost:8080/"
        }
      },
      "execution_count": 19,
      "outputs": [
        {
          "output_type": "stream",
          "name": "stdout",
          "text": [
            "The AgglomerativeClustering algorithm with linkage 'ward' is the best performing method with a v-measure score of 0.9740\n"
          ]
        }
      ]
    },
    {
      "cell_type": "markdown",
      "source": [
        "## **b) Trying out different number of clusters**"
      ],
      "metadata": {
        "id": "Q6OWZeptYnTk"
      }
    },
    {
      "cell_type": "markdown",
      "source": [
        "For the best performing algorithm, reporting on its performance using again the v-measure and for m = 2, 3, 4 and 5 clusters."
      ],
      "metadata": {
        "id": "l96PaWEpZNGZ"
      }
    },
    {
      "cell_type": "code",
      "source": [
        "best_v_measure = 0\n",
        "best_n_clusters = 0\n",
        "for n_clusters in [2, 3, 4, 5]:\n",
        "    agg_ward = AgglomerativeClustering(n_clusters=n_clusters, linkage='ward')\n",
        "    agg_ward.fit(X)\n",
        "    labels = agg_ward.labels_\n",
        "    v_measure = v_measure_score(y, labels)\n",
        "    print(\"For {} clusters, the AgglomerativeClustering algorithm with linkage 'ward' has a v-measure of {:.4f}\".format(n_clusters, v_measure))\n",
        "    if v_measure > best_v_measure:\n",
        "        best_v_measure = v_measure\n",
        "        best_n_clusters = n_clusters\n",
        "print(\"The best performance corresponds to {} clusters with a v-measure of {:.4f}\".format(best_n_clusters, best_v_measure))\n"
      ],
      "metadata": {
        "id": "Xlrtn324aAER",
        "outputId": "ffea7e25-06f8-49f7-b562-056e12f77f94",
        "colab": {
          "base_uri": "https://localhost:8080/"
        }
      },
      "execution_count": 20,
      "outputs": [
        {
          "output_type": "stream",
          "name": "stdout",
          "text": [
            "For 2 clusters, the AgglomerativeClustering algorithm with linkage 'ward' has a v-measure of 0.7341\n",
            "For 3 clusters, the AgglomerativeClustering algorithm with linkage 'ward' has a v-measure of 0.9740\n",
            "For 4 clusters, the AgglomerativeClustering algorithm with linkage 'ward' has a v-measure of 0.8829\n",
            "For 5 clusters, the AgglomerativeClustering algorithm with linkage 'ward' has a v-measure of 0.8125\n",
            "The best performance corresponds to 3 clusters with a v-measure of 0.9740\n"
          ]
        }
      ]
    },
    {
      "cell_type": "markdown",
      "source": [
        "It is clearly seen that the best performance correspond to m = 3"
      ],
      "metadata": {
        "id": "peE0-LgOaLb3"
      }
    },
    {
      "cell_type": "markdown",
      "source": [
        "## **c) Contingency Matrix and reporting measures**"
      ],
      "metadata": {
        "id": "2xEIqRPSaV5w"
      }
    },
    {
      "cell_type": "markdown",
      "source": [
        "Contingency Matrix is shown"
      ],
      "metadata": {
        "id": "A6wlxUe3eOhZ"
      }
    },
    {
      "cell_type": "code",
      "source": [
        "# Compute the contingency matrix for m=3\n",
        "agg_ward = AgglomerativeClustering(n_clusters=3, linkage='ward')\n",
        "agg_ward.fit(X)\n",
        "labels = agg_ward.labels_\n",
        "\n",
        "#to map classes to its corresponding label\n",
        "labels = np.where(labels == 0, 4, labels)\n",
        "labels = np.where(labels == 1, 0, labels)\n",
        "labels = np.where(labels == 2, 8, labels)\n",
        "\n",
        "contingency_matrix = confusion_matrix(y, labels)\n",
        "\n",
        "# Create a figure with a specified size\n",
        "plt.figure(figsize=(10, 10))\n",
        "\n",
        "# Plot the contingency matrix with a color map\n",
        "plt.imshow(contingency_matrix, cmap='Blues')\n",
        "plt.colorbar()\n",
        "plt.xlabel('Predicted label')\n",
        "plt.ylabel('True label')\n",
        "\n",
        "# Add numbers to the cells\n",
        "for i in range(3):\n",
        "    for j in range(3):\n",
        "        plt.text(j, i, contingency_matrix[i, j], ha='center', va='center', color='black')\n",
        "\n",
        "# Add class names to the x and y axis\n",
        "class_names = [\"0\", \"4\", \"8\"]\n",
        "plt.xticks(np.arange(3), class_names)\n",
        "plt.yticks(np.arange(3), class_names)\n",
        "plt.title(\"Contingency Matrix\")\n",
        "\n",
        "plt.show()"
      ],
      "metadata": {
        "id": "PZFQS6XsabyN",
        "outputId": "a755ff15-0d72-426a-f726-3658633211f2",
        "colab": {
          "base_uri": "https://localhost:8080/",
          "height": 580
        }
      },
      "execution_count": 21,
      "outputs": [
        {
          "output_type": "display_data",
          "data": {
            "text/plain": [
              "<Figure size 720x720 with 2 Axes>"
            ],
            "image/png": "[encoded data removed]"
          },
          "metadata": {
            "needs_background": "light"
          }
        }
      ]
    },
    {
      "cell_type": "code",
      "source": [
        "contingency_matrix"
      ],
      "metadata": {
        "id": "lm1r-Xf9ehLM",
        "outputId": "5caee279-c74b-4559-b186-6c70f8210f1b",
        "colab": {
          "base_uri": "https://localhost:8080/"
        }
      },
      "execution_count": 22,
      "outputs": [
        {
          "output_type": "execute_result",
          "data": {
            "text/plain": [
              "array([[178,   0,   0],\n",
              "       [  0, 178,   3],\n",
              "       [  0,   0, 174]])"
            ]
          },
          "metadata": {},
          "execution_count": 22
        }
      ]
    },
    {
      "cell_type": "markdown",
      "source": [
        "Identifying the number of incorrectly clustered samples and calculating the percentage of errors"
      ],
      "metadata": {
        "id": "91g6LvVfgAYA"
      }
    },
    {
      "cell_type": "code",
      "source": [
        "# Identify the number of incorrectly clustered samples\n",
        "incorrectly_clustered_samples = np.sum(contingency_matrix) - np.sum(np.diag(contingency_matrix))\n",
        "total_samples = np.sum(contingency_matrix)\n",
        "percentage_errors = incorrectly_clustered_samples / total_samples\n",
        "\n",
        "print(\"The number of incorrectly clustered samples is {} out of {} ({:.2f}% error)\"\n",
        ".format(incorrectly_clustered_samples, total_samples, (percentage_errors*100)))\n"
      ],
      "metadata": {
        "id": "rsPj4JkheKDf",
        "outputId": "d611863e-288b-41fc-cee0-9dc09dd71142",
        "colab": {
          "base_uri": "https://localhost:8080/"
        }
      },
      "execution_count": 23,
      "outputs": [
        {
          "output_type": "stream",
          "name": "stdout",
          "text": [
            "The number of incorrectly clustered samples is 3 out of 533 (0.56% error)\n"
          ]
        }
      ]
    },
    {
      "cell_type": "markdown",
      "source": [
        "Reporting on the homogeneity and the completeness measures"
      ],
      "metadata": {
        "id": "OE0RIHbxgNrc"
      }
    },
    {
      "cell_type": "code",
      "source": [
        "# Compute homogeneity and completeness measures\n",
        "homogeneity = homogeneity_score(y, labels)\n",
        "completeness = completeness_score(y, labels)\n",
        "\n",
        "print(\"Homogeneity measure: {:.4f}\".format(homogeneity))\n",
        "print(\"Completeness measure: {:.4f}\".format(completeness))"
      ],
      "metadata": {
        "id": "z1L4HhzlfBuu",
        "outputId": "877b35f7-8e06-48b4-cde2-7bcebdb124b6",
        "colab": {
          "base_uri": "https://localhost:8080/"
        }
      },
      "execution_count": 24,
      "outputs": [
        {
          "output_type": "stream",
          "name": "stdout",
          "text": [
            "Homogeneity measure: 0.9740\n",
            "Completeness measure: 0.9739\n"
          ]
        }
      ]
    },
    {
      "cell_type": "markdown",
      "source": [
        "## **d) Plotting the mistakes**"
      ],
      "metadata": {
        "id": "ijIfHxPcg-Z1"
      }
    },
    {
      "cell_type": "markdown",
      "source": [
        "Only 3 samples are clustered incorrectly and those are 4 values that is confused as 8 values by the model."
      ],
      "metadata": {
        "id": "77k4z-T000Rn"
      }
    },
    {
      "cell_type": "code",
      "source": [
        "# Find the indexes of misclassified samples\n",
        "misclassified_indexes = np.where(y != labels)[0]\n",
        "misclassified_indexes"
      ],
      "metadata": {
        "id": "VebcVa4zh9c5",
        "outputId": "a3b26375-7773-4443-b156-c4e2780fab40",
        "colab": {
          "base_uri": "https://localhost:8080/"
        }
      },
      "execution_count": 25,
      "outputs": [
        {
          "output_type": "execute_result",
          "data": {
            "text/plain": [
              "array([478, 482, 489])"
            ]
          },
          "metadata": {},
          "execution_count": 25
        }
      ]
    },
    {
      "cell_type": "markdown",
      "source": [
        "Samples from class 4 clustered as class 8"
      ],
      "metadata": {
        "id": "zKbboRJ0zRbM"
      }
    },
    {
      "cell_type": "code",
      "source": [
        "fig, axes = plt.subplots(1, len(misclassified_indexes), figsize=(10, 3))\n",
        "\n",
        "for i, ax in enumerate(axes.flat):\n",
        "    ax.imshow(X[misclassified_indexes[i]].reshape(8,8), cmap='gray')\n",
        "    ax.set_title(f'Error ' + str(i+1) )\n",
        "    ax.axis('off')\n",
        "plt.show()\n"
      ],
      "metadata": {
        "id": "U0PfOOOhhAdB",
        "outputId": "ea3a05a4-987a-45e1-a97b-236932492290",
        "colab": {
          "base_uri": "https://localhost:8080/",
          "height": 210
        }
      },
      "execution_count": 26,
      "outputs": [
        {
          "output_type": "display_data",
          "data": {
            "text/plain": [
              "<Figure size 720x216 with 3 Axes>"
            ],
            "image/png": "[encoded data removed]"
          },
          "metadata": {
            "needs_background": "light"
          }
        }
      ]
    },
    {
      "cell_type": "markdown",
      "source": [
        "# **T2**"
      ],
      "metadata": {
        "id": "o3g5zb_BqCZh"
      }
    },
    {
      "cell_type": "markdown",
      "source": [
        "Importing fuzzy_kmeans.py file"
      ],
      "metadata": {
        "id": "Vkb-ClupqJfD"
      }
    },
    {
      "cell_type": "code",
      "source": [
        "# -*- coding: utf-8 -*-\n",
        "\"\"\"\n",
        "Created on Fri Jan 13 19:46:53 2023\n",
        "\n",
        "@author: Alberto Ortiz (modified from Mathieu Blondel, https://gist.github.com/mblondel/1451300)\n",
        "\"\"\"\n",
        "\n",
        "import numpy as np\n",
        "from sklearn.base import BaseEstimator\n",
        "from sklearn.utils import check_random_state\n",
        "from sklearn.metrics.pairwise import euclidean_distances\n",
        "\n",
        "class KMeans(BaseEstimator):\n",
        "\n",
        "    def __init__(self, k, max_iter=100, random_state=0, tol=1e-4):\n",
        "        self.k = k\n",
        "        self.max_iter = max_iter\n",
        "        self.random_state = random_state\n",
        "        self.tol = tol\n",
        "\n",
        "    def _e_step(self, X):\n",
        "        self.labels_ = euclidean_distances(X, self.cluster_centers_,\n",
        "                                     squared=True).argmin(axis=1)\n",
        "\n",
        "    def _average(self, X):\n",
        "        return X.mean(axis=0)\n",
        "\n",
        "    def _m_step(self, X):\n",
        "        X_center = None\n",
        "        for center_id in range(self.k):\n",
        "            center_mask = self.labels_ == center_id\n",
        "            if not np.any(center_mask):\n",
        "                # The centroid of empty clusters is set to the center of\n",
        "                # everything\n",
        "                if X_center is None:\n",
        "                    X_center = self._average(X)\n",
        "                self.cluster_centers_[center_id] = X_center\n",
        "            else:\n",
        "                self.cluster_centers_[center_id] = \\\n",
        "                    self._average(X[center_mask])\n",
        "\n",
        "    def fit(self, X, y=None):\n",
        "        n_samples = X.shape[0]\n",
        "        vdata = np.mean(np.var(X, 0))\n",
        "\n",
        "        random_state = check_random_state(self.random_state)\n",
        "        self.labels_ = random_state.permutation(n_samples)[:self.k]\n",
        "        self.cluster_centers_ = X[self.labels_]\n",
        "\n",
        "        for i in range(self.max_iter):\n",
        "            centers_old = self.cluster_centers_.copy()\n",
        "\n",
        "            self._e_step(X)\n",
        "            self._m_step(X)\n",
        "\n",
        "            if np.sum((centers_old - self.cluster_centers_) ** 2) < self.tol * vdata:\n",
        "                break\n",
        "\n",
        "        return self\n",
        "\n",
        "    def predict(self, X):\n",
        "        labels = euclidean_distances(X, self.cluster_centers_,\n",
        "                                     squared=True).argmin(axis=1)\n",
        "        return labels\n",
        "\n",
        "class FuzzyKMeans(KMeans):\n",
        "\n",
        "    def __init__(self, k, m=2, max_iter=100, random_state=0, tol=1e-4):\n",
        "        \"\"\"\n",
        "        m > 1: fuzzy-ness parameter\n",
        "        The closer to m is 1, the closter to hard kmeans.\n",
        "        The bigger m, the fuzzier (converge to the global cluster).\n",
        "        \"\"\"\n",
        "        self.k = k\n",
        "        assert m > 1\n",
        "        self.m = m\n",
        "        self.max_iter = max_iter\n",
        "        self.random_state = random_state\n",
        "        self.tol = tol\n",
        "\n",
        "    def _e_step(self, X):\n",
        "        D = 1.0 / euclidean_distances(X, self.cluster_centers_, squared=True)\n",
        "        D **= 1.0 / (self.m - 1)\n",
        "        D /= np.sum(D, axis=1)[:, np.newaxis]\n",
        "        # shape: n_samples x k\n",
        "        self.fuzzy_labels_ = D\n",
        "        self.labels_ = self.fuzzy_labels_.argmax(axis=1)\n",
        "\n",
        "    def _m_step(self, X):\n",
        "        weights = self.fuzzy_labels_ ** self.m\n",
        "        # shape: n_clusters x n_features\n",
        "        self.cluster_centers_ = np.dot(X.T, weights).T\n",
        "        self.cluster_centers_ /= weights.sum(axis=0)[:, np.newaxis]\n",
        "\n",
        "    def fit(self, X, y=None):\n",
        "        n_samples, n_features = X.shape\n",
        "        vdata = np.mean(np.var(X, 0))\n",
        "\n",
        "        random_state = check_random_state(self.random_state)\n",
        "        self.fuzzy_labels_ = random_state.rand(n_samples, self.k)\n",
        "        self.fuzzy_labels_ /= self.fuzzy_labels_.sum(axis=1)[:, np.newaxis]\n",
        "        self._m_step(X)\n",
        "\n",
        "        for i in range(self.max_iter):\n",
        "            centers_old = self.cluster_centers_.copy()\n",
        "\n",
        "            self._e_step(X)\n",
        "            self._m_step(X)\n",
        "\n",
        "            if np.sum((centers_old - self.cluster_centers_) ** 2) < self.tol * vdata:\n",
        "                break\n",
        "\n",
        "        return self\n",
        "    \n",
        "    def predict(self, X):\n",
        "        D = 1.0 / euclidean_distances(X, self.cluster_centers_, squared=True)\n",
        "        D **= 1.0 / (self.m - 1)\n",
        "        D /= np.sum(D, axis=1)[:, np.newaxis]\n",
        "        labels = np.argmax(D, axis=1)\n",
        "        return labels\n"
      ],
      "metadata": {
        "id": "4aKb5xgqqGgZ"
      },
      "execution_count": 50,
      "outputs": []
    },
    {
      "cell_type": "markdown",
      "source": [
        "## **a) Cluster the dataset**"
      ],
      "metadata": {
        "id": "0xYpiKUTtKP3"
      }
    },
    {
      "cell_type": "markdown",
      "source": [
        "Clustering the dataset for m = 3 clusters for K-means and Fuzzy K-means\n",
        "algorithms. 'm' is chosen as 2 since its default is also 2. PCA is used after the clustering to visualize the differences between both models"
      ],
      "metadata": {
        "id": "FmdROwbsyyXK"
      }
    },
    {
      "cell_type": "code",
      "source": [
        "# Instantiate KMeans and FuzzyKMeans classes with 3 clusters (one for each digit)\n",
        "km = KMeans(k=3)\n",
        "fkm = FuzzyKMeans(k=3, m=2)\n",
        "\n",
        "# Fit the KMeans and the FuzzyKMeans models to the dataset\n",
        "km.fit(X)\n",
        "fkm.fit(X)\n",
        "\n",
        "# Predict the cluster labels for the dataset\n",
        "km_labels = km.predict(X)\n",
        "\n",
        "# Predict the fuzzy cluster labels for the dataset\n",
        "fkm_labels = fkm.predict(X)\n",
        "\n",
        "# Reduce the dimensionality of the data using PCA\n",
        "pca = PCA(n_components=2)\n",
        "X_pca = pca.fit_transform(X)\n",
        "\n",
        "# Plot the results\n",
        "fig, (ax1, ax2) = plt.subplots(1, 2, figsize=(15, 5))\n",
        "\n",
        "ax1.scatter(X_pca[:, 0], X_pca[:, 1], c=km_labels)\n",
        "ax1.set_title(\"K-Means Clustering\")\n",
        "\n",
        "ax2.scatter(X_pca[:, 0], X_pca[:, 1], c=fkm_labels)\n",
        "ax2.set_title(\"Fuzzy K-Means Clustering\")\n",
        "\n",
        "plt.show()"
      ],
      "metadata": {
        "id": "Mg_DTYDqqR6d",
        "outputId": "de64e705-bf20-43a6-c686-ae6e47dc93bf",
        "colab": {
          "base_uri": "https://localhost:8080/",
          "height": 336
        }
      },
      "execution_count": 102,
      "outputs": [
        {
          "output_type": "display_data",
          "data": {
            "text/plain": [
              "<Figure size 1080x360 with 2 Axes>"
            ],
            "image/png": "[encoded data removed]"
          },
          "metadata": {
            "needs_background": "light"
          }
        }
      ]
    },
    {
      "cell_type": "markdown",
      "source": [
        "## **b) V-measure Comparison**"
      ],
      "metadata": {
        "id": "0j2CH2tutsZd"
      }
    },
    {
      "cell_type": "code",
      "source": [
        "# Compute the V-measure for the KMeans model\n",
        "km_v_measure = v_measure_score(y, km_labels)\n",
        "\n",
        "# Compute the V-measure for the FuzzyKMeans model\n",
        "fkm_v_measure = v_measure_score(y, fkm_labels)\n",
        "\n",
        "print(\"V-measure for KMeans:\", km_v_measure)\n",
        "print(\"V-measure for FuzzyKMeans:\", fkm_v_measure)"
      ],
      "metadata": {
        "id": "FQJgxXIjtJSD",
        "outputId": "22c1b9e2-97ca-4ff8-f49b-452aac1b81b1",
        "colab": {
          "base_uri": "https://localhost:8080/"
        }
      },
      "execution_count": 98,
      "outputs": [
        {
          "output_type": "stream",
          "name": "stdout",
          "text": [
            "V-measure for KMeans: 0.9258199009420089\n",
            "V-measure for FuzzyKMeans: 0.9293888534380834\n"
          ]
        }
      ]
    },
    {
      "cell_type": "markdown",
      "source": [
        "Fuzzy KMeans algorithm has a bit better performance than the regular KMeans algorithm. Therefore Fuzzy KMeans is chosen."
      ],
      "metadata": {
        "id": "-S0kvSkYyjZf"
      }
    },
    {
      "cell_type": "markdown",
      "source": [
        "## **c) Trying out different number of clusters**"
      ],
      "metadata": {
        "id": "1c_SSbGuyZq_"
      }
    },
    {
      "cell_type": "code",
      "source": [
        "best_v_measure = 0\n",
        "best_n_clusters = 0\n",
        "for n_clusters in [2, 3, 4, 5]:\n",
        "    fkm = FuzzyKMeans(k=n_clusters, m=2)\n",
        "    fkm.fit(X)\n",
        "    labels = fkm.labels_\n",
        "    v_measure = v_measure_score(y, labels)\n",
        "    print(\"For {} clusters, the FuzzyKMeans algorithm has a v-measure of {:.4f}\".format(n_clusters, v_measure))\n",
        "    if v_measure > best_v_measure:\n",
        "        best_v_measure = v_measure\n",
        "        best_n_clusters = n_clusters\n",
        "print(\"The best performance corresponds to {} clusters with a v-measure of {:.4f}\".format(best_n_clusters, best_v_measure))\n"
      ],
      "metadata": {
        "id": "VgUuK3LIxsUl",
        "outputId": "fcb20c18-ad09-4d65-8fd4-4b56afcb00c2",
        "colab": {
          "base_uri": "https://localhost:8080/"
        }
      },
      "execution_count": 104,
      "outputs": [
        {
          "output_type": "stream",
          "name": "stdout",
          "text": [
            "For 2 clusters, the FuzzyKMeans algorithm has a v-measure of 0.5461\n",
            "For 3 clusters, the FuzzyKMeans algorithm has a v-measure of 0.9294\n",
            "For 4 clusters, the FuzzyKMeans algorithm has a v-measure of 0.9094\n",
            "For 5 clusters, the FuzzyKMeans algorithm has a v-measure of 0.6478\n",
            "The best performance corresponds to 3 clusters with a v-measure of 0.9294\n"
          ]
        }
      ]
    },
    {
      "cell_type": "markdown",
      "source": [
        "It is seen that the best number for cluster is 3 as expected. However, it also has a fairly good performance for 4 clusters as well. The possible reason might be that the model clusters the outliers as a 4th additional cluster."
      ],
      "metadata": {
        "id": "WEmywmv1yEY6"
      }
    },
    {
      "cell_type": "markdown",
      "source": [
        "## **d) Contingency Matrix and reporting measures**"
      ],
      "metadata": {
        "id": "XUQ2VIdh0LUM"
      }
    },
    {
      "cell_type": "markdown",
      "source": [
        "Contingency Matrix is shown"
      ],
      "metadata": {
        "id": "4G4VdcX_0nAw"
      }
    },
    {
      "cell_type": "code",
      "source": [
        "# Compute the contingency matrix for m=3\n",
        "fkm = FuzzyKMeans(k=3, m=2)\n",
        "fkm.fit(X)\n",
        "labels = fkm.labels_\n",
        "\n",
        "#to map classes to its corresponding label\n",
        "labels = np.where(labels == 1, 8, labels)\n",
        "labels = np.where(labels == 2, 4, labels)\n",
        "\n",
        "contingency_matrix = confusion_matrix(y, labels)\n",
        "\n",
        "# Create a figure with a specified size\n",
        "plt.figure(figsize=(10, 10))\n",
        "\n",
        "# Plot the contingency matrix with a color map\n",
        "plt.imshow(contingency_matrix, cmap='Blues')\n",
        "plt.colorbar()\n",
        "plt.xlabel('Predicted label')\n",
        "plt.ylabel('True label')\n",
        "\n",
        "# Add numbers to the cells\n",
        "for i in range(3):\n",
        "    for j in range(3):\n",
        "        plt.text(j, i, contingency_matrix[i, j], ha='center', va='center', color='black')\n",
        "\n",
        "# Add class names to the x and y axis\n",
        "class_names = [\"0\", \"8\", \"4\"]\n",
        "plt.xticks(np.arange(3), class_names)\n",
        "plt.yticks(np.arange(3), class_names)\n",
        "plt.title(\"Contingency Matrix\")\n",
        "\n",
        "plt.show()"
      ],
      "metadata": {
        "id": "_7it600VzZ9c",
        "outputId": "3c068ce9-8868-43d0-fb5e-fc7e4a96f9ac",
        "colab": {
          "base_uri": "https://localhost:8080/",
          "height": 580
        }
      },
      "execution_count": 114,
      "outputs": [
        {
          "output_type": "display_data",
          "data": {
            "text/plain": [
              "<Figure size 720x720 with 2 Axes>"
            ],
            "image/png": "[encoded data removed]"
          },
          "metadata": {
            "needs_background": "light"
          }
        }
      ]
    },
    {
      "cell_type": "code",
      "source": [
        "contingency_matrix"
      ],
      "metadata": {
        "id": "SUzm4Znt0N96",
        "outputId": "78c3cba1-f257-48f7-ffc1-20604884150d",
        "colab": {
          "base_uri": "https://localhost:8080/"
        }
      },
      "execution_count": 115,
      "outputs": [
        {
          "output_type": "execute_result",
          "data": {
            "text/plain": [
              "array([[177,   1,   0],\n",
              "       [  1, 175,   5],\n",
              "       [  0,   1, 173]])"
            ]
          },
          "metadata": {},
          "execution_count": 115
        }
      ]
    },
    {
      "cell_type": "markdown",
      "source": [
        "Reporting on the homogeneity and the completeness measures"
      ],
      "metadata": {
        "id": "j0B06v7L0lLK"
      }
    },
    {
      "cell_type": "code",
      "source": [
        "# Identify the number of incorrectly clustered samples\n",
        "incorrectly_clustered_samples = np.sum(contingency_matrix) - np.sum(np.diag(contingency_matrix))\n",
        "total_samples = np.sum(contingency_matrix)\n",
        "percentage_errors = incorrectly_clustered_samples / total_samples\n",
        "\n",
        "print(\"The number of incorrectly clustered samples is {} out of {} ({:.2f}% error)\"\n",
        ".format(incorrectly_clustered_samples, total_samples, (percentage_errors*100)))"
      ],
      "metadata": {
        "id": "T3iXMbu70TrT",
        "outputId": "168bda14-8012-401a-f2f4-fc2516522522",
        "colab": {
          "base_uri": "https://localhost:8080/"
        }
      },
      "execution_count": 116,
      "outputs": [
        {
          "output_type": "stream",
          "name": "stdout",
          "text": [
            "The number of incorrectly clustered samples is 8 out of 533 (1.50% error)\n"
          ]
        }
      ]
    },
    {
      "cell_type": "markdown",
      "source": [
        "Reporting on the homogeneity and the completeness measures"
      ],
      "metadata": {
        "id": "0WpoYmQB0xIc"
      }
    },
    {
      "cell_type": "code",
      "source": [
        "# Compute homogeneity and completeness measures\n",
        "homogeneity = homogeneity_score(y, labels)\n",
        "completeness = completeness_score(y, labels)\n",
        "\n",
        "print(\"Homogeneity measure: {:.4f}\".format(homogeneity))\n",
        "print(\"Completeness measure: {:.4f}\".format(completeness))"
      ],
      "metadata": {
        "id": "olmyHzE60qof",
        "outputId": "6317eb68-bcbd-4fa3-b01e-3f132318aaba",
        "colab": {
          "base_uri": "https://localhost:8080/"
        }
      },
      "execution_count": 117,
      "outputs": [
        {
          "output_type": "stream",
          "name": "stdout",
          "text": [
            "Homogeneity measure: 0.9294\n",
            "Completeness measure: 0.9293\n"
          ]
        }
      ]
    },
    {
      "cell_type": "markdown",
      "source": [
        "## **e) Plotting the mistakes**"
      ],
      "metadata": {
        "id": "fXb2JsSR1G1-"
      }
    },
    {
      "cell_type": "markdown",
      "source": [
        "8 samples are incorrectly clustered"
      ],
      "metadata": {
        "id": "retAHxH91G1_"
      }
    },
    {
      "cell_type": "code",
      "source": [
        "# Find the indexes of misclassified samples\n",
        "misclassified_indexes = np.where(y != labels)[0]\n",
        "misclassified_indexes"
      ],
      "metadata": {
        "outputId": "a61752fd-8776-4b70-ac46-703f2704813c",
        "colab": {
          "base_uri": "https://localhost:8080/"
        },
        "id": "HF2ccZLr1G1_"
      },
      "execution_count": 118,
      "outputs": [
        {
          "output_type": "execute_result",
          "data": {
            "text/plain": [
              "array([186, 220, 387, 437, 468, 478, 482, 489])"
            ]
          },
          "metadata": {},
          "execution_count": 118
        }
      ]
    },
    {
      "cell_type": "markdown",
      "source": [
        "All 8 mistakes are shown"
      ],
      "metadata": {
        "id": "pauoHKQx1G1_"
      }
    },
    {
      "cell_type": "code",
      "source": [
        "fig, axes = plt.subplots(3, 3, figsize=(12, 12))\n",
        "\n",
        "for i, ax in enumerate(axes.flat):\n",
        "    if i < len(misclassified_indexes):\n",
        "        ax.imshow(X[misclassified_indexes[i]].reshape(8,8), cmap='gray')\n",
        "        ax.set_title('Actual: ' + str(y[misclassified_indexes[i]])\n",
        "                     + ' / Predicted: '  + str(labels[misclassified_indexes[i]]))\n",
        "        ax.axis('off')\n",
        "    else:\n",
        "        ax.axis('off')\n",
        "plt.show()\n"
      ],
      "metadata": {
        "id": "lCYp3sw61ziX",
        "outputId": "58260eea-61fe-4214-f8a6-cf1110987e70",
        "colab": {
          "base_uri": "https://localhost:8080/",
          "height": 699
        }
      },
      "execution_count": 127,
      "outputs": [
        {
          "output_type": "display_data",
          "data": {
            "text/plain": [
              "<Figure size 864x864 with 9 Axes>"
            ],
            "image/png": "[encoded data removed]"
          },
          "metadata": {
            "needs_background": "light"
          }
        }
      ]
    }
  ]
}
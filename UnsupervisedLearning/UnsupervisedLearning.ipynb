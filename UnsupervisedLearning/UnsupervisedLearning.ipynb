{
  "nbformat": 4,
  "nbformat_minor": 0,
  "metadata": {
    "colab": {
      "provenance": [],
      "authorship_tag": "ABX9TyNzbdHCazZV/aZBdwj0LtDU",
      "include_colab_link": true
    },
    "kernelspec": {
      "name": "python3",
      "display_name": "Python 3"
    },
    "language_info": {
      "name": "python"
    }
  },
  "cells": [
    {
      "cell_type": "markdown",
      "metadata": {
        "id": "view-in-github",
        "colab_type": "text"
      },
      "source": [
        "<a href=\"https://colab.research.google.com/github/melihkurtaran/MachineLearning/blob/main/UnsupervisedLearning/UnsupervisedLearning.ipynb\" target=\"_parent\"><img src=\"https://colab.research.google.com/assets/colab-badge.svg\" alt=\"Open In Colab\"/></a>"
      ]
    },
    {
      "cell_type": "markdown",
      "source": [
        "**Unsupervised Learning Project**"
      ],
      "metadata": {
        "id": "zNdIqAUEmn5t"
      }
    },
    {
      "cell_type": "markdown",
      "source": [
        "Author: Melih Kurtaran"
      ],
      "metadata": {
        "id": "iSdwzrK9UoRs"
      }
    },
    {
      "cell_type": "code",
      "source": [
        "#Import Libraries\n",
        "import numpy as np\n",
        "import pandas as pd\n",
        "from sklearn.datasets import load_digits\n",
        "import matplotlib.pyplot as plt\n",
        "from sklearn.cluster import KMeans, AgglomerativeClustering\n",
        "from sklearn.metrics import v_measure_score\n",
        "from sklearn.metrics import confusion_matrix\n",
        "from sklearn.metrics import homogeneity_score, completeness_score"
      ],
      "metadata": {
        "id": "FAK1I5zPmw5e"
      },
      "execution_count": 1,
      "outputs": []
    },
    {
      "cell_type": "markdown",
      "source": [
        "My group number is 9 so the classes I use 0, 4 and 8."
      ],
      "metadata": {
        "id": "aYF9ZG5ZUwfs"
      }
    },
    {
      "cell_type": "code",
      "source": [
        "# Load the digits dataset\n",
        "digits = load_digits()\n",
        "\n",
        "# Create a boolean mask for the samples that correspond to class 0, 4, 8\n",
        "mask = (digits.target == 0) | (digits.target == 4) | (digits.target == 8)\n",
        "\n",
        "# Apply the mask to the data and target arrays\n",
        "X = digits.data[mask]\n",
        "y = digits.target[mask]"
      ],
      "metadata": {
        "id": "uUig222RUsuq"
      },
      "execution_count": 2,
      "outputs": []
    },
    {
      "cell_type": "markdown",
      "source": [
        "Plotting examples from each class"
      ],
      "metadata": {
        "id": "ORhIqQn9VBCf"
      }
    },
    {
      "cell_type": "code",
      "source": [
        "#Select some examples of each class\n",
        "examples_0 = X[y == 0][:5]\n",
        "examples_4 = X[y == 4][:5]\n",
        "examples_8 = X[y == 8][:5]\n",
        "\n",
        "# Plot the examples\n",
        "fig, axes = plt.subplots(3, 5, figsize=(8, 5),\n",
        "                         subplot_kw={'xticks':[], 'yticks':[]})\n",
        "fig.suptitle(\"Examples of 0,4,8 classes\")\n",
        "for ax, example in zip(axes[0], examples_0):\n",
        "    ax.imshow(example.reshape(8, 8), cmap='gray')\n",
        "    ax.set_title(\"0\")\n",
        "for ax, example in zip(axes[1], examples_4):\n",
        "    ax.imshow(example.reshape(8, 8), cmap='gray')\n",
        "    ax.set_title(\"4\")\n",
        "for ax, example in zip(axes[2], examples_8):\n",
        "    ax.imshow(example.reshape(8, 8), cmap='gray')\n",
        "    ax.set_title(\"8\")\n",
        "\n",
        "plt.show()"
      ],
      "metadata": {
        "id": "YBP4xx5ZVChR",
        "outputId": "1d05de98-ceac-431d-d99b-b3879b9c921d",
        "colab": {
          "base_uri": "https://localhost:8080/",
          "height": 341
        }
      },
      "execution_count": 3,
      "outputs": [
        {
          "output_type": "display_data",
          "data": {
            "text/plain": [
              "<Figure size 576x360 with 15 Axes>"
            ],
            "image/png": "[encoded data removed]"
          },
          "metadata": {}
        }
      ]
    },
    {
      "cell_type": "markdown",
      "source": [
        "# **T1**"
      ],
      "metadata": {
        "id": "xuTEu8YCVkMI"
      }
    },
    {
      "cell_type": "markdown",
      "source": [
        "## **a) Cluster your dataset**"
      ],
      "metadata": {
        "id": "MipINPiOWN5s"
      }
    },
    {
      "cell_type": "markdown",
      "source": [
        "Clustering the dataset for m = 3 clusters, the Euclidean distance and the complete linkage, the average\n",
        "linkage and the ward algorithms. Reporting on the performance attained by each clustering method using the\n",
        "v-measure."
      ],
      "metadata": {
        "id": "aYSkBoioXJgh"
      }
    },
    {
      "cell_type": "code",
      "source": [
        "# function for training different models\n",
        "def cluster_and_evaluate(X, y, model, linkage=None):\n",
        "    \"\"\"\n",
        "    Cluster the data using the specified model and linkage, and evaluate the performance using v-measure.\n",
        "    :param X: The input data.\n",
        "    :param y: The true labels.\n",
        "    :param model: The clustering model to use.\n",
        "    :param linkage: The linkage method to use for agglomerative clustering.\n",
        "    :return: The v-measure score.\n",
        "    \"\"\"\n",
        "    if model == \"kmeans\":\n",
        "        clusterer = KMeans(n_clusters=3)\n",
        "    elif model == \"agg\":\n",
        "        clusterer = AgglomerativeClustering(n_clusters=3, linkage=linkage)\n",
        "    else:\n",
        "        raise ValueError(\"Invalid model\")\n",
        "    \n",
        "    # Fit the model to the data\n",
        "    clusterer.fit(X)\n",
        "    \n",
        "    # Get the cluster labels\n",
        "    labels = clusterer.labels_\n",
        "    \n",
        "    # Compute the v-measure score\n",
        "    v_measure = v_measure_score(y, labels)\n",
        "    \n",
        "    return v_measure"
      ],
      "metadata": {
        "id": "KPr2WJ7KXZy2"
      },
      "execution_count": 4,
      "outputs": []
    },
    {
      "cell_type": "code",
      "source": [
        "# Cluster and evaluate KMeans with the Euclidean distance\n",
        "kmeans_v_measure = cluster_and_evaluate(X, y, \"kmeans\")\n",
        "print(\"KMeans v-measure with the Euclidean distance:\", kmeans_v_measure)\n",
        "\n",
        "# Cluster and evaluate Agglomerative Clustering with linkage 'complete'\n",
        "agg_complete_v_measure = cluster_and_evaluate(X, y, \"agg\", linkage='complete')\n",
        "print(\"AgglomerativeClustering with linkage 'complete' v-measure:\", agg_complete_v_measure)\n",
        "\n",
        "# Cluster and evaluate Agglomerative Clustering with linkage 'average'\n",
        "agg_average_v_measure = cluster_and_evaluate(X, y, \"agg\", linkage='average')\n",
        "print(\"AgglomerativeClustering with linkage 'average' v-measure:\", agg_average_v_measure)\n",
        "\n",
        "# Cluster and evaluate Agglomerative Clustering with linkage 'ward'\n",
        "agg_ward_v_measure = cluster_and_evaluate(X, y, \"agg\", linkage='ward')\n",
        "print(\"AgglomerativeClustering with linkage 'ward' v-measure:\", agg_ward_v_measure)"
      ],
      "metadata": {
        "id": "cvwj85euXj27",
        "outputId": "f1098e95-9462-41f2-e0b7-baa88e5a22d4",
        "colab": {
          "base_uri": "https://localhost:8080/"
        }
      },
      "execution_count": 5,
      "outputs": [
        {
          "output_type": "stream",
          "name": "stdout",
          "text": [
            "KMeans v-measure with the Euclidean distance: 0.9340007391665218\n",
            "AgglomerativeClustering with linkage 'complete' v-measure: 0.6532613395268002\n",
            "AgglomerativeClustering with linkage 'average' v-measure: 0.9447217560421027\n",
            "AgglomerativeClustering with linkage 'ward' v-measure: 0.9739706119388045\n"
          ]
        }
      ]
    },
    {
      "cell_type": "markdown",
      "source": [
        "It is seen that best performing one is The AgglomerativeClustering algorithm with linkage 'ward'"
      ],
      "metadata": {
        "id": "LbTKsRz8YGxx"
      }
    },
    {
      "cell_type": "code",
      "source": [
        "# choose the best performing algorithm\n",
        "best_algorithm = max(kmeans_v_measure,agg_complete_v_measure,agg_average_v_measure,agg_ward_v_measure)\n",
        "\n",
        "if best_algorithm == kmeans_v_measure:\n",
        "    print(\"The KMeans algorithm is the best performing method with a v-measure score of {:.4f}\".format(kmeans_v_measure))\n",
        "elif best_algorithm == agg_complete_v_measure:\n",
        "    print(\"The AgglomerativeClustering algorithm with linkage 'complete' is the best performing method with a v-measure score of {:.4f}\".format(agg_complete_v_measure))\n",
        "elif best_algorithm == agg_average_v_measure:\n",
        "    print(\"The AgglomerativeClustering algorithm with linkage 'average' is the best performing method with a v-measure score of {:.4f}\".format(agg_average_v_measure))\n",
        "else:\n",
        "    print(\"The AgglomerativeClustering algorithm with linkage 'ward' is the best performing method with a v-measure score of {:.4f}\".format(agg_ward_v_measure))\n"
      ],
      "metadata": {
        "id": "S8GWv4bSWy3-",
        "outputId": "89587bcd-3ec9-43ae-ff40-d1543a131331",
        "colab": {
          "base_uri": "https://localhost:8080/"
        }
      },
      "execution_count": 6,
      "outputs": [
        {
          "output_type": "stream",
          "name": "stdout",
          "text": [
            "The AgglomerativeClustering algorithm with linkage 'ward' is the best performing method with a v-measure score of 0.9740\n"
          ]
        }
      ]
    },
    {
      "cell_type": "markdown",
      "source": [
        "## **b) Trying out different number of clusters**"
      ],
      "metadata": {
        "id": "Q6OWZeptYnTk"
      }
    },
    {
      "cell_type": "markdown",
      "source": [
        "For the best performing algorithm, reporting on its performance using again the v-measure and for m = 2, 3, 4 and 5 clusters."
      ],
      "metadata": {
        "id": "l96PaWEpZNGZ"
      }
    },
    {
      "cell_type": "code",
      "source": [
        "best_v_measure = 0\n",
        "best_n_clusters = 0\n",
        "for n_clusters in [2, 3, 4, 5]:\n",
        "    agg_ward = AgglomerativeClustering(n_clusters=n_clusters, linkage='ward')\n",
        "    agg_ward.fit(X)\n",
        "    labels = agg_ward.labels_\n",
        "    v_measure = v_measure_score(y, labels)\n",
        "    print(\"For {} clusters, the AgglomerativeClustering algorithm with linkage 'ward' has a v-measure of {:.4f}\".format(n_clusters, v_measure))\n",
        "    if v_measure > best_v_measure:\n",
        "        best_v_measure = v_measure\n",
        "        best_n_clusters = n_clusters\n",
        "print(\"The best performance corresponds to {} clusters with a v-measure of {:.4f}\".format(best_n_clusters, best_v_measure))\n"
      ],
      "metadata": {
        "id": "Xlrtn324aAER",
        "outputId": "940939d3-eff9-42da-da61-6a9ddd881e2d",
        "colab": {
          "base_uri": "https://localhost:8080/"
        }
      },
      "execution_count": 7,
      "outputs": [
        {
          "output_type": "stream",
          "name": "stdout",
          "text": [
            "For 2 clusters, the AgglomerativeClustering algorithm with linkage 'ward' has a v-measure of 0.7341\n",
            "For 3 clusters, the AgglomerativeClustering algorithm with linkage 'ward' has a v-measure of 0.9740\n",
            "For 4 clusters, the AgglomerativeClustering algorithm with linkage 'ward' has a v-measure of 0.8829\n",
            "For 5 clusters, the AgglomerativeClustering algorithm with linkage 'ward' has a v-measure of 0.8125\n",
            "The best performance corresponds to 3 clusters with a v-measure of 0.9740\n"
          ]
        }
      ]
    },
    {
      "cell_type": "markdown",
      "source": [
        "It is clearly seen that the best performance correspond to m = 3"
      ],
      "metadata": {
        "id": "peE0-LgOaLb3"
      }
    },
    {
      "cell_type": "markdown",
      "source": [
        "## **c) Contingency Matrix and reporting measures**"
      ],
      "metadata": {
        "id": "2xEIqRPSaV5w"
      }
    },
    {
      "cell_type": "markdown",
      "source": [
        "Contingency Matrix is shown"
      ],
      "metadata": {
        "id": "A6wlxUe3eOhZ"
      }
    },
    {
      "cell_type": "code",
      "source": [
        "# Compute the contingency matrix for m=3\n",
        "agg_ward = AgglomerativeClustering(n_clusters=3, linkage='ward')\n",
        "agg_ward.fit(X)\n",
        "labels = agg_ward.labels_\n",
        "\n",
        "#to map classes to its corresponding label\n",
        "labels = np.where(labels == 0, 4, labels)\n",
        "labels = np.where(labels == 1, 0, labels)\n",
        "labels = np.where(labels == 2, 8, labels)\n",
        "\n",
        "contingency_matrix = confusion_matrix(y, labels)\n",
        "\n",
        "# Create a figure with a specified size\n",
        "plt.figure(figsize=(10, 10))\n",
        "\n",
        "# Plot the contingency matrix with a color map\n",
        "plt.imshow(contingency_matrix, cmap='Blues')\n",
        "plt.colorbar()\n",
        "plt.xlabel('Predicted label')\n",
        "plt.ylabel('True label')\n",
        "\n",
        "# Add numbers to the cells\n",
        "for i in range(3):\n",
        "    for j in range(3):\n",
        "        plt.text(j, i, contingency_matrix[i, j], ha='center', va='center', color='black')\n",
        "\n",
        "# Add class names to the x and y axis\n",
        "class_names = [\"0\", \"4\", \"8\"]\n",
        "plt.xticks(np.arange(3), class_names)\n",
        "plt.yticks(np.arange(3), class_names)\n",
        "plt.title(\"Contingency Matrix\")\n",
        "\n",
        "plt.show()"
      ],
      "metadata": {
        "id": "PZFQS6XsabyN",
        "outputId": "b0f18236-d0be-4d5a-fea5-b442533dc921",
        "colab": {
          "base_uri": "https://localhost:8080/",
          "height": 580
        }
      },
      "execution_count": 22,
      "outputs": [
        {
          "output_type": "display_data",
          "data": {
            "text/plain": [
              "<Figure size 720x720 with 2 Axes>"
            ],
            "image/png": "[encoded data removed]"
          },
          "metadata": {
            "needs_background": "light"
          }
        }
      ]
    },
    {
      "cell_type": "code",
      "source": [
        "contingency_matrix"
      ],
      "metadata": {
        "id": "lm1r-Xf9ehLM",
        "outputId": "a48dc151-07e1-427e-f133-afff57b5f52a",
        "colab": {
          "base_uri": "https://localhost:8080/"
        }
      },
      "execution_count": 23,
      "outputs": [
        {
          "output_type": "execute_result",
          "data": {
            "text/plain": [
              "array([[178,   0,   0],\n",
              "       [  0, 178,   3],\n",
              "       [  0,   0, 174]])"
            ]
          },
          "metadata": {},
          "execution_count": 23
        }
      ]
    },
    {
      "cell_type": "markdown",
      "source": [
        "Identifying the number of incorrectly clustered samples and calculating the percentage of errors"
      ],
      "metadata": {
        "id": "91g6LvVfgAYA"
      }
    },
    {
      "cell_type": "code",
      "source": [
        "# Identify the number of incorrectly clustered samples\n",
        "incorrectly_clustered_samples = np.sum(contingency_matrix) - np.sum(np.diag(contingency_matrix))\n",
        "total_samples = np.sum(contingency_matrix)\n",
        "percentage_errors = incorrectly_clustered_samples / total_samples\n",
        "\n",
        "print(\"The number of incorrectly clustered samples is {} out of {} ({:.2f}% error)\"\n",
        ".format(incorrectly_clustered_samples, total_samples, (percentage_errors*100)))\n"
      ],
      "metadata": {
        "id": "rsPj4JkheKDf",
        "outputId": "f3dc81a1-3305-4c28-eb05-efb26ed86ab4",
        "colab": {
          "base_uri": "https://localhost:8080/"
        }
      },
      "execution_count": 24,
      "outputs": [
        {
          "output_type": "stream",
          "name": "stdout",
          "text": [
            "The number of incorrectly clustered samples is 3 out of 533 (0.56% error)\n"
          ]
        }
      ]
    },
    {
      "cell_type": "markdown",
      "source": [
        "Reporting on the homogeneity and the completeness measures"
      ],
      "metadata": {
        "id": "OE0RIHbxgNrc"
      }
    },
    {
      "cell_type": "code",
      "source": [
        "# Compute homogeneity and completeness measures\n",
        "homogeneity = homogeneity_score(y, labels)\n",
        "completeness = completeness_score(y, labels)\n",
        "\n",
        "print(\"Homogeneity measure: {:.4f}\".format(homogeneity))\n",
        "print(\"Completeness measure: {:.4f}\".format(completeness))"
      ],
      "metadata": {
        "id": "z1L4HhzlfBuu",
        "outputId": "471ff15d-0846-4a60-fbb4-323a4c85cea7",
        "colab": {
          "base_uri": "https://localhost:8080/"
        }
      },
      "execution_count": 25,
      "outputs": [
        {
          "output_type": "stream",
          "name": "stdout",
          "text": [
            "Homogeneity measure: 0.9740\n",
            "Completeness measure: 0.9739\n"
          ]
        }
      ]
    },
    {
      "cell_type": "markdown",
      "source": [
        "Only 3 samples are clustered incorrectly and those are 4 values that is confused as 8 values by the model."
      ],
      "metadata": {
        "id": "Cod7BMhSgUNo"
      }
    },
    {
      "cell_type": "markdown",
      "source": [
        "## **d) Plotting the mistakes**"
      ],
      "metadata": {
        "id": "ijIfHxPcg-Z1"
      }
    },
    {
      "cell_type": "code",
      "source": [
        "# Find the indexes of misclassified samples\n",
        "misclassified_indexes = np.where(y != labels)[0]\n",
        "misclassified_indexes"
      ],
      "metadata": {
        "id": "VebcVa4zh9c5",
        "outputId": "cefe93d2-8ab8-4095-9f8f-15b21381c2bd",
        "colab": {
          "base_uri": "https://localhost:8080/"
        }
      },
      "execution_count": 26,
      "outputs": [
        {
          "output_type": "execute_result",
          "data": {
            "text/plain": [
              "array([478, 482, 489])"
            ]
          },
          "metadata": {},
          "execution_count": 26
        }
      ]
    },
    {
      "cell_type": "markdown",
      "source": [
        "Samples from class 4 clustered as class 8"
      ],
      "metadata": {
        "id": "zKbboRJ0zRbM"
      }
    },
    {
      "cell_type": "code",
      "source": [
        "fig, axes = plt.subplots(1, len(misclassified_indexes), figsize=(10, 3))\n",
        "\n",
        "for i, ax in enumerate(axes.flat):\n",
        "    ax.imshow(X[misclassified_indexes[i]].reshape(8,8), cmap='gray')\n",
        "    ax.set_title(f'Error ' + str(i+1) )\n",
        "    ax.axis('off')\n",
        "plt.show()\n"
      ],
      "metadata": {
        "id": "U0PfOOOhhAdB",
        "outputId": "2d289e28-4833-4102-e613-2d0c77898a74",
        "colab": {
          "base_uri": "https://localhost:8080/",
          "height": 210
        }
      },
      "execution_count": 37,
      "outputs": [
        {
          "output_type": "display_data",
          "data": {
            "text/plain": [
              "<Figure size 720x216 with 3 Axes>"
            ],
            "image/png": "[encoded data removed]"
          },
          "metadata": {
            "needs_background": "light"
          }
        }
      ]
    }
  ]
}
{
  "nbformat": 4,
  "nbformat_minor": 0,
  "metadata": {
    "colab": {
      "provenance": [],
      "toc_visible": true,
      "authorship_tag": "ABX9TyOsX1pPNTheRe2ksX14fW4d",
      "include_colab_link": true
    },
    "kernelspec": {
      "name": "python3",
      "display_name": "Python 3"
    },
    "language_info": {
      "name": "python"
    }
  },
  "cells": [
    {
      "cell_type": "markdown",
      "metadata": {
        "id": "view-in-github",
        "colab_type": "text"
      },
      "source": [
        "<a href=\"https://colab.research.google.com/github/melihkurtaran/MachineLearning/blob/main/FFNN%26RBFNN/FFNN%26RBFNN.ipynb\" target=\"_parent\"><img src=\"https://colab.research.google.com/assets/colab-badge.svg\" alt=\"Open In Colab\"/></a>"
      ]
    },
    {
      "cell_type": "markdown",
      "source": [
        "**Computational Intelligence - Feed-forward Neural Networks (FFNN) &\n",
        "Radial Basis Functions Neural Networks (RBFNN)**"
      ],
      "metadata": {
        "id": "R26lXNoKrXiG"
      }
    },
    {
      "cell_type": "markdown",
      "source": [
        "Author: Melih Kurtaran"
      ],
      "metadata": {
        "id": "xTp1kmGOF-ok"
      }
    },
    {
      "cell_type": "markdown",
      "source": [
        "The dataset for this project consists of electrocardiogram signals (ECG) of heartbeats for the normal case (class label 0) and\n",
        "four more cases affected by different arrhythmia and myocardial infarction (class labels 1 to 4). These signals\n",
        "have been preprocessed and segmented, so that each segment is a heartbeat, and correspondingly one sample of\n",
        "the dataset, which, in turn, consists of signal values for 187 time instants. Figure 1 shows one example for each\n",
        "class"
      ],
      "metadata": {
        "id": "Inxl54I2sT3v"
      }
    },
    {
      "cell_type": "code",
      "source": [
        "#Load libraries\n",
        "import pandas as pd\n",
        "import numpy as np\n",
        "import seaborn as sns\n",
        "from pandas import read_csv\n",
        "import matplotlib.pyplot as plt\n",
        "from collections import Counter\n",
        "from keras.models import Sequential\n",
        "from keras.layers import Dense\n",
        "from keras.utils import to_categorical\n",
        "from keras.optimizers import Adam\n",
        "from keras.callbacks import ReduceLROnPlateau\n",
        "from keras.optimizers import SGD, Adagrad, Adadelta, RMSprop\n",
        "from sklearn.metrics import confusion_matrix, accuracy_score, precision_score, recall_score, f1_score\n",
        "from sklearn.cluster import KMeans"
      ],
      "metadata": {
        "id": "AZXToehwsk6Z"
      },
      "execution_count": 1,
      "outputs": []
    },
    {
      "cell_type": "code",
      "source": [
        "#Connect to GitHub for faster access\n",
        "!git clone https://github.com/melihkurtaran/MachineLearning.git"
      ],
      "metadata": {
        "colab": {
          "base_uri": "https://localhost:8080/"
        },
        "id": "5k-B8E8qrmEJ",
        "outputId": "42ebad60-bc73-4d8b-d5ec-c729eae4e467"
      },
      "execution_count": 2,
      "outputs": [
        {
          "output_type": "stream",
          "name": "stdout",
          "text": [
            "Cloning into 'MachineLearning'...\n",
            "remote: Enumerating objects: 144, done.\u001b[K\n",
            "remote: Counting objects: 100% (144/144), done.\u001b[K\n",
            "remote: Compressing objects: 100% (126/126), done.\u001b[K\n",
            "remote: Total 144 (delta 75), reused 43 (delta 17), pack-reused 0\u001b[K\n",
            "Receiving objects: 100% (144/144), 4.56 MiB | 4.88 MiB/s, done.\n",
            "Resolving deltas: 100% (75/75), done.\n"
          ]
        }
      ]
    },
    {
      "cell_type": "markdown",
      "source": [
        "Read datasets"
      ],
      "metadata": {
        "id": "30JhALuMszY3"
      }
    },
    {
      "cell_type": "code",
      "source": [
        "# Define the path to the datasets folder\n",
        "folder = \"MachineLearning/FFNN&RBFNN/datasets-nn/\"\n",
        "\n",
        "#defining a function to read files to datafame\n",
        "def load_data(group, split, task):\n",
        "    \"\"\"Load the dataset for a given group, split, and task.\n",
        "\n",
        "    Parameters:\n",
        "        group (int): The group number.\n",
        "        split (int): The split number.\n",
        "        task (int): The task number (either 1 or 2).\n",
        "    \n",
        "    Returns:\n",
        "        tuple: A tuple containing the training data (X_train, y_train) and the\n",
        "            test data (X_test, y_test).\n",
        "    \"\"\"\n",
        "\n",
        "    # Load the data for the given task and split\n",
        "    data = pd.read_csv(folder + f'ds{task}-{group:02d}-{split}-nn-tr.csv')\n",
        "    X_train = data.iloc[:, :-1].to_numpy()\n",
        "    y_train = data.iloc[:, -1].to_numpy()\n",
        "    data = pd.read_csv(folder + f'ds{task}-{group:02d}-{split}-nn-te.csv')\n",
        "    X_test = data.iloc[:, :-1].to_numpy()\n",
        "    y_test = data.iloc[:, -1].to_numpy()\n",
        "\n",
        "    #printing only X for simplicity\n",
        "    print(f'X_train_{task}_{group:02d}_sp{split} is created, size is {len(X_train)}')\n",
        "    print(f'X_test_{task}_{group:02d}_sp{split} is created, size is {len(X_test)}')\n",
        "\n",
        "    return (X_train, y_train), (X_test, y_test)"
      ],
      "metadata": {
        "id": "l5_HSYsYwfuz"
      },
      "execution_count": 3,
      "outputs": []
    },
    {
      "cell_type": "markdown",
      "source": [
        "My group number is 11 and there are 3 splits"
      ],
      "metadata": {
        "id": "lR8xihDIyou1"
      }
    },
    {
      "cell_type": "code",
      "source": [
        "(X_train_1_sp1, y_train_1_sp1), (X_test_1_sp1, y_test_1_sp1) = load_data(11, 1, 1)\n",
        "(X_train_1_sp2, y_train_1_sp2), (X_test_1_sp2, y_test_1_sp2) = load_data(11, 2, 1)\n",
        "(X_train_1_sp3, y_train_1_sp3), (X_test_1_sp3, y_test_1_sp3) = load_data(11, 3, 1)\n",
        "\n",
        "(X_train_2_sp1, y_train_2_sp1), (X_test_2_sp1, y_test_2_sp1) = load_data(11, 1, 2)\n",
        "(X_train_2_sp2, y_train_2_sp2), (X_test_2_sp2, y_test_2_sp2) = load_data(11, 2, 2)\n",
        "(X_train_2_sp3, y_train_2_sp3), (X_test_2_sp3, y_test_2_sp3) = load_data(11, 3, 2)"
      ],
      "metadata": {
        "colab": {
          "base_uri": "https://localhost:8080/"
        },
        "id": "bgDF4ozvsrZ9",
        "outputId": "62c4bec7-006a-403b-ec53-06736e03d551"
      },
      "execution_count": 4,
      "outputs": [
        {
          "output_type": "stream",
          "name": "stdout",
          "text": [
            "X_train_1_11_sp1 is created, size is 2503\n",
            "X_test_1_11_sp1 is created, size is 1252\n",
            "X_train_1_11_sp2 is created, size is 2503\n",
            "X_test_1_11_sp2 is created, size is 1252\n",
            "X_train_1_11_sp3 is created, size is 2504\n",
            "X_test_1_11_sp3 is created, size is 1251\n",
            "X_train_2_11_sp1 is created, size is 2666\n",
            "X_test_2_11_sp1 is created, size is 1334\n",
            "X_train_2_11_sp2 is created, size is 2667\n",
            "X_test_2_11_sp2 is created, size is 1333\n",
            "X_train_2_11_sp3 is created, size is 2667\n",
            "X_test_2_11_sp3 is created, size is 1333\n"
          ]
        }
      ]
    },
    {
      "cell_type": "markdown",
      "source": [
        "Visualizing one random sample electrocardiogram signal"
      ],
      "metadata": {
        "id": "k1DAoYd01sc_"
      }
    },
    {
      "cell_type": "code",
      "source": [
        "import matplotlib.pyplot as plt\n",
        "\n",
        "# Create a figure and axis\n",
        "fig, ax = plt.subplots()\n",
        "\n",
        "# Plot the data as a line\n",
        "ax.plot(X_train_1_sp1[784])\n",
        "\n",
        "# Show the plot\n",
        "plt.show()"
      ],
      "metadata": {
        "colab": {
          "base_uri": "https://localhost:8080/",
          "height": 265
        },
        "id": "dznzr_Mm08zC",
        "outputId": "b74854a2-de89-41bc-ffd3-18edd4bd5bc6"
      },
      "execution_count": 5,
      "outputs": [
        {
          "output_type": "display_data",
          "data": {
            "text/plain": [
              "<Figure size 432x288 with 1 Axes>"
            ],
            "image/png": "[encoded data removed]"
          },
          "metadata": {
            "needs_background": "light"
          }
        }
      ]
    },
    {
      "cell_type": "markdown",
      "source": [
        "A simple value count check for classes in one split of training data to see if it is balanced"
      ],
      "metadata": {
        "id": "TfBQGFnI3FXO"
      }
    },
    {
      "cell_type": "code",
      "source": [
        "# Count the occurrences of each value\n",
        "counts = Counter(y_train_1_sp1)\n",
        "\n",
        "# Print the counts of each value\n",
        "for value, count in counts.items():\n",
        "    print(f\"Class {value}, count: {count}\")"
      ],
      "metadata": {
        "colab": {
          "base_uri": "https://localhost:8080/"
        },
        "id": "ihTvvvsj2cfA",
        "outputId": "c7550211-e809-458b-97b9-a0d9be4df028"
      },
      "execution_count": 6,
      "outputs": [
        {
          "output_type": "stream",
          "name": "stdout",
          "text": [
            "Class 0, count: 500\n",
            "Class 1, count: 501\n",
            "Class 2, count: 501\n",
            "Class 3, count: 500\n",
            "Class 4, count: 501\n"
          ]
        }
      ]
    },
    {
      "cell_type": "markdown",
      "source": [
        "# **T1 - Design and evaluate FFNN**"
      ],
      "metadata": {
        "id": "rKra1dg52DSK"
      }
    },
    {
      "cell_type": "code",
      "source": [
        "# Load and preprocess the data\n",
        "X_train = np.concatenate((X_train_1_sp1, X_train_1_sp2,X_train_1_sp3))\n",
        "y_train = np.concatenate((y_train_1_sp1, y_train_1_sp2,y_train_1_sp3))\n",
        "\n",
        "X_test = np.concatenate((X_test_1_sp1, X_test_1_sp2,X_test_1_sp3))\n",
        "y_test = np.concatenate((y_test_1_sp1, y_test_1_sp2,y_test_1_sp3))\n",
        "\n",
        "num_classes = len(set(y_train))\n",
        "y_train = to_categorical(y_train, num_classes)\n",
        "y_test = to_categorical(y_test, num_classes)"
      ],
      "metadata": {
        "id": "YcRVIFqPc0BE"
      },
      "execution_count": null,
      "outputs": []
    },
    {
      "cell_type": "markdown",
      "source": [
        "## **a) Design**"
      ],
      "metadata": {
        "id": "GpR2QGZFcp9G"
      }
    },
    {
      "cell_type": "markdown",
      "source": [
        "An FFNN is developed to solve the multi-class classification problem"
      ],
      "metadata": {
        "id": "7eopU1cI3aPm"
      }
    },
    {
      "cell_type": "markdown",
      "source": [
        "1. Start with a basic configuration: a single hidden layer network with enough neurons (1 and the most\n",
        "basic activation function. For training, set a fixed learning rate, the most basic optimizer, a small\n",
        "batch size and the most direct loss function. Tune the learning rate until you achieve convergence and\n",
        "a reasonable performance. You can use the accuracy for measuring performance.\n",
        "\n",
        "- Single hidden layer with 64 neurons used, 4 neurons reaching validation accuracy around 90% and 16 neurons reach 96% and 64 is reaching 98%\n",
        "\n",
        "- Smaller batch size causes higher time for training but the validation accuracy is higher. It is set as 16 for starting.\n",
        "\n",
        "- Both very low and very high learning rate have poor performance. Learning rate with the value 0.0001 gets 89% validation accuracy, learning rate with the value 0.1 causing model not to converge and the accuracy reach 90% but later decreases to 87%. Learning rate with the value 0.001 achieves convergence and reachs 98.7% validation accuracy"
      ],
      "metadata": {
        "id": "YF2_361aa-C1"
      }
    },
    {
      "cell_type": "code",
      "source": [
        "# Define the FFNN architecture\n",
        "model = Sequential()\n",
        "model.add(Dense(64, activation='relu', input_shape=(len(X_train[0]),)))\n",
        "model.add(Dense(num_classes, activation='softmax'))\n",
        "\n",
        "# Define the optimizer\n",
        "optimizer = Adam(learning_rate=0.001)\n",
        "\n",
        "# Compile the model\n",
        "model.compile(optimizer=optimizer, loss='categorical_crossentropy', metrics=['accuracy'])\n",
        "\n",
        "# Train the model\n",
        "model.fit(X_train, y_train, epochs=10, batch_size=16, validation_data=(X_test, y_test))"
      ],
      "metadata": {
        "id": "wOVsSRDUY4TB",
        "outputId": "1a4305a4-3446-4747-901b-4e6f9f382581",
        "colab": {
          "base_uri": "https://localhost:8080/"
        }
      },
      "execution_count": null,
      "outputs": [
        {
          "output_type": "stream",
          "name": "stdout",
          "text": [
            "Epoch 1/10\n",
            "470/470 [==============================] - 1s 2ms/step - loss: 0.5856 - accuracy: 0.8280 - val_loss: 0.3095 - val_accuracy: 0.9052\n",
            "Epoch 2/10\n",
            "470/470 [==============================] - 1s 2ms/step - loss: 0.2461 - accuracy: 0.9272 - val_loss: 0.1896 - val_accuracy: 0.9435\n",
            "Epoch 3/10\n",
            "470/470 [==============================] - 1s 2ms/step - loss: 0.1623 - accuracy: 0.9490 - val_loss: 0.1310 - val_accuracy: 0.9603\n",
            "Epoch 4/10\n",
            "470/470 [==============================] - 1s 2ms/step - loss: 0.1227 - accuracy: 0.9601 - val_loss: 0.1037 - val_accuracy: 0.9688\n",
            "Epoch 5/10\n",
            "470/470 [==============================] - 1s 3ms/step - loss: 0.1001 - accuracy: 0.9672 - val_loss: 0.0881 - val_accuracy: 0.9763\n",
            "Epoch 6/10\n",
            "470/470 [==============================] - 1s 2ms/step - loss: 0.0852 - accuracy: 0.9726 - val_loss: 0.0719 - val_accuracy: 0.9790\n",
            "Epoch 7/10\n",
            "470/470 [==============================] - 1s 2ms/step - loss: 0.0737 - accuracy: 0.9760 - val_loss: 0.0717 - val_accuracy: 0.9752\n",
            "Epoch 8/10\n",
            "470/470 [==============================] - 1s 2ms/step - loss: 0.0671 - accuracy: 0.9799 - val_loss: 0.0652 - val_accuracy: 0.9814\n",
            "Epoch 9/10\n",
            "470/470 [==============================] - 1s 2ms/step - loss: 0.0582 - accuracy: 0.9820 - val_loss: 0.0558 - val_accuracy: 0.9851\n",
            "Epoch 10/10\n",
            "470/470 [==============================] - 1s 2ms/step - loss: 0.0543 - accuracy: 0.9834 - val_loss: 0.0452 - val_accuracy: 0.9877\n"
          ]
        },
        {
          "output_type": "execute_result",
          "data": {
            "text/plain": [
              "<keras.callbacks.History at 0x7fd7dd4b6a60>"
            ]
          },
          "metadata": {},
          "execution_count": 106
        }
      ]
    },
    {
      "cell_type": "markdown",
      "source": [
        "2. Next, check whether a change in the activation function of the hidden layer neurons improve the\n",
        "classification performance. If that is the case, keep with the alternative activation function."
      ],
      "metadata": {
        "id": "STi_UuT6fG16"
      }
    },
    {
      "cell_type": "markdown",
      "source": [
        "- tanh: have very similar performance but a bit lower\n",
        "\n",
        "- sigmoid: have clearly worse performance\n",
        "\n",
        "- LeakyReLU: have very similar performance but a bit lower\n",
        "\n",
        "- ELU: also have very similar performance but a bit lower\n",
        "\n",
        "Since reLU had the best performance, we will keep it."
      ],
      "metadata": {
        "id": "Lni0HDM6gLYb"
      }
    },
    {
      "cell_type": "code",
      "source": [
        "# Define the FFNN architecture\n",
        "model = Sequential()\n",
        "model.add(Dense(64, activation='sigmoid', input_shape=(len(X_train[0]),)))\n",
        "model.add(Dense(num_classes, activation='softmax'))\n",
        "\n",
        "# Define the optimizer\n",
        "optimizer = Adam(learning_rate=0.001)\n",
        "\n",
        "# Compile the model\n",
        "model.compile(optimizer=optimizer, loss='categorical_crossentropy', metrics=['accuracy'])\n",
        "\n",
        "# Train the model\n",
        "model.fit(X_train, y_train, epochs=10, batch_size=16, validation_data=(X_test, y_test))"
      ],
      "metadata": {
        "id": "qLzOuGSLfes7",
        "outputId": "310e316d-72ed-4276-dc91-0fd694d4ad1f",
        "colab": {
          "base_uri": "https://localhost:8080/"
        }
      },
      "execution_count": null,
      "outputs": [
        {
          "output_type": "stream",
          "name": "stdout",
          "text": [
            "Epoch 1/10\n",
            "470/470 [==============================] - 2s 3ms/step - loss: 0.9770 - accuracy: 0.6987 - val_loss: 0.6220 - val_accuracy: 0.8485\n",
            "Epoch 2/10\n",
            "470/470 [==============================] - 1s 2ms/step - loss: 0.5078 - accuracy: 0.8497 - val_loss: 0.4347 - val_accuracy: 0.8586\n",
            "Epoch 3/10\n",
            "470/470 [==============================] - 1s 2ms/step - loss: 0.3962 - accuracy: 0.8702 - val_loss: 0.3604 - val_accuracy: 0.8740\n",
            "Epoch 4/10\n",
            "470/470 [==============================] - 1s 2ms/step - loss: 0.3422 - accuracy: 0.8800 - val_loss: 0.3195 - val_accuracy: 0.8881\n",
            "Epoch 5/10\n",
            "470/470 [==============================] - 1s 2ms/step - loss: 0.3046 - accuracy: 0.8953 - val_loss: 0.2826 - val_accuracy: 0.9044\n",
            "Epoch 6/10\n",
            "470/470 [==============================] - 1s 2ms/step - loss: 0.2731 - accuracy: 0.9075 - val_loss: 0.2558 - val_accuracy: 0.9105\n",
            "Epoch 7/10\n",
            "470/470 [==============================] - 1s 2ms/step - loss: 0.2455 - accuracy: 0.9160 - val_loss: 0.2340 - val_accuracy: 0.9230\n",
            "Epoch 8/10\n",
            "470/470 [==============================] - 1s 2ms/step - loss: 0.2229 - accuracy: 0.9262 - val_loss: 0.2141 - val_accuracy: 0.9297\n",
            "Epoch 9/10\n",
            "470/470 [==============================] - 1s 2ms/step - loss: 0.2029 - accuracy: 0.9324 - val_loss: 0.1889 - val_accuracy: 0.9411\n",
            "Epoch 10/10\n",
            "470/470 [==============================] - 1s 2ms/step - loss: 0.1848 - accuracy: 0.9402 - val_loss: 0.1765 - val_accuracy: 0.9446\n"
          ]
        },
        {
          "output_type": "execute_result",
          "data": {
            "text/plain": [
              "<keras.callbacks.History at 0x7fd7d38d2880>"
            ]
          },
          "metadata": {},
          "execution_count": 109
        }
      ]
    },
    {
      "cell_type": "markdown",
      "source": [
        "3. Try now with a dynamic learning rate and keep it if the training improves (or does not get worse)."
      ],
      "metadata": {
        "id": "tPGVn5RehX90"
      }
    },
    {
      "cell_type": "markdown",
      "source": [
        "Value of epoch is increased to 20 from 10 and patience set as 1 to give more opportunity for dynamic learning rate to get updated. It is observed that learning rate got updated several times and the performance is slightly improved."
      ],
      "metadata": {
        "id": "E2rb8-ssi3Gz"
      }
    },
    {
      "cell_type": "code",
      "source": [
        "# Define the FFNN architecture\n",
        "model = Sequential()\n",
        "model.add(Dense(64, activation='relu', input_shape=(len(X_train[0]),)))\n",
        "model.add(Dense(num_classes, activation='softmax'))\n",
        "\n",
        "# Define the callback\n",
        "reduce_lr = ReduceLROnPlateau(monitor='accuracy', factor=0.1, patience=1, verbose=1)\n",
        "\n",
        "# Define the optimizer\n",
        "optimizer = Adam(learning_rate=0.001)\n",
        "\n",
        "# Compile the model\n",
        "model.compile(optimizer=optimizer, loss='categorical_crossentropy', metrics=['accuracy'])\n",
        "\n",
        "# Train the model\n",
        "model.fit(X_train, y_train, epochs=20, batch_size=16, validation_data=(X_test, y_test), callbacks=[reduce_lr])"
      ],
      "metadata": {
        "id": "-77GVhj9hgtd",
        "outputId": "669fc4be-d4e9-414e-8592-0d2cd02c56fd",
        "colab": {
          "base_uri": "https://localhost:8080/"
        }
      },
      "execution_count": null,
      "outputs": [
        {
          "output_type": "stream",
          "name": "stdout",
          "text": [
            "Epoch 1/20\n",
            "470/470 [==============================] - 1s 2ms/step - loss: 0.6290 - accuracy: 0.8133 - val_loss: 0.3393 - val_accuracy: 0.8850 - lr: 0.0010\n",
            "Epoch 2/20\n",
            "470/470 [==============================] - 1s 2ms/step - loss: 0.2643 - accuracy: 0.9212 - val_loss: 0.2073 - val_accuracy: 0.9411 - lr: 0.0010\n",
            "Epoch 3/20\n",
            "470/470 [==============================] - 1s 2ms/step - loss: 0.1768 - accuracy: 0.9465 - val_loss: 0.1562 - val_accuracy: 0.9515 - lr: 0.0010\n",
            "Epoch 4/20\n",
            "470/470 [==============================] - 1s 2ms/step - loss: 0.1330 - accuracy: 0.9593 - val_loss: 0.1124 - val_accuracy: 0.9667 - lr: 0.0010\n",
            "Epoch 5/20\n",
            "470/470 [==============================] - 1s 2ms/step - loss: 0.1052 - accuracy: 0.9680 - val_loss: 0.0928 - val_accuracy: 0.9742 - lr: 0.0010\n",
            "Epoch 6/20\n",
            "470/470 [==============================] - 1s 2ms/step - loss: 0.0891 - accuracy: 0.9736 - val_loss: 0.0753 - val_accuracy: 0.9771 - lr: 0.0010\n",
            "Epoch 7/20\n",
            "470/470 [==============================] - 1s 2ms/step - loss: 0.0783 - accuracy: 0.9762 - val_loss: 0.0687 - val_accuracy: 0.9824 - lr: 0.0010\n",
            "Epoch 8/20\n",
            "470/470 [==============================] - 1s 2ms/step - loss: 0.0676 - accuracy: 0.9818 - val_loss: 0.0629 - val_accuracy: 0.9827 - lr: 0.0010\n",
            "Epoch 9/20\n",
            "470/470 [==============================] - 1s 2ms/step - loss: 0.0594 - accuracy: 0.9830 - val_loss: 0.0510 - val_accuracy: 0.9880 - lr: 0.0010\n",
            "Epoch 10/20\n",
            "470/470 [==============================] - 1s 2ms/step - loss: 0.0527 - accuracy: 0.9856 - val_loss: 0.0448 - val_accuracy: 0.9883 - lr: 0.0010\n",
            "Epoch 11/20\n",
            "470/470 [==============================] - 1s 2ms/step - loss: 0.0471 - accuracy: 0.9868 - val_loss: 0.0452 - val_accuracy: 0.9872 - lr: 0.0010\n",
            "Epoch 12/20\n",
            "470/470 [==============================] - 1s 2ms/step - loss: 0.0423 - accuracy: 0.9892 - val_loss: 0.0347 - val_accuracy: 0.9920 - lr: 0.0010\n",
            "Epoch 13/20\n",
            "470/470 [==============================] - 1s 2ms/step - loss: 0.0385 - accuracy: 0.9900 - val_loss: 0.0318 - val_accuracy: 0.9936 - lr: 0.0010\n",
            "Epoch 14/20\n",
            "470/470 [==============================] - ETA: 0s - loss: 0.0360 - accuracy: 0.9883\n",
            "Epoch 14: ReduceLROnPlateau reducing learning rate to 0.00010000000474974513.\n",
            "470/470 [==============================] - 1s 2ms/step - loss: 0.0360 - accuracy: 0.9883 - val_loss: 0.0290 - val_accuracy: 0.9928 - lr: 0.0010\n",
            "Epoch 15/20\n",
            "470/470 [==============================] - 1s 2ms/step - loss: 0.0277 - accuracy: 0.9941 - val_loss: 0.0264 - val_accuracy: 0.9955 - lr: 1.0000e-04\n",
            "Epoch 16/20\n",
            "470/470 [==============================] - 1s 2ms/step - loss: 0.0266 - accuracy: 0.9952 - val_loss: 0.0259 - val_accuracy: 0.9947 - lr: 1.0000e-04\n",
            "Epoch 17/20\n",
            "436/470 [==========================>...] - ETA: 0s - loss: 0.0265 - accuracy: 0.9950\n",
            "Epoch 17: ReduceLROnPlateau reducing learning rate to 1.0000000474974514e-05.\n",
            "470/470 [==============================] - 1s 2ms/step - loss: 0.0262 - accuracy: 0.9951 - val_loss: 0.0253 - val_accuracy: 0.9955 - lr: 1.0000e-04\n",
            "Epoch 18/20\n",
            "470/470 [==============================] - 1s 2ms/step - loss: 0.0253 - accuracy: 0.9956 - val_loss: 0.0251 - val_accuracy: 0.9955 - lr: 1.0000e-05\n",
            "Epoch 19/20\n",
            "442/470 [===========================>..] - ETA: 0s - loss: 0.0249 - accuracy: 0.9958\n",
            "Epoch 19: ReduceLROnPlateau reducing learning rate to 1.0000000656873453e-06.\n",
            "470/470 [==============================] - 1s 2ms/step - loss: 0.0252 - accuracy: 0.9956 - val_loss: 0.0251 - val_accuracy: 0.9955 - lr: 1.0000e-05\n",
            "Epoch 20/20\n",
            "431/470 [==========================>...] - ETA: 0s - loss: 0.0253 - accuracy: 0.9956\n",
            "Epoch 20: ReduceLROnPlateau reducing learning rate to 1.0000001111620805e-07.\n",
            "470/470 [==============================] - 1s 2ms/step - loss: 0.0251 - accuracy: 0.9956 - val_loss: 0.0250 - val_accuracy: 0.9957 - lr: 1.0000e-06\n"
          ]
        },
        {
          "output_type": "execute_result",
          "data": {
            "text/plain": [
              "<keras.callbacks.History at 0x7fd7d32e5280>"
            ]
          },
          "metadata": {},
          "execution_count": 114
        }
      ]
    },
    {
      "cell_type": "markdown",
      "source": [
        "4. Change to an alternative optimizer and keep it if the performance gets better"
      ],
      "metadata": {
        "id": "X91kGnjBkFTk"
      }
    },
    {
      "cell_type": "markdown",
      "source": [
        "- Stochastic Gradient Descent (SGD): Decreased the performance by 2-3%\n",
        "\n",
        "- Adagrad: Decreased permormance very much, it dropped more than 10%\n",
        "\n",
        "- Adadelta: Almost the same with Adam but lower for 1-2%\n",
        "\n",
        "- RMSprop: Almost identical performance but a little lower.\n",
        "\n",
        "Since there is no improvement by any of the alternative optimizers, Adam will be kept."
      ],
      "metadata": {
        "id": "wcDTgFi1kmGB"
      }
    },
    {
      "cell_type": "code",
      "source": [
        "# Define the FFNN architecture\n",
        "model = Sequential()\n",
        "model.add(Dense(64, activation='relu', input_shape=(len(X_train[0]),)))\n",
        "model.add(Dense(num_classes, activation='softmax'))\n",
        "\n",
        "# Define the callback\n",
        "reduce_lr = ReduceLROnPlateau(monitor='accuracy', factor=0.1, patience=1, verbose=1)\n",
        "\n",
        "# Change the optimizer\n",
        "optimizer = RMSprop(learning_rate=0.001, rho=0.9)\n",
        "\n",
        "# Compile the model\n",
        "model.compile(optimizer=optimizer, loss='categorical_crossentropy', metrics=['accuracy'])\n",
        "\n",
        "# Train the model\n",
        "model.fit(X_train, y_train, epochs=20, batch_size=16, validation_data=(X_test, y_test), callbacks=[reduce_lr])"
      ],
      "metadata": {
        "id": "5Bi0iTs8kNYY",
        "outputId": "e50fe21b-5b6c-4ced-c906-f18849536f23",
        "colab": {
          "base_uri": "https://localhost:8080/"
        }
      },
      "execution_count": null,
      "outputs": [
        {
          "output_type": "stream",
          "name": "stdout",
          "text": [
            "Epoch 1/20\n",
            "470/470 [==============================] - 1s 2ms/step - loss: 0.5677 - accuracy: 0.8276 - val_loss: 0.4025 - val_accuracy: 0.8618 - lr: 0.0010\n",
            "Epoch 2/20\n",
            "470/470 [==============================] - 1s 2ms/step - loss: 0.2772 - accuracy: 0.9061 - val_loss: 0.2496 - val_accuracy: 0.9180 - lr: 0.0010\n",
            "Epoch 3/20\n",
            "470/470 [==============================] - 1s 2ms/step - loss: 0.1982 - accuracy: 0.9350 - val_loss: 0.1697 - val_accuracy: 0.9411 - lr: 0.0010\n",
            "Epoch 4/20\n",
            "470/470 [==============================] - 1s 2ms/step - loss: 0.1495 - accuracy: 0.9530 - val_loss: 0.1469 - val_accuracy: 0.9507 - lr: 0.0010\n",
            "Epoch 5/20\n",
            "470/470 [==============================] - 1s 2ms/step - loss: 0.1211 - accuracy: 0.9627 - val_loss: 0.1289 - val_accuracy: 0.9603 - lr: 0.0010\n",
            "Epoch 6/20\n",
            "470/470 [==============================] - 1s 2ms/step - loss: 0.1029 - accuracy: 0.9658 - val_loss: 0.0895 - val_accuracy: 0.9704 - lr: 0.0010\n",
            "Epoch 7/20\n",
            "470/470 [==============================] - 1s 2ms/step - loss: 0.0902 - accuracy: 0.9696 - val_loss: 0.0867 - val_accuracy: 0.9702 - lr: 0.0010\n",
            "Epoch 8/20\n",
            "470/470 [==============================] - 1s 2ms/step - loss: 0.0786 - accuracy: 0.9759 - val_loss: 0.0730 - val_accuracy: 0.9771 - lr: 0.0010\n",
            "Epoch 9/20\n",
            "470/470 [==============================] - 1s 2ms/step - loss: 0.0723 - accuracy: 0.9766 - val_loss: 0.0640 - val_accuracy: 0.9814 - lr: 0.0010\n",
            "Epoch 10/20\n",
            "470/470 [==============================] - 1s 2ms/step - loss: 0.0653 - accuracy: 0.9803 - val_loss: 0.0551 - val_accuracy: 0.9862 - lr: 0.0010\n",
            "Epoch 11/20\n",
            "470/470 [==============================] - 1s 2ms/step - loss: 0.0589 - accuracy: 0.9804 - val_loss: 0.0485 - val_accuracy: 0.9867 - lr: 0.0010\n",
            "Epoch 12/20\n",
            "470/470 [==============================] - 1s 2ms/step - loss: 0.0545 - accuracy: 0.9832 - val_loss: 0.0477 - val_accuracy: 0.9854 - lr: 0.0010\n",
            "Epoch 13/20\n",
            "455/470 [============================>.] - ETA: 0s - loss: 0.0516 - accuracy: 0.9830\n",
            "Epoch 13: ReduceLROnPlateau reducing learning rate to 0.00010000000474974513.\n",
            "470/470 [==============================] - 1s 2ms/step - loss: 0.0516 - accuracy: 0.9830 - val_loss: 0.0450 - val_accuracy: 0.9859 - lr: 0.0010\n",
            "Epoch 14/20\n",
            "470/470 [==============================] - 1s 2ms/step - loss: 0.0429 - accuracy: 0.9871 - val_loss: 0.0406 - val_accuracy: 0.9877 - lr: 1.0000e-04\n",
            "Epoch 15/20\n",
            "470/470 [==============================] - 1s 2ms/step - loss: 0.0412 - accuracy: 0.9881 - val_loss: 0.0398 - val_accuracy: 0.9883 - lr: 1.0000e-04\n",
            "Epoch 16/20\n",
            "431/470 [==========================>...] - ETA: 0s - loss: 0.0404 - accuracy: 0.9884\n",
            "Epoch 16: ReduceLROnPlateau reducing learning rate to 1.0000000474974514e-05.\n",
            "470/470 [==============================] - 1s 2ms/step - loss: 0.0406 - accuracy: 0.9881 - val_loss: 0.0400 - val_accuracy: 0.9875 - lr: 1.0000e-04\n",
            "Epoch 17/20\n",
            "437/470 [==========================>...] - ETA: 0s - loss: 0.0397 - accuracy: 0.9883\n",
            "Epoch 17: ReduceLROnPlateau reducing learning rate to 1.0000000656873453e-06.\n",
            "470/470 [==============================] - 1s 2ms/step - loss: 0.0398 - accuracy: 0.9880 - val_loss: 0.0394 - val_accuracy: 0.9883 - lr: 1.0000e-05\n",
            "Epoch 18/20\n",
            "470/470 [==============================] - 1s 2ms/step - loss: 0.0394 - accuracy: 0.9883 - val_loss: 0.0394 - val_accuracy: 0.9883 - lr: 1.0000e-06\n",
            "Epoch 19/20\n",
            "444/470 [===========================>..] - ETA: 0s - loss: 0.0399 - accuracy: 0.9880\n",
            "Epoch 19: ReduceLROnPlateau reducing learning rate to 1.0000001111620805e-07.\n",
            "470/470 [==============================] - 1s 2ms/step - loss: 0.0394 - accuracy: 0.9883 - val_loss: 0.0394 - val_accuracy: 0.9883 - lr: 1.0000e-06\n",
            "Epoch 20/20\n",
            "438/470 [==========================>...] - ETA: 0s - loss: 0.0388 - accuracy: 0.9886\n",
            "Epoch 20: ReduceLROnPlateau reducing learning rate to 1.000000082740371e-08.\n",
            "470/470 [==============================] - 1s 2ms/step - loss: 0.0394 - accuracy: 0.9883 - val_loss: 0.0394 - val_accuracy: 0.9883 - lr: 1.0000e-07\n"
          ]
        },
        {
          "output_type": "execute_result",
          "data": {
            "text/plain": [
              "<keras.callbacks.History at 0x7fd7d3629b20>"
            ]
          },
          "metadata": {},
          "execution_count": 111
        }
      ]
    },
    {
      "cell_type": "markdown",
      "source": [
        "5. Switch to another loss function to check whether the performance level increases."
      ],
      "metadata": {
        "id": "NzFcSHqElxUI"
      }
    },
    {
      "cell_type": "markdown",
      "source": [
        "None of the other loss functions did not improve the performance."
      ],
      "metadata": {
        "id": "sB0YXR4_mgGJ"
      }
    },
    {
      "cell_type": "code",
      "source": [
        "# Define the FFNN architecture\n",
        "model = Sequential()\n",
        "model.add(Dense(64, activation='relu', input_shape=(len(X_train[0]),)))\n",
        "model.add(Dense(num_classes, activation='softmax'))\n",
        "\n",
        "# Define the callback\n",
        "reduce_lr = ReduceLROnPlateau(monitor='accuracy', factor=0.1, patience=1, verbose=1)\n",
        "\n",
        "# Define the optimizer\n",
        "optimizer = Adam(learning_rate=0.001)\n",
        "\n",
        "# Changing the loss function\n",
        "model.compile(optimizer=optimizer, loss='mean_squared_error', metrics=['accuracy'])\n",
        "\n",
        "# Train the model\n",
        "model.fit(X_train, y_train, epochs=20, batch_size=16, validation_data=(X_test, y_test), callbacks=[reduce_lr])"
      ],
      "metadata": {
        "id": "VXJwexsil8gz",
        "outputId": "886bf4ca-a3e1-45b9-aed9-8b57e21da851",
        "colab": {
          "base_uri": "https://localhost:8080/"
        }
      },
      "execution_count": null,
      "outputs": [
        {
          "output_type": "stream",
          "name": "stdout",
          "text": [
            "Epoch 1/20\n",
            "470/470 [==============================] - 2s 3ms/step - loss: 0.0586 - accuracy: 0.8300 - val_loss: 0.0344 - val_accuracy: 0.8991 - lr: 0.0010\n",
            "Epoch 2/20\n",
            "470/470 [==============================] - 1s 2ms/step - loss: 0.0253 - accuracy: 0.9296 - val_loss: 0.0197 - val_accuracy: 0.9462 - lr: 0.0010\n",
            "Epoch 3/20\n",
            "470/470 [==============================] - 1s 2ms/step - loss: 0.0176 - accuracy: 0.9502 - val_loss: 0.0146 - val_accuracy: 0.9630 - lr: 0.0010\n",
            "Epoch 4/20\n",
            "470/470 [==============================] - 1s 2ms/step - loss: 0.0137 - accuracy: 0.9623 - val_loss: 0.0134 - val_accuracy: 0.9630 - lr: 0.0010\n",
            "Epoch 5/20\n",
            "470/470 [==============================] - 1s 2ms/step - loss: 0.0117 - accuracy: 0.9674 - val_loss: 0.0107 - val_accuracy: 0.9686 - lr: 0.0010\n",
            "Epoch 6/20\n",
            "470/470 [==============================] - 1s 2ms/step - loss: 0.0101 - accuracy: 0.9711 - val_loss: 0.0083 - val_accuracy: 0.9798 - lr: 0.0010\n",
            "Epoch 7/20\n",
            "470/470 [==============================] - 1s 2ms/step - loss: 0.0087 - accuracy: 0.9771 - val_loss: 0.0079 - val_accuracy: 0.9760 - lr: 0.0010\n",
            "Epoch 8/20\n",
            "470/470 [==============================] - 1s 2ms/step - loss: 0.0075 - accuracy: 0.9804 - val_loss: 0.0067 - val_accuracy: 0.9819 - lr: 0.0010\n",
            "Epoch 9/20\n",
            "470/470 [==============================] - 1s 2ms/step - loss: 0.0067 - accuracy: 0.9820 - val_loss: 0.0062 - val_accuracy: 0.9851 - lr: 0.0010\n",
            "Epoch 10/20\n",
            "470/470 [==============================] - 1s 2ms/step - loss: 0.0060 - accuracy: 0.9848 - val_loss: 0.0061 - val_accuracy: 0.9859 - lr: 0.0010\n",
            "Epoch 11/20\n",
            "470/470 [==============================] - 1s 2ms/step - loss: 0.0055 - accuracy: 0.9858 - val_loss: 0.0053 - val_accuracy: 0.9856 - lr: 0.0010\n",
            "Epoch 12/20\n",
            "470/470 [==============================] - 1s 2ms/step - loss: 0.0052 - accuracy: 0.9866 - val_loss: 0.0044 - val_accuracy: 0.9907 - lr: 0.0010\n",
            "Epoch 13/20\n",
            "470/470 [==============================] - 1s 2ms/step - loss: 0.0046 - accuracy: 0.9883 - val_loss: 0.0036 - val_accuracy: 0.9923 - lr: 0.0010\n",
            "Epoch 14/20\n",
            "470/470 [==============================] - 1s 2ms/step - loss: 0.0043 - accuracy: 0.9888 - val_loss: 0.0035 - val_accuracy: 0.9933 - lr: 0.0010\n",
            "Epoch 15/20\n",
            "470/470 [==============================] - 1s 2ms/step - loss: 0.0039 - accuracy: 0.9903 - val_loss: 0.0031 - val_accuracy: 0.9936 - lr: 0.0010\n",
            "Epoch 16/20\n",
            "470/470 [==============================] - 1s 2ms/step - loss: 0.0034 - accuracy: 0.9925 - val_loss: 0.0031 - val_accuracy: 0.9939 - lr: 0.0010\n",
            "Epoch 17/20\n",
            "460/470 [============================>.] - ETA: 0s - loss: 0.0034 - accuracy: 0.9916\n",
            "Epoch 17: ReduceLROnPlateau reducing learning rate to 0.00010000000474974513.\n",
            "470/470 [==============================] - 1s 3ms/step - loss: 0.0034 - accuracy: 0.9916 - val_loss: 0.0032 - val_accuracy: 0.9928 - lr: 0.0010\n",
            "Epoch 18/20\n",
            "470/470 [==============================] - 1s 2ms/step - loss: 0.0026 - accuracy: 0.9951 - val_loss: 0.0023 - val_accuracy: 0.9957 - lr: 1.0000e-04\n",
            "Epoch 19/20\n",
            "470/470 [==============================] - 1s 3ms/step - loss: 0.0024 - accuracy: 0.9955 - val_loss: 0.0023 - val_accuracy: 0.9955 - lr: 1.0000e-04\n",
            "Epoch 20/20\n",
            "456/470 [============================>.] - ETA: 0s - loss: 0.0024 - accuracy: 0.9952\n",
            "Epoch 20: ReduceLROnPlateau reducing learning rate to 1.0000000474974514e-05.\n",
            "470/470 [==============================] - 1s 2ms/step - loss: 0.0023 - accuracy: 0.9953 - val_loss: 0.0022 - val_accuracy: 0.9957 - lr: 1.0000e-04\n"
          ]
        },
        {
          "output_type": "execute_result",
          "data": {
            "text/plain": [
              "<keras.callbacks.History at 0x7fd7d33e18b0>"
            ]
          },
          "metadata": {},
          "execution_count": 113
        }
      ]
    },
    {
      "cell_type": "markdown",
      "source": [
        "6. Add a second hidden layer with a reasonable number of neurons and check whether a performance gain\n",
        "is obtained. If that is the case, keep the second layer."
      ],
      "metadata": {
        "id": "Eze2O2Memo9S"
      }
    },
    {
      "cell_type": "markdown",
      "source": [
        "There is no improvement in the performance when having 2nd hidden layer, because of that 2nd layer is not added."
      ],
      "metadata": {
        "id": "5MreSYz3nObG"
      }
    },
    {
      "cell_type": "code",
      "source": [
        "# Define the FFNN architecture\n",
        "model = Sequential()\n",
        "model.add(Dense(64, activation='relu', input_shape=(len(X_train[0]),)))\n",
        "model.add(Dense(64, activation='relu'))\n",
        "model.add(Dense(num_classes, activation='softmax'))\n",
        "\n",
        "# Define the callback\n",
        "reduce_lr = ReduceLROnPlateau(monitor='val_accuracy', factor=0.1, patience=1, verbose=1)\n",
        "\n",
        "# Define the optimizer\n",
        "optimizer = Adam(learning_rate=0.001)\n",
        "\n",
        "# Compile the model\n",
        "model.compile(optimizer=optimizer, loss='categorical_crossentropy', metrics=['accuracy'])\n",
        "\n",
        "# Train the model\n",
        "model.fit(X_train, y_train, epochs=20, batch_size=16, validation_data=(X_test, y_test), callbacks=[reduce_lr])"
      ],
      "metadata": {
        "id": "MU1_SRvjmlsD",
        "outputId": "2f609f62-cecf-4fa0-81e9-33946ca6caf6",
        "colab": {
          "base_uri": "https://localhost:8080/"
        }
      },
      "execution_count": null,
      "outputs": [
        {
          "output_type": "stream",
          "name": "stdout",
          "text": [
            "Epoch 1/20\n",
            "470/470 [==============================] - 1s 2ms/step - loss: 0.4749 - accuracy: 0.8466 - val_loss: 0.2076 - val_accuracy: 0.9348 - lr: 0.0010\n",
            "Epoch 2/20\n",
            "470/470 [==============================] - 1s 2ms/step - loss: 0.1705 - accuracy: 0.9423 - val_loss: 0.1419 - val_accuracy: 0.9470 - lr: 0.0010\n",
            "Epoch 3/20\n",
            "470/470 [==============================] - 1s 2ms/step - loss: 0.1148 - accuracy: 0.9589 - val_loss: 0.1219 - val_accuracy: 0.9521 - lr: 0.0010\n",
            "Epoch 4/20\n",
            "470/470 [==============================] - 1s 3ms/step - loss: 0.0882 - accuracy: 0.9691 - val_loss: 0.0756 - val_accuracy: 0.9731 - lr: 0.0010\n",
            "Epoch 5/20\n",
            "470/470 [==============================] - ETA: 0s - loss: 0.0711 - accuracy: 0.9766\n",
            "Epoch 5: ReduceLROnPlateau reducing learning rate to 0.00010000000474974513.\n",
            "470/470 [==============================] - 1s 2ms/step - loss: 0.0711 - accuracy: 0.9766 - val_loss: 0.1508 - val_accuracy: 0.9529 - lr: 0.0010\n",
            "Epoch 6/20\n",
            "470/470 [==============================] - 1s 3ms/step - loss: 0.0522 - accuracy: 0.9852 - val_loss: 0.0447 - val_accuracy: 0.9870 - lr: 1.0000e-04\n",
            "Epoch 7/20\n",
            "470/470 [==============================] - 1s 2ms/step - loss: 0.0438 - accuracy: 0.9874 - val_loss: 0.0418 - val_accuracy: 0.9885 - lr: 1.0000e-04\n",
            "Epoch 8/20\n",
            "470/470 [==============================] - 1s 2ms/step - loss: 0.0416 - accuracy: 0.9874 - val_loss: 0.0415 - val_accuracy: 0.9888 - lr: 1.0000e-04\n",
            "Epoch 9/20\n",
            "463/470 [============================>.] - ETA: 0s - loss: 0.0405 - accuracy: 0.9880\n",
            "Epoch 9: ReduceLROnPlateau reducing learning rate to 1.0000000474974514e-05.\n",
            "470/470 [==============================] - 1s 2ms/step - loss: 0.0405 - accuracy: 0.9880 - val_loss: 0.0379 - val_accuracy: 0.9888 - lr: 1.0000e-04\n",
            "Epoch 10/20\n",
            "470/470 [==============================] - 1s 2ms/step - loss: 0.0378 - accuracy: 0.9892 - val_loss: 0.0375 - val_accuracy: 0.9896 - lr: 1.0000e-05\n",
            "Epoch 11/20\n",
            "439/470 [===========================>..] - ETA: 0s - loss: 0.0382 - accuracy: 0.9890\n",
            "Epoch 11: ReduceLROnPlateau reducing learning rate to 1.0000000656873453e-06.\n",
            "470/470 [==============================] - 1s 2ms/step - loss: 0.0376 - accuracy: 0.9893 - val_loss: 0.0373 - val_accuracy: 0.9891 - lr: 1.0000e-05\n",
            "Epoch 12/20\n",
            "468/470 [============================>.] - ETA: 0s - loss: 0.0373 - accuracy: 0.9890\n",
            "Epoch 12: ReduceLROnPlateau reducing learning rate to 1.0000001111620805e-07.\n",
            "470/470 [==============================] - 1s 2ms/step - loss: 0.0373 - accuracy: 0.9891 - val_loss: 0.0372 - val_accuracy: 0.9891 - lr: 1.0000e-06\n",
            "Epoch 13/20\n",
            "470/470 [==============================] - ETA: 0s - loss: 0.0372 - accuracy: 0.9891\n",
            "Epoch 13: ReduceLROnPlateau reducing learning rate to 1.000000082740371e-08.\n",
            "470/470 [==============================] - 1s 2ms/step - loss: 0.0372 - accuracy: 0.9891 - val_loss: 0.0372 - val_accuracy: 0.9891 - lr: 1.0000e-07\n",
            "Epoch 14/20\n",
            "464/470 [============================>.] - ETA: 0s - loss: 0.0374 - accuracy: 0.9891\n",
            "Epoch 14: ReduceLROnPlateau reducing learning rate to 1.000000082740371e-09.\n",
            "470/470 [==============================] - 1s 2ms/step - loss: 0.0372 - accuracy: 0.9891 - val_loss: 0.0372 - val_accuracy: 0.9891 - lr: 1.0000e-08\n",
            "Epoch 15/20\n",
            "459/470 [============================>.] - ETA: 0s - loss: 0.0374 - accuracy: 0.9890\n",
            "Epoch 15: ReduceLROnPlateau reducing learning rate to 1.000000082740371e-10.\n",
            "470/470 [==============================] - 1s 2ms/step - loss: 0.0372 - accuracy: 0.9891 - val_loss: 0.0372 - val_accuracy: 0.9891 - lr: 1.0000e-09\n",
            "Epoch 16/20\n",
            "456/470 [============================>.] - ETA: 0s - loss: 0.0374 - accuracy: 0.9889\n",
            "Epoch 16: ReduceLROnPlateau reducing learning rate to 1.000000082740371e-11.\n",
            "470/470 [==============================] - 1s 2ms/step - loss: 0.0372 - accuracy: 0.9891 - val_loss: 0.0372 - val_accuracy: 0.9891 - lr: 1.0000e-10\n",
            "Epoch 17/20\n",
            "440/470 [===========================>..] - ETA: 0s - loss: 0.0364 - accuracy: 0.9893\n",
            "Epoch 17: ReduceLROnPlateau reducing learning rate to 1.000000082740371e-12.\n",
            "470/470 [==============================] - 1s 2ms/step - loss: 0.0372 - accuracy: 0.9891 - val_loss: 0.0372 - val_accuracy: 0.9891 - lr: 1.0000e-11\n",
            "Epoch 18/20\n",
            "457/470 [============================>.] - ETA: 0s - loss: 0.0372 - accuracy: 0.9892\n",
            "Epoch 18: ReduceLROnPlateau reducing learning rate to 1.0000001044244145e-13.\n",
            "470/470 [==============================] - 1s 2ms/step - loss: 0.0372 - accuracy: 0.9891 - val_loss: 0.0372 - val_accuracy: 0.9891 - lr: 1.0000e-12\n",
            "Epoch 19/20\n",
            "435/470 [==========================>...] - ETA: 0s - loss: 0.0377 - accuracy: 0.9886\n",
            "Epoch 19: ReduceLROnPlateau reducing learning rate to 1.0000001179769417e-14.\n",
            "470/470 [==============================] - 1s 2ms/step - loss: 0.0372 - accuracy: 0.9891 - val_loss: 0.0372 - val_accuracy: 0.9891 - lr: 1.0000e-13\n",
            "Epoch 20/20\n",
            "468/470 [============================>.] - ETA: 0s - loss: 0.0372 - accuracy: 0.9890\n",
            "Epoch 20: ReduceLROnPlateau reducing learning rate to 1.0000001518582595e-15.\n",
            "470/470 [==============================] - 1s 2ms/step - loss: 0.0372 - accuracy: 0.9891 - val_loss: 0.0372 - val_accuracy: 0.9891 - lr: 1.0000e-14\n"
          ]
        },
        {
          "output_type": "execute_result",
          "data": {
            "text/plain": [
              "<keras.callbacks.History at 0x7fd7cbfa5430>"
            ]
          },
          "metadata": {},
          "execution_count": 117
        }
      ]
    },
    {
      "cell_type": "markdown",
      "source": [
        "7. Increase the batch size. You should observe that the training time gets shorter and keep it if your\n",
        "performance does not decrease"
      ],
      "metadata": {
        "id": "UVKSR3LNnhgi"
      }
    },
    {
      "cell_type": "markdown",
      "source": [
        "Batch size increased from 16 to 32. Altough increasing the batch size causes around 1-2% decrease in the performance. Training time gets much shorter. However, since validation accuracy is decreasing even for batch size value of 24, the batch size kept as 16."
      ],
      "metadata": {
        "id": "zE2baKsunqWt"
      }
    },
    {
      "cell_type": "code",
      "source": [
        "# Define the FFNN architecture\n",
        "model = Sequential()\n",
        "model.add(Dense(64, activation='relu', input_shape=(len(X_train[0]),)))\n",
        "model.add(Dense(num_classes, activation='softmax'))\n",
        "\n",
        "# Define the callback\n",
        "reduce_lr = ReduceLROnPlateau(monitor='val_accuracy', factor=0.1, patience=1, verbose=1)\n",
        "\n",
        "# Define the optimizer\n",
        "optimizer = Adam(learning_rate=0.001)\n",
        "\n",
        "# Compile the model\n",
        "model.compile(optimizer=optimizer, loss='categorical_crossentropy', metrics=['accuracy'])\n",
        "\n",
        "# Train the model\n",
        "model.fit(X_train, y_train, epochs=20, batch_size=32, validation_data=(X_test, y_test), callbacks=[reduce_lr])"
      ],
      "metadata": {
        "id": "2xeg6jUeneGn",
        "outputId": "a63b2323-76a8-491f-8fa5-24399d3f922e",
        "colab": {
          "base_uri": "https://localhost:8080/"
        }
      },
      "execution_count": null,
      "outputs": [
        {
          "output_type": "stream",
          "name": "stdout",
          "text": [
            "Epoch 1/20\n",
            "235/235 [==============================] - 2s 7ms/step - loss: 0.7250 - accuracy: 0.7864 - val_loss: 0.3909 - val_accuracy: 0.8860 - lr: 0.0010\n",
            "Epoch 2/20\n",
            "235/235 [==============================] - 1s 2ms/step - loss: 0.3195 - accuracy: 0.9091 - val_loss: 0.2530 - val_accuracy: 0.9318 - lr: 0.0010\n",
            "Epoch 3/20\n",
            "235/235 [==============================] - 0s 2ms/step - loss: 0.2239 - accuracy: 0.9385 - val_loss: 0.1888 - val_accuracy: 0.9443 - lr: 0.0010\n",
            "Epoch 4/20\n",
            "235/235 [==============================] - 0s 2ms/step - loss: 0.1739 - accuracy: 0.9493 - val_loss: 0.1526 - val_accuracy: 0.9577 - lr: 0.0010\n",
            "Epoch 5/20\n",
            "235/235 [==============================] - 1s 2ms/step - loss: 0.1424 - accuracy: 0.9562 - val_loss: 0.1278 - val_accuracy: 0.9595 - lr: 0.0010\n",
            "Epoch 6/20\n",
            "235/235 [==============================] - 0s 2ms/step - loss: 0.1205 - accuracy: 0.9651 - val_loss: 0.1194 - val_accuracy: 0.9606 - lr: 0.0010\n",
            "Epoch 7/20\n",
            "235/235 [==============================] - 0s 2ms/step - loss: 0.1055 - accuracy: 0.9682 - val_loss: 0.0922 - val_accuracy: 0.9720 - lr: 0.0010\n",
            "Epoch 8/20\n",
            "198/235 [========================>.....] - ETA: 0s - loss: 0.0938 - accuracy: 0.9735\n",
            "Epoch 8: ReduceLROnPlateau reducing learning rate to 0.00010000000474974513.\n",
            "235/235 [==============================] - 0s 2ms/step - loss: 0.0932 - accuracy: 0.9736 - val_loss: 0.0878 - val_accuracy: 0.9712 - lr: 0.0010\n",
            "Epoch 9/20\n",
            "235/235 [==============================] - 0s 2ms/step - loss: 0.0819 - accuracy: 0.9755 - val_loss: 0.0798 - val_accuracy: 0.9784 - lr: 1.0000e-04\n",
            "Epoch 10/20\n",
            "235/235 [==============================] - 0s 2ms/step - loss: 0.0798 - accuracy: 0.9774 - val_loss: 0.0783 - val_accuracy: 0.9792 - lr: 1.0000e-04\n",
            "Epoch 11/20\n",
            "235/235 [==============================] - 0s 2ms/step - loss: 0.0786 - accuracy: 0.9787 - val_loss: 0.0776 - val_accuracy: 0.9806 - lr: 1.0000e-04\n",
            "Epoch 12/20\n",
            "200/235 [========================>.....] - ETA: 0s - loss: 0.0777 - accuracy: 0.9800\n",
            "Epoch 12: ReduceLROnPlateau reducing learning rate to 1.0000000474974514e-05.\n",
            "235/235 [==============================] - 0s 2ms/step - loss: 0.0776 - accuracy: 0.9791 - val_loss: 0.0765 - val_accuracy: 0.9795 - lr: 1.0000e-04\n",
            "Epoch 13/20\n",
            "213/235 [==========================>...] - ETA: 0s - loss: 0.0768 - accuracy: 0.9796\n",
            "Epoch 13: ReduceLROnPlateau reducing learning rate to 1.0000000656873453e-06.\n",
            "235/235 [==============================] - 0s 2ms/step - loss: 0.0764 - accuracy: 0.9795 - val_loss: 0.0762 - val_accuracy: 0.9795 - lr: 1.0000e-05\n",
            "Epoch 14/20\n",
            "224/235 [===========================>..] - ETA: 0s - loss: 0.0762 - accuracy: 0.9796\n",
            "Epoch 14: ReduceLROnPlateau reducing learning rate to 1.0000001111620805e-07.\n",
            "235/235 [==============================] - 1s 2ms/step - loss: 0.0762 - accuracy: 0.9798 - val_loss: 0.0762 - val_accuracy: 0.9798 - lr: 1.0000e-06\n",
            "Epoch 15/20\n",
            "235/235 [==============================] - ETA: 0s - loss: 0.0762 - accuracy: 0.9798\n",
            "Epoch 15: ReduceLROnPlateau reducing learning rate to 1.000000082740371e-08.\n",
            "235/235 [==============================] - 1s 2ms/step - loss: 0.0762 - accuracy: 0.9798 - val_loss: 0.0762 - val_accuracy: 0.9803 - lr: 1.0000e-07\n",
            "Epoch 16/20\n",
            "227/235 [===========================>..] - ETA: 0s - loss: 0.0762 - accuracy: 0.9800\n",
            "Epoch 16: ReduceLROnPlateau reducing learning rate to 1.000000082740371e-09.\n",
            "235/235 [==============================] - 1s 2ms/step - loss: 0.0762 - accuracy: 0.9803 - val_loss: 0.0762 - val_accuracy: 0.9803 - lr: 1.0000e-08\n",
            "Epoch 17/20\n",
            "235/235 [==============================] - ETA: 0s - loss: 0.0762 - accuracy: 0.9803\n",
            "Epoch 17: ReduceLROnPlateau reducing learning rate to 1.000000082740371e-10.\n",
            "235/235 [==============================] - 1s 2ms/step - loss: 0.0762 - accuracy: 0.9803 - val_loss: 0.0762 - val_accuracy: 0.9803 - lr: 1.0000e-09\n",
            "Epoch 18/20\n",
            "219/235 [==========================>...] - ETA: 0s - loss: 0.0762 - accuracy: 0.9800\n",
            "Epoch 18: ReduceLROnPlateau reducing learning rate to 1.000000082740371e-11.\n",
            "235/235 [==============================] - 1s 2ms/step - loss: 0.0762 - accuracy: 0.9803 - val_loss: 0.0762 - val_accuracy: 0.9803 - lr: 1.0000e-10\n",
            "Epoch 19/20\n",
            "228/235 [============================>.] - ETA: 0s - loss: 0.0755 - accuracy: 0.9805\n",
            "Epoch 19: ReduceLROnPlateau reducing learning rate to 1.000000082740371e-12.\n",
            "235/235 [==============================] - 1s 3ms/step - loss: 0.0762 - accuracy: 0.9803 - val_loss: 0.0762 - val_accuracy: 0.9803 - lr: 1.0000e-11\n",
            "Epoch 20/20\n",
            "211/235 [=========================>....] - ETA: 0s - loss: 0.0753 - accuracy: 0.9803\n",
            "Epoch 20: ReduceLROnPlateau reducing learning rate to 1.0000001044244145e-13.\n",
            "235/235 [==============================] - 1s 2ms/step - loss: 0.0762 - accuracy: 0.9803 - val_loss: 0.0762 - val_accuracy: 0.9803 - lr: 1.0000e-12\n"
          ]
        },
        {
          "output_type": "execute_result",
          "data": {
            "text/plain": [
              "<keras.callbacks.History at 0x7fd7cbe2a100>"
            ]
          },
          "metadata": {},
          "execution_count": 118
        }
      ]
    },
    {
      "cell_type": "markdown",
      "source": [
        "## **b) Evaluate**"
      ],
      "metadata": {
        "id": "0vJr_DWxpD29"
      }
    },
    {
      "cell_type": "markdown",
      "source": [
        "Defining functions"
      ],
      "metadata": {
        "id": "N5-BR-99dA7V"
      }
    },
    {
      "cell_type": "code",
      "source": [
        "def plot_training_history(history):\n",
        "    # Create a figure with two subplots\n",
        "    fig, (ax1, ax2) = plt.subplots(1, 2, figsize=(12, 4))\n",
        "\n",
        "    # Plot the training and validation loss in the first subplot\n",
        "    ax1.plot(history.history['loss'])\n",
        "    ax1.plot(history.history['val_loss'])\n",
        "    ax1.set_title('Model loss')\n",
        "    ax1.set_ylabel('Loss')\n",
        "    ax1.set_xlabel('Epoch')\n",
        "    ax1.legend(['Train', 'Validation'], loc='upper right')\n",
        "\n",
        "    # Plot the training and validation accuracy in the second subplot\n",
        "    ax2.plot(history.history['accuracy'])\n",
        "    ax2.plot(history.history['val_accuracy'])\n",
        "    ax2.set_title('Model accuracy')\n",
        "    ax2.set_ylabel('Accuracy')\n",
        "    ax2.set_xlabel('Epoch')\n",
        "    ax2.legend(['Train', 'Validation'], loc='lower right')\n",
        "    plt.show()\n"
      ],
      "metadata": {
        "id": "N2DI2q_Bww1m"
      },
      "execution_count": 71,
      "outputs": []
    },
    {
      "cell_type": "code",
      "source": [
        "def create_and_train_FFNN(X_train, y_train, X_test, y_test, num_classes):\n",
        "    # Define the FFNN architecture\n",
        "    model = Sequential()\n",
        "    model.add(Dense(64, activation='relu', input_shape=(len(X_train[0]),)))\n",
        "    model.add(Dense(num_classes, activation='softmax'))\n",
        "\n",
        "    # Define the callback\n",
        "    reduce_lr = ReduceLROnPlateau(monitor='val_accuracy', factor=0.1, patience=1, verbose=0)\n",
        "\n",
        "    # Define the optimizer\n",
        "    optimizer = Adam(learning_rate=0.001)\n",
        "\n",
        "    # Compile the model\n",
        "    model.compile(optimizer=optimizer, loss='categorical_crossentropy', metrics=['accuracy'])\n",
        "\n",
        "    # Train the model and store the training history\n",
        "    history = model.fit(X_train, y_train, epochs=20, batch_size=16, validation_data=(X_test, y_test), callbacks=[reduce_lr], verbose=0)\n",
        "\n",
        "    return model, history"
      ],
      "metadata": {
        "id": "bLaEqnG6xZ7B"
      },
      "execution_count": null,
      "outputs": []
    },
    {
      "cell_type": "code",
      "source": [
        "def plot_confusion_matrix(y_true, y_pred, classes, cmap):\n",
        "    \"\"\"\n",
        "    Plot a confusion matrix using seaborn's heatmap function.\n",
        "    \n",
        "    Parameters\n",
        "    ----------\n",
        "    y_true : numpy array\n",
        "        1D array of true class labels.\n",
        "    y_pred : numpy array\n",
        "        1D array of predicted class labels.\n",
        "    classes : list\n",
        "        List of class labels in the order they appear in the confusion matrix.\n",
        "    cmap : str\n",
        "        Colormap to use for the plot. \n",
        "        \n",
        "    \"\"\"\n",
        "    # Generate a confusion matrix\n",
        "    confusion_mat = confusion_matrix(y_true, y_pred)\n",
        "\n",
        "    # Create a figure and axis\n",
        "    fig, ax = plt.subplots(figsize=(10, 8))\n",
        "\n",
        "    # Use seaborn's heatmap function to create a more professional-looking plot\n",
        "    sns.heatmap(confusion_mat, annot=True, fmt='d', cmap=cmap, \n",
        "                xticklabels=classes, yticklabels=classes, ax=ax)\n",
        "\n",
        "    # Add labels for the x and y axes\n",
        "    ax.set_xlabel('Predicted', fontsize=14)\n",
        "    ax.set_ylabel('True', fontsize=14)\n",
        "\n",
        "    # Add a title\n",
        "    ax.set_title('Confusion Matrix', fontsize=18)\n",
        "\n",
        "    # Show the plot\n",
        "    plt.show()\n"
      ],
      "metadata": {
        "id": "aub1X_auc-FR"
      },
      "execution_count": 73,
      "outputs": []
    },
    {
      "cell_type": "code",
      "source": [
        "def evaluate_model(y_true, y_pred):\n",
        "    \"\"\"\n",
        "    Calculate and print evaluation metrics for a machine learning model.\n",
        "    \n",
        "    Parameters\n",
        "    ----------\n",
        "    y_true : numpy array\n",
        "        1D array of true class labels.\n",
        "    y_pred : numpy array\n",
        "        1D array of predicted class labels.\n",
        "    \"\"\"\n",
        "    y_true = np.round(y_true)\n",
        "    y_pred = np.round(y_pred)\n",
        "\n",
        "    # Calculate evaluation metrics\n",
        "    accuracy = accuracy_score(y_true, y_pred)\n",
        "    precision = precision_score(y_true, y_pred, average='weighted')\n",
        "    recall = recall_score(y_true, y_pred, average='weighted')\n",
        "    f1 = f1_score(y_true, y_pred, average='weighted')\n",
        "\n",
        "    # Print evaluation metrics\n",
        "    print(\"Accuracy: {:.4f}\".format(accuracy))\n",
        "    print(\"Precision: {:.4f}\".format(precision))\n",
        "    print(\"Recall: {:.4f}\".format(recall))\n",
        "    print(\"F1-score: {:.4f}\".format(f1))\n"
      ],
      "metadata": {
        "id": "1itOaY6Be1lr"
      },
      "execution_count": null,
      "outputs": []
    },
    {
      "cell_type": "markdown",
      "source": [
        "Showing that the training has achieved convergence in each case"
      ],
      "metadata": {
        "id": "k6UYEc8_zT0_"
      }
    },
    {
      "cell_type": "markdown",
      "source": [
        "### **Split 1**"
      ],
      "metadata": {
        "id": "4eA32kiqwFZj"
      }
    },
    {
      "cell_type": "markdown",
      "source": [
        "Convergence achieved for split 1"
      ],
      "metadata": {
        "id": "8iwl8z_UzZe9"
      }
    },
    {
      "cell_type": "code",
      "source": [
        "# Load and preprocess the data\n",
        "X_train = X_train_1_sp1\n",
        "y_train = y_train_1_sp1\n",
        "X_test = X_test_1_sp1\n",
        "y_test = y_test_1_sp1\n",
        "\n",
        "num_classes = len(set(y_train))\n",
        "y_train = to_categorical(y_train, num_classes)\n",
        "y_test = to_categorical(y_test, num_classes)\n",
        "\n",
        "model, history = create_and_train_FFNN(X_train, y_train, X_test, y_test, num_classes)\n",
        "plot_training_history(history)"
      ],
      "metadata": {
        "id": "Ae5JCbrfwJGC",
        "outputId": "37604242-1c9b-4cbc-8edb-fedbe05702f9",
        "colab": {
          "base_uri": "https://localhost:8080/",
          "height": 295
        }
      },
      "execution_count": null,
      "outputs": [
        {
          "output_type": "display_data",
          "data": {
            "text/plain": [
              "<Figure size 864x288 with 2 Axes>"
            ],
            "image/png": "[encoded data removed]"
          },
          "metadata": {
            "needs_background": "light"
          }
        }
      ]
    },
    {
      "cell_type": "markdown",
      "source": [
        "Evaluating the network for split 1, reporting the confusion matrix\n",
        "and providing the average value for the scoring metrics"
      ],
      "metadata": {
        "id": "ea8-OxNp1uNc"
      }
    },
    {
      "cell_type": "code",
      "source": [
        "predictions = model.predict(X_test)\n",
        "plot_confusion_matrix(y_test.argmax(axis=1), predictions.argmax(axis=1), [0,1,2,3,4], 'Blues')"
      ],
      "metadata": {
        "id": "EvAgu4ynejx-",
        "outputId": "3e0e465a-cca0-428a-a27f-946db397d075",
        "colab": {
          "base_uri": "https://localhost:8080/",
          "height": 538
        }
      },
      "execution_count": null,
      "outputs": [
        {
          "output_type": "stream",
          "name": "stdout",
          "text": [
            "40/40 [==============================] - 0s 2ms/step\n"
          ]
        },
        {
          "output_type": "display_data",
          "data": {
            "text/plain": [
              "<Figure size 720x576 with 2 Axes>"
            ],
            "image/png": "[encoded data removed]"
          },
          "metadata": {
            "needs_background": "light"
          }
        }
      ]
    },
    {
      "cell_type": "code",
      "source": [
        "evaluate_model(y_test, predictions)"
      ],
      "metadata": {
        "id": "now2r-5oer_x",
        "outputId": "1949dde6-c669-419e-c8e1-5e6758951b2b",
        "colab": {
          "base_uri": "https://localhost:8080/"
        }
      },
      "execution_count": null,
      "outputs": [
        {
          "output_type": "stream",
          "name": "stdout",
          "text": [
            "Accuracy: 0.9321\n",
            "Precision: 0.9477\n",
            "Recall: 0.9321\n",
            "F1-score: 0.9394\n"
          ]
        }
      ]
    },
    {
      "cell_type": "markdown",
      "source": [
        "### **Split 2**"
      ],
      "metadata": {
        "id": "PebuhRgtwdV2"
      }
    },
    {
      "cell_type": "markdown",
      "source": [
        "Convergence achieved for split 2"
      ],
      "metadata": {
        "id": "kz2JwIduzd-D"
      }
    },
    {
      "cell_type": "code",
      "source": [
        "# Load and preprocess the data\n",
        "X_train = X_train_1_sp2\n",
        "y_train = y_train_1_sp2\n",
        "X_test = X_test_1_sp2\n",
        "y_test = y_test_1_sp2\n",
        "\n",
        "num_classes = len(set(y_train))\n",
        "y_train = to_categorical(y_train, num_classes)\n",
        "y_test = to_categorical(y_test, num_classes)\n",
        "\n",
        "model, history = create_and_train_FFNN(X_train, y_train, X_test, y_test, num_classes)\n",
        "plot_training_history(history)"
      ],
      "metadata": {
        "id": "u7L4o9Gjwepx",
        "outputId": "f1a30edc-b919-417f-b53d-cf09ceb34b0b",
        "colab": {
          "base_uri": "https://localhost:8080/",
          "height": 295
        }
      },
      "execution_count": null,
      "outputs": [
        {
          "output_type": "display_data",
          "data": {
            "text/plain": [
              "<Figure size 864x288 with 2 Axes>"
            ],
            "image/png": "[encoded data removed]"
          },
          "metadata": {
            "needs_background": "light"
          }
        }
      ]
    },
    {
      "cell_type": "markdown",
      "source": [
        "Evaluating the network for split 2, reporting the confusion matrix\n",
        "and providing the average value for the scoring metrics"
      ],
      "metadata": {
        "id": "0SxRPPDm1s5T"
      }
    },
    {
      "cell_type": "code",
      "source": [
        "predictions = model.predict(X_test)\n",
        "plot_confusion_matrix(y_test.argmax(axis=1), predictions.argmax(axis=1), [0,1,2,3,4], 'Reds')"
      ],
      "metadata": {
        "id": "C5YXYa9q1xEl",
        "outputId": "0fbcf93f-6a93-480d-c1ee-4737fa4e17ea",
        "colab": {
          "base_uri": "https://localhost:8080/",
          "height": 538
        }
      },
      "execution_count": null,
      "outputs": [
        {
          "output_type": "stream",
          "name": "stdout",
          "text": [
            "40/40 [==============================] - 0s 1ms/step\n"
          ]
        },
        {
          "output_type": "display_data",
          "data": {
            "text/plain": [
              "<Figure size 720x576 with 2 Axes>"
            ],
            "image/png": "[encoded data removed]"
          },
          "metadata": {
            "needs_background": "light"
          }
        }
      ]
    },
    {
      "cell_type": "code",
      "source": [
        "evaluate_model(y_test, predictions)"
      ],
      "metadata": {
        "id": "coUBixqAf6uT",
        "outputId": "082a290e-7cb4-4529-dc02-16c7d2e8a8f6",
        "colab": {
          "base_uri": "https://localhost:8080/"
        }
      },
      "execution_count": null,
      "outputs": [
        {
          "output_type": "stream",
          "name": "stdout",
          "text": [
            "Accuracy: 0.9361\n",
            "Precision: 0.9471\n",
            "Recall: 0.9361\n",
            "F1-score: 0.9414\n"
          ]
        }
      ]
    },
    {
      "cell_type": "markdown",
      "source": [
        "### **Split 3**"
      ],
      "metadata": {
        "id": "BTYjLcjfwfEm"
      }
    },
    {
      "cell_type": "markdown",
      "source": [
        "Convergence achieved for split 3"
      ],
      "metadata": {
        "id": "cRbCt3wDzfr2"
      }
    },
    {
      "cell_type": "code",
      "source": [
        "# Load and preprocess the data\n",
        "X_train = X_train_1_sp3\n",
        "y_train = y_train_1_sp3\n",
        "X_test = X_test_1_sp3\n",
        "y_test = y_test_1_sp3\n",
        "\n",
        "num_classes = len(set(y_train))\n",
        "y_train = to_categorical(y_train, num_classes)\n",
        "y_test = to_categorical(y_test, num_classes)\n",
        "\n",
        "model, history = create_and_train_FFNN(X_train, y_train, X_test, y_test, num_classes)\n",
        "plot_training_history(history)"
      ],
      "metadata": {
        "id": "xVDSDWjvwhBJ",
        "outputId": "f0cb705f-3531-416e-a961-8b4c19c27835",
        "colab": {
          "base_uri": "https://localhost:8080/",
          "height": 295
        }
      },
      "execution_count": null,
      "outputs": [
        {
          "output_type": "display_data",
          "data": {
            "text/plain": [
              "<Figure size 864x288 with 2 Axes>"
            ],
            "image/png": "[encoded data removed]"
          },
          "metadata": {
            "needs_background": "light"
          }
        }
      ]
    },
    {
      "cell_type": "markdown",
      "source": [
        "Evaluating the network for split 3, reporting the confusion matrix\n",
        "and providing the average value for the scoring metrics"
      ],
      "metadata": {
        "id": "onyoUzBE1rJU"
      }
    },
    {
      "cell_type": "code",
      "source": [
        "predictions = model.predict(X_test)\n",
        "plot_confusion_matrix(y_test.argmax(axis=1), predictions.argmax(axis=1), [0,1,2,3,4], 'Greens')"
      ],
      "metadata": {
        "id": "DU-ruOq5z1gB",
        "outputId": "f0fbf79c-b986-47c7-c1a7-154a84bedb57",
        "colab": {
          "base_uri": "https://localhost:8080/",
          "height": 538
        }
      },
      "execution_count": null,
      "outputs": [
        {
          "output_type": "stream",
          "name": "stdout",
          "text": [
            "40/40 [==============================] - 0s 2ms/step\n"
          ]
        },
        {
          "output_type": "display_data",
          "data": {
            "text/plain": [
              "<Figure size 720x576 with 2 Axes>"
            ],
            "image/png": "[encoded data removed]"
          },
          "metadata": {
            "needs_background": "light"
          }
        }
      ]
    },
    {
      "cell_type": "code",
      "source": [
        "evaluate_model(y_test, predictions)"
      ],
      "metadata": {
        "id": "_rMaMjrqbgDr",
        "outputId": "9dd64b16-60af-4696-910c-4126ab5623b1",
        "colab": {
          "base_uri": "https://localhost:8080/"
        }
      },
      "execution_count": null,
      "outputs": [
        {
          "output_type": "stream",
          "name": "stdout",
          "text": [
            "Accuracy: 0.9321\n",
            "Precision: 0.9519\n",
            "Recall: 0.9321\n",
            "F1-score: 0.9418\n"
          ]
        }
      ]
    },
    {
      "cell_type": "markdown",
      "source": [
        "# **T2 - Design and evaluate RBFNN**"
      ],
      "metadata": {
        "id": "Hygc-erGgIgY"
      }
    },
    {
      "cell_type": "code",
      "source": [
        "# Load and preprocess the data\n",
        "X_train = np.concatenate((X_train_2_sp1, X_train_2_sp2,X_train_2_sp3))\n",
        "y_train = np.concatenate((y_train_2_sp1, y_train_2_sp2,y_train_2_sp3))\n",
        "\n",
        "X_test = np.concatenate((X_test_2_sp1, X_test_2_sp2,X_test_2_sp3))\n",
        "y_test = np.concatenate((y_test_2_sp1, y_test_2_sp2,y_test_2_sp3))"
      ],
      "metadata": {
        "id": "z7wyQJ3jgW0C"
      },
      "execution_count": 7,
      "outputs": []
    },
    {
      "cell_type": "markdown",
      "source": [
        "## **a) Design**"
      ],
      "metadata": {
        "id": "-TWV9r1z4NMe"
      }
    },
    {
      "cell_type": "markdown",
      "source": [
        "First draft of RBFNN with the decoupled training\n",
        "approach and radial basis"
      ],
      "metadata": {
        "id": "SDF4YUVM2pS9"
      }
    },
    {
      "cell_type": "code",
      "source": [
        "# Initialize the network\n",
        "n_inputs = X_train.shape[1]\n",
        "n_hidden = 3\n",
        "model = Sequential()\n",
        "model.add(Dense(n_hidden, input_shape=(n_inputs,), activation='linear'))\n",
        "model.add(Dense(1, activation='sigmoid'))\n",
        "\n",
        "# Define the radial basis functions\n",
        "kmeans = KMeans(n_clusters=n_hidden, random_state=27).fit(X_train)\n",
        "cluster_centers = kmeans.cluster_centers_\n",
        "\n",
        "# Train the network\n",
        "# Hidden layer weights\n",
        "model.layers[0].set_weights([cluster_centers.T, np.zeros(n_hidden)])\n",
        "\n",
        "# Output layer weights\n",
        "model.compile(optimizer='adam', loss='binary_crossentropy', metrics=['accuracy'])\n",
        "model.fit(X_train, y_train, epochs=10, batch_size=16)\n",
        "\n",
        "# Test the network\n",
        "y_pred = model.predict(X_test)\n",
        "y_pred = np.round(y_pred)\n",
        "acc = accuracy_score(y_test, y_pred)\n",
        "print(\"Test Accuracy: {:.4f}\".format(acc))"
      ],
      "metadata": {
        "id": "Mi4RUqHNhayN",
        "outputId": "cc67abbd-3446-41da-f288-52cce34cbca5",
        "colab": {
          "base_uri": "https://localhost:8080/"
        }
      },
      "execution_count": 13,
      "outputs": [
        {
          "output_type": "stream",
          "name": "stdout",
          "text": [
            "Epoch 1/10\n",
            "500/500 [==============================] - 2s 3ms/step - loss: 0.4199 - accuracy: 0.8369\n",
            "Epoch 2/10\n",
            "500/500 [==============================] - 2s 4ms/step - loss: 0.2841 - accuracy: 0.9053\n",
            "Epoch 3/10\n",
            "500/500 [==============================] - 2s 4ms/step - loss: 0.2493 - accuracy: 0.9193\n",
            "Epoch 4/10\n",
            "500/500 [==============================] - 2s 4ms/step - loss: 0.2326 - accuracy: 0.9237\n",
            "Epoch 5/10\n",
            "500/500 [==============================] - 2s 4ms/step - loss: 0.2229 - accuracy: 0.9240\n",
            "Epoch 6/10\n",
            "500/500 [==============================] - 2s 3ms/step - loss: 0.2162 - accuracy: 0.9266\n",
            "Epoch 7/10\n",
            "500/500 [==============================] - 2s 3ms/step - loss: 0.2125 - accuracy: 0.9289\n",
            "Epoch 8/10\n",
            "500/500 [==============================] - 2s 4ms/step - loss: 0.2086 - accuracy: 0.9296\n",
            "Epoch 9/10\n",
            "500/500 [==============================] - 2s 3ms/step - loss: 0.2060 - accuracy: 0.9295\n",
            "Epoch 10/10\n",
            "500/500 [==============================] - 2s 3ms/step - loss: 0.2042 - accuracy: 0.9286\n",
            "125/125 [==============================] - 0s 3ms/step\n",
            "Test Accuracy: 0.9317\n"
          ]
        }
      ]
    },
    {
      "cell_type": "markdown",
      "source": [
        "Considering three different width initialization techniques."
      ],
      "metadata": {
        "id": "WIo4QonR3CaT"
      }
    },
    {
      "cell_type": "markdown",
      "source": [
        "1) Initializing the weights using KMeans cluster centers"
      ],
      "metadata": {
        "id": "eQ-byNd-3Zrn"
      }
    },
    {
      "cell_type": "code",
      "source": [
        "# Initialize the network\n",
        "n_inputs = X_train.shape[1]\n",
        "n_hidden = 3\n",
        "model = Sequential()\n",
        "\n",
        "# Option 1: Initialize weights using KMeans cluster centers\n",
        "kmeans = KMeans(n_clusters=n_hidden, random_state=27).fit(X_train)\n",
        "cluster_centers = kmeans.cluster_centers_\n",
        "model.add(Dense(n_hidden, input_shape=(n_inputs,), activation='linear', \n",
        "                kernel_initializer=lambda shape, dtype: cluster_centers.T, \n",
        "                bias_initializer='zeros'))\n",
        "\n",
        "model.add(Dense(1, activation='sigmoid'))\n",
        "\n",
        "# Train the network\n",
        "model.compile(optimizer='adam', loss='binary_crossentropy', metrics=['accuracy'])\n",
        "model.fit(X_train, y_train, epochs=10, batch_size=16)\n",
        "\n",
        "# Test the network\n",
        "y_pred = model.predict(X_test)\n",
        "y_pred = np.round(y_pred)\n",
        "acc = accuracy_score(y_test, y_pred)\n",
        "print(\"Test Accuracy: {:.4f}\".format(acc))"
      ],
      "metadata": {
        "id": "ddTFblPE27aB",
        "outputId": "c12fa97c-04fc-4535-8f32-747ebb37059a",
        "colab": {
          "base_uri": "https://localhost:8080/"
        }
      },
      "execution_count": 14,
      "outputs": [
        {
          "output_type": "stream",
          "name": "stdout",
          "text": [
            "Epoch 1/10\n",
            "500/500 [==============================] - 2s 3ms/step - loss: 0.8629 - accuracy: 0.7701\n",
            "Epoch 2/10\n",
            "500/500 [==============================] - 1s 2ms/step - loss: 0.3132 - accuracy: 0.8982\n",
            "Epoch 3/10\n",
            "500/500 [==============================] - 1s 2ms/step - loss: 0.2670 - accuracy: 0.9156\n",
            "Epoch 4/10\n",
            "500/500 [==============================] - 1s 2ms/step - loss: 0.2435 - accuracy: 0.9230\n",
            "Epoch 5/10\n",
            "500/500 [==============================] - 1s 3ms/step - loss: 0.2291 - accuracy: 0.9261\n",
            "Epoch 6/10\n",
            "500/500 [==============================] - 1s 2ms/step - loss: 0.2209 - accuracy: 0.9269\n",
            "Epoch 7/10\n",
            "500/500 [==============================] - 1s 2ms/step - loss: 0.2143 - accuracy: 0.9301\n",
            "Epoch 8/10\n",
            "500/500 [==============================] - 1s 2ms/step - loss: 0.2107 - accuracy: 0.9289\n",
            "Epoch 9/10\n",
            "500/500 [==============================] - 1s 2ms/step - loss: 0.2074 - accuracy: 0.9285\n",
            "Epoch 10/10\n",
            "500/500 [==============================] - 1s 2ms/step - loss: 0.2042 - accuracy: 0.9285\n",
            "125/125 [==============================] - 0s 2ms/step\n",
            "Test Accuracy: 0.9267\n"
          ]
        }
      ]
    },
    {
      "cell_type": "markdown",
      "source": [
        "2) Initializing the weights randomly using Glorot uniform initialization"
      ],
      "metadata": {
        "id": "3Fw3ruCl3fkU"
      }
    },
    {
      "cell_type": "code",
      "source": [
        "# Initialize the network\n",
        "n_inputs = X_train.shape[1]\n",
        "n_hidden = 3\n",
        "model = Sequential()\n",
        "\n",
        "# Option 2: Initialize weights randomly using Glorot uniform initialization\n",
        "model.add(Dense(n_hidden, input_shape=(n_inputs,), activation='linear',\n",
        "                kernel_initializer='glorot_uniform', bias_initializer='zeros'))\n",
        "\n",
        "model.add(Dense(1, activation='sigmoid'))\n",
        "\n",
        "# Train the network\n",
        "model.compile(optimizer='adam', loss='binary_crossentropy', metrics=['accuracy'])\n",
        "model.fit(X_train, y_train, epochs=10, batch_size=16)\n",
        "\n",
        "# Test the network\n",
        "y_pred = model.predict(X_test)\n",
        "y_pred = np.round(y_pred)\n",
        "acc = accuracy_score(y_test, y_pred)\n",
        "print(\"Test Accuracy: {:.4f}\".format(acc))"
      ],
      "metadata": {
        "id": "IXb6auJN3NcD",
        "outputId": "d98f1fa7-b7f2-476f-c188-84dbab311288",
        "colab": {
          "base_uri": "https://localhost:8080/"
        }
      },
      "execution_count": 15,
      "outputs": [
        {
          "output_type": "stream",
          "name": "stdout",
          "text": [
            "Epoch 1/10\n",
            "500/500 [==============================] - 3s 4ms/step - loss: 0.4127 - accuracy: 0.8285\n",
            "Epoch 2/10\n",
            "500/500 [==============================] - 1s 3ms/step - loss: 0.2469 - accuracy: 0.9189\n",
            "Epoch 3/10\n",
            "500/500 [==============================] - 1s 3ms/step - loss: 0.2200 - accuracy: 0.9251\n",
            "Epoch 4/10\n",
            "500/500 [==============================] - 1s 2ms/step - loss: 0.2110 - accuracy: 0.9252\n",
            "Epoch 5/10\n",
            "500/500 [==============================] - 1s 2ms/step - loss: 0.2063 - accuracy: 0.9271\n",
            "Epoch 6/10\n",
            "500/500 [==============================] - 1s 2ms/step - loss: 0.2014 - accuracy: 0.9256\n",
            "Epoch 7/10\n",
            "500/500 [==============================] - 2s 3ms/step - loss: 0.2008 - accuracy: 0.9266\n",
            "Epoch 8/10\n",
            "500/500 [==============================] - 2s 4ms/step - loss: 0.1969 - accuracy: 0.9256\n",
            "Epoch 9/10\n",
            "500/500 [==============================] - 1s 2ms/step - loss: 0.1960 - accuracy: 0.9275\n",
            "Epoch 10/10\n",
            "500/500 [==============================] - 1s 2ms/step - loss: 0.1947 - accuracy: 0.9286\n",
            "125/125 [==============================] - 0s 2ms/step\n",
            "Test Accuracy: 0.9317\n"
          ]
        }
      ]
    },
    {
      "cell_type": "markdown",
      "source": [
        "3) Initializing the weights using He normal initialization"
      ],
      "metadata": {
        "id": "WM9IMCcG3kXI"
      }
    },
    {
      "cell_type": "code",
      "source": [
        "# Initialize the network\n",
        "n_inputs = X_train.shape[1]\n",
        "n_hidden = 3\n",
        "model = Sequential()\n",
        "\n",
        "# Option 3: Initialize weights using He normal initialization\n",
        "model.add(Dense(n_hidden, input_shape=(n_inputs,), activation='linear',\n",
        "                kernel_initializer='he_normal', bias_initializer='zeros'))\n",
        "\n",
        "model.add(Dense(1, activation='sigmoid'))\n",
        "\n",
        "# Train the network\n",
        "model.compile(optimizer='adam', loss='binary_crossentropy', metrics=['accuracy'])\n",
        "model.fit(X_train, y_train, epochs=10, batch_size=16)\n",
        "\n",
        "# Test the network\n",
        "y_pred = model.predict(X_test)\n",
        "y_pred = np.round(y_pred)\n",
        "acc = accuracy_score(y_test, y_pred)\n",
        "print(\"Test Accuracy: {:.4f}\".format(acc))"
      ],
      "metadata": {
        "id": "ZDdHIBSS3NrA",
        "outputId": "315b3a0b-5b71-45ac-d0eb-7f3980610bf4",
        "colab": {
          "base_uri": "https://localhost:8080/"
        }
      },
      "execution_count": 16,
      "outputs": [
        {
          "output_type": "stream",
          "name": "stdout",
          "text": [
            "Epoch 1/10\n",
            "500/500 [==============================] - 2s 2ms/step - loss: 0.3720 - accuracy: 0.8737\n",
            "Epoch 2/10\n",
            "500/500 [==============================] - 1s 3ms/step - loss: 0.2376 - accuracy: 0.9231\n",
            "Epoch 3/10\n",
            "500/500 [==============================] - 1s 3ms/step - loss: 0.2165 - accuracy: 0.9299\n",
            "Epoch 4/10\n",
            "500/500 [==============================] - 1s 2ms/step - loss: 0.2078 - accuracy: 0.9298\n",
            "Epoch 5/10\n",
            "500/500 [==============================] - 1s 2ms/step - loss: 0.2044 - accuracy: 0.9294\n",
            "Epoch 6/10\n",
            "500/500 [==============================] - 1s 2ms/step - loss: 0.2009 - accuracy: 0.9277\n",
            "Epoch 7/10\n",
            "500/500 [==============================] - 1s 3ms/step - loss: 0.1979 - accuracy: 0.9280\n",
            "Epoch 8/10\n",
            "500/500 [==============================] - 2s 4ms/step - loss: 0.1959 - accuracy: 0.9294\n",
            "Epoch 9/10\n",
            "500/500 [==============================] - 2s 3ms/step - loss: 0.1935 - accuracy: 0.9314\n",
            "Epoch 10/10\n",
            "500/500 [==============================] - 1s 3ms/step - loss: 0.1924 - accuracy: 0.9277\n",
            "125/125 [==============================] - 1s 3ms/step\n",
            "Test Accuracy: 0.9280\n"
          ]
        }
      ]
    },
    {
      "cell_type": "markdown",
      "source": [
        "It is observed that all of the test accuracies are almost the same."
      ],
      "metadata": {
        "id": "oYQ9o8wL32ox"
      }
    },
    {
      "cell_type": "markdown",
      "source": [
        "Check whether regularization helps to attain better performance."
      ],
      "metadata": {
        "id": "TUAsvEPX4Jlg"
      }
    },
    {
      "cell_type": "markdown",
      "source": [
        "L1 and L2 regularizations are tried. L2 had a clearly better performance. Regularization strength is set as 0.001 because higher value decreases the performance."
      ],
      "metadata": {
        "id": "RiGyc-Ab49wT"
      }
    },
    {
      "cell_type": "code",
      "source": [
        "from keras import regularizers\n",
        "\n",
        "# Initialize the network\n",
        "n_inputs = X_train.shape[1]\n",
        "n_hidden = 3\n",
        "model = Sequential()\n",
        "\n",
        "# Option: Regularization with L2\n",
        "model.add(Dense(n_hidden, input_shape=(n_inputs,), activation='linear', \n",
        "                kernel_initializer=lambda shape, dtype: cluster_centers.T, \n",
        "                bias_initializer='zeros', kernel_regularizer=regularizers.l2(0.001)))\n",
        "\n",
        "model.add(Dense(1, activation='sigmoid'))\n",
        "\n",
        "# Train the network\n",
        "model.compile(optimizer='adam', loss='binary_crossentropy', metrics=['accuracy'])\n",
        "model.fit(X_train, y_train, epochs=10, batch_size=16)\n",
        "\n",
        "# Test the network\n",
        "y_pred = model.predict(X_test)\n",
        "y_pred = np.round(y_pred)\n",
        "acc = accuracy_score(y_test, y_pred)\n",
        "print(\"Test Accuracy: {:.4f}\".format(acc))\n"
      ],
      "metadata": {
        "id": "ZQmkFcQk4cmo",
        "outputId": "a5d9f568-9e7c-4e27-d4c4-3fc91cb780ae",
        "colab": {
          "base_uri": "https://localhost:8080/"
        }
      },
      "execution_count": 25,
      "outputs": [
        {
          "output_type": "stream",
          "name": "stdout",
          "text": [
            "Epoch 1/10\n",
            "500/500 [==============================] - 2s 3ms/step - loss: 6.6465 - accuracy: 0.4654\n",
            "Epoch 2/10\n",
            "500/500 [==============================] - 2s 4ms/step - loss: 0.6088 - accuracy: 0.6844\n",
            "Epoch 3/10\n",
            "500/500 [==============================] - 2s 3ms/step - loss: 0.4330 - accuracy: 0.8804\n",
            "Epoch 4/10\n",
            "500/500 [==============================] - 1s 2ms/step - loss: 0.3647 - accuracy: 0.9029\n",
            "Epoch 5/10\n",
            "500/500 [==============================] - 1s 2ms/step - loss: 0.3287 - accuracy: 0.9100\n",
            "Epoch 6/10\n",
            "500/500 [==============================] - 1s 2ms/step - loss: 0.3057 - accuracy: 0.9171\n",
            "Epoch 7/10\n",
            "500/500 [==============================] - 1s 2ms/step - loss: 0.2897 - accuracy: 0.9190\n",
            "Epoch 8/10\n",
            "500/500 [==============================] - 1s 2ms/step - loss: 0.2787 - accuracy: 0.9212\n",
            "Epoch 9/10\n",
            "500/500 [==============================] - 1s 2ms/step - loss: 0.2695 - accuracy: 0.9256\n",
            "Epoch 10/10\n",
            "500/500 [==============================] - 1s 2ms/step - loss: 0.2630 - accuracy: 0.9251\n",
            "125/125 [==============================] - 0s 1ms/step\n",
            "Test Accuracy: 0.9227\n"
          ]
        }
      ]
    },
    {
      "cell_type": "markdown",
      "source": [
        "Batch Normalization is used for improving the performance and stability of the network.It normalizes the activations of the previous layer at each batch, i.e. applies a transformation that maintains the mean close to 0 and the standard deviation close to 1."
      ],
      "metadata": {
        "id": "9Xo4PjQD6fMb"
      }
    },
    {
      "cell_type": "markdown",
      "source": [
        "The model performance for training set is increased by 1% with this method."
      ],
      "metadata": {
        "id": "9oaT7nt87BP-"
      }
    },
    {
      "cell_type": "code",
      "source": [
        "from keras.layers import BatchNormalization\n",
        "\n",
        "# Initialize the network\n",
        "n_inputs = X_train.shape[1]\n",
        "n_hidden = 3\n",
        "model = Sequential()\n",
        "\n",
        "# Option: Regularization with L2\n",
        "model.add(Dense(n_hidden, input_shape=(n_inputs,), activation='linear', \n",
        "                kernel_initializer=lambda shape, dtype: cluster_centers.T, \n",
        "                bias_initializer='zeros', kernel_regularizer=regularizers.l2(0.001)))\n",
        "\n",
        "# Add Batch Normalization\n",
        "model.add(BatchNormalization(axis=-1, momentum=0.8, epsilon=1e-2))\n",
        "\n",
        "model.add(Dense(1, activation='sigmoid'))\n",
        "\n",
        "# Train the network\n",
        "model.compile(optimizer='adam', loss='binary_crossentropy', metrics=['accuracy'])\n",
        "model.fit(X_train, y_train, epochs=10, batch_size=16)\n",
        "\n",
        "# Test the network\n",
        "y_pred = model.predict(X_test)\n",
        "y_pred = np.round(y_pred)\n",
        "acc = accuracy_score(y_test, y_pred)\n",
        "print(\"Test Accuracy: {:.4f}\".format(acc))\n"
      ],
      "metadata": {
        "id": "8hc3xGbu61a_",
        "outputId": "ecec4023-c484-44ef-a676-45b01b725bdb",
        "colab": {
          "base_uri": "https://localhost:8080/"
        }
      },
      "execution_count": 32,
      "outputs": [
        {
          "output_type": "stream",
          "name": "stdout",
          "text": [
            "Epoch 1/10\n",
            "500/500 [==============================] - 2s 3ms/step - loss: 0.8173 - accuracy: 0.6097\n",
            "Epoch 2/10\n",
            "500/500 [==============================] - 1s 3ms/step - loss: 0.3252 - accuracy: 0.8975\n",
            "Epoch 3/10\n",
            "500/500 [==============================] - 1s 3ms/step - loss: 0.2718 - accuracy: 0.9081\n",
            "Epoch 4/10\n",
            "500/500 [==============================] - 1s 2ms/step - loss: 0.2463 - accuracy: 0.9136\n",
            "Epoch 5/10\n",
            "500/500 [==============================] - 1s 2ms/step - loss: 0.2400 - accuracy: 0.9158\n",
            "Epoch 6/10\n",
            "500/500 [==============================] - 1s 2ms/step - loss: 0.2390 - accuracy: 0.9143\n",
            "Epoch 7/10\n",
            "500/500 [==============================] - 1s 2ms/step - loss: 0.2301 - accuracy: 0.9191\n",
            "Epoch 8/10\n",
            "500/500 [==============================] - 1s 2ms/step - loss: 0.2284 - accuracy: 0.9176\n",
            "Epoch 9/10\n",
            "500/500 [==============================] - 1s 2ms/step - loss: 0.2275 - accuracy: 0.9194\n",
            "Epoch 10/10\n",
            "500/500 [==============================] - 1s 3ms/step - loss: 0.2183 - accuracy: 0.9209\n",
            "125/125 [==============================] - 0s 1ms/step\n",
            "Test Accuracy: 0.9357\n"
          ]
        }
      ]
    },
    {
      "cell_type": "markdown",
      "source": [
        "Experimenting with different activation functions"
      ],
      "metadata": {
        "id": "_h2Iwewq7_1w"
      }
    },
    {
      "cell_type": "markdown",
      "source": [
        "Using ReLU instead of linear for the firstt layer improved the accuracy by 1% more."
      ],
      "metadata": {
        "id": "fHcax24L8UlW"
      }
    },
    {
      "cell_type": "code",
      "source": [
        "# Initialize the network\n",
        "n_inputs = X_train.shape[1]\n",
        "n_hidden = 3\n",
        "model = Sequential()\n",
        "\n",
        "# Option: Regularization with L2\n",
        "model.add(Dense(n_hidden, input_shape=(n_inputs,), activation='ReLU', \n",
        "                kernel_initializer=lambda shape, dtype: cluster_centers.T, \n",
        "                bias_initializer='zeros', kernel_regularizer=regularizers.l2(0.001)))\n",
        "\n",
        "# Add Batch Normalization\n",
        "model.add(BatchNormalization(axis=-1, momentum=0.8, epsilon=1e-2))\n",
        "\n",
        "model.add(Dense(1, activation='sigmoid'))\n",
        "\n",
        "# Train the network\n",
        "model.compile(optimizer='adam', loss='binary_crossentropy', metrics=['accuracy'])\n",
        "model.fit(X_train, y_train, epochs=10, batch_size=16)\n",
        "\n",
        "# Test the network\n",
        "y_pred = model.predict(X_test)\n",
        "y_pred = np.round(y_pred)\n",
        "acc = accuracy_score(y_test, y_pred)\n",
        "print(\"Test Accuracy: {:.4f}\".format(acc))\n"
      ],
      "metadata": {
        "id": "EQh0oYzr8BqD",
        "outputId": "9fb950c4-0172-443a-a952-84f6d8f8b012",
        "colab": {
          "base_uri": "https://localhost:8080/"
        }
      },
      "execution_count": 34,
      "outputs": [
        {
          "output_type": "stream",
          "name": "stdout",
          "text": [
            "Epoch 1/10\n",
            "500/500 [==============================] - 2s 3ms/step - loss: 1.2109 - accuracy: 0.4150\n",
            "Epoch 2/10\n",
            "500/500 [==============================] - 1s 3ms/step - loss: 0.4131 - accuracy: 0.8950\n",
            "Epoch 3/10\n",
            "500/500 [==============================] - 1s 3ms/step - loss: 0.2761 - accuracy: 0.9107\n",
            "Epoch 4/10\n",
            "500/500 [==============================] - 1s 3ms/step - loss: 0.2397 - accuracy: 0.9195\n",
            "Epoch 5/10\n",
            "500/500 [==============================] - 1s 3ms/step - loss: 0.2304 - accuracy: 0.9190\n",
            "Epoch 6/10\n",
            "500/500 [==============================] - 1s 3ms/step - loss: 0.2148 - accuracy: 0.9268\n",
            "Epoch 7/10\n",
            "500/500 [==============================] - 1s 3ms/step - loss: 0.2063 - accuracy: 0.9274\n",
            "Epoch 8/10\n",
            "500/500 [==============================] - 1s 3ms/step - loss: 0.2043 - accuracy: 0.9301\n",
            "Epoch 9/10\n",
            "500/500 [==============================] - 1s 3ms/step - loss: 0.1956 - accuracy: 0.9330\n",
            "Epoch 10/10\n",
            "500/500 [==============================] - 1s 3ms/step - loss: 0.1860 - accuracy: 0.9344\n",
            "125/125 [==============================] - 0s 2ms/step\n",
            "Test Accuracy: 0.9475\n"
          ]
        }
      ]
    },
    {
      "cell_type": "markdown",
      "source": [
        "Increasing the number of hidden layers and number of neurons results more than 2% of increase in test accuracy."
      ],
      "metadata": {
        "id": "XkIPrmUD9Q2l"
      }
    },
    {
      "cell_type": "code",
      "source": [
        "# Initialize the network\n",
        "n_inputs = X_train.shape[1]\n",
        "n_hidden = 3\n",
        "model = Sequential()\n",
        "\n",
        "# Option: Regularization with L2\n",
        "model.add(Dense(n_hidden, input_shape=(n_inputs,), activation='ReLU', \n",
        "                kernel_initializer=lambda shape,\n",
        "                dtype: cluster_centers.T, bias_initializer='zeros', \n",
        "                kernel_regularizer=regularizers.l2(0.001)))\n",
        "model.add(BatchNormalization(axis=-1, momentum=0.8, epsilon=1e-2))\n",
        "model.add(Dense(n_hidden*2, activation='ReLU', kernel_regularizer=regularizers.l2(0.001)))\n",
        "model.add(BatchNormalization(axis=-1, momentum=0.8, epsilon=1e-2))\n",
        "\n",
        "model.add(Dense(1, activation='sigmoid'))\n",
        "\n",
        "# Train the network\n",
        "model.compile(optimizer='adam', loss='binary_crossentropy', metrics=['accuracy'])\n",
        "model.fit(X_train, y_train, epochs=10, batch_size=16)\n",
        "\n",
        "# Test the network\n",
        "y_pred = model.predict(X_test)\n",
        "y_pred = np.round(y_pred)\n",
        "acc = accuracy_score(y_test, y_pred)\n",
        "print(\"Test Accuracy: {:.4f}\".format(acc))"
      ],
      "metadata": {
        "id": "zNYicwrn8fox",
        "outputId": "e225b675-2f2b-425a-b5e5-5f7128e0577d",
        "colab": {
          "base_uri": "https://localhost:8080/"
        }
      },
      "execution_count": 41,
      "outputs": [
        {
          "output_type": "stream",
          "name": "stdout",
          "text": [
            "Epoch 1/10\n",
            "500/500 [==============================] - 3s 3ms/step - loss: 0.5666 - accuracy: 0.7206\n",
            "Epoch 2/10\n",
            "500/500 [==============================] - 3s 5ms/step - loss: 0.2854 - accuracy: 0.9081\n",
            "Epoch 3/10\n",
            "500/500 [==============================] - 2s 3ms/step - loss: 0.2352 - accuracy: 0.9260\n",
            "Epoch 4/10\n",
            "500/500 [==============================] - 2s 3ms/step - loss: 0.1975 - accuracy: 0.9371\n",
            "Epoch 5/10\n",
            "500/500 [==============================] - 2s 3ms/step - loss: 0.1861 - accuracy: 0.9413\n",
            "Epoch 6/10\n",
            "500/500 [==============================] - 2s 3ms/step - loss: 0.1758 - accuracy: 0.9434\n",
            "Epoch 7/10\n",
            "500/500 [==============================] - 2s 3ms/step - loss: 0.1776 - accuracy: 0.9464\n",
            "Epoch 8/10\n",
            "500/500 [==============================] - 1s 3ms/step - loss: 0.1710 - accuracy: 0.9475\n",
            "Epoch 9/10\n",
            "500/500 [==============================] - 2s 3ms/step - loss: 0.1629 - accuracy: 0.9496\n",
            "Epoch 10/10\n",
            "500/500 [==============================] - 2s 3ms/step - loss: 0.1713 - accuracy: 0.9494\n",
            "125/125 [==============================] - 0s 2ms/step\n",
            "Test Accuracy: 0.9762\n"
          ]
        }
      ]
    },
    {
      "cell_type": "markdown",
      "source": [
        "Also increasing the number of epochs to 30 and batch_size to 32 for both fast process and to observe the model bettter in the plots with a higher number of epochs. Also decreasing learning rate to 0.001 for stability during the learning."
      ],
      "metadata": {
        "id": "_w56C7aDAk-1"
      }
    },
    {
      "cell_type": "code",
      "source": [
        "# Initialize the network\n",
        "n_inputs = X_train.shape[1]\n",
        "n_hidden = 3\n",
        "model = Sequential()\n",
        "\n",
        "# Option: Regularization with L2\n",
        "model.add(Dense(n_hidden, input_shape=(n_inputs,), activation='ReLU', \n",
        "                kernel_initializer=lambda shape,\n",
        "                dtype: cluster_centers.T, bias_initializer='zeros', \n",
        "                kernel_regularizer=regularizers.l2(0.001)))\n",
        "model.add(BatchNormalization(axis=-1, momentum=0.8, epsilon=1e-2))\n",
        "model.add(Dense(n_hidden*2, activation='ReLU', kernel_regularizer=regularizers.l2(0.001)))\n",
        "model.add(BatchNormalization(axis=-1, momentum=0.8, epsilon=1e-2))\n",
        "\n",
        "model.add(Dense(1, activation='sigmoid'))\n",
        "\n",
        "# Define the optimizer with smaller learning rate\n",
        "optimizer = Adam(learning_rate=0.001)\n",
        "\n",
        "# Train the network\n",
        "model.compile(optimizer=optimizer, loss='binary_crossentropy', metrics=['accuracy'])\n",
        "model.fit(X_train, y_train, epochs=30, batch_size=32)\n",
        "\n",
        "# Test the network\n",
        "y_pred = model.predict(X_test)\n",
        "y_pred = np.round(y_pred)\n",
        "acc = accuracy_score(y_test, y_pred)\n",
        "print(\"Test Accuracy: {:.4f}\".format(acc))"
      ],
      "metadata": {
        "id": "QGnhTdMxAkSn",
        "outputId": "b4253ae8-5fdb-40ec-b7e8-b2ffdbd5daf8",
        "colab": {
          "base_uri": "https://localhost:8080/"
        }
      },
      "execution_count": 66,
      "outputs": [
        {
          "output_type": "stream",
          "name": "stdout",
          "text": [
            "Epoch 1/30\n",
            "84/84 [==============================] - 1s 3ms/step - loss: 0.6867 - accuracy: 0.6880\n",
            "Epoch 2/30\n",
            "84/84 [==============================] - 0s 3ms/step - loss: 0.5615 - accuracy: 0.7867\n",
            "Epoch 3/30\n",
            "84/84 [==============================] - 0s 3ms/step - loss: 0.4467 - accuracy: 0.8339\n",
            "Epoch 4/30\n",
            "84/84 [==============================] - 0s 3ms/step - loss: 0.3431 - accuracy: 0.8841\n",
            "Epoch 5/30\n",
            "84/84 [==============================] - 0s 3ms/step - loss: 0.3147 - accuracy: 0.8958\n",
            "Epoch 6/30\n",
            "84/84 [==============================] - 0s 3ms/step - loss: 0.2914 - accuracy: 0.9006\n",
            "Epoch 7/30\n",
            "84/84 [==============================] - 0s 3ms/step - loss: 0.2734 - accuracy: 0.9115\n",
            "Epoch 8/30\n",
            "84/84 [==============================] - 0s 3ms/step - loss: 0.2583 - accuracy: 0.9126\n",
            "Epoch 9/30\n",
            "84/84 [==============================] - 0s 3ms/step - loss: 0.2308 - accuracy: 0.9265\n",
            "Epoch 10/30\n",
            "84/84 [==============================] - 0s 3ms/step - loss: 0.2162 - accuracy: 0.9340\n",
            "Epoch 11/30\n",
            "84/84 [==============================] - 0s 3ms/step - loss: 0.1950 - accuracy: 0.9389\n",
            "Epoch 12/30\n",
            "84/84 [==============================] - 0s 3ms/step - loss: 0.1876 - accuracy: 0.9363\n",
            "Epoch 13/30\n",
            "84/84 [==============================] - 0s 3ms/step - loss: 0.1758 - accuracy: 0.9408\n",
            "Epoch 14/30\n",
            "84/84 [==============================] - 0s 3ms/step - loss: 0.1745 - accuracy: 0.9449\n",
            "Epoch 15/30\n",
            "84/84 [==============================] - 0s 3ms/step - loss: 0.1591 - accuracy: 0.9494\n",
            "Epoch 16/30\n",
            "84/84 [==============================] - 0s 3ms/step - loss: 0.1563 - accuracy: 0.9520\n",
            "Epoch 17/30\n",
            "84/84 [==============================] - 0s 3ms/step - loss: 0.1488 - accuracy: 0.9509\n",
            "Epoch 18/30\n",
            "84/84 [==============================] - 0s 3ms/step - loss: 0.1452 - accuracy: 0.9558\n",
            "Epoch 19/30\n",
            "84/84 [==============================] - 0s 3ms/step - loss: 0.1419 - accuracy: 0.9565\n",
            "Epoch 20/30\n",
            "84/84 [==============================] - 0s 3ms/step - loss: 0.1399 - accuracy: 0.9584\n",
            "Epoch 21/30\n",
            "84/84 [==============================] - 0s 3ms/step - loss: 0.1367 - accuracy: 0.9584\n",
            "Epoch 22/30\n",
            "84/84 [==============================] - 0s 3ms/step - loss: 0.1418 - accuracy: 0.9591\n",
            "Epoch 23/30\n",
            "84/84 [==============================] - 0s 3ms/step - loss: 0.1394 - accuracy: 0.9584\n",
            "Epoch 24/30\n",
            "84/84 [==============================] - 0s 3ms/step - loss: 0.1281 - accuracy: 0.9651\n",
            "Epoch 25/30\n",
            "84/84 [==============================] - 0s 3ms/step - loss: 0.1193 - accuracy: 0.9655\n",
            "Epoch 26/30\n",
            "84/84 [==============================] - 0s 3ms/step - loss: 0.1370 - accuracy: 0.9603\n",
            "Epoch 27/30\n",
            "84/84 [==============================] - 0s 3ms/step - loss: 0.1287 - accuracy: 0.9595\n",
            "Epoch 28/30\n",
            "84/84 [==============================] - 0s 3ms/step - loss: 0.1224 - accuracy: 0.9625\n",
            "Epoch 29/30\n",
            "84/84 [==============================] - 0s 3ms/step - loss: 0.1224 - accuracy: 0.9640\n",
            "Epoch 30/30\n",
            "84/84 [==============================] - 0s 3ms/step - loss: 0.1170 - accuracy: 0.9663\n",
            "42/42 [==============================] - 0s 2ms/step\n",
            "Test Accuracy: 0.9640\n"
          ]
        }
      ]
    },
    {
      "cell_type": "markdown",
      "source": [
        "## **b) Evaluate**"
      ],
      "metadata": {
        "id": "qDZMZE-r-BpJ"
      }
    },
    {
      "cell_type": "markdown",
      "source": [
        "Defining functions"
      ],
      "metadata": {
        "id": "NP90aLHf-roT"
      }
    },
    {
      "cell_type": "code",
      "source": [
        "def plot_training_history(history):\n",
        "    # Create a figure with two subplots\n",
        "    fig, (ax1, ax2) = plt.subplots(1, 2, figsize=(12, 4))\n",
        "\n",
        "    # Plot the training and validation loss in the first subplot\n",
        "    ax1.plot(history.history['loss'])\n",
        "    ax1.plot(history.history['val_loss'])\n",
        "    ax1.set_title('Model loss')\n",
        "    ax1.set_ylabel('Loss')\n",
        "    ax1.set_xlabel('Epoch')\n",
        "    ax1.legend(['Train', 'Test'], loc='upper right')\n",
        "\n",
        "    # Plot the training and test accuracy in the second subplot\n",
        "    ax2.plot(history.history['accuracy'])\n",
        "    ax2.plot(history.history['val_accuracy'])\n",
        "    ax2.set_title('Model accuracy')\n",
        "    ax2.set_ylabel('Accuracy')\n",
        "    ax2.set_xlabel('Epoch')\n",
        "    ax2.legend(['Train', 'Test'], loc='lower right')\n",
        "    plt.show()\n"
      ],
      "metadata": {
        "id": "RKWYOi_G-sq-"
      },
      "execution_count": 74,
      "outputs": []
    },
    {
      "cell_type": "code",
      "source": [
        "def create_and_train_RBFNN(X_train, y_train, X_test, y_test):\n",
        "    n_inputs = X_train.shape[1]\n",
        "    n_hidden = 3\n",
        "    model = Sequential()\n",
        "    kmeans = KMeans(n_clusters=n_hidden, random_state=27).fit(X_train)\n",
        "    cluster_centers = kmeans.cluster_centers_\n",
        "    model.add(Dense(n_hidden, input_shape=(n_inputs,), activation='ReLU', \n",
        "                kernel_initializer=lambda shape, dtype: cluster_centers.T, bias_initializer='zeros', \n",
        "                kernel_regularizer=regularizers.l2(0.001)))\n",
        "    model.add(BatchNormalization(axis=-1, momentum=0.8, epsilon=1e-2))\n",
        "    model.add(Dense(n_hidden*2, activation='ReLU', kernel_regularizer=regularizers.l2(0.001)))\n",
        "    model.add(BatchNormalization(axis=-1, momentum=0.8, epsilon=1e-2))\n",
        "\n",
        "    model.add(Dense(1, activation='sigmoid'))\n",
        "\n",
        "    # Define the optimizer with smaller learning rate\n",
        "    optimizer = Adam(learning_rate=0.001)\n",
        "\n",
        "    # Train the network and store the training history\n",
        "    model.compile(optimizer=optimizer, loss='binary_crossentropy', metrics=['accuracy'])\n",
        "    history = model.fit(X_train, y_train, epochs=30, batch_size=32, validation_data=(X_test, y_test), verbose=0)\n",
        "\n",
        "    return model, history"
      ],
      "metadata": {
        "id": "VFyC_B9S-2Fv"
      },
      "execution_count": 68,
      "outputs": []
    },
    {
      "cell_type": "code",
      "source": [
        "def plot_confusion_matrix_RBFNN(y_true, y_pred, cmap):\n",
        "    \"\"\"\n",
        "    Plot a confusion matrix using seaborn's heatmap function.\n",
        "    \n",
        "    Parameters\n",
        "    ----------\n",
        "    y_true : numpy array\n",
        "        1D array of true class labels (binary: 0 or 1).\n",
        "    y_pred : numpy array\n",
        "        1D array of predicted class labels (binary: 0 or 1).\n",
        "    cmap : str\n",
        "        Colormap to use for the plot. \n",
        "        \n",
        "    \"\"\"\n",
        "    # Generate a confusion matrix\n",
        "    confusion_mat = confusion_matrix(y_true, y_pred)\n",
        "\n",
        "    # Create a figure and axis\n",
        "    fig, ax = plt.subplots(figsize=(10, 8))\n",
        "\n",
        "    # Use seaborn's heatmap function to create a more professional-looking plot\n",
        "    sns.heatmap(confusion_mat, annot=True, fmt='d', cmap=cmap, \n",
        "                xticklabels=['Negative', 'Positive'], yticklabels=['Negative', 'Positive'], ax=ax)\n",
        "\n",
        "    # Add labels for the x and y axes\n",
        "    ax.set_xlabel('Predicted', fontsize=14)\n",
        "    ax.set_ylabel('True', fontsize=14)\n",
        "\n",
        "    # Add a title\n",
        "    ax.set_title('Confusion Matrix', fontsize=18)\n",
        "\n",
        "    # Show the plot\n",
        "    plt.show()\n"
      ],
      "metadata": {
        "id": "cEVxPvXID03W"
      },
      "execution_count": 88,
      "outputs": []
    },
    {
      "cell_type": "code",
      "source": [
        "def evaluate_model(y_true, y_pred):\n",
        "    \"\"\"\n",
        "    Calculate and print evaluation metrics for a binary machine learning model.\n",
        "    \n",
        "    Parameters\n",
        "    ----------\n",
        "    y_true : numpy array\n",
        "        1D array of true binary class labels (0 or 1).\n",
        "    y_pred : numpy array\n",
        "        1D array of predicted binary class labels (0 or 1).\n",
        "    \"\"\"\n",
        "    # Calculate evaluation metrics\n",
        "    accuracy = accuracy_score(y_true, y_pred)\n",
        "    precision = precision_score(y_true, y_pred)\n",
        "    recall = recall_score(y_true, y_pred)\n",
        "    f1 = f1_score(y_true, y_pred)\n",
        "\n",
        "    # Print evaluation metrics\n",
        "    print(\"Accuracy: {:.4f}\".format(accuracy))\n",
        "    print(\"Precision: {:.4f}\".format(precision))\n",
        "    print(\"Recall: {:.4f}\".format(recall))\n",
        "    print(\"F1-score: {:.4f}\".format(f1))\n"
      ],
      "metadata": {
        "id": "TEJNeqR4FeDG"
      },
      "execution_count": 95,
      "outputs": []
    },
    {
      "cell_type": "markdown",
      "source": [
        "Showing that the training has achieved convergence in each case"
      ],
      "metadata": {
        "id": "N88S4Okt-K5U"
      }
    },
    {
      "cell_type": "markdown",
      "source": [
        "### **Split 1**"
      ],
      "metadata": {
        "id": "tGKDApwd-O0T"
      }
    },
    {
      "cell_type": "code",
      "source": [
        "# Load and preprocess the data\n",
        "X_train = X_train_2_sp1\n",
        "y_train = y_train_2_sp1\n",
        "X_test = X_test_2_sp1\n",
        "y_test = y_test_2_sp1\n",
        "\n",
        "model, history = create_and_train_RBFNN(X_train, y_train, X_test, y_test)\n",
        "plot_training_history(history)"
      ],
      "metadata": {
        "id": "O1usdS4r-Skv",
        "outputId": "1a672d34-2b4a-48a7-c843-4dfe7ce2e163",
        "colab": {
          "base_uri": "https://localhost:8080/",
          "height": 295
        }
      },
      "execution_count": 96,
      "outputs": [
        {
          "output_type": "display_data",
          "data": {
            "text/plain": [
              "<Figure size 864x288 with 2 Axes>"
            ],
            "image/png": "[encoded data removed]"
          },
          "metadata": {
            "needs_background": "light"
          }
        }
      ]
    },
    {
      "cell_type": "code",
      "source": [
        "predictions = model.predict(X_test, verbose=0)\n",
        "predictions = np.round(predictions)\n",
        "plot_confusion_matrix_RBFNN(y_test, predictions, 'Blues')"
      ],
      "metadata": {
        "id": "tOJCQB27BuAN",
        "outputId": "8ddc8314-9bbb-4ffd-906b-bfcdb1001e2e",
        "colab": {
          "base_uri": "https://localhost:8080/",
          "height": 521
        }
      },
      "execution_count": 97,
      "outputs": [
        {
          "output_type": "display_data",
          "data": {
            "text/plain": [
              "<Figure size 720x576 with 2 Axes>"
            ],
            "image/png": "[encoded data removed]"
          },
          "metadata": {
            "needs_background": "light"
          }
        }
      ]
    },
    {
      "cell_type": "code",
      "source": [
        "evaluate_model(y_test, predictions)"
      ],
      "metadata": {
        "id": "LIdxM7TTFlU7",
        "outputId": "8628843a-c8ce-49bc-92e4-1fdd2d0b7901",
        "colab": {
          "base_uri": "https://localhost:8080/"
        }
      },
      "execution_count": 98,
      "outputs": [
        {
          "output_type": "stream",
          "name": "stdout",
          "text": [
            "Accuracy: 0.9543\n",
            "Precision: 0.9779\n",
            "Recall: 0.9295\n",
            "F1-score: 0.9531\n"
          ]
        }
      ]
    },
    {
      "cell_type": "markdown",
      "source": [
        "### **Split 2**"
      ],
      "metadata": {
        "id": "wkzV2nMT-Psi"
      }
    },
    {
      "cell_type": "code",
      "source": [
        "# Load and preprocess the data\n",
        "X_train = X_train_2_sp2\n",
        "y_train = y_train_2_sp2\n",
        "X_test = X_test_2_sp2\n",
        "y_test = y_test_2_sp2\n",
        "\n",
        "model, history = create_and_train_RBFNN(X_train, y_train, X_test, y_test)\n",
        "plot_training_history(history)"
      ],
      "metadata": {
        "id": "eCiPUXCT-TIc",
        "outputId": "f70f7837-9936-45c4-d0bc-ce02f6b2057c",
        "colab": {
          "base_uri": "https://localhost:8080/",
          "height": 295
        }
      },
      "execution_count": 99,
      "outputs": [
        {
          "output_type": "display_data",
          "data": {
            "text/plain": [
              "<Figure size 864x288 with 2 Axes>"
            ],
            "image/png": "[encoded data removed]"
          },
          "metadata": {
            "needs_background": "light"
          }
        }
      ]
    },
    {
      "cell_type": "code",
      "source": [
        "predictions = model.predict(X_test, verbose=0)\n",
        "predictions = np.round(predictions)\n",
        "plot_confusion_matrix_RBFNN(y_test, predictions, 'Reds')"
      ],
      "metadata": {
        "id": "3mwZS5QSBv15",
        "outputId": "f284d0a5-c661-4cb5-ac0f-96f7d0225f0e",
        "colab": {
          "base_uri": "https://localhost:8080/",
          "height": 521
        }
      },
      "execution_count": 100,
      "outputs": [
        {
          "output_type": "display_data",
          "data": {
            "text/plain": [
              "<Figure size 720x576 with 2 Axes>"
            ],
            "image/png": "[encoded data removed]"
          },
          "metadata": {
            "needs_background": "light"
          }
        }
      ]
    },
    {
      "cell_type": "code",
      "source": [
        "evaluate_model(y_test, predictions)"
      ],
      "metadata": {
        "id": "CwtyHYeNFmJY",
        "outputId": "9de948a9-ab47-49fd-ce4e-d56b4a23b241",
        "colab": {
          "base_uri": "https://localhost:8080/"
        }
      },
      "execution_count": 101,
      "outputs": [
        {
          "output_type": "stream",
          "name": "stdout",
          "text": [
            "Accuracy: 0.9302\n",
            "Precision: 0.9643\n",
            "Recall: 0.8934\n",
            "F1-score: 0.9275\n"
          ]
        }
      ]
    },
    {
      "cell_type": "markdown",
      "source": [
        "### **Split 3**"
      ],
      "metadata": {
        "id": "SpWjlaRb-Q3v"
      }
    },
    {
      "cell_type": "code",
      "source": [
        "# Load and preprocess the data\n",
        "X_train = X_train_2_sp3\n",
        "y_train = y_train_2_sp3\n",
        "X_test = X_test_2_sp3\n",
        "y_test = y_test_2_sp3\n",
        "\n",
        "model, history = create_and_train_RBFNN(X_train, y_train, X_test, y_test)\n",
        "plot_training_history(history)"
      ],
      "metadata": {
        "id": "RgWeVr0s-Tmo",
        "outputId": "56caca57-b7a9-452c-a6e8-1f3db5c4cc39",
        "colab": {
          "base_uri": "https://localhost:8080/",
          "height": 295
        }
      },
      "execution_count": 102,
      "outputs": [
        {
          "output_type": "display_data",
          "data": {
            "text/plain": [
              "<Figure size 864x288 with 2 Axes>"
            ],
            "image/png": "[encoded data removed]"
          },
          "metadata": {
            "needs_background": "light"
          }
        }
      ]
    },
    {
      "cell_type": "code",
      "source": [
        "predictions = model.predict(X_test, verbose=0)\n",
        "predictions = np.round(predictions)\n",
        "plot_confusion_matrix_RBFNN(y_test, predictions, 'Greens')"
      ],
      "metadata": {
        "id": "dq3Sb5dTBwlc",
        "outputId": "c12756f4-64f6-4548-bcbf-a59bc5bb21c3",
        "colab": {
          "base_uri": "https://localhost:8080/",
          "height": 521
        }
      },
      "execution_count": 103,
      "outputs": [
        {
          "output_type": "display_data",
          "data": {
            "text/plain": [
              "<Figure size 720x576 with 2 Axes>"
            ],
            "image/png": "[encoded data removed]"
          },
          "metadata": {
            "needs_background": "light"
          }
        }
      ]
    },
    {
      "cell_type": "code",
      "source": [
        "evaluate_model(y_test, predictions)"
      ],
      "metadata": {
        "id": "-vC6VmhQFnDz",
        "outputId": "95b557c3-9b61-4f0d-930a-11e2c113f362",
        "colab": {
          "base_uri": "https://localhost:8080/"
        }
      },
      "execution_count": 104,
      "outputs": [
        {
          "output_type": "stream",
          "name": "stdout",
          "text": [
            "Accuracy: 0.9610\n",
            "Precision: 0.9569\n",
            "Recall: 0.9655\n",
            "F1-score: 0.9612\n"
          ]
        }
      ]
    }
  ]
}
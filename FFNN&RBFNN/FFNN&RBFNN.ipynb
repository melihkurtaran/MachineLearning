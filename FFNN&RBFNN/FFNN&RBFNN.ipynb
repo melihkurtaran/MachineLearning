{
  "nbformat": 4,
  "nbformat_minor": 0,
  "metadata": {
    "colab": {
      "provenance": [],
      "authorship_tag": "ABX9TyPCad/P1MQQtaf+kIPCxJhb",
      "include_colab_link": true
    },
    "kernelspec": {
      "name": "python3",
      "display_name": "Python 3"
    },
    "language_info": {
      "name": "python"
    }
  },
  "cells": [
    {
      "cell_type": "markdown",
      "metadata": {
        "id": "view-in-github",
        "colab_type": "text"
      },
      "source": [
        "<a href=\"https://colab.research.google.com/github/melihkurtaran/MachineLearning/blob/main/FFNN%26RBFNN/FFNN%26RBFNN.ipynb\" target=\"_parent\"><img src=\"https://colab.research.google.com/assets/colab-badge.svg\" alt=\"Open In Colab\"/></a>"
      ]
    },
    {
      "cell_type": "markdown",
      "source": [
        "**Computational Intelligence - Feed-forward Neural Networks (FFNN) &\n",
        "Radial Basis Functions Neural Networks (RBFNN)**"
      ],
      "metadata": {
        "id": "R26lXNoKrXiG"
      }
    },
    {
      "cell_type": "markdown",
      "source": [
        "The dataset for this project consists of electrocardiogram signals (ECG) of heartbeats for the normal case (class label 0) and\n",
        "four more cases affected by different arrhythmia and myocardial infarction (class labels 1 to 4). These signals\n",
        "have been preprocessed and segmented, so that each segment is a heartbeat, and correspondingly one sample of\n",
        "the dataset, which, in turn, consists of signal values for 187 time instants. Figure 1 shows one example for each\n",
        "class"
      ],
      "metadata": {
        "id": "Inxl54I2sT3v"
      }
    },
    {
      "cell_type": "code",
      "source": [
        "#Load libraries\n",
        "import pandas as pd\n",
        "import numpy as np\n",
        "from pandas import read_csv\n",
        "import matplotlib.pyplot as plt\n",
        "from collections import Counter\n",
        "from tensorflow import keras\n",
        "from tensorflow.keras import layers"
      ],
      "metadata": {
        "id": "AZXToehwsk6Z"
      },
      "execution_count": 60,
      "outputs": []
    },
    {
      "cell_type": "code",
      "source": [
        "#Connect to GitHub for faster access\n",
        "!git clone https://github.com/melihkurtaran/MachineLearning.git"
      ],
      "metadata": {
        "colab": {
          "base_uri": "https://localhost:8080/"
        },
        "id": "5k-B8E8qrmEJ",
        "outputId": "07c4b49b-3906-49a8-f1bf-f3a6d3e7ce5a"
      },
      "execution_count": 5,
      "outputs": [
        {
          "output_type": "stream",
          "name": "stdout",
          "text": [
            "Cloning into 'MachineLearning'...\n",
            "remote: Enumerating objects: 70, done.\u001b[K\n",
            "remote: Counting objects:   1% (1/70)\u001b[K\rremote: Counting objects:   2% (2/70)\u001b[K\rremote: Counting objects:   4% (3/70)\u001b[K\rremote: Counting objects:   5% (4/70)\u001b[K\rremote: Counting objects:   7% (5/70)\u001b[K\rremote: Counting objects:   8% (6/70)\u001b[K\rremote: Counting objects:  10% (7/70)\u001b[K\rremote: Counting objects:  11% (8/70)\u001b[K\rremote: Counting objects:  12% (9/70)\u001b[K\rremote: Counting objects:  14% (10/70)\u001b[K\rremote: Counting objects:  15% (11/70)\u001b[K\rremote: Counting objects:  17% (12/70)\u001b[K\rremote: Counting objects:  18% (13/70)\u001b[K\rremote: Counting objects:  20% (14/70)\u001b[K\rremote: Counting objects:  21% (15/70)\u001b[K\rremote: Counting objects:  22% (16/70)\u001b[K\rremote: Counting objects:  24% (17/70)\u001b[K\rremote: Counting objects:  25% (18/70)\u001b[K\rremote: Counting objects:  27% (19/70)\u001b[K\rremote: Counting objects:  28% (20/70)\u001b[K\rremote: Counting objects:  30% (21/70)\u001b[K\rremote: Counting objects:  31% (22/70)\u001b[K\rremote: Counting objects:  32% (23/70)\u001b[K\rremote: Counting objects:  34% (24/70)\u001b[K\rremote: Counting objects:  35% (25/70)\u001b[K\rremote: Counting objects:  37% (26/70)\u001b[K\rremote: Counting objects:  38% (27/70)\u001b[K\rremote: Counting objects:  40% (28/70)\u001b[K\rremote: Counting objects:  41% (29/70)\u001b[K\rremote: Counting objects:  42% (30/70)\u001b[K\rremote: Counting objects:  44% (31/70)\u001b[K\rremote: Counting objects:  45% (32/70)\u001b[K\rremote: Counting objects:  47% (33/70)\u001b[K\rremote: Counting objects:  48% (34/70)\u001b[K\rremote: Counting objects:  50% (35/70)\u001b[K\rremote: Counting objects:  51% (36/70)\u001b[K\rremote: Counting objects:  52% (37/70)\u001b[K\rremote: Counting objects:  54% (38/70)\u001b[K\rremote: Counting objects:  55% (39/70)\u001b[K\rremote: Counting objects:  57% (40/70)\u001b[K\rremote: Counting objects:  58% (41/70)\u001b[K\rremote: Counting objects:  60% (42/70)\u001b[K\rremote: Counting objects:  61% (43/70)\u001b[K\rremote: Counting objects:  62% (44/70)\u001b[K\rremote: Counting objects:  64% (45/70)\u001b[K\rremote: Counting objects:  65% (46/70)\u001b[K\rremote: Counting objects:  67% (47/70)\u001b[K\rremote: Counting objects:  68% (48/70)\u001b[K\rremote: Counting objects:  70% (49/70)\u001b[K\rremote: Counting objects:  71% (50/70)\u001b[K\rremote: Counting objects:  72% (51/70)\u001b[K\rremote: Counting objects:  74% (52/70)\u001b[K\rremote: Counting objects:  75% (53/70)\u001b[K\rremote: Counting objects:  77% (54/70)\u001b[K\rremote: Counting objects:  78% (55/70)\u001b[K\rremote: Counting objects:  80% (56/70)\u001b[K\rremote: Counting objects:  81% (57/70)\u001b[K\rremote: Counting objects:  82% (58/70)\u001b[K\rremote: Counting objects:  84% (59/70)\u001b[K\rremote: Counting objects:  85% (60/70)\u001b[K\rremote: Counting objects:  87% (61/70)\u001b[K\rremote: Counting objects:  88% (62/70)\u001b[K\rremote: Counting objects:  90% (63/70)\u001b[K\rremote: Counting objects:  91% (64/70)\u001b[K\rremote: Counting objects:  92% (65/70)\u001b[K\rremote: Counting objects:  94% (66/70)\u001b[K\rremote: Counting objects:  95% (67/70)\u001b[K\rremote: Counting objects:  97% (68/70)\u001b[K\rremote: Counting objects:  98% (69/70)\u001b[K\rremote: Counting objects: 100% (70/70)\u001b[K\rremote: Counting objects: 100% (70/70), done.\u001b[K\n",
            "remote: Compressing objects: 100% (54/54), done.\u001b[K\n",
            "remote: Total 70 (delta 34), reused 39 (delta 15), pack-reused 0\u001b[K\n",
            "Unpacking objects: 100% (70/70), done.\n"
          ]
        }
      ]
    },
    {
      "cell_type": "markdown",
      "source": [
        "Read datasets"
      ],
      "metadata": {
        "id": "30JhALuMszY3"
      }
    },
    {
      "cell_type": "code",
      "source": [
        "# Define the path to the datasets folder\n",
        "folder = \"MachineLearning/FFNN&RBFNN/datasets-nn/\"\n",
        "\n",
        "#defining a function to read files to datafame\n",
        "def load_data(group, split, task):\n",
        "    \"\"\"Load the dataset for a given group, split, and task.\n",
        "\n",
        "    Parameters:\n",
        "        group (int): The group number.\n",
        "        split (int): The split number.\n",
        "        task (int): The task number (either 1 or 2).\n",
        "    \n",
        "    Returns:\n",
        "        tuple: A tuple containing the training data (X_train, y_train) and the\n",
        "            test data (X_test, y_test).\n",
        "    \"\"\"\n",
        "\n",
        "    # Load the data for the given task and split\n",
        "    data = pd.read_csv(folder + f'ds{task}-{group:02d}-{split}-nn-tr.csv')\n",
        "    X_train = data.iloc[:, :-1].to_numpy()\n",
        "    y_train = data.iloc[:, -1].to_numpy()\n",
        "    data = pd.read_csv(folder + f'ds{task}-{group:02d}-{split}-nn-te.csv')\n",
        "    X_test = data.iloc[:, :-1].to_numpy()\n",
        "    y_test = data.iloc[:, -1].to_numpy()\n",
        "\n",
        "    #printing only X for simplicity\n",
        "    print(f'X_train_{task}_{group:02d}_sp{split} is created, size is {len(X_train)}')\n",
        "    print(f'X_test_{task}_{group:02d}_sp{split} is created, size is {len(X_test)}')\n",
        "\n",
        "    return (X_train, y_train), (X_test, y_test)"
      ],
      "metadata": {
        "id": "l5_HSYsYwfuz"
      },
      "execution_count": 25,
      "outputs": []
    },
    {
      "cell_type": "markdown",
      "source": [
        "My group number is 11 and there are 3 splits"
      ],
      "metadata": {
        "id": "lR8xihDIyou1"
      }
    },
    {
      "cell_type": "code",
      "source": [
        "(X_train_1_sp1, y_train_1_sp1), (X_test_1_sp1, y_test_1_sp1) = load_data(11, 1, 1)\n",
        "(X_train_1_sp2, y_train_1_sp2), (X_test_1_sp2, y_test_1_sp2) = load_data(11, 2, 1)\n",
        "(X_train_1_sp3, y_train_1_sp3), (X_test_1_sp3, y_test_1_sp3) = load_data(11, 3, 1)\n",
        "\n",
        "(X_train_2_sp1, y_train_2_sp1), (X_test_2_sp1, y_test_2_sp1) = load_data(11, 1, 2)\n",
        "(X_train_2_sp2, y_train_2_sp2), (X_test_2_sp2, y_test_2_sp2) = load_data(11, 2, 2)\n",
        "(X_train_2_sp3, y_train_2_sp3), (X_test_2_sp3, y_test_2_sp3) = load_data(11, 3, 2)"
      ],
      "metadata": {
        "colab": {
          "base_uri": "https://localhost:8080/"
        },
        "id": "bgDF4ozvsrZ9",
        "outputId": "1a9d3ccf-72a2-4569-ef5d-9562099ac5c2"
      },
      "execution_count": 26,
      "outputs": [
        {
          "output_type": "stream",
          "name": "stdout",
          "text": [
            "X_train_1_11_sp1 is created, size is 2503\n",
            "X_test_1_11_sp1 is created, size is 1252\n",
            "X_train_1_11_sp2 is created, size is 2503\n",
            "X_test_1_11_sp2 is created, size is 1252\n",
            "X_train_1_11_sp3 is created, size is 2504\n",
            "X_test_1_11_sp3 is created, size is 1251\n",
            "X_train_2_11_sp1 is created, size is 2666\n",
            "X_test_2_11_sp1 is created, size is 1334\n",
            "X_train_2_11_sp2 is created, size is 2667\n",
            "X_test_2_11_sp2 is created, size is 1333\n",
            "X_train_2_11_sp3 is created, size is 2667\n",
            "X_test_2_11_sp3 is created, size is 1333\n"
          ]
        }
      ]
    },
    {
      "cell_type": "markdown",
      "source": [
        "Visualizing one random sample electrocardiogram signal"
      ],
      "metadata": {
        "id": "k1DAoYd01sc_"
      }
    },
    {
      "cell_type": "code",
      "source": [
        "import matplotlib.pyplot as plt\n",
        "\n",
        "# Create a figure and axis\n",
        "fig, ax = plt.subplots()\n",
        "\n",
        "# Plot the data as a line\n",
        "ax.plot(X_train_1_sp1[784])\n",
        "\n",
        "# Show the plot\n",
        "plt.show()"
      ],
      "metadata": {
        "colab": {
          "base_uri": "https://localhost:8080/",
          "height": 265
        },
        "id": "dznzr_Mm08zC",
        "outputId": "4d711f17-f753-4832-d240-809f4ea0e722"
      },
      "execution_count": 34,
      "outputs": [
        {
          "output_type": "display_data",
          "data": {
            "text/plain": [
              "<Figure size 432x288 with 1 Axes>"
            ],
            "image/png": "[encoded data removed]"
          },
          "metadata": {
            "needs_background": "light"
          }
        }
      ]
    },
    {
      "cell_type": "markdown",
      "source": [
        "A simple value count check for classes in one split of training data"
      ],
      "metadata": {
        "id": "TfBQGFnI3FXO"
      }
    },
    {
      "cell_type": "code",
      "source": [
        "# Count the occurrences of each value\n",
        "counts = Counter(y_train_1_sp1)\n",
        "\n",
        "# Print the counts of each value\n",
        "for value, count in counts.items():\n",
        "    print(f\"Class {value}, count: {count}\")"
      ],
      "metadata": {
        "colab": {
          "base_uri": "https://localhost:8080/"
        },
        "id": "ihTvvvsj2cfA",
        "outputId": "8a34164b-df85-4a78-a0db-f855e9490988"
      },
      "execution_count": 45,
      "outputs": [
        {
          "output_type": "stream",
          "name": "stdout",
          "text": [
            "Class 0, count: 500\n",
            "Class 1, count: 501\n",
            "Class 2, count: 501\n",
            "Class 3, count: 500\n",
            "Class 4, count: 501\n"
          ]
        }
      ]
    },
    {
      "cell_type": "markdown",
      "source": [
        "# **T1 - Design and evaluate an FFNN**"
      ],
      "metadata": {
        "id": "rKra1dg52DSK"
      }
    },
    {
      "cell_type": "markdown",
      "source": [
        "an FFNN is developed to solve the multi-class classification problem"
      ],
      "metadata": {
        "id": "7eopU1cI3aPm"
      }
    },
    {
      "cell_type": "code",
      "source": [
        "# Assign the split\n",
        "X_train = X_train_1_sp1\n",
        "y_train = y_train_1_sp1\n",
        "\n",
        "# Initialize the weights\n",
        "initializer = keras.initializers.HeNormal()\n",
        "\n",
        "# Define the model's input and output layers\n",
        "inputs = keras.Input(shape=(len(X_train[0]),))\n",
        "x1 = layers.Dense(5, activation=\"sigmoid\", kernel_initializer=initializer)(inputs)\n",
        "x2 = layers.Dense(5, activation=\"sigmoid\", kernel_initializer=initializer)(x1)\n",
        "outputs = layers.Dense(1, activation=\"softmax\", kernel_initializer=initializer)(x2)\n",
        "\n",
        "# Create the model\n",
        "model = keras.Model(inputs, outputs)\n",
        "\n",
        "# Print the model summary\n",
        "model.summary()\n",
        "\n",
        "# Compile the model\n",
        "model.compile(optimizer='RMSprop', loss=\"categorical_crossentropy\", metrics=['accuracy'])\n",
        "\n",
        "# Fit the model to the training data\n",
        "history = model.fit(X_train, y_train, epochs=20, validation_split=0.2)\n"
      ],
      "metadata": {
        "id": "NOp5cTth7GMi"
      },
      "execution_count": null,
      "outputs": []
    }
  ]
}
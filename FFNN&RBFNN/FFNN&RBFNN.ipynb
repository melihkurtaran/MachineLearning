{
  "nbformat": 4,
  "nbformat_minor": 0,
  "metadata": {
    "colab": {
      "provenance": [],
      "toc_visible": true,
      "authorship_tag": "ABX9TyMuWzEa6AWm21iP1lV0Th3/",
      "include_colab_link": true
    },
    "kernelspec": {
      "name": "python3",
      "display_name": "Python 3"
    },
    "language_info": {
      "name": "python"
    }
  },
  "cells": [
    {
      "cell_type": "markdown",
      "metadata": {
        "id": "view-in-github",
        "colab_type": "text"
      },
      "source": [
        "<a href=\"https://colab.research.google.com/github/melihkurtaran/MachineLearning/blob/main/FFNN%26RBFNN/FFNN%26RBFNN.ipynb\" target=\"_parent\"><img src=\"https://colab.research.google.com/assets/colab-badge.svg\" alt=\"Open In Colab\"/></a>"
      ]
    },
    {
      "cell_type": "markdown",
      "source": [
        "**Computational Intelligence - Feed-forward Neural Networks (FFNN) &\n",
        "Radial Basis Functions Neural Networks (RBFNN)**"
      ],
      "metadata": {
        "id": "R26lXNoKrXiG"
      }
    },
    {
      "cell_type": "markdown",
      "source": [
        "Author: Melih Kurtaran"
      ],
      "metadata": {
        "id": "xTp1kmGOF-ok"
      }
    },
    {
      "cell_type": "markdown",
      "source": [
        "The dataset for this project consists of electrocardiogram signals (ECG) of heartbeats for the normal case (class label 0) and\n",
        "four more cases affected by different arrhythmia and myocardial infarction (class labels 1 to 4). These signals\n",
        "have been preprocessed and segmented, so that each segment is a heartbeat, and correspondingly one sample of\n",
        "the dataset, which, in turn, consists of signal values for 187 time instants. Figure 1 shows one example for each\n",
        "class"
      ],
      "metadata": {
        "id": "Inxl54I2sT3v"
      }
    },
    {
      "cell_type": "code",
      "source": [
        "#Load libraries\n",
        "import pandas as pd\n",
        "import numpy as np\n",
        "import seaborn as sns\n",
        "from pandas import read_csv\n",
        "import matplotlib.pyplot as plt\n",
        "from collections import Counter\n",
        "from keras.models import Sequential\n",
        "from keras.layers import Dense\n",
        "from keras.utils import to_categorical\n",
        "from keras.optimizers import Adam\n",
        "from keras.callbacks import ReduceLROnPlateau\n",
        "from keras.optimizers import SGD, Adagrad, Adadelta, RMSprop\n",
        "from sklearn.metrics import confusion_matrix, accuracy_score, precision_score, recall_score, f1_score\n",
        "from sklearn.cluster import KMeans"
      ],
      "metadata": {
        "id": "AZXToehwsk6Z"
      },
      "execution_count": 1,
      "outputs": []
    },
    {
      "cell_type": "code",
      "source": [
        "#Connect to GitHub for faster access\n",
        "!git clone https://github.com/melihkurtaran/MachineLearning.git"
      ],
      "metadata": {
        "colab": {
          "base_uri": "https://localhost:8080/"
        },
        "id": "5k-B8E8qrmEJ",
        "outputId": "92c82117-477e-4ba1-add5-2d7944b10dd1"
      },
      "execution_count": 2,
      "outputs": [
        {
          "output_type": "stream",
          "name": "stdout",
          "text": [
            "Cloning into 'MachineLearning'...\n",
            "remote: Enumerating objects: 175, done.\u001b[K\n",
            "remote: Counting objects: 100% (175/175), done.\u001b[K\n",
            "remote: Compressing objects: 100% (157/157), done.\u001b[K\n",
            "remote: Total 175 (delta 89), reused 43 (delta 17), pack-reused 0\u001b[K\n",
            "Receiving objects: 100% (175/175), 4.90 MiB | 6.31 MiB/s, done.\n",
            "Resolving deltas: 100% (89/89), done.\n"
          ]
        }
      ]
    },
    {
      "cell_type": "markdown",
      "source": [
        "Read datasets"
      ],
      "metadata": {
        "id": "30JhALuMszY3"
      }
    },
    {
      "cell_type": "code",
      "source": [
        "# Define the path to the datasets folder\n",
        "folder = \"MachineLearning/FFNN&RBFNN/datasets-nn/\"\n",
        "\n",
        "#defining a function to read files to datafame\n",
        "def load_data(group, split, task):\n",
        "    \"\"\"Load the dataset for a given group, split, and task.\n",
        "\n",
        "    Parameters:\n",
        "        group (int): The group number.\n",
        "        split (int): The split number.\n",
        "        task (int): The task number (either 1 or 2).\n",
        "    \n",
        "    Returns:\n",
        "        tuple: A tuple containing the training data (X_train, y_train) and the\n",
        "            test data (X_test, y_test).\n",
        "    \"\"\"\n",
        "\n",
        "    # Load the data for the given task and split\n",
        "    data = pd.read_csv(folder + f'ds{task}-{group:02d}-{split}-nn-tr.csv')\n",
        "    X_train = data.iloc[:, :-1].to_numpy()\n",
        "    y_train = data.iloc[:, -1].to_numpy()\n",
        "    data = pd.read_csv(folder + f'ds{task}-{group:02d}-{split}-nn-te.csv')\n",
        "    X_test = data.iloc[:, :-1].to_numpy()\n",
        "    y_test = data.iloc[:, -1].to_numpy()\n",
        "\n",
        "    #printing only X for simplicity\n",
        "    print(f'X_train_{task}_{group:02d}_sp{split} is created, size is {len(X_train)}')\n",
        "    print(f'X_test_{task}_{group:02d}_sp{split} is created, size is {len(X_test)}')\n",
        "\n",
        "    return (X_train, y_train), (X_test, y_test)"
      ],
      "metadata": {
        "id": "l5_HSYsYwfuz"
      },
      "execution_count": 3,
      "outputs": []
    },
    {
      "cell_type": "markdown",
      "source": [
        "My group number is 11 and there are 3 splits"
      ],
      "metadata": {
        "id": "lR8xihDIyou1"
      }
    },
    {
      "cell_type": "code",
      "source": [
        "(X_train_1_sp1, y_train_1_sp1), (X_test_1_sp1, y_test_1_sp1) = load_data(11, 1, 1)\n",
        "(X_train_1_sp2, y_train_1_sp2), (X_test_1_sp2, y_test_1_sp2) = load_data(11, 2, 1)\n",
        "(X_train_1_sp3, y_train_1_sp3), (X_test_1_sp3, y_test_1_sp3) = load_data(11, 3, 1)\n",
        "\n",
        "(X_train_2_sp1, y_train_2_sp1), (X_test_2_sp1, y_test_2_sp1) = load_data(11, 1, 2)\n",
        "(X_train_2_sp2, y_train_2_sp2), (X_test_2_sp2, y_test_2_sp2) = load_data(11, 2, 2)\n",
        "(X_train_2_sp3, y_train_2_sp3), (X_test_2_sp3, y_test_2_sp3) = load_data(11, 3, 2)"
      ],
      "metadata": {
        "colab": {
          "base_uri": "https://localhost:8080/"
        },
        "id": "bgDF4ozvsrZ9",
        "outputId": "7579c686-77a2-4f6e-aabd-b48e90ab1c9f"
      },
      "execution_count": 4,
      "outputs": [
        {
          "output_type": "stream",
          "name": "stdout",
          "text": [
            "X_train_1_11_sp1 is created, size is 2503\n",
            "X_test_1_11_sp1 is created, size is 1252\n",
            "X_train_1_11_sp2 is created, size is 2503\n",
            "X_test_1_11_sp2 is created, size is 1252\n",
            "X_train_1_11_sp3 is created, size is 2504\n",
            "X_test_1_11_sp3 is created, size is 1251\n",
            "X_train_2_11_sp1 is created, size is 2666\n",
            "X_test_2_11_sp1 is created, size is 1334\n",
            "X_train_2_11_sp2 is created, size is 2667\n",
            "X_test_2_11_sp2 is created, size is 1333\n",
            "X_train_2_11_sp3 is created, size is 2667\n",
            "X_test_2_11_sp3 is created, size is 1333\n"
          ]
        }
      ]
    },
    {
      "cell_type": "markdown",
      "source": [
        "Visualizing one random sample electrocardiogram signal"
      ],
      "metadata": {
        "id": "k1DAoYd01sc_"
      }
    },
    {
      "cell_type": "code",
      "source": [
        "import matplotlib.pyplot as plt\n",
        "\n",
        "# Create a figure and axis\n",
        "fig, ax = plt.subplots()\n",
        "\n",
        "# Plot the data as a line\n",
        "ax.plot(X_train_1_sp1[784])\n",
        "\n",
        "# Show the plot\n",
        "plt.show()"
      ],
      "metadata": {
        "colab": {
          "base_uri": "https://localhost:8080/",
          "height": 265
        },
        "id": "dznzr_Mm08zC",
        "outputId": "4b49dabe-a623-4598-8d5f-0b6fe4bf43d3"
      },
      "execution_count": 5,
      "outputs": [
        {
          "output_type": "display_data",
          "data": {
            "text/plain": [
              "<Figure size 432x288 with 1 Axes>"
            ],
            "image/png": "[encoded data removed]"
          },
          "metadata": {
            "needs_background": "light"
          }
        }
      ]
    },
    {
      "cell_type": "markdown",
      "source": [
        "A simple value count check for classes in one split of training data to see if it is balanced"
      ],
      "metadata": {
        "id": "TfBQGFnI3FXO"
      }
    },
    {
      "cell_type": "code",
      "source": [
        "# Count the occurrences of each value\n",
        "counts = Counter(y_train_1_sp1)\n",
        "\n",
        "# Print the counts of each value\n",
        "for value, count in counts.items():\n",
        "    print(f\"Class {value}, count: {count}\")"
      ],
      "metadata": {
        "colab": {
          "base_uri": "https://localhost:8080/"
        },
        "id": "ihTvvvsj2cfA",
        "outputId": "0ace00fd-ec9c-4e77-dd79-7f40c38857cb"
      },
      "execution_count": 6,
      "outputs": [
        {
          "output_type": "stream",
          "name": "stdout",
          "text": [
            "Class 0, count: 500\n",
            "Class 1, count: 501\n",
            "Class 2, count: 501\n",
            "Class 3, count: 500\n",
            "Class 4, count: 501\n"
          ]
        }
      ]
    },
    {
      "cell_type": "markdown",
      "source": [
        "# **T1 - Design and evaluate FFNN**"
      ],
      "metadata": {
        "id": "rKra1dg52DSK"
      }
    },
    {
      "cell_type": "code",
      "source": [
        "# Load and preprocess the data\n",
        "X_train = np.concatenate((X_train_1_sp1, X_train_1_sp2,X_train_1_sp3))\n",
        "y_train = np.concatenate((y_train_1_sp1, y_train_1_sp2,y_train_1_sp3))\n",
        "\n",
        "X_test = np.concatenate((X_test_1_sp1, X_test_1_sp2,X_test_1_sp3))\n",
        "y_test = np.concatenate((y_test_1_sp1, y_test_1_sp2,y_test_1_sp3))\n",
        "\n",
        "num_classes = len(set(y_train))\n",
        "y_train = to_categorical(y_train, num_classes)\n",
        "y_test = to_categorical(y_test, num_classes)"
      ],
      "metadata": {
        "id": "YcRVIFqPc0BE"
      },
      "execution_count": null,
      "outputs": []
    },
    {
      "cell_type": "markdown",
      "source": [
        "## **a) Design**"
      ],
      "metadata": {
        "id": "GpR2QGZFcp9G"
      }
    },
    {
      "cell_type": "markdown",
      "source": [
        "An FFNN is developed to solve the multi-class classification problem"
      ],
      "metadata": {
        "id": "7eopU1cI3aPm"
      }
    },
    {
      "cell_type": "markdown",
      "source": [
        "1. Start with a basic configuration: a single hidden layer network with enough neurons (1 and the most\n",
        "basic activation function. For training, set a fixed learning rate, the most basic optimizer, a small\n",
        "batch size and the most direct loss function. Tune the learning rate until you achieve convergence and\n",
        "a reasonable performance. You can use the accuracy for measuring performance.\n",
        "\n",
        "- Single hidden layer with 64 neurons used, 4 neurons reaching validation accuracy around 90% and 16 neurons reach 96% and 64 is reaching 98%\n",
        "\n",
        "- Smaller batch size causes higher time for training but the validation accuracy is higher. It is set as 16 for starting.\n",
        "\n",
        "- Both very low and very high learning rate have poor performance. Learning rate with the value 0.0001 gets 89% validation accuracy, learning rate with the value 0.1 causing model not to converge and the accuracy reach 90% but later decreases to 87%. Learning rate with the value 0.001 achieves convergence and reachs 98.7% validation accuracy"
      ],
      "metadata": {
        "id": "YF2_361aa-C1"
      }
    },
    {
      "cell_type": "code",
      "source": [
        "# Define the FFNN architecture\n",
        "model = Sequential()\n",
        "model.add(Dense(64, activation='relu', input_shape=(len(X_train[0]),)))\n",
        "model.add(Dense(num_classes, activation='softmax'))\n",
        "\n",
        "# Define the optimizer\n",
        "optimizer = Adam(learning_rate=0.001)\n",
        "\n",
        "# Compile the model\n",
        "model.compile(optimizer=optimizer, loss='categorical_crossentropy', metrics=['accuracy'])\n",
        "\n",
        "# Train the model\n",
        "model.fit(X_train, y_train, epochs=10, batch_size=16, validation_data=(X_test, y_test))"
      ],
      "metadata": {
        "id": "wOVsSRDUY4TB",
        "outputId": "1a4305a4-3446-4747-901b-4e6f9f382581",
        "colab": {
          "base_uri": "https://localhost:8080/"
        }
      },
      "execution_count": null,
      "outputs": [
        {
          "output_type": "stream",
          "name": "stdout",
          "text": [
            "Epoch 1/10\n",
            "470/470 [==============================] - 1s 2ms/step - loss: 0.5856 - accuracy: 0.8280 - val_loss: 0.3095 - val_accuracy: 0.9052\n",
            "Epoch 2/10\n",
            "470/470 [==============================] - 1s 2ms/step - loss: 0.2461 - accuracy: 0.9272 - val_loss: 0.1896 - val_accuracy: 0.9435\n",
            "Epoch 3/10\n",
            "470/470 [==============================] - 1s 2ms/step - loss: 0.1623 - accuracy: 0.9490 - val_loss: 0.1310 - val_accuracy: 0.9603\n",
            "Epoch 4/10\n",
            "470/470 [==============================] - 1s 2ms/step - loss: 0.1227 - accuracy: 0.9601 - val_loss: 0.1037 - val_accuracy: 0.9688\n",
            "Epoch 5/10\n",
            "470/470 [==============================] - 1s 3ms/step - loss: 0.1001 - accuracy: 0.9672 - val_loss: 0.0881 - val_accuracy: 0.9763\n",
            "Epoch 6/10\n",
            "470/470 [==============================] - 1s 2ms/step - loss: 0.0852 - accuracy: 0.9726 - val_loss: 0.0719 - val_accuracy: 0.9790\n",
            "Epoch 7/10\n",
            "470/470 [==============================] - 1s 2ms/step - loss: 0.0737 - accuracy: 0.9760 - val_loss: 0.0717 - val_accuracy: 0.9752\n",
            "Epoch 8/10\n",
            "470/470 [==============================] - 1s 2ms/step - loss: 0.0671 - accuracy: 0.9799 - val_loss: 0.0652 - val_accuracy: 0.9814\n",
            "Epoch 9/10\n",
            "470/470 [==============================] - 1s 2ms/step - loss: 0.0582 - accuracy: 0.9820 - val_loss: 0.0558 - val_accuracy: 0.9851\n",
            "Epoch 10/10\n",
            "470/470 [==============================] - 1s 2ms/step - loss: 0.0543 - accuracy: 0.9834 - val_loss: 0.0452 - val_accuracy: 0.9877\n"
          ]
        },
        {
          "output_type": "execute_result",
          "data": {
            "text/plain": [
              "<keras.callbacks.History at 0x7fd7dd4b6a60>"
            ]
          },
          "metadata": {},
          "execution_count": 106
        }
      ]
    },
    {
      "cell_type": "markdown",
      "source": [
        "2. Next, check whether a change in the activation function of the hidden layer neurons improve the\n",
        "classification performance. If that is the case, keep with the alternative activation function."
      ],
      "metadata": {
        "id": "STi_UuT6fG16"
      }
    },
    {
      "cell_type": "markdown",
      "source": [
        "- tanh: have very similar performance but a bit lower\n",
        "\n",
        "- sigmoid: have clearly worse performance\n",
        "\n",
        "- LeakyReLU: have very similar performance but a bit lower\n",
        "\n",
        "- ELU: also have very similar performance but a bit lower\n",
        "\n",
        "Since reLU had the best performance, we will keep it."
      ],
      "metadata": {
        "id": "Lni0HDM6gLYb"
      }
    },
    {
      "cell_type": "code",
      "source": [
        "# Define the FFNN architecture\n",
        "model = Sequential()\n",
        "model.add(Dense(64, activation='sigmoid', input_shape=(len(X_train[0]),)))\n",
        "model.add(Dense(num_classes, activation='softmax'))\n",
        "\n",
        "# Define the optimizer\n",
        "optimizer = Adam(learning_rate=0.001)\n",
        "\n",
        "# Compile the model\n",
        "model.compile(optimizer=optimizer, loss='categorical_crossentropy', metrics=['accuracy'])\n",
        "\n",
        "# Train the model\n",
        "model.fit(X_train, y_train, epochs=10, batch_size=16, validation_data=(X_test, y_test))"
      ],
      "metadata": {
        "id": "qLzOuGSLfes7",
        "outputId": "310e316d-72ed-4276-dc91-0fd694d4ad1f",
        "colab": {
          "base_uri": "https://localhost:8080/"
        }
      },
      "execution_count": null,
      "outputs": [
        {
          "output_type": "stream",
          "name": "stdout",
          "text": [
            "Epoch 1/10\n",
            "470/470 [==============================] - 2s 3ms/step - loss: 0.9770 - accuracy: 0.6987 - val_loss: 0.6220 - val_accuracy: 0.8485\n",
            "Epoch 2/10\n",
            "470/470 [==============================] - 1s 2ms/step - loss: 0.5078 - accuracy: 0.8497 - val_loss: 0.4347 - val_accuracy: 0.8586\n",
            "Epoch 3/10\n",
            "470/470 [==============================] - 1s 2ms/step - loss: 0.3962 - accuracy: 0.8702 - val_loss: 0.3604 - val_accuracy: 0.8740\n",
            "Epoch 4/10\n",
            "470/470 [==============================] - 1s 2ms/step - loss: 0.3422 - accuracy: 0.8800 - val_loss: 0.3195 - val_accuracy: 0.8881\n",
            "Epoch 5/10\n",
            "470/470 [==============================] - 1s 2ms/step - loss: 0.3046 - accuracy: 0.8953 - val_loss: 0.2826 - val_accuracy: 0.9044\n",
            "Epoch 6/10\n",
            "470/470 [==============================] - 1s 2ms/step - loss: 0.2731 - accuracy: 0.9075 - val_loss: 0.2558 - val_accuracy: 0.9105\n",
            "Epoch 7/10\n",
            "470/470 [==============================] - 1s 2ms/step - loss: 0.2455 - accuracy: 0.9160 - val_loss: 0.2340 - val_accuracy: 0.9230\n",
            "Epoch 8/10\n",
            "470/470 [==============================] - 1s 2ms/step - loss: 0.2229 - accuracy: 0.9262 - val_loss: 0.2141 - val_accuracy: 0.9297\n",
            "Epoch 9/10\n",
            "470/470 [==============================] - 1s 2ms/step - loss: 0.2029 - accuracy: 0.9324 - val_loss: 0.1889 - val_accuracy: 0.9411\n",
            "Epoch 10/10\n",
            "470/470 [==============================] - 1s 2ms/step - loss: 0.1848 - accuracy: 0.9402 - val_loss: 0.1765 - val_accuracy: 0.9446\n"
          ]
        },
        {
          "output_type": "execute_result",
          "data": {
            "text/plain": [
              "<keras.callbacks.History at 0x7fd7d38d2880>"
            ]
          },
          "metadata": {},
          "execution_count": 109
        }
      ]
    },
    {
      "cell_type": "markdown",
      "source": [
        "3. Try now with a dynamic learning rate and keep it if the training improves (or does not get worse)."
      ],
      "metadata": {
        "id": "tPGVn5RehX90"
      }
    },
    {
      "cell_type": "markdown",
      "source": [
        "Value of epoch is increased to 20 from 10 and patience set as 1 to give more opportunity for dynamic learning rate to get updated. It is observed that learning rate got updated several times and the performance is slightly improved."
      ],
      "metadata": {
        "id": "E2rb8-ssi3Gz"
      }
    },
    {
      "cell_type": "code",
      "source": [
        "# Define the FFNN architecture\n",
        "model = Sequential()\n",
        "model.add(Dense(64, activation='relu', input_shape=(len(X_train[0]),)))\n",
        "model.add(Dense(num_classes, activation='softmax'))\n",
        "\n",
        "# Define the callback\n",
        "reduce_lr = ReduceLROnPlateau(monitor='accuracy', factor=0.1, patience=1, verbose=1)\n",
        "\n",
        "# Define the optimizer\n",
        "optimizer = Adam(learning_rate=0.001)\n",
        "\n",
        "# Compile the model\n",
        "model.compile(optimizer=optimizer, loss='categorical_crossentropy', metrics=['accuracy'])\n",
        "\n",
        "# Train the model\n",
        "model.fit(X_train, y_train, epochs=20, batch_size=16, validation_data=(X_test, y_test), callbacks=[reduce_lr])"
      ],
      "metadata": {
        "id": "-77GVhj9hgtd",
        "outputId": "669fc4be-d4e9-414e-8592-0d2cd02c56fd",
        "colab": {
          "base_uri": "https://localhost:8080/"
        }
      },
      "execution_count": null,
      "outputs": [
        {
          "output_type": "stream",
          "name": "stdout",
          "text": [
            "Epoch 1/20\n",
            "470/470 [==============================] - 1s 2ms/step - loss: 0.6290 - accuracy: 0.8133 - val_loss: 0.3393 - val_accuracy: 0.8850 - lr: 0.0010\n",
            "Epoch 2/20\n",
            "470/470 [==============================] - 1s 2ms/step - loss: 0.2643 - accuracy: 0.9212 - val_loss: 0.2073 - val_accuracy: 0.9411 - lr: 0.0010\n",
            "Epoch 3/20\n",
            "470/470 [==============================] - 1s 2ms/step - loss: 0.1768 - accuracy: 0.9465 - val_loss: 0.1562 - val_accuracy: 0.9515 - lr: 0.0010\n",
            "Epoch 4/20\n",
            "470/470 [==============================] - 1s 2ms/step - loss: 0.1330 - accuracy: 0.9593 - val_loss: 0.1124 - val_accuracy: 0.9667 - lr: 0.0010\n",
            "Epoch 5/20\n",
            "470/470 [==============================] - 1s 2ms/step - loss: 0.1052 - accuracy: 0.9680 - val_loss: 0.0928 - val_accuracy: 0.9742 - lr: 0.0010\n",
            "Epoch 6/20\n",
            "470/470 [==============================] - 1s 2ms/step - loss: 0.0891 - accuracy: 0.9736 - val_loss: 0.0753 - val_accuracy: 0.9771 - lr: 0.0010\n",
            "Epoch 7/20\n",
            "470/470 [==============================] - 1s 2ms/step - loss: 0.0783 - accuracy: 0.9762 - val_loss: 0.0687 - val_accuracy: 0.9824 - lr: 0.0010\n",
            "Epoch 8/20\n",
            "470/470 [==============================] - 1s 2ms/step - loss: 0.0676 - accuracy: 0.9818 - val_loss: 0.0629 - val_accuracy: 0.9827 - lr: 0.0010\n",
            "Epoch 9/20\n",
            "470/470 [==============================] - 1s 2ms/step - loss: 0.0594 - accuracy: 0.9830 - val_loss: 0.0510 - val_accuracy: 0.9880 - lr: 0.0010\n",
            "Epoch 10/20\n",
            "470/470 [==============================] - 1s 2ms/step - loss: 0.0527 - accuracy: 0.9856 - val_loss: 0.0448 - val_accuracy: 0.9883 - lr: 0.0010\n",
            "Epoch 11/20\n",
            "470/470 [==============================] - 1s 2ms/step - loss: 0.0471 - accuracy: 0.9868 - val_loss: 0.0452 - val_accuracy: 0.9872 - lr: 0.0010\n",
            "Epoch 12/20\n",
            "470/470 [==============================] - 1s 2ms/step - loss: 0.0423 - accuracy: 0.9892 - val_loss: 0.0347 - val_accuracy: 0.9920 - lr: 0.0010\n",
            "Epoch 13/20\n",
            "470/470 [==============================] - 1s 2ms/step - loss: 0.0385 - accuracy: 0.9900 - val_loss: 0.0318 - val_accuracy: 0.9936 - lr: 0.0010\n",
            "Epoch 14/20\n",
            "470/470 [==============================] - ETA: 0s - loss: 0.0360 - accuracy: 0.9883\n",
            "Epoch 14: ReduceLROnPlateau reducing learning rate to 0.00010000000474974513.\n",
            "470/470 [==============================] - 1s 2ms/step - loss: 0.0360 - accuracy: 0.9883 - val_loss: 0.0290 - val_accuracy: 0.9928 - lr: 0.0010\n",
            "Epoch 15/20\n",
            "470/470 [==============================] - 1s 2ms/step - loss: 0.0277 - accuracy: 0.9941 - val_loss: 0.0264 - val_accuracy: 0.9955 - lr: 1.0000e-04\n",
            "Epoch 16/20\n",
            "470/470 [==============================] - 1s 2ms/step - loss: 0.0266 - accuracy: 0.9952 - val_loss: 0.0259 - val_accuracy: 0.9947 - lr: 1.0000e-04\n",
            "Epoch 17/20\n",
            "436/470 [==========================>...] - ETA: 0s - loss: 0.0265 - accuracy: 0.9950\n",
            "Epoch 17: ReduceLROnPlateau reducing learning rate to 1.0000000474974514e-05.\n",
            "470/470 [==============================] - 1s 2ms/step - loss: 0.0262 - accuracy: 0.9951 - val_loss: 0.0253 - val_accuracy: 0.9955 - lr: 1.0000e-04\n",
            "Epoch 18/20\n",
            "470/470 [==============================] - 1s 2ms/step - loss: 0.0253 - accuracy: 0.9956 - val_loss: 0.0251 - val_accuracy: 0.9955 - lr: 1.0000e-05\n",
            "Epoch 19/20\n",
            "442/470 [===========================>..] - ETA: 0s - loss: 0.0249 - accuracy: 0.9958\n",
            "Epoch 19: ReduceLROnPlateau reducing learning rate to 1.0000000656873453e-06.\n",
            "470/470 [==============================] - 1s 2ms/step - loss: 0.0252 - accuracy: 0.9956 - val_loss: 0.0251 - val_accuracy: 0.9955 - lr: 1.0000e-05\n",
            "Epoch 20/20\n",
            "431/470 [==========================>...] - ETA: 0s - loss: 0.0253 - accuracy: 0.9956\n",
            "Epoch 20: ReduceLROnPlateau reducing learning rate to 1.0000001111620805e-07.\n",
            "470/470 [==============================] - 1s 2ms/step - loss: 0.0251 - accuracy: 0.9956 - val_loss: 0.0250 - val_accuracy: 0.9957 - lr: 1.0000e-06\n"
          ]
        },
        {
          "output_type": "execute_result",
          "data": {
            "text/plain": [
              "<keras.callbacks.History at 0x7fd7d32e5280>"
            ]
          },
          "metadata": {},
          "execution_count": 114
        }
      ]
    },
    {
      "cell_type": "markdown",
      "source": [
        "4. Change to an alternative optimizer and keep it if the performance gets better"
      ],
      "metadata": {
        "id": "X91kGnjBkFTk"
      }
    },
    {
      "cell_type": "markdown",
      "source": [
        "- Stochastic Gradient Descent (SGD): Decreased the performance by 2-3%\n",
        "\n",
        "- Adagrad: Decreased permormance very much, it dropped more than 10%\n",
        "\n",
        "- Adadelta: Almost the same with Adam but lower for 1-2%\n",
        "\n",
        "- RMSprop: Almost identical performance but a little lower.\n",
        "\n",
        "Since there is no improvement by any of the alternative optimizers, Adam will be kept."
      ],
      "metadata": {
        "id": "wcDTgFi1kmGB"
      }
    },
    {
      "cell_type": "code",
      "source": [
        "# Define the FFNN architecture\n",
        "model = Sequential()\n",
        "model.add(Dense(64, activation='relu', input_shape=(len(X_train[0]),)))\n",
        "model.add(Dense(num_classes, activation='softmax'))\n",
        "\n",
        "# Define the callback\n",
        "reduce_lr = ReduceLROnPlateau(monitor='accuracy', factor=0.1, patience=1, verbose=1)\n",
        "\n",
        "# Change the optimizer\n",
        "optimizer = RMSprop(learning_rate=0.001, rho=0.9)\n",
        "\n",
        "# Compile the model\n",
        "model.compile(optimizer=optimizer, loss='categorical_crossentropy', metrics=['accuracy'])\n",
        "\n",
        "# Train the model\n",
        "model.fit(X_train, y_train, epochs=20, batch_size=16, validation_data=(X_test, y_test), callbacks=[reduce_lr])"
      ],
      "metadata": {
        "id": "5Bi0iTs8kNYY",
        "outputId": "e50fe21b-5b6c-4ced-c906-f18849536f23",
        "colab": {
          "base_uri": "https://localhost:8080/"
        }
      },
      "execution_count": null,
      "outputs": [
        {
          "output_type": "stream",
          "name": "stdout",
          "text": [
            "Epoch 1/20\n",
            "470/470 [==============================] - 1s 2ms/step - loss: 0.5677 - accuracy: 0.8276 - val_loss: 0.4025 - val_accuracy: 0.8618 - lr: 0.0010\n",
            "Epoch 2/20\n",
            "470/470 [==============================] - 1s 2ms/step - loss: 0.2772 - accuracy: 0.9061 - val_loss: 0.2496 - val_accuracy: 0.9180 - lr: 0.0010\n",
            "Epoch 3/20\n",
            "470/470 [==============================] - 1s 2ms/step - loss: 0.1982 - accuracy: 0.9350 - val_loss: 0.1697 - val_accuracy: 0.9411 - lr: 0.0010\n",
            "Epoch 4/20\n",
            "470/470 [==============================] - 1s 2ms/step - loss: 0.1495 - accuracy: 0.9530 - val_loss: 0.1469 - val_accuracy: 0.9507 - lr: 0.0010\n",
            "Epoch 5/20\n",
            "470/470 [==============================] - 1s 2ms/step - loss: 0.1211 - accuracy: 0.9627 - val_loss: 0.1289 - val_accuracy: 0.9603 - lr: 0.0010\n",
            "Epoch 6/20\n",
            "470/470 [==============================] - 1s 2ms/step - loss: 0.1029 - accuracy: 0.9658 - val_loss: 0.0895 - val_accuracy: 0.9704 - lr: 0.0010\n",
            "Epoch 7/20\n",
            "470/470 [==============================] - 1s 2ms/step - loss: 0.0902 - accuracy: 0.9696 - val_loss: 0.0867 - val_accuracy: 0.9702 - lr: 0.0010\n",
            "Epoch 8/20\n",
            "470/470 [==============================] - 1s 2ms/step - loss: 0.0786 - accuracy: 0.9759 - val_loss: 0.0730 - val_accuracy: 0.9771 - lr: 0.0010\n",
            "Epoch 9/20\n",
            "470/470 [==============================] - 1s 2ms/step - loss: 0.0723 - accuracy: 0.9766 - val_loss: 0.0640 - val_accuracy: 0.9814 - lr: 0.0010\n",
            "Epoch 10/20\n",
            "470/470 [==============================] - 1s 2ms/step - loss: 0.0653 - accuracy: 0.9803 - val_loss: 0.0551 - val_accuracy: 0.9862 - lr: 0.0010\n",
            "Epoch 11/20\n",
            "470/470 [==============================] - 1s 2ms/step - loss: 0.0589 - accuracy: 0.9804 - val_loss: 0.0485 - val_accuracy: 0.9867 - lr: 0.0010\n",
            "Epoch 12/20\n",
            "470/470 [==============================] - 1s 2ms/step - loss: 0.0545 - accuracy: 0.9832 - val_loss: 0.0477 - val_accuracy: 0.9854 - lr: 0.0010\n",
            "Epoch 13/20\n",
            "455/470 [============================>.] - ETA: 0s - loss: 0.0516 - accuracy: 0.9830\n",
            "Epoch 13: ReduceLROnPlateau reducing learning rate to 0.00010000000474974513.\n",
            "470/470 [==============================] - 1s 2ms/step - loss: 0.0516 - accuracy: 0.9830 - val_loss: 0.0450 - val_accuracy: 0.9859 - lr: 0.0010\n",
            "Epoch 14/20\n",
            "470/470 [==============================] - 1s 2ms/step - loss: 0.0429 - accuracy: 0.9871 - val_loss: 0.0406 - val_accuracy: 0.9877 - lr: 1.0000e-04\n",
            "Epoch 15/20\n",
            "470/470 [==============================] - 1s 2ms/step - loss: 0.0412 - accuracy: 0.9881 - val_loss: 0.0398 - val_accuracy: 0.9883 - lr: 1.0000e-04\n",
            "Epoch 16/20\n",
            "431/470 [==========================>...] - ETA: 0s - loss: 0.0404 - accuracy: 0.9884\n",
            "Epoch 16: ReduceLROnPlateau reducing learning rate to 1.0000000474974514e-05.\n",
            "470/470 [==============================] - 1s 2ms/step - loss: 0.0406 - accuracy: 0.9881 - val_loss: 0.0400 - val_accuracy: 0.9875 - lr: 1.0000e-04\n",
            "Epoch 17/20\n",
            "437/470 [==========================>...] - ETA: 0s - loss: 0.0397 - accuracy: 0.9883\n",
            "Epoch 17: ReduceLROnPlateau reducing learning rate to 1.0000000656873453e-06.\n",
            "470/470 [==============================] - 1s 2ms/step - loss: 0.0398 - accuracy: 0.9880 - val_loss: 0.0394 - val_accuracy: 0.9883 - lr: 1.0000e-05\n",
            "Epoch 18/20\n",
            "470/470 [==============================] - 1s 2ms/step - loss: 0.0394 - accuracy: 0.9883 - val_loss: 0.0394 - val_accuracy: 0.9883 - lr: 1.0000e-06\n",
            "Epoch 19/20\n",
            "444/470 [===========================>..] - ETA: 0s - loss: 0.0399 - accuracy: 0.9880\n",
            "Epoch 19: ReduceLROnPlateau reducing learning rate to 1.0000001111620805e-07.\n",
            "470/470 [==============================] - 1s 2ms/step - loss: 0.0394 - accuracy: 0.9883 - val_loss: 0.0394 - val_accuracy: 0.9883 - lr: 1.0000e-06\n",
            "Epoch 20/20\n",
            "438/470 [==========================>...] - ETA: 0s - loss: 0.0388 - accuracy: 0.9886\n",
            "Epoch 20: ReduceLROnPlateau reducing learning rate to 1.000000082740371e-08.\n",
            "470/470 [==============================] - 1s 2ms/step - loss: 0.0394 - accuracy: 0.9883 - val_loss: 0.0394 - val_accuracy: 0.9883 - lr: 1.0000e-07\n"
          ]
        },
        {
          "output_type": "execute_result",
          "data": {
            "text/plain": [
              "<keras.callbacks.History at 0x7fd7d3629b20>"
            ]
          },
          "metadata": {},
          "execution_count": 111
        }
      ]
    },
    {
      "cell_type": "markdown",
      "source": [
        "5. Switch to another loss function to check whether the performance level increases."
      ],
      "metadata": {
        "id": "NzFcSHqElxUI"
      }
    },
    {
      "cell_type": "markdown",
      "source": [
        "None of the other loss functions did not improve the performance."
      ],
      "metadata": {
        "id": "sB0YXR4_mgGJ"
      }
    },
    {
      "cell_type": "code",
      "source": [
        "# Define the FFNN architecture\n",
        "model = Sequential()\n",
        "model.add(Dense(64, activation='relu', input_shape=(len(X_train[0]),)))\n",
        "model.add(Dense(num_classes, activation='softmax'))\n",
        "\n",
        "# Define the callback\n",
        "reduce_lr = ReduceLROnPlateau(monitor='accuracy', factor=0.1, patience=1, verbose=1)\n",
        "\n",
        "# Define the optimizer\n",
        "optimizer = Adam(learning_rate=0.001)\n",
        "\n",
        "# Changing the loss function\n",
        "model.compile(optimizer=optimizer, loss='mean_squared_error', metrics=['accuracy'])\n",
        "\n",
        "# Train the model\n",
        "model.fit(X_train, y_train, epochs=20, batch_size=16, validation_data=(X_test, y_test), callbacks=[reduce_lr])"
      ],
      "metadata": {
        "id": "VXJwexsil8gz",
        "outputId": "886bf4ca-a3e1-45b9-aed9-8b57e21da851",
        "colab": {
          "base_uri": "https://localhost:8080/"
        }
      },
      "execution_count": null,
      "outputs": [
        {
          "output_type": "stream",
          "name": "stdout",
          "text": [
            "Epoch 1/20\n",
            "470/470 [==============================] - 2s 3ms/step - loss: 0.0586 - accuracy: 0.8300 - val_loss: 0.0344 - val_accuracy: 0.8991 - lr: 0.0010\n",
            "Epoch 2/20\n",
            "470/470 [==============================] - 1s 2ms/step - loss: 0.0253 - accuracy: 0.9296 - val_loss: 0.0197 - val_accuracy: 0.9462 - lr: 0.0010\n",
            "Epoch 3/20\n",
            "470/470 [==============================] - 1s 2ms/step - loss: 0.0176 - accuracy: 0.9502 - val_loss: 0.0146 - val_accuracy: 0.9630 - lr: 0.0010\n",
            "Epoch 4/20\n",
            "470/470 [==============================] - 1s 2ms/step - loss: 0.0137 - accuracy: 0.9623 - val_loss: 0.0134 - val_accuracy: 0.9630 - lr: 0.0010\n",
            "Epoch 5/20\n",
            "470/470 [==============================] - 1s 2ms/step - loss: 0.0117 - accuracy: 0.9674 - val_loss: 0.0107 - val_accuracy: 0.9686 - lr: 0.0010\n",
            "Epoch 6/20\n",
            "470/470 [==============================] - 1s 2ms/step - loss: 0.0101 - accuracy: 0.9711 - val_loss: 0.0083 - val_accuracy: 0.9798 - lr: 0.0010\n",
            "Epoch 7/20\n",
            "470/470 [==============================] - 1s 2ms/step - loss: 0.0087 - accuracy: 0.9771 - val_loss: 0.0079 - val_accuracy: 0.9760 - lr: 0.0010\n",
            "Epoch 8/20\n",
            "470/470 [==============================] - 1s 2ms/step - loss: 0.0075 - accuracy: 0.9804 - val_loss: 0.0067 - val_accuracy: 0.9819 - lr: 0.0010\n",
            "Epoch 9/20\n",
            "470/470 [==============================] - 1s 2ms/step - loss: 0.0067 - accuracy: 0.9820 - val_loss: 0.0062 - val_accuracy: 0.9851 - lr: 0.0010\n",
            "Epoch 10/20\n",
            "470/470 [==============================] - 1s 2ms/step - loss: 0.0060 - accuracy: 0.9848 - val_loss: 0.0061 - val_accuracy: 0.9859 - lr: 0.0010\n",
            "Epoch 11/20\n",
            "470/470 [==============================] - 1s 2ms/step - loss: 0.0055 - accuracy: 0.9858 - val_loss: 0.0053 - val_accuracy: 0.9856 - lr: 0.0010\n",
            "Epoch 12/20\n",
            "470/470 [==============================] - 1s 2ms/step - loss: 0.0052 - accuracy: 0.9866 - val_loss: 0.0044 - val_accuracy: 0.9907 - lr: 0.0010\n",
            "Epoch 13/20\n",
            "470/470 [==============================] - 1s 2ms/step - loss: 0.0046 - accuracy: 0.9883 - val_loss: 0.0036 - val_accuracy: 0.9923 - lr: 0.0010\n",
            "Epoch 14/20\n",
            "470/470 [==============================] - 1s 2ms/step - loss: 0.0043 - accuracy: 0.9888 - val_loss: 0.0035 - val_accuracy: 0.9933 - lr: 0.0010\n",
            "Epoch 15/20\n",
            "470/470 [==============================] - 1s 2ms/step - loss: 0.0039 - accuracy: 0.9903 - val_loss: 0.0031 - val_accuracy: 0.9936 - lr: 0.0010\n",
            "Epoch 16/20\n",
            "470/470 [==============================] - 1s 2ms/step - loss: 0.0034 - accuracy: 0.9925 - val_loss: 0.0031 - val_accuracy: 0.9939 - lr: 0.0010\n",
            "Epoch 17/20\n",
            "460/470 [============================>.] - ETA: 0s - loss: 0.0034 - accuracy: 0.9916\n",
            "Epoch 17: ReduceLROnPlateau reducing learning rate to 0.00010000000474974513.\n",
            "470/470 [==============================] - 1s 3ms/step - loss: 0.0034 - accuracy: 0.9916 - val_loss: 0.0032 - val_accuracy: 0.9928 - lr: 0.0010\n",
            "Epoch 18/20\n",
            "470/470 [==============================] - 1s 2ms/step - loss: 0.0026 - accuracy: 0.9951 - val_loss: 0.0023 - val_accuracy: 0.9957 - lr: 1.0000e-04\n",
            "Epoch 19/20\n",
            "470/470 [==============================] - 1s 3ms/step - loss: 0.0024 - accuracy: 0.9955 - val_loss: 0.0023 - val_accuracy: 0.9955 - lr: 1.0000e-04\n",
            "Epoch 20/20\n",
            "456/470 [============================>.] - ETA: 0s - loss: 0.0024 - accuracy: 0.9952\n",
            "Epoch 20: ReduceLROnPlateau reducing learning rate to 1.0000000474974514e-05.\n",
            "470/470 [==============================] - 1s 2ms/step - loss: 0.0023 - accuracy: 0.9953 - val_loss: 0.0022 - val_accuracy: 0.9957 - lr: 1.0000e-04\n"
          ]
        },
        {
          "output_type": "execute_result",
          "data": {
            "text/plain": [
              "<keras.callbacks.History at 0x7fd7d33e18b0>"
            ]
          },
          "metadata": {},
          "execution_count": 113
        }
      ]
    },
    {
      "cell_type": "markdown",
      "source": [
        "6. Add a second hidden layer with a reasonable number of neurons and check whether a performance gain\n",
        "is obtained. If that is the case, keep the second layer."
      ],
      "metadata": {
        "id": "Eze2O2Memo9S"
      }
    },
    {
      "cell_type": "markdown",
      "source": [
        "There is no improvement in the performance when having 2nd hidden layer, because of that 2nd layer is not added."
      ],
      "metadata": {
        "id": "5MreSYz3nObG"
      }
    },
    {
      "cell_type": "code",
      "source": [
        "# Define the FFNN architecture\n",
        "model = Sequential()\n",
        "model.add(Dense(64, activation='relu', input_shape=(len(X_train[0]),)))\n",
        "model.add(Dense(64, activation='relu'))\n",
        "model.add(Dense(num_classes, activation='softmax'))\n",
        "\n",
        "# Define the callback\n",
        "reduce_lr = ReduceLROnPlateau(monitor='val_accuracy', factor=0.1, patience=1, verbose=1)\n",
        "\n",
        "# Define the optimizer\n",
        "optimizer = Adam(learning_rate=0.001)\n",
        "\n",
        "# Compile the model\n",
        "model.compile(optimizer=optimizer, loss='categorical_crossentropy', metrics=['accuracy'])\n",
        "\n",
        "# Train the model\n",
        "model.fit(X_train, y_train, epochs=20, batch_size=16, validation_data=(X_test, y_test), callbacks=[reduce_lr])"
      ],
      "metadata": {
        "id": "MU1_SRvjmlsD",
        "outputId": "2f609f62-cecf-4fa0-81e9-33946ca6caf6",
        "colab": {
          "base_uri": "https://localhost:8080/"
        }
      },
      "execution_count": null,
      "outputs": [
        {
          "output_type": "stream",
          "name": "stdout",
          "text": [
            "Epoch 1/20\n",
            "470/470 [==============================] - 1s 2ms/step - loss: 0.4749 - accuracy: 0.8466 - val_loss: 0.2076 - val_accuracy: 0.9348 - lr: 0.0010\n",
            "Epoch 2/20\n",
            "470/470 [==============================] - 1s 2ms/step - loss: 0.1705 - accuracy: 0.9423 - val_loss: 0.1419 - val_accuracy: 0.9470 - lr: 0.0010\n",
            "Epoch 3/20\n",
            "470/470 [==============================] - 1s 2ms/step - loss: 0.1148 - accuracy: 0.9589 - val_loss: 0.1219 - val_accuracy: 0.9521 - lr: 0.0010\n",
            "Epoch 4/20\n",
            "470/470 [==============================] - 1s 3ms/step - loss: 0.0882 - accuracy: 0.9691 - val_loss: 0.0756 - val_accuracy: 0.9731 - lr: 0.0010\n",
            "Epoch 5/20\n",
            "470/470 [==============================] - ETA: 0s - loss: 0.0711 - accuracy: 0.9766\n",
            "Epoch 5: ReduceLROnPlateau reducing learning rate to 0.00010000000474974513.\n",
            "470/470 [==============================] - 1s 2ms/step - loss: 0.0711 - accuracy: 0.9766 - val_loss: 0.1508 - val_accuracy: 0.9529 - lr: 0.0010\n",
            "Epoch 6/20\n",
            "470/470 [==============================] - 1s 3ms/step - loss: 0.0522 - accuracy: 0.9852 - val_loss: 0.0447 - val_accuracy: 0.9870 - lr: 1.0000e-04\n",
            "Epoch 7/20\n",
            "470/470 [==============================] - 1s 2ms/step - loss: 0.0438 - accuracy: 0.9874 - val_loss: 0.0418 - val_accuracy: 0.9885 - lr: 1.0000e-04\n",
            "Epoch 8/20\n",
            "470/470 [==============================] - 1s 2ms/step - loss: 0.0416 - accuracy: 0.9874 - val_loss: 0.0415 - val_accuracy: 0.9888 - lr: 1.0000e-04\n",
            "Epoch 9/20\n",
            "463/470 [============================>.] - ETA: 0s - loss: 0.0405 - accuracy: 0.9880\n",
            "Epoch 9: ReduceLROnPlateau reducing learning rate to 1.0000000474974514e-05.\n",
            "470/470 [==============================] - 1s 2ms/step - loss: 0.0405 - accuracy: 0.9880 - val_loss: 0.0379 - val_accuracy: 0.9888 - lr: 1.0000e-04\n",
            "Epoch 10/20\n",
            "470/470 [==============================] - 1s 2ms/step - loss: 0.0378 - accuracy: 0.9892 - val_loss: 0.0375 - val_accuracy: 0.9896 - lr: 1.0000e-05\n",
            "Epoch 11/20\n",
            "439/470 [===========================>..] - ETA: 0s - loss: 0.0382 - accuracy: 0.9890\n",
            "Epoch 11: ReduceLROnPlateau reducing learning rate to 1.0000000656873453e-06.\n",
            "470/470 [==============================] - 1s 2ms/step - loss: 0.0376 - accuracy: 0.9893 - val_loss: 0.0373 - val_accuracy: 0.9891 - lr: 1.0000e-05\n",
            "Epoch 12/20\n",
            "468/470 [============================>.] - ETA: 0s - loss: 0.0373 - accuracy: 0.9890\n",
            "Epoch 12: ReduceLROnPlateau reducing learning rate to 1.0000001111620805e-07.\n",
            "470/470 [==============================] - 1s 2ms/step - loss: 0.0373 - accuracy: 0.9891 - val_loss: 0.0372 - val_accuracy: 0.9891 - lr: 1.0000e-06\n",
            "Epoch 13/20\n",
            "470/470 [==============================] - ETA: 0s - loss: 0.0372 - accuracy: 0.9891\n",
            "Epoch 13: ReduceLROnPlateau reducing learning rate to 1.000000082740371e-08.\n",
            "470/470 [==============================] - 1s 2ms/step - loss: 0.0372 - accuracy: 0.9891 - val_loss: 0.0372 - val_accuracy: 0.9891 - lr: 1.0000e-07\n",
            "Epoch 14/20\n",
            "464/470 [============================>.] - ETA: 0s - loss: 0.0374 - accuracy: 0.9891\n",
            "Epoch 14: ReduceLROnPlateau reducing learning rate to 1.000000082740371e-09.\n",
            "470/470 [==============================] - 1s 2ms/step - loss: 0.0372 - accuracy: 0.9891 - val_loss: 0.0372 - val_accuracy: 0.9891 - lr: 1.0000e-08\n",
            "Epoch 15/20\n",
            "459/470 [============================>.] - ETA: 0s - loss: 0.0374 - accuracy: 0.9890\n",
            "Epoch 15: ReduceLROnPlateau reducing learning rate to 1.000000082740371e-10.\n",
            "470/470 [==============================] - 1s 2ms/step - loss: 0.0372 - accuracy: 0.9891 - val_loss: 0.0372 - val_accuracy: 0.9891 - lr: 1.0000e-09\n",
            "Epoch 16/20\n",
            "456/470 [============================>.] - ETA: 0s - loss: 0.0374 - accuracy: 0.9889\n",
            "Epoch 16: ReduceLROnPlateau reducing learning rate to 1.000000082740371e-11.\n",
            "470/470 [==============================] - 1s 2ms/step - loss: 0.0372 - accuracy: 0.9891 - val_loss: 0.0372 - val_accuracy: 0.9891 - lr: 1.0000e-10\n",
            "Epoch 17/20\n",
            "440/470 [===========================>..] - ETA: 0s - loss: 0.0364 - accuracy: 0.9893\n",
            "Epoch 17: ReduceLROnPlateau reducing learning rate to 1.000000082740371e-12.\n",
            "470/470 [==============================] - 1s 2ms/step - loss: 0.0372 - accuracy: 0.9891 - val_loss: 0.0372 - val_accuracy: 0.9891 - lr: 1.0000e-11\n",
            "Epoch 18/20\n",
            "457/470 [============================>.] - ETA: 0s - loss: 0.0372 - accuracy: 0.9892\n",
            "Epoch 18: ReduceLROnPlateau reducing learning rate to 1.0000001044244145e-13.\n",
            "470/470 [==============================] - 1s 2ms/step - loss: 0.0372 - accuracy: 0.9891 - val_loss: 0.0372 - val_accuracy: 0.9891 - lr: 1.0000e-12\n",
            "Epoch 19/20\n",
            "435/470 [==========================>...] - ETA: 0s - loss: 0.0377 - accuracy: 0.9886\n",
            "Epoch 19: ReduceLROnPlateau reducing learning rate to 1.0000001179769417e-14.\n",
            "470/470 [==============================] - 1s 2ms/step - loss: 0.0372 - accuracy: 0.9891 - val_loss: 0.0372 - val_accuracy: 0.9891 - lr: 1.0000e-13\n",
            "Epoch 20/20\n",
            "468/470 [============================>.] - ETA: 0s - loss: 0.0372 - accuracy: 0.9890\n",
            "Epoch 20: ReduceLROnPlateau reducing learning rate to 1.0000001518582595e-15.\n",
            "470/470 [==============================] - 1s 2ms/step - loss: 0.0372 - accuracy: 0.9891 - val_loss: 0.0372 - val_accuracy: 0.9891 - lr: 1.0000e-14\n"
          ]
        },
        {
          "output_type": "execute_result",
          "data": {
            "text/plain": [
              "<keras.callbacks.History at 0x7fd7cbfa5430>"
            ]
          },
          "metadata": {},
          "execution_count": 117
        }
      ]
    },
    {
      "cell_type": "markdown",
      "source": [
        "7. Increase the batch size. You should observe that the training time gets shorter and keep it if your\n",
        "performance does not decrease"
      ],
      "metadata": {
        "id": "UVKSR3LNnhgi"
      }
    },
    {
      "cell_type": "markdown",
      "source": [
        "Batch size increased from 16 to 32. Altough increasing the batch size causes around 1-2% decrease in the performance. Training time gets much shorter. However, since validation accuracy is decreasing even for batch size value of 24, the batch size kept as 16."
      ],
      "metadata": {
        "id": "zE2baKsunqWt"
      }
    },
    {
      "cell_type": "code",
      "source": [
        "# Define the FFNN architecture\n",
        "model = Sequential()\n",
        "model.add(Dense(64, activation='relu', input_shape=(len(X_train[0]),)))\n",
        "model.add(Dense(num_classes, activation='softmax'))\n",
        "\n",
        "# Define the callback\n",
        "reduce_lr = ReduceLROnPlateau(monitor='val_accuracy', factor=0.1, patience=1, verbose=1)\n",
        "\n",
        "# Define the optimizer\n",
        "optimizer = Adam(learning_rate=0.001)\n",
        "\n",
        "# Compile the model\n",
        "model.compile(optimizer=optimizer, loss='categorical_crossentropy', metrics=['accuracy'])\n",
        "\n",
        "# Train the model\n",
        "model.fit(X_train, y_train, epochs=20, batch_size=32, validation_data=(X_test, y_test), callbacks=[reduce_lr])"
      ],
      "metadata": {
        "id": "2xeg6jUeneGn",
        "outputId": "a63b2323-76a8-491f-8fa5-24399d3f922e",
        "colab": {
          "base_uri": "https://localhost:8080/"
        }
      },
      "execution_count": null,
      "outputs": [
        {
          "output_type": "stream",
          "name": "stdout",
          "text": [
            "Epoch 1/20\n",
            "235/235 [==============================] - 2s 7ms/step - loss: 0.7250 - accuracy: 0.7864 - val_loss: 0.3909 - val_accuracy: 0.8860 - lr: 0.0010\n",
            "Epoch 2/20\n",
            "235/235 [==============================] - 1s 2ms/step - loss: 0.3195 - accuracy: 0.9091 - val_loss: 0.2530 - val_accuracy: 0.9318 - lr: 0.0010\n",
            "Epoch 3/20\n",
            "235/235 [==============================] - 0s 2ms/step - loss: 0.2239 - accuracy: 0.9385 - val_loss: 0.1888 - val_accuracy: 0.9443 - lr: 0.0010\n",
            "Epoch 4/20\n",
            "235/235 [==============================] - 0s 2ms/step - loss: 0.1739 - accuracy: 0.9493 - val_loss: 0.1526 - val_accuracy: 0.9577 - lr: 0.0010\n",
            "Epoch 5/20\n",
            "235/235 [==============================] - 1s 2ms/step - loss: 0.1424 - accuracy: 0.9562 - val_loss: 0.1278 - val_accuracy: 0.9595 - lr: 0.0010\n",
            "Epoch 6/20\n",
            "235/235 [==============================] - 0s 2ms/step - loss: 0.1205 - accuracy: 0.9651 - val_loss: 0.1194 - val_accuracy: 0.9606 - lr: 0.0010\n",
            "Epoch 7/20\n",
            "235/235 [==============================] - 0s 2ms/step - loss: 0.1055 - accuracy: 0.9682 - val_loss: 0.0922 - val_accuracy: 0.9720 - lr: 0.0010\n",
            "Epoch 8/20\n",
            "198/235 [========================>.....] - ETA: 0s - loss: 0.0938 - accuracy: 0.9735\n",
            "Epoch 8: ReduceLROnPlateau reducing learning rate to 0.00010000000474974513.\n",
            "235/235 [==============================] - 0s 2ms/step - loss: 0.0932 - accuracy: 0.9736 - val_loss: 0.0878 - val_accuracy: 0.9712 - lr: 0.0010\n",
            "Epoch 9/20\n",
            "235/235 [==============================] - 0s 2ms/step - loss: 0.0819 - accuracy: 0.9755 - val_loss: 0.0798 - val_accuracy: 0.9784 - lr: 1.0000e-04\n",
            "Epoch 10/20\n",
            "235/235 [==============================] - 0s 2ms/step - loss: 0.0798 - accuracy: 0.9774 - val_loss: 0.0783 - val_accuracy: 0.9792 - lr: 1.0000e-04\n",
            "Epoch 11/20\n",
            "235/235 [==============================] - 0s 2ms/step - loss: 0.0786 - accuracy: 0.9787 - val_loss: 0.0776 - val_accuracy: 0.9806 - lr: 1.0000e-04\n",
            "Epoch 12/20\n",
            "200/235 [========================>.....] - ETA: 0s - loss: 0.0777 - accuracy: 0.9800\n",
            "Epoch 12: ReduceLROnPlateau reducing learning rate to 1.0000000474974514e-05.\n",
            "235/235 [==============================] - 0s 2ms/step - loss: 0.0776 - accuracy: 0.9791 - val_loss: 0.0765 - val_accuracy: 0.9795 - lr: 1.0000e-04\n",
            "Epoch 13/20\n",
            "213/235 [==========================>...] - ETA: 0s - loss: 0.0768 - accuracy: 0.9796\n",
            "Epoch 13: ReduceLROnPlateau reducing learning rate to 1.0000000656873453e-06.\n",
            "235/235 [==============================] - 0s 2ms/step - loss: 0.0764 - accuracy: 0.9795 - val_loss: 0.0762 - val_accuracy: 0.9795 - lr: 1.0000e-05\n",
            "Epoch 14/20\n",
            "224/235 [===========================>..] - ETA: 0s - loss: 0.0762 - accuracy: 0.9796\n",
            "Epoch 14: ReduceLROnPlateau reducing learning rate to 1.0000001111620805e-07.\n",
            "235/235 [==============================] - 1s 2ms/step - loss: 0.0762 - accuracy: 0.9798 - val_loss: 0.0762 - val_accuracy: 0.9798 - lr: 1.0000e-06\n",
            "Epoch 15/20\n",
            "235/235 [==============================] - ETA: 0s - loss: 0.0762 - accuracy: 0.9798\n",
            "Epoch 15: ReduceLROnPlateau reducing learning rate to 1.000000082740371e-08.\n",
            "235/235 [==============================] - 1s 2ms/step - loss: 0.0762 - accuracy: 0.9798 - val_loss: 0.0762 - val_accuracy: 0.9803 - lr: 1.0000e-07\n",
            "Epoch 16/20\n",
            "227/235 [===========================>..] - ETA: 0s - loss: 0.0762 - accuracy: 0.9800\n",
            "Epoch 16: ReduceLROnPlateau reducing learning rate to 1.000000082740371e-09.\n",
            "235/235 [==============================] - 1s 2ms/step - loss: 0.0762 - accuracy: 0.9803 - val_loss: 0.0762 - val_accuracy: 0.9803 - lr: 1.0000e-08\n",
            "Epoch 17/20\n",
            "235/235 [==============================] - ETA: 0s - loss: 0.0762 - accuracy: 0.9803\n",
            "Epoch 17: ReduceLROnPlateau reducing learning rate to 1.000000082740371e-10.\n",
            "235/235 [==============================] - 1s 2ms/step - loss: 0.0762 - accuracy: 0.9803 - val_loss: 0.0762 - val_accuracy: 0.9803 - lr: 1.0000e-09\n",
            "Epoch 18/20\n",
            "219/235 [==========================>...] - ETA: 0s - loss: 0.0762 - accuracy: 0.9800\n",
            "Epoch 18: ReduceLROnPlateau reducing learning rate to 1.000000082740371e-11.\n",
            "235/235 [==============================] - 1s 2ms/step - loss: 0.0762 - accuracy: 0.9803 - val_loss: 0.0762 - val_accuracy: 0.9803 - lr: 1.0000e-10\n",
            "Epoch 19/20\n",
            "228/235 [============================>.] - ETA: 0s - loss: 0.0755 - accuracy: 0.9805\n",
            "Epoch 19: ReduceLROnPlateau reducing learning rate to 1.000000082740371e-12.\n",
            "235/235 [==============================] - 1s 3ms/step - loss: 0.0762 - accuracy: 0.9803 - val_loss: 0.0762 - val_accuracy: 0.9803 - lr: 1.0000e-11\n",
            "Epoch 20/20\n",
            "211/235 [=========================>....] - ETA: 0s - loss: 0.0753 - accuracy: 0.9803\n",
            "Epoch 20: ReduceLROnPlateau reducing learning rate to 1.0000001044244145e-13.\n",
            "235/235 [==============================] - 1s 2ms/step - loss: 0.0762 - accuracy: 0.9803 - val_loss: 0.0762 - val_accuracy: 0.9803 - lr: 1.0000e-12\n"
          ]
        },
        {
          "output_type": "execute_result",
          "data": {
            "text/plain": [
              "<keras.callbacks.History at 0x7fd7cbe2a100>"
            ]
          },
          "metadata": {},
          "execution_count": 118
        }
      ]
    },
    {
      "cell_type": "markdown",
      "source": [
        "## **b) Evaluate**"
      ],
      "metadata": {
        "id": "0vJr_DWxpD29"
      }
    },
    {
      "cell_type": "markdown",
      "source": [
        "Defining functions"
      ],
      "metadata": {
        "id": "N5-BR-99dA7V"
      }
    },
    {
      "cell_type": "code",
      "source": [
        "def plot_training_history(history):\n",
        "    # Create a figure with two subplots\n",
        "    fig, (ax1, ax2) = plt.subplots(1, 2, figsize=(12, 4))\n",
        "\n",
        "    # Plot the training and validation loss in the first subplot\n",
        "    ax1.plot(history.history['loss'])\n",
        "    ax1.plot(history.history['val_loss'])\n",
        "    ax1.set_title('Model loss')\n",
        "    ax1.set_ylabel('Loss')\n",
        "    ax1.set_xlabel('Epoch')\n",
        "    ax1.legend(['Train', 'Validation'], loc='upper right')\n",
        "\n",
        "    # Plot the training and validation accuracy in the second subplot\n",
        "    ax2.plot(history.history['accuracy'])\n",
        "    ax2.plot(history.history['val_accuracy'])\n",
        "    ax2.set_title('Model accuracy')\n",
        "    ax2.set_ylabel('Accuracy')\n",
        "    ax2.set_xlabel('Epoch')\n",
        "    ax2.legend(['Train', 'Validation'], loc='lower right')\n",
        "    plt.show()\n"
      ],
      "metadata": {
        "id": "N2DI2q_Bww1m"
      },
      "execution_count": null,
      "outputs": []
    },
    {
      "cell_type": "code",
      "source": [
        "def create_and_train_FFNN(X_train, y_train, X_test, y_test, num_classes):\n",
        "    # Define the FFNN architecture\n",
        "    model = Sequential()\n",
        "    model.add(Dense(64, activation='relu', input_shape=(len(X_train[0]),)))\n",
        "    model.add(Dense(num_classes, activation='softmax'))\n",
        "\n",
        "    # Define the callback\n",
        "    reduce_lr = ReduceLROnPlateau(monitor='val_accuracy', factor=0.1, patience=1, verbose=0)\n",
        "\n",
        "    # Define the optimizer\n",
        "    optimizer = Adam(learning_rate=0.001)\n",
        "\n",
        "    # Compile the model\n",
        "    model.compile(optimizer=optimizer, loss='categorical_crossentropy', metrics=['accuracy'])\n",
        "\n",
        "    # Train the model and store the training history\n",
        "    history = model.fit(X_train, y_train, epochs=20, batch_size=16, validation_data=(X_test, y_test), callbacks=[reduce_lr], verbose=0)\n",
        "\n",
        "    return model, history"
      ],
      "metadata": {
        "id": "bLaEqnG6xZ7B"
      },
      "execution_count": null,
      "outputs": []
    },
    {
      "cell_type": "code",
      "source": [
        "def plot_confusion_matrix(y_true, y_pred, classes, cmap):\n",
        "    \"\"\"\n",
        "    Plot a confusion matrix using seaborn's heatmap function.\n",
        "    \n",
        "    Parameters\n",
        "    ----------\n",
        "    y_true : numpy array\n",
        "        1D array of true class labels.\n",
        "    y_pred : numpy array\n",
        "        1D array of predicted class labels.\n",
        "    classes : list\n",
        "        List of class labels in the order they appear in the confusion matrix.\n",
        "    cmap : str\n",
        "        Colormap to use for the plot. \n",
        "        \n",
        "    \"\"\"\n",
        "    # Generate a confusion matrix\n",
        "    confusion_mat = confusion_matrix(y_true, y_pred)\n",
        "\n",
        "    # Create a figure and axis\n",
        "    fig, ax = plt.subplots(figsize=(10, 8))\n",
        "\n",
        "    # Use seaborn's heatmap function to create a more professional-looking plot\n",
        "    sns.heatmap(confusion_mat, annot=True, fmt='d', cmap=cmap, \n",
        "                xticklabels=classes, yticklabels=classes, ax=ax)\n",
        "\n",
        "    # Add labels for the x and y axes\n",
        "    ax.set_xlabel('Predicted', fontsize=14)\n",
        "    ax.set_ylabel('True', fontsize=14)\n",
        "\n",
        "    # Add a title\n",
        "    ax.set_title('Confusion Matrix', fontsize=18)\n",
        "\n",
        "    # Show the plot\n",
        "    plt.show()\n"
      ],
      "metadata": {
        "id": "aub1X_auc-FR"
      },
      "execution_count": null,
      "outputs": []
    },
    {
      "cell_type": "code",
      "source": [
        "def evaluate_model(y_true, y_pred):\n",
        "    \"\"\"\n",
        "    Calculate and print evaluation metrics for a machine learning model.\n",
        "    \n",
        "    Parameters\n",
        "    ----------\n",
        "    y_true : numpy array\n",
        "        1D array of true class labels.\n",
        "    y_pred : numpy array\n",
        "        1D array of predicted class labels.\n",
        "    \"\"\"\n",
        "    y_true = np.round(y_true)\n",
        "    y_pred = np.round(y_pred)\n",
        "\n",
        "    # Calculate evaluation metrics\n",
        "    accuracy = accuracy_score(y_true, y_pred)\n",
        "    precision = precision_score(y_true, y_pred, average='weighted')\n",
        "    recall = recall_score(y_true, y_pred, average='weighted')\n",
        "    f1 = f1_score(y_true, y_pred, average='weighted')\n",
        "\n",
        "    # Print evaluation metrics\n",
        "    print(\"Accuracy: {:.4f}\".format(accuracy))\n",
        "    print(\"Precision: {:.4f}\".format(precision))\n",
        "    print(\"Recall: {:.4f}\".format(recall))\n",
        "    print(\"F1-score: {:.4f}\".format(f1))\n"
      ],
      "metadata": {
        "id": "1itOaY6Be1lr"
      },
      "execution_count": null,
      "outputs": []
    },
    {
      "cell_type": "markdown",
      "source": [
        "Showing that the training has achieved convergence in each case"
      ],
      "metadata": {
        "id": "k6UYEc8_zT0_"
      }
    },
    {
      "cell_type": "markdown",
      "source": [
        "### **Split 1**"
      ],
      "metadata": {
        "id": "4eA32kiqwFZj"
      }
    },
    {
      "cell_type": "markdown",
      "source": [
        "Convergence achieved for split 1"
      ],
      "metadata": {
        "id": "8iwl8z_UzZe9"
      }
    },
    {
      "cell_type": "code",
      "source": [
        "# Load and preprocess the data\n",
        "X_train = X_train_1_sp1\n",
        "y_train = y_train_1_sp1\n",
        "X_test = X_test_1_sp1\n",
        "y_test = y_test_1_sp1\n",
        "\n",
        "num_classes = len(set(y_train))\n",
        "y_train = to_categorical(y_train, num_classes)\n",
        "y_test = to_categorical(y_test, num_classes)\n",
        "\n",
        "model, history = create_and_train_FFNN(X_train, y_train, X_test, y_test, num_classes)\n",
        "plot_training_history(history)"
      ],
      "metadata": {
        "id": "Ae5JCbrfwJGC",
        "outputId": "37604242-1c9b-4cbc-8edb-fedbe05702f9",
        "colab": {
          "base_uri": "https://localhost:8080/",
          "height": 295
        }
      },
      "execution_count": null,
      "outputs": [
        {
          "output_type": "display_data",
          "data": {
            "text/plain": [
              "<Figure size 864x288 with 2 Axes>"
            ],
            "image/png": "[encoded data removed]"
          },
          "metadata": {
            "needs_background": "light"
          }
        }
      ]
    },
    {
      "cell_type": "markdown",
      "source": [
        "Evaluating the network for split 1, reporting the confusion matrix\n",
        "and providing the average value for the scoring metrics"
      ],
      "metadata": {
        "id": "ea8-OxNp1uNc"
      }
    },
    {
      "cell_type": "code",
      "source": [
        "predictions = model.predict(X_test)\n",
        "plot_confusion_matrix(y_test.argmax(axis=1), predictions.argmax(axis=1), [0,1,2,3,4], 'Blues')"
      ],
      "metadata": {
        "id": "EvAgu4ynejx-",
        "outputId": "3e0e465a-cca0-428a-a27f-946db397d075",
        "colab": {
          "base_uri": "https://localhost:8080/",
          "height": 538
        }
      },
      "execution_count": null,
      "outputs": [
        {
          "output_type": "stream",
          "name": "stdout",
          "text": [
            "40/40 [==============================] - 0s 2ms/step\n"
          ]
        },
        {
          "output_type": "display_data",
          "data": {
            "text/plain": [
              "<Figure size 720x576 with 2 Axes>"
            ],
            "image/png": "[encoded data removed]"
          },
          "metadata": {
            "needs_background": "light"
          }
        }
      ]
    },
    {
      "cell_type": "code",
      "source": [
        "evaluate_model(y_test, predictions)"
      ],
      "metadata": {
        "id": "now2r-5oer_x",
        "outputId": "1949dde6-c669-419e-c8e1-5e6758951b2b",
        "colab": {
          "base_uri": "https://localhost:8080/"
        }
      },
      "execution_count": null,
      "outputs": [
        {
          "output_type": "stream",
          "name": "stdout",
          "text": [
            "Accuracy: 0.9321\n",
            "Precision: 0.9477\n",
            "Recall: 0.9321\n",
            "F1-score: 0.9394\n"
          ]
        }
      ]
    },
    {
      "cell_type": "markdown",
      "source": [
        "### **Split 2**"
      ],
      "metadata": {
        "id": "PebuhRgtwdV2"
      }
    },
    {
      "cell_type": "markdown",
      "source": [
        "Convergence achieved for split 2"
      ],
      "metadata": {
        "id": "kz2JwIduzd-D"
      }
    },
    {
      "cell_type": "code",
      "source": [
        "# Load and preprocess the data\n",
        "X_train = X_train_1_sp2\n",
        "y_train = y_train_1_sp2\n",
        "X_test = X_test_1_sp2\n",
        "y_test = y_test_1_sp2\n",
        "\n",
        "num_classes = len(set(y_train))\n",
        "y_train = to_categorical(y_train, num_classes)\n",
        "y_test = to_categorical(y_test, num_classes)\n",
        "\n",
        "model, history = create_and_train_FFNN(X_train, y_train, X_test, y_test, num_classes)\n",
        "plot_training_history(history)"
      ],
      "metadata": {
        "id": "u7L4o9Gjwepx",
        "outputId": "f1a30edc-b919-417f-b53d-cf09ceb34b0b",
        "colab": {
          "base_uri": "https://localhost:8080/",
          "height": 295
        }
      },
      "execution_count": null,
      "outputs": [
        {
          "output_type": "display_data",
          "data": {
            "text/plain": [
              "<Figure size 864x288 with 2 Axes>"
            ],
            "image/png": "[encoded data removed]"
          },
          "metadata": {
            "needs_background": "light"
          }
        }
      ]
    },
    {
      "cell_type": "markdown",
      "source": [
        "Evaluating the network for split 2, reporting the confusion matrix\n",
        "and providing the average value for the scoring metrics"
      ],
      "metadata": {
        "id": "0SxRPPDm1s5T"
      }
    },
    {
      "cell_type": "code",
      "source": [
        "predictions = model.predict(X_test)\n",
        "plot_confusion_matrix(y_test.argmax(axis=1), predictions.argmax(axis=1), [0,1,2,3,4], 'Reds')"
      ],
      "metadata": {
        "id": "C5YXYa9q1xEl",
        "outputId": "0fbcf93f-6a93-480d-c1ee-4737fa4e17ea",
        "colab": {
          "base_uri": "https://localhost:8080/",
          "height": 538
        }
      },
      "execution_count": null,
      "outputs": [
        {
          "output_type": "stream",
          "name": "stdout",
          "text": [
            "40/40 [==============================] - 0s 1ms/step\n"
          ]
        },
        {
          "output_type": "display_data",
          "data": {
            "text/plain": [
              "<Figure size 720x576 with 2 Axes>"
            ],
            "image/png": "[encoded data removed]"
          },
          "metadata": {
            "needs_background": "light"
          }
        }
      ]
    },
    {
      "cell_type": "code",
      "source": [
        "evaluate_model(y_test, predictions)"
      ],
      "metadata": {
        "id": "coUBixqAf6uT",
        "outputId": "082a290e-7cb4-4529-dc02-16c7d2e8a8f6",
        "colab": {
          "base_uri": "https://localhost:8080/"
        }
      },
      "execution_count": null,
      "outputs": [
        {
          "output_type": "stream",
          "name": "stdout",
          "text": [
            "Accuracy: 0.9361\n",
            "Precision: 0.9471\n",
            "Recall: 0.9361\n",
            "F1-score: 0.9414\n"
          ]
        }
      ]
    },
    {
      "cell_type": "markdown",
      "source": [
        "### **Split 3**"
      ],
      "metadata": {
        "id": "BTYjLcjfwfEm"
      }
    },
    {
      "cell_type": "markdown",
      "source": [
        "Convergence achieved for split 3"
      ],
      "metadata": {
        "id": "cRbCt3wDzfr2"
      }
    },
    {
      "cell_type": "code",
      "source": [
        "# Load and preprocess the data\n",
        "X_train = X_train_1_sp3\n",
        "y_train = y_train_1_sp3\n",
        "X_test = X_test_1_sp3\n",
        "y_test = y_test_1_sp3\n",
        "\n",
        "num_classes = len(set(y_train))\n",
        "y_train = to_categorical(y_train, num_classes)\n",
        "y_test = to_categorical(y_test, num_classes)\n",
        "\n",
        "model, history = create_and_train_FFNN(X_train, y_train, X_test, y_test, num_classes)\n",
        "plot_training_history(history)"
      ],
      "metadata": {
        "id": "xVDSDWjvwhBJ",
        "outputId": "f0cb705f-3531-416e-a961-8b4c19c27835",
        "colab": {
          "base_uri": "https://localhost:8080/",
          "height": 295
        }
      },
      "execution_count": null,
      "outputs": [
        {
          "output_type": "display_data",
          "data": {
            "text/plain": [
              "<Figure size 864x288 with 2 Axes>"
            ],
            "image/png": "[encoded data removed]"
          },
          "metadata": {
            "needs_background": "light"
          }
        }
      ]
    },
    {
      "cell_type": "markdown",
      "source": [
        "Evaluating the network for split 3, reporting the confusion matrix\n",
        "and providing the average value for the scoring metrics"
      ],
      "metadata": {
        "id": "onyoUzBE1rJU"
      }
    },
    {
      "cell_type": "code",
      "source": [
        "predictions = model.predict(X_test)\n",
        "plot_confusion_matrix(y_test.argmax(axis=1), predictions.argmax(axis=1), [0,1,2,3,4], 'Greens')"
      ],
      "metadata": {
        "id": "DU-ruOq5z1gB",
        "outputId": "f0fbf79c-b986-47c7-c1a7-154a84bedb57",
        "colab": {
          "base_uri": "https://localhost:8080/",
          "height": 538
        }
      },
      "execution_count": null,
      "outputs": [
        {
          "output_type": "stream",
          "name": "stdout",
          "text": [
            "40/40 [==============================] - 0s 2ms/step\n"
          ]
        },
        {
          "output_type": "display_data",
          "data": {
            "text/plain": [
              "<Figure size 720x576 with 2 Axes>"
            ],
            "image/png": "[encoded data removed]"
          },
          "metadata": {
            "needs_background": "light"
          }
        }
      ]
    },
    {
      "cell_type": "code",
      "source": [
        "evaluate_model(y_test, predictions)"
      ],
      "metadata": {
        "id": "_rMaMjrqbgDr",
        "outputId": "9dd64b16-60af-4696-910c-4126ab5623b1",
        "colab": {
          "base_uri": "https://localhost:8080/"
        }
      },
      "execution_count": null,
      "outputs": [
        {
          "output_type": "stream",
          "name": "stdout",
          "text": [
            "Accuracy: 0.9321\n",
            "Precision: 0.9519\n",
            "Recall: 0.9321\n",
            "F1-score: 0.9418\n"
          ]
        }
      ]
    },
    {
      "cell_type": "markdown",
      "source": [
        "# **T2 - Design and evaluate RBFNN**"
      ],
      "metadata": {
        "id": "Hygc-erGgIgY"
      }
    },
    {
      "cell_type": "code",
      "source": [
        "# Load and preprocess the data\n",
        "X_train = np.concatenate((X_train_2_sp1, X_train_2_sp2,X_train_2_sp3))\n",
        "y_train = np.concatenate((y_train_2_sp1, y_train_2_sp2,y_train_2_sp3))\n",
        "\n",
        "X_test = np.concatenate((X_test_2_sp1, X_test_2_sp2,X_test_2_sp3))\n",
        "y_test = np.concatenate((y_test_2_sp1, y_test_2_sp2,y_test_2_sp3))"
      ],
      "metadata": {
        "id": "z7wyQJ3jgW0C"
      },
      "execution_count": 7,
      "outputs": []
    },
    {
      "cell_type": "markdown",
      "source": [
        "## **a) Design**"
      ],
      "metadata": {
        "id": "-TWV9r1z4NMe"
      }
    },
    {
      "cell_type": "markdown",
      "source": [
        "First draft of RBFNN with the decoupled training\n",
        "approach and radial basis"
      ],
      "metadata": {
        "id": "SDF4YUVM2pS9"
      }
    },
    {
      "cell_type": "code",
      "source": [
        "# Initialize the network\n",
        "n_inputs = X_train.shape[1]\n",
        "n_hidden = 3\n",
        "model = Sequential()\n",
        "model.add(Dense(n_hidden, input_shape=(n_inputs,), activation='linear', trainable=False))\n",
        "\n",
        "# Define the radial basis functions\n",
        "kmeans = KMeans(n_clusters=n_hidden, random_state=27)\n",
        "kmeans.fit(X_train)\n",
        "cluster_assignments = kmeans.predict(X_train)\n",
        "\n",
        "# Train the first layer\n",
        "model.compile(optimizer='adam', loss='sparse_categorical_crossentropy')\n",
        "model.fit(X_train, cluster_assignments, epochs=5, batch_size=16)\n",
        "\n",
        "# Add the second layer and train it\n",
        "model.add(Dense(1, activation='sigmoid'))\n",
        "model.compile(optimizer='adam', loss='binary_crossentropy', metrics=['accuracy'])\n",
        "model.fit(X_train, y_train, epochs=5, batch_size=16)\n",
        "\n",
        "# Fine-tune both layers\n",
        "model.layers[0].trainable = True\n",
        "model.compile(optimizer='adam', loss='binary_crossentropy', metrics=['accuracy'])\n",
        "model.fit(X_train, y_train, epochs=5, batch_size=16)\n",
        "\n",
        "# Test the network\n",
        "y_pred = model.predict(X_test)\n",
        "y_pred = np.round(y_pred)\n",
        "acc = accuracy_score(y_test, y_pred)\n",
        "print(\"Test Accuracy: {:.4f}\".format(acc))\n"
      ],
      "metadata": {
        "id": "y2QhwhSQ75_P",
        "outputId": "2d37c20a-e63a-4a51-ad23-3851985bbb32",
        "colab": {
          "base_uri": "https://localhost:8080/"
        }
      },
      "execution_count": 20,
      "outputs": [
        {
          "output_type": "stream",
          "name": "stdout",
          "text": [
            "Epoch 1/5\n",
            "500/500 [==============================] - 1s 1ms/step - loss: 2.9621\n",
            "Epoch 2/5\n",
            "500/500 [==============================] - 1s 1ms/step - loss: 2.9621\n",
            "Epoch 3/5\n",
            "500/500 [==============================] - 1s 1ms/step - loss: 2.9621\n",
            "Epoch 4/5\n",
            "500/500 [==============================] - 1s 1ms/step - loss: 2.9621\n",
            "Epoch 5/5\n",
            "500/500 [==============================] - 1s 1ms/step - loss: 2.9621\n",
            "Epoch 1/5\n",
            "500/500 [==============================] - 1s 1ms/step - loss: 0.6847 - accuracy: 0.5297\n",
            "Epoch 2/5\n",
            "500/500 [==============================] - 1s 1ms/step - loss: 0.6724 - accuracy: 0.5681\n",
            "Epoch 3/5\n",
            "500/500 [==============================] - 1s 1ms/step - loss: 0.6619 - accuracy: 0.5985\n",
            "Epoch 4/5\n",
            "500/500 [==============================] - 1s 1ms/step - loss: 0.6524 - accuracy: 0.6294\n",
            "Epoch 5/5\n",
            "500/500 [==============================] - 1s 1ms/step - loss: 0.6440 - accuracy: 0.6574\n",
            "Epoch 1/5\n",
            "500/500 [==============================] - 1s 2ms/step - loss: 0.4154 - accuracy: 0.8382\n",
            "Epoch 2/5\n",
            "500/500 [==============================] - 1s 2ms/step - loss: 0.2557 - accuracy: 0.9194\n",
            "Epoch 3/5\n",
            "500/500 [==============================] - 1s 2ms/step - loss: 0.2262 - accuracy: 0.9264\n",
            "Epoch 4/5\n",
            "500/500 [==============================] - 1s 2ms/step - loss: 0.2144 - accuracy: 0.9264\n",
            "Epoch 5/5\n",
            "500/500 [==============================] - 1s 2ms/step - loss: 0.2095 - accuracy: 0.9275\n",
            "125/125 [==============================] - 0s 1ms/step\n",
            "Test Accuracy: 0.9223\n"
          ]
        }
      ]
    },
    {
      "cell_type": "markdown",
      "source": [
        "Considering two more different width initialization techniques."
      ],
      "metadata": {
        "id": "WIo4QonR3CaT"
      }
    },
    {
      "cell_type": "markdown",
      "source": [
        "2) Initializing the weights randomly using Glorot uniform initialization"
      ],
      "metadata": {
        "id": "3Fw3ruCl3fkU"
      }
    },
    {
      "cell_type": "code",
      "source": [
        "from keras import initializers\n",
        "\n",
        "# Initialize the network\n",
        "n_inputs = X_train.shape[1]\n",
        "n_hidden = 3\n",
        "model = Sequential()\n",
        "model.add(Dense(n_hidden, input_shape=(n_inputs,), activation='linear', trainable=False))\n",
        "\n",
        "# Define the radial basis functions\n",
        "kmeans = KMeans(n_clusters=n_hidden, random_state=27)\n",
        "kmeans.fit(X_train)\n",
        "cluster_assignments = kmeans.predict(X_train)\n",
        "\n",
        "# Train the first layer\n",
        "model.compile(optimizer='adam', loss='sparse_categorical_crossentropy')\n",
        "model.fit(X_train, cluster_assignments, epochs=5, batch_size=16)\n",
        "\n",
        "# Add the second layer and train it, using glorot uniform initialization\n",
        "model.add(Dense(1, activation='sigmoid', kernel_initializer=initializers.glorot_uniform()))\n",
        "model.compile(optimizer='adam', loss='binary_crossentropy', metrics=['accuracy'])\n",
        "model.fit(X_train, y_train, epochs=5, batch_size=16)\n",
        "\n",
        "# Fine-tune both layers\n",
        "model.layers[0].trainable = True\n",
        "model.compile(optimizer='adam', loss='binary_crossentropy', metrics=['accuracy'])\n",
        "model.fit(X_train, y_train, epochs=5, batch_size=16)\n",
        "\n",
        "# Test the network\n",
        "y_pred = model.predict(X_test)\n",
        "y_pred = np.round(y_pred)\n",
        "acc = accuracy_score(y_test, y_pred)\n",
        "print(\"Test Accuracy: {:.4f}\".format(acc))\n"
      ],
      "metadata": {
        "id": "IXb6auJN3NcD",
        "outputId": "7d447434-8a46-4bac-c6bf-884545de92f7",
        "colab": {
          "base_uri": "https://localhost:8080/"
        }
      },
      "execution_count": 21,
      "outputs": [
        {
          "output_type": "stream",
          "name": "stdout",
          "text": [
            "Epoch 1/5\n",
            "500/500 [==============================] - 1s 1ms/step - loss: 5.5740\n",
            "Epoch 2/5\n",
            "500/500 [==============================] - 1s 1ms/step - loss: 5.5740\n",
            "Epoch 3/5\n",
            "500/500 [==============================] - 1s 1ms/step - loss: 5.5740\n",
            "Epoch 4/5\n",
            "500/500 [==============================] - 1s 1ms/step - loss: 5.5740\n",
            "Epoch 5/5\n",
            "500/500 [==============================] - 1s 1ms/step - loss: 5.5740\n",
            "Epoch 1/5\n",
            "500/500 [==============================] - 1s 1ms/step - loss: 0.6987 - accuracy: 0.5406\n",
            "Epoch 2/5\n",
            "500/500 [==============================] - 1s 1ms/step - loss: 0.6807 - accuracy: 0.5746\n",
            "Epoch 3/5\n",
            "500/500 [==============================] - 1s 1ms/step - loss: 0.6651 - accuracy: 0.6133\n",
            "Epoch 4/5\n",
            "500/500 [==============================] - 1s 1ms/step - loss: 0.6513 - accuracy: 0.6441\n",
            "Epoch 5/5\n",
            "500/500 [==============================] - 1s 1ms/step - loss: 0.6392 - accuracy: 0.6651\n",
            "Epoch 1/5\n",
            "500/500 [==============================] - 1s 2ms/step - loss: 0.3640 - accuracy: 0.8748\n",
            "Epoch 2/5\n",
            "500/500 [==============================] - 1s 2ms/step - loss: 0.2403 - accuracy: 0.9206\n",
            "Epoch 3/5\n",
            "500/500 [==============================] - 1s 2ms/step - loss: 0.2199 - accuracy: 0.9254\n",
            "Epoch 4/5\n",
            "500/500 [==============================] - 1s 2ms/step - loss: 0.2101 - accuracy: 0.9280\n",
            "Epoch 5/5\n",
            "500/500 [==============================] - 1s 2ms/step - loss: 0.2055 - accuracy: 0.9277\n",
            "125/125 [==============================] - 0s 1ms/step\n",
            "Test Accuracy: 0.9287\n"
          ]
        }
      ]
    },
    {
      "cell_type": "markdown",
      "source": [
        "3) Initializing the weights using He normal initialization"
      ],
      "metadata": {
        "id": "WM9IMCcG3kXI"
      }
    },
    {
      "cell_type": "code",
      "source": [
        "from keras import initializers\n",
        "\n",
        "# Initialize the network\n",
        "n_inputs = X_train.shape[1]\n",
        "n_hidden = 3\n",
        "model = Sequential()\n",
        "model.add(Dense(n_hidden, input_shape=(n_inputs,), activation='linear', trainable=False))\n",
        "\n",
        "# Define the radial basis functions\n",
        "kmeans = KMeans(n_clusters=n_hidden, random_state=27)\n",
        "kmeans.fit(X_train)\n",
        "cluster_assignments = kmeans.predict(X_train)\n",
        "\n",
        "# Train the first layer\n",
        "model.compile(optimizer='adam', loss='sparse_categorical_crossentropy')\n",
        "model.fit(X_train, cluster_assignments, epochs=5, batch_size=16)\n",
        "\n",
        "# Add the second layer and train it, using He normal initialization\n",
        "model.add(Dense(1, activation='sigmoid', kernel_initializer=initializers.he_normal())) \n",
        "model.compile(optimizer='adam', loss='binary_crossentropy', metrics=['accuracy'])\n",
        "model.fit(X_train, y_train, epochs=5, batch_size=16)\n",
        "\n",
        "# Fine-tune both layers\n",
        "model.layers[0].trainable = True\n",
        "model.compile(optimizer='adam', loss='binary_crossentropy', metrics=['accuracy'])\n",
        "model.fit(X_train, y_train, epochs=5, batch_size=16)\n",
        "\n",
        "# Test the network\n",
        "y_pred = model.predict(X_test)\n",
        "y_pred = np.round(y_pred)\n",
        "acc = accuracy_score(y_test, y_pred)\n",
        "print(\"Test Accuracy: {:.4f}\".format(acc))\n"
      ],
      "metadata": {
        "id": "ZDdHIBSS3NrA",
        "outputId": "c257d20f-9b4e-4e55-8910-6f1b9e3fd47f",
        "colab": {
          "base_uri": "https://localhost:8080/"
        }
      },
      "execution_count": 22,
      "outputs": [
        {
          "output_type": "stream",
          "name": "stdout",
          "text": [
            "Epoch 1/5\n",
            "500/500 [==============================] - 1s 2ms/step - loss: 5.5809\n",
            "Epoch 2/5\n",
            "500/500 [==============================] - 1s 2ms/step - loss: 5.5809\n",
            "Epoch 3/5\n",
            "500/500 [==============================] - 1s 2ms/step - loss: 5.5809\n",
            "Epoch 4/5\n",
            "500/500 [==============================] - 1s 2ms/step - loss: 5.5809\n",
            "Epoch 5/5\n",
            "500/500 [==============================] - 1s 3ms/step - loss: 5.5809\n",
            "Epoch 1/5\n",
            "500/500 [==============================] - 2s 3ms/step - loss: 0.6419 - accuracy: 0.6719\n",
            "Epoch 2/5\n",
            "500/500 [==============================] - 1s 2ms/step - loss: 0.6177 - accuracy: 0.7333\n",
            "Epoch 3/5\n",
            "500/500 [==============================] - 1s 2ms/step - loss: 0.6014 - accuracy: 0.7406\n",
            "Epoch 4/5\n",
            "500/500 [==============================] - 1s 2ms/step - loss: 0.5898 - accuracy: 0.7421\n",
            "Epoch 5/5\n",
            "500/500 [==============================] - 1s 2ms/step - loss: 0.5815 - accuracy: 0.7415\n",
            "Epoch 1/5\n",
            "500/500 [==============================] - 1s 2ms/step - loss: 0.3327 - accuracy: 0.8871\n",
            "Epoch 2/5\n",
            "500/500 [==============================] - 1s 2ms/step - loss: 0.2320 - accuracy: 0.9221\n",
            "Epoch 3/5\n",
            "500/500 [==============================] - 1s 2ms/step - loss: 0.2147 - accuracy: 0.9273\n",
            "Epoch 4/5\n",
            "500/500 [==============================] - 1s 2ms/step - loss: 0.2083 - accuracy: 0.9270\n",
            "Epoch 5/5\n",
            "500/500 [==============================] - 1s 3ms/step - loss: 0.2038 - accuracy: 0.9274\n",
            "125/125 [==============================] - 0s 1ms/step\n",
            "Test Accuracy: 0.9317\n"
          ]
        }
      ]
    },
    {
      "cell_type": "markdown",
      "source": [
        "It is observed that all of the test accuracies are almost the same but he normal has slightly better performance so it is chosen."
      ],
      "metadata": {
        "id": "oYQ9o8wL32ox"
      }
    },
    {
      "cell_type": "markdown",
      "source": [
        "Check whether regularization helps to attain better performance."
      ],
      "metadata": {
        "id": "TUAsvEPX4Jlg"
      }
    },
    {
      "cell_type": "markdown",
      "source": [
        "L1 and L2 regularizations are tried. They both did not improve the performance. Regularization strength is set as 0.1,0.01,0.001 and all the cases did not improve. The best value was 0.001 which has the lowest effect."
      ],
      "metadata": {
        "id": "RiGyc-Ab49wT"
      }
    },
    {
      "cell_type": "code",
      "source": [
        "from keras import regularizers\n",
        "\n",
        "# Initialize the network\n",
        "n_inputs = X_train.shape[1]\n",
        "n_hidden = 3\n",
        "model = Sequential()\n",
        "model.add(Dense(n_hidden, input_shape=(n_inputs,), activation='linear', trainable=False))\n",
        "\n",
        "# Define the radial basis functions\n",
        "kmeans = KMeans(n_clusters=n_hidden, random_state=27)\n",
        "kmeans.fit(X_train)\n",
        "cluster_assignments = kmeans.predict(X_train)\n",
        "\n",
        "# Train the first layer\n",
        "model.compile(optimizer='adam', loss='sparse_categorical_crossentropy')\n",
        "model.fit(X_train, cluster_assignments, epochs=5, batch_size=16)\n",
        "\n",
        "# Add the second layer and train it\n",
        "model.add(Dense(1, activation='sigmoid', kernel_initializer=initializers.he_normal()\n",
        "                , kernel_regularizer=regularizers.l2(0.001)))\n",
        "model.compile(optimizer='adam', loss='binary_crossentropy', metrics=['accuracy'])\n",
        "model.fit(X_train, y_train, epochs=5, batch_size=16)\n",
        "\n",
        "# Fine-tune both layers\n",
        "model.layers[0].trainable = True\n",
        "model.compile(optimizer='adam', loss='binary_crossentropy', metrics=['accuracy'])\n",
        "model.fit(X_train, y_train, epochs=5, batch_size=16)\n",
        "\n",
        "# Test the network\n",
        "y_pred = model.predict(X_test)\n",
        "y_pred = np.round(y_pred)\n",
        "acc = accuracy_score(y_test, y_pred)\n",
        "print(\"Test Accuracy: {:.4f}\".format(acc))\n"
      ],
      "metadata": {
        "id": "2AF5r0LMTRfd",
        "outputId": "f736f031-8d13-43c9-ce36-a0a397318234",
        "colab": {
          "base_uri": "https://localhost:8080/"
        }
      },
      "execution_count": 26,
      "outputs": [
        {
          "output_type": "stream",
          "name": "stdout",
          "text": [
            "Epoch 1/5\n",
            "500/500 [==============================] - 1s 1ms/step - loss: 4.5796\n",
            "Epoch 2/5\n",
            "500/500 [==============================] - 1s 1ms/step - loss: 4.5796\n",
            "Epoch 3/5\n",
            "500/500 [==============================] - 1s 1ms/step - loss: 4.5796\n",
            "Epoch 4/5\n",
            "500/500 [==============================] - 1s 1ms/step - loss: 4.5796\n",
            "Epoch 5/5\n",
            "500/500 [==============================] - 1s 1ms/step - loss: 4.5796\n",
            "Epoch 1/5\n",
            "500/500 [==============================] - 1s 1ms/step - loss: 0.7175 - accuracy: 0.4675\n",
            "Epoch 2/5\n",
            "500/500 [==============================] - 1s 1ms/step - loss: 0.7074 - accuracy: 0.4717\n",
            "Epoch 3/5\n",
            "500/500 [==============================] - 1s 1ms/step - loss: 0.7017 - accuracy: 0.4739\n",
            "Epoch 4/5\n",
            "500/500 [==============================] - 1s 1ms/step - loss: 0.6981 - accuracy: 0.4719\n",
            "Epoch 5/5\n",
            "500/500 [==============================] - 1s 1ms/step - loss: 0.6959 - accuracy: 0.4642\n",
            "Epoch 1/5\n",
            "500/500 [==============================] - 1s 2ms/step - loss: 0.4619 - accuracy: 0.7936\n",
            "Epoch 2/5\n",
            "500/500 [==============================] - 1s 2ms/step - loss: 0.2599 - accuracy: 0.9186\n",
            "Epoch 3/5\n",
            "500/500 [==============================] - 1s 2ms/step - loss: 0.2290 - accuracy: 0.9224\n",
            "Epoch 4/5\n",
            "500/500 [==============================] - 1s 2ms/step - loss: 0.2179 - accuracy: 0.9259\n",
            "Epoch 5/5\n",
            "500/500 [==============================] - 1s 2ms/step - loss: 0.2130 - accuracy: 0.9293\n",
            "125/125 [==============================] - 0s 1ms/step\n",
            "Test Accuracy: 0.9287\n"
          ]
        }
      ]
    },
    {
      "cell_type": "markdown",
      "source": [
        "Batch Normalization is used for improving the performance and stability of the network.It normalizes the activations of the previous layer at each batch, i.e. applies a transformation that maintains the mean close to 0 and the standard deviation close to 1."
      ],
      "metadata": {
        "id": "9Xo4PjQD6fMb"
      }
    },
    {
      "cell_type": "markdown",
      "source": [
        "The model performance for training set is not increased but had a negative impact and decrease."
      ],
      "metadata": {
        "id": "9oaT7nt87BP-"
      }
    },
    {
      "cell_type": "code",
      "source": [
        "from keras.layers import BatchNormalization\n",
        "\n",
        "# Initialize the network\n",
        "n_inputs = X_train.shape[1]\n",
        "n_hidden = 3\n",
        "model = Sequential()\n",
        "model.add(Dense(n_hidden, input_shape=(n_inputs,), activation='linear', trainable=False))\n",
        "\n",
        "# Define the radial basis functions\n",
        "kmeans = KMeans(n_clusters=n_hidden, random_state=27)\n",
        "kmeans.fit(X_train)\n",
        "cluster_assignments = kmeans.predict(X_train)\n",
        "\n",
        "# Train the first layer\n",
        "model.compile(optimizer='adam', loss='sparse_categorical_crossentropy')\n",
        "model.fit(X_train, cluster_assignments, epochs=5, batch_size=16)\n",
        "\n",
        "# Add the second layer and train it\n",
        "model.add(Dense(1, activation='sigmoid', kernel_initializer=initializers.he_normal()))\n",
        "model.add(BatchNormalization())\n",
        "model.compile(optimizer='adam', loss='binary_crossentropy', metrics=['accuracy'])\n",
        "model.fit(X_train, y_train, epochs=5, batch_size=16)\n",
        "\n",
        "# Fine-tune both layers\n",
        "model.layers[0].trainable = True\n",
        "model.compile(optimizer='adam', loss='binary_crossentropy', metrics=['accuracy'])\n",
        "model.fit(X_train, y_train, epochs=5, batch_size=16)\n",
        "\n",
        "# Test the network\n",
        "y_pred = model.predict(X_test)\n",
        "y_pred = np.round(y_pred)\n",
        "acc = accuracy_score(y_test, y_pred)\n",
        "print(\"Test Accuracy: {:.4f}\".format(acc))"
      ],
      "metadata": {
        "id": "8hc3xGbu61a_",
        "outputId": "3acdce9c-4559-452e-8a28-410c5d9a3ced",
        "colab": {
          "base_uri": "https://localhost:8080/"
        }
      },
      "execution_count": 29,
      "outputs": [
        {
          "output_type": "stream",
          "name": "stdout",
          "text": [
            "Epoch 1/5\n",
            "500/500 [==============================] - 1s 1ms/step - loss: 6.1482\n",
            "Epoch 2/5\n",
            "500/500 [==============================] - 1s 1ms/step - loss: 6.1482\n",
            "Epoch 3/5\n",
            "500/500 [==============================] - 1s 1ms/step - loss: 6.1482\n",
            "Epoch 4/5\n",
            "500/500 [==============================] - 1s 2ms/step - loss: 6.1482\n",
            "Epoch 5/5\n",
            "500/500 [==============================] - 1s 2ms/step - loss: 6.1482\n",
            "Epoch 1/5\n",
            "500/500 [==============================] - 1s 2ms/step - loss: 5.9223 - accuracy: 0.4392\n",
            "Epoch 2/5\n",
            "500/500 [==============================] - 1s 2ms/step - loss: 5.8650 - accuracy: 0.4409\n",
            "Epoch 3/5\n",
            "500/500 [==============================] - 1s 2ms/step - loss: 5.8481 - accuracy: 0.4384\n",
            "Epoch 4/5\n",
            "500/500 [==============================] - 1s 2ms/step - loss: 5.7980 - accuracy: 0.4428\n",
            "Epoch 5/5\n",
            "500/500 [==============================] - 1s 2ms/step - loss: 5.7491 - accuracy: 0.4353\n",
            "Epoch 1/5\n",
            "500/500 [==============================] - 2s 2ms/step - loss: 2.3198 - accuracy: 0.7005\n",
            "Epoch 2/5\n",
            "500/500 [==============================] - 1s 2ms/step - loss: 0.8420 - accuracy: 0.8313\n",
            "Epoch 3/5\n",
            "500/500 [==============================] - 1s 3ms/step - loss: 0.7055 - accuracy: 0.8550\n",
            "Epoch 4/5\n",
            "500/500 [==============================] - 1s 2ms/step - loss: 0.5817 - accuracy: 0.8600\n",
            "Epoch 5/5\n",
            "500/500 [==============================] - 1s 2ms/step - loss: 0.5909 - accuracy: 0.8701\n",
            "125/125 [==============================] - 0s 1ms/step\n",
            "Test Accuracy: 0.7153\n"
          ]
        }
      ]
    },
    {
      "cell_type": "markdown",
      "source": [
        "Experimenting with different activation functions"
      ],
      "metadata": {
        "id": "_h2Iwewq7_1w"
      }
    },
    {
      "cell_type": "markdown",
      "source": [
        "Using ReLU instead of linear for the first layer improved the accuracy by 2% more."
      ],
      "metadata": {
        "id": "fHcax24L8UlW"
      }
    },
    {
      "cell_type": "code",
      "source": [
        "# Initialize the network\n",
        "n_inputs = X_train.shape[1]\n",
        "n_hidden = 3\n",
        "model = Sequential()\n",
        "model.add(Dense(n_hidden, input_shape=(n_inputs,), activation='relu', trainable=False))\n",
        "\n",
        "# Define the radial basis functions\n",
        "kmeans = KMeans(n_clusters=n_hidden, random_state=27)\n",
        "kmeans.fit(X_train)\n",
        "cluster_assignments = kmeans.predict(X_train)\n",
        "\n",
        "# Train the first layer\n",
        "model.compile(optimizer='adam', loss='sparse_categorical_crossentropy')\n",
        "model.fit(X_train, cluster_assignments, epochs=5, batch_size=16)\n",
        "\n",
        "# Add the second layer and train it\n",
        "model.add(Dense(1, activation='sigmoid', kernel_initializer=initializers.he_normal()))\n",
        "model.compile(optimizer='adam', loss='binary_crossentropy', metrics=['accuracy'])\n",
        "model.fit(X_train, y_train, epochs=5, batch_size=16)\n",
        "\n",
        "# Fine-tune both layers\n",
        "model.layers[0].trainable = True\n",
        "model.compile(optimizer='adam', loss='binary_crossentropy', metrics=['accuracy'])\n",
        "model.fit(X_train, y_train, epochs=5, batch_size=16)\n",
        "\n",
        "# Test the network\n",
        "y_pred = model.predict(X_test)\n",
        "y_pred = np.round(y_pred)\n",
        "acc = accuracy_score(y_test, y_pred)\n",
        "print(\"Test Accuracy: {:.4f}\".format(acc))"
      ],
      "metadata": {
        "id": "EQh0oYzr8BqD",
        "outputId": "e7329a9e-bfb2-4674-8d97-629879642dad",
        "colab": {
          "base_uri": "https://localhost:8080/"
        }
      },
      "execution_count": 34,
      "outputs": [
        {
          "output_type": "stream",
          "name": "stdout",
          "text": [
            "Epoch 1/5\n",
            "500/500 [==============================] - 1s 1ms/step - loss: 4.5769\n",
            "Epoch 2/5\n",
            "500/500 [==============================] - 1s 1ms/step - loss: 4.5769\n",
            "Epoch 3/5\n",
            "500/500 [==============================] - 1s 1ms/step - loss: 4.5769\n",
            "Epoch 4/5\n",
            "500/500 [==============================] - 1s 1ms/step - loss: 4.5769\n",
            "Epoch 5/5\n",
            "500/500 [==============================] - 1s 1ms/step - loss: 4.5769\n",
            "Epoch 1/5\n",
            "500/500 [==============================] - 1s 1ms/step - loss: 0.7035 - accuracy: 0.3993\n",
            "Epoch 2/5\n",
            "500/500 [==============================] - 1s 1ms/step - loss: 0.6971 - accuracy: 0.4111\n",
            "Epoch 3/5\n",
            "500/500 [==============================] - 1s 1ms/step - loss: 0.6916 - accuracy: 0.4947\n",
            "Epoch 4/5\n",
            "500/500 [==============================] - 1s 2ms/step - loss: 0.6865 - accuracy: 0.5155\n",
            "Epoch 5/5\n",
            "500/500 [==============================] - 1s 1ms/step - loss: 0.6818 - accuracy: 0.5995\n",
            "Epoch 1/5\n",
            "500/500 [==============================] - 1s 2ms/step - loss: 0.3932 - accuracy: 0.8619\n",
            "Epoch 2/5\n",
            "500/500 [==============================] - 1s 2ms/step - loss: 0.2325 - accuracy: 0.9258\n",
            "Epoch 3/5\n",
            "500/500 [==============================] - 1s 2ms/step - loss: 0.1967 - accuracy: 0.9350\n",
            "Epoch 4/5\n",
            "500/500 [==============================] - 1s 2ms/step - loss: 0.1794 - accuracy: 0.9380\n",
            "Epoch 5/5\n",
            "500/500 [==============================] - 1s 2ms/step - loss: 0.1669 - accuracy: 0.9429\n",
            "125/125 [==============================] - 0s 1ms/step\n",
            "Test Accuracy: 0.9467\n"
          ]
        }
      ]
    },
    {
      "cell_type": "markdown",
      "source": [
        "Increasing the number of hidden layers and number of neurons results more than 4% of increase in test accuracy."
      ],
      "metadata": {
        "id": "XkIPrmUD9Q2l"
      }
    },
    {
      "cell_type": "code",
      "source": [
        "from keras import regularizers\n",
        "\n",
        "# Initialize the network\n",
        "n_inputs = X_train.shape[1]\n",
        "n_hidden = 3\n",
        "model = Sequential()\n",
        "model.add(Dense(n_hidden, input_shape=(n_inputs,), activation='relu', trainable=False))\n",
        "\n",
        "# Define the radial basis functions\n",
        "kmeans = KMeans(n_clusters=n_hidden, random_state=27)\n",
        "kmeans.fit(X_train)\n",
        "cluster_assignments = kmeans.predict(X_train)\n",
        "\n",
        "# Train the first layer\n",
        "model.compile(optimizer='adam', loss='sparse_categorical_crossentropy')\n",
        "model.fit(X_train, cluster_assignments, epochs=5, batch_size=16)\n",
        "\n",
        "# Adding more hidden layers\n",
        "model.add(Dense(64, activation='relu'))\n",
        "model.add(Dense(64, activation='relu'))\n",
        "\n",
        "# Add the output layer\n",
        "model.add(Dense(1, activation='sigmoid', kernel_initializer=initializers.he_normal()))\n",
        "model.compile(optimizer='adam', loss='binary_crossentropy', metrics=['accuracy'])\n",
        "model.fit(X_train, y_train, epochs=5, batch_size=16)\n",
        "\n",
        "# Fine-tune both layers\n",
        "model.layers[0].trainable = True\n",
        "model.compile(optimizer='adam', loss='binary_crossentropy', metrics=['accuracy'])\n",
        "model.fit(X_train, y_train, epochs=5, batch_size=16)\n",
        "\n",
        "# Test the network\n",
        "y_pred = model.predict(X_test)\n",
        "y_pred = np.round(y_pred)\n",
        "acc = accuracy_score(y_test, y_pred)\n",
        "print(\"Test Accuracy: {:.4f}\".format(acc))"
      ],
      "metadata": {
        "id": "zNYicwrn8fox",
        "outputId": "257c0309-edfa-47d5-bb7d-ca57b94b1646",
        "colab": {
          "base_uri": "https://localhost:8080/"
        }
      },
      "execution_count": 35,
      "outputs": [
        {
          "output_type": "stream",
          "name": "stdout",
          "text": [
            "Epoch 1/5\n",
            "500/500 [==============================] - 1s 1ms/step - loss: 7.5051\n",
            "Epoch 2/5\n",
            "500/500 [==============================] - 1s 1ms/step - loss: 7.5051\n",
            "Epoch 3/5\n",
            "500/500 [==============================] - 1s 1ms/step - loss: 7.5051\n",
            "Epoch 4/5\n",
            "500/500 [==============================] - 1s 1ms/step - loss: 7.5051\n",
            "Epoch 5/5\n",
            "500/500 [==============================] - 1s 1ms/step - loss: 7.5051\n",
            "Epoch 1/5\n",
            "500/500 [==============================] - 1s 2ms/step - loss: 0.6637 - accuracy: 0.5928\n",
            "Epoch 2/5\n",
            "500/500 [==============================] - 1s 2ms/step - loss: 0.6268 - accuracy: 0.6438\n",
            "Epoch 3/5\n",
            "500/500 [==============================] - 1s 2ms/step - loss: 0.6147 - accuracy: 0.6551\n",
            "Epoch 4/5\n",
            "500/500 [==============================] - 1s 2ms/step - loss: 0.6070 - accuracy: 0.6628\n",
            "Epoch 5/5\n",
            "500/500 [==============================] - 1s 2ms/step - loss: 0.6041 - accuracy: 0.6651\n",
            "Epoch 1/5\n",
            "500/500 [==============================] - 1s 2ms/step - loss: 0.2558 - accuracy: 0.8926\n",
            "Epoch 2/5\n",
            "500/500 [==============================] - 1s 2ms/step - loss: 0.1130 - accuracy: 0.9622\n",
            "Epoch 3/5\n",
            "500/500 [==============================] - 1s 2ms/step - loss: 0.0855 - accuracy: 0.9732\n",
            "Epoch 4/5\n",
            "500/500 [==============================] - 1s 2ms/step - loss: 0.0682 - accuracy: 0.9774\n",
            "Epoch 5/5\n",
            "500/500 [==============================] - 1s 2ms/step - loss: 0.0610 - accuracy: 0.9799\n",
            "125/125 [==============================] - 0s 1ms/step\n",
            "Test Accuracy: 0.9868\n"
          ]
        }
      ]
    },
    {
      "cell_type": "markdown",
      "source": [
        "Also increasing the number of epochs to 10 and batch_size to 32 for both fast process and to observe the model bettter in the plots with a higher number of epochs. Also decreasing learning rate to 0.001 for stability during the learning."
      ],
      "metadata": {
        "id": "_w56C7aDAk-1"
      }
    },
    {
      "cell_type": "code",
      "source": [
        "# Initialize the network\n",
        "n_inputs = X_train.shape[1]\n",
        "n_hidden = 3\n",
        "model = Sequential()\n",
        "model.add(Dense(n_hidden, input_shape=(n_inputs,), activation='relu', trainable=False))\n",
        "\n",
        "# Define the radial basis functions\n",
        "kmeans = KMeans(n_clusters=n_hidden, random_state=27)\n",
        "kmeans.fit(X_train)\n",
        "cluster_assignments = kmeans.predict(X_train)\n",
        "\n",
        "# Train the first layer\n",
        "model.compile(optimizer='adam', loss='sparse_categorical_crossentropy')\n",
        "model.fit(X_train, cluster_assignments, epochs=10, batch_size=32)\n",
        "\n",
        "# Adding more hidden layers\n",
        "model.add(Dense(64, activation='relu'))\n",
        "model.add(Dense(64, activation='relu'))\n",
        "\n",
        "# Add the output layer\n",
        "model.add(Dense(1, activation='sigmoid', kernel_initializer=initializers.he_normal()))\n",
        "model.compile(optimizer='adam', loss='binary_crossentropy', metrics=['accuracy'])\n",
        "model.fit(X_train, y_train, epochs=10, batch_size=32)\n",
        "\n",
        "# Fine-tune both layers\n",
        "model.layers[0].trainable = True\n",
        "model.compile(optimizer='adam', loss='binary_crossentropy', metrics=['accuracy'])\n",
        "model.fit(X_train, y_train, epochs=10, batch_size=32)\n",
        "\n",
        "# Test the network\n",
        "y_pred = model.predict(X_test)\n",
        "y_pred = np.round(y_pred)\n",
        "acc = accuracy_score(y_test, y_pred)\n",
        "print(\"Test Accuracy: {:.4f}\".format(acc))\n"
      ],
      "metadata": {
        "id": "QGnhTdMxAkSn",
        "outputId": "c63bcedd-5d0a-4e18-c251-88b565d87258",
        "colab": {
          "base_uri": "https://localhost:8080/"
        }
      },
      "execution_count": 36,
      "outputs": [
        {
          "output_type": "stream",
          "name": "stdout",
          "text": [
            "Epoch 1/10\n",
            "250/250 [==============================] - 1s 1ms/step - loss: 9.4625\n",
            "Epoch 2/10\n",
            "250/250 [==============================] - 0s 1ms/step - loss: 9.4625\n",
            "Epoch 3/10\n",
            "250/250 [==============================] - 0s 1ms/step - loss: 9.4625\n",
            "Epoch 4/10\n",
            "250/250 [==============================] - 0s 1ms/step - loss: 9.4625\n",
            "Epoch 5/10\n",
            "250/250 [==============================] - 0s 1ms/step - loss: 9.4625\n",
            "Epoch 6/10\n",
            "250/250 [==============================] - 0s 1ms/step - loss: 9.4625\n",
            "Epoch 7/10\n",
            "250/250 [==============================] - 0s 1ms/step - loss: 9.4625\n",
            "Epoch 8/10\n",
            "250/250 [==============================] - 0s 1ms/step - loss: 9.4625\n",
            "Epoch 9/10\n",
            "250/250 [==============================] - 0s 2ms/step - loss: 9.4625\n",
            "Epoch 10/10\n",
            "250/250 [==============================] - 1s 2ms/step - loss: 9.4625\n",
            "Epoch 1/10\n",
            "250/250 [==============================] - 1s 3ms/step - loss: 0.6160 - accuracy: 0.6294\n",
            "Epoch 2/10\n",
            "250/250 [==============================] - 1s 3ms/step - loss: 0.5353 - accuracy: 0.7209\n",
            "Epoch 3/10\n",
            "250/250 [==============================] - 0s 2ms/step - loss: 0.5273 - accuracy: 0.7264\n",
            "Epoch 4/10\n",
            "250/250 [==============================] - 0s 2ms/step - loss: 0.5231 - accuracy: 0.7262\n",
            "Epoch 5/10\n",
            "250/250 [==============================] - 0s 2ms/step - loss: 0.5190 - accuracy: 0.7287\n",
            "Epoch 6/10\n",
            "250/250 [==============================] - 0s 2ms/step - loss: 0.5164 - accuracy: 0.7304\n",
            "Epoch 7/10\n",
            "250/250 [==============================] - 0s 2ms/step - loss: 0.5138 - accuracy: 0.7299\n",
            "Epoch 8/10\n",
            "250/250 [==============================] - 0s 2ms/step - loss: 0.5126 - accuracy: 0.7350\n",
            "Epoch 9/10\n",
            "250/250 [==============================] - 0s 2ms/step - loss: 0.5111 - accuracy: 0.7376\n",
            "Epoch 10/10\n",
            "250/250 [==============================] - 0s 2ms/step - loss: 0.5103 - accuracy: 0.7408\n",
            "Epoch 1/10\n",
            "250/250 [==============================] - 2s 4ms/step - loss: 0.2761 - accuracy: 0.8808\n",
            "Epoch 2/10\n",
            "250/250 [==============================] - 1s 4ms/step - loss: 0.1453 - accuracy: 0.9471\n",
            "Epoch 3/10\n",
            "250/250 [==============================] - 1s 4ms/step - loss: 0.1106 - accuracy: 0.9621\n",
            "Epoch 4/10\n",
            "250/250 [==============================] - 1s 3ms/step - loss: 0.0924 - accuracy: 0.9676\n",
            "Epoch 5/10\n",
            "250/250 [==============================] - 1s 4ms/step - loss: 0.0828 - accuracy: 0.9720\n",
            "Epoch 6/10\n",
            "250/250 [==============================] - 1s 2ms/step - loss: 0.0743 - accuracy: 0.9749\n",
            "Epoch 7/10\n",
            "250/250 [==============================] - 0s 2ms/step - loss: 0.0663 - accuracy: 0.9776\n",
            "Epoch 8/10\n",
            "250/250 [==============================] - 0s 2ms/step - loss: 0.0639 - accuracy: 0.9778\n",
            "Epoch 9/10\n",
            "250/250 [==============================] - 0s 2ms/step - loss: 0.0574 - accuracy: 0.9805\n",
            "Epoch 10/10\n",
            "250/250 [==============================] - 0s 2ms/step - loss: 0.0517 - accuracy: 0.9818\n",
            "125/125 [==============================] - 0s 1ms/step\n",
            "Test Accuracy: 0.9818\n"
          ]
        }
      ]
    },
    {
      "cell_type": "markdown",
      "source": [
        "## **b) Evaluate**"
      ],
      "metadata": {
        "id": "qDZMZE-r-BpJ"
      }
    },
    {
      "cell_type": "markdown",
      "source": [
        "Defining functions"
      ],
      "metadata": {
        "id": "NP90aLHf-roT"
      }
    },
    {
      "cell_type": "code",
      "source": [
        "def create_and_train_RBFNN(X_train, y_train, X_test, y_test):\n",
        "    # Initialize the network\n",
        "    n_inputs = X_train.shape[1]\n",
        "    n_hidden = 3\n",
        "    model = Sequential()\n",
        "    model.add(Dense(n_hidden, input_shape=(n_inputs,), activation='relu', trainable=False))\n",
        "\n",
        "    # Define the radial basis functions\n",
        "    kmeans = KMeans(n_clusters=n_hidden, random_state=27)\n",
        "    kmeans.fit(X_train)\n",
        "    cluster_assignments = kmeans.predict(X_train)\n",
        "\n",
        "    # Train the first layer\n",
        "    model.compile(optimizer='adam', loss='sparse_categorical_crossentropy')\n",
        "    model.fit(X_train, cluster_assignments, epochs=10, batch_size=32, verbose=0)\n",
        "\n",
        "    # Adding more hidden layers\n",
        "    model.add(Dense(64, activation='relu'))\n",
        "    model.add(Dense(64, activation='relu'))\n",
        "\n",
        "    # Add the output layer\n",
        "    model.add(Dense(1, activation='sigmoid', kernel_initializer=initializers.he_normal()))\n",
        "    model.compile(optimizer='adam', loss='binary_crossentropy', metrics=['accuracy'])\n",
        "    model.fit(X_train, y_train, epochs=10, batch_size=32, verbose=0)\n",
        "\n",
        "    # Fine-tune both layers\n",
        "    model.layers[0].trainable = True\n",
        "    model.compile(optimizer='adam', loss='binary_crossentropy', metrics=['accuracy'])\n",
        "    model.fit(X_train, y_train, epochs=10, batch_size=32, validation_data=(X_test, y_test), verbose=0)\n",
        "\n",
        "    return model\n",
        "    "
      ],
      "metadata": {
        "id": "R7ePw8LLbEmI"
      },
      "execution_count": 53,
      "outputs": []
    },
    {
      "cell_type": "code",
      "source": [
        "def plot_confusion_matrix_RBFNN(y_true, y_pred, cmap):\n",
        "    \"\"\"\n",
        "    Plot a confusion matrix using seaborn's heatmap function.\n",
        "    \n",
        "    Parameters\n",
        "    ----------\n",
        "    y_true : numpy array\n",
        "        1D array of true class labels (binary: 0 or 1).\n",
        "    y_pred : numpy array\n",
        "        1D array of predicted class labels (binary: 0 or 1).\n",
        "    cmap : str\n",
        "        Colormap to use for the plot. \n",
        "        \n",
        "    \"\"\"\n",
        "    # Generate a confusion matrix\n",
        "    confusion_mat = confusion_matrix(y_true, y_pred)\n",
        "\n",
        "    # Create a figure and axis\n",
        "    fig, ax = plt.subplots(figsize=(10, 8))\n",
        "\n",
        "    # Use seaborn's heatmap function to create a more professional-looking plot\n",
        "    sns.heatmap(confusion_mat, annot=True, fmt='d', cmap=cmap, \n",
        "                xticklabels=['Negative', 'Positive'], yticklabels=['Negative', 'Positive'], ax=ax)\n",
        "\n",
        "    # Add labels for the x and y axes\n",
        "    ax.set_xlabel('Predicted', fontsize=14)\n",
        "    ax.set_ylabel('True', fontsize=14)\n",
        "\n",
        "    # Add a title\n",
        "    ax.set_title('Confusion Matrix', fontsize=18)\n",
        "\n",
        "    # Show the plot\n",
        "    plt.show()\n"
      ],
      "metadata": {
        "id": "cEVxPvXID03W"
      },
      "execution_count": 54,
      "outputs": []
    },
    {
      "cell_type": "code",
      "source": [
        "def evaluate_model(y_true, y_pred):\n",
        "    \"\"\"\n",
        "    Calculate and print evaluation metrics for a binary machine learning model.\n",
        "    \n",
        "    Parameters\n",
        "    ----------\n",
        "    y_true : numpy array\n",
        "        1D array of true binary class labels (0 or 1).\n",
        "    y_pred : numpy array\n",
        "        1D array of predicted binary class labels (0 or 1).\n",
        "    \"\"\"\n",
        "    # Calculate evaluation metrics\n",
        "    accuracy = accuracy_score(y_true, y_pred)\n",
        "    precision = precision_score(y_true, y_pred)\n",
        "    recall = recall_score(y_true, y_pred)\n",
        "    f1 = f1_score(y_true, y_pred)\n",
        "\n",
        "    # Print evaluation metrics\n",
        "    print(\"Accuracy: {:.4f}\".format(accuracy))\n",
        "    print(\"Precision: {:.4f}\".format(precision))\n",
        "    print(\"Recall: {:.4f}\".format(recall))\n",
        "    print(\"F1-score: {:.4f}\".format(f1))\n"
      ],
      "metadata": {
        "id": "TEJNeqR4FeDG"
      },
      "execution_count": 55,
      "outputs": []
    },
    {
      "cell_type": "markdown",
      "source": [
        "Showing that the training has achieved convergence in each case"
      ],
      "metadata": {
        "id": "N88S4Okt-K5U"
      }
    },
    {
      "cell_type": "markdown",
      "source": [
        "### **Split 1**"
      ],
      "metadata": {
        "id": "tGKDApwd-O0T"
      }
    },
    {
      "cell_type": "code",
      "source": [
        "# Load and preprocess the data\n",
        "X_train = X_train_2_sp1\n",
        "y_train = y_train_2_sp1\n",
        "X_test = X_test_2_sp1\n",
        "y_test = y_test_2_sp1\n",
        "\n",
        "model = create_and_train_RBFNN(X_train, y_train, X_test, y_test)"
      ],
      "metadata": {
        "id": "ZC04UmEZbp2f"
      },
      "execution_count": 39,
      "outputs": []
    },
    {
      "cell_type": "code",
      "source": [
        "predictions = model.predict(X_test, verbose=0)\n",
        "predictions = np.round(predictions)\n",
        "plot_confusion_matrix_RBFNN(y_test, predictions, 'Blues')"
      ],
      "metadata": {
        "id": "tOJCQB27BuAN",
        "outputId": "dd4e7dfb-8c96-48a8-c9f7-bced00e4f310",
        "colab": {
          "base_uri": "https://localhost:8080/",
          "height": 521
        }
      },
      "execution_count": 42,
      "outputs": [
        {
          "output_type": "display_data",
          "data": {
            "text/plain": [
              "<Figure size 720x576 with 2 Axes>"
            ],
            "image/png": "[encoded data removed]"
          },
          "metadata": {
            "needs_background": "light"
          }
        }
      ]
    },
    {
      "cell_type": "code",
      "source": [
        "evaluate_model(y_test, predictions)"
      ],
      "metadata": {
        "id": "LIdxM7TTFlU7",
        "outputId": "2b614b68-8376-472f-b1df-684415e2f776",
        "colab": {
          "base_uri": "https://localhost:8080/"
        }
      },
      "execution_count": 46,
      "outputs": [
        {
          "output_type": "stream",
          "name": "stdout",
          "text": [
            "Accuracy: 0.9693\n",
            "Precision: 0.9700\n",
            "Recall: 0.9685\n",
            "F1-score: 0.9692\n"
          ]
        }
      ]
    },
    {
      "cell_type": "markdown",
      "source": [
        "### **Split 2**"
      ],
      "metadata": {
        "id": "wkzV2nMT-Psi"
      }
    },
    {
      "cell_type": "code",
      "source": [
        "# Load and preprocess the data\n",
        "X_train = X_train_2_sp2\n",
        "y_train = y_train_2_sp2\n",
        "X_test = X_test_2_sp2\n",
        "y_test = y_test_2_sp2\n",
        "\n",
        "model = create_and_train_RBFNN(X_train, y_train, X_test, y_test)"
      ],
      "metadata": {
        "id": "FaNeisQ_b2Gy"
      },
      "execution_count": 47,
      "outputs": []
    },
    {
      "cell_type": "code",
      "source": [
        "predictions = model.predict(X_test, verbose=0)\n",
        "predictions = np.round(predictions)\n",
        "plot_confusion_matrix_RBFNN(y_test, predictions, 'Reds')"
      ],
      "metadata": {
        "id": "3mwZS5QSBv15",
        "outputId": "fc4ffa42-3604-4ed2-a9de-146e5460624c",
        "colab": {
          "base_uri": "https://localhost:8080/",
          "height": 521
        }
      },
      "execution_count": 48,
      "outputs": [
        {
          "output_type": "display_data",
          "data": {
            "text/plain": [
              "<Figure size 720x576 with 2 Axes>"
            ],
            "image/png": "[encoded data removed]"
          },
          "metadata": {
            "needs_background": "light"
          }
        }
      ]
    },
    {
      "cell_type": "code",
      "source": [
        "evaluate_model(y_test, predictions)"
      ],
      "metadata": {
        "id": "CwtyHYeNFmJY",
        "outputId": "a0d4e579-0ae2-44ab-e462-43e50dd25ffe",
        "colab": {
          "base_uri": "https://localhost:8080/"
        }
      },
      "execution_count": 49,
      "outputs": [
        {
          "output_type": "stream",
          "name": "stdout",
          "text": [
            "Accuracy: 0.9385\n",
            "Precision: 0.9606\n",
            "Recall: 0.9144\n",
            "F1-score: 0.9369\n"
          ]
        }
      ]
    },
    {
      "cell_type": "markdown",
      "source": [
        "### **Split 3**"
      ],
      "metadata": {
        "id": "SpWjlaRb-Q3v"
      }
    },
    {
      "cell_type": "code",
      "source": [
        "# Load and preprocess the data\n",
        "X_train = X_train_2_sp3\n",
        "y_train = y_train_2_sp3\n",
        "X_test = X_test_2_sp3\n",
        "y_test = y_test_2_sp3\n",
        "\n",
        "model = create_and_train_RBFNN(X_train, y_train, X_test, y_test)"
      ],
      "metadata": {
        "id": "4QWcoAolb5F-"
      },
      "execution_count": 50,
      "outputs": []
    },
    {
      "cell_type": "code",
      "source": [
        "predictions = model.predict(X_test, verbose=0)\n",
        "predictions = np.round(predictions)\n",
        "plot_confusion_matrix_RBFNN(y_test, predictions, 'Greens')"
      ],
      "metadata": {
        "id": "dq3Sb5dTBwlc",
        "outputId": "aabf285a-4097-4905-9225-c8a88ac9b3b4",
        "colab": {
          "base_uri": "https://localhost:8080/",
          "height": 521
        }
      },
      "execution_count": 51,
      "outputs": [
        {
          "output_type": "display_data",
          "data": {
            "text/plain": [
              "<Figure size 720x576 with 2 Axes>"
            ],
            "image/png": "[encoded data removed]"
          },
          "metadata": {
            "needs_background": "light"
          }
        }
      ]
    },
    {
      "cell_type": "code",
      "source": [
        "evaluate_model(y_test, predictions)"
      ],
      "metadata": {
        "id": "-vC6VmhQFnDz",
        "outputId": "2c32f44a-e77d-4022-9026-137f12f4cb3c",
        "colab": {
          "base_uri": "https://localhost:8080/"
        }
      },
      "execution_count": 52,
      "outputs": [
        {
          "output_type": "stream",
          "name": "stdout",
          "text": [
            "Accuracy: 0.9520\n",
            "Precision: 0.9603\n",
            "Recall: 0.9430\n",
            "F1-score: 0.9516\n"
          ]
        }
      ]
    }
  ]
}